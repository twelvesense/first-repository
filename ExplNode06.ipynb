{
  "nbformat": 4,
  "nbformat_minor": 0,
  "metadata": {
    "colab": {
      "name": "ExplNode06.ipynb",
      "provenance": [],
      "collapsed_sections": [],
      "authorship_tag": "ABX9TyMhww/+mgUjIJ++ntgg4u15",
      "include_colab_link": true
    },
    "kernelspec": {
      "name": "python3",
      "display_name": "Python 3"
    },
    "language_info": {
      "name": "python"
    }
  },
  "cells": [
    {
      "cell_type": "markdown",
      "metadata": {
        "id": "view-in-github",
        "colab_type": "text"
      },
      "source": [
        "<a href=\"https://colab.research.google.com/github/twelvesense/first-repository/blob/master/ExplNode06.ipynb\" target=\"_parent\"><img src=\"https://colab.research.google.com/assets/colab-badge.svg\" alt=\"Open In Colab\"/></a>"
      ]
    },
    {
      "cell_type": "markdown",
      "source": [
        "# 프로젝트: "
      ],
      "metadata": {
        "id": "H7Y58OA38ag3"
      }
    },
    {
      "cell_type": "markdown",
      "source": [
        "# 1 데이터 준비 "
      ],
      "metadata": {
        "id": "QqzFKCv3Aqjl"
      }
    },
    {
      "cell_type": "markdown",
      "source": [
        "## 1-1. 필요한 라이브러리 불러오기"
      ],
      "metadata": {
        "id": "nrb5ndJ9Ao-g"
      }
    },
    {
      "cell_type": "code",
      "execution_count": null,
      "metadata": {
        "id": "FrBODSCuVjgC"
      },
      "outputs": [],
      "source": [
        "import os, re \n",
        "import glob\n",
        "import tensorflow as tf\n",
        "# from tensorflow import keras\n",
        "# import numpy as np"
      ]
    },
    {
      "cell_type": "code",
      "source": [
        "import warnings\n",
        "warnings.filterwarnings(\"ignore\")\n",
        "import os, re\n",
        "from PIL import Image\n",
        "import glob\n",
        "import numpy as np\n",
        "from os.path import join\n",
        "import pandas as pd\n",
        "import matplotlib.pyplot as plt\n",
        "import tensorflow as tf\n",
        "from tensorflow import keras\n",
        "from sklearn.model_selection import train_test_split"
      ],
      "metadata": {
        "id": "e4zFUXC4Dy31"
      },
      "execution_count": 22,
      "outputs": []
    },
    {
      "cell_type": "markdown",
      "source": [
        "## 1-2. corpus 파일 download하기"
      ],
      "metadata": {
        "id": "o1udTHDCAx9Z"
      }
    },
    {
      "cell_type": "code",
      "source": [
        "!rm -r /content/lyrics\n",
        "!mkdir -p /content/lyrics\n",
        "!wget -O /content/lyrics.zip https://raw.githubusercontent.com/twelvesense/first-repository/master/data/lyrics/lyrics.zip\n",
        "!unzip /content/lyrics.zip -d /content/lyrics\n",
        "!rm /content/lyrics.zip"
      ],
      "metadata": {
        "id": "gpoAcRyWA-9P"
      },
      "execution_count": null,
      "outputs": []
    },
    {
      "cell_type": "code",
      "source": [
        "txt_file_path = '/content/lyrics/*'\n",
        "txt_list = glob.glob(txt_file_path)\n",
        "\n",
        "raw_corpus = []\n",
        "\n",
        "# 여러개의 txt 파일을 모두 읽어서 raw_corpus 에 담습니다.\n",
        "# for txt_file in txt_list:\n",
        "# file = open('/content/lyrics/britney-spears.txt', 'r')\n",
        "file = open('test.txt', 'w')\n",
        "file.write('test only')\n",
        "!ls\n",
        "# raw = file.read().splitlines()\n",
        "# with open('/content/lyrics/britney-spears.txt', 'r') as f:\n",
        "    # raw = f.read().splitlines()\n",
        "    # raw_corpus.extend(raw)\n",
        "# for txt_file in txt_list:\n",
        "    # print(txt_file)\n",
        "    # with open(txt_file, \"r\") as f:\n",
        "    #     raw = f.read().splitlines()\n",
        "    #     raw_corpus.extend(raw)\n",
        "# print(\"데이터 크기:\", len(raw_corpus))\n",
        "# print(\"Examples:\\n\", raw_corpus[:3])"
      ],
      "metadata": {
        "id": "4jEP-JdW9_TT",
        "outputId": "597f0c51-22af-4f2d-fe2c-9812ac3a0184",
        "colab": {
          "base_uri": "https://localhost:8080/",
          "height": 241
        }
      },
      "execution_count": 40,
      "outputs": [
        {
          "output_type": "error",
          "ename": "TypeError",
          "evalue": "ignored",
          "traceback": [
            "\u001b[0;31m---------------------------------------------------------------------------\u001b[0m",
            "\u001b[0;31mTypeError\u001b[0m                                 Traceback (most recent call last)",
            "\u001b[0;32m<ipython-input-40-3bd06eda22a6>\u001b[0m in \u001b[0;36m<module>\u001b[0;34m()\u001b[0m\n\u001b[1;32m      7\u001b[0m \u001b[0;31m# for txt_file in txt_list:\u001b[0m\u001b[0;34m\u001b[0m\u001b[0;34m\u001b[0m\u001b[0;34m\u001b[0m\u001b[0m\n\u001b[1;32m      8\u001b[0m \u001b[0;31m# file = open('/content/lyrics/britney-spears.txt', 'r')\u001b[0m\u001b[0;34m\u001b[0m\u001b[0;34m\u001b[0m\u001b[0;34m\u001b[0m\u001b[0m\n\u001b[0;32m----> 9\u001b[0;31m \u001b[0mfile\u001b[0m \u001b[0;34m=\u001b[0m \u001b[0mopen\u001b[0m\u001b[0;34m(\u001b[0m\u001b[0;34m'test.txt'\u001b[0m\u001b[0;34m,\u001b[0m \u001b[0;34m'w'\u001b[0m\u001b[0;34m)\u001b[0m\u001b[0;34m\u001b[0m\u001b[0;34m\u001b[0m\u001b[0m\n\u001b[0m\u001b[1;32m     10\u001b[0m \u001b[0mfile\u001b[0m\u001b[0;34m.\u001b[0m\u001b[0mwrite\u001b[0m\u001b[0;34m(\u001b[0m\u001b[0;34m'test only'\u001b[0m\u001b[0;34m)\u001b[0m\u001b[0;34m\u001b[0m\u001b[0;34m\u001b[0m\u001b[0m\n\u001b[1;32m     11\u001b[0m \u001b[0mget_ipython\u001b[0m\u001b[0;34m(\u001b[0m\u001b[0;34m)\u001b[0m\u001b[0;34m.\u001b[0m\u001b[0msystem\u001b[0m\u001b[0;34m(\u001b[0m\u001b[0;34m'ls'\u001b[0m\u001b[0;34m)\u001b[0m\u001b[0;34m\u001b[0m\u001b[0;34m\u001b[0m\u001b[0m\n",
            "\u001b[0;31mTypeError\u001b[0m: open() takes 1 positional argument but 2 were given"
          ]
        }
      ]
    },
    {
      "cell_type": "code",
      "source": [
        ""
      ],
      "metadata": {
        "id": "_5tbmV8jIFR9"
      },
      "execution_count": null,
      "outputs": []
    }
  ]
}
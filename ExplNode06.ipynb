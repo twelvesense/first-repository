{
  "nbformat": 4,
  "nbformat_minor": 0,
  "metadata": {
    "colab": {
      "name": "ExplNode06.ipynb",
      "provenance": [],
      "collapsed_sections": [],
      "toc_visible": true,
      "authorship_tag": "ABX9TyOJuGSg+EeFqDVOjD6in48Q",
      "include_colab_link": true
    },
    "kernelspec": {
      "name": "python3",
      "display_name": "Python 3"
    },
    "language_info": {
      "name": "python"
    }
  },
  "cells": [
    {
      "cell_type": "markdown",
      "metadata": {
        "id": "view-in-github",
        "colab_type": "text"
      },
      "source": [
        "<a href=\"https://colab.research.google.com/github/twelvesense/first-repository/blob/master/ExplNode06.ipynb\" target=\"_parent\"><img src=\"https://colab.research.google.com/assets/colab-badge.svg\" alt=\"Open In Colab\"/></a>"
      ]
    },
    {
      "cell_type": "markdown",
      "source": [
        "# 프로젝트: 멋진 작사가 만들기"
      ],
      "metadata": {
        "id": "H7Y58OA38ag3"
      }
    },
    {
      "cell_type": "markdown",
      "source": [
        "# 1 개요"
      ],
      "metadata": {
        "id": "ZNi-HieyNthJ"
      }
    },
    {
      "cell_type": "markdown",
      "source": [
        "## 1-1. 목표\n",
        "- 입력 한 단어로, 문장을 만드는 LSTM이용한 NN을 구현한다.\n",
        "- loss 2.2 이하"
      ],
      "metadata": {
        "id": "mYzHL5k9PUiO"
      }
    },
    {
      "cell_type": "markdown",
      "source": [
        "## 1-2. 방법\n",
        "- NN구성: Embedding 레이어 1개, LSTM 레이어 2개, Dense 레이어 1개 순\n",
        "- tf.keras.preprocessing.text.Tokenizer를 이용해 corpus를 tensor로 변환\n",
        "- tf.data.Dataset.from_tensor_slices()를 이용해 tensor를 tf.data.Dataset객체로 변환\n",
        "- 너무 긴 문장은 노래 가사 작사하기에 어울리지 않을 수 있기에, corpus기준으로 token수를 15로 제한\n",
        "- 하이퍼파라미터를 tuning한다."
      ],
      "metadata": {
        "id": "NqYeus28PV8V"
      }
    },
    {
      "cell_type": "markdown",
      "source": [
        "## 1-3. 사전 준비"
      ],
      "metadata": {
        "id": "EzSDEIHIpgfR"
      }
    },
    {
      "cell_type": "markdown",
      "source": [
        "### ■ 기본 라이브러리 load하기"
      ],
      "metadata": {
        "id": "GDCfgdRvppX5"
      }
    },
    {
      "cell_type": "code",
      "source": [
        "# import warnings\n",
        "# warnings.filterwarnings(\"ignore\")\n",
        "# import pandas as pd\n",
        "import numpy as np\n",
        "import os, re\n",
        "import glob\n",
        "import matplotlib.pyplot as plt\n",
        "import tensorflow as tf\n",
        "from sklearn.model_selection import train_test_split"
      ],
      "metadata": {
        "id": "6rBBxFLBpkyQ"
      },
      "execution_count": 2,
      "outputs": []
    },
    {
      "cell_type": "markdown",
      "source": [
        "### ■ 기본 code load하기"
      ],
      "metadata": {
        "id": "NLHYFHmap4Oe"
      }
    },
    {
      "cell_type": "code",
      "source": [
        "def preprocess_sentence(sentence):\n",
        "    sentence = sentence.lower().strip() # 1. 소문자로 바꾸고, 양쪽 공백을 지웁니다\n",
        "    sentence = re.sub(r\"([?.!,¿])\", r\" \\1 \", sentence) # 2. 특수문자 양쪽에 공백을 넣고\n",
        "    sentence = re.sub(r'[\" \"]+', \" \", sentence) # 3. 여러개의 공백은 하나의 공백으로 바꿉니다\n",
        "    sentence = re.sub(r\"[^a-zA-Z?.!,¿]+\", \" \", sentence) #  4. a-zA-Z?.!,¿가 아닌 모든 문자를 하나의 공백으로 바꿉니다\n",
        "    sentence = sentence.strip() # 5. 다시 양쪽 공백을 지웁니다\n",
        "    sentence = '<start> ' + sentence + ' <end>' # 6. 문장 시작에는 <start>, 끝에는 <end>를 추가합니다\n",
        "    return sentence\n",
        "\n",
        "def tokenize(corpus):\n",
        "    tokenizer = tf.keras.preprocessing.text.Tokenizer(\n",
        "        num_words=7000,               # 7000단어를 기억할 수 있는 tokenizer\n",
        "        filters=' ',                  # 앞에서 preprocess하므로, 여기서는 불필요\n",
        "        oov_token=\"<unk>\"             # 7000단어에 포함되지 못한 단어는 '<unk>'로 바꿈\n",
        "    )\n",
        "    tokenizer.fit_on_texts(corpus)\n",
        "    tensor = tokenizer.texts_to_sequences(corpus)  \n",
        "    tensor = tf.keras.preprocessing.sequence.pad_sequences(tensor, padding='post')  \n",
        "\n",
        "    print(tensor,tokenizer)\n",
        "    return tensor, tokenizer\n",
        "\n",
        "class TextGenerator(tf.keras.Model):\n",
        "    def __init__(self, vocab_size, embedding_size, hidden_size):\n",
        "        super().__init__()\n",
        "        \n",
        "        self.embedding = tf.keras.layers.Embedding(vocab_size, embedding_size)\n",
        "        self.rnn_1 = tf.keras.layers.LSTM(hidden_size, return_sequences=True)\n",
        "        self.rnn_2 = tf.keras.layers.LSTM(hidden_size, return_sequences=True)\n",
        "        self.linear = tf.keras.layers.Dense(vocab_size)\n",
        "        \n",
        "    def call(self, x):\n",
        "        out = self.embedding(x)\n",
        "        out = self.rnn_1(out)\n",
        "        out = self.rnn_2(out)\n",
        "        out = self.linear(out)\n",
        "        \n",
        "        return out\n",
        "\n",
        "def generate_text(model, tokenizer, init_sentence=\"<start>\", max_len=20):\n",
        "    # 테스트를 위해서 입력받은 init_sentence를 텐서로 변환합니다\n",
        "    test_input = tokenizer.texts_to_sequences([init_sentence])\n",
        "    test_tensor = tf.convert_to_tensor(test_input, dtype=tf.int64)\n",
        "    end_token = tokenizer.word_index[\"<end>\"]\n",
        "\n",
        "    # 단어 하나씩 예측해 문장을 만듭니다\n",
        "    #    1. 입력받은 문장의 텐서를 입력합니다\n",
        "    #    2. 예측된 값 중 가장 높은 확률인 word index를 뽑아냅니다\n",
        "    #    3. 2에서 예측된 word index를 문장 뒤에 붙입니다\n",
        "    #    4. 모델이 <end>를 예측했거나, max_len에 도달했다면 문장 생성을 마칩니다\n",
        "    while True:\n",
        "        # 1\n",
        "        predict = model(test_tensor) \n",
        "        # 2\n",
        "        predict_word = tf.argmax(tf.nn.softmax(predict, axis=-1), axis=-1)[:, -1] \n",
        "        # 3 \n",
        "        test_tensor = tf.concat([test_tensor, tf.expand_dims(predict_word, axis=0)], axis=-1)\n",
        "        # 4\n",
        "        if predict_word.numpy()[0] == end_token: break\n",
        "        if test_tensor.shape[1] >= max_len: break\n",
        "\n",
        "    generated = \"\"\n",
        "    # tokenizer를 이용해 word index를 단어로 하나씩 변환합니다 \n",
        "    for word_index in test_tensor[0].numpy():\n",
        "        generated += tokenizer.index_word[word_index] + \" \"\n",
        "\n",
        "    return generated  "
      ],
      "metadata": {
        "id": "p76-YBxMp9sl"
      },
      "execution_count": 3,
      "outputs": []
    },
    {
      "cell_type": "markdown",
      "source": [
        "# 2 데이터 준비"
      ],
      "metadata": {
        "id": "QqzFKCv3Aqjl"
      }
    },
    {
      "cell_type": "markdown",
      "source": [
        "## 2-1. raw corpus 파일 download하기"
      ],
      "metadata": {
        "id": "o1udTHDCAx9Z"
      }
    },
    {
      "cell_type": "code",
      "source": [
        "!rm -r /content/lyrics\n",
        "!mkdir -p /content/lyrics\n",
        "!wget -O /content/lyrics.zip https://raw.githubusercontent.com/twelvesense/first-repository/master/data/lyrics/lyrics.zip\n",
        "!unzip /content/lyrics.zip -d /content/lyrics\n",
        "!rm /content/lyrics.zip"
      ],
      "metadata": {
        "id": "gpoAcRyWA-9P",
        "colab": {
          "base_uri": "https://localhost:8080/"
        },
        "outputId": "98eae1b4-d178-4d72-b291-2aab202cf4fe"
      },
      "execution_count": 4,
      "outputs": [
        {
          "output_type": "stream",
          "name": "stdout",
          "text": [
            "--2022-05-19 15:48:10--  https://raw.githubusercontent.com/twelvesense/first-repository/master/data/lyrics/lyrics.zip\n",
            "Resolving raw.githubusercontent.com (raw.githubusercontent.com)... 185.199.108.133, 185.199.111.133, 185.199.110.133, ...\n",
            "Connecting to raw.githubusercontent.com (raw.githubusercontent.com)|185.199.108.133|:443... connected.\n",
            "HTTP request sent, awaiting response... 200 OK\n",
            "Length: 2004593 (1.9M) [application/zip]\n",
            "Saving to: ‘/content/lyrics.zip’\n",
            "\n",
            "/content/lyrics.zip 100%[===================>]   1.91M  --.-KB/s    in 0.06s   \n",
            "\n",
            "2022-05-19 15:48:10 (32.3 MB/s) - ‘/content/lyrics.zip’ saved [2004593/2004593]\n",
            "\n",
            "Archive:  /content/lyrics.zip\n",
            "  inflating: /content/lyrics/adele.txt  \n",
            "  inflating: /content/lyrics/al-green.txt  \n",
            "  inflating: /content/lyrics/alicia-keys.txt  \n",
            "  inflating: /content/lyrics/amy-winehouse.txt  \n",
            "  inflating: /content/lyrics/beatles.txt  \n",
            "  inflating: /content/lyrics/bieber.txt  \n",
            "  inflating: /content/lyrics/bjork.txt  \n",
            "  inflating: /content/lyrics/blink-182.txt  \n",
            "  inflating: /content/lyrics/bob-dylan.txt  \n",
            "  inflating: /content/lyrics/bob-marley.txt  \n",
            "  inflating: /content/lyrics/britney-spears.txt  \n",
            "  inflating: /content/lyrics/bruce-springsteen.txt  \n",
            "  inflating: /content/lyrics/bruno-mars.txt  \n",
            "  inflating: /content/lyrics/cake.txt  \n",
            "  inflating: /content/lyrics/dickinson.txt  \n",
            "  inflating: /content/lyrics/disney.txt  \n",
            "  inflating: /content/lyrics/dj-khaled.txt  \n",
            "  inflating: /content/lyrics/dolly-parton.txt  \n",
            "  inflating: /content/lyrics/dr-seuss.txt  \n",
            "  inflating: /content/lyrics/drake.txt  \n",
            "  inflating: /content/lyrics/eminem.txt  \n",
            "  inflating: /content/lyrics/janisjoplin.txt  \n",
            "  inflating: /content/lyrics/jimi-hendrix.txt  \n",
            "  inflating: /content/lyrics/johnny-cash.txt  \n",
            "  inflating: /content/lyrics/joni-mitchell.txt  \n",
            "  inflating: /content/lyrics/kanye-west.txt  \n",
            "  inflating: /content/lyrics/kanye.txt  \n",
            "  inflating: /content/lyrics/Kanye_West.txt  \n",
            "  inflating: /content/lyrics/lady-gaga.txt  \n",
            "  inflating: /content/lyrics/leonard-cohen.txt  \n",
            "  inflating: /content/lyrics/lil-wayne.txt  \n",
            "  inflating: /content/lyrics/Lil_Wayne.txt  \n",
            "  inflating: /content/lyrics/lin-manuel-miranda.txt  \n",
            "  inflating: /content/lyrics/lorde.txt  \n",
            "  inflating: /content/lyrics/ludacris.txt  \n",
            "  inflating: /content/lyrics/michael-jackson.txt  \n",
            "  inflating: /content/lyrics/missy-elliott.txt  \n",
            "  inflating: /content/lyrics/nickelback.txt  \n",
            "  inflating: /content/lyrics/nicki-minaj.txt  \n",
            "  inflating: /content/lyrics/nirvana.txt  \n",
            "  inflating: /content/lyrics/notorious-big.txt  \n",
            "  inflating: /content/lyrics/notorious_big.txt  \n",
            "  inflating: /content/lyrics/nursery_rhymes.txt  \n",
            "  inflating: /content/lyrics/patti-smith.txt  \n",
            "  inflating: /content/lyrics/paul-simon.txt  \n",
            "  inflating: /content/lyrics/prince.txt  \n",
            "  inflating: /content/lyrics/r-kelly.txt  \n",
            "  inflating: /content/lyrics/radiohead.txt  \n",
            "  inflating: /content/lyrics/rihanna.txt  \n"
          ]
        }
      ]
    },
    {
      "cell_type": "code",
      "source": [
        "txt_file_path = '/content/lyrics/*'\n",
        "txt_list = glob.glob(txt_file_path)\n",
        "raw_corpus = []\n",
        "\n",
        "for txt_file in txt_list:\n",
        "    with open(txt_file, \"r\") as f:\n",
        "        raw = f.read().splitlines()\n",
        "        raw_corpus.extend(raw)"
      ],
      "metadata": {
        "id": "forhEnlCt2kT"
      },
      "execution_count": 5,
      "outputs": []
    },
    {
      "cell_type": "markdown",
      "source": [
        "## 2-2. corpus 파일 분석하기"
      ],
      "metadata": {
        "id": "y5GOuRjMqPwL"
      }
    },
    {
      "cell_type": "code",
      "source": [
        "print(\"데이터 크기:\", len(raw_corpus))\n",
        "print(\"Examples:\")\n",
        "raw_corpus[:10]"
      ],
      "metadata": {
        "id": "4jEP-JdW9_TT",
        "outputId": "26d193ff-4188-4c3d-e1b4-f74fe1b3b8a3",
        "colab": {
          "base_uri": "https://localhost:8080/"
        }
      },
      "execution_count": 6,
      "outputs": [
        {
          "output_type": "stream",
          "name": "stdout",
          "text": [
            "데이터 크기: 187088\n",
            "Examples:\n"
          ]
        },
        {
          "output_type": "execute_result",
          "data": {
            "text/plain": [
              "['They say get ready for the revolution',\n",
              " \"I think it's time we find some sorta solution\",\n",
              " \"Somebody's caught up in the endless pollution\",\n",
              " 'They need to wake up, stop living illusions I know you need to hear this',\n",
              " \"Why won't somebody feel this\",\n",
              " 'This is my wish that we all feel connected',\n",
              " 'This is my wish that nobodies neglected Be like a rocket baby',\n",
              " 'Be like a rocket Take off',\n",
              " 'Just fly, away (ay, ay)',\n",
              " 'To find your space Take off']"
            ]
          },
          "metadata": {},
          "execution_count": 6
        }
      ]
    },
    {
      "cell_type": "markdown",
      "source": [
        "## 2-4. 데이터 전처리하기"
      ],
      "metadata": {
        "id": "dZ29Iq-_QGFO"
      }
    },
    {
      "cell_type": "markdown",
      "source": [
        "### ■ corpus 생성 시, sentence별 token수를 최대 15개로 제한하기"
      ],
      "metadata": {
        "id": "oaUy3czJbxIf"
      }
    },
    {
      "cell_type": "code",
      "source": [
        "MAX_LEN = 15                                  # sentence별 최대 token수\n",
        "num_removed = 0                               # token수가 15초과하는 sentence의 수\n",
        "corpus = []\n",
        "\n",
        "for sentence in raw_corpus:\n",
        "    if len(sentence) == 0: continue            # 문장길이 0\n",
        "    if sentence[-1] == \":\": continue           # 문장끝 :\n",
        "    \n",
        "    preprocessed_sentence = preprocess_sentence(sentence)\n",
        "    # 15개 까지만...\n",
        "    if (preprocessed_sentence[:preprocessed_sentence.find('<end>')].count(' ') + 1) > MAX_LEN: \n",
        "        num_removed += 1\n",
        "        continue\n",
        "    corpus.append(preprocessed_sentence)"
      ],
      "metadata": {
        "id": "t0_Fj3gWGvB_"
      },
      "execution_count": 7,
      "outputs": []
    },
    {
      "cell_type": "code",
      "source": [
        "num_removed                                     # token수가 15초과하여 corpus에 제외된 sentence의 수"
      ],
      "metadata": {
        "id": "PnL4rUXEvegQ",
        "outputId": "83a44346-2d06-4664-a465-5d478c8ba366",
        "colab": {
          "base_uri": "https://localhost:8080/"
        }
      },
      "execution_count": 8,
      "outputs": [
        {
          "output_type": "execute_result",
          "data": {
            "text/plain": [
              "19736"
            ]
          },
          "metadata": {},
          "execution_count": 8
        }
      ]
    },
    {
      "cell_type": "code",
      "source": [
        "print(\"데이터 크기:\", len(corpus))\n",
        "print(\"Examples:\")\n",
        "corpus[:10]"
      ],
      "metadata": {
        "colab": {
          "base_uri": "https://localhost:8080/"
        },
        "id": "zYQMX3pXJPJi",
        "outputId": "a468999e-6b16-4c2e-cc73-b681df006962"
      },
      "execution_count": 9,
      "outputs": [
        {
          "output_type": "stream",
          "name": "stdout",
          "text": [
            "데이터 크기: 156013\n",
            "Examples:\n"
          ]
        },
        {
          "output_type": "execute_result",
          "data": {
            "text/plain": [
              "['<start> they say get ready for the revolution <end>',\n",
              " '<start> i think it s time we find some sorta solution <end>',\n",
              " '<start> somebody s caught up in the endless pollution <end>',\n",
              " '<start> why won t somebody feel this <end>',\n",
              " '<start> this is my wish that we all feel connected <end>',\n",
              " '<start> this is my wish that nobodies neglected be like a rocket baby <end>',\n",
              " '<start> be like a rocket take off <end>',\n",
              " '<start> just fly , away ay , ay <end>',\n",
              " '<start> to find your space take off <end>',\n",
              " '<start> just fly , away ay , ay <end>']"
            ]
          },
          "metadata": {},
          "execution_count": 9
        }
      ]
    },
    {
      "cell_type": "markdown",
      "source": [
        "## 2-5. tensor 생성하기"
      ],
      "metadata": {
        "id": "cREkHISvG2oi"
      }
    },
    {
      "cell_type": "code",
      "source": [
        "tensor, tokenizer = tokenize(corpus)"
      ],
      "metadata": {
        "id": "K1zKe6tZS6pa",
        "colab": {
          "base_uri": "https://localhost:8080/"
        },
        "outputId": "886a55bf-39d5-45b3-e8cb-8d79b2484041"
      },
      "execution_count": 10,
      "outputs": [
        {
          "output_type": "stream",
          "name": "stdout",
          "text": [
            "[[   2   38   71 ...    0    0    0]\n",
            " [   2    4  130 ...    0    0    0]\n",
            " [   2  246   17 ...    0    0    0]\n",
            " ...\n",
            " [   2   20  149 ...    0    0    0]\n",
            " [   2    4   35 ...    3    0    0]\n",
            " [   2 1061   10 ...    0    0    0]] <keras_preprocessing.text.Tokenizer object at 0x7fdb14743b10>\n"
          ]
        }
      ]
    },
    {
      "cell_type": "markdown",
      "source": [
        "## 2-6. tensor 분석하기"
      ],
      "metadata": {
        "id": "tnpYH4SkTLOw"
      }
    },
    {
      "cell_type": "code",
      "source": [
        "len(tensor)"
      ],
      "metadata": {
        "colab": {
          "base_uri": "https://localhost:8080/"
        },
        "id": "BtSTk_qbId_z",
        "outputId": "f2b1b9e7-2660-425a-82a9-f29861903456"
      },
      "execution_count": 11,
      "outputs": [
        {
          "output_type": "execute_result",
          "data": {
            "text/plain": [
              "156013"
            ]
          },
          "metadata": {},
          "execution_count": 11
        }
      ]
    },
    {
      "cell_type": "code",
      "source": [
        "tensor[0:10,:]"
      ],
      "metadata": {
        "colab": {
          "base_uri": "https://localhost:8080/"
        },
        "id": "cMLSJ7YmIFzF",
        "outputId": "9e22b01c-b71c-4b47-827d-561150b54f9e"
      },
      "execution_count": 12,
      "outputs": [
        {
          "output_type": "execute_result",
          "data": {
            "text/plain": [
              "array([[   2,   38,   71,   43,  294,   28,    6, 3273,    3,    0,    0,\n",
              "           0,    0,    0,    0],\n",
              "       [   2,    4,  130,   11,   17,   76,   21,  207,   94, 3521, 6826,\n",
              "           3,    0,    0,    0],\n",
              "       [   2,  246,   17,  622,   29,   14,    6, 3069,    1,    3,    0,\n",
              "           0,    0,    0,    0],\n",
              "       [   2,  119,  178,   16,  246,  106,   41,    3,    0,    0,    0,\n",
              "           0,    0,    0,    0],\n",
              "       [   2,   41,   26,   13,  275,   15,   21,   25,  106, 5061,    3,\n",
              "           0,    0,    0,    0],\n",
              "       [   2,   41,   26,   13,  275,   15,    1,    1,   27,   23,    9,\n",
              "        2967,   52,    3,    0],\n",
              "       [   2,   27,   23,    9, 2967,   83,  117,    3,    0,    0,    0,\n",
              "           0,    0,    0,    0],\n",
              "       [   2,   32,  254,    5,  138,  610,    5,  610,    3,    0,    0,\n",
              "           0,    0,    0,    0],\n",
              "       [   2,   10,  207,   19,  689,   83,  117,    3,    0,    0,    0,\n",
              "           0,    0,    0,    0],\n",
              "       [   2,   32,  254,    5,  138,  610,    5,  610,    3,    0,    0,\n",
              "           0,    0,    0,    0]], dtype=int32)"
            ]
          },
          "metadata": {},
          "execution_count": 12
        }
      ]
    },
    {
      "cell_type": "markdown",
      "source": [
        "## 2-7. source 문장, target 문장 만들기"
      ],
      "metadata": {
        "id": "hx7d3s8ygcJf"
      }
    },
    {
      "cell_type": "code",
      "source": [
        "# tensor에서 마지막 token을 잘라내서 source 문장을 생성\n",
        "# 마지막 token은 <end>가 아니라 <pad>일 가능성이 높습니다.\n",
        "src_input = tensor[:, :-1]\n",
        "# tensor에서 <start>를 잘라내서 target 문장을 생성합니다.\n",
        "tgt_input = tensor[:, 1:]"
      ],
      "metadata": {
        "id": "_5tbmV8jIFR9"
      },
      "execution_count": 13,
      "outputs": []
    },
    {
      "cell_type": "code",
      "source": [
        "print(src_input[0])\n",
        "print(tgt_input[0])"
      ],
      "metadata": {
        "id": "BeHakRruTc-F",
        "colab": {
          "base_uri": "https://localhost:8080/"
        },
        "outputId": "d847aa03-2806-4cc7-93a4-6de81d4d56d9"
      },
      "execution_count": 14,
      "outputs": [
        {
          "output_type": "stream",
          "name": "stdout",
          "text": [
            "[   2   38   71   43  294   28    6 3273    3    0    0    0    0    0]\n",
            "[  38   71   43  294   28    6 3273    3    0    0    0    0    0    0]\n"
          ]
        }
      ]
    },
    {
      "cell_type": "markdown",
      "source": [
        "## 2-8. validataion test용으로 dataset 나누기"
      ],
      "metadata": {
        "id": "v8Re96eRaZn8"
      }
    },
    {
      "cell_type": "code",
      "source": [
        "# validataion test용으로 8:2로 나누기\n",
        "enc_train, enc_val, dec_train, dec_val = train_test_split(src_input, \n",
        "                                                          tgt_input,\n",
        "                                                          test_size=0.2,\n",
        "                                                          shuffle=True, \n",
        "                                                          random_state=22)"
      ],
      "metadata": {
        "id": "lRS1hFtCS44q"
      },
      "execution_count": 15,
      "outputs": []
    },
    {
      "cell_type": "markdown",
      "source": [
        "# 3 모델 설계"
      ],
      "metadata": {
        "id": "kXWJ5i6Ir7KK"
      }
    },
    {
      "cell_type": "markdown",
      "source": [
        "## 3-1. Model Subclassing 방식으로 구현"
      ],
      "metadata": {
        "id": "6iP_4pj7bXvr"
      }
    },
    {
      "cell_type": "markdown",
      "source": [
        "### ■ 1개의 Embedding 레이어, 2개의 LSTM 레이어, 1개의 Dense 레이어로 구성하기"
      ],
      "metadata": {
        "id": "M2aFutfJr4OY"
      }
    },
    {
      "cell_type": "code",
      "source": [
        "embedding_size = 14\n",
        "hidden_size = 1024\n",
        "VOCAB_SIZE = tokenizer.num_words + 1         # tokenizer가 구축한 단어사전 내 7000개와, 여기 포함되지 않은 0:<pad>를 포함하여 7001개\n",
        "\n",
        "model = TextGenerator(VOCAB_SIZE, embedding_size , hidden_size)"
      ],
      "metadata": {
        "id": "Jhq66CGLbigo"
      },
      "execution_count": 16,
      "outputs": []
    },
    {
      "cell_type": "markdown",
      "source": [
        "## 3-2. 기타 하이퍼파라미터 설정하기"
      ],
      "metadata": {
        "id": "--A0aTnV1kpk"
      }
    },
    {
      "cell_type": "code",
      "source": [
        "epochs = 5\n",
        "optimizer = tf.keras.optimizers.Adam()\n",
        "loss = tf.keras.losses.SparseCategoricalCrossentropy(from_logits=True, reduction='none')\n",
        "model.compile(loss=loss, optimizer=optimizer)"
      ],
      "metadata": {
        "id": "vmuFWLsKbUOf"
      },
      "execution_count": 17,
      "outputs": []
    },
    {
      "cell_type": "markdown",
      "source": [
        "### ■ model에 일부 데이터를 태워 input shape 확인하기"
      ],
      "metadata": {
        "id": "Z7OXj_k2YIOh"
      }
    },
    {
      "cell_type": "code",
      "source": [
        "BUFFER_SIZE = len(src_input)\n",
        "BATCH_SIZE = 256\n",
        "steps_per_epoch = BUFFER_SIZE // BATCH_SIZE\n",
        "\n",
        "dataset = tf.data.Dataset.from_tensor_slices((src_input, tgt_input))\n",
        "dataset = dataset.shuffle(BUFFER_SIZE)\n",
        "dataset = dataset.batch(BATCH_SIZE, drop_remainder=True)\n",
        "\n",
        "# 한 배치만 불러온 데이터를 모델에 넣어봅니다\n",
        "for src_sample, tgt_sample in dataset.take(1): break\n",
        "model(src_sample)"
      ],
      "metadata": {
        "id": "Jm4VqZbxLAZs",
        "colab": {
          "base_uri": "https://localhost:8080/"
        },
        "outputId": "0fdccfa4-237a-4ad2-b0ab-041fb4cc06d5"
      },
      "execution_count": 19,
      "outputs": [
        {
          "output_type": "execute_result",
          "data": {
            "text/plain": [
              "<tf.Tensor: shape=(256, 14, 7001), dtype=float32, numpy=\n",
              "array([[[-3.05581052e-05, -1.01678001e-04, -2.76625051e-05, ...,\n",
              "         -2.37722816e-06, -6.35645774e-05,  6.85178893e-05],\n",
              "        [-1.19763106e-04, -7.99276895e-05, -5.94757585e-05, ...,\n",
              "         -4.00447170e-05, -6.30353825e-05,  7.44961944e-05],\n",
              "        [-1.34122209e-04, -3.04518398e-05, -4.47010498e-05, ...,\n",
              "         -2.94994534e-05, -3.60709164e-05,  5.83175060e-05],\n",
              "        ...,\n",
              "        [ 3.04233617e-05,  1.14800270e-04,  1.73843699e-04, ...,\n",
              "         -7.81622948e-05,  3.59097176e-05,  2.97314371e-04],\n",
              "        [ 3.57958234e-05,  4.69887673e-05,  2.42151495e-04, ...,\n",
              "         -6.97787182e-05,  1.90301434e-05,  3.15860467e-04],\n",
              "        [ 1.04432780e-04,  5.60759436e-05,  3.20733758e-04, ...,\n",
              "         -7.91610801e-05,  8.75983460e-05,  3.24723718e-04]],\n",
              "\n",
              "       [[-3.05581052e-05, -1.01678001e-04, -2.76625051e-05, ...,\n",
              "         -2.37722816e-06, -6.35645774e-05,  6.85178893e-05],\n",
              "        [-5.73325997e-05, -1.40940319e-04, -3.54131334e-05, ...,\n",
              "         -1.38379492e-05, -4.76900532e-05,  8.54004757e-05],\n",
              "        [-7.55064975e-05, -1.88253092e-04,  2.38677603e-06, ...,\n",
              "         -4.48859755e-05, -5.08285957e-05,  8.20255736e-05],\n",
              "        ...,\n",
              "        [ 4.39984782e-04,  2.47715507e-04,  5.94805228e-04, ...,\n",
              "         -3.74751224e-04,  1.05158787e-03, -3.31430521e-04],\n",
              "        [ 4.43273224e-04,  2.48852710e-04,  6.17851154e-04, ...,\n",
              "         -3.90177709e-04,  1.13053282e-03, -3.92690592e-04],\n",
              "        [ 4.40903066e-04,  2.44132214e-04,  6.32933108e-04, ...,\n",
              "         -4.02506004e-04,  1.19481876e-03, -4.48098523e-04]],\n",
              "\n",
              "       [[-3.05581052e-05, -1.01678001e-04, -2.76625051e-05, ...,\n",
              "         -2.37722816e-06, -6.35645774e-05,  6.85178893e-05],\n",
              "        [-5.46183983e-05, -8.67357885e-05, -3.85407911e-05, ...,\n",
              "          2.34567924e-05, -9.56679869e-05,  1.08540007e-04],\n",
              "        [-4.46716476e-05, -4.72104693e-05,  5.33845014e-06, ...,\n",
              "          1.15411814e-04, -1.62227225e-04,  9.20111415e-05],\n",
              "        ...,\n",
              "        [ 4.96924971e-04,  3.59638652e-04,  5.26970252e-04, ...,\n",
              "         -1.89179613e-04,  6.96495117e-04, -4.15853719e-06],\n",
              "        [ 5.17641427e-04,  3.75396601e-04,  5.81144821e-04, ...,\n",
              "         -2.34244915e-04,  8.26326723e-04, -8.87202186e-05],\n",
              "        [ 5.26542310e-04,  3.77618358e-04,  6.22588850e-04, ...,\n",
              "         -2.71443423e-04,  9.40720318e-04, -1.72963133e-04]],\n",
              "\n",
              "       ...,\n",
              "\n",
              "       [[-3.05581052e-05, -1.01678001e-04, -2.76625051e-05, ...,\n",
              "         -2.37722816e-06, -6.35645774e-05,  6.85178893e-05],\n",
              "        [-8.31948346e-05, -1.72631073e-04, -2.21759256e-05, ...,\n",
              "          8.40456778e-06, -1.62335797e-04,  1.33408859e-04],\n",
              "        [-1.74333109e-04, -1.80949253e-04, -3.67784232e-05, ...,\n",
              "         -1.40873090e-05, -2.24999938e-04,  1.36629940e-04],\n",
              "        ...,\n",
              "        [ 3.28596070e-04,  9.62021077e-05,  9.64037754e-05, ...,\n",
              "         -3.55895492e-04,  2.93666468e-04, -6.10723728e-05],\n",
              "        [ 3.85317195e-04,  1.56060123e-04,  1.80117873e-04, ...,\n",
              "         -3.80751037e-04,  4.83244454e-04, -1.02739039e-04],\n",
              "        [ 4.23417601e-04,  1.99055547e-04,  2.60859146e-04, ...,\n",
              "         -4.00461489e-04,  6.59086218e-04, -1.52986773e-04]],\n",
              "\n",
              "       [[-3.05581052e-05, -1.01678001e-04, -2.76625051e-05, ...,\n",
              "         -2.37722816e-06, -6.35645774e-05,  6.85178893e-05],\n",
              "        [-5.73051293e-05, -1.39603231e-04, -3.87992841e-05, ...,\n",
              "         -2.60292254e-05, -1.33907815e-04,  1.06832813e-04],\n",
              "        [ 2.57490501e-05, -2.12239203e-04,  3.27567977e-06, ...,\n",
              "         -1.28338434e-05, -1.84330507e-04,  1.51608430e-04],\n",
              "        ...,\n",
              "        [ 7.14083581e-05,  3.76235112e-05,  3.36085970e-04, ...,\n",
              "         -1.76634669e-04,  1.08498418e-04, -2.20315153e-04],\n",
              "        [ 1.31294553e-04,  6.16426914e-05,  4.16209892e-04, ...,\n",
              "         -2.23850191e-04,  1.87232275e-04, -2.42645649e-04],\n",
              "        [ 2.02590207e-04,  1.00145829e-04,  4.96103137e-04, ...,\n",
              "         -2.65302864e-04,  2.94690981e-04, -2.66176707e-04]],\n",
              "\n",
              "       [[-3.05581052e-05, -1.01678001e-04, -2.76625051e-05, ...,\n",
              "         -2.37722816e-06, -6.35645774e-05,  6.85178893e-05],\n",
              "        [ 9.66732478e-06, -1.28838554e-04,  3.74398442e-05, ...,\n",
              "         -7.60211478e-05, -1.16266900e-04,  8.75012774e-05],\n",
              "        [-2.62686663e-05, -1.69911509e-04,  4.75414745e-05, ...,\n",
              "         -1.53729285e-04, -1.25010891e-04,  1.86299221e-04],\n",
              "        ...,\n",
              "        [-1.04379840e-04, -1.88211125e-05,  2.71786761e-04, ...,\n",
              "         -7.79714319e-05,  2.42345821e-04,  3.71394417e-04],\n",
              "        [ 2.38607754e-06,  9.53564013e-05,  3.43082182e-04, ...,\n",
              "         -1.28391810e-04,  3.85508378e-04,  3.11373238e-04],\n",
              "        [ 1.02653488e-04,  1.89640399e-04,  4.12729220e-04, ...,\n",
              "         -1.77719907e-04,  5.33181068e-04,  2.31574682e-04]]],\n",
              "      dtype=float32)>"
            ]
          },
          "metadata": {},
          "execution_count": 19
        }
      ]
    },
    {
      "cell_type": "markdown",
      "source": [
        "- 출력 tensor shape은 (256, 14, 7001)임\n",
        "- 7001에는 token별 확률 표현\n",
        "- 14는 입력 sequence와 동일한 길이의 출력 sequence를 나타냄\n",
        "- 256은 이전 스텝에서 지정한 배치 사이즈"
      ],
      "metadata": {
        "id": "m0qKrAvkY5t9"
      }
    },
    {
      "cell_type": "markdown",
      "source": [
        "## 3-3. 모델 summary"
      ],
      "metadata": {
        "id": "07nHXwJp5_tp"
      }
    },
    {
      "cell_type": "code",
      "source": [
        "model.summary()\n",
        "tf.keras.utils.plot_model(\n",
        "    model, \n",
        "    show_shapes=True, \n",
        "    show_layer_names=True,\n",
        "    dpi = 70)"
      ],
      "metadata": {
        "id": "NkCi-giYLF4j",
        "colab": {
          "base_uri": "https://localhost:8080/",
          "height": 365
        },
        "outputId": "0d009c40-2b6c-4f73-fc07-da3ff52c457b"
      },
      "execution_count": 20,
      "outputs": [
        {
          "output_type": "stream",
          "name": "stdout",
          "text": [
            "Model: \"text_generator\"\n",
            "_________________________________________________________________\n",
            " Layer (type)                Output Shape              Param #   \n",
            "=================================================================\n",
            " embedding (Embedding)       multiple                  98014     \n",
            "                                                                 \n",
            " lstm (LSTM)                 multiple                  4255744   \n",
            "                                                                 \n",
            " lstm_1 (LSTM)               multiple                  8392704   \n",
            "                                                                 \n",
            " dense (Dense)               multiple                  7176025   \n",
            "                                                                 \n",
            "=================================================================\n",
            "Total params: 19,922,487\n",
            "Trainable params: 19,922,487\n",
            "Non-trainable params: 0\n",
            "_________________________________________________________________\n"
          ]
        },
        {
          "output_type": "execute_result",
          "data": {
            "text/plain": [
              "<IPython.core.display.Image object>"
            ],
            "image/png": "[encoded data removed]"
          },
          "metadata": {},
          "execution_count": 20
        }
      ]
    },
    {
      "cell_type": "markdown",
      "source": [
        "# 4 모델 학습"
      ],
      "metadata": {
        "id": "gAbT7tesYp3x"
      }
    },
    {
      "cell_type": "code",
      "source": [
        "history = []\n",
        "\n",
        "history = model.fit(enc_train, dec_train, \n",
        "          epochs=epochs,                         # 10\n",
        "          batch_size=BATCH_SIZE,                 # 256\n",
        "          validation_data=(enc_val, dec_val),\n",
        "          verbose=1)"
      ],
      "metadata": {
        "id": "8cNBXHBzZafG",
        "outputId": "8eae8fe0-b584-4648-9a5b-a1024906a4fe",
        "colab": {
          "base_uri": "https://localhost:8080/"
        }
      },
      "execution_count": 21,
      "outputs": [
        {
          "output_type": "stream",
          "name": "stdout",
          "text": [
            "Epoch 1/5\n",
            "488/488 [==============================] - 4795s 10s/step - loss: 3.5072 - val_loss: 3.1574\n",
            "Epoch 2/5\n",
            "488/488 [==============================] - 5389s 11s/step - loss: 3.0552 - val_loss: 2.9825\n",
            "Epoch 3/5\n",
            "488/488 [==============================] - 5523s 11s/step - loss: 2.9072 - val_loss: 2.8819\n",
            "Epoch 4/5\n",
            "488/488 [==============================] - 5016s 10s/step - loss: 2.8092 - val_loss: 2.8163\n",
            "Epoch 5/5\n",
            "488/488 [==============================] - 5377s 11s/step - loss: 2.7304 - val_loss: 2.7706\n"
          ]
        }
      ]
    },
    {
      "cell_type": "markdown",
      "source": [
        "# 5 모델 평가"
      ],
      "metadata": {
        "id": "ZXzx1CsCaPCP"
      }
    },
    {
      "cell_type": "markdown",
      "source": [
        "- generate_text 함수는 시작 단어(들)을 받은 모델이 작문하게 하며, 평가는 우선 주관적 평가를 할 수 있다.\n",
        "- 다음의 3가지 예에 대해서, corpus를 통한 단어의 발생확률을 잘 반영한 듯 하다.\n",
        "- 의미적으로는 조금 어색한 부분도 있지만, 문법적으로 잘 작성되었다.\n",
        "- 시간상 제약이 따르지만, 개선을 위해서, 보다 많은 word 수, 모델의 파라미터나 layer를 추가할 필요가 있다."
      ],
      "metadata": {
        "id": "O0tsfd7n8CUf"
      }
    },
    {
      "cell_type": "code",
      "source": [
        "generate_text(model, tokenizer, init_sentence=\"<start> i love\")"
      ],
      "metadata": {
        "colab": {
          "base_uri": "https://localhost:8080/",
          "height": 35
        },
        "id": "OFvq5NUkKyAy",
        "outputId": "00ac7459-bc19-4d6f-ead2-fc9354648c6a"
      },
      "execution_count": 22,
      "outputs": [
        {
          "output_type": "execute_result",
          "data": {
            "text/plain": [
              "'<start> i love you to get my mind <end> '"
            ],
            "application/vnd.google.colaboratory.intrinsic+json": {
              "type": "string"
            }
          },
          "metadata": {},
          "execution_count": 22
        }
      ]
    },
    {
      "cell_type": "code",
      "source": [
        "generate_text(model, tokenizer, init_sentence=\"<start> you love\")"
      ],
      "metadata": {
        "id": "i6nj-SZFoKIR",
        "outputId": "548365c0-21e0-43a1-b37f-9716b3e89fa5",
        "colab": {
          "base_uri": "https://localhost:8080/",
          "height": 35
        }
      },
      "execution_count": 36,
      "outputs": [
        {
          "output_type": "execute_result",
          "data": {
            "text/plain": [
              "'<start> you love me , <end> '"
            ],
            "application/vnd.google.colaboratory.intrinsic+json": {
              "type": "string"
            }
          },
          "metadata": {},
          "execution_count": 36
        }
      ]
    },
    {
      "cell_type": "code",
      "source": [
        "generate_text(model, tokenizer, init_sentence=\"<start> he likes\")"
      ],
      "metadata": {
        "id": "QqefSEmGlF0_",
        "outputId": "4f0b356f-7088-45ec-bc0f-e26fca30b701",
        "colab": {
          "base_uri": "https://localhost:8080/",
          "height": 35
        }
      },
      "execution_count": 35,
      "outputs": [
        {
          "output_type": "execute_result",
          "data": {
            "text/plain": [
              "'<start> he likes me , i m <unk> <end> '"
            ],
            "application/vnd.google.colaboratory.intrinsic+json": {
              "type": "string"
            }
          },
          "metadata": {},
          "execution_count": 35
        }
      ]
    },
    {
      "cell_type": "markdown",
      "source": [
        "- loss곡선을 보면, epoch 3에서 cross되고, 이는 overfitting의 결과로 보인다."
      ],
      "metadata": {
        "id": "UzmD2htluydd"
      }
    },
    {
      "cell_type": "code",
      "source": [
        "y_vloss = history.history['val_loss']    # validation dataset의 loss\n",
        "y_loss = history.history['loss']         # train dataset의 loss\n",
        "\n",
        "x_len = np.arange(len(y_loss))\n",
        "plt.plot(x_len, y_vloss, marker='.', c=\"red\", label='ValidationSet_loss')\n",
        "plt.plot(x_len, y_loss, marker='^', c=\"blue\", label='TrainSet_loss')\n",
        "plt.legend(loc='upper right')\n",
        "plt.grid()\n",
        "plt.xlabel('Epochs')\n",
        "plt.ylabel('Loss')\n",
        "plt.show()"
      ],
      "metadata": {
        "id": "x1KKjn50sJDt",
        "outputId": "939cc404-9387-49a1-e6e2-8a140e7fabd9",
        "colab": {
          "base_uri": "https://localhost:8080/",
          "height": 279
        }
      },
      "execution_count": 44,
      "outputs": [
        {
          "output_type": "display_data",
          "data": {
            "text/plain": [
              "<Figure size 432x288 with 1 Axes>"
            ],
            "image/png": "[encoded data removed]"
          },
          "metadata": {
            "needs_background": "light"
          }
        }
      ]
    },
    {
      "cell_type": "markdown",
      "source": [
        "# 6 회고"
      ],
      "metadata": {
        "id": "D83tA9zBuilT"
      }
    },
    {
      "cell_type": "markdown",
      "source": [
        "- 간단한 LSTM으로도 적어도 문법적으로는 그럴싸 한 결과를 얻을 수 있었다.\n",
        "- 다만, loss개선을 위해서, 보다 깊은 NN을 설계할 필요성을 느꼈다.\n",
        "- 충분한 validation시험이 필요했었고, epoch수도 늘리고, 다양한 하이퍼파라미터 조정도 필요했었다.\n",
        "- overfit방지를 위한 drop out 등 고려해야할 것이 많았지만, 시간상 제약으로 실천하기에 어려움이 있었다."
      ],
      "metadata": {
        "id": "KaFmnrQPulgd"
      }
    }
  ]
}
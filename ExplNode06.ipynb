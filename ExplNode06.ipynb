{
  "nbformat": 4,
  "nbformat_minor": 0,
  "metadata": {
    "colab": {
      "name": "ExplNode06.ipynb",
      "provenance": [],
      "collapsed_sections": [],
      "toc_visible": true,
      "authorship_tag": "ABX9TyN6dQsvgOFI0YrpQA2If1KM",
      "include_colab_link": true
    },
    "kernelspec": {
      "name": "python3",
      "display_name": "Python 3"
    },
    "language_info": {
      "name": "python"
    }
  },
  "cells": [
    {
      "cell_type": "markdown",
      "metadata": {
        "id": "view-in-github",
        "colab_type": "text"
      },
      "source": [
        "<a href=\"https://colab.research.google.com/github/twelvesense/first-repository/blob/master/ExplNode06.ipynb\" target=\"_parent\"><img src=\"https://colab.research.google.com/assets/colab-badge.svg\" alt=\"Open In Colab\"/></a>"
      ]
    },
    {
      "cell_type": "markdown",
      "source": [
        "# 프로젝트: 멋진 작사가 만들기"
      ],
      "metadata": {
        "id": "H7Y58OA38ag3"
      }
    },
    {
      "cell_type": "markdown",
      "source": [
        "# 1 개요"
      ],
      "metadata": {
        "id": "ZNi-HieyNthJ"
      }
    },
    {
      "cell_type": "markdown",
      "source": [
        "## 1-1. 목표\n",
        "- LSTM를 이용하여, 입력이 한 단어일 때, 출력으로 문장을 만드는 NN 구현한다.\n",
        "- 노래 가사 작사 ???????????\n",
        "- 성능개선을 위한 분석한다."
      ],
      "metadata": {
        "id": "mYzHL5k9PUiO"
      }
    },
    {
      "cell_type": "markdown",
      "source": [
        "## 1-2. 방법\n",
        "- Keras의 LSTM와 과제에서 주어진 coupus와 code를 이용하여 구현한다.\n",
        "-  1개의 Embedding 레이어, 2개의 LSTM 레이어, 1개의 Dense 레이어로 구성되어 있습니다.\n",
        "- tf.keras.preprocessing.text.Tokenizer를 이용해 corpus를 텐서로 변환한다.\n",
        "- tf.data.Dataset.from_tensor_slices()를 이용해 corpus 텐서를 tf.data.Dataset객체로 변환한다.\n",
        "- 너무 긴 문장은 노래 가사 작사하기에 어울리지 않을 수도 있겠죠. 15로 제한\n",
        "- 성능평가 ?"
      ],
      "metadata": {
        "id": "NqYeus28PV8V"
      }
    },
    {
      "cell_type": "markdown",
      "source": [
        "# 2 데이터 준비 "
      ],
      "metadata": {
        "id": "QqzFKCv3Aqjl"
      }
    },
    {
      "cell_type": "markdown",
      "source": [
        "## 2-1. 기본 라이브러리 load하기"
      ],
      "metadata": {
        "id": "nrb5ndJ9Ao-g"
      }
    },
    {
      "cell_type": "code",
      "source": [
        "# import warnings\n",
        "# warnings.filterwarnings(\"ignore\")\n",
        "# import pandas as pd\n",
        "import numpy as np\n",
        "import os, re\n",
        "import glob\n",
        "import matplotlib.pyplot as plt\n",
        "import tensorflow as tf\n",
        "from sklearn.model_selection import train_test_split"
      ],
      "metadata": {
        "id": "e4zFUXC4Dy31"
      },
      "execution_count": 20,
      "outputs": []
    },
    {
      "cell_type": "markdown",
      "source": [
        "## 2-2. 기본 code load하기"
      ],
      "metadata": {
        "id": "9u1az-JmwcHL"
      }
    },
    {
      "cell_type": "markdown",
      "source": [
        "    maxlen = int(max_tokens)     \n",
        "    tensor = tf.keras.preprocessing.sequence.pad_sequences(tensor, padding='post', maxlen=maxlen)  "
      ],
      "metadata": {
        "id": "PCjJDaptw4zF"
      }
    },
    {
      "cell_type": "code",
      "source": [
        "def preprocess_sentence(sentence):\n",
        "    sentence = sentence.lower().strip() # 1. 소문자로 바꾸고, 양쪽 공백을 지웁니다\n",
        "    sentence = re.sub(r\"([?.!,¿])\", r\" \\1 \", sentence) # 2. 특수문자 양쪽에 공백을 넣고\n",
        "    sentence = re.sub(r'[\" \"]+', \" \", sentence) # 3. 여러개의 공백은 하나의 공백으로 바꿉니다\n",
        "    sentence = re.sub(r\"[^a-zA-Z?.!,¿]+\", \" \", sentence) #  4. a-zA-Z?.!,¿가 아닌 모든 문자를 하나의 공백으로 바꿉니다\n",
        "    sentence = sentence.strip() # 5. 다시 양쪽 공백을 지웁니다\n",
        "    sentence = '<start> ' + sentence + ' <end>' # 6. 문장 시작에는 <start>, 끝에는 <end>를 추가합니다\n",
        "    return sentence\n",
        "\n",
        "def tokenize(corpus):\n",
        "    tokenizer = tf.keras.preprocessing.text.Tokenizer(\n",
        "        num_words=7000,               # 7000단어를 기억할 수 있는 tokenizer\n",
        "        filters=' ',                  # 앞에서 preprocess하므로, 여기서는 불필요\n",
        "        oov_token=\"<unk>\"             # 7000단어에 포함되지 못한 단어는 '<unk>'로 바꿈\n",
        "    )\n",
        "    tokenizer.fit_on_texts(corpus)\n",
        "    tensor = tokenizer.texts_to_sequences(corpus)  \n",
        "\n",
        "    tensor = tf.keras.preprocessing.sequence.pad_sequences(tensor, padding='post')  \n",
        "    # maxlen = 15\n",
        "    # tensor = tf.keras.preprocessing.sequence.pad_sequences(tensor, padding='post', maxlen=maxlen)  \n",
        "\n",
        "    print(tensor,tokenizer)\n",
        "    return tensor, tokenizer\n",
        "\n",
        "class TextGenerator(tf.keras.Model):\n",
        "    def __init__(self, vocab_size, embedding_size, hidden_size):\n",
        "        super().__init__()\n",
        "        \n",
        "        self.embedding = tf.keras.layers.Embedding(vocab_size, embedding_size)\n",
        "        self.rnn_1 = tf.keras.layers.LSTM(hidden_size, return_sequences=True)\n",
        "        self.rnn_2 = tf.keras.layers.LSTM(hidden_size, return_sequences=True)\n",
        "        self.linear = tf.keras.layers.Dense(vocab_size)\n",
        "        \n",
        "    def call(self, x):\n",
        "        out = self.embedding(x)\n",
        "        out = self.rnn_1(out)\n",
        "        out = self.rnn_2(out)\n",
        "        out = self.linear(out)\n",
        "        \n",
        "        return out\n",
        "\n",
        "def generate_text(model, tokenizer, init_sentence=\"<start>\", max_len=20):\n",
        "    # 테스트를 위해서 입력받은 init_sentence를 텐서로 변환합니다\n",
        "    test_input = tokenizer.texts_to_sequences([init_sentence])\n",
        "    test_tensor = tf.convert_to_tensor(test_input, dtype=tf.int64)\n",
        "    end_token = tokenizer.word_index[\"<end>\"]\n",
        "\n",
        "    # 단어 하나씩 예측해 문장을 만듭니다\n",
        "    #    1. 입력받은 문장의 텐서를 입력합니다\n",
        "    #    2. 예측된 값 중 가장 높은 확률인 word index를 뽑아냅니다\n",
        "    #    3. 2에서 예측된 word index를 문장 뒤에 붙입니다\n",
        "    #    4. 모델이 <end>를 예측했거나, max_len에 도달했다면 문장 생성을 마칩니다\n",
        "    while True:\n",
        "        # 1\n",
        "        predict = model(test_tensor) \n",
        "        # 2\n",
        "        predict_word = tf.argmax(tf.nn.softmax(predict, axis=-1), axis=-1)[:, -1] \n",
        "        # 3 \n",
        "        test_tensor = tf.concat([test_tensor, tf.expand_dims(predict_word, axis=0)], axis=-1)\n",
        "        # 4\n",
        "        if predict_word.numpy()[0] == end_token: break\n",
        "        if test_tensor.shape[1] >= max_len: break\n",
        "\n",
        "    generated = \"\"\n",
        "    # tokenizer를 이용해 word index를 단어로 하나씩 변환합니다 \n",
        "    for word_index in test_tensor[0].numpy():\n",
        "        generated += tokenizer.index_word[word_index] + \" \"\n",
        "\n",
        "    return generated  "
      ],
      "metadata": {
        "id": "1X8stFCCwmft"
      },
      "execution_count": null,
      "outputs": []
    },
    {
      "cell_type": "markdown",
      "source": [
        "## 2-3. corpus 파일 download하기"
      ],
      "metadata": {
        "id": "o1udTHDCAx9Z"
      }
    },
    {
      "cell_type": "code",
      "source": [
        "!rm -r /content/lyrics\n",
        "!mkdir -p /content/lyrics\n",
        "!wget -O /content/lyrics.zip https://raw.githubusercontent.com/twelvesense/first-repository/master/data/lyrics/lyrics.zip\n",
        "!unzip /content/lyrics.zip -d /content/lyrics\n",
        "!rm /content/lyrics.zip"
      ],
      "metadata": {
        "id": "gpoAcRyWA-9P"
      },
      "execution_count": null,
      "outputs": []
    },
    {
      "cell_type": "code",
      "source": [
        "txt_file_path = '/content/lyrics/*'\n",
        "txt_list = glob.glob(txt_file_path)\n",
        "raw_corpus = []\n",
        "\n",
        "for txt_file in txt_list:\n",
        "    with open(txt_file, \"r\") as f:\n",
        "        raw = f.read().splitlines()\n",
        "        raw_corpus.extend(raw)\n",
        "\n",
        "print(\"데이터 크기:\", len(raw_corpus))\n",
        "print(\"Examples:\\n\", raw_corpus[:3])"
      ],
      "metadata": {
        "id": "4jEP-JdW9_TT",
        "outputId": "22244125-8bc0-4fc8-f982-ad8719e100c9",
        "colab": {
          "base_uri": "https://localhost:8080/"
        }
      },
      "execution_count": 5,
      "outputs": [
        {
          "output_type": "stream",
          "name": "stdout",
          "text": [
            "데이터 크기: 187088\n",
            "Examples:\n",
            " ['They say get ready for the revolution', \"I think it's time we find some sorta solution\", \"Somebody's caught up in the endless pollution\"]\n"
          ]
        }
      ]
    },
    {
      "cell_type": "code",
      "source": [
        "for idx, sentence in enumerate(raw_corpus):\n",
        "    if len(sentence) == 0: continue   # 길이가 0인 문장은 건너뜁니다.\n",
        "    if sentence[-1] == \":\": continue  # 문장의 끝이 : 인 문장은 건너뜁니다.\n",
        "\n",
        "    if idx >15: break   # 일단 문장 10개만 확인해 볼 겁니다.\n",
        "        \n",
        "    print(sentence)"
      ],
      "metadata": {
        "id": "hxKCfoekxDBl"
      },
      "execution_count": null,
      "outputs": []
    },
    {
      "cell_type": "markdown",
      "source": [
        "## 2-4. 데이터 전처리하기"
      ],
      "metadata": {
        "id": "dZ29Iq-_QGFO"
      }
    },
    {
      "cell_type": "markdown",
      "source": [
        "- 텐서만들기"
      ],
      "metadata": {
        "id": "oaUy3czJbxIf"
      }
    },
    {
      "cell_type": "code",
      "source": [
        "corpus = []\n",
        "\n",
        "for sentence in raw_corpus:\n",
        "    if len(sentence) == 0: continue            # 문장길이 0\n",
        "    if sentence[-1] == \":\": continue           # 문장끝 :\n",
        "    \n",
        "    preprocessed_sentence = preprocess_sentence(sentence)\n",
        "    corpus.append(preprocessed_sentence)\n",
        "        \n",
        "tensor, tokenizer = tokenize(corpus)"
      ],
      "metadata": {
        "id": "K1zKe6tZS6pa"
      },
      "execution_count": null,
      "outputs": []
    },
    {
      "cell_type": "markdown",
      "source": [
        "tensor분석하기"
      ],
      "metadata": {
        "id": "tnpYH4SkTLOw"
      }
    },
    {
      "cell_type": "markdown",
      "source": [
        "- 토큰화 했을 때 토큰의 개수가 15개를 넘어가는 문장을 학습 데이터에서 제외하기 를 권합니다."
      ],
      "metadata": {
        "id": "MFQ1eJGiWOjJ"
      }
    },
    {
      "cell_type": "code",
      "source": [
        " tokenizer.num_words"
      ],
      "metadata": {
        "id": "HGu8gvJzVJoK",
        "outputId": "de42e435-38f1-4611-8362-30e8aa53cd48",
        "colab": {
          "base_uri": "https://localhost:8080/"
        }
      },
      "execution_count": 21,
      "outputs": [
        {
          "output_type": "execute_result",
          "data": {
            "text/plain": [
              "7000"
            ]
          },
          "metadata": {},
          "execution_count": 21
        }
      ]
    },
    {
      "cell_type": "code",
      "source": [
        "print(tensor[:3, :10])"
      ],
      "metadata": {
        "id": "DgYgf8uQTNx-",
        "outputId": "30c2b5b9-f333-4ccd-b4ea-231ad6b514c5",
        "colab": {
          "base_uri": "https://localhost:8080/"
        }
      },
      "execution_count": 16,
      "outputs": [
        {
          "output_type": "stream",
          "name": "stdout",
          "text": [
            "[[   2   45   68   43  297   28    6 2109    3    0]\n",
            " [   2    5  126   11   16   73   23  204   99 3845]\n",
            " [   2  265   16  635   29   14    6 2963    1    3]]\n"
          ]
        }
      ]
    },
    {
      "cell_type": "code",
      "source": [
        "for idx in tokenizer.index_word:\n",
        "    print(idx, \":\", tokenizer.index_word[idx])\n",
        "\n",
        "    if idx >= 100: break"
      ],
      "metadata": {
        "id": "_Qq4hiALTRR_"
      },
      "execution_count": null,
      "outputs": []
    },
    {
      "cell_type": "markdown",
      "source": [
        "- LSTM에서 many to many의 답을 얻을 것이기 때문에 train은 첫 문장부터 끝에 하나뺀 문장들로 구성을 하고 target은 첫 단어 뺀 문장들로 구성을 합니다,"
      ],
      "metadata": {
        "id": "hx7d3s8ygcJf"
      }
    },
    {
      "cell_type": "code",
      "source": [
        "# tensor에서 마지막 토큰을 잘라내서 소스 문장을 생성합니다\n",
        "# 마지막 토큰은 <end>가 아니라 <pad>일 가능성이 높습니다.\n",
        "src_input = tensor[:, :-1]\n",
        "# tensor에서 <start>를 잘라내서 타겟 문장을 생성합니다.\n",
        "tgt_input = tensor[:, 1:]\n",
        "\n"
      ],
      "metadata": {
        "id": "_5tbmV8jIFR9",
        "colab": {
          "base_uri": "https://localhost:8080/"
        },
        "outputId": "bbb1dbe0-0fd2-44a1-e36a-5a22a2b17842"
      },
      "execution_count": 7,
      "outputs": [
        {
          "output_type": "stream",
          "name": "stdout",
          "text": [
            "[[   2   45   68 ...    0    0    0]\n",
            " [   2    5  126 ...    0    0    0]\n",
            " [   2  265   16 ...    0    0    0]\n",
            " ...\n",
            " [   2   19  155 ...    0    0    0]\n",
            " [   2    5   32 ...    0    0    0]\n",
            " [   2 1133   10 ...    0    0    0]] <keras_preprocessing.text.Tokenizer object at 0x7fd235782a90>\n"
          ]
        }
      ]
    },
    {
      "cell_type": "code",
      "source": [
        "print(src_input[0])\n",
        "print(tgt_input[0])"
      ],
      "metadata": {
        "id": "BeHakRruTc-F"
      },
      "execution_count": null,
      "outputs": []
    },
    {
      "cell_type": "markdown",
      "source": [
        "## 2-5. validataion용 data 생성하기"
      ],
      "metadata": {
        "id": "v8Re96eRaZn8"
      }
    },
    {
      "cell_type": "markdown",
      "source": [
        "- 사이킷 런 패키지를 이용해서 위에서 train과 target을 train과 validation 셋으로 분리를 해줍니다. 8:2로 분리를 하겠습니다."
      ],
      "metadata": {
        "id": "Y-mEK6a9gmZn"
      }
    },
    {
      "cell_type": "code",
      "source": [
        "# train, test 8:2로 나누기\n",
        "enc_train, enc_val, dec_train, dec_val = train_test_split(src_input, \n",
        "                                                          tgt_input,\n",
        "                                                          test_size=0.2,\n",
        "                                                          shuffle=True, \n",
        "                                                          random_state=22)"
      ],
      "metadata": {
        "id": "lRS1hFtCS44q"
      },
      "execution_count": null,
      "outputs": []
    },
    {
      "cell_type": "markdown",
      "source": [
        "- 1개의 Embedding 레이어, 2개의 LSTM 레이어, 1개의 Dense 레이어로 구성되어 있습니다."
      ],
      "metadata": {
        "id": "eRrBg9_bXq9w"
      }
    },
    {
      "cell_type": "markdown",
      "source": [
        "# 3 모델 설계"
      ],
      "metadata": {
        "id": "kXWJ5i6Ir7KK"
      }
    },
    {
      "cell_type": "markdown",
      "source": [
        "## 2-6. corpus 텐서를 tf.data.Dataset객체로 변환"
      ],
      "metadata": {
        "id": "6iP_4pj7bXvr"
      }
    },
    {
      "cell_type": "code",
      "source": [
        ""
      ],
      "metadata": {
        "id": "-YAci_IIKvoc"
      },
      "execution_count": 13,
      "outputs": []
    },
    {
      "cell_type": "code",
      "source": [
        "BUFFER_SIZE = len(src_input)\n",
        "print(BUFFER_SIZE)"
      ],
      "metadata": {
        "id": "5UB5Jit3dDn2",
        "outputId": "7e5dbb4b-3038-4af6-d2a1-26d6788b37cc",
        "colab": {
          "base_uri": "https://localhost:8080/"
        }
      },
      "execution_count": 18,
      "outputs": [
        {
          "output_type": "stream",
          "name": "stdout",
          "text": [
            "175749\n"
          ]
        }
      ]
    },
    {
      "cell_type": "code",
      "source": [
        "steps_per_epoch"
      ],
      "metadata": {
        "id": "_2uS1m2zdO8q",
        "outputId": "6daf659a-6e40-4378-eaee-f46b28d0e000",
        "colab": {
          "base_uri": "https://localhost:8080/"
        }
      },
      "execution_count": 19,
      "outputs": [
        {
          "output_type": "execute_result",
          "data": {
            "text/plain": [
              "686"
            ]
          },
          "metadata": {},
          "execution_count": 19
        }
      ]
    },
    {
      "cell_type": "markdown",
      "source": [
        "fdsafdsa"
      ],
      "metadata": {
        "id": "M2aFutfJr4OY"
      }
    },
    {
      "cell_type": "code",
      "source": [
        "embedding_size = 256\n",
        "hidden_size = 1024\n",
        "VOCAB_SIZE = tokenizer.num_words + 1         # tokenizer가 구축한 단어사전 내 7000개와, 여기 포함되지 않은 0:<pad>를 포함하여 7001개\n",
        "\n",
        "model = TextGenerator(VOCAB_SIZE, embedding_size , hidden_size)"
      ],
      "metadata": {
        "id": "Jhq66CGLbigo"
      },
      "execution_count": null,
      "outputs": []
    },
    {
      "cell_type": "code",
      "source": [
        "epochs = 10\n",
        "\n",
        "# optimizer와 loss등은 차차 배웁니다\n",
        "# 혹시 미리 알고 싶다면 아래 문서를 참고하세요\n",
        "# https://www.tensorflow.org/api_docs/python/tf/keras/optimizers\n",
        "# https://www.tensorflow.org/api_docs/python/tf/keras/losses\n",
        "# 양이 상당히 많은 편이니 지금 보는 것은 추천하지 않습니다\n",
        "optimizer = tf.keras.optimizers.Adam()\n",
        "loss = tf.keras.losses.SparseCategoricalCrossentropy(from_logits=True, reduction='none')\n",
        "model.compile(loss=loss, optimizer=optimizer)"
      ],
      "metadata": {
        "id": "vmuFWLsKbUOf"
      },
      "execution_count": null,
      "outputs": []
    },
    {
      "cell_type": "markdown",
      "source": [
        "- 문제점: 인력덴서가 무엇인지 미정상태\n",
        "- model에 데이터를 아주 조금 태워 보는 것도 방법입니다. model의 input shape가 결정되면서 model.build()가 자동으로 호출됩니다."
      ],
      "metadata": {
        "id": "Z7OXj_k2YIOh"
      }
    },
    {
      "cell_type": "code",
      "source": [
        "BUFFER_SIZE = len(src_input)\n",
        "BATCH_SIZE = 256\n",
        "steps_per_epoch = BUFFER_SIZE // BATCH_SIZE\n",
        "\n",
        "dataset = tf.data.Dataset.from_tensor_slices((src_input, tgt_input))\n",
        "dataset = dataset.shuffle(BUFFER_SIZE)\n",
        "dataset = dataset.batch(BATCH_SIZE, drop_remainder=True)\n",
        "\n",
        "# 한 배치만 불러온 데이터를 모델에 넣어봅니다\n",
        "for src_sample, tgt_sample in dataset.take(1): break\n",
        "model(src_sample)"
      ],
      "metadata": {
        "id": "Jm4VqZbxLAZs"
      },
      "execution_count": null,
      "outputs": []
    },
    {
      "cell_type": "markdown",
      "source": [
        "- 모델의 최종 출력 텐서 shape를 유심히 보면 shape=(256, 20, 7001)임을 알 수 있습니다. 7001은 Dense 레이어의 출력 차원수입니다. 7001개의 단어 중 어느 단어의 확률이 가장 높을지를 모델링해야 하기 때문입니다.\n",
        "- 256은 이전 스텝에서 지정한 배치 사이즈입니다. dataset.take(1)를 통해서 1개의 배치, 즉 256개의 문장 데이터를 가져온 것입니다."
      ],
      "metadata": {
        "id": "m0qKrAvkY5t9"
      }
    },
    {
      "cell_type": "markdown",
      "source": [
        "- 그렇다면 20은 무엇을 의미할까요? 비밀은 바로 tf.keras.layers.LSTM(hidden_size, return_sequences=True)로 호출한 LSTM 레이어에서 return_sequences=True이라고 지정한 부분에 있습니다. \n",
        "- 즉, LSTM은 자신에게 입력된 시퀀스의 길이만큼 동일한 길이의 시퀀스를 출력한다는 의미입니다. 만약 return_sequences=False였다면 LSTM 레이어는 1개의 벡터만 출력했을 것입니다."
      ],
      "metadata": {
        "id": "oOKugYWcY6dI"
      }
    },
    {
      "cell_type": "markdown",
      "source": [
        "- 그런데 문제는, 우리의 모델은 입력 데이터의 시퀀스 길이가 얼마인지 모른다는 점입니다. 모델을 만들면서 알려준 적도 없습니다. 그럼 20은 언제 알게된 것일까요? \n",
        "- 네, 그렇습니다. 데이터를 입력받으면서 비로소 알게 된 것입니다. 우리 데이터셋의 max_len이 20으로 맞춰져 있었던 것입니다."
      ],
      "metadata": {
        "id": "98EdJhDzZHZR"
      }
    },
    {
      "cell_type": "code",
      "source": [
        "model.summary()"
      ],
      "metadata": {
        "id": "NkCi-giYLF4j"
      },
      "execution_count": null,
      "outputs": []
    },
    {
      "cell_type": "markdown",
      "source": [
        "- 우리의 모델은 입력 시퀀스의 길이를 모르기 때문에 Output Shape를 특정할 수 없는 것입니다."
      ],
      "metadata": {
        "id": "TH_b3b4cZQox"
      }
    },
    {
      "cell_type": "markdown",
      "source": [
        "# 4 모델 학습"
      ],
      "metadata": {
        "id": "gAbT7tesYp3x"
      }
    },
    {
      "cell_type": "code",
      "source": [
        "# history = []\n",
        "# history = model.fit(dataset, epochs=30)\n",
        "\n",
        "history = model.fit(enc_train, dec_train, \n",
        "          epochs=epochs,                         # 10\n",
        "          batch_size=BATCH_SIZE,                 # 256\n",
        "          validation_data=(enc_val, dec_val),\n",
        "          verbose=1)"
      ],
      "metadata": {
        "id": "8cNBXHBzZafG"
      },
      "execution_count": null,
      "outputs": []
    },
    {
      "cell_type": "markdown",
      "source": [
        "- 이번처럼 작문 모델을 평가하는 가장 확실한 방법은 작문을 시켜보고 사람이 평가하는 겁니다.\n",
        "- 아래 generate_text 함수는 모델에게 시작 문장을 전달하면 모델이 시작 문장을 바탕으로 작문을 진행하게 합니다."
      ],
      "metadata": {
        "id": "OQ1h3z6UZr6d"
      }
    },
    {
      "cell_type": "markdown",
      "source": [
        "# 5 모델 평가"
      ],
      "metadata": {
        "id": "ZXzx1CsCaPCP"
      }
    },
    {
      "cell_type": "code",
      "source": [
        "# generate_text(model, tokenizer, init_sentence=\"<start> i love\", max_len=20)\n",
        "generate_text(model, tokenizer, init_sentence=\"<start> i love\")"
      ],
      "metadata": {
        "colab": {
          "base_uri": "https://localhost:8080/",
          "height": 35
        },
        "id": "OFvq5NUkKyAy",
        "outputId": "234185f1-458e-43dd-aa1f-e49a3271f988"
      },
      "execution_count": 12,
      "outputs": [
        {
          "output_type": "execute_result",
          "data": {
            "text/plain": [
              "'<start> i love rubies bloodstains ceased ceased busy busy cab cab pearls pearls had had sp sp steady steady steady '"
            ],
            "application/vnd.google.colaboratory.intrinsic+json": {
              "type": "string"
            }
          },
          "metadata": {},
          "execution_count": 12
        }
      ]
    },
    {
      "cell_type": "markdown",
      "source": [
        ""
      ],
      "metadata": {
        "id": "UzmD2htluydd"
      }
    },
    {
      "cell_type": "code",
      "source": [
        "def plot_curve(epochs, hist, list_of_metrics):\n",
        "    \n",
        "    fig, ax = plt.subplots(1,2,figsize = (12, 8))\n",
        "    \n",
        "    for i in range(len(ax)):\n",
        "        ax[i].set_xlabel('Epochs')\n",
        "        ax[i].set_ylabel('Value')\n",
        "        \n",
        "        for n in range(len(list_of_metrics)):\n",
        "            if i == 0:\n",
        "                y = hist[list_of_metrics[n]]\n",
        "                if n == 0:\n",
        "                    ax[i].plot(epochs, y, label=\"train\")\n",
        "                else:\n",
        "                    ax[i].plot(epochs, y, label=\"val\")\n",
        "                ax[i].set_title('Loss')\n",
        "                ax[i].legend(loc='upper right')\n",
        "                if n == 1:\n",
        "                    break\n",
        "            else:\n",
        "                if n >= 2:\n",
        "                    y = hist[list_of_metrics[n]]\n",
        "                    if n == 2:\n",
        "                        ax[i].plot(epochs, y, label=\"train\")\n",
        "                    else:\n",
        "                        ax[i].plot(epochs, y, label=\"val\")\n",
        "                    ax[i].set_title('Accuracy')\n",
        "                    ax[i].legend(loc='lower right')\n",
        "                    \n",
        "    plt.show()"
      ],
      "metadata": {
        "id": "63qWXOa5uzA7"
      },
      "execution_count": null,
      "outputs": []
    },
    {
      "cell_type": "code",
      "source": [
        "plot_curve(history.epoch, history.history, ['loss', 'val_loss'])"
      ],
      "metadata": {
        "id": "1E5zCBhru6iL"
      },
      "execution_count": null,
      "outputs": []
    },
    {
      "cell_type": "markdown",
      "source": [
        "그래프를 보니 train은 학습하면 할 수록 과적합이 되서 그런지 점점 loss가 줄어드는 모습을 보입니다. 그리고 validation에서의 loss는 train의 학습으로는 한계가 있는지 점점 loss가 줄어드는 폭이 좁아지는 것을 볼 수 있었습니다."
      ],
      "metadata": {
        "id": "lSmH5g9IvQu5"
      }
    },
    {
      "cell_type": "markdown",
      "source": [
        "더 좋은 결과를 얻기 위해 어떤 과정이 남아 있을까?\n",
        "\n",
        "    lstm의 하이퍼 파라미터를 수정 또는 층을 늘린다.\n",
        "    epochs에 earlystopping을 추가하여 가장 강력할 때 멈춘다.\n",
        "    각 lstm 층마다 과적합 방지 기법을 사용한다. ( drop out, batchnormalization)\n",
        "    cross validation을 사용한다.\n",
        "    optimizer를 Adam말고 시퀀스 데이터에 더 적합하다고 알려진 rmsprop를 사용한다.\n"
      ],
      "metadata": {
        "id": "kp_7pSK4vYB2"
      }
    },
    {
      "cell_type": "markdown",
      "source": [
        "# 6 개선"
      ],
      "metadata": {
        "id": "D83tA9zBuilT"
      }
    },
    {
      "cell_type": "markdown",
      "source": [
        "- lstm을 진행하면서 lstm을 3층으로도 쌓고 dence를 2단으로 쌓아 더 강력하게하고 정규화 기법인 drop out이나 batchnormalization 등을 사용하여 단순하게 lstm을 돌렸을 때와 비교를 해보고 싶었지만 코드를 만들어본 결과 하나하나의 epochs가 시간이 너무 오래걸리기도 하고 많은 파라미터를 처리해야 하기 때문에 메모리가 부족할 것 같아서 진행을 못한 점이 아쉽습니다. \n",
        "- 어쨋든 간단한 lstm으로 간단한 데이터를 인풋으로 했을 때 적절한 답변을 얻는 모습을 볼 수 있었습니다. \n",
        "- 학습시간만 조금 짧았더라면 많은 시도를 했었을 것 같은데 아쉽네요!"
      ],
      "metadata": {
        "id": "KaFmnrQPulgd"
      }
    },
    {
      "cell_type": "markdown",
      "source": [
        "# 6 회고"
      ],
      "metadata": {
        "id": "4lcuQLY_aRju"
      }
    }
  ]
}
{
  "nbformat": 4,
  "nbformat_minor": 0,
  "metadata": {
    "colab": {
      "name": "ExplNode01.ipynb",
      "provenance": [],
      "collapsed_sections": [],
      "authorship_tag": "ABX9TyNPAATXyGNAp+Q8H2/eNwiI",
      "include_colab_link": true
    },
    "kernelspec": {
      "name": "python3",
      "display_name": "Python 3"
    },
    "language_info": {
      "name": "python"
    }
  },
  "cells": [
    {
      "cell_type": "markdown",
      "metadata": {
        "id": "view-in-github",
        "colab_type": "text"
      },
      "source": [
        "<a href=\"https://colab.research.google.com/github/twelvesense/first-repository/blob/master/ExplNode01.ipynb\" target=\"_parent\"><img src=\"https://colab.research.google.com/assets/colab-badge.svg\" alt=\"Open In Colab\"/></a>"
      ]
    },
    {
      "cell_type": "markdown",
      "source": [
        "# 프로젝트 (1) load_digits : 손글씨를 분류해 봅시다\n",
        "## 1단계: 데이터 준비하기 및 분석하기"
      ],
      "metadata": {
        "id": "XssR1FYo_QzE"
      }
    },
    {
      "cell_type": "code",
      "source": [
        "# (1) 필요한 모듈 import하기\n",
        "import pandas as pd\n",
        "import matplotlib.pyplot as plt\n",
        "from sklearn.model_selection import train_test_split\n",
        "from sklearn.metrics import accuracy_score\n",
        "from sklearn.metrics import confusion_matrix\n",
        "from sklearn.metrics import classification_report\n",
        "from sklearn.datasets import load_digits\n",
        "from sklearn.datasets import load_wine\n",
        "from sklearn.datasets import load_breast_cancer \n",
        "from sklearn.tree import DecisionTreeClassifier     # decision tree\n",
        "from sklearn.ensemble import RandomForestClassifier      # random forest\n",
        "from sklearn import svm    # Support Vector Machine\n",
        "from sklearn.linear_model import SGDClassifier  # Stochastic Gradient Descent Classifier (SGDClassifier)\n",
        "from sklearn.linear_model import LogisticRegression   # Logistic Regression\n",
        "def p(desc, x):\n",
        "   print(str(desc), ' = ', x)\n",
        "\n",
        "# (2) 데이터 준비\n",
        "digits = load_digits()\n",
        "digits_data = digits.data  # feature data 지정하기\n",
        "digits_label = digits.target  # label data 지정하기\n",
        "\n",
        "# (3) 데이터 분석\n",
        "p('dir', dir(digits))      # 속성이나 메서드 출력\n",
        "p('keys', digits.keys())   # keys 출력\n",
        "p('feature names', digits.feature_names)     #  각 feature에 대한 설명\n",
        "p('data shape', digits_data.shape)   # 데이터 배열의 형상정보\n",
        "p('targer names', digits.target_names)      # 각 target에 대한 설명\n",
        "p('label shapre', digits_label.shape)   # 라벨 배열의 형상정보\n",
        "p('DESCRIPTION', digits.DESCR)    # DESCR: 데이터셋의 설명\n",
        "\n",
        "# (3-1) 데이터 분석 - pandas 활용\n",
        "digits_df = pd.DataFrame(data=digits_data, columns=digits.feature_names)\n",
        "digits_df[\"label\"] = digits.target\n",
        "print('######################################### 판다스 begin #########################################')\n",
        "print(digits_df)\n",
        "print('######################################### 판다스 end #########################################')\n",
        "\n",
        "# (3-2) 데이터 분석 - matplotlib 활용\n",
        "# for 0 ~ 9 digits\n",
        "for i in range(10):\n",
        "    plt.subplot(2, 5, i+1)\n",
        "    plt.imshow(digits_data[i].reshape(8, 8), cmap='gray')\n",
        "    plt.axis('off')\n",
        "plt.show()\n",
        "\n",
        "# (4) train, test 데이터 분리\n",
        "X_train, X_test, y_train, y_test = train_test_split(digits_data, \n",
        "                                                    digits_label, \n",
        "                                                    test_size=0.2, \n",
        "                                                    random_state=7)\n",
        "print('X_train 개수: ', len(X_train),', X_test 개수: ', len(X_test))\n",
        "print(X_train.shape, y_train.shape, X_test.shape, y_test.shape)"
      ],
      "metadata": {
        "colab": {
          "base_uri": "https://localhost:8080/",
          "height": 1000
        },
        "id": "07B8atZs_Vbw",
        "outputId": "b21249c9-a725-41e4-af63-d1149fdb094f"
      },
      "execution_count": 5,
      "outputs": [
        {
          "output_type": "stream",
          "name": "stdout",
          "text": [
            "dir  =  ['DESCR', 'data', 'feature_names', 'frame', 'images', 'target', 'target_names']\n",
            "keys  =  dict_keys(['data', 'target', 'frame', 'feature_names', 'target_names', 'images', 'DESCR'])\n",
            "feature names  =  ['pixel_0_0', 'pixel_0_1', 'pixel_0_2', 'pixel_0_3', 'pixel_0_4', 'pixel_0_5', 'pixel_0_6', 'pixel_0_7', 'pixel_1_0', 'pixel_1_1', 'pixel_1_2', 'pixel_1_3', 'pixel_1_4', 'pixel_1_5', 'pixel_1_6', 'pixel_1_7', 'pixel_2_0', 'pixel_2_1', 'pixel_2_2', 'pixel_2_3', 'pixel_2_4', 'pixel_2_5', 'pixel_2_6', 'pixel_2_7', 'pixel_3_0', 'pixel_3_1', 'pixel_3_2', 'pixel_3_3', 'pixel_3_4', 'pixel_3_5', 'pixel_3_6', 'pixel_3_7', 'pixel_4_0', 'pixel_4_1', 'pixel_4_2', 'pixel_4_3', 'pixel_4_4', 'pixel_4_5', 'pixel_4_6', 'pixel_4_7', 'pixel_5_0', 'pixel_5_1', 'pixel_5_2', 'pixel_5_3', 'pixel_5_4', 'pixel_5_5', 'pixel_5_6', 'pixel_5_7', 'pixel_6_0', 'pixel_6_1', 'pixel_6_2', 'pixel_6_3', 'pixel_6_4', 'pixel_6_5', 'pixel_6_6', 'pixel_6_7', 'pixel_7_0', 'pixel_7_1', 'pixel_7_2', 'pixel_7_3', 'pixel_7_4', 'pixel_7_5', 'pixel_7_6', 'pixel_7_7']\n",
            "data shape  =  (1797, 64)\n",
            "targer names  =  [0 1 2 3 4 5 6 7 8 9]\n",
            "label shapre  =  (1797,)\n",
            "DESCRIPTION  =  .. _digits_dataset:\n",
            "\n",
            "Optical recognition of handwritten digits dataset\n",
            "--------------------------------------------------\n",
            "\n",
            "**Data Set Characteristics:**\n",
            "\n",
            "    :Number of Instances: 1797\n",
            "    :Number of Attributes: 64\n",
            "    :Attribute Information: 8x8 image of integer pixels in the range 0..16.\n",
            "    :Missing Attribute Values: None\n",
            "    :Creator: E. Alpaydin (alpaydin '@' boun.edu.tr)\n",
            "    :Date: July; 1998\n",
            "\n",
            "This is a copy of the test set of the UCI ML hand-written digits datasets\n",
            "https://archive.ics.uci.edu/ml/datasets/Optical+Recognition+of+Handwritten+Digits\n",
            "\n",
            "The data set contains images of hand-written digits: 10 classes where\n",
            "each class refers to a digit.\n",
            "\n",
            "Preprocessing programs made available by NIST were used to extract\n",
            "normalized bitmaps of handwritten digits from a preprinted form. From a\n",
            "total of 43 people, 30 contributed to the training set and different 13\n",
            "to the test set. 32x32 bitmaps are divided into nonoverlapping blocks of\n",
            "4x4 and the number of on pixels are counted in each block. This generates\n",
            "an input matrix of 8x8 where each element is an integer in the range\n",
            "0..16. This reduces dimensionality and gives invariance to small\n",
            "distortions.\n",
            "\n",
            "For info on NIST preprocessing routines, see M. D. Garris, J. L. Blue, G.\n",
            "T. Candela, D. L. Dimmick, J. Geist, P. J. Grother, S. A. Janet, and C.\n",
            "L. Wilson, NIST Form-Based Handprint Recognition System, NISTIR 5469,\n",
            "1994.\n",
            "\n",
            ".. topic:: References\n",
            "\n",
            "  - C. Kaynak (1995) Methods of Combining Multiple Classifiers and Their\n",
            "    Applications to Handwritten Digit Recognition, MSc Thesis, Institute of\n",
            "    Graduate Studies in Science and Engineering, Bogazici University.\n",
            "  - E. Alpaydin, C. Kaynak (1998) Cascading Classifiers, Kybernetika.\n",
            "  - Ken Tang and Ponnuthurai N. Suganthan and Xi Yao and A. Kai Qin.\n",
            "    Linear dimensionalityreduction using relevance weighted LDA. School of\n",
            "    Electrical and Electronic Engineering Nanyang Technological University.\n",
            "    2005.\n",
            "  - Claudio Gentile. A New Approximate Maximal Margin Classification\n",
            "    Algorithm. NIPS. 2000.\n",
            "\n",
            "######################################### 판다스 begin #########################################\n",
            "      pixel_0_0  pixel_0_1  pixel_0_2  pixel_0_3  pixel_0_4  pixel_0_5  \\\n",
            "0           0.0        0.0        5.0       13.0        9.0        1.0   \n",
            "1           0.0        0.0        0.0       12.0       13.0        5.0   \n",
            "2           0.0        0.0        0.0        4.0       15.0       12.0   \n",
            "3           0.0        0.0        7.0       15.0       13.0        1.0   \n",
            "4           0.0        0.0        0.0        1.0       11.0        0.0   \n",
            "...         ...        ...        ...        ...        ...        ...   \n",
            "1792        0.0        0.0        4.0       10.0       13.0        6.0   \n",
            "1793        0.0        0.0        6.0       16.0       13.0       11.0   \n",
            "1794        0.0        0.0        1.0       11.0       15.0        1.0   \n",
            "1795        0.0        0.0        2.0       10.0        7.0        0.0   \n",
            "1796        0.0        0.0       10.0       14.0        8.0        1.0   \n",
            "\n",
            "      pixel_0_6  pixel_0_7  pixel_1_0  pixel_1_1  ...  pixel_6_7  pixel_7_0  \\\n",
            "0           0.0        0.0        0.0        0.0  ...        0.0        0.0   \n",
            "1           0.0        0.0        0.0        0.0  ...        0.0        0.0   \n",
            "2           0.0        0.0        0.0        0.0  ...        0.0        0.0   \n",
            "3           0.0        0.0        0.0        8.0  ...        0.0        0.0   \n",
            "4           0.0        0.0        0.0        0.0  ...        0.0        0.0   \n",
            "...         ...        ...        ...        ...  ...        ...        ...   \n",
            "1792        0.0        0.0        0.0        1.0  ...        0.0        0.0   \n",
            "1793        1.0        0.0        0.0        0.0  ...        0.0        0.0   \n",
            "1794        0.0        0.0        0.0        0.0  ...        0.0        0.0   \n",
            "1795        0.0        0.0        0.0        0.0  ...        0.0        0.0   \n",
            "1796        0.0        0.0        0.0        2.0  ...        0.0        0.0   \n",
            "\n",
            "      pixel_7_1  pixel_7_2  pixel_7_3  pixel_7_4  pixel_7_5  pixel_7_6  \\\n",
            "0           0.0        6.0       13.0       10.0        0.0        0.0   \n",
            "1           0.0        0.0       11.0       16.0       10.0        0.0   \n",
            "2           0.0        0.0        3.0       11.0       16.0        9.0   \n",
            "3           0.0        7.0       13.0       13.0        9.0        0.0   \n",
            "4           0.0        0.0        2.0       16.0        4.0        0.0   \n",
            "...         ...        ...        ...        ...        ...        ...   \n",
            "1792        0.0        2.0       14.0       15.0        9.0        0.0   \n",
            "1793        0.0        6.0       16.0       14.0        6.0        0.0   \n",
            "1794        0.0        2.0        9.0       13.0        6.0        0.0   \n",
            "1795        0.0        5.0       12.0       16.0       12.0        0.0   \n",
            "1796        1.0        8.0       12.0       14.0       12.0        1.0   \n",
            "\n",
            "      pixel_7_7  label  \n",
            "0           0.0      0  \n",
            "1           0.0      1  \n",
            "2           0.0      2  \n",
            "3           0.0      3  \n",
            "4           0.0      4  \n",
            "...         ...    ...  \n",
            "1792        0.0      9  \n",
            "1793        0.0      0  \n",
            "1794        0.0      8  \n",
            "1795        0.0      9  \n",
            "1796        0.0      8  \n",
            "\n",
            "[1797 rows x 65 columns]\n",
            "######################################### 판다스 end #########################################\n"
          ]
        },
        {
          "output_type": "display_data",
          "data": {
            "text/plain": [
              "<Figure size 432x288 with 10 Axes>"
            ],
            "image/png": "[encoded data removed]"
          },
          "metadata": {
            "needs_background": "light"
          }
        },
        {
          "output_type": "stream",
          "name": "stdout",
          "text": [
            "X_train 개수:  1437 , X_test 개수:  360\n",
            "(1437, 64) (1437,) (360, 64) (360,)\n"
          ]
        }
      ]
    },
    {
      "cell_type": "markdown",
      "source": [
        "## 2단계: 5가지 모델별 학습, 예측, 평가 및 해석하기\n",
        "### [1/5] decision tree 모델로 예측하고 평가하기"
      ],
      "metadata": {
        "id": "6mSUIovpAHk2"
      }
    },
    {
      "cell_type": "code",
      "source": [
        "# (5) 모델 학습 및 예측 - [1/5] decision tree\n",
        "decision_tree = DecisionTreeClassifier(random_state=32)\n",
        "decision_tree.fit(X_train, y_train)\n",
        "y_pred = decision_tree.predict(X_test)\n",
        "\n",
        "# (6) 모델을 평가해 보기\n",
        "accuracy = accuracy_score(y_test, y_pred)\n",
        "print('accuracy = ', accuracy)\n",
        "confusion = confusion_matrix(y_test, y_pred)\n",
        "print('confusion = ', confusion)\n",
        "print(classification_report(y_test, y_pred))"
      ],
      "metadata": {
        "colab": {
          "base_uri": "https://localhost:8080/"
        },
        "id": "_MVJEzMPAJ0l",
        "outputId": "bbd85753-5516-4851-970e-9bd4cf54c006"
      },
      "execution_count": 3,
      "outputs": [
        {
          "output_type": "stream",
          "name": "stdout",
          "text": [
            "accuracy =  0.8555555555555555\n",
            "confusion =  [[42  0  0  1  0  0  0  0  0  0]\n",
            " [ 0 34  3  1  0  1  1  0  0  2]\n",
            " [ 0  0 33  2  0  0  1  1  2  1]\n",
            " [ 0  1  0 31  0  0  0  0  1  1]\n",
            " [ 0  0  1  0 35  0  0  0  1  0]\n",
            " [ 0  1  0  0  0 27  0  0  0  0]\n",
            " [ 0  0  0  0  2  0 26  0  0  0]\n",
            " [ 0  0  0  1  2  1  0 27  0  2]\n",
            " [ 0  5  4  1  1  0  3  0 28  1]\n",
            " [ 0  1  1  2  2  1  0  0  0 25]]\n",
            "              precision    recall  f1-score   support\n",
            "\n",
            "           0       1.00      0.98      0.99        43\n",
            "           1       0.81      0.81      0.81        42\n",
            "           2       0.79      0.82      0.80        40\n",
            "           3       0.79      0.91      0.85        34\n",
            "           4       0.83      0.95      0.89        37\n",
            "           5       0.90      0.96      0.93        28\n",
            "           6       0.84      0.93      0.88        28\n",
            "           7       0.96      0.82      0.89        33\n",
            "           8       0.88      0.65      0.75        43\n",
            "           9       0.78      0.78      0.78        32\n",
            "\n",
            "    accuracy                           0.86       360\n",
            "   macro avg       0.86      0.86      0.86       360\n",
            "weighted avg       0.86      0.86      0.85       360\n",
            "\n"
          ]
        }
      ]
    },
    {
      "cell_type": "markdown",
      "source": [
        "### [1/5] decision tree 모델 예측 결과 해석하기\n",
        "* accuracy는 0.86임\n",
        "* confusion관련, 8를 0로 FP한 경우가 특히 많았음\n",
        "* f1-score 중심으로 평가바람직함 (precision, recall중 월등히 심각한 것 없음)\n",
        "* f1-score관련, 0를 가장 잘 맞히고, 8를 가장 못 맞힘"
      ],
      "metadata": {
        "id": "dlM05lafAdlH"
      }
    },
    {
      "cell_type": "markdown",
      "source": [
        "### [2/5] random forest 모델로 예측하고 평가하기"
      ],
      "metadata": {
        "id": "D8-vRn10C1v-"
      }
    },
    {
      "cell_type": "code",
      "source": [
        "# (5) 모델 학습 및 예측 - [2/5] random forest\n",
        "random_forest = RandomForestClassifier(random_state=32)\n",
        "random_forest.fit(X_train, y_train)\n",
        "y_pred = random_forest.predict(X_test)\n",
        "\n",
        "# (6) 모델을 평가해 보기\n",
        "accuracy = accuracy_score(y_test, y_pred)\n",
        "print('accuracy = ', accuracy)\n",
        "confusion = confusion_matrix(y_test, y_pred)\n",
        "print('confusion = ', confusion)\n",
        "print(classification_report(y_test, y_pred))"
      ],
      "metadata": {
        "colab": {
          "base_uri": "https://localhost:8080/"
        },
        "id": "X33ilsIVDeeL",
        "outputId": "c94d834d-9324-4667-f353-22901ecbfdef"
      },
      "execution_count": 4,
      "outputs": [
        {
          "output_type": "stream",
          "name": "stdout",
          "text": [
            "accuracy =  0.9638888888888889\n",
            "confusion =  [[42  0  0  0  1  0  0  0  0  0]\n",
            " [ 0 42  0  0  0  0  0  0  0  0]\n",
            " [ 0  0 40  0  0  0  0  0  0  0]\n",
            " [ 0  0  0 34  0  0  0  0  0  0]\n",
            " [ 0  0  0  0 37  0  0  0  0  0]\n",
            " [ 0  0  0  0  0 27  0  0  0  1]\n",
            " [ 0  0  0  0  1  0 27  0  0  0]\n",
            " [ 0  0  0  0  0  0  0 32  0  1]\n",
            " [ 0  3  0  0  1  1  0  2 36  0]\n",
            " [ 0  0  0  0  0  2  0  0  0 30]]\n",
            "              precision    recall  f1-score   support\n",
            "\n",
            "           0       1.00      0.98      0.99        43\n",
            "           1       0.93      1.00      0.97        42\n",
            "           2       1.00      1.00      1.00        40\n",
            "           3       1.00      1.00      1.00        34\n",
            "           4       0.93      1.00      0.96        37\n",
            "           5       0.90      0.96      0.93        28\n",
            "           6       1.00      0.96      0.98        28\n",
            "           7       0.94      0.97      0.96        33\n",
            "           8       1.00      0.84      0.91        43\n",
            "           9       0.94      0.94      0.94        32\n",
            "\n",
            "    accuracy                           0.96       360\n",
            "   macro avg       0.96      0.96      0.96       360\n",
            "weighted avg       0.97      0.96      0.96       360\n",
            "\n"
          ]
        }
      ]
    },
    {
      "cell_type": "markdown",
      "source": [
        "### [2/5] random forest 모델 예측 결과 해석하기\n",
        "* accuracy는 0.96임\n",
        "* confusion관련, 8를 0으로 FP한 경우가 특히 많았음\n",
        "* f1-score 중심으로 평가바람직함 (precision, recall중 월등히 심각한 것 없음)\n",
        "* f1-score관련, 대체로 잘 맞히고, 8를 가장 못 맞으"
      ],
      "metadata": {
        "id": "Hnc02JaeELfU"
      }
    },
    {
      "cell_type": "markdown",
      "source": [
        "### [3/5] Support Vector Machine 모델로 예측하고 평가하기"
      ],
      "metadata": {
        "id": "AMXRb-bsLsC5"
      }
    },
    {
      "cell_type": "code",
      "source": [
        "# (5) 모델 학습 및 예측 - [3/5] Support Vector Machine\n",
        "svm_model = svm.SVC()\n",
        "svm_model.fit(X_train, y_train)\n",
        "y_pred = svm_model.predict(X_test)\n",
        "\n",
        "# (6) 모델을 평가해 보기\n",
        "accuracy = accuracy_score(y_test, y_pred)\n",
        "print('accuracy = ', accuracy)\n",
        "confusion = confusion_matrix(y_test, y_pred)\n",
        "print('confusion = ', confusion)\n",
        "print(classification_report(y_test, y_pred))"
      ],
      "metadata": {
        "colab": {
          "base_uri": "https://localhost:8080/"
        },
        "id": "GhdRcs7vLv8R",
        "outputId": "4f913300-c051-413b-f9a2-5c4b32c0d5dd"
      },
      "execution_count": 6,
      "outputs": [
        {
          "output_type": "stream",
          "name": "stdout",
          "text": [
            "accuracy =  0.9888888888888889\n",
            "confusion =  [[43  0  0  0  0  0  0  0  0  0]\n",
            " [ 0 42  0  0  0  0  0  0  0  0]\n",
            " [ 0  0 40  0  0  0  0  0  0  0]\n",
            " [ 0  0  0 34  0  0  0  0  0  0]\n",
            " [ 0  0  0  0 37  0  0  0  0  0]\n",
            " [ 0  0  0  0  0 28  0  0  0  0]\n",
            " [ 0  0  0  0  0  0 28  0  0  0]\n",
            " [ 0  0  0  0  0  0  0 33  0  0]\n",
            " [ 0  2  0  0  0  1  0  0 40  0]\n",
            " [ 0  0  0  0  0  1  0  0  0 31]]\n",
            "              precision    recall  f1-score   support\n",
            "\n",
            "           0       1.00      1.00      1.00        43\n",
            "           1       0.95      1.00      0.98        42\n",
            "           2       1.00      1.00      1.00        40\n",
            "           3       1.00      1.00      1.00        34\n",
            "           4       1.00      1.00      1.00        37\n",
            "           5       0.93      1.00      0.97        28\n",
            "           6       1.00      1.00      1.00        28\n",
            "           7       1.00      1.00      1.00        33\n",
            "           8       1.00      0.93      0.96        43\n",
            "           9       1.00      0.97      0.98        32\n",
            "\n",
            "    accuracy                           0.99       360\n",
            "   macro avg       0.99      0.99      0.99       360\n",
            "weighted avg       0.99      0.99      0.99       360\n",
            "\n"
          ]
        }
      ]
    },
    {
      "cell_type": "markdown",
      "source": [
        "### [3/5] Support Vector Machine 모델 예측 결과 해석하기\n",
        "* accuracy는 0.99임\n",
        "* confusion관련, 8를 0으로 FP한 경우가 특히 많았음\n",
        "* f1-score 중심으로 평가바람직함 (precision, recall중 월등히 심각한 것 없음)\n",
        "* f1-score관련, 대체로 잘 맞히고, 8를 가장 못 맞힘"
      ],
      "metadata": {
        "id": "Ktej2ow1Miqw"
      }
    },
    {
      "cell_type": "markdown",
      "source": [
        "### [4/5] Stochastic Gradient Descent Classifier (SGDClassifier) 모델로 예측하고 평가하기"
      ],
      "metadata": {
        "id": "nJ8-xoA2NoQq"
      }
    },
    {
      "cell_type": "code",
      "source": [
        "# (5) 모델 학습 및 예측 - [4/5] Stochastic Gradient Descent Classifier (SGDClassifier)\n",
        "sgd_model = SGDClassifier()\n",
        "sgd_model.fit(X_train, y_train)\n",
        "y_pred = sgd_model.predict(X_test)\n",
        "\n",
        "# (6) 모델을 평가해 보기\n",
        "accuracy = accuracy_score(y_test, y_pred)\n",
        "print('accuracy = ', accuracy)\n",
        "confusion = confusion_matrix(y_test, y_pred)\n",
        "print('confusion = ', confusion)\n",
        "print(classification_report(y_test, y_pred))"
      ],
      "metadata": {
        "colab": {
          "base_uri": "https://localhost:8080/"
        },
        "id": "U1TbAtlzNqVZ",
        "outputId": "71f7a7bf-4e81-4411-e7d1-cd78de103bc0"
      },
      "execution_count": 7,
      "outputs": [
        {
          "output_type": "stream",
          "name": "stdout",
          "text": [
            "accuracy =  0.9361111111111111\n",
            "confusion =  [[43  0  0  0  0  0  0  0  0  0]\n",
            " [ 0 35  1  2  0  2  0  0  1  1]\n",
            " [ 0  0 39  1  0  0  0  0  0  0]\n",
            " [ 0  0  0 31  0  1  0  1  0  1]\n",
            " [ 0  0  0  0 36  0  1  0  0  0]\n",
            " [ 0  0  0  0  0 27  0  0  0  1]\n",
            " [ 1  1  0  0  0  0 26  0  0  0]\n",
            " [ 0  0  0  0  1  0  0 32  0  0]\n",
            " [ 0  3  1  0  1  1  0  0 37  0]\n",
            " [ 0  0  0  0  0  1  0  0  0 31]]\n",
            "              precision    recall  f1-score   support\n",
            "\n",
            "           0       0.98      1.00      0.99        43\n",
            "           1       0.90      0.83      0.86        42\n",
            "           2       0.95      0.97      0.96        40\n",
            "           3       0.91      0.91      0.91        34\n",
            "           4       0.95      0.97      0.96        37\n",
            "           5       0.84      0.96      0.90        28\n",
            "           6       0.96      0.93      0.95        28\n",
            "           7       0.97      0.97      0.97        33\n",
            "           8       0.97      0.86      0.91        43\n",
            "           9       0.91      0.97      0.94        32\n",
            "\n",
            "    accuracy                           0.94       360\n",
            "   macro avg       0.93      0.94      0.94       360\n",
            "weighted avg       0.94      0.94      0.94       360\n",
            "\n"
          ]
        }
      ]
    },
    {
      "cell_type": "markdown",
      "source": [
        "### [4/5] Stochastic Gradient Descent Classifier (SGDClassifier) 모델 예측 결과 해석하기\n",
        "* accuracy는 0.94임\n",
        "* confusion관련, 8를 0으로 FP한 경우가 특히 많았음\n",
        "* f1-score 중심으로 평가바람직함 (precision, recall중 월등히 심각한 것 없음)\n",
        "* f1-score관련, 0를 가장 잘 맞히고, 8를 가장 못 맞힘"
      ],
      "metadata": {
        "id": "Fal9xnKCNxHj"
      }
    },
    {
      "cell_type": "markdown",
      "source": [
        "### [5/5] Logistic Regression 모델로 예측하고 평가하기"
      ],
      "metadata": {
        "id": "X8_Xf34yON51"
      }
    },
    {
      "cell_type": "code",
      "source": [
        "# (5) 모델 학습 및 예측 -[5/5] Logistic Regression\n",
        "logistic_model = LogisticRegression(solver='liblinear')\n",
        "logistic_model.fit(X_train, y_train)\n",
        "y_pred = logistic_model.predict(X_test)\n",
        "\n",
        "# (6) 모델을 평가해 보기\n",
        "accuracy = accuracy_score(y_test, y_pred)\n",
        "print('accuracy = ', accuracy)\n",
        "confusion = confusion_matrix(y_test, y_pred)\n",
        "print('confusion = ', confusion)\n",
        "print(classification_report(y_test, y_pred))"
      ],
      "metadata": {
        "colab": {
          "base_uri": "https://localhost:8080/"
        },
        "id": "Y5v1p4OYOPbK",
        "outputId": "51be2d9b-b392-4f2d-c3b1-77b5a66b3d2f"
      },
      "execution_count": 9,
      "outputs": [
        {
          "output_type": "stream",
          "name": "stdout",
          "text": [
            "accuracy =  0.9444444444444444\n",
            "confusion =  [[43  0  0  0  0  0  0  0  0  0]\n",
            " [ 0 38  0  2  0  1  0  0  0  1]\n",
            " [ 0  0 39  1  0  0  0  0  0  0]\n",
            " [ 0  0  0 32  0  0  0  1  1  0]\n",
            " [ 0  0  0  0 36  0  1  0  0  0]\n",
            " [ 0  0  0  0  0 28  0  0  0  0]\n",
            " [ 0  1  0  0  0  0 26  0  1  0]\n",
            " [ 0  0  0  0  1  0  0 32  0  0]\n",
            " [ 0  3  1  0  1  0  0  0 38  0]\n",
            " [ 0  0  0  2  0  1  0  0  1 28]]\n",
            "              precision    recall  f1-score   support\n",
            "\n",
            "           0       1.00      1.00      1.00        43\n",
            "           1       0.90      0.90      0.90        42\n",
            "           2       0.97      0.97      0.97        40\n",
            "           3       0.86      0.94      0.90        34\n",
            "           4       0.95      0.97      0.96        37\n",
            "           5       0.93      1.00      0.97        28\n",
            "           6       0.96      0.93      0.95        28\n",
            "           7       0.97      0.97      0.97        33\n",
            "           8       0.93      0.88      0.90        43\n",
            "           9       0.97      0.88      0.92        32\n",
            "\n",
            "    accuracy                           0.94       360\n",
            "   macro avg       0.95      0.95      0.94       360\n",
            "weighted avg       0.95      0.94      0.94       360\n",
            "\n"
          ]
        }
      ]
    },
    {
      "cell_type": "markdown",
      "source": [
        "### [5/5] Logistic Regression 모델 예측 결과 해석하기\n",
        "* accuracy는 0.94임\n",
        "* confusion관련, 8를 0으로 FP한 경우가 특히 많았음\n",
        "* f1-score 중심으로 평가바람직함 (precision, recall중 월등히 심각한 것 없음)\n",
        "* f1-score관련, 0를 가장 잘 맞히고, 8를 가장 못 맞힘"
      ],
      "metadata": {
        "id": "TJ03eVvCOnEF"
      }
    },
    {
      "cell_type": "markdown",
      "source": [
        "## 3단계: 마무리 (모델들의 종합 평가)\n",
        "* 모든 모델이 비슷한 경함성을 보였다. 즉, 대체로 8를 0으로 오인식한다.\n",
        "* 그래서, 8에 대한 오인식율이 가장 높다.\n",
        "* 그 중에서 f1-score기준으로 가장 높은 건, Support Vector Machine 모델이었다."
      ],
      "metadata": {
        "id": "djULjJJdPJ8U"
      }
    },
    {
      "cell_type": "markdown",
      "source": [
        "123"
      ],
      "metadata": {
        "id": "1DjubcWwPo_Z"
      }
    }
  ]
}
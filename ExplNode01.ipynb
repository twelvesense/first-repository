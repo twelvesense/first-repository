{
  "nbformat": 4,
  "nbformat_minor": 0,
  "metadata": {
    "colab": {
      "name": "ExplNode01.ipynb",
      "provenance": [],
      "collapsed_sections": [],
      "authorship_tag": "ABX9TyMymiVSWqo7djWcUUEScjkf",
      "include_colab_link": true
    },
    "kernelspec": {
      "name": "python3",
      "display_name": "Python 3"
    },
    "language_info": {
      "name": "python"
    }
  },
  "cells": [
    {
      "cell_type": "markdown",
      "metadata": {
        "id": "view-in-github",
        "colab_type": "text"
      },
      "source": [
        "<a href=\"https://colab.research.google.com/github/twelvesense/first-repository/blob/master/ExplNode01.ipynb\" target=\"_parent\"><img src=\"https://colab.research.google.com/assets/colab-badge.svg\" alt=\"Open In Colab\"/></a>"
      ]
    },
    {
      "cell_type": "markdown",
      "source": [
        "# 프로젝트 (1) load_digits : 손글씨를 분류해 봅시다\n",
        "## 1단계: 데이터 준비하기 및 분석하기"
      ],
      "metadata": {
        "id": "XssR1FYo_QzE"
      }
    },
    {
      "cell_type": "code",
      "source": [
        "# (1) 필요한 모듈 import하기\n",
        "import pandas as pd\n",
        "import matplotlib.pyplot as plt\n",
        "from sklearn.model_selection import train_test_split\n",
        "from sklearn.metrics import accuracy_score\n",
        "from sklearn.metrics import confusion_matrix\n",
        "from sklearn.metrics import classification_report\n",
        "from sklearn.datasets import load_digits\n",
        "from sklearn.datasets import load_wine\n",
        "from sklearn.datasets import load_breast_cancer \n",
        "from sklearn.tree import DecisionTreeClassifier     # decision tree\n",
        "from sklearn.ensemble import RandomForestClassifier      # random forest\n",
        "from sklearn import svm    # Support Vector Machine\n",
        "from sklearn.linear_model import SGDClassifier  # Stochastic Gradient Descent Classifier (SGDClassifier)\n",
        "from sklearn.linear_model import LogisticRegression   # Logistic Regression\n",
        "def p(desc, x):\n",
        "   print(str(desc), ' = ', x)\n",
        "\n",
        "# (2) 데이터 준비\n",
        "digits = load_digits()\n",
        "digits_data = digits.data  # feature data 지정하기\n",
        "digits_label = digits.target  # label data 지정하기\n",
        "\n",
        "# (3) 데이터 분석\n",
        "p('dir', dir(digits))      # 속성이나 메서드 출력\n",
        "p('keys', digits.keys())   # keys 출력\n",
        "p('feature names', digits.feature_names)     #  각 feature에 대한 설명\n",
        "p('data shape', digits_data.shape)   # 데이터 배열의 형상정보\n",
        "p('targer names', digits.target_names)      # 각 target에 대한 설명\n",
        "p('label shapre', digits_label.shape)   # 라벨 배열의 형상정보\n",
        "p('DESCRIPTION', digits.DESCR)    # DESCR: 데이터셋의 설명\n",
        "\n",
        "# (3-1) 데이터 분석 - pandas 활용\n",
        "digits_df = pd.DataFrame(data=digits_data, columns=digits.feature_names)\n",
        "digits_df[\"label\"] = digits.target\n",
        "print('######################################### 판다스 begin #########################################')\n",
        "print(digits_df)\n",
        "print('######################################### 판다스 end #########################################')\n",
        "\n",
        "# (3-2) 데이터 분석 - matplotlib 활용\n",
        "# for 0 ~ 9 digits\n",
        "for i in range(10):\n",
        "    plt.subplot(2, 5, i+1)\n",
        "    plt.imshow(digits_data[i].reshape(8, 8), cmap='gray')\n",
        "    plt.axis('off')\n",
        "plt.show()\n",
        "\n",
        "# (4) train, test 데이터 분리\n",
        "X_train, X_test, y_train, y_test = train_test_split(digits_data, \n",
        "                                                    digits_label, \n",
        "                                                    test_size=0.2, \n",
        "                                                    random_state=7)\n",
        "print('X_train 개수: ', len(X_train),', X_test 개수: ', len(X_test))\n",
        "print(X_train.shape, y_train.shape, X_test.shape, y_test.shape)"
      ],
      "metadata": {
        "colab": {
          "base_uri": "https://localhost:8080/",
          "height": 1000
        },
        "id": "07B8atZs_Vbw",
        "outputId": "b21249c9-a725-41e4-af63-d1149fdb094f"
      },
      "execution_count": 5,
      "outputs": [
        {
          "output_type": "stream",
          "name": "stdout",
          "text": [
            "dir  =  ['DESCR', 'data', 'feature_names', 'frame', 'images', 'target', 'target_names']\n",
            "keys  =  dict_keys(['data', 'target', 'frame', 'feature_names', 'target_names', 'images', 'DESCR'])\n",
            "feature names  =  ['pixel_0_0', 'pixel_0_1', 'pixel_0_2', 'pixel_0_3', 'pixel_0_4', 'pixel_0_5', 'pixel_0_6', 'pixel_0_7', 'pixel_1_0', 'pixel_1_1', 'pixel_1_2', 'pixel_1_3', 'pixel_1_4', 'pixel_1_5', 'pixel_1_6', 'pixel_1_7', 'pixel_2_0', 'pixel_2_1', 'pixel_2_2', 'pixel_2_3', 'pixel_2_4', 'pixel_2_5', 'pixel_2_6', 'pixel_2_7', 'pixel_3_0', 'pixel_3_1', 'pixel_3_2', 'pixel_3_3', 'pixel_3_4', 'pixel_3_5', 'pixel_3_6', 'pixel_3_7', 'pixel_4_0', 'pixel_4_1', 'pixel_4_2', 'pixel_4_3', 'pixel_4_4', 'pixel_4_5', 'pixel_4_6', 'pixel_4_7', 'pixel_5_0', 'pixel_5_1', 'pixel_5_2', 'pixel_5_3', 'pixel_5_4', 'pixel_5_5', 'pixel_5_6', 'pixel_5_7', 'pixel_6_0', 'pixel_6_1', 'pixel_6_2', 'pixel_6_3', 'pixel_6_4', 'pixel_6_5', 'pixel_6_6', 'pixel_6_7', 'pixel_7_0', 'pixel_7_1', 'pixel_7_2', 'pixel_7_3', 'pixel_7_4', 'pixel_7_5', 'pixel_7_6', 'pixel_7_7']\n",
            "data shape  =  (1797, 64)\n",
            "targer names  =  [0 1 2 3 4 5 6 7 8 9]\n",
            "label shapre  =  (1797,)\n",
            "DESCRIPTION  =  .. _digits_dataset:\n",
            "\n",
            "Optical recognition of handwritten digits dataset\n",
            "--------------------------------------------------\n",
            "\n",
            "**Data Set Characteristics:**\n",
            "\n",
            "    :Number of Instances: 1797\n",
            "    :Number of Attributes: 64\n",
            "    :Attribute Information: 8x8 image of integer pixels in the range 0..16.\n",
            "    :Missing Attribute Values: None\n",
            "    :Creator: E. Alpaydin (alpaydin '@' boun.edu.tr)\n",
            "    :Date: July; 1998\n",
            "\n",
            "This is a copy of the test set of the UCI ML hand-written digits datasets\n",
            "https://archive.ics.uci.edu/ml/datasets/Optical+Recognition+of+Handwritten+Digits\n",
            "\n",
            "The data set contains images of hand-written digits: 10 classes where\n",
            "each class refers to a digit.\n",
            "\n",
            "Preprocessing programs made available by NIST were used to extract\n",
            "normalized bitmaps of handwritten digits from a preprinted form. From a\n",
            "total of 43 people, 30 contributed to the training set and different 13\n",
            "to the test set. 32x32 bitmaps are divided into nonoverlapping blocks of\n",
            "4x4 and the number of on pixels are counted in each block. This generates\n",
            "an input matrix of 8x8 where each element is an integer in the range\n",
            "0..16. This reduces dimensionality and gives invariance to small\n",
            "distortions.\n",
            "\n",
            "For info on NIST preprocessing routines, see M. D. Garris, J. L. Blue, G.\n",
            "T. Candela, D. L. Dimmick, J. Geist, P. J. Grother, S. A. Janet, and C.\n",
            "L. Wilson, NIST Form-Based Handprint Recognition System, NISTIR 5469,\n",
            "1994.\n",
            "\n",
            ".. topic:: References\n",
            "\n",
            "  - C. Kaynak (1995) Methods of Combining Multiple Classifiers and Their\n",
            "    Applications to Handwritten Digit Recognition, MSc Thesis, Institute of\n",
            "    Graduate Studies in Science and Engineering, Bogazici University.\n",
            "  - E. Alpaydin, C. Kaynak (1998) Cascading Classifiers, Kybernetika.\n",
            "  - Ken Tang and Ponnuthurai N. Suganthan and Xi Yao and A. Kai Qin.\n",
            "    Linear dimensionalityreduction using relevance weighted LDA. School of\n",
            "    Electrical and Electronic Engineering Nanyang Technological University.\n",
            "    2005.\n",
            "  - Claudio Gentile. A New Approximate Maximal Margin Classification\n",
            "    Algorithm. NIPS. 2000.\n",
            "\n",
            "######################################### 판다스 begin #########################################\n",
            "      pixel_0_0  pixel_0_1  pixel_0_2  pixel_0_3  pixel_0_4  pixel_0_5  \\\n",
            "0           0.0        0.0        5.0       13.0        9.0        1.0   \n",
            "1           0.0        0.0        0.0       12.0       13.0        5.0   \n",
            "2           0.0        0.0        0.0        4.0       15.0       12.0   \n",
            "3           0.0        0.0        7.0       15.0       13.0        1.0   \n",
            "4           0.0        0.0        0.0        1.0       11.0        0.0   \n",
            "...         ...        ...        ...        ...        ...        ...   \n",
            "1792        0.0        0.0        4.0       10.0       13.0        6.0   \n",
            "1793        0.0        0.0        6.0       16.0       13.0       11.0   \n",
            "1794        0.0        0.0        1.0       11.0       15.0        1.0   \n",
            "1795        0.0        0.0        2.0       10.0        7.0        0.0   \n",
            "1796        0.0        0.0       10.0       14.0        8.0        1.0   \n",
            "\n",
            "      pixel_0_6  pixel_0_7  pixel_1_0  pixel_1_1  ...  pixel_6_7  pixel_7_0  \\\n",
            "0           0.0        0.0        0.0        0.0  ...        0.0        0.0   \n",
            "1           0.0        0.0        0.0        0.0  ...        0.0        0.0   \n",
            "2           0.0        0.0        0.0        0.0  ...        0.0        0.0   \n",
            "3           0.0        0.0        0.0        8.0  ...        0.0        0.0   \n",
            "4           0.0        0.0        0.0        0.0  ...        0.0        0.0   \n",
            "...         ...        ...        ...        ...  ...        ...        ...   \n",
            "1792        0.0        0.0        0.0        1.0  ...        0.0        0.0   \n",
            "1793        1.0        0.0        0.0        0.0  ...        0.0        0.0   \n",
            "1794        0.0        0.0        0.0        0.0  ...        0.0        0.0   \n",
            "1795        0.0        0.0        0.0        0.0  ...        0.0        0.0   \n",
            "1796        0.0        0.0        0.0        2.0  ...        0.0        0.0   \n",
            "\n",
            "      pixel_7_1  pixel_7_2  pixel_7_3  pixel_7_4  pixel_7_5  pixel_7_6  \\\n",
            "0           0.0        6.0       13.0       10.0        0.0        0.0   \n",
            "1           0.0        0.0       11.0       16.0       10.0        0.0   \n",
            "2           0.0        0.0        3.0       11.0       16.0        9.0   \n",
            "3           0.0        7.0       13.0       13.0        9.0        0.0   \n",
            "4           0.0        0.0        2.0       16.0        4.0        0.0   \n",
            "...         ...        ...        ...        ...        ...        ...   \n",
            "1792        0.0        2.0       14.0       15.0        9.0        0.0   \n",
            "1793        0.0        6.0       16.0       14.0        6.0        0.0   \n",
            "1794        0.0        2.0        9.0       13.0        6.0        0.0   \n",
            "1795        0.0        5.0       12.0       16.0       12.0        0.0   \n",
            "1796        1.0        8.0       12.0       14.0       12.0        1.0   \n",
            "\n",
            "      pixel_7_7  label  \n",
            "0           0.0      0  \n",
            "1           0.0      1  \n",
            "2           0.0      2  \n",
            "3           0.0      3  \n",
            "4           0.0      4  \n",
            "...         ...    ...  \n",
            "1792        0.0      9  \n",
            "1793        0.0      0  \n",
            "1794        0.0      8  \n",
            "1795        0.0      9  \n",
            "1796        0.0      8  \n",
            "\n",
            "[1797 rows x 65 columns]\n",
            "######################################### 판다스 end #########################################\n"
          ]
        },
        {
          "output_type": "display_data",
          "data": {
            "text/plain": [
              "<Figure size 432x288 with 10 Axes>"
            ],
            "image/png": "[encoded data removed]"
          },
          "metadata": {
            "needs_background": "light"
          }
        },
        {
          "output_type": "stream",
          "name": "stdout",
          "text": [
            "X_train 개수:  1437 , X_test 개수:  360\n",
            "(1437, 64) (1437,) (360, 64) (360,)\n"
          ]
        }
      ]
    },
    {
      "cell_type": "markdown",
      "source": [
        "## 2단계: 5가지 모델별 학습, 예측, 평가 및 해석하기\n",
        "### [1/5] decision tree 모델로 예측하고 평가하기"
      ],
      "metadata": {
        "id": "6mSUIovpAHk2"
      }
    },
    {
      "cell_type": "code",
      "source": [
        "# (5) 모델 학습 및 예측 - [1/5] decision tree\n",
        "decision_tree = DecisionTreeClassifier(random_state=32)\n",
        "decision_tree.fit(X_train, y_train)\n",
        "y_pred = decision_tree.predict(X_test)\n",
        "\n",
        "# (6) 모델을 평가해 보기\n",
        "accuracy = accuracy_score(y_test, y_pred)\n",
        "print('accuracy = ', accuracy)\n",
        "confusion = confusion_matrix(y_test, y_pred)\n",
        "print('confusion = ', confusion)\n",
        "print(classification_report(y_test, y_pred))"
      ],
      "metadata": {
        "colab": {
          "base_uri": "https://localhost:8080/"
        },
        "id": "_MVJEzMPAJ0l",
        "outputId": "bbd85753-5516-4851-970e-9bd4cf54c006"
      },
      "execution_count": 3,
      "outputs": [
        {
          "output_type": "stream",
          "name": "stdout",
          "text": [
            "accuracy =  0.8555555555555555\n",
            "confusion =  [[42  0  0  1  0  0  0  0  0  0]\n",
            " [ 0 34  3  1  0  1  1  0  0  2]\n",
            " [ 0  0 33  2  0  0  1  1  2  1]\n",
            " [ 0  1  0 31  0  0  0  0  1  1]\n",
            " [ 0  0  1  0 35  0  0  0  1  0]\n",
            " [ 0  1  0  0  0 27  0  0  0  0]\n",
            " [ 0  0  0  0  2  0 26  0  0  0]\n",
            " [ 0  0  0  1  2  1  0 27  0  2]\n",
            " [ 0  5  4  1  1  0  3  0 28  1]\n",
            " [ 0  1  1  2  2  1  0  0  0 25]]\n",
            "              precision    recall  f1-score   support\n",
            "\n",
            "           0       1.00      0.98      0.99        43\n",
            "           1       0.81      0.81      0.81        42\n",
            "           2       0.79      0.82      0.80        40\n",
            "           3       0.79      0.91      0.85        34\n",
            "           4       0.83      0.95      0.89        37\n",
            "           5       0.90      0.96      0.93        28\n",
            "           6       0.84      0.93      0.88        28\n",
            "           7       0.96      0.82      0.89        33\n",
            "           8       0.88      0.65      0.75        43\n",
            "           9       0.78      0.78      0.78        32\n",
            "\n",
            "    accuracy                           0.86       360\n",
            "   macro avg       0.86      0.86      0.86       360\n",
            "weighted avg       0.86      0.86      0.85       360\n",
            "\n"
          ]
        }
      ]
    },
    {
      "cell_type": "markdown",
      "source": [
        "### [1/5] decision tree 모델 예측 결과 해석하기\n",
        "* accuracy는 0.86임\n",
        "* confusion관련, 8를 0로 FP한 경우가 특히 많았음\n",
        "* f1-score 중심으로 평가바람직함 (precision, recall중 월등히 심각한 것 없음)\n",
        "* f1-score관련, 0를 가장 잘 맞히고, 8를 가장 못 맞힘"
      ],
      "metadata": {
        "id": "dlM05lafAdlH"
      }
    },
    {
      "cell_type": "markdown",
      "source": [
        "### [2/5] random forest 모델로 예측하고 평가하기"
      ],
      "metadata": {
        "id": "D8-vRn10C1v-"
      }
    },
    {
      "cell_type": "code",
      "source": [
        "# (5) 모델 학습 및 예측 - [2/5] random forest\n",
        "random_forest = RandomForestClassifier(random_state=32)\n",
        "random_forest.fit(X_train, y_train)\n",
        "y_pred = random_forest.predict(X_test)\n",
        "\n",
        "# (6) 모델을 평가해 보기\n",
        "accuracy = accuracy_score(y_test, y_pred)\n",
        "print('accuracy = ', accuracy)\n",
        "confusion = confusion_matrix(y_test, y_pred)\n",
        "print('confusion = ', confusion)\n",
        "print(classification_report(y_test, y_pred))"
      ],
      "metadata": {
        "colab": {
          "base_uri": "https://localhost:8080/"
        },
        "id": "X33ilsIVDeeL",
        "outputId": "c94d834d-9324-4667-f353-22901ecbfdef"
      },
      "execution_count": 4,
      "outputs": [
        {
          "output_type": "stream",
          "name": "stdout",
          "text": [
            "accuracy =  0.9638888888888889\n",
            "confusion =  [[42  0  0  0  1  0  0  0  0  0]\n",
            " [ 0 42  0  0  0  0  0  0  0  0]\n",
            " [ 0  0 40  0  0  0  0  0  0  0]\n",
            " [ 0  0  0 34  0  0  0  0  0  0]\n",
            " [ 0  0  0  0 37  0  0  0  0  0]\n",
            " [ 0  0  0  0  0 27  0  0  0  1]\n",
            " [ 0  0  0  0  1  0 27  0  0  0]\n",
            " [ 0  0  0  0  0  0  0 32  0  1]\n",
            " [ 0  3  0  0  1  1  0  2 36  0]\n",
            " [ 0  0  0  0  0  2  0  0  0 30]]\n",
            "              precision    recall  f1-score   support\n",
            "\n",
            "           0       1.00      0.98      0.99        43\n",
            "           1       0.93      1.00      0.97        42\n",
            "           2       1.00      1.00      1.00        40\n",
            "           3       1.00      1.00      1.00        34\n",
            "           4       0.93      1.00      0.96        37\n",
            "           5       0.90      0.96      0.93        28\n",
            "           6       1.00      0.96      0.98        28\n",
            "           7       0.94      0.97      0.96        33\n",
            "           8       1.00      0.84      0.91        43\n",
            "           9       0.94      0.94      0.94        32\n",
            "\n",
            "    accuracy                           0.96       360\n",
            "   macro avg       0.96      0.96      0.96       360\n",
            "weighted avg       0.97      0.96      0.96       360\n",
            "\n"
          ]
        }
      ]
    },
    {
      "cell_type": "markdown",
      "source": [
        "### [2/5] random forest 모델 예측 결과 해석하기\n",
        "* accuracy는 0.96임\n",
        "* confusion관련, 8를 0으로 FP한 경우가 특히 많았음\n",
        "* f1-score 중심으로 평가바람직함 (precision, recall중 월등히 심각한 것 없음)\n",
        "* f1-score관련, 대체로 잘 맞히고, 8를 가장 못 맞으"
      ],
      "metadata": {
        "id": "Hnc02JaeELfU"
      }
    },
    {
      "cell_type": "markdown",
      "source": [
        "### [3/5] Support Vector Machine 모델로 예측하고 평가하기"
      ],
      "metadata": {
        "id": "AMXRb-bsLsC5"
      }
    },
    {
      "cell_type": "code",
      "source": [
        "# (5) 모델 학습 및 예측 - [3/5] Support Vector Machine\n",
        "svm_model = svm.SVC()\n",
        "svm_model.fit(X_train, y_train)\n",
        "y_pred = svm_model.predict(X_test)\n",
        "\n",
        "# (6) 모델을 평가해 보기\n",
        "accuracy = accuracy_score(y_test, y_pred)\n",
        "print('accuracy = ', accuracy)\n",
        "confusion = confusion_matrix(y_test, y_pred)\n",
        "print('confusion = ', confusion)\n",
        "print(classification_report(y_test, y_pred))"
      ],
      "metadata": {
        "colab": {
          "base_uri": "https://localhost:8080/"
        },
        "id": "GhdRcs7vLv8R",
        "outputId": "4f913300-c051-413b-f9a2-5c4b32c0d5dd"
      },
      "execution_count": 6,
      "outputs": [
        {
          "output_type": "stream",
          "name": "stdout",
          "text": [
            "accuracy =  0.9888888888888889\n",
            "confusion =  [[43  0  0  0  0  0  0  0  0  0]\n",
            " [ 0 42  0  0  0  0  0  0  0  0]\n",
            " [ 0  0 40  0  0  0  0  0  0  0]\n",
            " [ 0  0  0 34  0  0  0  0  0  0]\n",
            " [ 0  0  0  0 37  0  0  0  0  0]\n",
            " [ 0  0  0  0  0 28  0  0  0  0]\n",
            " [ 0  0  0  0  0  0 28  0  0  0]\n",
            " [ 0  0  0  0  0  0  0 33  0  0]\n",
            " [ 0  2  0  0  0  1  0  0 40  0]\n",
            " [ 0  0  0  0  0  1  0  0  0 31]]\n",
            "              precision    recall  f1-score   support\n",
            "\n",
            "           0       1.00      1.00      1.00        43\n",
            "           1       0.95      1.00      0.98        42\n",
            "           2       1.00      1.00      1.00        40\n",
            "           3       1.00      1.00      1.00        34\n",
            "           4       1.00      1.00      1.00        37\n",
            "           5       0.93      1.00      0.97        28\n",
            "           6       1.00      1.00      1.00        28\n",
            "           7       1.00      1.00      1.00        33\n",
            "           8       1.00      0.93      0.96        43\n",
            "           9       1.00      0.97      0.98        32\n",
            "\n",
            "    accuracy                           0.99       360\n",
            "   macro avg       0.99      0.99      0.99       360\n",
            "weighted avg       0.99      0.99      0.99       360\n",
            "\n"
          ]
        }
      ]
    },
    {
      "cell_type": "markdown",
      "source": [
        "### [3/5] Support Vector Machine 모델 예측 결과 해석하기\n",
        "* accuracy는 0.99임\n",
        "* confusion관련, 8를 0으로 FP한 경우가 특히 많았음\n",
        "* f1-score 중심으로 평가바람직함 (precision, recall중 월등히 심각한 것 없음)\n",
        "* f1-score관련, 대체로 잘 맞히고, 8를 가장 못 맞힘"
      ],
      "metadata": {
        "id": "Ktej2ow1Miqw"
      }
    },
    {
      "cell_type": "markdown",
      "source": [
        "### [4/5] Stochastic Gradient Descent Classifier (SGDClassifier) 모델로 예측하고 평가하기"
      ],
      "metadata": {
        "id": "nJ8-xoA2NoQq"
      }
    },
    {
      "cell_type": "code",
      "source": [
        "# (5) 모델 학습 및 예측 - [4/5] Stochastic Gradient Descent Classifier (SGDClassifier)\n",
        "sgd_model = SGDClassifier()\n",
        "sgd_model.fit(X_train, y_train)\n",
        "y_pred = sgd_model.predict(X_test)\n",
        "\n",
        "# (6) 모델을 평가해 보기\n",
        "accuracy = accuracy_score(y_test, y_pred)\n",
        "print('accuracy = ', accuracy)\n",
        "confusion = confusion_matrix(y_test, y_pred)\n",
        "print('confusion = ', confusion)\n",
        "print(classification_report(y_test, y_pred))"
      ],
      "metadata": {
        "colab": {
          "base_uri": "https://localhost:8080/"
        },
        "id": "U1TbAtlzNqVZ",
        "outputId": "71f7a7bf-4e81-4411-e7d1-cd78de103bc0"
      },
      "execution_count": 7,
      "outputs": [
        {
          "output_type": "stream",
          "name": "stdout",
          "text": [
            "accuracy =  0.9361111111111111\n",
            "confusion =  [[43  0  0  0  0  0  0  0  0  0]\n",
            " [ 0 35  1  2  0  2  0  0  1  1]\n",
            " [ 0  0 39  1  0  0  0  0  0  0]\n",
            " [ 0  0  0 31  0  1  0  1  0  1]\n",
            " [ 0  0  0  0 36  0  1  0  0  0]\n",
            " [ 0  0  0  0  0 27  0  0  0  1]\n",
            " [ 1  1  0  0  0  0 26  0  0  0]\n",
            " [ 0  0  0  0  1  0  0 32  0  0]\n",
            " [ 0  3  1  0  1  1  0  0 37  0]\n",
            " [ 0  0  0  0  0  1  0  0  0 31]]\n",
            "              precision    recall  f1-score   support\n",
            "\n",
            "           0       0.98      1.00      0.99        43\n",
            "           1       0.90      0.83      0.86        42\n",
            "           2       0.95      0.97      0.96        40\n",
            "           3       0.91      0.91      0.91        34\n",
            "           4       0.95      0.97      0.96        37\n",
            "           5       0.84      0.96      0.90        28\n",
            "           6       0.96      0.93      0.95        28\n",
            "           7       0.97      0.97      0.97        33\n",
            "           8       0.97      0.86      0.91        43\n",
            "           9       0.91      0.97      0.94        32\n",
            "\n",
            "    accuracy                           0.94       360\n",
            "   macro avg       0.93      0.94      0.94       360\n",
            "weighted avg       0.94      0.94      0.94       360\n",
            "\n"
          ]
        }
      ]
    },
    {
      "cell_type": "markdown",
      "source": [
        "### [4/5] Stochastic Gradient Descent Classifier (SGDClassifier) 모델 예측 결과 해석하기\n",
        "* accuracy는 0.94임\n",
        "* confusion관련, 8를 0으로 FP한 경우가 특히 많았음\n",
        "* f1-score 중심으로 평가바람직함 (precision, recall중 월등히 심각한 것 없음)\n",
        "* f1-score관련, 0를 가장 잘 맞히고, 8를 가장 못 맞힘"
      ],
      "metadata": {
        "id": "Fal9xnKCNxHj"
      }
    },
    {
      "cell_type": "markdown",
      "source": [
        "### [5/5] Logistic Regression 모델로 예측하고 평가하기"
      ],
      "metadata": {
        "id": "X8_Xf34yON51"
      }
    },
    {
      "cell_type": "code",
      "source": [
        "# (5) 모델 학습 및 예측 -[5/5] Logistic Regression\n",
        "logistic_model = LogisticRegression(solver='liblinear')\n",
        "logistic_model.fit(X_train, y_train)\n",
        "y_pred = logistic_model.predict(X_test)\n",
        "\n",
        "# (6) 모델을 평가해 보기\n",
        "accuracy = accuracy_score(y_test, y_pred)\n",
        "print('accuracy = ', accuracy)\n",
        "confusion = confusion_matrix(y_test, y_pred)\n",
        "print('confusion = ', confusion)\n",
        "print(classification_report(y_test, y_pred))"
      ],
      "metadata": {
        "colab": {
          "base_uri": "https://localhost:8080/"
        },
        "id": "Y5v1p4OYOPbK",
        "outputId": "51be2d9b-b392-4f2d-c3b1-77b5a66b3d2f"
      },
      "execution_count": 9,
      "outputs": [
        {
          "output_type": "stream",
          "name": "stdout",
          "text": [
            "accuracy =  0.9444444444444444\n",
            "confusion =  [[43  0  0  0  0  0  0  0  0  0]\n",
            " [ 0 38  0  2  0  1  0  0  0  1]\n",
            " [ 0  0 39  1  0  0  0  0  0  0]\n",
            " [ 0  0  0 32  0  0  0  1  1  0]\n",
            " [ 0  0  0  0 36  0  1  0  0  0]\n",
            " [ 0  0  0  0  0 28  0  0  0  0]\n",
            " [ 0  1  0  0  0  0 26  0  1  0]\n",
            " [ 0  0  0  0  1  0  0 32  0  0]\n",
            " [ 0  3  1  0  1  0  0  0 38  0]\n",
            " [ 0  0  0  2  0  1  0  0  1 28]]\n",
            "              precision    recall  f1-score   support\n",
            "\n",
            "           0       1.00      1.00      1.00        43\n",
            "           1       0.90      0.90      0.90        42\n",
            "           2       0.97      0.97      0.97        40\n",
            "           3       0.86      0.94      0.90        34\n",
            "           4       0.95      0.97      0.96        37\n",
            "           5       0.93      1.00      0.97        28\n",
            "           6       0.96      0.93      0.95        28\n",
            "           7       0.97      0.97      0.97        33\n",
            "           8       0.93      0.88      0.90        43\n",
            "           9       0.97      0.88      0.92        32\n",
            "\n",
            "    accuracy                           0.94       360\n",
            "   macro avg       0.95      0.95      0.94       360\n",
            "weighted avg       0.95      0.94      0.94       360\n",
            "\n"
          ]
        }
      ]
    },
    {
      "cell_type": "markdown",
      "source": [
        "### [5/5] Logistic Regression 모델 예측 결과 해석하기\n",
        "* accuracy는 0.94임\n",
        "* confusion관련, 8를 0으로 FP한 경우가 특히 많았음\n",
        "* f1-score 중심으로 평가바람직함 (precision, recall중 월등히 심각한 것 없음)\n",
        "* f1-score관련, 0를 가장 잘 맞히고, 8를 가장 못 맞힘"
      ],
      "metadata": {
        "id": "TJ03eVvCOnEF"
      }
    },
    {
      "cell_type": "markdown",
      "source": [
        "## 3단계: 마무리 (모델들의 종합 평가)\n",
        "* 모든 모델이 비슷한 경함성을 보였다. 즉, 대체로 8를 0으로 오인식한다.\n",
        "* 그래서, 8에 대한 오인식율이 가장 높다.\n",
        "* 그 중에서 f1-score기준으로 가장 높은 건, Support Vector Machine 모델이었다."
      ],
      "metadata": {
        "id": "djULjJJdPJ8U"
      }
    },
    {
      "cell_type": "markdown",
      "source": [
        "# 프로젝트 (2) load_wine : 와인을 분류해 봅시다\n",
        "\n",
        "## 1단계: 데이터 준비하기 및 분석하기"
      ],
      "metadata": {
        "id": "1DjubcWwPo_Z"
      }
    },
    {
      "cell_type": "code",
      "source": [
        "# (2) 데이터 준비\n",
        "wine = load_wine()\n",
        "wine_data = wine.data  # feature data 지정하기\n",
        "wine_label = wine.target  # label data 지정하기\n",
        "\n",
        "# (3) 데이터 분석\n",
        "p('dir', dir(wine))      # 속성이나 메서드 출력\n",
        "p('keys', wine.keys())   # keys 출력\n",
        "p('feature names', wine.feature_names)     #  각 feature에 대한 설명\n",
        "p('data shape', wine_data.shape)   # 데이터 배열의 형상정보\n",
        "p('targer names', wine.target_names)      # 각 target에 대한 설명\n",
        "p('label shapre', wine_label.shape)   # 라벨 배열의 형상정보\n",
        "p('DESCRIPTION', wine.DESCR)    # DESCR: 데이터셋의 설명\n",
        "\n",
        "# (3-1) 데이터 분석 - pandas 활용\n",
        "wine_df = pd.DataFrame(data=wine_data, columns=wine.feature_names)\n",
        "wine_df[\"label\"] = wine.target\n",
        "print('######################################### 판다스 begin #########################################')\n",
        "print(wine_df)\n",
        "print('######################################### 판다스 end #########################################')\n",
        "\n",
        "# (3-2) 데이터 분석 - matplotlib 활용\n",
        "#Histogramas\n",
        "wine_df[['alcohol', 'malic_acid', 'ash', 'alcalinity_of_ash', 'magnesium', 'total_phenols', 'flavanoids', 'nonflavanoid_phenols', 'proanthocyanins', 'color_intensity', 'hue', 'od280/od315_of_diluted_wines', 'proline']].hist()\n",
        "\n",
        "# (4) train, test 데이터 분리\n",
        "X_train, X_test, y_train, y_test = train_test_split(wine_data, \n",
        "                                                    wine_label, \n",
        "                                                    test_size=0.2, \n",
        "                                                    random_state=7)\n",
        "print('X_train 개수: ', len(X_train),', X_test 개수: ', len(X_test))\n",
        "print(X_train.shape, y_train.shape, X_test.shape, y_test.shape)"
      ],
      "metadata": {
        "colab": {
          "base_uri": "https://localhost:8080/",
          "height": 1000
        },
        "id": "CcLBPopcTVx2",
        "outputId": "166f0ff4-620b-47b4-957e-3054ade3a639"
      },
      "execution_count": 14,
      "outputs": [
        {
          "output_type": "stream",
          "name": "stdout",
          "text": [
            "dir  =  ['DESCR', 'data', 'feature_names', 'frame', 'target', 'target_names']\n",
            "keys  =  dict_keys(['data', 'target', 'frame', 'target_names', 'DESCR', 'feature_names'])\n",
            "feature names  =  ['alcohol', 'malic_acid', 'ash', 'alcalinity_of_ash', 'magnesium', 'total_phenols', 'flavanoids', 'nonflavanoid_phenols', 'proanthocyanins', 'color_intensity', 'hue', 'od280/od315_of_diluted_wines', 'proline']\n",
            "data shape  =  (178, 13)\n",
            "targer names  =  ['class_0' 'class_1' 'class_2']\n",
            "label shapre  =  (178,)\n",
            "DESCRIPTION  =  .. _wine_dataset:\n",
            "\n",
            "Wine recognition dataset\n",
            "------------------------\n",
            "\n",
            "**Data Set Characteristics:**\n",
            "\n",
            "    :Number of Instances: 178 (50 in each of three classes)\n",
            "    :Number of Attributes: 13 numeric, predictive attributes and the class\n",
            "    :Attribute Information:\n",
            " \t\t- Alcohol\n",
            " \t\t- Malic acid\n",
            " \t\t- Ash\n",
            "\t\t- Alcalinity of ash  \n",
            " \t\t- Magnesium\n",
            "\t\t- Total phenols\n",
            " \t\t- Flavanoids\n",
            " \t\t- Nonflavanoid phenols\n",
            " \t\t- Proanthocyanins\n",
            "\t\t- Color intensity\n",
            " \t\t- Hue\n",
            " \t\t- OD280/OD315 of diluted wines\n",
            " \t\t- Proline\n",
            "\n",
            "    - class:\n",
            "            - class_0\n",
            "            - class_1\n",
            "            - class_2\n",
            "\t\t\n",
            "    :Summary Statistics:\n",
            "    \n",
            "    ============================= ==== ===== ======= =====\n",
            "                                   Min   Max   Mean     SD\n",
            "    ============================= ==== ===== ======= =====\n",
            "    Alcohol:                      11.0  14.8    13.0   0.8\n",
            "    Malic Acid:                   0.74  5.80    2.34  1.12\n",
            "    Ash:                          1.36  3.23    2.36  0.27\n",
            "    Alcalinity of Ash:            10.6  30.0    19.5   3.3\n",
            "    Magnesium:                    70.0 162.0    99.7  14.3\n",
            "    Total Phenols:                0.98  3.88    2.29  0.63\n",
            "    Flavanoids:                   0.34  5.08    2.03  1.00\n",
            "    Nonflavanoid Phenols:         0.13  0.66    0.36  0.12\n",
            "    Proanthocyanins:              0.41  3.58    1.59  0.57\n",
            "    Colour Intensity:              1.3  13.0     5.1   2.3\n",
            "    Hue:                          0.48  1.71    0.96  0.23\n",
            "    OD280/OD315 of diluted wines: 1.27  4.00    2.61  0.71\n",
            "    Proline:                       278  1680     746   315\n",
            "    ============================= ==== ===== ======= =====\n",
            "\n",
            "    :Missing Attribute Values: None\n",
            "    :Class Distribution: class_0 (59), class_1 (71), class_2 (48)\n",
            "    :Creator: R.A. Fisher\n",
            "    :Donor: Michael Marshall (MARSHALL%PLU@io.arc.nasa.gov)\n",
            "    :Date: July, 1988\n",
            "\n",
            "This is a copy of UCI ML Wine recognition datasets.\n",
            "https://archive.ics.uci.edu/ml/machine-learning-databases/wine/wine.data\n",
            "\n",
            "The data is the results of a chemical analysis of wines grown in the same\n",
            "region in Italy by three different cultivators. There are thirteen different\n",
            "measurements taken for different constituents found in the three types of\n",
            "wine.\n",
            "\n",
            "Original Owners: \n",
            "\n",
            "Forina, M. et al, PARVUS - \n",
            "An Extendible Package for Data Exploration, Classification and Correlation. \n",
            "Institute of Pharmaceutical and Food Analysis and Technologies,\n",
            "Via Brigata Salerno, 16147 Genoa, Italy.\n",
            "\n",
            "Citation:\n",
            "\n",
            "Lichman, M. (2013). UCI Machine Learning Repository\n",
            "[https://archive.ics.uci.edu/ml]. Irvine, CA: University of California,\n",
            "School of Information and Computer Science. \n",
            "\n",
            ".. topic:: References\n",
            "\n",
            "  (1) S. Aeberhard, D. Coomans and O. de Vel, \n",
            "  Comparison of Classifiers in High Dimensional Settings, \n",
            "  Tech. Rep. no. 92-02, (1992), Dept. of Computer Science and Dept. of  \n",
            "  Mathematics and Statistics, James Cook University of North Queensland. \n",
            "  (Also submitted to Technometrics). \n",
            "\n",
            "  The data was used with many others for comparing various \n",
            "  classifiers. The classes are separable, though only RDA \n",
            "  has achieved 100% correct classification. \n",
            "  (RDA : 100%, QDA 99.4%, LDA 98.9%, 1NN 96.1% (z-transformed data)) \n",
            "  (All results using the leave-one-out technique) \n",
            "\n",
            "  (2) S. Aeberhard, D. Coomans and O. de Vel, \n",
            "  \"THE CLASSIFICATION PERFORMANCE OF RDA\" \n",
            "  Tech. Rep. no. 92-01, (1992), Dept. of Computer Science and Dept. of \n",
            "  Mathematics and Statistics, James Cook University of North Queensland. \n",
            "  (Also submitted to Journal of Chemometrics).\n",
            "\n",
            "######################################### 판다스 begin #########################################\n",
            "     alcohol  malic_acid   ash  alcalinity_of_ash  magnesium  total_phenols  \\\n",
            "0      14.23        1.71  2.43               15.6      127.0           2.80   \n",
            "1      13.20        1.78  2.14               11.2      100.0           2.65   \n",
            "2      13.16        2.36  2.67               18.6      101.0           2.80   \n",
            "3      14.37        1.95  2.50               16.8      113.0           3.85   \n",
            "4      13.24        2.59  2.87               21.0      118.0           2.80   \n",
            "..       ...         ...   ...                ...        ...            ...   \n",
            "173    13.71        5.65  2.45               20.5       95.0           1.68   \n",
            "174    13.40        3.91  2.48               23.0      102.0           1.80   \n",
            "175    13.27        4.28  2.26               20.0      120.0           1.59   \n",
            "176    13.17        2.59  2.37               20.0      120.0           1.65   \n",
            "177    14.13        4.10  2.74               24.5       96.0           2.05   \n",
            "\n",
            "     flavanoids  nonflavanoid_phenols  proanthocyanins  color_intensity   hue  \\\n",
            "0          3.06                  0.28             2.29             5.64  1.04   \n",
            "1          2.76                  0.26             1.28             4.38  1.05   \n",
            "2          3.24                  0.30             2.81             5.68  1.03   \n",
            "3          3.49                  0.24             2.18             7.80  0.86   \n",
            "4          2.69                  0.39             1.82             4.32  1.04   \n",
            "..          ...                   ...              ...              ...   ...   \n",
            "173        0.61                  0.52             1.06             7.70  0.64   \n",
            "174        0.75                  0.43             1.41             7.30  0.70   \n",
            "175        0.69                  0.43             1.35            10.20  0.59   \n",
            "176        0.68                  0.53             1.46             9.30  0.60   \n",
            "177        0.76                  0.56             1.35             9.20  0.61   \n",
            "\n",
            "     od280/od315_of_diluted_wines  proline  label  \n",
            "0                            3.92   1065.0      0  \n",
            "1                            3.40   1050.0      0  \n",
            "2                            3.17   1185.0      0  \n",
            "3                            3.45   1480.0      0  \n",
            "4                            2.93    735.0      0  \n",
            "..                            ...      ...    ...  \n",
            "173                          1.74    740.0      2  \n",
            "174                          1.56    750.0      2  \n",
            "175                          1.56    835.0      2  \n",
            "176                          1.62    840.0      2  \n",
            "177                          1.60    560.0      2  \n",
            "\n",
            "[178 rows x 14 columns]\n",
            "######################################### 판다스 end #########################################\n",
            "X_train 개수:  142 , X_test 개수:  36\n",
            "(142, 13) (142,) (36, 13) (36,)\n"
          ]
        },
        {
          "output_type": "display_data",
          "data": {
            "text/plain": [
              "<Figure size 432x288 with 16 Axes>"
            ],
            "image/png": "[encoded data removed]"
          },
          "metadata": {
            "needs_background": "light"
          }
        }
      ]
    },
    {
      "cell_type": "markdown",
      "source": [
        "## 2단계: 5가지 모델별 학습, 예측, 평가 및 해석하기\n",
        "\n",
        "### [1/5] decision tree 모델로 예측하고 평가하기\n"
      ],
      "metadata": {
        "id": "tSDaWsDpU9-B"
      }
    },
    {
      "cell_type": "code",
      "source": [
        "# (5) 모델 학습 및 예측 - [1/5] decision tree\n",
        "decision_tree = DecisionTreeClassifier(random_state=32)\n",
        "decision_tree.fit(X_train, y_train)\n",
        "y_pred = decision_tree.predict(X_test)\n",
        "\n",
        "# (6) 모델을 평가해 보기\n",
        "accuracy = accuracy_score(y_test, y_pred)\n",
        "print('accuracy = ', accuracy)\n",
        "confusion = confusion_matrix(y_test, y_pred)\n",
        "print('confusion = ', confusion)\n",
        "print(classification_report(y_test, y_pred))"
      ],
      "metadata": {
        "colab": {
          "base_uri": "https://localhost:8080/"
        },
        "id": "ubWbLjXKVBLZ",
        "outputId": "959ed901-043b-4e25-c12e-4df8a4d3be5a"
      },
      "execution_count": 15,
      "outputs": [
        {
          "output_type": "stream",
          "name": "stdout",
          "text": [
            "accuracy =  0.9444444444444444\n",
            "confusion =  [[ 7  0  0]\n",
            " [ 0 17  0]\n",
            " [ 0  2 10]]\n",
            "              precision    recall  f1-score   support\n",
            "\n",
            "           0       1.00      1.00      1.00         7\n",
            "           1       0.89      1.00      0.94        17\n",
            "           2       1.00      0.83      0.91        12\n",
            "\n",
            "    accuracy                           0.94        36\n",
            "   macro avg       0.96      0.94      0.95        36\n",
            "weighted avg       0.95      0.94      0.94        36\n",
            "\n"
          ]
        }
      ]
    },
    {
      "cell_type": "markdown",
      "source": [
        "### [1/5] decision tree 모델 예측 결과 해석하기\n",
        "* accuracy는 0.944임\n",
        "* confusion관련, class3를 class2로 FP한 경우가 특히 많았음\n",
        "* class1를 positive라 할때, class3을 class1로 하면 심각하므로, precision중심으로 평가바람직함\n",
        "* precision관련, class2를 가장 못 맞히고, macro avg는 0.96임"
      ],
      "metadata": {
        "id": "uwDlX4yiXqji"
      }
    },
    {
      "cell_type": "markdown",
      "source": [
        "### [2/5] random forest 모델로 예측하고 평가하기"
      ],
      "metadata": {
        "id": "aNz79visXrrt"
      }
    },
    {
      "cell_type": "code",
      "source": [
        "# (5) 모델 학습 및 예측 - [2/5] random forest\n",
        "random_forest = RandomForestClassifier(random_state=32)\n",
        "random_forest.fit(X_train, y_train)\n",
        "y_pred = random_forest.predict(X_test)\n",
        "\n",
        "# (6) 모델을 평가해 보기\n",
        "accuracy = accuracy_score(y_test, y_pred)\n",
        "print('accuracy = ', accuracy)\n",
        "confusion = confusion_matrix(y_test, y_pred)\n",
        "print('confusion = ', confusion)\n",
        "print(classification_report(y_test, y_pred))"
      ],
      "metadata": {
        "colab": {
          "base_uri": "https://localhost:8080/"
        },
        "id": "524klzFnX-Hg",
        "outputId": "ceebe8c2-01e7-432f-f907-62ba7ab56410"
      },
      "execution_count": 16,
      "outputs": [
        {
          "output_type": "stream",
          "name": "stdout",
          "text": [
            "accuracy =  1.0\n",
            "confusion =  [[ 7  0  0]\n",
            " [ 0 17  0]\n",
            " [ 0  0 12]]\n",
            "              precision    recall  f1-score   support\n",
            "\n",
            "           0       1.00      1.00      1.00         7\n",
            "           1       1.00      1.00      1.00        17\n",
            "           2       1.00      1.00      1.00        12\n",
            "\n",
            "    accuracy                           1.00        36\n",
            "   macro avg       1.00      1.00      1.00        36\n",
            "weighted avg       1.00      1.00      1.00        36\n",
            "\n"
          ]
        }
      ]
    },
    {
      "cell_type": "markdown",
      "source": [
        "### [2/5] random forest 모델 예측 결과 해석하기\n",
        "* accuracy는 1.0임\n",
        "* confusion관련, 오인식이 없음\n",
        "* class1를 positive라 할때, class3을 class1로 하면 심각하므로, precision중심으로 평가바람직함\n",
        "* precision관련, macro avg는 1.0임"
      ],
      "metadata": {
        "id": "EUNsxdGlX5cA"
      }
    },
    {
      "cell_type": "markdown",
      "source": [
        "### [3/5] Support Vector Machine 모델로 예측하고 평가하기"
      ],
      "metadata": {
        "id": "yqvWwyGHYOH5"
      }
    },
    {
      "cell_type": "code",
      "source": [
        "# (5) 모델 학습 및 예측 - [3/5] Support Vector Machine\n",
        "svm_model = svm.SVC()\n",
        "svm_model.fit(X_train, y_train)\n",
        "y_pred = svm_model.predict(X_test)\n",
        "\n",
        "# (6) 모델을 평가해 보기\n",
        "accuracy = accuracy_score(y_test, y_pred)\n",
        "print('accuracy = ', accuracy)\n",
        "confusion = confusion_matrix(y_test, y_pred)\n",
        "print('confusion = ', confusion)\n",
        "print(classification_report(y_test, y_pred))\n"
      ],
      "metadata": {
        "colab": {
          "base_uri": "https://localhost:8080/"
        },
        "id": "imO6hwn9YSBO",
        "outputId": "9d8f08a8-2de3-4cff-9c5d-132d31be7262"
      },
      "execution_count": 17,
      "outputs": [
        {
          "output_type": "stream",
          "name": "stdout",
          "text": [
            "accuracy =  0.6111111111111112\n",
            "confusion =  [[ 6  0  1]\n",
            " [ 1 15  1]\n",
            " [ 0 11  1]]\n",
            "              precision    recall  f1-score   support\n",
            "\n",
            "           0       0.86      0.86      0.86         7\n",
            "           1       0.58      0.88      0.70        17\n",
            "           2       0.33      0.08      0.13        12\n",
            "\n",
            "    accuracy                           0.61        36\n",
            "   macro avg       0.59      0.61      0.56        36\n",
            "weighted avg       0.55      0.61      0.54        36\n",
            "\n"
          ]
        }
      ]
    },
    {
      "cell_type": "markdown",
      "source": [
        "### [3/5] Support Vector Machine 모델 예측 결과 해석하기\n",
        "* accuracy는 0.611임\n",
        "* confusion관련, class3를 class2로 FP한 경우가 특히 많았음\n",
        "* class1를 positive라 할때, class3을 class1로 하면 심각하므로, precision중심으로 평가바람직함\n",
        "* precision관련, class2를 가장 못 맞히고, macro avg는 0.59임\n"
      ],
      "metadata": {
        "id": "s9rh3cS_YjDz"
      }
    },
    {
      "cell_type": "markdown",
      "source": [
        "### [4/5] Stochastic Gradient Descent Classifier (SGDClassifier) 모델로 예측하고 평가하기"
      ],
      "metadata": {
        "id": "V-wj3ZPvYoMX"
      }
    },
    {
      "cell_type": "code",
      "source": [
        "# (5) 모델 학습 및 예측 - [4/5] Stochastic Gradient Descent Classifier (SGDClassifier)\n",
        "sgd_model = SGDClassifier()\n",
        "sgd_model.fit(X_train, y_train)\n",
        "y_pred = sgd_model.predict(X_test)\n",
        "\n",
        "# (5) 모델 학습 및 예측 -[5/5] Logistic Regression\n",
        "logistic_model = LogisticRegression(solver='liblinear')\n",
        "logistic_model.fit(X_train, y_train)\n",
        "y_pred = logistic_model.predict(X_test)\n",
        "\n",
        "# (6) 모델을 평가해 보기\n",
        "accuracy = accuracy_score(y_test, y_pred)\n",
        "print('accuracy = ', accuracy)\n",
        "confusion = confusion_matrix(y_test, y_pred)\n",
        "print('confusion = ', confusion)\n",
        "print(classification_report(y_test, y_pred))\n"
      ],
      "metadata": {
        "colab": {
          "base_uri": "https://localhost:8080/"
        },
        "id": "oEvkpTHdY3pp",
        "outputId": "db3d4cca-0972-413c-af09-26af84d65d66"
      },
      "execution_count": 18,
      "outputs": [
        {
          "output_type": "stream",
          "name": "stdout",
          "text": [
            "accuracy =  0.9722222222222222\n",
            "confusion =  [[ 7  0  0]\n",
            " [ 1 16  0]\n",
            " [ 0  0 12]]\n",
            "              precision    recall  f1-score   support\n",
            "\n",
            "           0       0.88      1.00      0.93         7\n",
            "           1       1.00      0.94      0.97        17\n",
            "           2       1.00      1.00      1.00        12\n",
            "\n",
            "    accuracy                           0.97        36\n",
            "   macro avg       0.96      0.98      0.97        36\n",
            "weighted avg       0.98      0.97      0.97        36\n",
            "\n"
          ]
        }
      ]
    },
    {
      "cell_type": "markdown",
      "source": [
        "### [4/5] Stochastic Gradient Descent Classifier (SGDClassifier) 모델 예측 결과 해석하기\n",
        "* accuracy는 0.97임\n",
        "* confusion관련, class2를 class1로 FP한 경우가 특히 많았음\n",
        "* class1를 positive라 할때, class3을 class1로 하면 심각하므로, precision중심으로 평가바람직함\n",
        "* precision관련, class1를 가장 못 맞히고, macro avg는 0.96임"
      ],
      "metadata": {
        "id": "j05VHG5rY7Zg"
      }
    },
    {
      "cell_type": "markdown",
      "source": [
        "### [5/5] Logistic Regression 모델로 예측하고 평가하기"
      ],
      "metadata": {
        "id": "jU7WJm4xZNYm"
      }
    },
    {
      "cell_type": "code",
      "source": [
        "# (5) 모델 학습 및 예측 -[5/5] Logistic Regression\n",
        "logistic_model = LogisticRegression(solver='liblinear')\n",
        "logistic_model.fit(X_train, y_train)\n",
        "y_pred = logistic_model.predict(X_test)\n",
        "\n",
        "# (6) 모델을 평가해 보기\n",
        "accuracy = accuracy_score(y_test, y_pred)\n",
        "print('accuracy = ', accuracy)\n",
        "confusion = confusion_matrix(y_test, y_pred)\n",
        "print('confusion = ', confusion)\n",
        "print(classification_report(y_test, y_pred))\n"
      ],
      "metadata": {
        "colab": {
          "base_uri": "https://localhost:8080/"
        },
        "id": "Lgh-CDWxZQgy",
        "outputId": "75678c2c-2400-4b7c-bdef-a864ad4c90d2"
      },
      "execution_count": 19,
      "outputs": [
        {
          "output_type": "stream",
          "name": "stdout",
          "text": [
            "accuracy =  0.9722222222222222\n",
            "confusion =  [[ 7  0  0]\n",
            " [ 1 16  0]\n",
            " [ 0  0 12]]\n",
            "              precision    recall  f1-score   support\n",
            "\n",
            "           0       0.88      1.00      0.93         7\n",
            "           1       1.00      0.94      0.97        17\n",
            "           2       1.00      1.00      1.00        12\n",
            "\n",
            "    accuracy                           0.97        36\n",
            "   macro avg       0.96      0.98      0.97        36\n",
            "weighted avg       0.98      0.97      0.97        36\n",
            "\n"
          ]
        }
      ]
    },
    {
      "cell_type": "markdown",
      "source": [
        "## 3단계: 마무리 (모델들의 종합 평가)\n",
        "* 모든 모델이 비슷한 경함성을 보였다. 즉, 대체로 class2를 class1로 오인식한다.\n",
        "* 그래서, class1에 대한 precision이 가장 높다.\n",
        "* 그 중에서 precision기준으로 가장 높은 건, random forest 모델이었다."
      ],
      "metadata": {
        "id": "j8WCq3ovZ09m"
      }
    },
    {
      "cell_type": "markdown",
      "source": [
        "# 프로젝트 (3) load_breast_cancer : 유방암 여부를 진단해 봅시다\n",
        "\n",
        "## 1단계: 데이터 준비하기 및 분석하기"
      ],
      "metadata": {
        "id": "7kFYRvbxaL6W"
      }
    },
    {
      "cell_type": "code",
      "source": [
        "# (2) 데이터 준비\n",
        "breast_cancer = load_breast_cancer()\n",
        "breast_cancer_data = breast_cancer.data  # feature data 지정하기\n",
        "breast_cancer_label = breast_cancer.target  # label data 지정하기\n",
        "\n",
        "# (3) 데이터 분석\n",
        "p('dir', dir(breast_cancer))      # 속성이나 메서드 출력\n",
        "p('keys', breast_cancer.keys())   # keys 출력\n",
        "p('feature names', breast_cancer.feature_names)     #  각 feature에 대한 설명\n",
        "p('data shape', breast_cancer_data.shape)   # 데이터 배열의 형상정보\n",
        "p('targer names', breast_cancer.target_names)      # 각 target에 대한 설명\n",
        "p('label shapre', breast_cancer_label.shape)   # 라벨 배열의 형상정보\n",
        "p('DESCRIPTION', breast_cancer.DESCR)    # DESCR: 데이터셋의 설명\n",
        "\n",
        "# (3-1) 데이터 분석 - pandas 활용\n",
        "breast_cancer_df = pd.DataFrame(data=breast_cancer_data, columns=breast_cancer.feature_names)\n",
        "breast_cancer_df[\"label\"] = breast_cancer.target\n",
        "print('######################################### 판다스 begin #########################################')\n",
        "print(breast_cancer_df)\n",
        "print('######################################### 판다스 end #########################################')\n",
        "\n",
        "# (3-2) 데이터 분석 - matplotlib 활용\n",
        "#Histogramas\n",
        "breast_cancer_df[['mean radius', 'mean smoothness', 'mean symmetry', 'worst radius', 'worst texture', 'worst smoothness', 'worst symmetry']].hist()\n",
        "\n",
        "\n",
        "# (4) train, test 데이터 분리\n",
        "X_train, X_test, y_train, y_test = train_test_split(breast_cancer_data, \n",
        "                                                    breast_cancer_label, \n",
        "                                                    test_size=0.2, \n",
        "                                                    random_state=7)\n",
        "print('X_train 개수: ', len(X_train),', X_test 개수: ', len(X_test))\n",
        "print(X_train.shape, y_train.shape, X_test.shape, y_test.shape)"
      ],
      "metadata": {
        "colab": {
          "base_uri": "https://localhost:8080/",
          "height": 1000
        },
        "id": "0neS2b1RakQe",
        "outputId": "3c479c04-5dac-4714-999e-a9a5ed137fac"
      },
      "execution_count": 29,
      "outputs": [
        {
          "output_type": "stream",
          "name": "stdout",
          "text": [
            "dir  =  ['DESCR', 'data', 'data_module', 'feature_names', 'filename', 'frame', 'target', 'target_names']\n",
            "keys  =  dict_keys(['data', 'target', 'frame', 'target_names', 'DESCR', 'feature_names', 'filename', 'data_module'])\n",
            "feature names  =  ['mean radius' 'mean texture' 'mean perimeter' 'mean area'\n",
            " 'mean smoothness' 'mean compactness' 'mean concavity'\n",
            " 'mean concave points' 'mean symmetry' 'mean fractal dimension'\n",
            " 'radius error' 'texture error' 'perimeter error' 'area error'\n",
            " 'smoothness error' 'compactness error' 'concavity error'\n",
            " 'concave points error' 'symmetry error' 'fractal dimension error'\n",
            " 'worst radius' 'worst texture' 'worst perimeter' 'worst area'\n",
            " 'worst smoothness' 'worst compactness' 'worst concavity'\n",
            " 'worst concave points' 'worst symmetry' 'worst fractal dimension']\n",
            "data shape  =  (569, 30)\n",
            "targer names  =  ['malignant' 'benign']\n",
            "label shapre  =  (569,)\n",
            "DESCRIPTION  =  .. _breast_cancer_dataset:\n",
            "\n",
            "Breast cancer wisconsin (diagnostic) dataset\n",
            "--------------------------------------------\n",
            "\n",
            "**Data Set Characteristics:**\n",
            "\n",
            "    :Number of Instances: 569\n",
            "\n",
            "    :Number of Attributes: 30 numeric, predictive attributes and the class\n",
            "\n",
            "    :Attribute Information:\n",
            "        - radius (mean of distances from center to points on the perimeter)\n",
            "        - texture (standard deviation of gray-scale values)\n",
            "        - perimeter\n",
            "        - area\n",
            "        - smoothness (local variation in radius lengths)\n",
            "        - compactness (perimeter^2 / area - 1.0)\n",
            "        - concavity (severity of concave portions of the contour)\n",
            "        - concave points (number of concave portions of the contour)\n",
            "        - symmetry\n",
            "        - fractal dimension (\"coastline approximation\" - 1)\n",
            "\n",
            "        The mean, standard error, and \"worst\" or largest (mean of the three\n",
            "        worst/largest values) of these features were computed for each image,\n",
            "        resulting in 30 features.  For instance, field 0 is Mean Radius, field\n",
            "        10 is Radius SE, field 20 is Worst Radius.\n",
            "\n",
            "        - class:\n",
            "                - WDBC-Malignant\n",
            "                - WDBC-Benign\n",
            "\n",
            "    :Summary Statistics:\n",
            "\n",
            "    ===================================== ====== ======\n",
            "                                           Min    Max\n",
            "    ===================================== ====== ======\n",
            "    radius (mean):                        6.981  28.11\n",
            "    texture (mean):                       9.71   39.28\n",
            "    perimeter (mean):                     43.79  188.5\n",
            "    area (mean):                          143.5  2501.0\n",
            "    smoothness (mean):                    0.053  0.163\n",
            "    compactness (mean):                   0.019  0.345\n",
            "    concavity (mean):                     0.0    0.427\n",
            "    concave points (mean):                0.0    0.201\n",
            "    symmetry (mean):                      0.106  0.304\n",
            "    fractal dimension (mean):             0.05   0.097\n",
            "    radius (standard error):              0.112  2.873\n",
            "    texture (standard error):             0.36   4.885\n",
            "    perimeter (standard error):           0.757  21.98\n",
            "    area (standard error):                6.802  542.2\n",
            "    smoothness (standard error):          0.002  0.031\n",
            "    compactness (standard error):         0.002  0.135\n",
            "    concavity (standard error):           0.0    0.396\n",
            "    concave points (standard error):      0.0    0.053\n",
            "    symmetry (standard error):            0.008  0.079\n",
            "    fractal dimension (standard error):   0.001  0.03\n",
            "    radius (worst):                       7.93   36.04\n",
            "    texture (worst):                      12.02  49.54\n",
            "    perimeter (worst):                    50.41  251.2\n",
            "    area (worst):                         185.2  4254.0\n",
            "    smoothness (worst):                   0.071  0.223\n",
            "    compactness (worst):                  0.027  1.058\n",
            "    concavity (worst):                    0.0    1.252\n",
            "    concave points (worst):               0.0    0.291\n",
            "    symmetry (worst):                     0.156  0.664\n",
            "    fractal dimension (worst):            0.055  0.208\n",
            "    ===================================== ====== ======\n",
            "\n",
            "    :Missing Attribute Values: None\n",
            "\n",
            "    :Class Distribution: 212 - Malignant, 357 - Benign\n",
            "\n",
            "    :Creator:  Dr. William H. Wolberg, W. Nick Street, Olvi L. Mangasarian\n",
            "\n",
            "    :Donor: Nick Street\n",
            "\n",
            "    :Date: November, 1995\n",
            "\n",
            "This is a copy of UCI ML Breast Cancer Wisconsin (Diagnostic) datasets.\n",
            "https://goo.gl/U2Uwz2\n",
            "\n",
            "Features are computed from a digitized image of a fine needle\n",
            "aspirate (FNA) of a breast mass.  They describe\n",
            "characteristics of the cell nuclei present in the image.\n",
            "\n",
            "Separating plane described above was obtained using\n",
            "Multisurface Method-Tree (MSM-T) [K. P. Bennett, \"Decision Tree\n",
            "Construction Via Linear Programming.\" Proceedings of the 4th\n",
            "Midwest Artificial Intelligence and Cognitive Science Society,\n",
            "pp. 97-101, 1992], a classification method which uses linear\n",
            "programming to construct a decision tree.  Relevant features\n",
            "were selected using an exhaustive search in the space of 1-4\n",
            "features and 1-3 separating planes.\n",
            "\n",
            "The actual linear program used to obtain the separating plane\n",
            "in the 3-dimensional space is that described in:\n",
            "[K. P. Bennett and O. L. Mangasarian: \"Robust Linear\n",
            "Programming Discrimination of Two Linearly Inseparable Sets\",\n",
            "Optimization Methods and Software 1, 1992, 23-34].\n",
            "\n",
            "This database is also available through the UW CS ftp server:\n",
            "\n",
            "ftp ftp.cs.wisc.edu\n",
            "cd math-prog/cpo-dataset/machine-learn/WDBC/\n",
            "\n",
            ".. topic:: References\n",
            "\n",
            "   - W.N. Street, W.H. Wolberg and O.L. Mangasarian. Nuclear feature extraction \n",
            "     for breast tumor diagnosis. IS&T/SPIE 1993 International Symposium on \n",
            "     Electronic Imaging: Science and Technology, volume 1905, pages 861-870,\n",
            "     San Jose, CA, 1993.\n",
            "   - O.L. Mangasarian, W.N. Street and W.H. Wolberg. Breast cancer diagnosis and \n",
            "     prognosis via linear programming. Operations Research, 43(4), pages 570-577, \n",
            "     July-August 1995.\n",
            "   - W.H. Wolberg, W.N. Street, and O.L. Mangasarian. Machine learning techniques\n",
            "     to diagnose breast cancer from fine-needle aspirates. Cancer Letters 77 (1994) \n",
            "     163-171.\n",
            "######################################### 판다스 begin #########################################\n",
            "     mean radius  mean texture  mean perimeter  mean area  mean smoothness  \\\n",
            "0          17.99         10.38          122.80     1001.0          0.11840   \n",
            "1          20.57         17.77          132.90     1326.0          0.08474   \n",
            "2          19.69         21.25          130.00     1203.0          0.10960   \n",
            "3          11.42         20.38           77.58      386.1          0.14250   \n",
            "4          20.29         14.34          135.10     1297.0          0.10030   \n",
            "..           ...           ...             ...        ...              ...   \n",
            "564        21.56         22.39          142.00     1479.0          0.11100   \n",
            "565        20.13         28.25          131.20     1261.0          0.09780   \n",
            "566        16.60         28.08          108.30      858.1          0.08455   \n",
            "567        20.60         29.33          140.10     1265.0          0.11780   \n",
            "568         7.76         24.54           47.92      181.0          0.05263   \n",
            "\n",
            "     mean compactness  mean concavity  mean concave points  mean symmetry  \\\n",
            "0             0.27760         0.30010              0.14710         0.2419   \n",
            "1             0.07864         0.08690              0.07017         0.1812   \n",
            "2             0.15990         0.19740              0.12790         0.2069   \n",
            "3             0.28390         0.24140              0.10520         0.2597   \n",
            "4             0.13280         0.19800              0.10430         0.1809   \n",
            "..                ...             ...                  ...            ...   \n",
            "564           0.11590         0.24390              0.13890         0.1726   \n",
            "565           0.10340         0.14400              0.09791         0.1752   \n",
            "566           0.10230         0.09251              0.05302         0.1590   \n",
            "567           0.27700         0.35140              0.15200         0.2397   \n",
            "568           0.04362         0.00000              0.00000         0.1587   \n",
            "\n",
            "     mean fractal dimension  ...  worst texture  worst perimeter  worst area  \\\n",
            "0                   0.07871  ...          17.33           184.60      2019.0   \n",
            "1                   0.05667  ...          23.41           158.80      1956.0   \n",
            "2                   0.05999  ...          25.53           152.50      1709.0   \n",
            "3                   0.09744  ...          26.50            98.87       567.7   \n",
            "4                   0.05883  ...          16.67           152.20      1575.0   \n",
            "..                      ...  ...            ...              ...         ...   \n",
            "564                 0.05623  ...          26.40           166.10      2027.0   \n",
            "565                 0.05533  ...          38.25           155.00      1731.0   \n",
            "566                 0.05648  ...          34.12           126.70      1124.0   \n",
            "567                 0.07016  ...          39.42           184.60      1821.0   \n",
            "568                 0.05884  ...          30.37            59.16       268.6   \n",
            "\n",
            "     worst smoothness  worst compactness  worst concavity  \\\n",
            "0             0.16220            0.66560           0.7119   \n",
            "1             0.12380            0.18660           0.2416   \n",
            "2             0.14440            0.42450           0.4504   \n",
            "3             0.20980            0.86630           0.6869   \n",
            "4             0.13740            0.20500           0.4000   \n",
            "..                ...                ...              ...   \n",
            "564           0.14100            0.21130           0.4107   \n",
            "565           0.11660            0.19220           0.3215   \n",
            "566           0.11390            0.30940           0.3403   \n",
            "567           0.16500            0.86810           0.9387   \n",
            "568           0.08996            0.06444           0.0000   \n",
            "\n",
            "     worst concave points  worst symmetry  worst fractal dimension  label  \n",
            "0                  0.2654          0.4601                  0.11890      0  \n",
            "1                  0.1860          0.2750                  0.08902      0  \n",
            "2                  0.2430          0.3613                  0.08758      0  \n",
            "3                  0.2575          0.6638                  0.17300      0  \n",
            "4                  0.1625          0.2364                  0.07678      0  \n",
            "..                    ...             ...                      ...    ...  \n",
            "564                0.2216          0.2060                  0.07115      0  \n",
            "565                0.1628          0.2572                  0.06637      0  \n",
            "566                0.1418          0.2218                  0.07820      0  \n",
            "567                0.2650          0.4087                  0.12400      0  \n",
            "568                0.0000          0.2871                  0.07039      1  \n",
            "\n",
            "[569 rows x 31 columns]\n",
            "######################################### 판다스 end #########################################\n",
            "X_train 개수:  455 , X_test 개수:  114\n",
            "(455, 30) (455,) (114, 30) (114,)\n"
          ]
        },
        {
          "output_type": "display_data",
          "data": {
            "text/plain": [
              "<Figure size 432x288 with 9 Axes>"
            ],
            "image/png": "[encoded data removed]"
          },
          "metadata": {
            "needs_background": "light"
          }
        }
      ]
    },
    {
      "cell_type": "markdown",
      "source": [
        "## 2단계: 5가지 모델별 학습, 예측, 평가 및 해석하기\n",
        "\n",
        "### [1/5] decision tree 모델로 예측하고 평가하기\n"
      ],
      "metadata": {
        "id": "F3wsjSVCc-zN"
      }
    },
    {
      "cell_type": "code",
      "source": [
        "# (5) 모델 학습 및 예측 - [1/5] decision tree\n",
        "decision_tree = DecisionTreeClassifier(random_state=32)\n",
        "decision_tree.fit(X_train, y_train)\n",
        "y_pred = decision_tree.predict(X_test)\n",
        "\n",
        "# (6) 모델을 평가해 보기\n",
        "accuracy = accuracy_score(y_test, y_pred)\n",
        "print('accuracy = ', accuracy)\n",
        "confusion = confusion_matrix(y_test, y_pred)\n",
        "print('confusion = ', confusion)\n",
        "print(classification_report(y_test, y_pred))"
      ],
      "metadata": {
        "colab": {
          "base_uri": "https://localhost:8080/"
        },
        "id": "W0PkfCYddAjv",
        "outputId": "070dc864-af00-4efe-a2a1-c418a77eb439"
      },
      "execution_count": 30,
      "outputs": [
        {
          "output_type": "stream",
          "name": "stdout",
          "text": [
            "accuracy =  0.9122807017543859\n",
            "confusion =  [[33  7]\n",
            " [ 3 71]]\n",
            "              precision    recall  f1-score   support\n",
            "\n",
            "           0       0.92      0.82      0.87        40\n",
            "           1       0.91      0.96      0.93        74\n",
            "\n",
            "    accuracy                           0.91       114\n",
            "   macro avg       0.91      0.89      0.90       114\n",
            "weighted avg       0.91      0.91      0.91       114\n",
            "\n"
          ]
        }
      ]
    },
    {
      "cell_type": "markdown",
      "source": [
        "### [1/5] decision tree 모델 예측 결과 해석하기\n",
        "* accuracy는 0.912임\n",
        "* confusion관련, 음성을 양성으로 FP한 경우가 특히 많았음\n",
        "* 1을 positive라 할때, 양성이 음성으로 평가되면 심각하므로, recall중심으로 평가바람직함\n",
        "* recall관련, macro avg는 0.91임"
      ],
      "metadata": {
        "id": "iWlE3vase8b-"
      }
    },
    {
      "cell_type": "markdown",
      "source": [
        "### [2/5] random forest 모델로 예측하고 평가하기\n"
      ],
      "metadata": {
        "id": "BYMZAkXNfdC5"
      }
    },
    {
      "cell_type": "code",
      "source": [
        "# (5) 모델 학습 및 예측 - [2/5] random forest\n",
        "random_forest = RandomForestClassifier(random_state=32)\n",
        "random_forest.fit(X_train, y_train)\n",
        "y_pred = random_forest.predict(X_test)\n",
        "\n",
        "# (6) 모델을 평가해 보기\n",
        "accuracy = accuracy_score(y_test, y_pred)\n",
        "print('accuracy = ', accuracy)\n",
        "confusion = confusion_matrix(y_test, y_pred)\n",
        "print('confusion = ', confusion)\n",
        "print(classification_report(y_test, y_pred))\n"
      ],
      "metadata": {
        "colab": {
          "base_uri": "https://localhost:8080/"
        },
        "id": "K4QLSJLffkdm",
        "outputId": "995ecee8-4d14-4a62-a7c5-e5ff9bcac472"
      },
      "execution_count": 31,
      "outputs": [
        {
          "output_type": "stream",
          "name": "stdout",
          "text": [
            "accuracy =  1.0\n",
            "confusion =  [[40  0]\n",
            " [ 0 74]]\n",
            "              precision    recall  f1-score   support\n",
            "\n",
            "           0       1.00      1.00      1.00        40\n",
            "           1       1.00      1.00      1.00        74\n",
            "\n",
            "    accuracy                           1.00       114\n",
            "   macro avg       1.00      1.00      1.00       114\n",
            "weighted avg       1.00      1.00      1.00       114\n",
            "\n"
          ]
        }
      ]
    },
    {
      "cell_type": "markdown",
      "source": [
        "### [2/5] random forest 모델 예측 결과 해석하기\n",
        "* accuracy는 1.0임\n",
        "* confusion관련, 음성을 양성으로 FP한 경우가 특히 많았음\n",
        "* 1을 positive라 할때, 양성이 음성으로 평가되면 심각하므로, recall중심으로 평가바람직함\n",
        "* recall관련, macro avg는 1.0임"
      ],
      "metadata": {
        "id": "PAgtUgSGftL4"
      }
    },
    {
      "cell_type": "markdown",
      "source": [
        "### [3/5] Support Vector Machine 모델로 예측하고 평가하기\n"
      ],
      "metadata": {
        "id": "-VSdJ4eCftu_"
      }
    },
    {
      "cell_type": "code",
      "source": [
        "# (5) 모델 학습 및 예측 - [3/5] Support Vector Machine\n",
        "svm_model = svm.SVC()\n",
        "svm_model.fit(X_train, y_train)\n",
        "y_pred = svm_model.predict(X_test)\n",
        "\n",
        "# (6) 모델을 평가해 보기\n",
        "accuracy = accuracy_score(y_test, y_pred)\n",
        "print('accuracy = ', accuracy)\n",
        "confusion = confusion_matrix(y_test, y_pred)\n",
        "print('confusion = ', confusion)\n",
        "print(classification_report(y_test, y_pred))\n"
      ],
      "metadata": {
        "colab": {
          "base_uri": "https://localhost:8080/"
        },
        "id": "FwbR81wufwsQ",
        "outputId": "c041c714-e950-4de8-cc2e-0b7002dae510"
      },
      "execution_count": 32,
      "outputs": [
        {
          "output_type": "stream",
          "name": "stdout",
          "text": [
            "accuracy =  0.9035087719298246\n",
            "confusion =  [[29 11]\n",
            " [ 0 74]]\n",
            "              precision    recall  f1-score   support\n",
            "\n",
            "           0       1.00      0.72      0.84        40\n",
            "           1       0.87      1.00      0.93        74\n",
            "\n",
            "    accuracy                           0.90       114\n",
            "   macro avg       0.94      0.86      0.89       114\n",
            "weighted avg       0.92      0.90      0.90       114\n",
            "\n"
          ]
        }
      ]
    },
    {
      "cell_type": "markdown",
      "source": [
        "### [3/5] Support Vector Machine 모델 예측 결과 해석하기\n",
        "* accuracy는 0.903임\n",
        "* confusion관련, 음성을 양성으로 FP한 경우가 특히 많았음\n",
        "* 1을 positive라 할때, 양성이 음성으로 평가되면 심각하므로, recall중심으로 평가바람직함\n",
        "* recall관련, macro avg는 0.94임"
      ],
      "metadata": {
        "id": "n_sIVxxHf8uH"
      }
    },
    {
      "cell_type": "markdown",
      "source": [
        "### [4/5] Stochastic Gradient Descent Classifier (SGDClassifier) 모델로 예측하고 평가하기\n"
      ],
      "metadata": {
        "id": "eK9oY8Npf9Um"
      }
    },
    {
      "cell_type": "code",
      "source": [
        "# (5) 모델 학습 및 예측 - [4/5] Stochastic Gradient Descent Classifier (SGDClassifier)\n",
        "sgd_model = SGDClassifier()\n",
        "sgd_model.fit(X_train, y_train)\n",
        "y_pred = sgd_model.predict(X_test)\n",
        "\n",
        "# (6) 모델을 평가해 보기\n",
        "accuracy = accuracy_score(y_test, y_pred)\n",
        "print('accuracy = ', accuracy)\n",
        "confusion = confusion_matrix(y_test, y_pred)\n",
        "print('confusion = ', confusion)\n",
        "print(classification_report(y_test, y_pred))\n"
      ],
      "metadata": {
        "colab": {
          "base_uri": "https://localhost:8080/"
        },
        "id": "3r8IUzC2f_7G",
        "outputId": "66d68028-49eb-4ad0-d4cc-895407e54ee3"
      },
      "execution_count": 33,
      "outputs": [
        {
          "output_type": "stream",
          "name": "stdout",
          "text": [
            "accuracy =  0.8421052631578947\n",
            "confusion =  [[22 18]\n",
            " [ 0 74]]\n",
            "              precision    recall  f1-score   support\n",
            "\n",
            "           0       1.00      0.55      0.71        40\n",
            "           1       0.80      1.00      0.89        74\n",
            "\n",
            "    accuracy                           0.84       114\n",
            "   macro avg       0.90      0.78      0.80       114\n",
            "weighted avg       0.87      0.84      0.83       114\n",
            "\n"
          ]
        }
      ]
    },
    {
      "cell_type": "markdown",
      "source": [
        "### [4/5] Stochastic Gradient Descent Classifier (SGDClassifier) 모델 예측 결과 해석하기\n",
        "* accuracy는 0.842임\n",
        "* confusion관련, 음성을 양성으로 FP한 경우가 특히 많았음\n",
        "* 1을 positive라 할때, 양성이 음성으로 평가되면 심각하므로, recall중심으로 평가바람직함\n",
        "* recall관련, macro avg는 0.90임"
      ],
      "metadata": {
        "id": "CfQbdlr6gJj3"
      }
    },
    {
      "cell_type": "markdown",
      "source": [
        "### [5/5] Logistic Regression 모델로 예측하고 평가하기"
      ],
      "metadata": {
        "id": "jHLY2qD4gKmA"
      }
    },
    {
      "cell_type": "code",
      "source": [
        "# (5) 모델 학습 및 예측 -[5/5] Logistic Regression\n",
        "logistic_model = LogisticRegression(solver='liblinear')\n",
        "logistic_model.fit(X_train, y_train)\n",
        "y_pred = logistic_model.predict(X_test)\n",
        "\n",
        "# (6) 모델을 평가해 보기\n",
        "accuracy = accuracy_score(y_test, y_pred)\n",
        "print('accuracy = ', accuracy)\n",
        "confusion = confusion_matrix(y_test, y_pred)\n",
        "print('confusion = ', confusion)\n",
        "print(classification_report(y_test, y_pred))\n"
      ],
      "metadata": {
        "colab": {
          "base_uri": "https://localhost:8080/"
        },
        "id": "3o9uw7YBgM5e",
        "outputId": "ec7d0dd9-f442-4d69-e569-c898c0a6fcb5"
      },
      "execution_count": 34,
      "outputs": [
        {
          "output_type": "stream",
          "name": "stdout",
          "text": [
            "accuracy =  0.9473684210526315\n",
            "confusion =  [[34  6]\n",
            " [ 0 74]]\n",
            "              precision    recall  f1-score   support\n",
            "\n",
            "           0       1.00      0.85      0.92        40\n",
            "           1       0.93      1.00      0.96        74\n",
            "\n",
            "    accuracy                           0.95       114\n",
            "   macro avg       0.96      0.93      0.94       114\n",
            "weighted avg       0.95      0.95      0.95       114\n",
            "\n"
          ]
        }
      ]
    },
    {
      "cell_type": "markdown",
      "source": [
        "### [5/5] Logistic Regression 모델 예측 결과 해석하기\n",
        "* accuracy는 0.947임\n",
        "* confusion관련, 음성을 양성으로 FP한 경우가 특히 많았음\n",
        "* 1을 positive라 할때, 양성이 음성으로 평가되면 심각하므로, recall중심으로 평가바람직함\n",
        "* recall관련, macro avg는 0.96임"
      ],
      "metadata": {
        "id": "IrgwPO2LgT49"
      }
    },
    {
      "cell_type": "markdown",
      "source": [
        "## 3단계: 마무리 (모델들의 종합 평가)\n",
        "* 모든 모델이 비슷한 경함성을 보였다. 즉, 대체로 음성을 양성으로 오인식한다.\n",
        "* 모델들 중에서 precision기준으로 가장 높은 건, random forest 모델이었다."
      ],
      "metadata": {
        "id": "9JJ80b00gUwC"
      }
    }
  ]
}
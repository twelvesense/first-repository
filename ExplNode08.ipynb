{
  "cells": [
    {
      "cell_type": "markdown",
      "metadata": {
        "id": "view-in-github",
        "colab_type": "text"
      },
      "source": [
        "<a href=\"https://colab.research.google.com/github/twelvesense/first-repository/blob/master/ExplNode08.ipynb\" target=\"_parent\"><img src=\"https://colab.research.google.com/assets/colab-badge.svg\" alt=\"Open In Colab\"/></a>"
      ]
    },
    {
      "cell_type": "code",
      "execution_count": null,
      "source": [
        "##  **프로젝트: 고양이 수염 스티커 만들기**"
      ],
      "outputs": [],
      "metadata": {
        "id": "DZwSsJiJ-ITp"
      }
    },
    {
      "cell_type": "markdown",
      "source": [
        "# 1 개요"
      ],
      "metadata": {
        "id": "B6d2H1ox-ITq"
      }
    },
    {
      "cell_type": "markdown",
      "source": [
        "## 1-1. 목표\n",
        " 얼굴의 다양한 각도, 크기 및 절단 여부에 따라, 2D 스티커를 적절히 합성한다.\n",
        " 얼굴의 각도에 비례하여, 2D 스티커의 위치를 적절히 조절되게 한다.\n",
        " 얼굴의 크기에 비례하여, 2D 스티커의 크기를 적절히 조절되게 한다.\n",
        " 얼굴이 절단된 사진에 대해서, 2D 스티커도 적절히 절단시켜 합성한다."
      ],
      "metadata": {
        "id": "ZJRRYIHV-ITr"
      }
    },
    {
      "cell_type": "markdown",
      "source": [
        "## 1-2. 방법\n",
        " face landmark 인식: dlib의 pretrained model 파일이용"
      ],
      "metadata": {
        "id": "-Wp0mkZt-ITs"
      }
    },
    {
      "cell_type": "markdown",
      "source": [
        "### dlibLandmarkOrder.png 보여주기\n",
        " 각도: 9개 방향의 얼굴 사진을 사용\n",
        "# 계산\n",
        " 크기: 1/2 이하 얼굴 사진을 사용\n",
        "# 계산\n",
        " 절단: 한쪽 면이 잘린 얼굴 사진을 사용\n",
        "# 계산"
      ],
      "metadata": {
        "id": "P8D7R9od-ITt"
      }
    },
    {
      "cell_type": "markdown",
      "source": [
        "## 1-3. 사전준비"
      ],
      "metadata": {
        "id": "Cn7hz9Zh-ITt"
      }
    },
    {
      "cell_type": "markdown",
      "source": [
        " ■ 주요 라이브러리 download"
      ],
      "metadata": {
        "id": "K-NZfil_-ITv"
      }
    },
    {
      "cell_type": "code",
      "execution_count": null,
      "source": [
        "import matplotlib.pyplot as plt\n",
        "import numpy as np\n",
        "import cv2\n",
        "import dlib"
      ],
      "outputs": [],
      "metadata": {
        "id": "DHGiVSX8-ITv"
      }
    },
    {
      "cell_type": "markdown",
      "source": [
        " ■ 시험용 스티커 및 사진 download\n",
        " !rm -r /content/images\n",
        " !mkdir -p /content/images\n",
        " !wget -O /content/images_final.zip https://raw.githubusercontent.com/twelvesense/first-repository/master/ExplNode08/images_final.zip\n",
        " !unzip /content/images_final.zip -d /content/images\n",
        " !rm /content/images_final.zip"
      ],
      "metadata": {
        "id": "vbn8acOJ-ITw"
      }
    },
    {
      "cell_type": "markdown",
      "source": [
        " ■ dlib의 pretrained model 파일 download\n",
        " !rm -r /content/models\n",
        " !mkdir -p /content/models\n",
        " !wget -O /content/models/landmarks.dat.bz2 http://dlib.net/files/shape_predictor_68_face_landmarks.dat.bz2\n",
        " !bzip2 -d /content/models/landmarks.dat.bz2\n",
        " !rm /content/models/landmarks.dat"
      ],
      "metadata": {
        "id": "KKklM4jb-ITx"
      }
    },
    {
      "cell_type": "markdown",
      "source": [
        " ■ Dlib에 사용되는 랜드마크 순서"
      ],
      "metadata": {
        "id": "nbbCqPl9-ITx"
      }
    },
    {
      "cell_type": "markdown",
      "source": [
        "# 2 각도 test"
      ],
      "metadata": {
        "id": "eDTHqNEq-ITy"
      }
    },
    {
      "cell_type": "markdown",
      "source": [
        "## 2-1. (1)번 각도 test"
      ],
      "metadata": {
        "id": "o1_2bHxu-ITy"
      }
    },
    {
      "cell_type": "code",
      "execution_count": null,
      "source": [
        "# ■ 시험 사진 load\n",
        "# my_image_path = '/content/images/1.jpg'\n",
        "# img_bgr = cv2.imread(my_image_path)    \n",
        "# img_show = img_bgr.copy()              \n",
        "# img_rgb = cv2.cvtColor(img_bgr, cv2.COLOR_BGR2RGB)\n",
        "# h_img = img_rgb.shape[0]    # 사진의 높이\n",
        "# w_img = img_rgb.shape[1]    # 사진의 너비\n",
        "# plt.imshow(img_rgb)\n",
        "# plt.show()"
      ],
      "outputs": [],
      "metadata": {
        "id": "_1eyCKEi-IT0"
      }
    },
    {
      "cell_type": "code",
      "execution_count": null,
      "source": [
        "# ■ 시험 스티커 load\n",
        "# sticker_path = '/content/images/CatWhiskers.png'\n",
        "# img_sticker = cv2.imread(sticker_path)\n",
        "# print (img_sticker.shape)\n",
        "# plt.imshow(img_sticker)\n",
        "# plt.show()"
      ],
      "outputs": [],
      "metadata": {
        "id": "HWCfpRAZ-IT0"
      }
    },
    {
      "cell_type": "code",
      "execution_count": null,
      "source": [
        "# ■ 얼굴 검출 face detection\n",
        "# hog detector를 선언\n",
        "# detector_hog = dlib.get_frontal_face_detector()\n",
        "# img_rgb = cv2.cvtColor(img_bgr, cv2.COLOR_BGR2RGB)\n",
        "# dlib_rects = detector_hog(img_rgb, 1)\n",
        "# print(dlib_rects)   \n",
        "# 박스의 영역을 사진내로 제한\n",
        "# for dlib_rect in dlib_rects:\n",
        "#     l = dlib_rect.left()\n",
        "#     if l < 0: \n",
        "#         l = 0\n",
        "#     t = dlib_rect.top()\n",
        "#     if t < 0:\n",
        "#         t = 0\n",
        "#     r = dlib_rect.right()\n",
        "#     if r > (w_img-1):\n",
        "#         r = (w_img-1)\n",
        "#     b = dlib_rect.bottom()\n",
        "#     if b > (h_img-1):\n",
        "#         b = (h_img-1)\n",
        "#     w_box = r-l+1\n",
        "#     h_box = b-t+1\n",
        "#     cv2.rectangle(img_show, (l,t), (r,b), (0,255,0), 2, lineType=cv2.LINE_AA)\n",
        "# img_show_rgb =  cv2.cvtColor(img_show, cv2.COLOR_BGR2RGB)\n",
        "# plt.imshow(img_show_rgb)\n",
        "# plt.show()"
      ],
      "outputs": [],
      "metadata": {
        "id": "NGdOBOuy-IT1"
      }
    },
    {
      "cell_type": "markdown",
      "source": [
        " ■ 얼굴 landmark\n",
        " model_path = '/content/models/shape_predictor_68_face_landmarks.dat'\n",
        " landmark_predictor = dlib.shape_predictor(model_path)\n",
        " list_landmarks = []\n",
        " for dlib_rect in dlib_rects:\n",
        "     points = landmark_predictor(img_rgb, dlib_rect)\n",
        "     list_points = list(map(lambda p: (p.x, p.y), points.parts()))\n",
        "     list_landmarks.append(list_points)\n",
        " for landmark in list_landmarks:\n",
        "     for point in landmark:\n",
        "         cv2.circle(img_show, point, 2, (0, 255, 255), -1)\n",
        " img_show_rgb = cv2.cvtColor(img_show, cv2.COLOR_BGR2RGB)\n",
        " plt.imshow(img_show_rgb)\n",
        " plt.show()"
      ],
      "metadata": {
        "id": "GYXJfCzt-IT1"
      }
    },
    {
      "cell_type": "markdown",
      "source": [
        " ■ 스티커 적용 위치 확인하기\n",
        " 코의 index는 33기준, 좌표 사용\n",
        " for dlib_rect, landmark in zip(dlib_rects, list_landmarks):\n",
        "     print (landmark[33]) # 코끝의 index 33\n",
        "     x = landmark[33][0]\n",
        "     y = landmark[33][1]\n",
        "     w = 2 * (landmark[54][0] - landmark[48][0])   # 스티커 사진의 너비 계산: 입술양끝에 비례 (54, 48번)\n",
        "     h = 4 * (landmark[51][1] - landmark[30][1])   # 스티커 사진의 높이 계산: 인중에 비례 (51, 30번)\n",
        "     print ('(x,y) : (%d,%d)'%(x,y))\n",
        "     print ('(w,h) : (%d,%d)'%(w,h))"
      ],
      "metadata": {
        "id": "WcEcNx9y-IT2"
      }
    },
    {
      "cell_type": "code",
      "execution_count": null,
      "source": [
        "# ■ 스티커 이미지를 resize하기\n",
        "# img_sticker = cv2.resize(img_sticker, (w,h))\n",
        "# print (img_sticker.shape)"
      ],
      "outputs": [],
      "metadata": {
        "id": "76yUxnZE-IT2"
      }
    },
    {
      "cell_type": "code",
      "execution_count": null,
      "source": [
        "# ■ 얼굴위치에 맞게 스트커의 중심 이동\n",
        "# refined_x = x - w // 2\n",
        "# refined_y = y - h // 2\n",
        "# print ('(x,y) : (%d,%d)'%(refined_x, refined_y))"
      ],
      "outputs": [],
      "metadata": {
        "id": "l8yBp3ka-IT3"
      }
    },
    {
      "cell_type": "code",
      "execution_count": null,
      "source": [
        "# ■ 얼굴사진내로 스티커 영역 제한\n",
        "# if refined_x < 0: \n",
        "#     img_sticker = img_sticker[:, -refined_x:]\n",
        "#     w = w + refined_x\n",
        "#     refined_x = 0\n",
        "# if refined_x + (w-1) > (w_img):                            \n",
        "#     # w = w - (refined_x+(w-1)-w_img)\n",
        "#     w = w_img - refined_x\n",
        "#     img_sticker = img_sticker[:, :w]\n",
        "# if refined_y < 0:\n",
        "#     img_sticker = img_sticker[-refined_y:, :]\n",
        "#     h = h + refined_y\n",
        "#     refined_y = 0\n",
        "# if refined_y + (h-1) > (h_img):                              \n",
        "#     # h = h - (refined_y+(h-1)-h_img)\n",
        "#     h = h_img - refined_y\n",
        "#     img_sticker = img_sticker[:h, :]\n",
        "\n",
        "# print('(x,y) : (%d,%d)'%(refined_x, refined_y))\n",
        "# print(img_sticker.shape)\n",
        "# plt.imshow(img_sticker)\n",
        "# plt.show()"
      ],
      "outputs": [],
      "metadata": {
        "id": "oaSxa7EM-IT3"
      }
    },
    {
      "cell_type": "code",
      "execution_count": null,
      "source": [
        "# ■ 얼굴사진의 스티커 영역 계산\n",
        "# sticker_area = img_show[refined_y:refined_y + h, refined_x:refined_x + w]\n",
        "# print(sticker_area.shape)\n",
        "# plt.imshow(sticker_area)\n",
        "# plt.show()"
      ],
      "outputs": [],
      "metadata": {
        "id": "t2gdkAvx-IT3"
      }
    },
    {
      "cell_type": "code",
      "execution_count": null,
      "source": [
        "# ■ 얼굴사진과 스티커 사진의 합성\n",
        "# img_show[refined_y:refined_y + h, refined_x:refined_x + w] = \\\n",
        "#     np.where(img_sticker==255,sticker_area,img_sticker).astype(np.uint8)\n",
        "# plt.imshow(cv2.cvtColor(img_show, cv2.COLOR_BGR2RGB))\n",
        "# plt.show()"
      ],
      "outputs": [],
      "metadata": {
        "id": "q6wujcZ3-IT4"
      }
    },
    {
      "cell_type": "code",
      "execution_count": null,
      "source": [
        "# ■ 최종 합성 사진\n",
        "# sticker_area = img_bgr[refined_y:refined_y + h, refined_x:refined_x + w]\n",
        "\n",
        "# img_bgr[refined_y:refined_y + h, refined_x:refined_x + w] = \\\n",
        "#     np.where(img_sticker==255,sticker_area,img_sticker).astype(np.uint8)\n",
        "# plt.imshow(cv2.cvtColor(img_bgr, cv2.COLOR_BGR2RGB))\n",
        "# plt.show()"
      ],
      "outputs": [],
      "metadata": {
        "id": "zx9EgiZn-IT4"
      }
    },
    {
      "cell_type": "markdown",
      "source": [
        "#\n",
        "얼굴 각도에 따라 스티커가 어떻게 변해야할까요?          # 각도별\n",
        "멀리서 촬영하면 왜 안될까요? 옆으로 누워서 촬영하면 왜 안될까요?        # 거리별\n",
        "실행 속도가 중요할까요?     # 실행속도?\n",
        "스티커앱을 만들 때 정확도가 얼마나 중요할까요?  # 정확도가 얼마나 중요할까?\n",
        "정확한 좌표계산을 통해 고양이 수염의 위치가 원본 얼굴에 잘 어울리게 출력되었다.\n",
        "카메라 스티커앱을 다양한 원본이미지에 적용했을 때의 문제점을 체계적으로 분석하였다.\n",
        "얼굴각도, 촬영거리 등 다양한 변수에 따른 영향도를 보고서에 체계적으로 분석하였다.\n",
        "error상황: 이미지 밝기"
      ],
      "metadata": {
        "id": "LymzEIcG-IT4"
      }
    }
  ],
  "nbformat": 4,
  "nbformat_minor": 0,
  "metadata": {
    "language_info": {
      "codemirror_mode": {
        "name": "ipython",
        "version": 3
      },
      "file_extension": ".py",
      "mimetype": "text/x-python",
      "name": "python",
      "nbconvert_exporter": "python",
      "pygments_lexer": "ipython3",
      "version": 3
    },
    "orig_nbformat": 4,
    "colab": {
      "name": "ExplNode08.ipynb",
      "provenance": [],
      "include_colab_link": true
    }
  }
}
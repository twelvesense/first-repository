{
  "nbformat": 4,
  "nbformat_minor": 0,
  "metadata": {
    "colab": {
      "name": "demo_ntlk.ipynb",
      "provenance": [],
      "collapsed_sections": [],
      "authorship_tag": "ABX9TyM4QwBvnO29vG4Lgkz05r+C",
      "include_colab_link": true
    },
    "kernelspec": {
      "name": "python3",
      "display_name": "Python 3"
    },
    "language_info": {
      "name": "python"
    }
  },
  "cells": [
    {
      "cell_type": "markdown",
      "metadata": {
        "id": "view-in-github",
        "colab_type": "text"
      },
      "source": [
        "<a href=\"https://colab.research.google.com/github/twelvesense/first-repository/blob/master/demo_ntlk.ipynb\" target=\"_parent\"><img src=\"https://colab.research.google.com/assets/colab-badge.svg\" alt=\"Open In Colab\"/></a>"
      ]
    },
    {
      "cell_type": "markdown",
      "source": [
        "# 시소러스(유의어 사전)를 이용한 유사도 평가를 통한 컴퓨터의 단어의 의미 (간접적) 이해\n"
      ],
      "metadata": {
        "id": "RDwAqz8GTwSR"
      }
    },
    {
      "cell_type": "markdown",
      "source": [
        "### B.1 NLTK 설치"
      ],
      "metadata": {
        "id": "DeSks-nRL1i-"
      }
    },
    {
      "cell_type": "code",
      "source": [
        "!pip list | grep nltk"
      ],
      "metadata": {
        "colab": {
          "base_uri": "https://localhost:8080/"
        },
        "id": "AcHrecClMHHo",
        "outputId": "6b496f6c-cc48-4c9c-e8ba-43d7ed18f6d3"
      },
      "execution_count": 2,
      "outputs": [
        {
          "output_type": "stream",
          "name": "stdout",
          "text": [
            "nltk                          3.2.5\n"
          ]
        }
      ]
    },
    {
      "cell_type": "markdown",
      "source": [
        "### B.2 WordNet에서 동의어 얻기: lemma_names()메서드"
      ],
      "metadata": {
        "id": "id-d4vF2NbXY"
      }
    },
    {
      "cell_type": "code",
      "execution_count": 4,
      "metadata": {
        "colab": {
          "base_uri": "https://localhost:8080/"
        },
        "id": "YhmDOHFRLlDe",
        "outputId": "67eb03fd-b494-4aa3-c7d8-45fc64ff6f3b"
      },
      "outputs": [
        {
          "output_type": "execute_result",
          "data": {
            "text/plain": [
              "[Synset('car.n.01'),\n",
              " Synset('car.n.02'),\n",
              " Synset('car.n.03'),\n",
              " Synset('car.n.04'),\n",
              " Synset('cable_car.n.01')]"
            ]
          },
          "metadata": {},
          "execution_count": 4
        }
      ],
      "source": [
        "from nltk.corpus import wordnet\n",
        "\n",
        "wordnet.synsets('car')      # 동의어 그룹 얻기 실행 결과, 5개의 동의어그룹 확인\n",
        "                            # 예: car.n.01 의 의미는 동의어그룹중 car라는 명사의 첫번째임.\n"
      ]
    },
    {
      "cell_type": "code",
      "source": [
        "car = wordnet.synset('car.n.01')    # 동의어그룹 car.n.01를 가져옴\n",
        "print(\"type: \", type(car))\n",
        "car.definition()  "
      ],
      "metadata": {
        "colab": {
          "base_uri": "https://localhost:8080/",
          "height": 53
        },
        "id": "m4dBNWccNu0I",
        "outputId": "763e5e4f-ea30-48e2-cdd2-8f9bbdaf5f37"
      },
      "execution_count": 5,
      "outputs": [
        {
          "output_type": "stream",
          "name": "stdout",
          "text": [
            "type:  <class 'nltk.corpus.reader.wordnet.Synset'>\n"
          ]
        },
        {
          "output_type": "execute_result",
          "data": {
            "text/plain": [
              "'a motor vehicle with four wheels; usually propelled by an internal combustion engine'"
            ],
            "application/vnd.google.colaboratory.intrinsic+json": {
              "type": "string"
            }
          },
          "metadata": {},
          "execution_count": 5
        }
      ]
    },
    {
      "cell_type": "code",
      "source": [
        "car.lemma_names()                   # car의 동의어(부명제) 들"
      ],
      "metadata": {
        "colab": {
          "base_uri": "https://localhost:8080/"
        },
        "id": "H5ot4f17N22V",
        "outputId": "6417380a-fb4b-4f1f-d33b-fb23133b32b3"
      },
      "execution_count": 6,
      "outputs": [
        {
          "output_type": "execute_result",
          "data": {
            "text/plain": [
              "['car', 'auto', 'automobile', 'machine', 'motorcar']"
            ]
          },
          "metadata": {},
          "execution_count": 6
        }
      ]
    },
    {
      "cell_type": "markdown",
      "source": [
        "### B.3 WordNet과 단어 네트워크 (단어의 의미적 계층적관계): hypernym_paths()"
      ],
      "metadata": {
        "id": "Bvs11r-kN55U"
      }
    },
    {
      "cell_type": "code",
      "source": [
        "car.hypernym_paths()[0]            # hypernym: 상의어 "
      ],
      "metadata": {
        "colab": {
          "base_uri": "https://localhost:8080/"
        },
        "id": "tzBunCJ7N9X-",
        "outputId": "a4bae48d-f316-4ee7-ae62-60efec023be8"
      },
      "execution_count": 7,
      "outputs": [
        {
          "output_type": "execute_result",
          "data": {
            "text/plain": [
              "[Synset('entity.n.01'),\n",
              " Synset('physical_entity.n.01'),\n",
              " Synset('object.n.01'),\n",
              " Synset('whole.n.02'),\n",
              " Synset('artifact.n.01'),\n",
              " Synset('instrumentality.n.03'),\n",
              " Synset('container.n.01'),\n",
              " Synset('wheeled_vehicle.n.01'),\n",
              " Synset('self-propelled_vehicle.n.01'),\n",
              " Synset('motor_vehicle.n.01'),\n",
              " Synset('car.n.01')]"
            ]
          },
          "metadata": {},
          "execution_count": 7
        }
      ]
    },
    {
      "cell_type": "code",
      "source": [
        "car.hypernym_paths()[1]            # 또 다른 상.하 관계"
      ],
      "metadata": {
        "colab": {
          "base_uri": "https://localhost:8080/"
        },
        "id": "4FdELBp1Obz5",
        "outputId": "89221432-73bb-4ea5-9159-e4a390b3813e"
      },
      "execution_count": 8,
      "outputs": [
        {
          "output_type": "execute_result",
          "data": {
            "text/plain": [
              "[Synset('entity.n.01'),\n",
              " Synset('physical_entity.n.01'),\n",
              " Synset('object.n.01'),\n",
              " Synset('whole.n.02'),\n",
              " Synset('artifact.n.01'),\n",
              " Synset('instrumentality.n.03'),\n",
              " Synset('conveyance.n.03'),\n",
              " Synset('vehicle.n.01'),\n",
              " Synset('wheeled_vehicle.n.01'),\n",
              " Synset('self-propelled_vehicle.n.01'),\n",
              " Synset('motor_vehicle.n.01'),\n",
              " Synset('car.n.01')]"
            ]
          },
          "metadata": {},
          "execution_count": 8
        }
      ]
    },
    {
      "cell_type": "markdown",
      "source": [
        "### B.4 WordNet을 사용한 의미 유사도: path_similarity(), 0 ~ 1 실수 (유사도) 반환"
      ],
      "metadata": {
        "id": "uLEFZOJzOfsD"
      }
    },
    {
      "cell_type": "code",
      "source": [
        "from collections import OrderedDict\n",
        "import pandas as pd\n",
        "import seaborn as sns\n",
        "o_dic = OrderedDict()"
      ],
      "metadata": {
        "id": "F8hdsOc4bEbY"
      },
      "execution_count": 46,
      "outputs": []
    },
    {
      "cell_type": "code",
      "source": [
        "car = wordnet.synset('car.n.01')\n",
        "novel = wordnet.synset('novel.n.01')\n",
        "dog = wordnet.synset('dog.n.01')\n",
        "motorcycle = wordnet.synset('motorcycle.n.01')"
      ],
      "metadata": {
        "id": "IdOYTuLsOcXn"
      },
      "execution_count": 32,
      "outputs": []
    },
    {
      "cell_type": "code",
      "source": [
        "o_dic['novel'] = car.path_similarity(novel)\n",
        "o_dic['novel']"
      ],
      "metadata": {
        "colab": {
          "base_uri": "https://localhost:8080/"
        },
        "id": "nI5xveIAOuXh",
        "outputId": "5da40498-6883-4b31-f0b6-98a13d55b4a3"
      },
      "execution_count": 49,
      "outputs": [
        {
          "output_type": "execute_result",
          "data": {
            "text/plain": [
              "0.05555555555555555"
            ]
          },
          "metadata": {},
          "execution_count": 49
        }
      ]
    },
    {
      "cell_type": "code",
      "source": [
        "o_dic['dog'] = car.path_similarity(dog)\n",
        "o_dic['dog']"
      ],
      "metadata": {
        "colab": {
          "base_uri": "https://localhost:8080/"
        },
        "id": "2EcochqEOyEQ",
        "outputId": "2a2b3db0-5319-417e-8e3a-ee286b8c8fad"
      },
      "execution_count": 50,
      "outputs": [
        {
          "output_type": "execute_result",
          "data": {
            "text/plain": [
              "0.07692307692307693"
            ]
          },
          "metadata": {},
          "execution_count": 50
        }
      ]
    },
    {
      "cell_type": "code",
      "source": [
        "o_dic['motorcycle'] = car.path_similarity(motorcycle)\n",
        "o_dic['motorcycle']\n"
      ],
      "metadata": {
        "colab": {
          "base_uri": "https://localhost:8080/"
        },
        "id": "MDPMf5RgO0IG",
        "outputId": "dfa5b87a-c3b9-4881-f9b0-186128cd9fbc"
      },
      "execution_count": 51,
      "outputs": [
        {
          "output_type": "execute_result",
          "data": {
            "text/plain": [
              "0.3333333333333333"
            ]
          },
          "metadata": {},
          "execution_count": 51
        }
      ]
    },
    {
      "cell_type": "code",
      "source": [
        "df = pd.DataFrame(data=o_dic, index=[0])\n",
        "sns.barplot(data=df)"
      ],
      "metadata": {
        "colab": {
          "base_uri": "https://localhost:8080/",
          "height": 287
        },
        "id": "dV6rKOcoXc9W",
        "outputId": "9a0774ae-1750-46a1-9091-dc2fa2eccc57"
      },
      "execution_count": 64,
      "outputs": [
        {
          "output_type": "execute_result",
          "data": {
            "text/plain": [
              "<matplotlib.axes._subplots.AxesSubplot at 0x7f86c4025c90>"
            ]
          },
          "metadata": {},
          "execution_count": 64
        },
        {
          "output_type": "display_data",
          "data": {
            "text/plain": [
              "<Figure size 432x288 with 1 Axes>"
            ],
            "image/png": "[encoded data removed]"
          },
          "metadata": {
            "needs_background": "light"
          }
        }
      ]
    },
    {
      "cell_type": "markdown",
      "source": [
        "### ■ 단어 네트워크를 이용한 car와의 유사도 순위: motorcycle > dog > novel"
      ],
      "metadata": {
        "id": "dSrFO7sHgJbs"
      }
    },
    {
      "cell_type": "markdown",
      "source": [
        "![image.png](data:image/png;base64,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)"
      ],
      "metadata": {
        "id": "bMM9XWPnf6mK"
      }
    },
    {
      "cell_type": "markdown",
      "source": [
        "### 참고1. Leacock-Chodorow (LCH) 유사도"
      ],
      "metadata": {
        "id": "SxCSSRuYVGPA"
      }
    },
    {
      "cell_type": "code",
      "source": [
        "o_dic['novel'] = car.lch_similarity(novel)\n",
        "o_dic['novel']"
      ],
      "metadata": {
        "colab": {
          "base_uri": "https://localhost:8080/"
        },
        "id": "PVUewd4DU6Q3",
        "outputId": "b1f662aa-4a28-4d42-f84f-4ce22a5562f6"
      },
      "execution_count": 65,
      "outputs": [
        {
          "output_type": "execute_result",
          "data": {
            "text/plain": [
              "0.7472144018302211"
            ]
          },
          "metadata": {},
          "execution_count": 65
        }
      ]
    },
    {
      "cell_type": "code",
      "source": [
        "o_dic['dog'] = car.lch_similarity(dog)\n",
        "o_dic['dog']"
      ],
      "metadata": {
        "colab": {
          "base_uri": "https://localhost:8080/"
        },
        "id": "O6Ch3oKuU57W",
        "outputId": "37b5d08b-7bf2-4ed3-bb0e-dbb92d1090c5"
      },
      "execution_count": 66,
      "outputs": [
        {
          "output_type": "execute_result",
          "data": {
            "text/plain": [
              "1.072636802264849"
            ]
          },
          "metadata": {},
          "execution_count": 66
        }
      ]
    },
    {
      "cell_type": "code",
      "source": [
        "o_dic['motorcycle'] = car.lch_similarity(motorcycle)\n",
        "o_dic['motorcycle']"
      ],
      "metadata": {
        "colab": {
          "base_uri": "https://localhost:8080/"
        },
        "id": "f8pSt-f6O2AX",
        "outputId": "9b942074-880c-4e05-8a3a-0b84cc26ca43"
      },
      "execution_count": 67,
      "outputs": [
        {
          "output_type": "execute_result",
          "data": {
            "text/plain": [
              "2.538973871058276"
            ]
          },
          "metadata": {},
          "execution_count": 67
        }
      ]
    },
    {
      "cell_type": "code",
      "source": [
        "df = pd.DataFrame(data=o_dic, index=[0])\n",
        "sns.barplot(data=df)"
      ],
      "metadata": {
        "colab": {
          "base_uri": "https://localhost:8080/",
          "height": 283
        },
        "id": "hf5pYj7leMvL",
        "outputId": "dd29be2e-3767-4707-bb52-dd6880688b85"
      },
      "execution_count": 68,
      "outputs": [
        {
          "output_type": "execute_result",
          "data": {
            "text/plain": [
              "<matplotlib.axes._subplots.AxesSubplot at 0x7f86c40247d0>"
            ]
          },
          "metadata": {},
          "execution_count": 68
        },
        {
          "output_type": "display_data",
          "data": {
            "text/plain": [
              "<Figure size 432x288 with 1 Axes>"
            ],
            "image/png": "[encoded data removed]"
          },
          "metadata": {
            "needs_background": "light"
          }
        }
      ]
    },
    {
      "cell_type": "markdown",
      "source": [
        "### 참고2. Wu-Palmer 유사도"
      ],
      "metadata": {
        "id": "sXqH9lvDVPXy"
      }
    },
    {
      "cell_type": "code",
      "source": [
        "o_dic['novel'] = car.wup_similarity(novel)\n",
        "o_dic['novel']"
      ],
      "metadata": {
        "colab": {
          "base_uri": "https://localhost:8080/"
        },
        "id": "rSfwhZK3UoOg",
        "outputId": "71dc58ea-c501-49e0-ebcc-ad97f3afd4b2"
      },
      "execution_count": 69,
      "outputs": [
        {
          "output_type": "execute_result",
          "data": {
            "text/plain": [
              "0.10526315789473684"
            ]
          },
          "metadata": {},
          "execution_count": 69
        }
      ]
    },
    {
      "cell_type": "code",
      "source": [
        "o_dic['dog'] = car.wup_similarity(dog)\n",
        "o_dic['dog']"
      ],
      "metadata": {
        "colab": {
          "base_uri": "https://localhost:8080/"
        },
        "id": "JdWLQoz6WIRQ",
        "outputId": "2a54990b-c106-4d1d-a53e-9a8546ec1f55"
      },
      "execution_count": 70,
      "outputs": [
        {
          "output_type": "execute_result",
          "data": {
            "text/plain": [
              "0.4"
            ]
          },
          "metadata": {},
          "execution_count": 70
        }
      ]
    },
    {
      "cell_type": "code",
      "source": [
        "o_dic['motorcycle'] = car.wup_similarity(motorcycle)\n",
        "o_dic['motorcycle']"
      ],
      "metadata": {
        "colab": {
          "base_uri": "https://localhost:8080/"
        },
        "id": "fQ-xCicdWLBH",
        "outputId": "0d231456-8327-49ab-b674-39e271a0d802"
      },
      "execution_count": 73,
      "outputs": [
        {
          "output_type": "execute_result",
          "data": {
            "text/plain": [
              "0.9166666666666666"
            ]
          },
          "metadata": {},
          "execution_count": 73
        }
      ]
    },
    {
      "cell_type": "code",
      "source": [
        "df = pd.DataFrame(data=o_dic, index=[0])\n",
        "sns.barplot(data=df)"
      ],
      "metadata": {
        "colab": {
          "base_uri": "https://localhost:8080/",
          "height": 283
        },
        "id": "VgASKgqYeROH",
        "outputId": "fe0bedd6-7503-49c9-8f47-9750e737b573"
      },
      "execution_count": 75,
      "outputs": [
        {
          "output_type": "execute_result",
          "data": {
            "text/plain": [
              "<matplotlib.axes._subplots.AxesSubplot at 0x7f86c3e7e1d0>"
            ]
          },
          "metadata": {},
          "execution_count": 75
        },
        {
          "output_type": "display_data",
          "data": {
            "text/plain": [
              "<Figure size 432x288 with 1 Axes>"
            ],
            "image/png": "[encoded data removed]"
          },
          "metadata": {
            "needs_background": "light"
          }
        }
      ]
    }
  ]
}
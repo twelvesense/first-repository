{
  "nbformat": 4,
  "nbformat_minor": 0,
  "metadata": {
    "colab": {
      "name": "demo_ntlk.ipynb",
      "provenance": [],
      "collapsed_sections": [],
      "authorship_tag": "ABX9TyPDtB54e9Rt3bisVg5c+rHD",
      "include_colab_link": true
    },
    "kernelspec": {
      "name": "python3",
      "display_name": "Python 3"
    },
    "language_info": {
      "name": "python"
    }
  },
  "cells": [
    {
      "cell_type": "markdown",
      "metadata": {
        "id": "view-in-github",
        "colab_type": "text"
      },
      "source": [
        "<a href=\"https://colab.research.google.com/github/twelvesense/first-repository/blob/master/demo_ntlk.ipynb\" target=\"_parent\"><img src=\"https://colab.research.google.com/assets/colab-badge.svg\" alt=\"Open In Colab\"/></a>"
      ]
    },
    {
      "cell_type": "markdown",
      "source": [
        "# 시소러스(유의어 사전)을 통한 컴퓨터의 단어의 의미 (간접적) 이해\n"
      ],
      "metadata": {
        "id": "RDwAqz8GTwSR"
      }
    },
    {
      "cell_type": "markdown",
      "source": [
        "### B.1 NLTK 설치"
      ],
      "metadata": {
        "id": "DeSks-nRL1i-"
      }
    },
    {
      "cell_type": "code",
      "source": [
        "!pip list | grep nltk"
      ],
      "metadata": {
        "colab": {
          "base_uri": "https://localhost:8080/"
        },
        "id": "AcHrecClMHHo",
        "outputId": "6b496f6c-cc48-4c9c-e8ba-43d7ed18f6d3"
      },
      "execution_count": 2,
      "outputs": [
        {
          "output_type": "stream",
          "name": "stdout",
          "text": [
            "nltk                          3.2.5\n"
          ]
        }
      ]
    },
    {
      "cell_type": "markdown",
      "source": [
        "### B.2 WordNet에서 동의어 얻기: lemma_names()메서드"
      ],
      "metadata": {
        "id": "id-d4vF2NbXY"
      }
    },
    {
      "cell_type": "code",
      "execution_count": 4,
      "metadata": {
        "colab": {
          "base_uri": "https://localhost:8080/"
        },
        "id": "YhmDOHFRLlDe",
        "outputId": "67eb03fd-b494-4aa3-c7d8-45fc64ff6f3b"
      },
      "outputs": [
        {
          "output_type": "execute_result",
          "data": {
            "text/plain": [
              "[Synset('car.n.01'),\n",
              " Synset('car.n.02'),\n",
              " Synset('car.n.03'),\n",
              " Synset('car.n.04'),\n",
              " Synset('cable_car.n.01')]"
            ]
          },
          "metadata": {},
          "execution_count": 4
        }
      ],
      "source": [
        "from nltk.corpus import wordnet\n",
        "\n",
        "wordnet.synsets('car')      # 동의어 그룹 얻기 실행 결과, 5개의 동의어그룹 확인\n",
        "                            # 예: car.n.01 의 의미는 동의어그룹중 car라는 명사의 첫번째임.\n"
      ]
    },
    {
      "cell_type": "code",
      "source": [
        "car = wordnet.synset('car.n.01')    # 동의어그룹 car.n.01를 가져옴\n",
        "print(\"type: \", type(car))\n",
        "car.definition()  "
      ],
      "metadata": {
        "colab": {
          "base_uri": "https://localhost:8080/",
          "height": 53
        },
        "id": "m4dBNWccNu0I",
        "outputId": "763e5e4f-ea30-48e2-cdd2-8f9bbdaf5f37"
      },
      "execution_count": 5,
      "outputs": [
        {
          "output_type": "stream",
          "name": "stdout",
          "text": [
            "type:  <class 'nltk.corpus.reader.wordnet.Synset'>\n"
          ]
        },
        {
          "output_type": "execute_result",
          "data": {
            "text/plain": [
              "'a motor vehicle with four wheels; usually propelled by an internal combustion engine'"
            ],
            "application/vnd.google.colaboratory.intrinsic+json": {
              "type": "string"
            }
          },
          "metadata": {},
          "execution_count": 5
        }
      ]
    },
    {
      "cell_type": "code",
      "source": [
        "car.lemma_names()                   # car의 동의어(부명제) 들"
      ],
      "metadata": {
        "colab": {
          "base_uri": "https://localhost:8080/"
        },
        "id": "H5ot4f17N22V",
        "outputId": "6417380a-fb4b-4f1f-d33b-fb23133b32b3"
      },
      "execution_count": 6,
      "outputs": [
        {
          "output_type": "execute_result",
          "data": {
            "text/plain": [
              "['car', 'auto', 'automobile', 'machine', 'motorcar']"
            ]
          },
          "metadata": {},
          "execution_count": 6
        }
      ]
    },
    {
      "cell_type": "markdown",
      "source": [
        "### B.3 WordNet과 단어 네트워크 (단어의 의미적 계층적관계): hypernym_paths()"
      ],
      "metadata": {
        "id": "Bvs11r-kN55U"
      }
    },
    {
      "cell_type": "code",
      "source": [
        "car.hypernym_paths()[0]            # hypernym: 상의어 "
      ],
      "metadata": {
        "colab": {
          "base_uri": "https://localhost:8080/"
        },
        "id": "tzBunCJ7N9X-",
        "outputId": "a4bae48d-f316-4ee7-ae62-60efec023be8"
      },
      "execution_count": 7,
      "outputs": [
        {
          "output_type": "execute_result",
          "data": {
            "text/plain": [
              "[Synset('entity.n.01'),\n",
              " Synset('physical_entity.n.01'),\n",
              " Synset('object.n.01'),\n",
              " Synset('whole.n.02'),\n",
              " Synset('artifact.n.01'),\n",
              " Synset('instrumentality.n.03'),\n",
              " Synset('container.n.01'),\n",
              " Synset('wheeled_vehicle.n.01'),\n",
              " Synset('self-propelled_vehicle.n.01'),\n",
              " Synset('motor_vehicle.n.01'),\n",
              " Synset('car.n.01')]"
            ]
          },
          "metadata": {},
          "execution_count": 7
        }
      ]
    },
    {
      "cell_type": "code",
      "source": [
        "car.hypernym_paths()[1]            # 또 다른 상.하 관계"
      ],
      "metadata": {
        "colab": {
          "base_uri": "https://localhost:8080/"
        },
        "id": "4FdELBp1Obz5",
        "outputId": "89221432-73bb-4ea5-9159-e4a390b3813e"
      },
      "execution_count": 8,
      "outputs": [
        {
          "output_type": "execute_result",
          "data": {
            "text/plain": [
              "[Synset('entity.n.01'),\n",
              " Synset('physical_entity.n.01'),\n",
              " Synset('object.n.01'),\n",
              " Synset('whole.n.02'),\n",
              " Synset('artifact.n.01'),\n",
              " Synset('instrumentality.n.03'),\n",
              " Synset('conveyance.n.03'),\n",
              " Synset('vehicle.n.01'),\n",
              " Synset('wheeled_vehicle.n.01'),\n",
              " Synset('self-propelled_vehicle.n.01'),\n",
              " Synset('motor_vehicle.n.01'),\n",
              " Synset('car.n.01')]"
            ]
          },
          "metadata": {},
          "execution_count": 8
        }
      ]
    },
    {
      "cell_type": "markdown",
      "source": [
        "### B.4 WordNet을 사용한 의미 유사도: path_similarity(), 0 ~ 1 실수 (유사도) 반환"
      ],
      "metadata": {
        "id": "uLEFZOJzOfsD"
      }
    },
    {
      "cell_type": "code",
      "source": [
        "from collections import OrderedDict\n",
        "import pandas as pd\n",
        "import seaborn as sns\n",
        "o_dic = OrderedDict()"
      ],
      "metadata": {
        "id": "F8hdsOc4bEbY"
      },
      "execution_count": 46,
      "outputs": []
    },
    {
      "cell_type": "code",
      "source": [
        "car = wordnet.synset('car.n.01')\n",
        "novel = wordnet.synset('novel.n.01')\n",
        "dog = wordnet.synset('dog.n.01')\n",
        "motorcycle = wordnet.synset('motorcycle.n.01')"
      ],
      "metadata": {
        "id": "IdOYTuLsOcXn"
      },
      "execution_count": 32,
      "outputs": []
    },
    {
      "cell_type": "code",
      "source": [
        "o_dic['novel'] = car.path_similarity(novel)\n",
        "o_dic['novel']"
      ],
      "metadata": {
        "colab": {
          "base_uri": "https://localhost:8080/"
        },
        "id": "nI5xveIAOuXh",
        "outputId": "5da40498-6883-4b31-f0b6-98a13d55b4a3"
      },
      "execution_count": 49,
      "outputs": [
        {
          "output_type": "execute_result",
          "data": {
            "text/plain": [
              "0.05555555555555555"
            ]
          },
          "metadata": {},
          "execution_count": 49
        }
      ]
    },
    {
      "cell_type": "code",
      "source": [
        "o_dic['dog'] = car.path_similarity(dog)\n",
        "o_dic['dog']"
      ],
      "metadata": {
        "colab": {
          "base_uri": "https://localhost:8080/"
        },
        "id": "2EcochqEOyEQ",
        "outputId": "2a2b3db0-5319-417e-8e3a-ee286b8c8fad"
      },
      "execution_count": 50,
      "outputs": [
        {
          "output_type": "execute_result",
          "data": {
            "text/plain": [
              "0.07692307692307693"
            ]
          },
          "metadata": {},
          "execution_count": 50
        }
      ]
    },
    {
      "cell_type": "code",
      "source": [
        "o_dic['motorcycle'] = car.path_similarity(motorcycle)\n",
        "o_dic['motorcycle']\n"
      ],
      "metadata": {
        "colab": {
          "base_uri": "https://localhost:8080/"
        },
        "id": "MDPMf5RgO0IG",
        "outputId": "dfa5b87a-c3b9-4881-f9b0-186128cd9fbc"
      },
      "execution_count": 51,
      "outputs": [
        {
          "output_type": "execute_result",
          "data": {
            "text/plain": [
              "0.3333333333333333"
            ]
          },
          "metadata": {},
          "execution_count": 51
        }
      ]
    },
    {
      "cell_type": "code",
      "source": [
        "df = pd.DataFrame(data=o_dic, index=[0])\n",
        "sns.barplot(data=df)"
      ],
      "metadata": {
        "colab": {
          "base_uri": "https://localhost:8080/",
          "height": 287
        },
        "id": "dV6rKOcoXc9W",
        "outputId": "9a0774ae-1750-46a1-9091-dc2fa2eccc57"
      },
      "execution_count": 64,
      "outputs": [
        {
          "output_type": "execute_result",
          "data": {
            "text/plain": [
              "<matplotlib.axes._subplots.AxesSubplot at 0x7f86c4025c90>"
            ]
          },
          "metadata": {},
          "execution_count": 64
        },
        {
          "output_type": "display_data",
          "data": {
            "text/plain": [
              "<Figure size 432x288 with 1 Axes>"
            ],
            "image/png": "[encoded data removed]"
          },
          "metadata": {
            "needs_background": "light"
          }
        }
      ]
    },
    {
      "cell_type": "markdown",
      "source": [
        "##### ■ 단어 네트워크를 이용한 car와의 유사도 평가: motorcycle > dog > novel\n",
        "\n",
        "![image.png](data:image/png;base64,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)\n"
      ],
      "metadata": {
        "id": "ttPhVGJaO39h"
      }
    },
    {
      "cell_type": "markdown",
      "source": [
        "### 참고1. Leacock-Chodorow (LCH) 유사도"
      ],
      "metadata": {
        "id": "SxCSSRuYVGPA"
      }
    },
    {
      "cell_type": "code",
      "source": [
        "o_dic['novel'] = car.lch_similarity(novel)\n",
        "o_dic['novel']"
      ],
      "metadata": {
        "colab": {
          "base_uri": "https://localhost:8080/"
        },
        "id": "PVUewd4DU6Q3",
        "outputId": "b1f662aa-4a28-4d42-f84f-4ce22a5562f6"
      },
      "execution_count": 65,
      "outputs": [
        {
          "output_type": "execute_result",
          "data": {
            "text/plain": [
              "0.7472144018302211"
            ]
          },
          "metadata": {},
          "execution_count": 65
        }
      ]
    },
    {
      "cell_type": "code",
      "source": [
        "o_dic['dog'] = car.lch_similarity(dog)\n",
        "o_dic['dog']"
      ],
      "metadata": {
        "colab": {
          "base_uri": "https://localhost:8080/"
        },
        "id": "O6Ch3oKuU57W",
        "outputId": "37b5d08b-7bf2-4ed3-bb0e-dbb92d1090c5"
      },
      "execution_count": 66,
      "outputs": [
        {
          "output_type": "execute_result",
          "data": {
            "text/plain": [
              "1.072636802264849"
            ]
          },
          "metadata": {},
          "execution_count": 66
        }
      ]
    },
    {
      "cell_type": "code",
      "source": [
        "o_dic['motorcycle'] = car.lch_similarity(motorcycle)\n",
        "o_dic['motorcycle']"
      ],
      "metadata": {
        "colab": {
          "base_uri": "https://localhost:8080/"
        },
        "id": "f8pSt-f6O2AX",
        "outputId": "9b942074-880c-4e05-8a3a-0b84cc26ca43"
      },
      "execution_count": 67,
      "outputs": [
        {
          "output_type": "execute_result",
          "data": {
            "text/plain": [
              "2.538973871058276"
            ]
          },
          "metadata": {},
          "execution_count": 67
        }
      ]
    },
    {
      "cell_type": "code",
      "source": [
        "df = pd.DataFrame(data=o_dic, index=[0])\n",
        "sns.barplot(data=df)"
      ],
      "metadata": {
        "colab": {
          "base_uri": "https://localhost:8080/",
          "height": 283
        },
        "id": "hf5pYj7leMvL",
        "outputId": "dd29be2e-3767-4707-bb52-dd6880688b85"
      },
      "execution_count": 68,
      "outputs": [
        {
          "output_type": "execute_result",
          "data": {
            "text/plain": [
              "<matplotlib.axes._subplots.AxesSubplot at 0x7f86c40247d0>"
            ]
          },
          "metadata": {},
          "execution_count": 68
        },
        {
          "output_type": "display_data",
          "data": {
            "text/plain": [
              "<Figure size 432x288 with 1 Axes>"
            ],
            "image/png": "[encoded data removed]"
          },
          "metadata": {
            "needs_background": "light"
          }
        }
      ]
    },
    {
      "cell_type": "markdown",
      "source": [
        "### 참고2. Wu-Palmer 유사도"
      ],
      "metadata": {
        "id": "sXqH9lvDVPXy"
      }
    },
    {
      "cell_type": "code",
      "source": [
        "o_dic['novel'] = car.wup_similarity(novel)\n",
        "o_dic['novel']"
      ],
      "metadata": {
        "colab": {
          "base_uri": "https://localhost:8080/"
        },
        "id": "rSfwhZK3UoOg",
        "outputId": "71dc58ea-c501-49e0-ebcc-ad97f3afd4b2"
      },
      "execution_count": 69,
      "outputs": [
        {
          "output_type": "execute_result",
          "data": {
            "text/plain": [
              "0.10526315789473684"
            ]
          },
          "metadata": {},
          "execution_count": 69
        }
      ]
    },
    {
      "cell_type": "code",
      "source": [
        "o_dic['dog'] = car.wup_similarity(dog)\n",
        "o_dic['dog']"
      ],
      "metadata": {
        "colab": {
          "base_uri": "https://localhost:8080/"
        },
        "id": "JdWLQoz6WIRQ",
        "outputId": "2a54990b-c106-4d1d-a53e-9a8546ec1f55"
      },
      "execution_count": 70,
      "outputs": [
        {
          "output_type": "execute_result",
          "data": {
            "text/plain": [
              "0.4"
            ]
          },
          "metadata": {},
          "execution_count": 70
        }
      ]
    },
    {
      "cell_type": "code",
      "source": [
        "o_dic['motorcycle'] = car.wup_similarity(motorcycle)\n",
        "o_dic['motorcycle']"
      ],
      "metadata": {
        "colab": {
          "base_uri": "https://localhost:8080/"
        },
        "id": "fQ-xCicdWLBH",
        "outputId": "0d231456-8327-49ab-b674-39e271a0d802"
      },
      "execution_count": 73,
      "outputs": [
        {
          "output_type": "execute_result",
          "data": {
            "text/plain": [
              "0.9166666666666666"
            ]
          },
          "metadata": {},
          "execution_count": 73
        }
      ]
    },
    {
      "cell_type": "code",
      "source": [
        "df = pd.DataFrame(data=o_dic, index=[0])\n",
        "sns.barplot(data=df)"
      ],
      "metadata": {
        "colab": {
          "base_uri": "https://localhost:8080/",
          "height": 283
        },
        "id": "VgASKgqYeROH",
        "outputId": "fe0bedd6-7503-49c9-8f47-9750e737b573"
      },
      "execution_count": 75,
      "outputs": [
        {
          "output_type": "execute_result",
          "data": {
            "text/plain": [
              "<matplotlib.axes._subplots.AxesSubplot at 0x7f86c3e7e1d0>"
            ]
          },
          "metadata": {},
          "execution_count": 75
        },
        {
          "output_type": "display_data",
          "data": {
            "text/plain": [
              "<Figure size 432x288 with 1 Axes>"
            ],
            "image/png": "[encoded data removed]"
          },
          "metadata": {
            "needs_background": "light"
          }
        }
      ]
    }
  ]
}
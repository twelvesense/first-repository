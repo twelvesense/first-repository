{
  "nbformat": 4,
  "nbformat_minor": 0,
  "metadata": {
    "colab": {
      "name": "Unit30.ipynb",
      "provenance": [],
      "collapsed_sections": [],
      "authorship_tag": "ABX9TyPlk01vbv8nP+aSmIs5z6tl",
      "include_colab_link": true
    },
    "kernelspec": {
      "name": "python3",
      "display_name": "Python 3"
    },
    "language_info": {
      "name": "python"
    }
  },
  "cells": [
    {
      "cell_type": "markdown",
      "metadata": {
        "id": "view-in-github",
        "colab_type": "text"
      },
      "source": [
        "<a href=\"https://colab.research.google.com/github/twelvesense/first-repository/blob/master/Unit30.ipynb\" target=\"_parent\"><img src=\"https://colab.research.google.com/assets/colab-badge.svg\" alt=\"Open In Colab\"/></a>"
      ]
    },
    {
      "cell_type": "markdown",
      "source": [
        "# Unit 30. 함수에서 위치 인수와 키워드 인수 사용하기\n",
        "* 함수에서 위치 인수, 키워드 인수를 사용하는 방법\n",
        "* 리스트, 딕셔너리 언패킹(unpacking)을 활용하는 방법\n",
        "## 30.1 위치 인수와 리스트 언패킹 사용하기\n",
        "* 위치 인수(positional argument): 함수에 인수를 순서대로 넣는 방식"
      ],
      "metadata": {
        "id": "SerY0NTWesTo"
      }
    },
    {
      "cell_type": "code",
      "source": [
        "print(10, 20, 30)"
      ],
      "metadata": {
        "colab": {
          "base_uri": "https://localhost:8080/"
        },
        "id": "jjoHmg7DAIqF",
        "outputId": "7d0c70b2-4339-44b0-e01f-e80419289e26"
      },
      "execution_count": null,
      "outputs": [
        {
          "output_type": "stream",
          "name": "stdout",
          "text": [
            "10 20 30\n"
          ]
        }
      ]
    },
    {
      "cell_type": "code",
      "source": [
        "def print_numbers(a, b, c):\n",
        "    print(a)\n",
        "    print(b)\n",
        "    print(c)\n",
        "print_numbers(10, 20, 30)"
      ],
      "metadata": {
        "colab": {
          "base_uri": "https://localhost:8080/"
        },
        "id": "zAhFzBZsAOUT",
        "outputId": "618a4ad7-942c-4083-fc0e-3e80cccdf8f2"
      },
      "execution_count": null,
      "outputs": [
        {
          "output_type": "stream",
          "name": "stdout",
          "text": [
            "10\n",
            "20\n",
            "30\n"
          ]
        }
      ]
    },
    {
      "cell_type": "markdown",
      "source": [
        "리스트나 튜플의 언패킹을 이용한 함수 인수전달 (주의: 개수는 동일할 것)\n",
        "\n",
        "•\t함수(*리스트)\n",
        "\n",
        "•\t함수(*튜플)"
      ],
      "metadata": {
        "id": "4Vlu59JUAZ7D"
      }
    },
    {
      "cell_type": "code",
      "source": [
        "x = [10, 20, 30]\n",
        "print_numbers(*x)"
      ],
      "metadata": {
        "colab": {
          "base_uri": "https://localhost:8080/"
        },
        "id": "_dSseySxAjAU",
        "outputId": "75ad4ffe-92fb-44be-8a17-8da14ec4c7b7"
      },
      "execution_count": null,
      "outputs": [
        {
          "output_type": "stream",
          "name": "stdout",
          "text": [
            "10\n",
            "20\n",
            "30\n"
          ]
        }
      ]
    },
    {
      "cell_type": "code",
      "source": [
        "print_numbers(*[10, 20, 30])"
      ],
      "metadata": {
        "colab": {
          "base_uri": "https://localhost:8080/"
        },
        "id": "Viahfn3aAtab",
        "outputId": "f6389d21-86fd-4837-ab40-fb16a944f7d1"
      },
      "execution_count": null,
      "outputs": [
        {
          "output_type": "stream",
          "name": "stdout",
          "text": [
            "10\n",
            "20\n",
            "30\n"
          ]
        }
      ]
    },
    {
      "cell_type": "code",
      "source": [
        "x = '123'\n",
        "print_numbers(*x)"
      ],
      "metadata": {
        "colab": {
          "base_uri": "https://localhost:8080/"
        },
        "id": "7JpLoGd2AwgG",
        "outputId": "3dc939c9-6750-4f79-c6f5-dcf907ee2810"
      },
      "execution_count": null,
      "outputs": [
        {
          "output_type": "stream",
          "name": "stdout",
          "text": [
            "1\n",
            "2\n",
            "3\n"
          ]
        }
      ]
    },
    {
      "cell_type": "markdown",
      "source": [
        "* 가변 인수 함수 만들기\n",
        "\n",
        "    def 함수이름(*args):        # args는 함수 내부에서 tuple임"
      ],
      "metadata": {
        "id": "7rULiQ21A4Wy"
      }
    },
    {
      "cell_type": "code",
      "source": [
        "def print_numbers(*args):\n",
        "    for arg in args:\n",
        "        print(arg)\n",
        "print_numbers(10)"
      ],
      "metadata": {
        "colab": {
          "base_uri": "https://localhost:8080/"
        },
        "id": "rMK1eqXtA--V",
        "outputId": "04ec32f0-1024-4c13-8c5f-e7670c1f15a0"
      },
      "execution_count": null,
      "outputs": [
        {
          "output_type": "stream",
          "name": "stdout",
          "text": [
            "10\n"
          ]
        }
      ]
    },
    {
      "cell_type": "code",
      "source": [
        "print_numbers(10, 20, 30, 40)"
      ],
      "metadata": {
        "colab": {
          "base_uri": "https://localhost:8080/"
        },
        "id": "gpYXSF5FBKl7",
        "outputId": "a963dff0-ed40-4b35-e65d-c4e5e83ed766"
      },
      "execution_count": null,
      "outputs": [
        {
          "output_type": "stream",
          "name": "stdout",
          "text": [
            "10\n",
            "20\n",
            "30\n",
            "40\n"
          ]
        }
      ]
    },
    {
      "cell_type": "code",
      "source": [
        "x = [10]\n",
        "print_numbers(*x)\n"
      ],
      "metadata": {
        "colab": {
          "base_uri": "https://localhost:8080/"
        },
        "id": "8gjq92ABBO0D",
        "outputId": "b11515b7-e14b-40a0-e195-e55e3ea9e437"
      },
      "execution_count": null,
      "outputs": [
        {
          "output_type": "stream",
          "name": "stdout",
          "text": [
            "10\n"
          ]
        }
      ]
    },
    {
      "cell_type": "code",
      "source": [
        "y = [10, 20, 30, 40]\n",
        "print_numbers(*y)"
      ],
      "metadata": {
        "colab": {
          "base_uri": "https://localhost:8080/"
        },
        "id": "3Z_MKFpVBR2Y",
        "outputId": "5df88542-c27b-4f2b-f6cc-04ae29b0f41a"
      },
      "execution_count": null,
      "outputs": [
        {
          "output_type": "stream",
          "name": "stdout",
          "text": [
            "10\n",
            "20\n",
            "30\n",
            "40\n"
          ]
        }
      ]
    },
    {
      "cell_type": "markdown",
      "source": [
        "* 고정 인수와 가변 인수를 함께 사용하기"
      ],
      "metadata": {
        "id": "XxdX6kRiBVx6"
      }
    },
    {
      "cell_type": "code",
      "source": [
        "def print_numbers(a, *args):   # 순서준수: 고정 매개변수를 먼저 지정, 그 다음 매개변수에 *를 붙임\n",
        "     print(a)\n",
        "     print(args)\n",
        "\n",
        "print_numbers(1)"
      ],
      "metadata": {
        "colab": {
          "base_uri": "https://localhost:8080/"
        },
        "id": "8lTtsFQzBY-r",
        "outputId": "63c4f5b5-3d7d-4b21-9797-829cc69215bf"
      },
      "execution_count": null,
      "outputs": [
        {
          "output_type": "stream",
          "name": "stdout",
          "text": [
            "1\n",
            "()\n"
          ]
        }
      ]
    },
    {
      "cell_type": "code",
      "source": [
        "print_numbers(1, 10, 20)"
      ],
      "metadata": {
        "colab": {
          "base_uri": "https://localhost:8080/"
        },
        "id": "h-cogQprBoXj",
        "outputId": "432234f3-67b7-4ee9-c1b3-0d325358ee07"
      },
      "execution_count": null,
      "outputs": [
        {
          "output_type": "stream",
          "name": "stdout",
          "text": [
            "1\n",
            "(10, 20)\n"
          ]
        }
      ]
    },
    {
      "cell_type": "code",
      "source": [
        "print_numbers(*[10, 20, 30])"
      ],
      "metadata": {
        "colab": {
          "base_uri": "https://localhost:8080/"
        },
        "id": "PUr2nATJBsbT",
        "outputId": "44560280-5873-4a7d-bcef-4ad9203a16fe"
      },
      "execution_count": null,
      "outputs": [
        {
          "output_type": "stream",
          "name": "stdout",
          "text": [
            "10\n",
            "(20, 30)\n"
          ]
        }
      ]
    },
    {
      "cell_type": "code",
      "source": [
        "print_numbers(*'123')"
      ],
      "metadata": {
        "colab": {
          "base_uri": "https://localhost:8080/"
        },
        "id": "QGPogUNrB96z",
        "outputId": "8756cea8-8b03-4c9f-850d-d210606a5150"
      },
      "execution_count": null,
      "outputs": [
        {
          "output_type": "stream",
          "name": "stdout",
          "text": [
            "1\n",
            "('2', '3')\n"
          ]
        }
      ]
    },
    {
      "cell_type": "markdown",
      "source": [
        "# 30.2 키워드 인수(keyword argument) 사용하기\n",
        "함수의 인수의 순서와 용도를 모두 기억해야 해서 불편함을 해결하고자,\n",
        "\n",
        "파이썬에서는 인수에 이름(키워드)을 붙여 키워드=값 형식으로 인수를 전달하게 한다.\n",
        "\n",
        "•\t함수(키워드=값)\n"
      ],
      "metadata": {
        "id": "qq45-38YCGOr"
      }
    },
    {
      "cell_type": "code",
      "source": [
        "def personal_info(name, age, address):\n",
        "     print('이름: ', name)\n",
        "     print('나이: ', age)\n",
        "     print('주소: ', address)\n",
        "\n",
        "personal_info(age=30, address='서울시 용산구 이촌동', name='홍길동')"
      ],
      "metadata": {
        "colab": {
          "base_uri": "https://localhost:8080/"
        },
        "id": "x7-M8aLCCKqM",
        "outputId": "1c09143b-44e2-4e5e-a363-2c5415251fb2"
      },
      "execution_count": null,
      "outputs": [
        {
          "output_type": "stream",
          "name": "stdout",
          "text": [
            "이름:  홍길동\n",
            "나이:  30\n",
            "주소:  서울시 용산구 이촌동\n"
          ]
        }
      ]
    },
    {
      "cell_type": "markdown",
      "source": [
        "참고로 print 함수에서 사용했던 sep, end도 키워드 인수를 사용한 예입니다.\n",
        "\n",
        "\n",
        "# 30.3 키워드 인수로 값을 넣는 딕셔너리 언패킹 사용하기\n",
        "\n",
        "•\t함수(**kwargs)                   # 개수 동일 및 딕셔너리의 키는 매개변수와 동일하고 문자열 형태로\n",
        "\n",
        "•\t함수(*kwargs)                     # 딕셔너리의 키만 전달\n"
      ],
      "metadata": {
        "id": "wfJf05u7CTjU"
      }
    },
    {
      "cell_type": "code",
      "source": [
        "def personal_info(name, age, address):\n",
        "     print('이름: ', name)\n",
        "     print('나이: ', age)\n",
        "     print('주소: ', address)\n",
        "x = {'name': '홍길동', 'age': 30, 'address': '서울시 용산구 이촌동'}\n",
        "personal_info(**x)\n"
      ],
      "metadata": {
        "colab": {
          "base_uri": "https://localhost:8080/"
        },
        "id": "V3IbyYudCeAb",
        "outputId": "eadfae93-1cc5-4a7f-dd70-a7b6c212055e"
      },
      "execution_count": null,
      "outputs": [
        {
          "output_type": "stream",
          "name": "stdout",
          "text": [
            "이름:  홍길동\n",
            "나이:  30\n",
            "주소:  서울시 용산구 이촌동\n"
          ]
        }
      ]
    },
    {
      "cell_type": "code",
      "source": [
        "personal_info(**{'name': '홍길동', 'age': 30, 'address': '서울시 용산구 이촌동'})"
      ],
      "metadata": {
        "colab": {
          "base_uri": "https://localhost:8080/"
        },
        "id": "QguTzRikCnEC",
        "outputId": "8ddcccab-f9be-468d-ce44-0eeb2fcf7238"
      },
      "execution_count": null,
      "outputs": [
        {
          "output_type": "stream",
          "name": "stdout",
          "text": [
            "이름:  홍길동\n",
            "나이:  30\n",
            "주소:  서울시 용산구 이촌동\n"
          ]
        }
      ]
    },
    {
      "cell_type": "markdown",
      "source": [
        "*  키워드 인수를 사용하는 가변 인수 함수 만들기\n",
        "\n",
        "    >def 함수이름(**kwargs):   # kwargs는 함수 내부에서 dict임        \n",
        "        >>코드\n"
      ],
      "metadata": {
        "id": "g9bWLnjHCrcD"
      }
    },
    {
      "cell_type": "code",
      "source": [
        "def personal_info(**kwargs):\n",
        "     for kw, arg in kwargs.items():\n",
        "         print(kw, ': ', arg, sep='')"
      ],
      "metadata": {
        "id": "s2Y33PPEC5d9"
      },
      "execution_count": null,
      "outputs": []
    },
    {
      "cell_type": "markdown",
      "source": [
        "보통 **kwargs를 사용한 가변 인수 함수는 다음과 같이 함수 안에서 특정 키가 있는지 확인한 뒤 해당 기능을 만든다."
      ],
      "metadata": {
        "id": "HitOhFINC9qi"
      }
    },
    {
      "cell_type": "code",
      "source": [
        "def personal_info(**kwargs):\n",
        "    if 'name' in kwargs:    # in으로 딕셔너리 안에 특정 키가 있는지 확인\n",
        "        print('이름: ', kwargs['name'])\n",
        "    if 'age' in kwargs:\n",
        "        print('나이: ', kwargs['age'])\n",
        "    if 'address' in kwargs:\n",
        "        print('주소: ', kwargs['address'])"
      ],
      "metadata": {
        "id": "AF3n6IdIDI0q"
      },
      "execution_count": null,
      "outputs": []
    },
    {
      "cell_type": "markdown",
      "source": [
        "* 고정 인수와 가변 인수(키워드 인수)를 함께 사용하기"
      ],
      "metadata": {
        "id": "N32Jh8Q8DMYc"
      }
    },
    {
      "cell_type": "code",
      "source": [
        "def personal_info(name, **kwargs): # 고정 매개변수 먼저 지정, 그 다음 매개변수에 **를 붙임\n",
        "     print(name)\n",
        "     print(kwargs)\n",
        "personal_info('홍길동')"
      ],
      "metadata": {
        "colab": {
          "base_uri": "https://localhost:8080/"
        },
        "id": "k3BUamlSDOq3",
        "outputId": "428cb131-ace1-47e5-8411-219afc84cccf"
      },
      "execution_count": null,
      "outputs": [
        {
          "output_type": "stream",
          "name": "stdout",
          "text": [
            "홍길동\n",
            "{}\n"
          ]
        }
      ]
    },
    {
      "cell_type": "code",
      "source": [
        "personal_info('홍길동', age=30, address='서울시 용산구 이촌동')"
      ],
      "metadata": {
        "colab": {
          "base_uri": "https://localhost:8080/"
        },
        "id": "0sariQA2DWB0",
        "outputId": "e3e3581c-31af-4128-e2ad-5d9b6bb8a468"
      },
      "execution_count": null,
      "outputs": [
        {
          "output_type": "stream",
          "name": "stdout",
          "text": [
            "홍길동\n",
            "{'age': 30, 'address': '서울시 용산구 이촌동'}\n"
          ]
        }
      ]
    },
    {
      "cell_type": "code",
      "source": [
        "personal_info(**{'name': '홍길동', 'age': 30, 'address': '서울시 용산구 이촌동'})"
      ],
      "metadata": {
        "colab": {
          "base_uri": "https://localhost:8080/"
        },
        "id": "MOx1QjNBDXgD",
        "outputId": "1e1d1d64-1ae7-4798-8464-ba6ad2cc11d4"
      },
      "execution_count": null,
      "outputs": [
        {
          "output_type": "stream",
          "name": "stdout",
          "text": [
            "홍길동\n",
            "{'age': 30, 'address': '서울시 용산구 이촌동'}\n"
          ]
        }
      ]
    },
    {
      "cell_type": "markdown",
      "source": [
        "* 위치 인수와 키워드 인수를 함께 사용하기\n",
        "\n",
        "  함수에서 위치 인수를 받는 *args와 키워드 인수를 받는 **kwargs를 함께 사용\n",
        "  \n",
        "  대표적인 함수가 print;  출력할 값을 위치 인수로 넣고 sep, end 등을 키워드 인수로 넣음\n"
      ],
      "metadata": {
        "id": "xF8koTOuDapj"
      }
    },
    {
      "cell_type": "code",
      "source": [
        "def custom_print(*args, **kwargs):   # 순서준수: *args, **kwargs\n",
        "     print(*args, **kwargs)\n",
        "custom_print(1, 2, 3, sep=':', end='')"
      ],
      "metadata": {
        "colab": {
          "base_uri": "https://localhost:8080/"
        },
        "id": "owfttHUFDiex",
        "outputId": "b39fa14e-6679-440e-991c-a45c06dcaf45"
      },
      "execution_count": null,
      "outputs": [
        {
          "output_type": "stream",
          "name": "stdout",
          "text": [
            "1:2:3"
          ]
        }
      ]
    },
    {
      "cell_type": "markdown",
      "source": [
        "* 고정 매개변수와 *args, **kwargs 함께 사용하기\n",
        "\n",
        ">def custom_print(fixed, *args, **kwargs):   # 순서준수: fixed, *args, **kwargs"
      ],
      "metadata": {
        "id": "PRuUW6OHDpXC"
      }
    },
    {
      "cell_type": "markdown",
      "source": [
        "# 30.4 매개변수에 초깃값 지정하고 생략하기\n",
        "초깃값은 다음과 같이 함수를 만들 때 매개변수=값 형식으로 지정하고, 함수 이용 시, \n",
        "\n",
        "인수를 생략가능하기 때문에, 매개변수의 초깃값을 주로 사용하고, 가끔 다른 값을 쓸 때 활용됨.\n",
        "\n",
        ">def 함수이름(매개변수=값):\n",
        "    >>코드\n",
        "\n",
        "대표적인 예: print 함수의 sep는 초깃값이 ' '(공백), 가끔 sep에 다른 값을 넣어서 사용함.\n"
      ],
      "metadata": {
        "id": "wBqVM6zJDzsL"
      }
    },
    {
      "cell_type": "code",
      "source": [
        "def personal_info(name, age, address='비공개'):  # 순서준수: 일반매개변수, 초기값매개변수\n",
        "     print('이름: ', name)\n",
        "     print('나이: ', age)\n",
        "     print('주소: ', address)\n",
        "personal_info('홍길동', 30)"
      ],
      "metadata": {
        "colab": {
          "base_uri": "https://localhost:8080/"
        },
        "id": "sJPWw3bxEAjr",
        "outputId": "53c5082e-9b82-4cbc-d5b2-b4f936269f9f"
      },
      "execution_count": null,
      "outputs": [
        {
          "output_type": "stream",
          "name": "stdout",
          "text": [
            "이름:  홍길동\n",
            "나이:  30\n",
            "주소:  비공개\n"
          ]
        }
      ]
    },
    {
      "cell_type": "code",
      "source": [
        "personal_info('홍길동', 30, '서울시 용산구 이촌동')"
      ],
      "metadata": {
        "colab": {
          "base_uri": "https://localhost:8080/"
        },
        "id": "9Yg9H-LBEHpa",
        "outputId": "b895123e-be21-450c-9431-7a5b96374031"
      },
      "execution_count": null,
      "outputs": [
        {
          "output_type": "stream",
          "name": "stdout",
          "text": [
            "이름:  홍길동\n",
            "나이:  30\n",
            "주소:  서울시 용산구 이촌동\n"
          ]
        }
      ]
    },
    {
      "cell_type": "markdown",
      "source": [
        "# 퀴즈\n",
        "```\n",
        "1. 함수를 def print_numbers(a, b, c):처럼 만들었을 때 이 함수를 호출하는 방법으로 잘못된 것을 고르세요.\n",
        "    a.\tprint_numbers(1, 3, 5)\n",
        "    b.\tprint_numbers(a=1, b=2, c=3)\n",
        "    c.\ta = [5, 0, 2]\n",
        "          print_numbers(*a)\n",
        "    d.\ta = [3, 7, 9]\n",
        "          print_numbers(**a)\n",
        "    e.\tprint_numbers(*[9, 1, 2])\n",
        "하나를 선택하세요.\n",
        "\n",
        "2. 다음 중 print_numbers(*[10, 20, 30])으로 호출할 수 있는 함수로 올바른 것을 모두 고르세요.\n",
        "    a.\tdef print_numbers(args):\n",
        "    b.\tdef print_numbers(a, b, c):\n",
        "    c.\tdef print_numbers(*args):\n",
        "    d.\tdef print_numbers(**kwargs):\n",
        "    e.\tdef print_numbers():\n",
        "하나 혹은 하나 이상을 선택하세요.\n",
        "\n",
        "3. 다음 중 personal_info(**{'name': '홍길동', 'age': 30})으로 호출할 수 있는 함수로 올바른 것을 모두 고르세요.\n",
        "    a.\tdef personal_info(**kwargs):\n",
        "    b.\tdef personal_info(*args):\n",
        "    c.\tdef personal_info(name='미공개', age=0):\n",
        "    d.\tdef personal_info(name, address):\n",
        "    e.\tdef personal_info(kwargs):\n",
        "하나 혹은 하나 이상을 선택하세요.\n",
        "```"
      ],
      "metadata": {
        "id": "N65IcO2MFv7s"
      }
    },
    {
      "cell_type": "markdown",
      "source": [
        "# 30.6 연습문제: 가장 높은 점수를 구하는 함수 만들기\n",
        "\n",
        "다음 소스 코드를 완성하여 가장 높은 점수가 출력되게 만드세요.\n",
        "\n",
        "[소스코드]\n",
        "```\n",
        "korean, english, mathematics, science = 100, 86, 81, 91\n",
        "                                           \n",
        ".......................\n",
        "\n",
        "max_score = get_max_score(korean, english, mathematics, science)\n",
        "print('높은 점수:', max_score)\n",
        " \n",
        "max_score = get_max_score(english, science)\n",
        "print('높은 점수:', max_score)\n",
        "```\n",
        "\n",
        "[실행 결과]\n",
        "\n",
        "높은 점수: 100\n",
        "\n",
        "높은 점수: 91\n",
        "\n",
        "[정답]\n",
        "\n",
        ">def get_max_score(*args):\n",
        ">>    return max(args)\n"
      ],
      "metadata": {
        "id": "I0w6UrRBG5Fk"
      }
    },
    {
      "cell_type": "markdown",
      "source": [
        "# 30.7 심사문제: 가장 낮은 점수, 높은 점수와 평균 점수를 구하는 함수 만들기\n",
        "표준 입력으로 국어, 영어, 수학, 과학 점수가 입력됩니다. 다음 소스 코드를 완성하여 가장 높은 점수, 가장 낮은 점수, 평균 점수가 출력되게 만드세요. 평균 점수는 실수로 출력되어야 합니다.\n",
        "```\n",
        "[소스코드]\n",
        "\n",
        "korean, english, mathematics, science = map(int, input().split())\n",
        "\n",
        "________________\n",
        "\n",
        "min_score, max_score = get_min_max_score(korean, english, mathematics, science)\n",
        "average_score = get_average(korean=korean, english=english,\n",
        "                            mathematics=mathematics, science=science)\n",
        "print('낮은 점수: {0:.2f}, 높은 점수: {1:.2f}, 평균 점수: {2:.2f}'\n",
        "      .format(min_score, max_score, average_score))\n",
        " \n",
        "min_score, max_score = get_min_max_score(english, science)\n",
        "average_score = get_average(english=english, science=science)\n",
        "print('낮은 점수: {0:.2f}, 높은 점수: {1:.2f}, 평균 점수: {2:.2f}'\n",
        "      .format(min_score, max_score, average_score))\n",
        "```\n",
        "\n",
        "[예]\n",
        "\n",
        "[입력]\n",
        "\n",
        "76 82 89 84\n",
        "\n",
        "[결과]\n",
        "\n",
        "낮은 점수: 76.00, 높은 점수: 89.00, 평균 점수: 82.75\n",
        "\n",
        "낮은 점수: 82.00, 높은 점수: 84.00, 평균 점수: 83.00\n",
        "\n",
        "[입력]\n",
        "\n",
        "89 92 73 83\n",
        "\n",
        "[결과]\n",
        "\n",
        "낮은 점수: 73.00, 높은 점수: 92.00, 평균 점수: 84.25\n",
        "\n",
        "낮은 점수: 83.00, 높은 점수: 92.00, 평균 점수: 87.50\n",
        "\n",
        "\n",
        "[가능한 답들중 한 예]\n",
        "```\n",
        "def get_min_max_score(*args):\n",
        "   return min(args), max(args)\n",
        "\n",
        "def get_average(**kwargs):\n",
        "   return sum(kwargs.values())/len(kwargs)\n",
        "```\n"
      ],
      "metadata": {
        "id": "zjsdwpoVhBt9"
      }
    }
  ]
}
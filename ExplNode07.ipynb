{
  "cells": [
    {
      "cell_type": "markdown",
      "metadata": {
        "id": "view-in-github",
        "colab_type": "text"
      },
      "source": [
        "<a href=\"https://colab.research.google.com/github/twelvesense/first-repository/blob/master/ExplNode07.ipynb\" target=\"_parent\"><img src=\"https://colab.research.google.com/assets/colab-badge.svg\" alt=\"Open In Colab\"/></a>"
      ]
    },
    {
      "cell_type": "markdown",
      "source": [
        "# 프로젝트: 뉴스기사 요약해보기\n",
        "## 새로운 데이터셋에 대해서 추상적 요약과 추출적 요약을 모두 해보는 시간을 가져봐요."
      ],
      "metadata": {
        "id": "v0EOEwrvJRY9"
      }
    },
    {
      "cell_type": "code",
      "execution_count": null,
      "source": [
        "# 먼저 주요 라이브러리 버전을 확인해 보죠.\n",
        "from importlib.metadata import version\n",
        "import nltk\n",
        "import tensorflow\n",
        "import summa\n",
        "import pandas as pd\n",
        "import urllib.request\n",
        "\n",
        "print(nltk.__version__)\n",
        "print(tensorflow.__version__)\n",
        "print(version('summa'))"
      ],
      "outputs": [
        {
          "output_type": "stream",
          "name": "stdout",
          "text": [
            "3.7\n",
            "2.9.0\n",
            "1.2.0\n"
          ]
        }
      ],
      "metadata": {
        "id": "QGmA4RxOJRY_",
        "outputId": "833aa5ba-08b8-4532-c4b5-9ad5bd023673"
      }
    },
    {
      "cell_type": "markdown",
      "source": [
        "# Step 1. 데이터 수집하기"
      ],
      "metadata": {
        "id": "FaqSuO9lJRZB"
      }
    },
    {
      "cell_type": "code",
      "execution_count": null,
      "source": [
        "# 데이터 다운로드\n",
        "urllib.request.urlretrieve(\"https://raw.githubusercontent.com/sunnysai12345/News_Summary/master/news_summary_more.csv\", filename=\"news_summary_more.csv\")\n",
        "data = pd.read_csv('news_summary_more.csv', encoding='iso-8859-1')"
      ],
      "outputs": [],
      "metadata": {
        "id": "0z3qRogVJRZD"
      }
    },
    {
      "cell_type": "code",
      "execution_count": null,
      "source": [
        "# data.sample(10)\n",
        "data.sample(10)"
      ],
      "outputs": [
        {
          "output_type": "execute_result",
          "data": {
            "text/html": [
              "<div>\n",
              "<style scoped>\n",
              "    .dataframe tbody tr th:only-of-type {\n",
              "        vertical-align: middle;\n",
              "    }\n",
              "\n",
              "    .dataframe tbody tr th {\n",
              "        vertical-align: top;\n",
              "    }\n",
              "\n",
              "    .dataframe thead th {\n",
              "        text-align: right;\n",
              "    }\n",
              "</style>\n",
              "<table border=\"1\" class=\"dataframe\">\n",
              "  <thead>\n",
              "    <tr style=\"text-align: right;\">\n",
              "      <th></th>\n",
              "      <th>headlines</th>\n",
              "      <th>text</th>\n",
              "    </tr>\n",
              "  </thead>\n",
              "  <tbody>\n",
              "    <tr>\n",
              "      <th>70636</th>\n",
              "      <td>People gather to shout Bolna Aunty Aun Kya in ...</td>\n",
              "      <td>People in Delhi and Mumbai gathered to sing th...</td>\n",
              "    </tr>\n",
              "    <tr>\n",
              "      <th>16725</th>\n",
              "      <td>RBI gives Yes Bank's Rana Kapoor only 4 more m...</td>\n",
              "      <td>The RBI has asked Yes Bank's billionaire Manag...</td>\n",
              "    </tr>\n",
              "    <tr>\n",
              "      <th>86354</th>\n",
              "      <td>Phogat demands stopping Ind-Pak match, cheers ...</td>\n",
              "      <td>Wrestler Babita Phogat cheered for India on Tw...</td>\n",
              "    </tr>\n",
              "    <tr>\n",
              "      <th>76569</th>\n",
              "      <td>China denies hiring foreigners to run its radi...</td>\n",
              "      <td>China has denied reports that it is planning t...</td>\n",
              "    </tr>\n",
              "    <tr>\n",
              "      <th>65152</th>\n",
              "      <td>WWE star Triple H attempts Amitabh's 'Shahensh...</td>\n",
              "      <td>Former WWE champion Triple H, in an interview ...</td>\n",
              "    </tr>\n",
              "    <tr>\n",
              "      <th>39074</th>\n",
              "      <td>He was my protector: Celeb chef Anthony's girl...</td>\n",
              "      <td>Celebrity chef Anthony Bourdain's girlfriend, ...</td>\n",
              "    </tr>\n",
              "    <tr>\n",
              "      <th>29799</th>\n",
              "      <td>Surgeon builds windpipes from largest artery i...</td>\n",
              "      <td>French doctors led by surgeon Emmanuel Martino...</td>\n",
              "    </tr>\n",
              "    <tr>\n",
              "      <th>43165</th>\n",
              "      <td>US won't succeed if it tries to divide EU on t...</td>\n",
              "      <td>German economy minister Peter Altmaier has sai...</td>\n",
              "    </tr>\n",
              "    <tr>\n",
              "      <th>51291</th>\n",
              "      <td>Which industry in India pays the most taxes?</td>\n",
              "      <td>India's steel sector is taxed the highest amon...</td>\n",
              "    </tr>\n",
              "    <tr>\n",
              "      <th>2086</th>\n",
              "      <td>Nadal wakes up sleeping journalist during his ...</td>\n",
              "      <td>World number two Rafael Nadal woke up a sleepi...</td>\n",
              "    </tr>\n",
              "  </tbody>\n",
              "</table>\n",
              "</div>"
            ],
            "text/plain": [
              "                                               headlines  \\\n",
              "70636  People gather to shout Bolna Aunty Aun Kya in ...   \n",
              "16725  RBI gives Yes Bank's Rana Kapoor only 4 more m...   \n",
              "86354  Phogat demands stopping Ind-Pak match, cheers ...   \n",
              "76569  China denies hiring foreigners to run its radi...   \n",
              "65152  WWE star Triple H attempts Amitabh's 'Shahensh...   \n",
              "39074  He was my protector: Celeb chef Anthony's girl...   \n",
              "29799  Surgeon builds windpipes from largest artery i...   \n",
              "43165  US won't succeed if it tries to divide EU on t...   \n",
              "51291       Which industry in India pays the most taxes?   \n",
              "2086   Nadal wakes up sleeping journalist during his ...   \n",
              "\n",
              "                                                    text  \n",
              "70636  People in Delhi and Mumbai gathered to sing th...  \n",
              "16725  The RBI has asked Yes Bank's billionaire Manag...  \n",
              "86354  Wrestler Babita Phogat cheered for India on Tw...  \n",
              "76569  China has denied reports that it is planning t...  \n",
              "65152  Former WWE champion Triple H, in an interview ...  \n",
              "39074  Celebrity chef Anthony Bourdain's girlfriend, ...  \n",
              "29799  French doctors led by surgeon Emmanuel Martino...  \n",
              "43165  German economy minister Peter Altmaier has sai...  \n",
              "51291  India's steel sector is taxed the highest amon...  \n",
              "2086   World number two Rafael Nadal woke up a sleepi...  "
            ]
          },
          "metadata": {},
          "execution_count": 8
        }
      ],
      "metadata": {
        "id": "0PV-5zwSJRZD",
        "outputId": "60774b58-c2ef-4ff2-c330-05f2915c075a"
      }
    },
    {
      "cell_type": "markdown",
      "source": [
        "추상적 요약을 하는 경우에는 text를 본문, headlines를 이미 요약된 데이터로 삼아서 모델을 학습할 수 있어요.<br>\n",
        "추출적 요약을 하는 경우에는 오직 text열만을 사용하세요."
      ],
      "metadata": {
        "id": "Jwdals22JRZE"
      }
    },
    {
      "cell_type": "markdown",
      "source": [
        "# Step 2. 데이터 전처리하기 (추상적 요약)\n",
        "실습에서 사용된 전처리를 참고하여 각자 필요하다고 생각하는 전처리를 추가 사용하여 텍스트를 정규화 또는 정제해 보세요. 만약, 불용어 제거를 선택한다면 상대적으로 길이가 짧은 요약 데이터에 대해서도 불용어를 제거하는 것이 좋을지 고민해 보세요."
      ],
      "metadata": {
        "id": "CHRRclncJRZE"
      }
    },
    {
      "cell_type": "markdown",
      "source": [
        "# Step 3. 어텐션 메커니즘 사용하기 (추상적 요약)\n",
        "일반적인 seq2seq보다는 어텐션 메커니즘을 사용한 seq2seq를 사용하는 것이 더 나은 성능을 얻을 수 있어요. 실습 내용을 참고하여 어텐션 메커니즘을 사용한 seq2seq를 설계해 보세요."
      ],
      "metadata": {
        "id": "RNpt1-7WJRZF"
      }
    },
    {
      "cell_type": "markdown",
      "source": [
        "# Step 4. 실제 결과와 요약문 비교하기 (추상적 요약)\n",
        "원래의 요약문(headlines 열)과 학습을 통해 얻은 추상적 요약의 결과를 비교해 보세요."
      ],
      "metadata": {
        "id": "lGj9YwqFJRZG"
      }
    },
    {
      "cell_type": "markdown",
      "source": [
        "# Step 5. Summa을 이용해서 추출적 요약해보기\n",
        "추상적 요약은 추출적 요약과는 달리 문장의 표현력을 다양하게 가져갈 수 있지만, 추출적 요약에 비해서 난이도가 높아요. 반대로 말하면 추출적 요약은 추상적 요약에 비해 난이도가 낮고 기존 문장에서 문장을 꺼내오는 것이므로 잘못된 요약이 나올 가능성이 낮아요.\n",
        "Summa의 summarize를 사용하여 추출적 요약을 해보세요."
      ],
      "metadata": {
        "id": "C-4uglItJRZH"
      }
    }
  ],
  "nbformat": 4,
  "nbformat_minor": 0,
  "metadata": {
    "language_info": {
      "codemirror_mode": {
        "name": "ipython",
        "version": 3
      },
      "file_extension": ".py",
      "mimetype": "text/x-python",
      "name": "python",
      "nbconvert_exporter": "python",
      "pygments_lexer": "ipython3",
      "version": 3
    },
    "orig_nbformat": 4,
    "colab": {
      "name": "ExplNode07.ipynb",
      "provenance": [],
      "include_colab_link": true
    }
  }
}
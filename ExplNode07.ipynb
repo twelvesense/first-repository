{
  "cells": [
    {
      "cell_type": "markdown",
      "metadata": {
        "id": "view-in-github",
        "colab_type": "text"
      },
      "source": [
        "<a href=\"https://colab.research.google.com/github/twelvesense/first-repository/blob/master/ExplNode07.ipynb\" target=\"_parent\"><img src=\"https://colab.research.google.com/assets/colab-badge.svg\" alt=\"Open In Colab\"/></a>"
      ]
    },
    {
      "cell_type": "markdown",
      "source": [
        "# 프로젝트: 뉴스기사 요약해보기"
      ],
      "metadata": {
        "id": "v0EOEwrvJRY9"
      }
    },
    {
      "cell_type": "markdown",
      "source": [
        "# 1 개요"
      ],
      "metadata": {
        "id": "Bd8pmyn0_C51"
      }
    },
    {
      "cell_type": "markdown",
      "source": [
        "## 1-1. 목표"
      ],
      "metadata": {
        "id": "duiey657_Wi-"
      }
    },
    {
      "cell_type": "markdown",
      "source": [
        "*  뉴스에 대해서 추상적 요약과 추출적 요약을 한다."
      ],
      "metadata": {
        "id": "NAQQeAU6_c-2"
      }
    },
    {
      "cell_type": "markdown",
      "source": [
        "## 1-2. 사전준비"
      ],
      "metadata": {
        "id": "Sr7grCj_AGMN"
      }
    },
    {
      "cell_type": "markdown",
      "source": [
        "### ■ 기본 라이브러리 설치 및 load하기"
      ],
      "metadata": {
        "id": "KFOEQuwoALHd"
      }
    },
    {
      "cell_type": "code",
      "execution_count": 119,
      "source": [
        "!pip install summa\n",
        "import tqdm as tqdm\n",
        "from tqdm import tqdm\n",
        "import os, re\n",
        "import nltk\n",
        "import tensorflow\n",
        "import summa\n",
        "import pandas as pd\n",
        "import numpy as np\n",
        "import urllib.request\n",
        "from bs4 import BeautifulSoup \n",
        "import matplotlib.pyplot as plt\n",
        "from nltk.corpus import stopwords\n",
        "from tensorflow.keras.preprocessing.text import Tokenizer \n",
        "from tensorflow.keras.preprocessing.sequence import pad_sequences\n",
        "from tensorflow.keras.layers import Input, LSTM, Embedding, Dense, Concatenate, TimeDistributed\n",
        "from tensorflow.keras.models import Model\n",
        "from tensorflow.keras.callbacks import EarlyStopping, ModelCheckpoint\n",
        "from tensorflow.keras.layers import AdditiveAttention\n",
        "from summa.summarizer import summarize\n",
        "nltk.download('stopwords')"
      ],
      "outputs": [
        {
          "output_type": "stream",
          "name": "stdout",
          "text": [
            "Looking in indexes: https://pypi.org/simple, https://us-python.pkg.dev/colab-wheels/public/simple/\n",
            "Requirement already satisfied: summa in /usr/local/lib/python3.7/dist-packages (1.2.0)\n",
            "Requirement already satisfied: scipy>=0.19 in /usr/local/lib/python3.7/dist-packages (from summa) (1.4.1)\n",
            "Requirement already satisfied: numpy>=1.13.3 in /usr/local/lib/python3.7/dist-packages (from scipy>=0.19->summa) (1.21.6)\n",
            "[nltk_data] Downloading package stopwords to /root/nltk_data...\n",
            "[nltk_data]   Package stopwords is already up-to-date!\n"
          ]
        },
        {
          "output_type": "execute_result",
          "data": {
            "text/plain": [
              "True"
            ]
          },
          "metadata": {},
          "execution_count": 119
        }
      ],
      "metadata": {
        "colab": {
          "base_uri": "https://localhost:8080/"
        },
        "id": "QGmA4RxOJRY_",
        "outputId": "8ebc1804-586d-46b9-c798-be25dd068bfb"
      }
    },
    {
      "cell_type": "markdown",
      "source": [
        "### ■ 기본 함수 정의하기"
      ],
      "metadata": {
        "id": "aC1L9-WELjds"
      }
    },
    {
      "cell_type": "code",
      "source": [
        " # 데이터 전처리 함수\n",
        "def preprocess_sentence(sentence, remove_stopwords=True):\n",
        "    sentence = sentence.lower() # 텍스트 소문자화\n",
        "    sentence = BeautifulSoup(sentence, \"lxml\").text # <br />, <a href = ...> 등의 html 태그 제거\n",
        "    sentence = re.sub(r'\\([^)]*\\)', '', sentence) # 괄호로 닫힌 문자열 (...) 제거 Ex) my husband (and myself!) for => my husband for\n",
        "    sentence = re.sub('\"','', sentence) # 쌍따옴표 \" 제거\n",
        "    sentence = ' '.join([contractions[t] if t in contractions else t for t in sentence.split(\" \")]) # 약어 정규화\n",
        "    sentence = re.sub(r\"'s\\b\",\"\", sentence) # 소유격 제거. Ex) roland's -> roland\n",
        "    sentence = re.sub(\"[^a-zA-Z]\", \" \", sentence) # 영어 외 문자(숫자, 특수문자 등) 공백으로 변환\n",
        "    sentence = re.sub('[m]{2,}', 'mm', sentence) # m이 3개 이상이면 2개로 변경. Ex) ummmmmmm yeah -> umm yeah\n",
        "    \n",
        "    # 불용어 제거 (Text)\n",
        "    if remove_stopwords:\n",
        "        tokens = ' '.join(word for word in sentence.split() if not word in stopwords.words('english') if len(word) > 1)\n",
        "    # 불용어 미제거 (Summary)\n",
        "    else:\n",
        "        tokens = ' '.join(word for word in sentence.split() if len(word) > 1)\n",
        "    return tokens\n",
        "\n",
        "# 제한된 샘플에 대한 비율 확인 함수\n",
        "def below_threshold_len(max_len, nested_list):\n",
        "  cnt = 0\n",
        "  for s in nested_list:\n",
        "    if(len(s.split()) <= max_len):\n",
        "        cnt = cnt + 1\n",
        "  print('전체 샘플 중 길이가 %s 이하인 샘플의 비율: %s'%(max_len, (cnt / len(nested_list))))\n",
        "\n",
        "# 인퍼런스 단계에서 단어 시퀀스를 완성하는 함수\n",
        "def decode_sequence(input_seq):\n",
        "    # 입력으로부터 인코더의 상태를 얻음\n",
        "    e_out, e_h, e_c = encoder_model.predict(input_seq)\n",
        "\n",
        "     # <SOS>에 해당하는 토큰 생성\n",
        "    target_seq = np.zeros((1,1))\n",
        "    target_seq[0, 0] = tar_word_to_index['sostoken']\n",
        "\n",
        "    stop_condition = False\n",
        "    decoded_sentence = ''\n",
        "    while not stop_condition: # stop_condition이 True가 될 때까지 루프 반복\n",
        "\n",
        "        output_tokens, h, c = decoder_model.predict([target_seq] + [e_out, e_h, e_c])\n",
        "        sampled_token_index = np.argmax(output_tokens[0, -1, :])\n",
        "        sampled_token = tar_index_to_word[sampled_token_index]\n",
        "\n",
        "        if (sampled_token!='eostoken'):\n",
        "            decoded_sentence += ' '+sampled_token\n",
        "\n",
        "        #  <eos>에 도달하거나 최대 길이를 넘으면 중단.\n",
        "        if (sampled_token == 'eostoken'  or len(decoded_sentence.split()) >= (summary_max_len-1)):\n",
        "            stop_condition = True\n",
        "\n",
        "        # 길이가 1인 타겟 시퀀스를 업데이트\n",
        "        target_seq = np.zeros((1,1))\n",
        "        target_seq[0, 0] = sampled_token_index\n",
        "\n",
        "        # 상태를 업데이트 합니다.\n",
        "        e_h, e_c = h, c\n",
        "\n",
        "    return decoded_sentence  \n",
        "\n",
        "# 원문의 정수 시퀀스를 텍스트 시퀀스로 변환\n",
        "def seq2text(input_seq):\n",
        "    temp=''\n",
        "    for i in input_seq:\n",
        "        if (i!=0):\n",
        "            temp = temp + src_index_to_word[i]+' '\n",
        "    return temp   \n",
        "\n",
        "# 요약문의 정수 시퀀스를 텍스트 시퀀스로 변환\n",
        "def seq2summary(input_seq):\n",
        "    temp=''\n",
        "    for i in input_seq:\n",
        "        if ((i!=0 and i!=tar_word_to_index['sostoken']) and i!=tar_word_to_index['eostoken']):\n",
        "            temp = temp + tar_index_to_word[i] + ' '\n",
        "    return temp     "
      ],
      "metadata": {
        "id": "hPhKBI0qLDK2"
      },
      "execution_count": 120,
      "outputs": []
    },
    {
      "cell_type": "markdown",
      "source": [
        "# 2 데이터 수집하기"
      ],
      "metadata": {
        "id": "FaqSuO9lJRZB"
      }
    },
    {
      "cell_type": "markdown",
      "source": [
        "## 2-1. 데이터 download하기"
      ],
      "metadata": {
        "id": "aNqpy4jjCytV"
      }
    },
    {
      "cell_type": "code",
      "execution_count": 105,
      "source": [
        "urllib.request.urlretrieve(\"https://raw.githubusercontent.com/sunnysai12345/News_Summary/master/news_summary_more.csv\", filename=\"news_summary_more.csv\")\n",
        "data = pd.read_csv('news_summary_more.csv', encoding='iso-8859-1')"
      ],
      "outputs": [],
      "metadata": {
        "id": "0z3qRogVJRZD"
      }
    },
    {
      "cell_type": "markdown",
      "source": [
        "## 2-2. 데이터 확인하기"
      ],
      "metadata": {
        "id": "7Jpc-NudGlCt"
      }
    },
    {
      "cell_type": "code",
      "source": [
        "data.shape"
      ],
      "metadata": {
        "colab": {
          "base_uri": "https://localhost:8080/"
        },
        "id": "w2iEL1vbHqOb",
        "outputId": "81131222-f9d2-497a-a2f6-168226e3c937"
      },
      "execution_count": 106,
      "outputs": [
        {
          "output_type": "execute_result",
          "data": {
            "text/plain": [
              "(98401, 2)"
            ]
          },
          "metadata": {},
          "execution_count": 106
        }
      ]
    },
    {
      "cell_type": "code",
      "source": [
        "data.sample(10)"
      ],
      "metadata": {
        "colab": {
          "base_uri": "https://localhost:8080/",
          "height": 363
        },
        "id": "NSIeLA4jHiqZ",
        "outputId": "ad80d477-4422-4966-9e86-ae5047caef08"
      },
      "execution_count": 107,
      "outputs": [
        {
          "output_type": "execute_result",
          "data": {
            "text/plain": [
              "                                               headlines  \\\n",
              "64073  Fireworks factory explosion kills 23 in Indonesia   \n",
              "6705   Doesn't take a genius to get that Alia, Ranbir...   \n",
              "42378  Pilots suspended for shooting Snapchat videos ...   \n",
              "69509  Rajdeep Sardesai calls Arnab's Gujarat riot st...   \n",
              "48945  Petition to live-stream SC proceedings gets 43...   \n",
              "96248  Teaser of Pratyusha Banerjee's last short film...   \n",
              "18488  NASA's Kepler telescope wakes up, starts plane...   \n",
              "50482  Constable wrestles gun out of trader's hands, ...   \n",
              "21847  ITBP to give soldiers half-day off on their bi...   \n",
              "9480   Who are the 18 members on Reserve Bank of Indi...   \n",
              "\n",
              "                                                    text  \n",
              "64073  At least 23 people were killed and 43 others w...  \n",
              "6705   Filmmaker Mahesh Bhatt, while talking about hi...  \n",
              "42378  British airline easyJet has suspended two pilo...  \n",
              "69509  TV Today Consulting Editor Rajdeep Sardesai on...  \n",
              "48945  An online petition by lawyer Indira Jaising se...  \n",
              "96248  The teaser of late TV actress Pratyusha Banerj...  \n",
              "18488  NASA's planet-hunting Kepler space telescope h...  \n",
              "50482  A constable in Hyderabad was rewarded Ã¢ÂÂ¹10...  \n",
              "21847  Indo-Tibetan Border Police has decided to gran...  \n",
              "9480   The RBI's 18-member board includes Governor Ur...  "
            ],
            "text/html": [
              "\n",
              "  <div id=\"df-db83900b-ec00-47c7-83b0-9cefc21496b3\">\n",
              "    <div class=\"colab-df-container\">\n",
              "      <div>\n",
              "<style scoped>\n",
              "    .dataframe tbody tr th:only-of-type {\n",
              "        vertical-align: middle;\n",
              "    }\n",
              "\n",
              "    .dataframe tbody tr th {\n",
              "        vertical-align: top;\n",
              "    }\n",
              "\n",
              "    .dataframe thead th {\n",
              "        text-align: right;\n",
              "    }\n",
              "</style>\n",
              "<table border=\"1\" class=\"dataframe\">\n",
              "  <thead>\n",
              "    <tr style=\"text-align: right;\">\n",
              "      <th></th>\n",
              "      <th>headlines</th>\n",
              "      <th>text</th>\n",
              "    </tr>\n",
              "  </thead>\n",
              "  <tbody>\n",
              "    <tr>\n",
              "      <th>64073</th>\n",
              "      <td>Fireworks factory explosion kills 23 in Indonesia</td>\n",
              "      <td>At least 23 people were killed and 43 others w...</td>\n",
              "    </tr>\n",
              "    <tr>\n",
              "      <th>6705</th>\n",
              "      <td>Doesn't take a genius to get that Alia, Ranbir...</td>\n",
              "      <td>Filmmaker Mahesh Bhatt, while talking about hi...</td>\n",
              "    </tr>\n",
              "    <tr>\n",
              "      <th>42378</th>\n",
              "      <td>Pilots suspended for shooting Snapchat videos ...</td>\n",
              "      <td>British airline easyJet has suspended two pilo...</td>\n",
              "    </tr>\n",
              "    <tr>\n",
              "      <th>69509</th>\n",
              "      <td>Rajdeep Sardesai calls Arnab's Gujarat riot st...</td>\n",
              "      <td>TV Today Consulting Editor Rajdeep Sardesai on...</td>\n",
              "    </tr>\n",
              "    <tr>\n",
              "      <th>48945</th>\n",
              "      <td>Petition to live-stream SC proceedings gets 43...</td>\n",
              "      <td>An online petition by lawyer Indira Jaising se...</td>\n",
              "    </tr>\n",
              "    <tr>\n",
              "      <th>96248</th>\n",
              "      <td>Teaser of Pratyusha Banerjee's last short film...</td>\n",
              "      <td>The teaser of late TV actress Pratyusha Banerj...</td>\n",
              "    </tr>\n",
              "    <tr>\n",
              "      <th>18488</th>\n",
              "      <td>NASA's Kepler telescope wakes up, starts plane...</td>\n",
              "      <td>NASA's planet-hunting Kepler space telescope h...</td>\n",
              "    </tr>\n",
              "    <tr>\n",
              "      <th>50482</th>\n",
              "      <td>Constable wrestles gun out of trader's hands, ...</td>\n",
              "      <td>A constable in Hyderabad was rewarded Ã¢ÂÂ¹10...</td>\n",
              "    </tr>\n",
              "    <tr>\n",
              "      <th>21847</th>\n",
              "      <td>ITBP to give soldiers half-day off on their bi...</td>\n",
              "      <td>Indo-Tibetan Border Police has decided to gran...</td>\n",
              "    </tr>\n",
              "    <tr>\n",
              "      <th>9480</th>\n",
              "      <td>Who are the 18 members on Reserve Bank of Indi...</td>\n",
              "      <td>The RBI's 18-member board includes Governor Ur...</td>\n",
              "    </tr>\n",
              "  </tbody>\n",
              "</table>\n",
              "</div>\n",
              "      <button class=\"colab-df-convert\" onclick=\"convertToInteractive('df-db83900b-ec00-47c7-83b0-9cefc21496b3')\"\n",
              "              title=\"Convert this dataframe to an interactive table.\"\n",
              "              style=\"display:none;\">\n",
              "        \n",
              "  <svg xmlns=\"http://www.w3.org/2000/svg\" height=\"24px\"viewBox=\"0 0 24 24\"\n",
              "       width=\"24px\">\n",
              "    <path d=\"M0 0h24v24H0V0z\" fill=\"none\"/>\n",
              "    <path d=\"M18.56 5.44l.94 2.06.94-2.06 2.06-.94-2.06-.94-.94-2.06-.94 2.06-2.06.94zm-11 1L8.5 8.5l.94-2.06 2.06-.94-2.06-.94L8.5 2.5l-.94 2.06-2.06.94zm10 10l.94 2.06.94-2.06 2.06-.94-2.06-.94-.94-2.06-.94 2.06-2.06.94z\"/><path d=\"M17.41 7.96l-1.37-1.37c-.4-.4-.92-.59-1.43-.59-.52 0-1.04.2-1.43.59L10.3 9.45l-7.72 7.72c-.78.78-.78 2.05 0 2.83L4 21.41c.39.39.9.59 1.41.59.51 0 1.02-.2 1.41-.59l7.78-7.78 2.81-2.81c.8-.78.8-2.07 0-2.86zM5.41 20L4 18.59l7.72-7.72 1.47 1.35L5.41 20z\"/>\n",
              "  </svg>\n",
              "      </button>\n",
              "      \n",
              "  <style>\n",
              "    .colab-df-container {\n",
              "      display:flex;\n",
              "      flex-wrap:wrap;\n",
              "      gap: 12px;\n",
              "    }\n",
              "\n",
              "    .colab-df-convert {\n",
              "      background-color: #E8F0FE;\n",
              "      border: none;\n",
              "      border-radius: 50%;\n",
              "      cursor: pointer;\n",
              "      display: none;\n",
              "      fill: #1967D2;\n",
              "      height: 32px;\n",
              "      padding: 0 0 0 0;\n",
              "      width: 32px;\n",
              "    }\n",
              "\n",
              "    .colab-df-convert:hover {\n",
              "      background-color: #E2EBFA;\n",
              "      box-shadow: 0px 1px 2px rgba(60, 64, 67, 0.3), 0px 1px 3px 1px rgba(60, 64, 67, 0.15);\n",
              "      fill: #174EA6;\n",
              "    }\n",
              "\n",
              "    [theme=dark] .colab-df-convert {\n",
              "      background-color: #3B4455;\n",
              "      fill: #D2E3FC;\n",
              "    }\n",
              "\n",
              "    [theme=dark] .colab-df-convert:hover {\n",
              "      background-color: #434B5C;\n",
              "      box-shadow: 0px 1px 3px 1px rgba(0, 0, 0, 0.15);\n",
              "      filter: drop-shadow(0px 1px 2px rgba(0, 0, 0, 0.3));\n",
              "      fill: #FFFFFF;\n",
              "    }\n",
              "  </style>\n",
              "\n",
              "      <script>\n",
              "        const buttonEl =\n",
              "          document.querySelector('#df-db83900b-ec00-47c7-83b0-9cefc21496b3 button.colab-df-convert');\n",
              "        buttonEl.style.display =\n",
              "          google.colab.kernel.accessAllowed ? 'block' : 'none';\n",
              "\n",
              "        async function convertToInteractive(key) {\n",
              "          const element = document.querySelector('#df-db83900b-ec00-47c7-83b0-9cefc21496b3');\n",
              "          const dataTable =\n",
              "            await google.colab.kernel.invokeFunction('convertToInteractive',\n",
              "                                                     [key], {});\n",
              "          if (!dataTable) return;\n",
              "\n",
              "          const docLinkHtml = 'Like what you see? Visit the ' +\n",
              "            '<a target=\"_blank\" href=https://colab.research.google.com/notebooks/data_table.ipynb>data table notebook</a>'\n",
              "            + ' to learn more about interactive tables.';\n",
              "          element.innerHTML = '';\n",
              "          dataTable['output_type'] = 'display_data';\n",
              "          await google.colab.output.renderOutput(dataTable, element);\n",
              "          const docLink = document.createElement('div');\n",
              "          docLink.innerHTML = docLinkHtml;\n",
              "          element.appendChild(docLink);\n",
              "        }\n",
              "      </script>\n",
              "    </div>\n",
              "  </div>\n",
              "  "
            ]
          },
          "metadata": {},
          "execution_count": 107
        }
      ]
    },
    {
      "cell_type": "code",
      "execution_count": 108,
      "source": [
        "data.head()"
      ],
      "outputs": [
        {
          "output_type": "execute_result",
          "data": {
            "text/plain": [
              "                                           headlines  \\\n",
              "0  upGrad learner switches to career in ML & Al w...   \n",
              "1  Delhi techie wins free food from Swiggy for on...   \n",
              "2  New Zealand end Rohit Sharma-led India's 12-ma...   \n",
              "3  Aegon life iTerm insurance plan helps customer...   \n",
              "4  Have known Hirani for yrs, what if MeToo claim...   \n",
              "\n",
              "                                                text  \n",
              "0  Saurav Kant, an alumnus of upGrad and IIIT-B's...  \n",
              "1  Kunal Shah's credit card bill payment platform...  \n",
              "2  New Zealand defeated India by 8 wickets in the...  \n",
              "3  With Aegon Life iTerm Insurance plan, customer...  \n",
              "4  Speaking about the sexual harassment allegatio...  "
            ],
            "text/html": [
              "\n",
              "  <div id=\"df-3e6d6c9d-97bf-42f7-b0a1-9f388d37c2b7\">\n",
              "    <div class=\"colab-df-container\">\n",
              "      <div>\n",
              "<style scoped>\n",
              "    .dataframe tbody tr th:only-of-type {\n",
              "        vertical-align: middle;\n",
              "    }\n",
              "\n",
              "    .dataframe tbody tr th {\n",
              "        vertical-align: top;\n",
              "    }\n",
              "\n",
              "    .dataframe thead th {\n",
              "        text-align: right;\n",
              "    }\n",
              "</style>\n",
              "<table border=\"1\" class=\"dataframe\">\n",
              "  <thead>\n",
              "    <tr style=\"text-align: right;\">\n",
              "      <th></th>\n",
              "      <th>headlines</th>\n",
              "      <th>text</th>\n",
              "    </tr>\n",
              "  </thead>\n",
              "  <tbody>\n",
              "    <tr>\n",
              "      <th>0</th>\n",
              "      <td>upGrad learner switches to career in ML &amp; Al w...</td>\n",
              "      <td>Saurav Kant, an alumnus of upGrad and IIIT-B's...</td>\n",
              "    </tr>\n",
              "    <tr>\n",
              "      <th>1</th>\n",
              "      <td>Delhi techie wins free food from Swiggy for on...</td>\n",
              "      <td>Kunal Shah's credit card bill payment platform...</td>\n",
              "    </tr>\n",
              "    <tr>\n",
              "      <th>2</th>\n",
              "      <td>New Zealand end Rohit Sharma-led India's 12-ma...</td>\n",
              "      <td>New Zealand defeated India by 8 wickets in the...</td>\n",
              "    </tr>\n",
              "    <tr>\n",
              "      <th>3</th>\n",
              "      <td>Aegon life iTerm insurance plan helps customer...</td>\n",
              "      <td>With Aegon Life iTerm Insurance plan, customer...</td>\n",
              "    </tr>\n",
              "    <tr>\n",
              "      <th>4</th>\n",
              "      <td>Have known Hirani for yrs, what if MeToo claim...</td>\n",
              "      <td>Speaking about the sexual harassment allegatio...</td>\n",
              "    </tr>\n",
              "  </tbody>\n",
              "</table>\n",
              "</div>\n",
              "      <button class=\"colab-df-convert\" onclick=\"convertToInteractive('df-3e6d6c9d-97bf-42f7-b0a1-9f388d37c2b7')\"\n",
              "              title=\"Convert this dataframe to an interactive table.\"\n",
              "              style=\"display:none;\">\n",
              "        \n",
              "  <svg xmlns=\"http://www.w3.org/2000/svg\" height=\"24px\"viewBox=\"0 0 24 24\"\n",
              "       width=\"24px\">\n",
              "    <path d=\"M0 0h24v24H0V0z\" fill=\"none\"/>\n",
              "    <path d=\"M18.56 5.44l.94 2.06.94-2.06 2.06-.94-2.06-.94-.94-2.06-.94 2.06-2.06.94zm-11 1L8.5 8.5l.94-2.06 2.06-.94-2.06-.94L8.5 2.5l-.94 2.06-2.06.94zm10 10l.94 2.06.94-2.06 2.06-.94-2.06-.94-.94-2.06-.94 2.06-2.06.94z\"/><path d=\"M17.41 7.96l-1.37-1.37c-.4-.4-.92-.59-1.43-.59-.52 0-1.04.2-1.43.59L10.3 9.45l-7.72 7.72c-.78.78-.78 2.05 0 2.83L4 21.41c.39.39.9.59 1.41.59.51 0 1.02-.2 1.41-.59l7.78-7.78 2.81-2.81c.8-.78.8-2.07 0-2.86zM5.41 20L4 18.59l7.72-7.72 1.47 1.35L5.41 20z\"/>\n",
              "  </svg>\n",
              "      </button>\n",
              "      \n",
              "  <style>\n",
              "    .colab-df-container {\n",
              "      display:flex;\n",
              "      flex-wrap:wrap;\n",
              "      gap: 12px;\n",
              "    }\n",
              "\n",
              "    .colab-df-convert {\n",
              "      background-color: #E8F0FE;\n",
              "      border: none;\n",
              "      border-radius: 50%;\n",
              "      cursor: pointer;\n",
              "      display: none;\n",
              "      fill: #1967D2;\n",
              "      height: 32px;\n",
              "      padding: 0 0 0 0;\n",
              "      width: 32px;\n",
              "    }\n",
              "\n",
              "    .colab-df-convert:hover {\n",
              "      background-color: #E2EBFA;\n",
              "      box-shadow: 0px 1px 2px rgba(60, 64, 67, 0.3), 0px 1px 3px 1px rgba(60, 64, 67, 0.15);\n",
              "      fill: #174EA6;\n",
              "    }\n",
              "\n",
              "    [theme=dark] .colab-df-convert {\n",
              "      background-color: #3B4455;\n",
              "      fill: #D2E3FC;\n",
              "    }\n",
              "\n",
              "    [theme=dark] .colab-df-convert:hover {\n",
              "      background-color: #434B5C;\n",
              "      box-shadow: 0px 1px 3px 1px rgba(0, 0, 0, 0.15);\n",
              "      filter: drop-shadow(0px 1px 2px rgba(0, 0, 0, 0.3));\n",
              "      fill: #FFFFFF;\n",
              "    }\n",
              "  </style>\n",
              "\n",
              "      <script>\n",
              "        const buttonEl =\n",
              "          document.querySelector('#df-3e6d6c9d-97bf-42f7-b0a1-9f388d37c2b7 button.colab-df-convert');\n",
              "        buttonEl.style.display =\n",
              "          google.colab.kernel.accessAllowed ? 'block' : 'none';\n",
              "\n",
              "        async function convertToInteractive(key) {\n",
              "          const element = document.querySelector('#df-3e6d6c9d-97bf-42f7-b0a1-9f388d37c2b7');\n",
              "          const dataTable =\n",
              "            await google.colab.kernel.invokeFunction('convertToInteractive',\n",
              "                                                     [key], {});\n",
              "          if (!dataTable) return;\n",
              "\n",
              "          const docLinkHtml = 'Like what you see? Visit the ' +\n",
              "            '<a target=\"_blank\" href=https://colab.research.google.com/notebooks/data_table.ipynb>data table notebook</a>'\n",
              "            + ' to learn more about interactive tables.';\n",
              "          element.innerHTML = '';\n",
              "          dataTable['output_type'] = 'display_data';\n",
              "          await google.colab.output.renderOutput(dataTable, element);\n",
              "          const docLink = document.createElement('div');\n",
              "          docLink.innerHTML = docLinkHtml;\n",
              "          element.appendChild(docLink);\n",
              "        }\n",
              "      </script>\n",
              "    </div>\n",
              "  </div>\n",
              "  "
            ]
          },
          "metadata": {},
          "execution_count": 108
        }
      ],
      "metadata": {
        "colab": {
          "base_uri": "https://localhost:8080/",
          "height": 206
        },
        "id": "0PV-5zwSJRZD",
        "outputId": "ce48ffdc-1f10-4f34-aa7e-03330e9331a6"
      }
    },
    {
      "cell_type": "code",
      "source": [
        "data.loc[0]"
      ],
      "metadata": {
        "colab": {
          "base_uri": "https://localhost:8080/"
        },
        "id": "1rf9h7rhFKEI",
        "outputId": "85f0c8fe-44d8-4495-82df-159a12d4edf7"
      },
      "execution_count": 109,
      "outputs": [
        {
          "output_type": "execute_result",
          "data": {
            "text/plain": [
              "headlines    upGrad learner switches to career in ML & Al w...\n",
              "text         Saurav Kant, an alumnus of upGrad and IIIT-B's...\n",
              "Name: 0, dtype: object"
            ]
          },
          "metadata": {},
          "execution_count": 109
        }
      ]
    },
    {
      "cell_type": "code",
      "source": [
        "data['headlines'][0]"
      ],
      "metadata": {
        "colab": {
          "base_uri": "https://localhost:8080/",
          "height": 35
        },
        "id": "03iAQlsyF8dh",
        "outputId": "4bc1eb86-8f55-4914-d3ca-662c19164cb6"
      },
      "execution_count": 110,
      "outputs": [
        {
          "output_type": "execute_result",
          "data": {
            "text/plain": [
              "'upGrad learner switches to career in ML & Al with 90% salary hike'"
            ],
            "application/vnd.google.colaboratory.intrinsic+json": {
              "type": "string"
            }
          },
          "metadata": {},
          "execution_count": 110
        }
      ]
    },
    {
      "cell_type": "code",
      "source": [
        "data['text'][0]"
      ],
      "metadata": {
        "colab": {
          "base_uri": "https://localhost:8080/",
          "height": 70
        },
        "id": "2VItmjCcGT9r",
        "outputId": "5c20484e-c2c7-4433-bf10-a51b7c93b7a9"
      },
      "execution_count": 111,
      "outputs": [
        {
          "output_type": "execute_result",
          "data": {
            "text/plain": [
              "\"Saurav Kant, an alumnus of upGrad and IIIT-B's PG Program in Machine learning and Artificial Intelligence, was a Sr Systems Engineer at Infosys with almost 5 years of work experience. The program and upGrad's 360-degree career support helped him transition to a Data Scientist at Tech Mahindra with 90% salary hike. upGrad's Online Power Learning has powered 3 lakh+ careers.\""
            ],
            "application/vnd.google.colaboratory.intrinsic+json": {
              "type": "string"
            }
          },
          "metadata": {},
          "execution_count": 111
        }
      ]
    },
    {
      "cell_type": "markdown",
      "source": [
        "# 3 추상적 요약"
      ],
      "metadata": {
        "id": "nQT_cXbgajGm"
      }
    },
    {
      "cell_type": "markdown",
      "source": [
        "## 3-1. 데이터 전처리"
      ],
      "metadata": {
        "id": "GcihD8aBINfV"
      }
    },
    {
      "cell_type": "markdown",
      "source": [
        "### ■ 중복 제거하기"
      ],
      "metadata": {
        "id": "R9TYpQFVIduC"
      }
    },
    {
      "cell_type": "code",
      "source": [
        "print('text 열에서 중복을 배제한 유일한 샘플의 수 :', data['text'].nunique())\n",
        "print('headlines 열에서 중복을 배제한 유일한 샘플의 수 :', data['headlines'].nunique())"
      ],
      "metadata": {
        "colab": {
          "base_uri": "https://localhost:8080/"
        },
        "id": "YZ3RizI4IRbC",
        "outputId": "61a4b878-7d40-483a-affa-f422eb33f565"
      },
      "execution_count": 112,
      "outputs": [
        {
          "output_type": "stream",
          "name": "stdout",
          "text": [
            "text 열에서 중복을 배제한 유일한 샘플의 수 : 98360\n",
            "headlines 열에서 중복을 배제한 유일한 샘플의 수 : 98280\n"
          ]
        }
      ]
    },
    {
      "cell_type": "code",
      "source": [
        "data.drop_duplicates(subset = ['text'], inplace=True)\n",
        "print('전체 샘플수 :', (len(data)))"
      ],
      "metadata": {
        "colab": {
          "base_uri": "https://localhost:8080/"
        },
        "id": "PWGfshwBI3zf",
        "outputId": "7178a652-38e6-4600-fe0a-aa6246d65e0a"
      },
      "execution_count": 113,
      "outputs": [
        {
          "output_type": "stream",
          "name": "stdout",
          "text": [
            "전체 샘플수 : 98360\n"
          ]
        }
      ]
    },
    {
      "cell_type": "markdown",
      "source": [
        "### ■ Null값 체크하기"
      ],
      "metadata": {
        "id": "33lVbbDHJH3N"
      }
    },
    {
      "cell_type": "code",
      "source": [
        "print(data.isnull().sum())"
      ],
      "metadata": {
        "colab": {
          "base_uri": "https://localhost:8080/"
        },
        "id": "8y0aQRbsJMUa",
        "outputId": "fd9e75f7-6079-4d74-b2c2-31634222440b"
      },
      "execution_count": 114,
      "outputs": [
        {
          "output_type": "stream",
          "name": "stdout",
          "text": [
            "headlines    0\n",
            "text         0\n",
            "dtype: int64\n"
          ]
        }
      ]
    },
    {
      "cell_type": "code",
      "source": [
        "print('Text 열에서 중복을 배제한 유일한 샘플의 수 :', data['text'].nunique())\n",
        "print('Headlines 열에서 중복을 배제한 유일한 샘플의 수 :', data['headlines'].nunique())"
      ],
      "metadata": {
        "colab": {
          "base_uri": "https://localhost:8080/"
        },
        "id": "ueP90ECIJW9r",
        "outputId": "472fbf9f-0912-451d-b5a2-31b54c40ebc5"
      },
      "execution_count": 115,
      "outputs": [
        {
          "output_type": "stream",
          "name": "stdout",
          "text": [
            "Text 열에서 중복을 배제한 유일한 샘플의 수 : 98360\n",
            "Headlines 열에서 중복을 배제한 유일한 샘플의 수 : 98262\n"
          ]
        }
      ]
    },
    {
      "cell_type": "markdown",
      "source": [
        "### ■ 텍스트 정규화하기"
      ],
      "metadata": {
        "id": "ncYUDZu8JjYG"
      }
    },
    {
      "cell_type": "code",
      "source": [
        "contractions = {\"ain't\": \"is not\", \"aren't\": \"are not\",\"can't\": \"cannot\", \"'cause\": \"because\", \"could've\": \"could have\", \"couldn't\": \"could not\",\n",
        "                           \"didn't\": \"did not\",  \"doesn't\": \"does not\", \"don't\": \"do not\", \"hadn't\": \"had not\", \"hasn't\": \"has not\", \"haven't\": \"have not\",\n",
        "                           \"he'd\": \"he would\",\"he'll\": \"he will\", \"he's\": \"he is\", \"how'd\": \"how did\", \"how'd'y\": \"how do you\", \"how'll\": \"how will\", \"how's\": \"how is\",\n",
        "                           \"I'd\": \"I would\", \"I'd've\": \"I would have\", \"I'll\": \"I will\", \"I'll've\": \"I will have\",\"I'm\": \"I am\", \"I've\": \"I have\", \"i'd\": \"i would\",\n",
        "                           \"i'd've\": \"i would have\", \"i'll\": \"i will\",  \"i'll've\": \"i will have\",\"i'm\": \"i am\", \"i've\": \"i have\", \"isn't\": \"is not\", \"it'd\": \"it would\",\n",
        "                           \"it'd've\": \"it would have\", \"it'll\": \"it will\", \"it'll've\": \"it will have\",\"it's\": \"it is\", \"let's\": \"let us\", \"ma'am\": \"madam\",\n",
        "                           \"mayn't\": \"may not\", \"might've\": \"might have\",\"mightn't\": \"might not\",\"mightn't've\": \"might not have\", \"must've\": \"must have\",\n",
        "                           \"mustn't\": \"must not\", \"mustn't've\": \"must not have\", \"needn't\": \"need not\", \"needn't've\": \"need not have\",\"o'clock\": \"of the clock\",\n",
        "                           \"oughtn't\": \"ought not\", \"oughtn't've\": \"ought not have\", \"shan't\": \"shall not\", \"sha'n't\": \"shall not\", \"shan't've\": \"shall not have\",\n",
        "                           \"she'd\": \"she would\", \"she'd've\": \"she would have\", \"she'll\": \"she will\", \"she'll've\": \"she will have\", \"she's\": \"she is\",\n",
        "                           \"should've\": \"should have\", \"shouldn't\": \"should not\", \"shouldn't've\": \"should not have\", \"so've\": \"so have\",\"so's\": \"so as\",\n",
        "                           \"this's\": \"this is\",\"that'd\": \"that would\", \"that'd've\": \"that would have\", \"that's\": \"that is\", \"there'd\": \"there would\",\n",
        "                           \"there'd've\": \"there would have\", \"there's\": \"there is\", \"here's\": \"here is\",\"they'd\": \"they would\", \"they'd've\": \"they would have\",\n",
        "                           \"they'll\": \"they will\", \"they'll've\": \"they will have\", \"they're\": \"they are\", \"they've\": \"they have\", \"to've\": \"to have\",\n",
        "                           \"wasn't\": \"was not\", \"we'd\": \"we would\", \"we'd've\": \"we would have\", \"we'll\": \"we will\", \"we'll've\": \"we will have\", \"we're\": \"we are\",\n",
        "                           \"we've\": \"we have\", \"weren't\": \"were not\", \"what'll\": \"what will\", \"what'll've\": \"what will have\", \"what're\": \"what are\",\n",
        "                           \"what's\": \"what is\", \"what've\": \"what have\", \"when's\": \"when is\", \"when've\": \"when have\", \"where'd\": \"where did\", \"where's\": \"where is\",\n",
        "                           \"where've\": \"where have\", \"who'll\": \"who will\", \"who'll've\": \"who will have\", \"who's\": \"who is\", \"who've\": \"who have\",\n",
        "                           \"why's\": \"why is\", \"why've\": \"why have\", \"will've\": \"will have\", \"won't\": \"will not\", \"won't've\": \"will not have\",\n",
        "                           \"would've\": \"would have\", \"wouldn't\": \"would not\", \"wouldn't've\": \"would not have\", \"y'all\": \"you all\",\n",
        "                           \"y'all'd\": \"you all would\",\"y'all'd've\": \"you all would have\",\"y'all're\": \"you all are\",\"y'all've\": \"you all have\",\n",
        "                           \"you'd\": \"you would\", \"you'd've\": \"you would have\", \"you'll\": \"you will\", \"you'll've\": \"you will have\",\n",
        "                           \"you're\": \"you are\", \"you've\": \"you have\"}\n",
        "\n",
        "print(\"정규화 사전의 수: \", len(contractions))"
      ],
      "metadata": {
        "colab": {
          "base_uri": "https://localhost:8080/"
        },
        "id": "TZxHecKbJpH4",
        "outputId": "2a5b47bd-e6a4-4b29-e157-7438a401f7ca"
      },
      "execution_count": 116,
      "outputs": [
        {
          "output_type": "stream",
          "name": "stdout",
          "text": [
            "정규화 사전의 수:  120\n"
          ]
        }
      ]
    },
    {
      "cell_type": "code",
      "source": [
        "print('불용어 개수 :', len(stopwords.words('english') ))\n",
        "print(stopwords.words('english'))"
      ],
      "metadata": {
        "colab": {
          "base_uri": "https://localhost:8080/"
        },
        "id": "h6Dx__ajKPR3",
        "outputId": "db7cfc3b-ddd4-4e9a-ac45-3ae3a40a917f"
      },
      "execution_count": 117,
      "outputs": [
        {
          "output_type": "stream",
          "name": "stdout",
          "text": [
            "불용어 개수 : 179\n",
            "['i', 'me', 'my', 'myself', 'we', 'our', 'ours', 'ourselves', 'you', \"you're\", \"you've\", \"you'll\", \"you'd\", 'your', 'yours', 'yourself', 'yourselves', 'he', 'him', 'his', 'himself', 'she', \"she's\", 'her', 'hers', 'herself', 'it', \"it's\", 'its', 'itself', 'they', 'them', 'their', 'theirs', 'themselves', 'what', 'which', 'who', 'whom', 'this', 'that', \"that'll\", 'these', 'those', 'am', 'is', 'are', 'was', 'were', 'be', 'been', 'being', 'have', 'has', 'had', 'having', 'do', 'does', 'did', 'doing', 'a', 'an', 'the', 'and', 'but', 'if', 'or', 'because', 'as', 'until', 'while', 'of', 'at', 'by', 'for', 'with', 'about', 'against', 'between', 'into', 'through', 'during', 'before', 'after', 'above', 'below', 'to', 'from', 'up', 'down', 'in', 'out', 'on', 'off', 'over', 'under', 'again', 'further', 'then', 'once', 'here', 'there', 'when', 'where', 'why', 'how', 'all', 'any', 'both', 'each', 'few', 'more', 'most', 'other', 'some', 'such', 'no', 'nor', 'not', 'only', 'own', 'same', 'so', 'than', 'too', 'very', 's', 't', 'can', 'will', 'just', 'don', \"don't\", 'should', \"should've\", 'now', 'd', 'll', 'm', 'o', 're', 've', 'y', 'ain', 'aren', \"aren't\", 'couldn', \"couldn't\", 'didn', \"didn't\", 'doesn', \"doesn't\", 'hadn', \"hadn't\", 'hasn', \"hasn't\", 'haven', \"haven't\", 'isn', \"isn't\", 'ma', 'mightn', \"mightn't\", 'mustn', \"mustn't\", 'needn', \"needn't\", 'shan', \"shan't\", 'shouldn', \"shouldn't\", 'wasn', \"wasn't\", 'weren', \"weren't\", 'won', \"won't\", 'wouldn', \"wouldn't\"]\n"
          ]
        }
      ]
    },
    {
      "cell_type": "code",
      "source": [
        "# text 전처리\n",
        "clean_text = []\n",
        "for s in tqdm(data['text']):\n",
        "    clean_text.append(preprocess_sentence(s))"
      ],
      "metadata": {
        "colab": {
          "base_uri": "https://localhost:8080/"
        },
        "id": "oAW2SdKUMBB9",
        "outputId": "63d10afa-39f7-4574-879c-3dc12a17fed1"
      },
      "execution_count": 170,
      "outputs": [
        {
          "output_type": "stream",
          "name": "stderr",
          "text": [
            "100%|██████████| 97528/97528 [07:58<00:00, 203.84it/s]\n"
          ]
        }
      ]
    },
    {
      "cell_type": "code",
      "source": [
        "# text 전처리 후 출력\n",
        "print(\"Text 전처리 후 결과: \", clean_text[:5])"
      ],
      "metadata": {
        "colab": {
          "base_uri": "https://localhost:8080/"
        },
        "id": "RHa9aq_BN4RB",
        "outputId": "6e9a9191-d474-40fe-c5b8-28b8ad80b2e2"
      },
      "execution_count": 171,
      "outputs": [
        {
          "output_type": "stream",
          "name": "stdout",
          "text": [
            "Text 전처리 후 결과:  ['saurav kant alumnus upgrad iiit pg program machine learning artificial intelligence sr systems engineer infosys almost years work experience program upgrad degree career support helped transition data scientist tech mahindra salary hike upgrad online power learning powered lakh careers', 'new zealand defeated india wickets fourth odi hamilton thursday win first match five match odi series india lost international match rohit sharma captaincy consecutive victories dating back march match witnessed india getting seventh lowest total odi cricket history', 'aegon life iterm insurance plan customers enjoy tax benefits premiums paid save taxes plan provides life cover age years also customers options insure critical illnesses disability accidental death benefit rider life cover age years', 'speaking sexual harassment allegations rajkumar hirani sonam kapoor said known hirani many years true metoo movement get derailed metoo movement always believe woman case need reserve judgment added hirani accused assistant worked sanju', 'pakistani singer rahat fateh ali khan denied receiving notice enforcement directorate allegedly smuggling foreign currency india would better authorities would served notice first publicised reads press release issued behalf rahat statement called allegation bizarre']\n"
          ]
        }
      ]
    },
    {
      "cell_type": "code",
      "source": [
        "# headlines 전처리 (불용어는 제거 하지않음)\n",
        "clean_summary = []\n",
        "for s in tqdm(data['headlines']):\n",
        "    clean_summary.append(preprocess_sentence(s, False))"
      ],
      "metadata": {
        "colab": {
          "base_uri": "https://localhost:8080/"
        },
        "id": "2r7RnAdcNzzW",
        "outputId": "37e0b46a-ea4e-4dd5-8b2a-13e587a6761e"
      },
      "execution_count": 172,
      "outputs": [
        {
          "output_type": "stream",
          "name": "stderr",
          "text": [
            "100%|██████████| 97528/97528 [00:23<00:00, 4170.96it/s]\n"
          ]
        }
      ]
    },
    {
      "cell_type": "code",
      "source": [
        "# headlines 전처리 후 출력\n",
        "print(\"Headlines 전처리 후 결과: \", clean_summary[:5])"
      ],
      "metadata": {
        "colab": {
          "base_uri": "https://localhost:8080/"
        },
        "id": "i1K3fQPFOIJM",
        "outputId": "b49840a6-7120-4195-de2f-2ac459ca63d6"
      },
      "execution_count": 173,
      "outputs": [
        {
          "output_type": "stream",
          "name": "stdout",
          "text": [
            "Headlines 전처리 후 결과:  ['upgrad learner switches to career in ml al with salary hike', 'new zealand end rohit sharma led india match winning streak', 'aegon life iterm insurance plan helps customers save tax', 'have known hirani for yrs what if metoo claims are not true sonam', 'rahat fateh ali khan denies getting notice for smuggling currency']\n"
          ]
        }
      ]
    },
    {
      "cell_type": "code",
      "source": [
        "# 다시 empty 샘플 찾아 없애기\n",
        "data['text'] = clean_text\n",
        "data['headlines'] = clean_summary\n",
        "\n",
        "# 빈 값을 Null 값으로 변환\n",
        "data.replace('', np.nan, inplace=True)"
      ],
      "metadata": {
        "id": "ndi-Ar28OiUQ"
      },
      "execution_count": 174,
      "outputs": []
    },
    {
      "cell_type": "code",
      "source": [
        "# 이전과 같이 .isnull().sum()을 사용해서 Null 값이 생겼는지 점검하기\n",
        "data.isnull().sum()"
      ],
      "metadata": {
        "colab": {
          "base_uri": "https://localhost:8080/"
        },
        "id": "WnB9k_vLPJUq",
        "outputId": "b2897706-6339-4ed7-fbad-650bd6261760"
      },
      "execution_count": 175,
      "outputs": [
        {
          "output_type": "execute_result",
          "data": {
            "text/plain": [
              "headlines         0\n",
              "text              0\n",
              "decoder_input     0\n",
              "decoder_target    0\n",
              "dtype: int64"
            ]
          },
          "metadata": {},
          "execution_count": 175
        }
      ]
    },
    {
      "cell_type": "markdown",
      "source": [
        "### ■ 훈련데이터와 테스트데이터 나누기"
      ],
      "metadata": {
        "id": "DPWmpaaiQH8g"
      }
    },
    {
      "cell_type": "code",
      "source": [
        "text_len = [len(s.split()) for s in data['text']]\n",
        "summary_len = [len(s.split()) for s in data['headlines']]\n",
        "\n",
        "print('텍스트의 최소 길이 : {}'.format(np.min(text_len)))\n",
        "print('텍스트의 최대 길이 : {}'.format(np.max(text_len)))\n",
        "print('텍스트의 평균 길이 : {}'.format(np.mean(text_len)))\n",
        "print('요약의 최소 길이 : {}'.format(np.min(summary_len)))\n",
        "print('요약의 최대 길이 : {}'.format(np.max(summary_len)))\n",
        "print('요약의 평균 길이 : {}'.format(np.mean(summary_len)))\n",
        "\n",
        "plt.subplot(1,2,1)\n",
        "plt.boxplot(text_len)\n",
        "plt.title('Text')\n",
        "plt.subplot(1,2,2)\n",
        "plt.boxplot(summary_len)\n",
        "plt.title('Summary')\n",
        "plt.tight_layout()\n",
        "plt.show()\n",
        "\n",
        "plt.title('Text')\n",
        "plt.hist(text_len, bins = 40)\n",
        "plt.xlabel('length of samples')\n",
        "plt.ylabel('number of samples')\n",
        "plt.show()\n",
        "\n",
        "plt.title('Summary')\n",
        "plt.hist(summary_len, bins = 40)\n",
        "plt.xlabel('length of samples')\n",
        "plt.ylabel('number of samples')\n",
        "plt.show()"
      ],
      "metadata": {
        "colab": {
          "base_uri": "https://localhost:8080/",
          "height": 960
        },
        "id": "cUoCJv_IQNGI",
        "outputId": "dbfba412-2405-4705-93f0-fd34773b8402"
      },
      "execution_count": 215,
      "outputs": [
        {
          "output_type": "stream",
          "name": "stdout",
          "text": [
            "텍스트의 최소 길이 : 1\n",
            "텍스트의 최대 길이 : 44\n",
            "텍스트의 평균 길이 : 35.02887375933065\n",
            "요약의 최소 길이 : 1\n",
            "요약의 최대 길이 : 13\n",
            "요약의 평균 길이 : 9.289506603231892\n"
          ]
        },
        {
          "output_type": "display_data",
          "data": {
            "text/plain": [
              "<Figure size 432x288 with 2 Axes>"
            ],
            "image/png": "[encoded data removed]"
          },
          "metadata": {
            "needs_background": "light"
          }
        },
        {
          "output_type": "display_data",
          "data": {
            "text/plain": [
              "<Figure size 432x288 with 1 Axes>"
            ],
            "image/png": "[encoded data removed]"
          },
          "metadata": {
            "needs_background": "light"
          }
        },
        {
          "output_type": "display_data",
          "data": {
            "text/plain": [
              "<Figure size 432x288 with 1 Axes>"
            ],
            "image/png": "[encoded data removed]"
          },
          "metadata": {
            "needs_background": "light"
          }
        }
      ]
    },
    {
      "cell_type": "code",
      "source": [
        "# 상기 그래프를 토대로 Text의 최대 길이와 Summary의 적절한 최대 길이를 임의로 정하기\n",
        "text_max_len = 37\n",
        "summary_max_len = 11"
      ],
      "metadata": {
        "id": "qD6vQNf0RThd"
      },
      "execution_count": 224,
      "outputs": []
    },
    {
      "cell_type": "code",
      "source": [
        "# 비율 확인하기\n",
        "below_threshold_len(text_max_len, data['text'])\n",
        "below_threshold_len(summary_max_len,  data['headlines'])"
      ],
      "metadata": {
        "colab": {
          "base_uri": "https://localhost:8080/"
        },
        "id": "kVrgd38hSgvK",
        "outputId": "379553ab-596f-4ee9-c951-1717c39f1351"
      },
      "execution_count": 225,
      "outputs": [
        {
          "output_type": "stream",
          "name": "stdout",
          "text": [
            "전체 샘플 중 길이가 37 이하인 샘플의 비율: 0.74258674431958\n",
            "전체 샘플 중 길이가 11 이하인 샘플의 비율: 0.9467742596997786\n"
          ]
        }
      ]
    },
    {
      "cell_type": "code",
      "source": [
        "# 정해진 길이보다 길면 제외하기\n",
        "data = data[data['text'].apply(lambda x: len(x.split()) <= text_max_len)]\n",
        "data = data[data['headlines'].apply(lambda x: len(x.split()) <= summary_max_len)]\n",
        "print('전체 샘플수 :', (len(data)))"
      ],
      "metadata": {
        "colab": {
          "base_uri": "https://localhost:8080/"
        },
        "id": "Di14x-oXSs7S",
        "outputId": "0ee4b4b1-292d-44f2-e1e1-a6efbedcaeb9"
      },
      "execution_count": 226,
      "outputs": [
        {
          "output_type": "stream",
          "name": "stdout",
          "text": [
            "전체 샘플수 : 68388\n"
          ]
        }
      ]
    },
    {
      "cell_type": "code",
      "source": [
        "# 요약 데이터에는 시작 토큰과 종료 토큰을 추가\n",
        "data['decoder_input'] = data['headlines'].apply(lambda x : 'sostoken '+ x)\n",
        "data['decoder_target'] = data['headlines'].apply(lambda x : x + ' eostoken')\n",
        "data.head()"
      ],
      "metadata": {
        "colab": {
          "base_uri": "https://localhost:8080/",
          "height": 206
        },
        "id": "Vj1VY8NuS5Rk",
        "outputId": "ea41e3d5-04b0-416c-fccb-c6b504ff81f6"
      },
      "execution_count": 227,
      "outputs": [
        {
          "output_type": "execute_result",
          "data": {
            "text/plain": [
              "                                           headlines  \\\n",
              "3  aegon life iterm insurance plan helps customer...   \n",
              "5  rahat fateh ali khan denies getting notice for...   \n",
              "7  govt directs alok verma to join work day befor...   \n",
              "8  called pm modi sir times to satisfy his ego an...   \n",
              "9  cong wins ramgarh bypoll in rajasthan takes to...   \n",
              "\n",
              "                                                text  \\\n",
              "3  aegon life iterm insurance plan customers enjo...   \n",
              "5  pakistani singer rahat fateh ali khan denied r...   \n",
              "7  weeks ex cbi director alok verma told departme...   \n",
              "8  andhra pradesh cm chandrababu naidu said met u...   \n",
              "9  congress candidate shafia zubair ramgarh assem...   \n",
              "\n",
              "                                       decoder_input  \\\n",
              "3  sostoken aegon life iterm insurance plan helps...   \n",
              "5  sostoken rahat fateh ali khan denies getting n...   \n",
              "7  sostoken govt directs alok verma to join work ...   \n",
              "8  sostoken called pm modi sir times to satisfy h...   \n",
              "9  sostoken cong wins ramgarh bypoll in rajasthan...   \n",
              "\n",
              "                                      decoder_target  \n",
              "3  aegon life iterm insurance plan helps customer...  \n",
              "5  rahat fateh ali khan denies getting notice for...  \n",
              "7  govt directs alok verma to join work day befor...  \n",
              "8  called pm modi sir times to satisfy his ego an...  \n",
              "9  cong wins ramgarh bypoll in rajasthan takes to...  "
            ],
            "text/html": [
              "\n",
              "  <div id=\"df-3c87458b-e038-43a3-ab53-770c9ff78196\">\n",
              "    <div class=\"colab-df-container\">\n",
              "      <div>\n",
              "<style scoped>\n",
              "    .dataframe tbody tr th:only-of-type {\n",
              "        vertical-align: middle;\n",
              "    }\n",
              "\n",
              "    .dataframe tbody tr th {\n",
              "        vertical-align: top;\n",
              "    }\n",
              "\n",
              "    .dataframe thead th {\n",
              "        text-align: right;\n",
              "    }\n",
              "</style>\n",
              "<table border=\"1\" class=\"dataframe\">\n",
              "  <thead>\n",
              "    <tr style=\"text-align: right;\">\n",
              "      <th></th>\n",
              "      <th>headlines</th>\n",
              "      <th>text</th>\n",
              "      <th>decoder_input</th>\n",
              "      <th>decoder_target</th>\n",
              "    </tr>\n",
              "  </thead>\n",
              "  <tbody>\n",
              "    <tr>\n",
              "      <th>3</th>\n",
              "      <td>aegon life iterm insurance plan helps customer...</td>\n",
              "      <td>aegon life iterm insurance plan customers enjo...</td>\n",
              "      <td>sostoken aegon life iterm insurance plan helps...</td>\n",
              "      <td>aegon life iterm insurance plan helps customer...</td>\n",
              "    </tr>\n",
              "    <tr>\n",
              "      <th>5</th>\n",
              "      <td>rahat fateh ali khan denies getting notice for...</td>\n",
              "      <td>pakistani singer rahat fateh ali khan denied r...</td>\n",
              "      <td>sostoken rahat fateh ali khan denies getting n...</td>\n",
              "      <td>rahat fateh ali khan denies getting notice for...</td>\n",
              "    </tr>\n",
              "    <tr>\n",
              "      <th>7</th>\n",
              "      <td>govt directs alok verma to join work day befor...</td>\n",
              "      <td>weeks ex cbi director alok verma told departme...</td>\n",
              "      <td>sostoken govt directs alok verma to join work ...</td>\n",
              "      <td>govt directs alok verma to join work day befor...</td>\n",
              "    </tr>\n",
              "    <tr>\n",
              "      <th>8</th>\n",
              "      <td>called pm modi sir times to satisfy his ego an...</td>\n",
              "      <td>andhra pradesh cm chandrababu naidu said met u...</td>\n",
              "      <td>sostoken called pm modi sir times to satisfy h...</td>\n",
              "      <td>called pm modi sir times to satisfy his ego an...</td>\n",
              "    </tr>\n",
              "    <tr>\n",
              "      <th>9</th>\n",
              "      <td>cong wins ramgarh bypoll in rajasthan takes to...</td>\n",
              "      <td>congress candidate shafia zubair ramgarh assem...</td>\n",
              "      <td>sostoken cong wins ramgarh bypoll in rajasthan...</td>\n",
              "      <td>cong wins ramgarh bypoll in rajasthan takes to...</td>\n",
              "    </tr>\n",
              "  </tbody>\n",
              "</table>\n",
              "</div>\n",
              "      <button class=\"colab-df-convert\" onclick=\"convertToInteractive('df-3c87458b-e038-43a3-ab53-770c9ff78196')\"\n",
              "              title=\"Convert this dataframe to an interactive table.\"\n",
              "              style=\"display:none;\">\n",
              "        \n",
              "  <svg xmlns=\"http://www.w3.org/2000/svg\" height=\"24px\"viewBox=\"0 0 24 24\"\n",
              "       width=\"24px\">\n",
              "    <path d=\"M0 0h24v24H0V0z\" fill=\"none\"/>\n",
              "    <path d=\"M18.56 5.44l.94 2.06.94-2.06 2.06-.94-2.06-.94-.94-2.06-.94 2.06-2.06.94zm-11 1L8.5 8.5l.94-2.06 2.06-.94-2.06-.94L8.5 2.5l-.94 2.06-2.06.94zm10 10l.94 2.06.94-2.06 2.06-.94-2.06-.94-.94-2.06-.94 2.06-2.06.94z\"/><path d=\"M17.41 7.96l-1.37-1.37c-.4-.4-.92-.59-1.43-.59-.52 0-1.04.2-1.43.59L10.3 9.45l-7.72 7.72c-.78.78-.78 2.05 0 2.83L4 21.41c.39.39.9.59 1.41.59.51 0 1.02-.2 1.41-.59l7.78-7.78 2.81-2.81c.8-.78.8-2.07 0-2.86zM5.41 20L4 18.59l7.72-7.72 1.47 1.35L5.41 20z\"/>\n",
              "  </svg>\n",
              "      </button>\n",
              "      \n",
              "  <style>\n",
              "    .colab-df-container {\n",
              "      display:flex;\n",
              "      flex-wrap:wrap;\n",
              "      gap: 12px;\n",
              "    }\n",
              "\n",
              "    .colab-df-convert {\n",
              "      background-color: #E8F0FE;\n",
              "      border: none;\n",
              "      border-radius: 50%;\n",
              "      cursor: pointer;\n",
              "      display: none;\n",
              "      fill: #1967D2;\n",
              "      height: 32px;\n",
              "      padding: 0 0 0 0;\n",
              "      width: 32px;\n",
              "    }\n",
              "\n",
              "    .colab-df-convert:hover {\n",
              "      background-color: #E2EBFA;\n",
              "      box-shadow: 0px 1px 2px rgba(60, 64, 67, 0.3), 0px 1px 3px 1px rgba(60, 64, 67, 0.15);\n",
              "      fill: #174EA6;\n",
              "    }\n",
              "\n",
              "    [theme=dark] .colab-df-convert {\n",
              "      background-color: #3B4455;\n",
              "      fill: #D2E3FC;\n",
              "    }\n",
              "\n",
              "    [theme=dark] .colab-df-convert:hover {\n",
              "      background-color: #434B5C;\n",
              "      box-shadow: 0px 1px 3px 1px rgba(0, 0, 0, 0.15);\n",
              "      filter: drop-shadow(0px 1px 2px rgba(0, 0, 0, 0.3));\n",
              "      fill: #FFFFFF;\n",
              "    }\n",
              "  </style>\n",
              "\n",
              "      <script>\n",
              "        const buttonEl =\n",
              "          document.querySelector('#df-3c87458b-e038-43a3-ab53-770c9ff78196 button.colab-df-convert');\n",
              "        buttonEl.style.display =\n",
              "          google.colab.kernel.accessAllowed ? 'block' : 'none';\n",
              "\n",
              "        async function convertToInteractive(key) {\n",
              "          const element = document.querySelector('#df-3c87458b-e038-43a3-ab53-770c9ff78196');\n",
              "          const dataTable =\n",
              "            await google.colab.kernel.invokeFunction('convertToInteractive',\n",
              "                                                     [key], {});\n",
              "          if (!dataTable) return;\n",
              "\n",
              "          const docLinkHtml = 'Like what you see? Visit the ' +\n",
              "            '<a target=\"_blank\" href=https://colab.research.google.com/notebooks/data_table.ipynb>data table notebook</a>'\n",
              "            + ' to learn more about interactive tables.';\n",
              "          element.innerHTML = '';\n",
              "          dataTable['output_type'] = 'display_data';\n",
              "          await google.colab.output.renderOutput(dataTable, element);\n",
              "          const docLink = document.createElement('div');\n",
              "          docLink.innerHTML = docLinkHtml;\n",
              "          element.appendChild(docLink);\n",
              "        }\n",
              "      </script>\n",
              "    </div>\n",
              "  </div>\n",
              "  "
            ]
          },
          "metadata": {},
          "execution_count": 227
        }
      ]
    },
    {
      "cell_type": "code",
      "source": [
        "# 인코더의 입력, 디코더의 입력과 레이블을 각각 다시 Numpy 타입으로 저장하기\n",
        "encoder_input = np.array(data['text']) # 인코더의 입력\n",
        "decoder_input = np.array(data['decoder_input']) # 디코더의 입력\n",
        "decoder_target = np.array(data['decoder_target']) # 디코더의 레이블"
      ],
      "metadata": {
        "id": "koaPTlFDTMc2"
      },
      "execution_count": 228,
      "outputs": []
    },
    {
      "cell_type": "code",
      "source": [
        "# encoder_input과 크기와 형태가 같은 순서가 섞인 정수 시퀀스를 만들기\n",
        "indices = np.arange(encoder_input.shape[0])\n",
        "np.random.shuffle(indices)\n",
        "print(indices)"
      ],
      "metadata": {
        "colab": {
          "base_uri": "https://localhost:8080/"
        },
        "id": "jvc3uq20TdSP",
        "outputId": "a0f46904-e3f6-438d-f0ec-769bf13c29c1"
      },
      "execution_count": 229,
      "outputs": [
        {
          "output_type": "stream",
          "name": "stdout",
          "text": [
            "[28942 15165 18662 ... 50468 44530 36314]\n"
          ]
        }
      ]
    },
    {
      "cell_type": "code",
      "source": [
        "# 상기 정수 시퀀스를 이용해 다시 데이터의 샘플 순서를 정의해 섞인 샘플 만들기\n",
        "encoder_input = encoder_input[indices]\n",
        "decoder_input = decoder_input[indices]\n",
        "decoder_target = decoder_target[indices]"
      ],
      "metadata": {
        "id": "WJcelHY3Tn5t"
      },
      "execution_count": 230,
      "outputs": []
    },
    {
      "cell_type": "code",
      "source": [
        "# 섞인 데이터를 8:2의 비율로 훈련 데이터와 테스트 데이터로 분리하기\n",
        "n_of_val = int(len(encoder_input)*0.2)\n",
        "print('테스트 데이터의 수 :', n_of_val)"
      ],
      "metadata": {
        "colab": {
          "base_uri": "https://localhost:8080/"
        },
        "id": "qfPY4MsOTzjN",
        "outputId": "3c0be45f-cd29-457b-ca72-ae05c703402a"
      },
      "execution_count": 231,
      "outputs": [
        {
          "output_type": "stream",
          "name": "stdout",
          "text": [
            "테스트 데이터의 수 : 13677\n"
          ]
        }
      ]
    },
    {
      "cell_type": "code",
      "source": [
        "# 상기 정의한 테스트 데이터의 개수를 이용해 전체 데이터를 양분하기\n",
        "encoder_input_train = encoder_input[:-n_of_val]\n",
        "decoder_input_train = decoder_input[:-n_of_val]\n",
        "decoder_target_train = decoder_target[:-n_of_val]\n",
        "\n",
        "encoder_input_test = encoder_input[-n_of_val:]\n",
        "decoder_input_test = decoder_input[-n_of_val:]\n",
        "decoder_target_test = decoder_target[-n_of_val:]\n",
        "\n",
        "print('훈련 데이터의 개수 :', len(encoder_input_train))\n",
        "print('훈련 레이블의 개수 :', len(decoder_input_train))\n",
        "print('테스트 데이터의 개수 :', len(encoder_input_test))\n",
        "print('테스트 레이블의 개수 :', len(decoder_input_test))"
      ],
      "metadata": {
        "colab": {
          "base_uri": "https://localhost:8080/"
        },
        "id": "m6eDD_omT_J1",
        "outputId": "656c0679-acbc-4546-cf64-09c609f14326"
      },
      "execution_count": 232,
      "outputs": [
        {
          "output_type": "stream",
          "name": "stdout",
          "text": [
            "훈련 데이터의 개수 : 54711\n",
            "훈련 레이블의 개수 : 54711\n",
            "테스트 데이터의 개수 : 13677\n",
            "테스트 레이블의 개수 : 13677\n"
          ]
        }
      ]
    },
    {
      "cell_type": "markdown",
      "source": [
        "### ■ 정수 인코딩"
      ],
      "metadata": {
        "id": "yrU017uiUU5Y"
      }
    },
    {
      "cell_type": "code",
      "source": [
        "# Keras의 토크나이저 이용\n",
        "src_tokenizer = Tokenizer() # 토크나이저 정의\n",
        "src_tokenizer.fit_on_texts(encoder_input_train) # 입력된 데이터로부터 단어 집합 생성"
      ],
      "metadata": {
        "id": "vD1RxZ5IUYBd"
      },
      "execution_count": 233,
      "outputs": []
    },
    {
      "cell_type": "code",
      "source": [
        "# 등장 빈도수가 30회 미만인 단어들이 이 데이터에서 비중 확인\n",
        "threshold = 30\n",
        "total_cnt = len(src_tokenizer.word_index) # 단어의 수\n",
        "rare_cnt = 0 # 등장 빈도수가 threshold보다 작은 단어의 개수를 카운트\n",
        "total_freq = 0 # 훈련 데이터의 전체 단어 빈도수 총 합\n",
        "rare_freq = 0 # 등장 빈도수가 threshold보다 작은 단어의 등장 빈도수의 총 합\n",
        "\n",
        "# 단어와 빈도수의 쌍(pair)을 key와 value로 받는다\n",
        "for key, value in src_tokenizer.word_counts.items():\n",
        "    total_freq = total_freq + value\n",
        "\n",
        "    # 단어의 등장 빈도수가 threshold보다 작으면\n",
        "    if(value < threshold):\n",
        "        rare_cnt = rare_cnt + 1\n",
        "        rare_freq = rare_freq + value\n",
        "\n",
        "print('단어 집합(vocabulary)의 크기 :', total_cnt)\n",
        "print('등장 빈도가 %s번 이하인 희귀 단어의 수: %s'%(threshold - 1, rare_cnt))\n",
        "print('단어 집합에서 희귀 단어를 제외시킬 경우의 단어 집합의 크기 %s'%(total_cnt - rare_cnt))\n",
        "print(\"단어 집합에서 희귀 단어의 비율:\", (rare_cnt / total_cnt)*100)\n",
        "print(\"전체 등장 빈도에서 희귀 단어 등장 빈도 비율:\", (rare_freq / total_freq)*100)"
      ],
      "metadata": {
        "colab": {
          "base_uri": "https://localhost:8080/"
        },
        "id": "Ar0Sk033U-EV",
        "outputId": "28c46877-e151-4569-ca1a-46112b5bc187"
      },
      "execution_count": 234,
      "outputs": [
        {
          "output_type": "stream",
          "name": "stdout",
          "text": [
            "단어 집합(vocabulary)의 크기 : 56915\n",
            "등장 빈도가 29번 이하인 희귀 단어의 수: 49293\n",
            "단어 집합에서 희귀 단어를 제외시킬 경우의 단어 집합의 크기 7622\n",
            "단어 집합에서 희귀 단어의 비율: 86.6080997979443\n",
            "전체 등장 빈도에서 희귀 단어 등장 빈도 비율: 12.257250449609574\n"
          ]
        }
      ]
    },
    {
      "cell_type": "code",
      "source": [
        "# 희귀 단어를 제외한 단어 집합의 크기를 어림잡아 7,000으로 제한해보기\n",
        "src_vocab = 7000\n",
        "src_tokenizer = Tokenizer(num_words=src_vocab) # 단어 집합의 크기를 18,000으로 제한\n",
        "src_tokenizer.fit_on_texts(encoder_input_train) # 단어 집합 재생성"
      ],
      "metadata": {
        "id": "5r5_GF7XWDTm"
      },
      "execution_count": 235,
      "outputs": []
    },
    {
      "cell_type": "code",
      "source": [
        "# 텍스트 시퀀스를 정수 시퀀스로 변환\n",
        "# 변환 전, 샘플 출력\n",
        "print(\"before: \\n\", encoder_input_train[:3])\n",
        "\n",
        "encoder_input_train = src_tokenizer.texts_to_sequences(encoder_input_train) \n",
        "encoder_input_test = src_tokenizer.texts_to_sequences(encoder_input_test)"
      ],
      "metadata": {
        "colab": {
          "base_uri": "https://localhost:8080/"
        },
        "id": "pHBTP3DzWMt9",
        "outputId": "d8120466-4f43-4f34-d421-f650d555d928"
      },
      "execution_count": 236,
      "outputs": [
        {
          "output_type": "stream",
          "name": "stdout",
          "text": [
            "before: \n",
            " ['uber ola drivers go strike across cities including mumbai gurugram nation capital delhi march drivers plan protest front ola uber offices demanding companies ensure business worth lakh per month also seek fares decided according vehicles'\n",
            " 'graham prior coach south africa squash team died collapsing road due heart attack team world junior squash championship play match singapore chennai year old way along players board team bus heading back hotel collapsed'\n",
            " 'delhi high court monday stayed cutting trees redevelopment seven colonies south delhi till next date hearing july court asked state owned company overseeing project capital afford cut trees stay comes amid widespread protests delhi residents']\n"
          ]
        }
      ]
    },
    {
      "cell_type": "code",
      "source": [
        "# 변환 후, 잘 진행되었는지 샘플 출력\n",
        "print(\"after: \\n\", encoder_input_train[:3])"
      ],
      "metadata": {
        "colab": {
          "base_uri": "https://localhost:8080/"
        },
        "id": "cjJGbq-WWTO2",
        "outputId": "7910a04b-1783-4d61-92b8-ab93f619dc65"
      },
      "execution_count": 237,
      "outputs": [
        {
          "output_type": "stream",
          "name": "stdout",
          "text": [
            "after: \n",
            " [[552, 2404, 1591, 269, 963, 263, 1515, 106, 74, 1127, 548, 348, 25, 312, 1591, 749, 601, 804, 2404, 552, 2372, 1075, 376, 699, 372, 214, 45, 117, 124, 7, 2346, 5319, 416, 42, 665], [3018, 617, 197, 697, 47, 198, 484, 105, 929, 185, 47, 23, 2951, 2052, 277, 104, 1468, 969, 3, 13, 246, 301, 498, 155, 47, 635, 5320, 173, 595, 1620], [25, 92, 16, 55, 2850, 3138, 2373, 302, 197, 25, 549, 176, 742, 736, 406, 16, 61, 19, 866, 35, 449, 348, 4738, 652, 2373, 975, 68, 475, 5256, 808, 25, 1163]]\n"
          ]
        }
      ]
    },
    {
      "cell_type": "code",
      "source": [
        "# headlines 데이터에 대해서도 동일한 작업을 수행\n",
        "tar_tokenizer = Tokenizer()\n",
        "tar_tokenizer.fit_on_texts(decoder_input_train)"
      ],
      "metadata": {
        "id": "7u6wg29HWc_q"
      },
      "execution_count": 238,
      "outputs": []
    },
    {
      "cell_type": "code",
      "source": [
        "# headlines 데이터의 등장 빈도수가 40회 미만인 단어들이 이 데이터의 비중 확인\n",
        "threshold = 40\n",
        "total_cnt = len(tar_tokenizer.word_index) # 단어의 수\n",
        "rare_cnt = 0 # 등장 빈도수가 threshold보다 작은 단어의 개수를 카운트\n",
        "total_freq = 0 # 훈련 데이터의 전체 단어 빈도수 총 합\n",
        "rare_freq = 0 # 등장 빈도수가 threshold보다 작은 단어의 등장 빈도수의 총 합\n",
        "\n",
        "# 단어와 빈도수의 쌍(pair)을 key와 value로 받는다.\n",
        "for key, value in tar_tokenizer.word_counts.items():\n",
        "    total_freq = total_freq + value\n",
        "\n",
        "    # 단어의 등장 빈도수가 threshold보다 작으면\n",
        "    if(value < threshold):\n",
        "        rare_cnt = rare_cnt + 1\n",
        "        rare_freq = rare_freq + value\n",
        "\n",
        "print('단어 집합(vocabulary)의 크기 :', total_cnt)\n",
        "print('등장 빈도가 %s번 이하인 희귀 단어의 수: %s'%(threshold - 1, rare_cnt))\n",
        "print('단어 집합에서 희귀 단어를 제외시킬 경우의 단어 집합의 크기 %s'%(total_cnt - rare_cnt))\n",
        "print(\"단어 집합에서 희귀 단어의 비율:\", (rare_cnt / total_cnt)*100)\n",
        "print(\"전체 등장 빈도에서 희귀 단어 등장 빈도 비율:\", (rare_freq / total_freq)*100)"
      ],
      "metadata": {
        "colab": {
          "base_uri": "https://localhost:8080/"
        },
        "id": "cYF4mUWIWkeq",
        "outputId": "96567285-8736-42d8-a88a-1bb88df98af5"
      },
      "execution_count": 247,
      "outputs": [
        {
          "output_type": "stream",
          "name": "stdout",
          "text": [
            "단어 집합(vocabulary)의 크기 : 25961\n",
            "등장 빈도가 39번 이하인 희귀 단어의 수: 23885\n",
            "단어 집합에서 희귀 단어를 제외시킬 경우의 단어 집합의 크기 2076\n",
            "단어 집합에서 희귀 단어의 비율: 92.00338969993452\n",
            "전체 등장 빈도에서 희귀 단어 등장 빈도 비율: 23.28993873491388\n"
          ]
        }
      ]
    },
    {
      "cell_type": "code",
      "source": [
        "# text데이터에서처럼, headlines데이터에서도 이 희귀단어들을 2,000으로 크기 제한\n",
        "tar_vocab = 2000\n",
        "tar_tokenizer = Tokenizer(num_words=tar_vocab) \n",
        "tar_tokenizer.fit_on_texts(decoder_input_train)\n",
        "tar_tokenizer.fit_on_texts(decoder_target_train)\n",
        "\n",
        "# 텍스트 시퀀스를 정수 시퀀스로 변환\n",
        "decoder_input_train = tar_tokenizer.texts_to_sequences(decoder_input_train) \n",
        "decoder_target_train = tar_tokenizer.texts_to_sequences(decoder_target_train)\n",
        "decoder_input_test = tar_tokenizer.texts_to_sequences(decoder_input_test)\n",
        "decoder_target_test = tar_tokenizer.texts_to_sequences(decoder_target_test)\n",
        "\n",
        "# 잘 변환되었는지 확인\n",
        "print('input')\n",
        "print('input ',decoder_input_train[:5])\n",
        "print('target')\n",
        "print('decoder ',decoder_target_train[:5])"
      ],
      "metadata": {
        "colab": {
          "base_uri": "https://localhost:8080/"
        },
        "id": "nMrZ2EQrXYZS",
        "outputId": "b573acf5-949c-4f06-d36e-07a4240f7b64"
      },
      "execution_count": 248,
      "outputs": [
        {
          "output_type": "stream",
          "name": "stdout",
          "text": [
            "input\n",
            "input  [[1, 1214, 229, 3, 331, 7, 484, 7, 681], [1, 1312, 375, 158, 9, 7, 500, 4, 1289], [1, 310, 122, 6, 1698, 4, 25, 692], [1, 130, 80, 111, 311, 47, 720, 14], [1, 126, 76, 7, 327, 827, 1398, 7, 255, 1102]]\n",
            "target\n",
            "decoder  [[1214, 229, 3, 331, 7, 484, 7, 681, 2], [1312, 375, 158, 9, 7, 500, 4, 1289, 2], [310, 122, 6, 1698, 4, 25, 692, 2], [130, 80, 111, 311, 47, 720, 14, 2], [126, 76, 7, 327, 827, 1398, 7, 255, 1102, 2]]\n"
          ]
        }
      ]
    },
    {
      "cell_type": "markdown",
      "source": [
        "### ■ 패딩하기"
      ],
      "metadata": {
        "id": "RsCshbC-Xpgn"
      }
    },
    {
      "cell_type": "code",
      "source": [
        "# 패딩 하기전, 빈(empty)샘플 점검\n",
        "drop_train = [index for index, sentence in enumerate(decoder_input_train) if len(sentence) == 1]\n",
        "drop_test = [index for index, sentence in enumerate(decoder_input_test) if len(sentence) == 1]\n",
        "\n",
        "print('삭제할 훈련 데이터의 개수 :', len(drop_train))\n",
        "print('삭제할 테스트 데이터의 개수 :', len(drop_test))\n",
        "\n",
        "encoder_input_train = [sentence for index, sentence in enumerate(encoder_input_train) if index not in drop_train]\n",
        "decoder_input_train = [sentence for index, sentence in enumerate(decoder_input_train) if index not in drop_train]\n",
        "decoder_target_train = [sentence for index, sentence in enumerate(decoder_target_train) if index not in drop_train]\n",
        "\n",
        "encoder_input_test = [sentence for index, sentence in enumerate(encoder_input_test) if index not in drop_test]\n",
        "decoder_input_test = [sentence for index, sentence in enumerate(decoder_input_test) if index not in drop_test]\n",
        "decoder_target_test = [sentence for index, sentence in enumerate(decoder_target_test) if index not in drop_test]\n",
        "\n",
        "print('훈련 데이터의 개수 :', len(encoder_input_train))\n",
        "print('훈련 레이블의 개수 :', len(decoder_input_train))\n",
        "print('테스트 데이터의 개수 :', len(encoder_input_test))\n",
        "print('테스트 레이블의 개수 :', len(decoder_input_test))\n"
      ],
      "metadata": {
        "colab": {
          "base_uri": "https://localhost:8080/"
        },
        "id": "miuzFBYNXsV6",
        "outputId": "20f31c11-7e72-4754-c832-e75396b0970f"
      },
      "execution_count": 249,
      "outputs": [
        {
          "output_type": "stream",
          "name": "stdout",
          "text": [
            "삭제할 훈련 데이터의 개수 : 9\n",
            "삭제할 테스트 데이터의 개수 : 1\n",
            "훈련 데이터의 개수 : 54702\n",
            "훈련 레이블의 개수 : 54702\n",
            "테스트 데이터의 개수 : 13676\n",
            "테스트 레이블의 개수 : 13676\n"
          ]
        }
      ]
    },
    {
      "cell_type": "code",
      "source": [
        "# 패딩하기\n",
        "encoder_input_train = pad_sequences(encoder_input_train, maxlen=text_max_len, padding='post')\n",
        "encoder_input_test = pad_sequences(encoder_input_test, maxlen=text_max_len, padding='post')\n",
        "decoder_input_train = pad_sequences(decoder_input_train, maxlen=summary_max_len, padding='post')\n",
        "decoder_target_train = pad_sequences(decoder_target_train, maxlen=summary_max_len, padding='post')\n",
        "decoder_input_test = pad_sequences(decoder_input_test, maxlen=summary_max_len, padding='post')\n",
        "decoder_target_test = pad_sequences(decoder_target_test, maxlen=summary_max_len, padding='post')"
      ],
      "metadata": {
        "id": "aGfuOZprYMt2"
      },
      "execution_count": 250,
      "outputs": []
    },
    {
      "cell_type": "markdown",
      "source": [
        "## 3-2. 기본 seq2seq 모델 설계"
      ],
      "metadata": {
        "id": "8RRBWjm4YWPA"
      }
    },
    {
      "cell_type": "markdown",
      "source": [
        "### ■ 인코더 설계하기 (함수형API 이용)"
      ],
      "metadata": {
        "id": "jr_vg4ePYdDG"
      }
    },
    {
      "cell_type": "code",
      "source": [
        "# 인코더 설계 시작\n",
        "embedding_dim = 128\n",
        "hidden_size = 256\n",
        "\n",
        "# 인코더의 입력\n",
        "encoder_inputs = Input(shape=(text_max_len,))\n",
        "\n",
        "# 인코더의 임베딩 층\n",
        "enc_emb = Embedding(src_vocab, embedding_dim)(encoder_inputs)\n",
        "\n",
        "# 인코더의 LSTM 1\n",
        "encoder_lstm1 = LSTM(hidden_size, return_sequences=True, return_state=True ,dropout = 0.4)\n",
        "encoder_output1, state_h1, state_c1 = encoder_lstm1(enc_emb)\n",
        "\n",
        "# 인코더의 LSTM 2\n",
        "encoder_lstm2 = LSTM(hidden_size, return_sequences=True, return_state=True, dropout=0.4)\n",
        "encoder_output2, state_h2, state_c2 = encoder_lstm2(encoder_output1)\n",
        "\n",
        "# 인코더의 LSTM 3\n",
        "encoder_lstm3 = LSTM(hidden_size, return_state=True, return_sequences=True, dropout=0.4)\n",
        "encoder_outputs, state_h, state_c= encoder_lstm3(encoder_output2)"
      ],
      "metadata": {
        "id": "eW3GCSFzYkwE"
      },
      "execution_count": 251,
      "outputs": []
    },
    {
      "cell_type": "markdown",
      "source": [
        "### ■ 디코더 설계하기"
      ],
      "metadata": {
        "id": "OOCorMOiZGtg"
      }
    },
    {
      "cell_type": "code",
      "source": [
        "# 디코더 설계\n",
        "decoder_inputs = Input(shape=(None,))\n",
        "\n",
        "# 디코더의 임베딩 층\n",
        "dec_emb_layer = Embedding(tar_vocab, embedding_dim)\n",
        "dec_emb = dec_emb_layer(decoder_inputs)\n",
        "\n",
        "# 디코더의 LSTM\n",
        "decoder_lstm = LSTM(hidden_size, return_sequences=True, return_state=True, dropout=0.4)\n",
        "decoder_outputs, _, _ = decoder_lstm(dec_emb, initial_state=[state_h, state_c])"
      ],
      "metadata": {
        "id": "lML4Al1IZOIW"
      },
      "execution_count": 252,
      "outputs": []
    },
    {
      "cell_type": "markdown",
      "source": [
        "### ■ 디코더 출력층 설계하기"
      ],
      "metadata": {
        "id": "F4mW9VoFZYiX"
      }
    },
    {
      "cell_type": "code",
      "source": [
        "# 디코더의 출력층\n",
        "decoder_softmax_layer = Dense(tar_vocab, activation='softmax')\n",
        "decoder_softmax_outputs = decoder_softmax_layer(decoder_outputs) \n",
        "\n",
        "# 모델 정의\n",
        "model = Model([encoder_inputs, decoder_inputs], decoder_softmax_outputs)\n",
        "model.summary()"
      ],
      "metadata": {
        "colab": {
          "base_uri": "https://localhost:8080/"
        },
        "id": "w5hcxtyqZXSv",
        "outputId": "eac3c497-6d5c-4179-a5d1-93b9ae876197"
      },
      "execution_count": 253,
      "outputs": [
        {
          "output_type": "stream",
          "name": "stdout",
          "text": [
            "Model: \"model_4\"\n",
            "__________________________________________________________________________________________________\n",
            " Layer (type)                   Output Shape         Param #     Connected to                     \n",
            "==================================================================================================\n",
            " input_5 (InputLayer)           [(None, 37)]         0           []                               \n",
            "                                                                                                  \n",
            " embedding_4 (Embedding)        (None, 37, 128)      896000      ['input_5[0][0]']                \n",
            "                                                                                                  \n",
            " lstm_8 (LSTM)                  [(None, 37, 256),    394240      ['embedding_4[0][0]']            \n",
            "                                 (None, 256),                                                     \n",
            "                                 (None, 256)]                                                     \n",
            "                                                                                                  \n",
            " input_6 (InputLayer)           [(None, None)]       0           []                               \n",
            "                                                                                                  \n",
            " lstm_9 (LSTM)                  [(None, 37, 256),    525312      ['lstm_8[0][0]']                 \n",
            "                                 (None, 256),                                                     \n",
            "                                 (None, 256)]                                                     \n",
            "                                                                                                  \n",
            " embedding_5 (Embedding)        (None, None, 128)    256000      ['input_6[0][0]']                \n",
            "                                                                                                  \n",
            " lstm_10 (LSTM)                 [(None, 37, 256),    525312      ['lstm_9[0][0]']                 \n",
            "                                 (None, 256),                                                     \n",
            "                                 (None, 256)]                                                     \n",
            "                                                                                                  \n",
            " lstm_11 (LSTM)                 [(None, None, 256),  394240      ['embedding_5[0][0]',            \n",
            "                                 (None, 256),                     'lstm_10[0][1]',                \n",
            "                                 (None, 256)]                     'lstm_10[0][2]']                \n",
            "                                                                                                  \n",
            " dense_4 (Dense)                (None, None, 2000)   514000      ['lstm_11[0][0]']                \n",
            "                                                                                                  \n",
            "==================================================================================================\n",
            "Total params: 3,505,104\n",
            "Trainable params: 3,505,104\n",
            "Non-trainable params: 0\n",
            "__________________________________________________________________________________________________\n"
          ]
        }
      ]
    },
    {
      "cell_type": "markdown",
      "source": [
        "## 3-3. 어텐션 매커니즘 사용 모델만들기 (Tensorflow함수 이용)"
      ],
      "metadata": {
        "id": "AYdHg2lhZ0xG"
      }
    },
    {
      "cell_type": "code",
      "source": [
        "# 어텐션 층(어텐션 함수)\n",
        "attn_layer = AdditiveAttention(name='attention_layer')\n",
        "\n",
        "# 인코더와 디코더의 모든 time step의 hidden state를 어텐션 층에 전달하고 결과를 리턴\n",
        "attn_out = attn_layer([decoder_outputs, encoder_outputs])\n",
        "\n",
        "# 어텐션의 결과와 디코더의 hidden state들을 연결\n",
        "decoder_concat_input = Concatenate(axis=-1, name='concat_layer')([decoder_outputs, attn_out])\n",
        "\n",
        "# 디코더의 출력층\n",
        "decoder_softmax_layer = Dense(tar_vocab, activation='softmax')\n",
        "decoder_softmax_outputs = decoder_softmax_layer(decoder_concat_input)\n",
        "\n",
        "# 모델 정의\n",
        "model = Model([encoder_inputs, decoder_inputs], decoder_softmax_outputs)\n",
        "model.summary()"
      ],
      "metadata": {
        "colab": {
          "base_uri": "https://localhost:8080/"
        },
        "id": "e0bl4vI-ZmPQ",
        "outputId": "0ee8262d-e829-4ec7-902f-771211f672a4"
      },
      "execution_count": 254,
      "outputs": [
        {
          "output_type": "stream",
          "name": "stdout",
          "text": [
            "Model: \"model_5\"\n",
            "__________________________________________________________________________________________________\n",
            " Layer (type)                   Output Shape         Param #     Connected to                     \n",
            "==================================================================================================\n",
            " input_5 (InputLayer)           [(None, 37)]         0           []                               \n",
            "                                                                                                  \n",
            " embedding_4 (Embedding)        (None, 37, 128)      896000      ['input_5[0][0]']                \n",
            "                                                                                                  \n",
            " lstm_8 (LSTM)                  [(None, 37, 256),    394240      ['embedding_4[0][0]']            \n",
            "                                 (None, 256),                                                     \n",
            "                                 (None, 256)]                                                     \n",
            "                                                                                                  \n",
            " input_6 (InputLayer)           [(None, None)]       0           []                               \n",
            "                                                                                                  \n",
            " lstm_9 (LSTM)                  [(None, 37, 256),    525312      ['lstm_8[0][0]']                 \n",
            "                                 (None, 256),                                                     \n",
            "                                 (None, 256)]                                                     \n",
            "                                                                                                  \n",
            " embedding_5 (Embedding)        (None, None, 128)    256000      ['input_6[0][0]']                \n",
            "                                                                                                  \n",
            " lstm_10 (LSTM)                 [(None, 37, 256),    525312      ['lstm_9[0][0]']                 \n",
            "                                 (None, 256),                                                     \n",
            "                                 (None, 256)]                                                     \n",
            "                                                                                                  \n",
            " lstm_11 (LSTM)                 [(None, None, 256),  394240      ['embedding_5[0][0]',            \n",
            "                                 (None, 256),                     'lstm_10[0][1]',                \n",
            "                                 (None, 256)]                     'lstm_10[0][2]']                \n",
            "                                                                                                  \n",
            " attention_layer (AdditiveAtten  (None, None, 256)   256         ['lstm_11[0][0]',                \n",
            " tion)                                                            'lstm_10[0][0]']                \n",
            "                                                                                                  \n",
            " concat_layer (Concatenate)     (None, None, 512)    0           ['lstm_11[0][0]',                \n",
            "                                                                  'attention_layer[0][0]']        \n",
            "                                                                                                  \n",
            " dense_5 (Dense)                (None, None, 2000)   1026000     ['concat_layer[0][0]']           \n",
            "                                                                                                  \n",
            "==================================================================================================\n",
            "Total params: 4,017,360\n",
            "Trainable params: 4,017,360\n",
            "Non-trainable params: 0\n",
            "__________________________________________________________________________________________________\n"
          ]
        }
      ]
    },
    {
      "cell_type": "markdown",
      "source": [
        "## 3-4. 모델 학습하기 (EarlyStopping 이용)"
      ],
      "metadata": {
        "id": "d6OAE69xaLoW"
      }
    },
    {
      "cell_type": "code",
      "source": [
        "model.compile(optimizer='rmsprop', loss='sparse_categorical_crossentropy')\n",
        "es = EarlyStopping(monitor='val_loss', patience=2, verbose=1)\n",
        "history = model.fit(x=[encoder_input_train, decoder_input_train], y=decoder_target_train, \\\n",
        "          validation_data=([encoder_input_test, decoder_input_test], decoder_target_test), \\\n",
        "          batch_size=256, callbacks=[es], epochs=50)"
      ],
      "metadata": {
        "colab": {
          "base_uri": "https://localhost:8080/"
        },
        "id": "XjQcDX-6aK35",
        "outputId": "a43859ab-fb37-4039-bb23-d3145cfeba4f"
      },
      "execution_count": 255,
      "outputs": [
        {
          "output_type": "stream",
          "name": "stdout",
          "text": [
            "Epoch 1/50\n",
            "214/214 [==============================] - 613s 3s/step - loss: 4.2539 - val_loss: 3.9506\n",
            "Epoch 2/50\n",
            "214/214 [==============================] - 585s 3s/step - loss: 3.8248 - val_loss: 3.6827\n",
            "Epoch 3/50\n",
            "214/214 [==============================] - 582s 3s/step - loss: 3.5648 - val_loss: 3.4674\n",
            "Epoch 4/50\n",
            "214/214 [==============================] - 595s 3s/step - loss: 3.3580 - val_loss: 3.3136\n",
            "Epoch 5/50\n",
            "214/214 [==============================] - 635s 3s/step - loss: 3.2012 - val_loss: 3.1970\n",
            "Epoch 6/50\n",
            "214/214 [==============================] - 585s 3s/step - loss: 3.0741 - val_loss: 3.1036\n",
            "Epoch 7/50\n",
            "214/214 [==============================] - 588s 3s/step - loss: 2.9646 - val_loss: 3.0275\n",
            "Epoch 8/50\n",
            "214/214 [==============================] - 588s 3s/step - loss: 2.8697 - val_loss: 2.9690\n",
            "Epoch 9/50\n",
            "214/214 [==============================] - 583s 3s/step - loss: 2.7856 - val_loss: 2.9235\n",
            "Epoch 10/50\n",
            "214/214 [==============================] - 582s 3s/step - loss: 2.7113 - val_loss: 2.8882\n",
            "Epoch 11/50\n",
            "214/214 [==============================] - 581s 3s/step - loss: 2.6436 - val_loss: 2.8562\n",
            "Epoch 12/50\n",
            "214/214 [==============================] - 579s 3s/step - loss: 2.5815 - val_loss: 2.8339\n",
            "Epoch 13/50\n",
            "214/214 [==============================] - 579s 3s/step - loss: 2.5247 - val_loss: 2.8190\n",
            "Epoch 14/50\n",
            "214/214 [==============================] - 580s 3s/step - loss: 2.4719 - val_loss: 2.7974\n",
            "Epoch 15/50\n",
            "214/214 [==============================] - 580s 3s/step - loss: 2.4235 - val_loss: 2.7845\n",
            "Epoch 16/50\n",
            "214/214 [==============================] - 576s 3s/step - loss: 2.3765 - val_loss: 2.7765\n",
            "Epoch 17/50\n",
            "214/214 [==============================] - 579s 3s/step - loss: 2.3326 - val_loss: 2.7750\n",
            "Epoch 18/50\n",
            "214/214 [==============================] - 578s 3s/step - loss: 2.2929 - val_loss: 2.7693\n",
            "Epoch 19/50\n",
            "214/214 [==============================] - 579s 3s/step - loss: 2.2528 - val_loss: 2.7634\n",
            "Epoch 20/50\n",
            "214/214 [==============================] - 579s 3s/step - loss: 2.2163 - val_loss: 2.7617\n",
            "Epoch 21/50\n",
            "214/214 [==============================] - 579s 3s/step - loss: 2.1821 - val_loss: 2.7612\n",
            "Epoch 22/50\n",
            "214/214 [==============================] - 580s 3s/step - loss: 2.1481 - val_loss: 2.7600\n",
            "Epoch 23/50\n",
            "214/214 [==============================] - 583s 3s/step - loss: 2.1160 - val_loss: 2.7703\n",
            "Epoch 24/50\n",
            "214/214 [==============================] - 582s 3s/step - loss: 2.0857 - val_loss: 2.7724\n",
            "Epoch 24: early stopping\n"
          ]
        }
      ]
    },
    {
      "cell_type": "code",
      "source": [
        "# 훈련 데이터의 손실과 검증 데이터의 손실의 시각화\n",
        "plt.plot(history.history['loss'], label='train')\n",
        "plt.plot(history.history['val_loss'], label='test')\n",
        "plt.legend()\n",
        "plt.show()"
      ],
      "metadata": {
        "colab": {
          "base_uri": "https://localhost:8080/",
          "height": 265
        },
        "id": "jq2BEsb1dA7e",
        "outputId": "3ebe08e7-8e17-4258-e8cc-4bb549c835e4"
      },
      "execution_count": 256,
      "outputs": [
        {
          "output_type": "display_data",
          "data": {
            "text/plain": [
              "<Figure size 432x288 with 1 Axes>"
            ],
            "image/png": "[encoded data removed]"
          },
          "metadata": {
            "needs_background": "light"
          }
        }
      ]
    },
    {
      "cell_type": "markdown",
      "source": [
        "## 3-5. 인퍼런스 모델 구현하기 (훈련용이 아닌 실제 동작용)"
      ],
      "metadata": {
        "id": "D9-NA0_WdeY7"
      }
    },
    {
      "cell_type": "code",
      "source": [
        "# 테스트 단계에서 정수 인덱스 행렬의 텍스트 데이터를 실제 데이터 복원위해, 3개의 사전 준비\n",
        "src_index_to_word = src_tokenizer.index_word # 원문 단어 집합에서 정수 -> 단어를 얻음\n",
        "tar_word_to_index = tar_tokenizer.word_index # 요약 단어 집합에서 단어 -> 정수를 얻음\n",
        "tar_index_to_word = tar_tokenizer.index_word # 요약 단어 집합에서 정수 -> 단어를 얻음"
      ],
      "metadata": {
        "id": "1wtqL4OwdXuj"
      },
      "execution_count": 257,
      "outputs": []
    },
    {
      "cell_type": "code",
      "source": [
        "# 인퍼런스 모델 기본구조\n",
        "# 인코더 설계\n",
        "encoder_model = Model(inputs=encoder_inputs, outputs=[encoder_outputs, state_h, state_c])\n",
        "\n",
        "# 이전 시점의 상태들을 저장하는 텐서\n",
        "decoder_state_input_h = Input(shape=(hidden_size,))\n",
        "decoder_state_input_c = Input(shape=(hidden_size,))\n",
        "dec_emb2 = dec_emb_layer(decoder_inputs)\n",
        "decoder_outputs2, state_h2, state_c2 = decoder_lstm(dec_emb2, initial_state=[decoder_state_input_h, decoder_state_input_c])"
      ],
      "metadata": {
        "id": "TgdRZya0dtux"
      },
      "execution_count": 258,
      "outputs": []
    },
    {
      "cell_type": "code",
      "source": [
        "# 어텐션메커니즘을 사용하는 출력층을 설계\n",
        "# 어텐션 함수\n",
        "decoder_hidden_state_input = Input(shape=(text_max_len, hidden_size))\n",
        "attn_out_inf = attn_layer([decoder_outputs2, decoder_hidden_state_input])\n",
        "decoder_inf_concat = Concatenate(axis=-1, name='concat')([decoder_outputs2, attn_out_inf])\n",
        "\n",
        "# 디코더의 출력층\n",
        "decoder_outputs2 = decoder_softmax_layer(decoder_inf_concat) \n",
        "\n",
        "# 최종 디코더 모델\n",
        "decoder_model = Model(\n",
        "    [decoder_inputs] + [decoder_hidden_state_input,decoder_state_input_h, decoder_state_input_c],\n",
        "    [decoder_outputs2] + [state_h2, state_c2])\n",
        "model.summary()"
      ],
      "metadata": {
        "colab": {
          "base_uri": "https://localhost:8080/"
        },
        "id": "j1QorMIrd_ks",
        "outputId": "907ee071-e966-4e44-8bc3-d93443ac3989"
      },
      "execution_count": 259,
      "outputs": [
        {
          "output_type": "stream",
          "name": "stdout",
          "text": [
            "Model: \"model_5\"\n",
            "__________________________________________________________________________________________________\n",
            " Layer (type)                   Output Shape         Param #     Connected to                     \n",
            "==================================================================================================\n",
            " input_5 (InputLayer)           [(None, 37)]         0           []                               \n",
            "                                                                                                  \n",
            " embedding_4 (Embedding)        (None, 37, 128)      896000      ['input_5[0][0]']                \n",
            "                                                                                                  \n",
            " lstm_8 (LSTM)                  [(None, 37, 256),    394240      ['embedding_4[0][0]']            \n",
            "                                 (None, 256),                                                     \n",
            "                                 (None, 256)]                                                     \n",
            "                                                                                                  \n",
            " input_6 (InputLayer)           [(None, None)]       0           []                               \n",
            "                                                                                                  \n",
            " lstm_9 (LSTM)                  [(None, 37, 256),    525312      ['lstm_8[0][0]']                 \n",
            "                                 (None, 256),                                                     \n",
            "                                 (None, 256)]                                                     \n",
            "                                                                                                  \n",
            " embedding_5 (Embedding)        (None, None, 128)    256000      ['input_6[0][0]']                \n",
            "                                                                                                  \n",
            " lstm_10 (LSTM)                 [(None, 37, 256),    525312      ['lstm_9[0][0]']                 \n",
            "                                 (None, 256),                                                     \n",
            "                                 (None, 256)]                                                     \n",
            "                                                                                                  \n",
            " lstm_11 (LSTM)                 [(None, None, 256),  394240      ['embedding_5[0][0]',            \n",
            "                                 (None, 256),                     'lstm_10[0][1]',                \n",
            "                                 (None, 256)]                     'lstm_10[0][2]']                \n",
            "                                                                                                  \n",
            " attention_layer (AdditiveAtten  (None, None, 256)   256         ['lstm_11[0][0]',                \n",
            " tion)                                                            'lstm_10[0][0]']                \n",
            "                                                                                                  \n",
            " concat_layer (Concatenate)     (None, None, 512)    0           ['lstm_11[0][0]',                \n",
            "                                                                  'attention_layer[0][0]']        \n",
            "                                                                                                  \n",
            " dense_5 (Dense)                (None, None, 2000)   1026000     ['concat_layer[0][0]']           \n",
            "                                                                                                  \n",
            "==================================================================================================\n",
            "Total params: 4,017,360\n",
            "Trainable params: 4,017,360\n",
            "Non-trainable params: 0\n",
            "__________________________________________________________________________________________________\n"
          ]
        }
      ]
    },
    {
      "cell_type": "markdown",
      "source": [
        "## 3-6. 모델 테스트하기"
      ],
      "metadata": {
        "id": "lGj9YwqFJRZG"
      }
    },
    {
      "cell_type": "markdown",
      "source": [
        "### ■ 시험방법: index기준으로 10번째, 24번째 뉴스에 대해 테스트 실시"
      ],
      "metadata": {
        "id": "fbs6Bbpp0RyG"
      }
    },
    {
      "cell_type": "code",
      "source": [
        "# index기준으로 10번째, 24번째 뉴스에 대한 테스트\n",
        "for i in (10, 24):\n",
        "    print(\"원문 :\", seq2text(encoder_input_test[i]))\n",
        "    print(\"실제 요약 :\", seq2summary(decoder_input_test[i]))\n",
        "    print(\"예측 요약 :\", decode_sequence(encoder_input_test[i].reshape(1, text_max_len)))\n",
        "    print(\"\\n\")"
      ],
      "metadata": {
        "colab": {
          "base_uri": "https://localhost:8080/"
        },
        "id": "-faqXdONfNxw",
        "outputId": "9522e3a2-67bb-418d-c888-f4cb635bc686"
      },
      "execution_count": 260,
      "outputs": [
        {
          "output_type": "stream",
          "name": "stdout",
          "text": [
            "원문 : different caused condition called lets people experience hearing colours music believed caused connections leads break phenomenon name greek word means together \n",
            "실제 요약 : lets people music \n",
            "예측 요약 :  how did not have\n",
            "\n",
            "\n",
            "원문 : tech billionaires combined net worth trillion according forbes world billionaires list three world five richest people earned technology firms world tech billionaires got past year notably richest person tech fortune microsoft co founder bill gates \n",
            "실제 요약 : tech own of the world wealth \n",
            "예측 요약 :  world richest firm loses bn in wealth in\n",
            "\n",
            "\n"
          ]
        }
      ]
    },
    {
      "cell_type": "markdown",
      "source": [
        "# 4 추출적 요약 (Summa 이용)"
      ],
      "metadata": {
        "id": "C-4uglItJRZH"
      }
    },
    {
      "cell_type": "markdown",
      "source": [
        "### ■ 샘플1개 대상 시험"
      ],
      "metadata": {
        "id": "kuNIled9qAN7"
      }
    },
    {
      "cell_type": "code",
      "source": [
        "text1 = \"Prime Minister Narendra Modi on Wednesday said the people with 'negative mindset' are questioning him and his government for floating pro-poor schemes. He added negative mindset people are raising doubts about schemes such as building toilets and providing free gas connections to the poor. He further said that negative mentality laced with a vested interest still exists in the country.\"\n",
        "headline1 = \"PM Modi stops speech after cameraman faints, asks officers to help\"\n",
        "print(\"원문 :\", text1)\n",
        "print(\"실제 요약 :\", headline1)\n",
        "print(\"예측 요약 :\", summarize(text1, words=11))\n",
        "print(\"\\n\")"
      ],
      "metadata": {
        "colab": {
          "base_uri": "https://localhost:8080/"
        },
        "id": "MIFLlus8f9YK",
        "outputId": "a5d72ec6-97fa-40fa-c97e-284be0583f6a"
      },
      "execution_count": 353,
      "outputs": [
        {
          "output_type": "stream",
          "name": "stdout",
          "text": [
            "원문 : Prime Minister Narendra Modi on Wednesday said the people with 'negative mindset' are questioning him and his government for floating pro-poor schemes. He added negative mindset people are raising doubts about schemes such as building toilets and providing free gas connections to the poor. He further said that negative mentality laced with a vested interest still exists in the country.\n",
            "실제 요약 : PM Modi stops speech after cameraman faints, asks officers to help\n",
            "예측 요약 : Prime Minister Narendra Modi on Wednesday said the people with 'negative mindset' are questioning him and his government for floating pro-poor schemes.\n",
            "\n",
            "\n"
          ]
        }
      ]
    },
    {
      "cell_type": "markdown",
      "source": [
        "# 5 두 요약 결과 비교"
      ],
      "metadata": {
        "id": "yZEAIjijr2G3"
      }
    },
    {
      "cell_type": "markdown",
      "source": [
        "## 5-1. 평가 항목"
      ],
      "metadata": {
        "id": "fgD1-urK6v6H"
      }
    },
    {
      "cell_type": "markdown",
      "source": [
        "### ■ 평가항목 <br>\n",
        "  1) 문법완성도 측면 <br>\n",
        "  2) 핵심단어 포함 측면\n",
        "### ■ 등급: 상, 중, 하"
      ],
      "metadata": {
        "id": "0xqXQpXFr3Kx"
      }
    },
    {
      "cell_type": "markdown",
      "source": [
        "## 5-2. 평가"
      ],
      "metadata": {
        "id": "OnhbtrBr5vzJ"
      }
    },
    {
      "cell_type": "markdown",
      "source": [
        "#### ► 추상적 요약\n",
        "- 문법적으로 잘 맞지 않는 경우가 많다.\n",
        "- 의미요약이 잘 되지않을 뿐만 아니라, 핵심단어 선정도 잘 되지 않았다.\n",
        "\n",
        "##### ► 추출적 요약\n",
        "- 문법적으로는 문제가 없었다.\n",
        "- 의미전달이 잘 되지 않으나, 가끔 핵심단어가 포함되기도 한다.\n",
        "- 추가로, 구현상 문제로써, words가 짧을 수록 요약이 거의 안되는 문제가 있다."
      ],
      "metadata": {
        "id": "u37Iu6mv8nlG"
      }
    },
    {
      "cell_type": "markdown",
      "source": [
        "### ■ 비교 평가"
      ],
      "metadata": {
        "id": "88hbwC_A-ChB"
      }
    },
    {
      "cell_type": "markdown",
      "source": [
        "|평가 항목|문법완성도 측면|핵심단어포함 측면|\n",
        "|---|---|---|\n",
        "|추상적 요약|등급: 중|등급: 하|\n",
        "|추출적 요약|등급: 상|등급: 중|"
      ],
      "metadata": {
        "id": "i9bbWPaE4UTd"
      }
    }
  ],
  "nbformat": 4,
  "nbformat_minor": 0,
  "metadata": {
    "language_info": {
      "name": "python"
    },
    "orig_nbformat": 4,
    "colab": {
      "name": "ExplNode07.ipynb",
      "provenance": [],
      "collapsed_sections": [
        "v0EOEwrvJRY9",
        "aC1L9-WELjds",
        "0xqXQpXFr3Kx",
        "u37Iu6mv8nlG"
      ],
      "include_colab_link": true
    },
    "kernelspec": {
      "name": "python3",
      "display_name": "Python 3"
    }
  }
}
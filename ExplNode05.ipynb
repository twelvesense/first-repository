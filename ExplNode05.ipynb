{
  "nbformat": 4,
  "nbformat_minor": 0,
  "metadata": {
    "colab": {
      "name": "ExplNode05.ipynb",
      "provenance": [],
      "authorship_tag": "ABX9TyP6LnjCL4aqvbrKfvB9a2ZR",
      "include_colab_link": true
    },
    "kernelspec": {
      "name": "python3",
      "display_name": "Python 3"
    },
    "language_info": {
      "name": "python"
    }
  },
  "cells": [
    {
      "cell_type": "markdown",
      "metadata": {
        "id": "view-in-github",
        "colab_type": "text"
      },
      "source": [
        "<a href=\"https://colab.research.google.com/github/twelvesense/first-repository/blob/master/ExplNode05.ipynb\" target=\"_parent\"><img src=\"https://colab.research.google.com/assets/colab-badge.svg\" alt=\"Open In Colab\"/></a>"
      ]
    },
    {
      "cell_type": "markdown",
      "source": [
        "# 프로젝트: 가위바위보 분류기를 만들자"
      ],
      "metadata": {
        "id": "ihOYXmOJjGHJ"
      }
    },
    {
      "cell_type": "code",
      "source": [
        "import tensorflow as tf\n",
        "import numpy as np\n",
        "\n",
        "print(tf.__version__)\n",
        "print(np.__version__)"
      ],
      "metadata": {
        "id": "IkAx440pkRIo",
        "outputId": "7b144217-5520-42a2-f06d-833e74752782",
        "colab": {
          "base_uri": "https://localhost:8080/"
        }
      },
      "execution_count": null,
      "outputs": [
        {
          "output_type": "stream",
          "name": "stdout",
          "text": [
            "2.8.0\n",
            "1.21.6\n"
          ]
        }
      ]
    },
    {
      "cell_type": "markdown",
      "source": [
        "1) 데이터 준비 "
      ],
      "metadata": {
        "id": "lO8YwN6-j8kl"
      }
    },
    {
      "cell_type": "code",
      "source": [
        ""
      ],
      "metadata": {
        "id": "egrQ4uUrjvR6"
      },
      "execution_count": null,
      "outputs": []
    },
    {
      "cell_type": "markdown",
      "source": [
        "2) 딥러닝 네트워크 설계 "
      ],
      "metadata": {
        "id": "p8Nn6XzxkBJk"
      }
    },
    {
      "cell_type": "markdown",
      "source": [
        "3) 학습"
      ],
      "metadata": {
        "id": "2NWSG7sekD4f"
      }
    },
    {
      "cell_type": "markdown",
      "source": [
        "4) 테스트(평가)"
      ],
      "metadata": {
        "id": "x6ZrpNVHkF2B"
      }
    },
    {
      "cell_type": "markdown",
      "source": [
        "5) 개선하기"
      ],
      "metadata": {
        "id": "QaGew2XmkIVG"
      }
    }
  ]
}
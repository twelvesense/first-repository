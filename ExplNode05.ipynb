{
  "nbformat": 4,
  "nbformat_minor": 0,
  "metadata": {
    "colab": {
      "name": "ExplNode05.ipynb",
      "provenance": [],
      "mount_file_id": "15r6QYp0bMGdOppEwwaugdhseQsz3MHEs",
      "authorship_tag": "ABX9TyN5G1iBTx/FwSR0ek2LWp0L",
      "include_colab_link": true
    },
    "kernelspec": {
      "name": "python3",
      "display_name": "Python 3"
    },
    "language_info": {
      "name": "python"
    }
  },
  "cells": [
    {
      "cell_type": "markdown",
      "metadata": {
        "id": "view-in-github",
        "colab_type": "text"
      },
      "source": [
        "<a href=\"https://colab.research.google.com/github/twelvesense/first-repository/blob/master/ExplNode05.ipynb\" target=\"_parent\"><img src=\"https://colab.research.google.com/assets/colab-badge.svg\" alt=\"Open In Colab\"/></a>"
      ]
    },
    {
      "cell_type": "markdown",
      "source": [
        "# 프로젝트: 가위바위보 분류기를 만들자"
      ],
      "metadata": {
        "id": "ihOYXmOJjGHJ"
      }
    },
    {
      "cell_type": "code",
      "source": [
        "import warnings\n",
        "warnings.filterwarnings(\"ignore\")\n",
        "\n",
        "import os\n",
        "from os.path import join\n",
        "\n",
        "import pandas as pd\n",
        "import numpy as np\n",
        "\n",
        "import missingno as msno\n",
        "\n",
        "from sklearn.ensemble import GradientBoostingRegressor\n",
        "from sklearn.model_selection import KFold, cross_val_score\n",
        "import xgboost as xgb\n",
        "import lightgbm as lgb\n",
        "from sklearn.model_selection import GridSearchCV\n",
        "from sklearn.model_selection import train_test_split\n",
        "from sklearn.metrics import mean_squared_error\n",
        "from xgboost import XGBRegressor\n",
        "from lightgbm import LGBMRegressor\n",
        "from sklearn.ensemble import GradientBoostingRegressor, RandomForestRegressor\n",
        "import matplotlib.pyplot as plt\n",
        "%matplotlib inline\n",
        "%config InlineBackend.figure_format = 'retina'\n",
        "import seaborn as sns"
      ],
      "metadata": {
        "id": "SFLyw1J5Flh4"
      },
      "execution_count": null,
      "outputs": []
    },
    {
      "cell_type": "code",
      "source": [
        "!mkdir -p /content/data/rock\n",
        "!mkdir -p /content/data/paper\n",
        "!mkdir -p /content/data/scissor\n",
        "!mkdir -p /content/data/test/rock\n",
        "!mkdir -p /content/data/test/paper\n",
        "!mkdir -p /content/data/test/scissor\n",
        "!wget -O /content/data/rock/rock.zip https://raw.githubusercontent.com/twelvesense/first-repository/master/data/rock_scissor_paper/rock.zip\n",
        "!wget -O /content/data/paper/paper.zip https://raw.githubusercontent.com/twelvesense/first-repository/master/data/rock_scissor_paper/paper.zip\n",
        "!wget -O /content/data/scissor/scissor.zip https://raw.githubusercontent.com/twelvesense/first-repository/master/data/rock_scissor_paper/scissor.zip\n",
        "!wget -O /content/data/test/rock/rock.zip https://raw.githubusercontent.com/twelvesense/first-repository/master/data/rock_scissor_paper/test_rock.zip\n",
        "!wget -O /content/data/test/paper/paper.zip https://raw.githubusercontent.com/twelvesense/first-repository/master/data/rock_scissor_paper/test_paper.zip\n",
        "!wget -O /content/data/test/scissor/scissor.zip https://raw.githubusercontent.com/twelvesense/first-repository/master/data/rock_scissor_paper/test_scissor.zip\n",
        "!unzip /content/data/paper/paper.zip -d /content/data/paper\n",
        "!unzip /content/data/rock/rock.zip -d /content/data/rock\n",
        "!unzip /content/data/scissor/scissor.zip -d /content/data/scissor\n",
        "!unzip /content/data/test/paper/paper.zip -d /content/data/test/paper\n",
        "!unzip /content/data/test/rock/rock.zip -d /content/data/test/rock\n",
        "!unzip /content/data/test/scissor/scissor.zip -d /content/data/test/scissor"
      ],
      "metadata": {
        "colab": {
          "base_uri": "https://localhost:8080/"
        },
        "id": "rzlV75uXFa2x",
        "outputId": "68241827-a7a3-48e2-b99b-04f53877b8e8"
      },
      "execution_count": 4,
      "outputs": [
        {
          "output_type": "stream",
          "name": "stdout",
          "text": [
            "Archive:  /content/data/rock/rock.zip\n",
            "  inflating: /content/data/rock/1.jpg  \n",
            "  inflating: /content/data/rock/10.jpg  \n",
            "  inflating: /content/data/rock/100.jpg  \n",
            "  inflating: /content/data/rock/11.jpg  \n",
            "  inflating: /content/data/rock/12.jpg  \n",
            "  inflating: /content/data/rock/13.jpg  \n",
            "  inflating: /content/data/rock/14.jpg  \n",
            "  inflating: /content/data/rock/15.jpg  \n",
            "  inflating: /content/data/rock/16.jpg  \n",
            "  inflating: /content/data/rock/17.jpg  \n",
            "  inflating: /content/data/rock/18.jpg  \n",
            "  inflating: /content/data/rock/19.jpg  \n",
            "  inflating: /content/data/rock/2.jpg  \n",
            "  inflating: /content/data/rock/20.jpg  \n",
            "  inflating: /content/data/rock/21.jpg  \n",
            "  inflating: /content/data/rock/22.jpg  \n",
            "  inflating: /content/data/rock/23.jpg  \n",
            "  inflating: /content/data/rock/24.jpg  \n",
            "  inflating: /content/data/rock/25.jpg  \n",
            "  inflating: /content/data/rock/26.jpg  \n",
            "  inflating: /content/data/rock/27.jpg  \n",
            "  inflating: /content/data/rock/28.jpg  \n",
            "  inflating: /content/data/rock/29.jpg  \n",
            "  inflating: /content/data/rock/3.jpg  \n",
            "  inflating: /content/data/rock/30.jpg  \n",
            "  inflating: /content/data/rock/31.jpg  \n",
            "  inflating: /content/data/rock/32.jpg  \n",
            "  inflating: /content/data/rock/33.jpg  \n",
            "  inflating: /content/data/rock/34.jpg  \n",
            "  inflating: /content/data/rock/35.jpg  \n",
            "  inflating: /content/data/rock/36.jpg  \n",
            "  inflating: /content/data/rock/37.jpg  \n",
            "  inflating: /content/data/rock/38.jpg  \n",
            "  inflating: /content/data/rock/39.jpg  \n",
            "  inflating: /content/data/rock/4.jpg  \n",
            "  inflating: /content/data/rock/40.jpg  \n",
            "  inflating: /content/data/rock/41.jpg  \n",
            "  inflating: /content/data/rock/42.jpg  \n",
            "  inflating: /content/data/rock/43.jpg  \n",
            "  inflating: /content/data/rock/44.jpg  \n",
            "  inflating: /content/data/rock/45.jpg  \n",
            "  inflating: /content/data/rock/46.jpg  \n",
            "  inflating: /content/data/rock/47.jpg  \n",
            "  inflating: /content/data/rock/48.jpg  \n",
            "  inflating: /content/data/rock/49.jpg  \n",
            "  inflating: /content/data/rock/5.jpg  \n",
            "  inflating: /content/data/rock/50.jpg  \n",
            "  inflating: /content/data/rock/51.jpg  \n",
            "  inflating: /content/data/rock/52.jpg  \n",
            "  inflating: /content/data/rock/53.jpg  \n",
            "  inflating: /content/data/rock/54.jpg  \n",
            "  inflating: /content/data/rock/55.jpg  \n",
            "  inflating: /content/data/rock/56.jpg  \n",
            "  inflating: /content/data/rock/57.jpg  \n",
            "  inflating: /content/data/rock/58.jpg  \n",
            "  inflating: /content/data/rock/59.jpg  \n",
            "  inflating: /content/data/rock/6.jpg  \n",
            "  inflating: /content/data/rock/60.jpg  \n",
            "  inflating: /content/data/rock/61.jpg  \n",
            "  inflating: /content/data/rock/62.jpg  \n",
            "  inflating: /content/data/rock/63.jpg  \n",
            "  inflating: /content/data/rock/64.jpg  \n",
            "  inflating: /content/data/rock/65.jpg  \n",
            "  inflating: /content/data/rock/66.jpg  \n",
            "  inflating: /content/data/rock/67.jpg  \n",
            "  inflating: /content/data/rock/68.jpg  \n",
            "  inflating: /content/data/rock/69.jpg  \n",
            "  inflating: /content/data/rock/7.jpg  \n",
            "  inflating: /content/data/rock/70.jpg  \n",
            "  inflating: /content/data/rock/71.jpg  \n",
            "  inflating: /content/data/rock/72.jpg  \n",
            "  inflating: /content/data/rock/73.jpg  \n",
            "  inflating: /content/data/rock/74.jpg  \n",
            "  inflating: /content/data/rock/75.jpg  \n",
            "  inflating: /content/data/rock/76.jpg  \n",
            "  inflating: /content/data/rock/77.jpg  \n",
            "  inflating: /content/data/rock/78.jpg  \n",
            "  inflating: /content/data/rock/79.jpg  \n",
            "  inflating: /content/data/rock/8.jpg  \n",
            "  inflating: /content/data/rock/80.jpg  \n",
            "  inflating: /content/data/rock/81.jpg  \n",
            "  inflating: /content/data/rock/82.jpg  \n",
            "  inflating: /content/data/rock/83.jpg  \n",
            "  inflating: /content/data/rock/84.jpg  \n",
            "  inflating: /content/data/rock/85.jpg  \n",
            "  inflating: /content/data/rock/86.jpg  \n",
            "  inflating: /content/data/rock/87.jpg  \n",
            "  inflating: /content/data/rock/88.jpg  \n",
            "  inflating: /content/data/rock/89.jpg  \n",
            "  inflating: /content/data/rock/9.jpg  \n",
            "  inflating: /content/data/rock/90.jpg  \n",
            "  inflating: /content/data/rock/91.jpg  \n",
            "  inflating: /content/data/rock/92.jpg  \n",
            "  inflating: /content/data/rock/93.jpg  \n",
            "  inflating: /content/data/rock/94.jpg  \n",
            "  inflating: /content/data/rock/95.jpg  \n",
            "  inflating: /content/data/rock/96.jpg  \n",
            "  inflating: /content/data/rock/97.jpg  \n",
            "  inflating: /content/data/rock/98.jpg  \n",
            "  inflating: /content/data/rock/99.jpg  \n",
            "Archive:  /content/data/test/rock/rock.zip\n",
            "  inflating: /content/data/test/rock/1.jpg  \n",
            "  inflating: /content/data/test/rock/10.jpg  \n",
            "  inflating: /content/data/test/rock/100.jpg  \n",
            "  inflating: /content/data/test/rock/11.jpg  \n",
            "  inflating: /content/data/test/rock/12.jpg  \n",
            "  inflating: /content/data/test/rock/13.jpg  \n",
            "  inflating: /content/data/test/rock/14.jpg  \n",
            "  inflating: /content/data/test/rock/15.jpg  \n",
            "  inflating: /content/data/test/rock/16.jpg  \n",
            "  inflating: /content/data/test/rock/17.jpg  \n",
            "  inflating: /content/data/test/rock/18.jpg  \n",
            "  inflating: /content/data/test/rock/19.jpg  \n",
            "  inflating: /content/data/test/rock/2.jpg  \n",
            "  inflating: /content/data/test/rock/20.jpg  \n",
            "  inflating: /content/data/test/rock/21.jpg  \n",
            "  inflating: /content/data/test/rock/22.jpg  \n",
            "  inflating: /content/data/test/rock/23.jpg  \n",
            "  inflating: /content/data/test/rock/24.jpg  \n",
            "  inflating: /content/data/test/rock/25.jpg  \n",
            "  inflating: /content/data/test/rock/26.jpg  \n",
            "  inflating: /content/data/test/rock/27.jpg  \n",
            "  inflating: /content/data/test/rock/28.jpg  \n",
            "  inflating: /content/data/test/rock/29.jpg  \n",
            "  inflating: /content/data/test/rock/3.jpg  \n",
            "  inflating: /content/data/test/rock/30.jpg  \n",
            "  inflating: /content/data/test/rock/31.jpg  \n",
            "  inflating: /content/data/test/rock/32.jpg  \n",
            "  inflating: /content/data/test/rock/33.jpg  \n",
            "  inflating: /content/data/test/rock/34.jpg  \n",
            "  inflating: /content/data/test/rock/35.jpg  \n",
            "  inflating: /content/data/test/rock/36.jpg  \n",
            "  inflating: /content/data/test/rock/37.jpg  \n",
            "  inflating: /content/data/test/rock/38.jpg  \n",
            "  inflating: /content/data/test/rock/39.jpg  \n",
            "  inflating: /content/data/test/rock/4.jpg  \n",
            "  inflating: /content/data/test/rock/40.jpg  \n",
            "  inflating: /content/data/test/rock/41.jpg  \n",
            "  inflating: /content/data/test/rock/42.jpg  \n",
            "  inflating: /content/data/test/rock/43.jpg  \n",
            "  inflating: /content/data/test/rock/44.jpg  \n",
            "  inflating: /content/data/test/rock/45.jpg  \n",
            "  inflating: /content/data/test/rock/46.jpg  \n",
            "  inflating: /content/data/test/rock/47.jpg  \n",
            "  inflating: /content/data/test/rock/48.jpg  \n",
            "  inflating: /content/data/test/rock/49.jpg  \n",
            "  inflating: /content/data/test/rock/5.jpg  \n",
            "  inflating: /content/data/test/rock/50.jpg  \n",
            "  inflating: /content/data/test/rock/51.jpg  \n",
            "  inflating: /content/data/test/rock/52.jpg  \n",
            "  inflating: /content/data/test/rock/53.jpg  \n",
            "  inflating: /content/data/test/rock/54.jpg  \n",
            "  inflating: /content/data/test/rock/55.jpg  \n",
            "  inflating: /content/data/test/rock/56.jpg  \n",
            "  inflating: /content/data/test/rock/57.jpg  \n",
            "  inflating: /content/data/test/rock/58.jpg  \n",
            "  inflating: /content/data/test/rock/59.jpg  \n",
            "  inflating: /content/data/test/rock/6.jpg  \n",
            "  inflating: /content/data/test/rock/60.jpg  \n",
            "  inflating: /content/data/test/rock/61.jpg  \n",
            "  inflating: /content/data/test/rock/62.jpg  \n",
            "  inflating: /content/data/test/rock/63.jpg  \n",
            "  inflating: /content/data/test/rock/64.jpg  \n",
            "  inflating: /content/data/test/rock/65.jpg  \n",
            "  inflating: /content/data/test/rock/66.jpg  \n",
            "  inflating: /content/data/test/rock/67.jpg  \n",
            "  inflating: /content/data/test/rock/68.jpg  \n",
            "  inflating: /content/data/test/rock/69.jpg  \n",
            "  inflating: /content/data/test/rock/7.jpg  \n",
            "  inflating: /content/data/test/rock/70.jpg  \n",
            "  inflating: /content/data/test/rock/71.jpg  \n",
            "  inflating: /content/data/test/rock/72.jpg  \n",
            "  inflating: /content/data/test/rock/73.jpg  \n",
            "  inflating: /content/data/test/rock/74.jpg  \n",
            "  inflating: /content/data/test/rock/75.jpg  \n",
            "  inflating: /content/data/test/rock/76.jpg  \n",
            "  inflating: /content/data/test/rock/77.jpg  \n",
            "  inflating: /content/data/test/rock/78.jpg  \n",
            "  inflating: /content/data/test/rock/79.jpg  \n",
            "  inflating: /content/data/test/rock/8.jpg  \n",
            "  inflating: /content/data/test/rock/80.jpg  \n",
            "  inflating: /content/data/test/rock/81.jpg  \n",
            "  inflating: /content/data/test/rock/82.jpg  \n",
            "  inflating: /content/data/test/rock/83.jpg  \n",
            "  inflating: /content/data/test/rock/84.jpg  \n",
            "  inflating: /content/data/test/rock/85.jpg  \n",
            "  inflating: /content/data/test/rock/86.jpg  \n",
            "  inflating: /content/data/test/rock/87.jpg  \n",
            "  inflating: /content/data/test/rock/88.jpg  \n",
            "  inflating: /content/data/test/rock/89.jpg  \n",
            "  inflating: /content/data/test/rock/9.jpg  \n",
            "  inflating: /content/data/test/rock/90.jpg  \n",
            "  inflating: /content/data/test/rock/91.jpg  \n",
            "  inflating: /content/data/test/rock/92.jpg  \n",
            "  inflating: /content/data/test/rock/93.jpg  \n",
            "  inflating: /content/data/test/rock/94.jpg  \n",
            "  inflating: /content/data/test/rock/95.jpg  \n",
            "  inflating: /content/data/test/rock/96.jpg  \n",
            "  inflating: /content/data/test/rock/97.jpg  \n",
            "  inflating: /content/data/test/rock/98.jpg  \n",
            "  inflating: /content/data/test/rock/99.jpg  \n"
          ]
        }
      ]
    },
    {
      "cell_type": "code",
      "source": [
        "import os\n",
        "from PIL import Image\n",
        "import glob\n",
        "import tensorflow as tf\n",
        "import numpy as np"
      ],
      "metadata": {
        "id": "IkAx440pkRIo"
      },
      "execution_count": 6,
      "outputs": []
    },
    {
      "cell_type": "markdown",
      "source": [
        "1) 데이터 준비 "
      ],
      "metadata": {
        "id": "lO8YwN6-j8kl"
      }
    },
    {
      "cell_type": "code",
      "source": [
        "def resize_images(img_path):\n",
        "\timages=glob.glob(img_path + \"/*.jpg\")  \n",
        "    \n",
        "\tprint(len(images), \" images to be resized.\")\n",
        "\n",
        "    # 파일마다 모두 28x28 사이즈로 바꾸어 저장합니다.\n",
        "\ttarget_size=(28,28)\n",
        "\tfor img in images:\n",
        "\t\told_img=Image.open(img)\n",
        "\t\tnew_img=old_img.resize(target_size,Image.ANTIALIAS)\n",
        "\t\tnew_img.save(img, \"JPEG\")\n",
        "    \n",
        "\tprint(len(images), \" images resized.\")"
      ],
      "metadata": {
        "id": "egrQ4uUrjvR6"
      },
      "execution_count": 7,
      "outputs": []
    },
    {
      "cell_type": "code",
      "source": [
        "image_dir_path = \"/content/data/scissor\"\n",
        "resize_images(image_dir_path)\n",
        "print(\"가위 이미지 resize 완료!\")"
      ],
      "metadata": {
        "id": "G2LOnc6NgsS2",
        "outputId": "cbb97662-613f-4380-a202-493134ef0f19",
        "colab": {
          "base_uri": "https://localhost:8080/"
        }
      },
      "execution_count": 8,
      "outputs": [
        {
          "output_type": "stream",
          "name": "stdout",
          "text": [
            "100  images to be resized.\n",
            "100  images resized.\n",
            "가위 이미지 resize 완료!\n"
          ]
        }
      ]
    },
    {
      "cell_type": "code",
      "source": [
        "image_dir_path = \"/content/data/rock\"\n",
        "resize_images(image_dir_path)\n",
        "print(\"바위 이미지 resize 완료!\")"
      ],
      "metadata": {
        "id": "cTnQKYH6gw2N",
        "outputId": "cc81c220-af76-4366-b365-83da0c2efea0",
        "colab": {
          "base_uri": "https://localhost:8080/"
        }
      },
      "execution_count": 9,
      "outputs": [
        {
          "output_type": "stream",
          "name": "stdout",
          "text": [
            "100  images to be resized.\n",
            "100  images resized.\n",
            "바위 이미지 resize 완료!\n"
          ]
        }
      ]
    },
    {
      "cell_type": "code",
      "source": [
        "image_dir_path = \"/content/data/paper\"\n",
        "resize_images(image_dir_path)\n",
        "print(\"보 이미지 resize 완료!\")"
      ],
      "metadata": {
        "id": "hRJfaUoig4PB",
        "outputId": "cc49ebe9-767c-4ef8-f2a1-da122c3ec062",
        "colab": {
          "base_uri": "https://localhost:8080/"
        }
      },
      "execution_count": 10,
      "outputs": [
        {
          "output_type": "stream",
          "name": "stdout",
          "text": [
            "100  images to be resized.\n",
            "100  images resized.\n",
            "보 이미지 resize 완료!\n"
          ]
        }
      ]
    },
    {
      "cell_type": "code",
      "source": [
        "def load_data(img_path, number_of_data=300):  # 가위바위보 이미지 개수 총합에 주의하세요.\n",
        "    # 가위 : 0, 바위 : 1, 보 : 2\n",
        "    img_size=28\n",
        "    color=3\n",
        "    #이미지 데이터와 라벨(가위 : 0, 바위 : 1, 보 : 2) 데이터를 담을 행렬(matrix) 영역을 생성합니다.\n",
        "    imgs=np.zeros(number_of_data*img_size*img_size*color,dtype=np.int32).reshape(number_of_data,img_size,img_size,color)\n",
        "    labels=np.zeros(number_of_data,dtype=np.int32)\n",
        "\n",
        "    idx=0\n",
        "    for file in glob.iglob(img_path+'/scissor/*.jpg'):\n",
        "        img = np.array(Image.open(file),dtype=np.int32)\n",
        "        imgs[idx,:,:,:]=img    # 데이터 영역에 이미지 행렬을 복사\n",
        "        labels[idx]=0   # 가위 : 0\n",
        "        idx=idx+1\n",
        "\n",
        "    for file in glob.iglob(img_path+'/rock/*.jpg'):\n",
        "        img = np.array(Image.open(file),dtype=np.int32)\n",
        "        imgs[idx,:,:,:]=img    # 데이터 영역에 이미지 행렬을 복사\n",
        "        labels[idx]=1   # 바위 : 1\n",
        "        idx=idx+1  \n",
        "    \n",
        "    for file in glob.iglob(img_path+'/paper/*.jpg'):\n",
        "        img = np.array(Image.open(file),dtype=np.int32)\n",
        "        imgs[idx,:,:,:]=img    # 데이터 영역에 이미지 행렬을 복사\n",
        "        labels[idx]=2   # 보 : 2\n",
        "        idx=idx+1\n",
        "        \n",
        "    print(\"학습데이터(x_train)의 이미지 개수는\", idx,\"입니다.\")\n",
        "    return imgs, labels"
      ],
      "metadata": {
        "id": "AnSvV3J4ipRf"
      },
      "execution_count": null,
      "outputs": []
    },
    {
      "cell_type": "code",
      "source": [
        "image_dir_path = \"/content/data\"\n",
        "(x_train, y_train)=load_data(image_dir_path)\n",
        "x_train_norm = x_train/255.0   # 입력은 0~1 사이의 값으로 정규화\n",
        "\n",
        "print(\"x_train shape: {}\".format(x_train.shape))\n",
        "print(\"y_train shape: {}\".format(y_train.shape))"
      ],
      "metadata": {
        "id": "1BZHq4FLis5x"
      },
      "execution_count": null,
      "outputs": []
    },
    {
      "cell_type": "markdown",
      "source": [
        "2) 딥러닝 네트워크 설계 "
      ],
      "metadata": {
        "id": "p8Nn6XzxkBJk"
      }
    },
    {
      "cell_type": "markdown",
      "source": [
        "3) 학습"
      ],
      "metadata": {
        "id": "2NWSG7sekD4f"
      }
    },
    {
      "cell_type": "markdown",
      "source": [
        "4) 테스트(평가)"
      ],
      "metadata": {
        "id": "x6ZrpNVHkF2B"
      }
    },
    {
      "cell_type": "markdown",
      "source": [
        "5) 개선하기"
      ],
      "metadata": {
        "id": "QaGew2XmkIVG"
      }
    }
  ]
}
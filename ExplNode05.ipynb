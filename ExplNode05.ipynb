{
  "nbformat": 4,
  "nbformat_minor": 0,
  "metadata": {
    "colab": {
      "name": "ExplNode05.ipynb",
      "provenance": [],
      "mount_file_id": "15r6QYp0bMGdOppEwwaugdhseQsz3MHEs",
      "authorship_tag": "ABX9TyPYMLBicixv0zwjGficx9Bo",
      "include_colab_link": true
    },
    "kernelspec": {
      "name": "python3",
      "display_name": "Python 3"
    },
    "language_info": {
      "name": "python"
    }
  },
  "cells": [
    {
      "cell_type": "markdown",
      "metadata": {
        "id": "view-in-github",
        "colab_type": "text"
      },
      "source": [
        "<a href=\"https://colab.research.google.com/github/twelvesense/first-repository/blob/master/ExplNode05.ipynb\" target=\"_parent\"><img src=\"https://colab.research.google.com/assets/colab-badge.svg\" alt=\"Open In Colab\"/></a>"
      ]
    },
    {
      "cell_type": "markdown",
      "source": [
        "# 프로젝트: 가위바위보 분류기를 만들자"
      ],
      "metadata": {
        "id": "ihOYXmOJjGHJ"
      }
    },
    {
      "cell_type": "code",
      "source": [
        "import warnings\n",
        "warnings.filterwarnings(\"ignore\")\n",
        "\n",
        "import os\n",
        "from os.path import join\n",
        "\n",
        "import pandas as pd\n",
        "import numpy as np\n",
        "\n",
        "import missingno as msno\n",
        "\n",
        "from sklearn.ensemble import GradientBoostingRegressor\n",
        "from sklearn.model_selection import KFold, cross_val_score\n",
        "import xgboost as xgb\n",
        "import lightgbm as lgb\n",
        "from sklearn.model_selection import GridSearchCV\n",
        "from sklearn.model_selection import train_test_split\n",
        "from sklearn.metrics import mean_squared_error\n",
        "from xgboost import XGBRegressor\n",
        "from lightgbm import LGBMRegressor\n",
        "from sklearn.ensemble import GradientBoostingRegressor, RandomForestRegressor\n",
        "import matplotlib.pyplot as plt\n",
        "%matplotlib inline\n",
        "%config InlineBackend.figure_format = 'retina'\n",
        "import seaborn as sns"
      ],
      "metadata": {
        "id": "SFLyw1J5Flh4"
      },
      "execution_count": 3,
      "outputs": []
    },
    {
      "cell_type": "code",
      "source": [
        "# !mkdir -p /content/data/rock\n",
        "# !mkdir -p /content/data/paper\n",
        "# !mkdir -p /content/data/scissor\n",
        "# !mkdir -p /content/data/test/rock\n",
        "# !mkdir -p /content/data/test/paper\n",
        "# !mkdir -p /content/data/test/scissor\n",
        "# !wget -O /content/data/rock/roock.zip https://raw.githubusercontent.com/twelvesense/first-repository/master/data/rock_scissor_paper/rock.zip\n",
        "# !wget -O /content/data/paper/paper.zip https://raw.githubusercontent.com/twelvesense/first-repository/master/data/rock_scissor_paper/paper.zip\n",
        "# !wget -O /content/data/scissor/scissor.zip https://raw.githubusercontent.com/twelvesense/first-repository/master/data/rock_scissor_paper/scissor.zip\n",
        "# !wget -O /content/data/test/rock/rock.zip https://raw.githubusercontent.com/twelvesense/first-repository/master/data/rock_scissor_paper/test_rock.zip\n",
        "# !wget -O /content/data/test/paper/paper.zip https://raw.githubusercontent.com/twelvesense/first-repository/master/data/rock_scissor_paper/test_paper.zip\n",
        "# !wget -O /content/data/test/scissor/scissor.zip https://raw.githubusercontent.com/twelvesense/first-repository/master/data/rock_scissor_paper/test_scissor.zip\n",
        "# !unzip /content/data/paper/paper.zip -d /content/data/paper\n",
        "!unzip /content/data/rockr/roock.zip -d /content/data/rock\n",
        "!unzip /content/data/scissor/scissor.zip -d /content/data/scissor"
      ],
      "metadata": {
        "colab": {
          "base_uri": "https://localhost:8080/"
        },
        "id": "rzlV75uXFa2x",
        "outputId": "5de57f40-c5e0-4444-a3f3-4fc0f41f2ee6"
      },
      "execution_count": null,
      "outputs": [
        {
          "output_type": "stream",
          "name": "stdout",
          "text": [
            "unzip:  cannot find or open /content/data/rockr/roock.zip, /content/data/rockr/roock.zip.zip or /content/data/rockr/roock.zip.ZIP.\n",
            "Archive:  /content/data/scissor/scissor.zip\n",
            "replace /content/data/scissor/1.jpg? [y]es, [n]o, [A]ll, [N]one, [r]ename: "
          ]
        }
      ]
    },
    {
      "cell_type": "code",
      "source": [
        "import tensorflow as tf\n",
        "import numpy as np\n",
        "\n",
        "print(tf.__version__)\n",
        "print(np.__version__)"
      ],
      "metadata": {
        "id": "IkAx440pkRIo",
        "outputId": "7b144217-5520-42a2-f06d-833e74752782",
        "colab": {
          "base_uri": "https://localhost:8080/"
        }
      },
      "execution_count": null,
      "outputs": [
        {
          "output_type": "stream",
          "name": "stdout",
          "text": [
            "2.8.0\n",
            "1.21.6\n"
          ]
        }
      ]
    },
    {
      "cell_type": "markdown",
      "source": [
        "1) 데이터 준비 "
      ],
      "metadata": {
        "id": "lO8YwN6-j8kl"
      }
    },
    {
      "cell_type": "code",
      "source": [
        ""
      ],
      "metadata": {
        "id": "egrQ4uUrjvR6"
      },
      "execution_count": null,
      "outputs": []
    },
    {
      "cell_type": "markdown",
      "source": [
        "2) 딥러닝 네트워크 설계 "
      ],
      "metadata": {
        "id": "p8Nn6XzxkBJk"
      }
    },
    {
      "cell_type": "markdown",
      "source": [
        "3) 학습"
      ],
      "metadata": {
        "id": "2NWSG7sekD4f"
      }
    },
    {
      "cell_type": "markdown",
      "source": [
        "4) 테스트(평가)"
      ],
      "metadata": {
        "id": "x6ZrpNVHkF2B"
      }
    },
    {
      "cell_type": "markdown",
      "source": [
        "5) 개선하기"
      ],
      "metadata": {
        "id": "QaGew2XmkIVG"
      }
    }
  ]
}
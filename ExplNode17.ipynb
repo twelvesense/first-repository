{
  "cells": [
    {
      "cell_type": "markdown",
      "metadata": {
        "id": "view-in-github",
        "colab_type": "text"
      },
      "source": [
        "<a href=\"https://colab.research.google.com/github/twelvesense/first-repository/blob/master/ExplNode17.ipynb\" target=\"_parent\"><img src=\"https://colab.research.google.com/assets/colab-badge.svg\" alt=\"Open In Colab\"/></a>"
      ]
    },
    {
      "cell_type": "markdown",
      "source": [
        "#**프로젝트: Movielens 영화 SBR**"
      ],
      "metadata": {
        "id": "THxQoMk44Q1W"
      }
    },
    {
      "cell_type": "markdown",
      "source": [
        "#1: 기본 환경 구축"
      ],
      "metadata": {
        "id": "jLK2XwpT5u-Z"
      }
    },
    {
      "cell_type": "markdown",
      "source": [
        "##1.1: 모듈"
      ],
      "metadata": {
        "id": "mvd56-CTIkXm"
      }
    },
    {
      "cell_type": "code",
      "source": [
        "import tensorflow as tf\n",
        "from tensorflow.keras.layers import Input, Dense, Dropout, GRU\n",
        "from tensorflow.keras.losses import categorical_crossentropy\n",
        "from tensorflow.keras.models import Model\n",
        "from tensorflow.keras.optimizers import Adam\n",
        "from tensorflow.keras.utils import to_categorical\n",
        "from tqdm import tqdm\n",
        "import numpy as np\n",
        "import pandas as pd\n",
        "import matplotlib.pyplot as plt\n",
        "import datetime as dt\n",
        "from pathlib import Path\n",
        "import os\n",
        "import warnings\n",
        "warnings.filterwarnings('ignore')"
      ],
      "metadata": {
        "id": "qRFZ1EiXIvZr"
      },
      "execution_count": 1,
      "outputs": []
    },
    {
      "cell_type": "code",
      "source": [
        "# short_session을 제거한 다음 unpopular item을 제거하고, \n",
        "# 다시 길이가 1인 session이 생길 수 있어, 반복문을 통해 지속적으로 제거\n",
        "\n",
        "def cleanse_recursive(data: pd.DataFrame, shortest, least_click) -> pd.DataFrame:\n",
        "    while True:\n",
        "        before_len = len(data)\n",
        "        data = cleanse_short_session(data, shortest)\n",
        "        data = cleanse_unpopular_item(data, least_click)\n",
        "        after_len = len(data)\n",
        "        if before_len == after_len:\n",
        "            break\n",
        "    return data\n",
        "\n",
        "def cleanse_short_session(data: pd.DataFrame, shortest):\n",
        "    session_len = data.groupby('UserId').size()\n",
        "    session_use = session_len[session_len >= shortest].index\n",
        "    data = data[data['UserId'].isin(session_use)]\n",
        "    return data\n",
        "\n",
        "def cleanse_unpopular_item(data: pd.DataFrame, least_click):\n",
        "    item_popular = data.groupby('ItemId').size()\n",
        "    item_use = item_popular[item_popular >= least_click].index\n",
        "    data = data[data['ItemId'].isin(item_use)]\n",
        "    return data"
      ],
      "metadata": {
        "id": "wQpOdmbSTyUY"
      },
      "execution_count": null,
      "outputs": []
    },
    {
      "cell_type": "code",
      "source": [
        "def split_by_date(data: pd.DataFrame, n_days: int):\n",
        "    final_time = data['Time'].max()\n",
        "    session_last_time = data.groupby('Time')['Time'].max()\n",
        "    session_in_train = session_last_time[session_last_time < final_time - dt.timedelta(n_days)].index\n",
        "    session_in_test = session_last_time[session_last_time >= final_time - dt.timedelta(n_days)].index\n",
        "\n",
        "    before_date = data[data['Time'].isin(session_in_train)]\n",
        "    after_date = data[data['Time'].isin(session_in_test)]\n",
        "    # after_date = after_date[after_date['ItemId'].isin(before_date['ItemId'])]\n",
        "    return before_date, after_date"
      ],
      "metadata": {
        "id": "i3btH_pyUGTZ"
      },
      "execution_count": null,
      "outputs": []
    },
    {
      "cell_type": "code",
      "source": [
        "# data에 대한 정보를 살펴보기\n",
        "def stats_info(data: pd.DataFrame, status: str):\n",
        "    print(f'* {status} Set Stats Info\\n'\n",
        "          f'\\t Events: {len(data)}\\n'\n",
        "          f'\\t Sessions: {data[\"UserId\"].nunique()}\\n'\n",
        "          f'\\t Items: {data[\"ItemId\"].nunique()}\\n'\n",
        "          f'\\t First Time : {data[\"Time\"].min()}\\n'\n",
        "          f'\\t Last Time : {data[\"Time\"].max()}\\n')"
      ],
      "metadata": {
        "id": "PbyvfWUBUNQ3"
      },
      "execution_count": null,
      "outputs": []
    },
    {
      "cell_type": "code",
      "source": [
        "# SessionDataset\n",
        "class SessionDataset:\n",
        "    \"\"\"Credit to yhs-968/pyGRU4REC.\"\"\"\n",
        "\n",
        "    def __init__(self, data):\n",
        "        self.df = data\n",
        "        self.click_offsets = self.get_click_offsets()\n",
        "        self.session_idx = np.arange(self.df['UserId'].nunique())  # indexing to UserId\n",
        "\n",
        "    def get_click_offsets(self):\n",
        "        \"\"\"\n",
        "        Return the indexes of the first click of each session IDs,\n",
        "        \"\"\"\n",
        "        offsets = np.zeros(self.df['UserId'].nunique() + 1, dtype=np.int32)\n",
        "        offsets[1:] = self.df.groupby('UserId').size().cumsum()\n",
        "        return offsets"
      ],
      "metadata": {
        "id": "4Y3ZoggOUZjc"
      },
      "execution_count": null,
      "outputs": []
    },
    {
      "cell_type": "code",
      "source": [
        "# SessionDataLoader\n",
        "class SessionDataLoader:\n",
        "    def __init__(self, dataset: SessionDataset, batch_size=50):\n",
        "        self.dataset = dataset\n",
        "        self.batch_size = batch_size\n",
        "\n",
        "    def __iter__(self):\n",
        "        start, end, mask, last_session, finished = self.initialize()  # initialize 메소드에서 확인\n",
        "        while not finished:\n",
        "            min_len = (end - start).min() - 1  # Shortest Length Among Sessions\n",
        "            for i in range(min_len):\n",
        "                # Build inputs & targets\n",
        "                inp = self.dataset.df['item_idx'].values[start + i]\n",
        "                target = self.dataset.df['item_idx'].values[start + i + 1]\n",
        "                yield inp, target, mask\n",
        "\n",
        "            start, end, mask, last_session, finished = self.update_status(start, end, min_len, last_session, finished)\n",
        "\n",
        "    def initialize(self):\n",
        "        first_iters = np.arange(self.batch_size)    # 첫 배치에 사용할 세션 Index를 가져옵니다.\n",
        "        last_session = self.batch_size - 1    # 마지막으로 다루고 있는 세션 Index를 저장해둡니다.\n",
        "        start = self.dataset.click_offsets[self.dataset.session_idx[first_iters]]       # data 상에서 session이 시작된 위치를 가져옵니다.\n",
        "        end = self.dataset.click_offsets[self.dataset.session_idx[first_iters] + 1]  # session이 끝난 위치 바로 다음 위치를 가져옵니다.\n",
        "        mask = np.array([])   # session의 모든 아이템을 다 돌은 경우 mask에 추가해줄 것입니다.\n",
        "        finished = False         # data를 전부 돌았는지 기록하기 위한 변수입니다.\n",
        "        return start, end, mask, last_session, finished\n",
        "\n",
        "    def update_status(self, start: np.ndarray, end: np.ndarray, min_len: int, last_session: int, finished: bool):  \n",
        "        # 다음 배치 데이터를 생성하기 위해 상태를 update합니다.\n",
        "        \n",
        "        start += min_len   # __iter__에서 min_len 만큼 for문을 돌았으므로 start를 min_len 만큼 더해줍니다.\n",
        "        mask = np.arange(self.batch_size)[(end - start) == 1]  \n",
        "        # end는 다음 세션이 시작되는 위치인데 start와 한 칸 차이난다는 것은 session이 끝났다는 뜻입니다. mask에 기록해줍니다.\n",
        "\n",
        "        for i, idx in enumerate(mask, start=1):  # mask에 추가된 세션 개수만큼 새로운 세션을 돌것입니다.\n",
        "            new_session = last_session + i  \n",
        "            if new_session > self.dataset.session_idx[-1]:  # 만약 새로운 세션이 마지막 세션 index보다 크다면 모든 학습데이터를 돈 것입니다.\n",
        "                finished = True\n",
        "                break\n",
        "            # update the next starting/ending point\n",
        "            start[idx] = self.dataset.click_offsets[self.dataset.session_idx[new_session]]     # 종료된 세션 대신 새로운 세션의 시작점을 기록합니다.\n",
        "            end[idx] = self.dataset.click_offsets[self.dataset.session_idx[new_session] + 1]\n",
        "\n",
        "        last_session += len(mask)  # 마지막 세션의 위치를 기록해둡니다.\n",
        "        return start, end, mask, last_session, finished"
      ],
      "metadata": {
        "id": "u5Igo_VcUeu3"
      },
      "execution_count": null,
      "outputs": []
    },
    {
      "cell_type": "code",
      "source": [
        "# train 셋으로 학습하면서 valid 셋으로 검증\n",
        "from matplotlib.pylab import rcParams\n",
        "\n",
        "def train_model(model, args):\n",
        "    train_dataset = SessionDataset(args.tr)\n",
        "    train_loader = SessionDataLoader(train_dataset, batch_size=args.batch_size)\n",
        "     \n",
        "    history = {'train_loss':[], 'accuracy':[], 'val_recall':[], 'val_mrr':[]}\n",
        "\n",
        "    for epoch in range(1, args.epochs + 1):\n",
        "\n",
        "        total_step = len(args.tr) - args.tr['UserId'].nunique()\n",
        "        tr_loader = tqdm(train_loader, total=total_step // args.batch_size, desc='Train', mininterval=1)\n",
        "        for feat, target, mask in tr_loader:\n",
        "            reset_hidden_states(model, mask)  # 종료된 session은 hidden_state를 초기화합니다. 아래 메서드에서 확인해주세요.\n",
        "\n",
        "            input_ohe = to_categorical(feat, num_classes=args.num_items)\n",
        "            input_ohe = np.expand_dims(input_ohe, axis=1)\n",
        "            target_ohe = to_categorical(target, num_classes=args.num_items)\n",
        "\n",
        "            result = model.train_on_batch(input_ohe, target_ohe)\n",
        "            tr_loader.set_postfix(train_loss=result[0], accuracy = result[1])\n",
        "        \n",
        "\n",
        "\n",
        "        val_recall, val_mrr = get_metrics(args.val, model, args, args.k)  # valid set에 대해 검증합니다.\n",
        "\n",
        "        print(f\"\\t - Recall@{args.k} epoch {epoch}: {val_recall:3f}\")\n",
        "        print(f\"\\t - MRR@{args.k}    epoch {epoch}: {val_mrr:3f}\\n\")\n",
        "\n",
        "        history['val_recall'].append(val_recall)\n",
        "        history['val_mrr'].append(val_mrr)\n",
        "\n",
        "    rcParams['figure.figsize'] = 15, 6\n",
        "    plt.subplot(1,2,1)\n",
        "    plt.plot(history['val_recall'])  \n",
        "    plt.title('val_recall')  \n",
        "    plt.xlabel('epochs')  \n",
        "\n",
        "    plt.subplot(1,2,2)  \n",
        "    plt.plot(history['val_mrr'])  \n",
        "    plt.title('val_mrr')  \n",
        "    plt.xlabel('epochs')  \n",
        "\n",
        "def reset_hidden_states(model, mask):\n",
        "    gru_layer = model.get_layer(name='GRU')  # model에서 gru layer를 가져옵니다.\n",
        "    hidden_states = gru_layer.states[0].numpy()  # gru_layer의 parameter를 가져옵니다.\n",
        "    for elt in mask:  # mask된 인덱스 즉, 종료된 세션의 인덱스를 돌면서\n",
        "        hidden_states[elt, :] = 0  # parameter를 초기화 합니다.\n",
        "    gru_layer.reset_states(states=hidden_states)\n",
        "\n",
        "def get_metrics(data, model, args, k: int):  # valid셋과 test셋을 평가하는 코드입니다. \n",
        "                                             # train과 거의 같지만 mrr, recall을 구하는 라인이 있습니다.\n",
        "    dataset = SessionDataset(data)\n",
        "    loader = SessionDataLoader(dataset, batch_size=args.batch_size)\n",
        "    recall_list, mrr_list = [], []\n",
        "\n",
        "    total_step = len(data) - data['UserId'].nunique()\n",
        "    for inputs, label, mask in tqdm(loader, total=total_step // args.batch_size, desc='Evaluation', mininterval=1):\n",
        "        reset_hidden_states(model, mask)\n",
        "        input_ohe = to_categorical(inputs, num_classes=args.num_items)\n",
        "        input_ohe = np.expand_dims(input_ohe, axis=1)\n",
        "\n",
        "        pred = model.predict(input_ohe, batch_size=args.batch_size)\n",
        "        pred_arg = tf.argsort(pred, direction='DESCENDING')  # softmax 값이 큰 순서대로 sorting 합니다.\n",
        "\n",
        "        length = len(inputs)\n",
        "        recall_list.extend([recall_k(pred_arg[i], label[i], k) for i in range(length)])\n",
        "        mrr_list.extend([mrr_k(pred_arg[i], label[i], k) for i in range(length)])\n",
        "\n",
        "    recall, mrr = np.mean(recall_list), np.mean(mrr_list)\n",
        "    return recall, mrr"
      ],
      "metadata": {
        "id": "RPA2CCo_Mh1u"
      },
      "execution_count": 89,
      "outputs": []
    },
    {
      "cell_type": "code",
      "source": [
        "def test_model(model, args, test):\n",
        "    test_recall, test_mrr = get_metrics(test, model, args, 20)\n",
        "    print(f\"\\t - Recall@{args.k}: {test_recall:3f}\")\n",
        "    print(f\"\\t - MRR@{args.k}: {test_mrr:3f}\\n\")"
      ],
      "metadata": {
        "id": "xPX9TvBbMoc4"
      },
      "execution_count": 58,
      "outputs": []
    },
    {
      "cell_type": "markdown",
      "source": [
        "##1.2: 데이터"
      ],
      "metadata": {
        "id": "dW7jrHGJ5ylS"
      }
    },
    {
      "cell_type": "code",
      "source": [
        "# 디렉토리\n",
        "from google.colab import drive\n",
        "drive.mount('/content/drive')\n",
        "colab_dir = '/content/drive/MyDrive/colab/ExplNode17'"
      ],
      "metadata": {
        "colab": {
          "base_uri": "https://localhost:8080/"
        },
        "id": "ccZZe8ZV51A-",
        "outputId": "8b01067f-24c3-4fec-9020-0a0f59cb69e5"
      },
      "execution_count": 2,
      "outputs": [
        {
          "output_type": "stream",
          "name": "stdout",
          "text": [
            "Mounted at /content/drive\n"
          ]
        }
      ]
    },
    {
      "cell_type": "code",
      "source": [
        "data_path = Path(colab_dir + '/data/') \n",
        "train_path = data_path / 'ratings.dat'\n",
        "\n",
        "def load_data(data_path: Path, nrows=None):\n",
        "    data = pd.read_csv(data_path, sep='::', header=None, usecols=[0, 1, 2, 3], dtype={0: np.int32, 1: np.int32, 2: np.int32}, nrows=nrows)\n",
        "    data.columns = ['UserId', 'ItemId', 'Rating', 'Time']\n",
        "    return data\n",
        "\n",
        "data = load_data(train_path, None)\n",
        "data.sort_values(['UserId', 'Time'], inplace=True)  # data를 id와 시간 순서로 정렬"
      ],
      "metadata": {
        "id": "mRldZeSOJIXZ"
      },
      "execution_count": 20,
      "outputs": []
    },
    {
      "cell_type": "code",
      "source": [
        "data"
      ],
      "metadata": {
        "colab": {
          "base_uri": "https://localhost:8080/",
          "height": 424
        },
        "id": "afv2XJJkJWyj",
        "outputId": "9ccf1bbc-96bd-47b9-8b1a-cd301c1b97ef"
      },
      "execution_count": 21,
      "outputs": [
        {
          "output_type": "execute_result",
          "data": {
            "text/plain": [
              "         UserId  ItemId  Rating       Time\n",
              "31            1    3186       4  978300019\n",
              "22            1    1270       5  978300055\n",
              "27            1    1721       4  978300055\n",
              "37            1    1022       5  978300055\n",
              "24            1    2340       3  978300103\n",
              "...         ...     ...     ...        ...\n",
              "1000019    6040    2917       4  997454429\n",
              "999988     6040    1921       4  997454464\n",
              "1000172    6040    1784       3  997454464\n",
              "1000167    6040     161       3  997454486\n",
              "1000042    6040    1221       4  998315055\n",
              "\n",
              "[1000209 rows x 4 columns]"
            ],
            "text/html": [
              "\n",
              "  <div id=\"df-47b110eb-7c67-4ed2-a168-bf6f20cddbb4\">\n",
              "    <div class=\"colab-df-container\">\n",
              "      <div>\n",
              "<style scoped>\n",
              "    .dataframe tbody tr th:only-of-type {\n",
              "        vertical-align: middle;\n",
              "    }\n",
              "\n",
              "    .dataframe tbody tr th {\n",
              "        vertical-align: top;\n",
              "    }\n",
              "\n",
              "    .dataframe thead th {\n",
              "        text-align: right;\n",
              "    }\n",
              "</style>\n",
              "<table border=\"1\" class=\"dataframe\">\n",
              "  <thead>\n",
              "    <tr style=\"text-align: right;\">\n",
              "      <th></th>\n",
              "      <th>UserId</th>\n",
              "      <th>ItemId</th>\n",
              "      <th>Rating</th>\n",
              "      <th>Time</th>\n",
              "    </tr>\n",
              "  </thead>\n",
              "  <tbody>\n",
              "    <tr>\n",
              "      <th>31</th>\n",
              "      <td>1</td>\n",
              "      <td>3186</td>\n",
              "      <td>4</td>\n",
              "      <td>978300019</td>\n",
              "    </tr>\n",
              "    <tr>\n",
              "      <th>22</th>\n",
              "      <td>1</td>\n",
              "      <td>1270</td>\n",
              "      <td>5</td>\n",
              "      <td>978300055</td>\n",
              "    </tr>\n",
              "    <tr>\n",
              "      <th>27</th>\n",
              "      <td>1</td>\n",
              "      <td>1721</td>\n",
              "      <td>4</td>\n",
              "      <td>978300055</td>\n",
              "    </tr>\n",
              "    <tr>\n",
              "      <th>37</th>\n",
              "      <td>1</td>\n",
              "      <td>1022</td>\n",
              "      <td>5</td>\n",
              "      <td>978300055</td>\n",
              "    </tr>\n",
              "    <tr>\n",
              "      <th>24</th>\n",
              "      <td>1</td>\n",
              "      <td>2340</td>\n",
              "      <td>3</td>\n",
              "      <td>978300103</td>\n",
              "    </tr>\n",
              "    <tr>\n",
              "      <th>...</th>\n",
              "      <td>...</td>\n",
              "      <td>...</td>\n",
              "      <td>...</td>\n",
              "      <td>...</td>\n",
              "    </tr>\n",
              "    <tr>\n",
              "      <th>1000019</th>\n",
              "      <td>6040</td>\n",
              "      <td>2917</td>\n",
              "      <td>4</td>\n",
              "      <td>997454429</td>\n",
              "    </tr>\n",
              "    <tr>\n",
              "      <th>999988</th>\n",
              "      <td>6040</td>\n",
              "      <td>1921</td>\n",
              "      <td>4</td>\n",
              "      <td>997454464</td>\n",
              "    </tr>\n",
              "    <tr>\n",
              "      <th>1000172</th>\n",
              "      <td>6040</td>\n",
              "      <td>1784</td>\n",
              "      <td>3</td>\n",
              "      <td>997454464</td>\n",
              "    </tr>\n",
              "    <tr>\n",
              "      <th>1000167</th>\n",
              "      <td>6040</td>\n",
              "      <td>161</td>\n",
              "      <td>3</td>\n",
              "      <td>997454486</td>\n",
              "    </tr>\n",
              "    <tr>\n",
              "      <th>1000042</th>\n",
              "      <td>6040</td>\n",
              "      <td>1221</td>\n",
              "      <td>4</td>\n",
              "      <td>998315055</td>\n",
              "    </tr>\n",
              "  </tbody>\n",
              "</table>\n",
              "<p>1000209 rows × 4 columns</p>\n",
              "</div>\n",
              "      <button class=\"colab-df-convert\" onclick=\"convertToInteractive('df-47b110eb-7c67-4ed2-a168-bf6f20cddbb4')\"\n",
              "              title=\"Convert this dataframe to an interactive table.\"\n",
              "              style=\"display:none;\">\n",
              "        \n",
              "  <svg xmlns=\"http://www.w3.org/2000/svg\" height=\"24px\"viewBox=\"0 0 24 24\"\n",
              "       width=\"24px\">\n",
              "    <path d=\"M0 0h24v24H0V0z\" fill=\"none\"/>\n",
              "    <path d=\"M18.56 5.44l.94 2.06.94-2.06 2.06-.94-2.06-.94-.94-2.06-.94 2.06-2.06.94zm-11 1L8.5 8.5l.94-2.06 2.06-.94-2.06-.94L8.5 2.5l-.94 2.06-2.06.94zm10 10l.94 2.06.94-2.06 2.06-.94-2.06-.94-.94-2.06-.94 2.06-2.06.94z\"/><path d=\"M17.41 7.96l-1.37-1.37c-.4-.4-.92-.59-1.43-.59-.52 0-1.04.2-1.43.59L10.3 9.45l-7.72 7.72c-.78.78-.78 2.05 0 2.83L4 21.41c.39.39.9.59 1.41.59.51 0 1.02-.2 1.41-.59l7.78-7.78 2.81-2.81c.8-.78.8-2.07 0-2.86zM5.41 20L4 18.59l7.72-7.72 1.47 1.35L5.41 20z\"/>\n",
              "  </svg>\n",
              "      </button>\n",
              "      \n",
              "  <style>\n",
              "    .colab-df-container {\n",
              "      display:flex;\n",
              "      flex-wrap:wrap;\n",
              "      gap: 12px;\n",
              "    }\n",
              "\n",
              "    .colab-df-convert {\n",
              "      background-color: #E8F0FE;\n",
              "      border: none;\n",
              "      border-radius: 50%;\n",
              "      cursor: pointer;\n",
              "      display: none;\n",
              "      fill: #1967D2;\n",
              "      height: 32px;\n",
              "      padding: 0 0 0 0;\n",
              "      width: 32px;\n",
              "    }\n",
              "\n",
              "    .colab-df-convert:hover {\n",
              "      background-color: #E2EBFA;\n",
              "      box-shadow: 0px 1px 2px rgba(60, 64, 67, 0.3), 0px 1px 3px 1px rgba(60, 64, 67, 0.15);\n",
              "      fill: #174EA6;\n",
              "    }\n",
              "\n",
              "    [theme=dark] .colab-df-convert {\n",
              "      background-color: #3B4455;\n",
              "      fill: #D2E3FC;\n",
              "    }\n",
              "\n",
              "    [theme=dark] .colab-df-convert:hover {\n",
              "      background-color: #434B5C;\n",
              "      box-shadow: 0px 1px 3px 1px rgba(0, 0, 0, 0.15);\n",
              "      filter: drop-shadow(0px 1px 2px rgba(0, 0, 0, 0.3));\n",
              "      fill: #FFFFFF;\n",
              "    }\n",
              "  </style>\n",
              "\n",
              "      <script>\n",
              "        const buttonEl =\n",
              "          document.querySelector('#df-47b110eb-7c67-4ed2-a168-bf6f20cddbb4 button.colab-df-convert');\n",
              "        buttonEl.style.display =\n",
              "          google.colab.kernel.accessAllowed ? 'block' : 'none';\n",
              "\n",
              "        async function convertToInteractive(key) {\n",
              "          const element = document.querySelector('#df-47b110eb-7c67-4ed2-a168-bf6f20cddbb4');\n",
              "          const dataTable =\n",
              "            await google.colab.kernel.invokeFunction('convertToInteractive',\n",
              "                                                     [key], {});\n",
              "          if (!dataTable) return;\n",
              "\n",
              "          const docLinkHtml = 'Like what you see? Visit the ' +\n",
              "            '<a target=\"_blank\" href=https://colab.research.google.com/notebooks/data_table.ipynb>data table notebook</a>'\n",
              "            + ' to learn more about interactive tables.';\n",
              "          element.innerHTML = '';\n",
              "          dataTable['output_type'] = 'display_data';\n",
              "          await google.colab.output.renderOutput(dataTable, element);\n",
              "          const docLink = document.createElement('div');\n",
              "          docLink.innerHTML = docLinkHtml;\n",
              "          element.appendChild(docLink);\n",
              "        }\n",
              "      </script>\n",
              "    </div>\n",
              "  </div>\n",
              "  "
            ]
          },
          "metadata": {},
          "execution_count": 21
        }
      ]
    },
    {
      "cell_type": "markdown",
      "source": [
        "# 2: 데이터의 전처리"
      ],
      "metadata": {
        "id": "akZ6Xq0hAzlw"
      }
    },
    {
      "cell_type": "markdown",
      "source": [
        "##2.1: 유저 수(세션 수)와 아이템 수"
      ],
      "metadata": {
        "id": "Tv8q-UWzVk-Z"
      }
    },
    {
      "cell_type": "code",
      "source": [
        "# 유저 수(세션 수)와 아이템 수 확인\n",
        "data['UserId'].nunique(), data['ItemId'].nunique()"
      ],
      "metadata": {
        "colab": {
          "base_uri": "https://localhost:8080/"
        },
        "id": "r24i_EGmUto-",
        "outputId": "77609e62-bc00-4719-fe5b-a88ad42b6e63"
      },
      "execution_count": 22,
      "outputs": [
        {
          "output_type": "execute_result",
          "data": {
            "text/plain": [
              "(6040, 3706)"
            ]
          },
          "metadata": {},
          "execution_count": 22
        }
      ]
    },
    {
      "cell_type": "markdown",
      "source": [
        "## 2.2: Session Length"
      ],
      "metadata": {
        "id": "cfvwIm7h5nmE"
      }
    },
    {
      "cell_type": "code",
      "execution_count": 23,
      "source": [
        "# UserId를 SessionId로 해석하고, 각 세션별 클릭 데이터를 분석\n",
        "session_length = data.groupby('UserId').size()\n",
        "session_length"
      ],
      "outputs": [
        {
          "output_type": "execute_result",
          "data": {
            "text/plain": [
              "UserId\n",
              "1        53\n",
              "2       129\n",
              "3        51\n",
              "4        21\n",
              "5       198\n",
              "       ... \n",
              "6036    888\n",
              "6037    202\n",
              "6038     20\n",
              "6039    123\n",
              "6040    341\n",
              "Length: 6040, dtype: int64"
            ]
          },
          "metadata": {},
          "execution_count": 23
        }
      ],
      "metadata": {
        "colab": {
          "base_uri": "https://localhost:8080/"
        },
        "id": "NGnAwElc5nmF",
        "outputId": "0257c87f-8f40-40ae-e1c4-b31afaf1b67b"
      }
    },
    {
      "cell_type": "code",
      "execution_count": 24,
      "source": [
        "# session length의 median값 session length으ㅢ .mean값\n",
        "session_length.median(), session_length.mean()"
      ],
      "outputs": [
        {
          "output_type": "execute_result",
          "data": {
            "text/plain": [
              "(96.0, 165.5975165562914)"
            ]
          },
          "metadata": {},
          "execution_count": 24
        }
      ],
      "metadata": {
        "colab": {
          "base_uri": "https://localhost:8080/"
        },
        "id": "ju0molFM5nmG",
        "outputId": "9b84aca9-4077-4f94-f148-03388b143aa4"
      }
    },
    {
      "cell_type": "code",
      "execution_count": 25,
      "source": [
        "# session length의 min값, session length의 max값\n",
        "session_length.min(), session_length.max()"
      ],
      "outputs": [
        {
          "output_type": "execute_result",
          "data": {
            "text/plain": [
              "(20, 2314)"
            ]
          },
          "metadata": {},
          "execution_count": 25
        }
      ],
      "metadata": {
        "colab": {
          "base_uri": "https://localhost:8080/"
        },
        "id": "V35kyREV5nmH",
        "outputId": "098b3c64-086b-414d-90fa-f941d1ebdddf"
      }
    },
    {
      "cell_type": "code",
      "execution_count": 26,
      "source": [
        "# session length의 quantile(0.999): 분위수(99.9%)\n",
        "session_length.quantile(0.999)"
      ],
      "outputs": [
        {
          "output_type": "execute_result",
          "data": {
            "text/plain": [
              "1343.181000000005"
            ]
          },
          "metadata": {},
          "execution_count": 26
        }
      ],
      "metadata": {
        "colab": {
          "base_uri": "https://localhost:8080/"
        },
        "id": "ZvKyKaUd5nmH",
        "outputId": "92debb2a-3f37-432a-85a5-0336a32d6b1f"
      }
    },
    {
      "cell_type": "code",
      "execution_count": 27,
      "source": [
        "# 길이가 100인 세션은 뭔가 이상할 수 있어, 그 중 하나를 파악\n",
        "long_session = session_length[session_length==100].index[0]\n",
        "data[data['UserId']==long_session]"
      ],
      "outputs": [
        {
          "output_type": "execute_result",
          "data": {
            "text/plain": [
              "      UserId  ItemId  Rating       Time\n",
              "5428      38     587       4  978044341\n",
              "5479      38    3072       4  978044383\n",
              "5467      38     356       4  978044437\n",
              "5516      38     490       2  978044437\n",
              "5498      38     531       3  978044473\n",
              "...      ...     ...     ...        ...\n",
              "5452      38      13       3  978046407\n",
              "5490      38     455       3  978046465\n",
              "5464      38    1380       4  978046582\n",
              "5433      38    3948       4  978046603\n",
              "5481      38     296       3  978047091\n",
              "\n",
              "[100 rows x 4 columns]"
            ],
            "text/html": [
              "\n",
              "  <div id=\"df-accf6a96-ee74-4195-90af-40df04b2ddc1\">\n",
              "    <div class=\"colab-df-container\">\n",
              "      <div>\n",
              "<style scoped>\n",
              "    .dataframe tbody tr th:only-of-type {\n",
              "        vertical-align: middle;\n",
              "    }\n",
              "\n",
              "    .dataframe tbody tr th {\n",
              "        vertical-align: top;\n",
              "    }\n",
              "\n",
              "    .dataframe thead th {\n",
              "        text-align: right;\n",
              "    }\n",
              "</style>\n",
              "<table border=\"1\" class=\"dataframe\">\n",
              "  <thead>\n",
              "    <tr style=\"text-align: right;\">\n",
              "      <th></th>\n",
              "      <th>UserId</th>\n",
              "      <th>ItemId</th>\n",
              "      <th>Rating</th>\n",
              "      <th>Time</th>\n",
              "    </tr>\n",
              "  </thead>\n",
              "  <tbody>\n",
              "    <tr>\n",
              "      <th>5428</th>\n",
              "      <td>38</td>\n",
              "      <td>587</td>\n",
              "      <td>4</td>\n",
              "      <td>978044341</td>\n",
              "    </tr>\n",
              "    <tr>\n",
              "      <th>5479</th>\n",
              "      <td>38</td>\n",
              "      <td>3072</td>\n",
              "      <td>4</td>\n",
              "      <td>978044383</td>\n",
              "    </tr>\n",
              "    <tr>\n",
              "      <th>5467</th>\n",
              "      <td>38</td>\n",
              "      <td>356</td>\n",
              "      <td>4</td>\n",
              "      <td>978044437</td>\n",
              "    </tr>\n",
              "    <tr>\n",
              "      <th>5516</th>\n",
              "      <td>38</td>\n",
              "      <td>490</td>\n",
              "      <td>2</td>\n",
              "      <td>978044437</td>\n",
              "    </tr>\n",
              "    <tr>\n",
              "      <th>5498</th>\n",
              "      <td>38</td>\n",
              "      <td>531</td>\n",
              "      <td>3</td>\n",
              "      <td>978044473</td>\n",
              "    </tr>\n",
              "    <tr>\n",
              "      <th>...</th>\n",
              "      <td>...</td>\n",
              "      <td>...</td>\n",
              "      <td>...</td>\n",
              "      <td>...</td>\n",
              "    </tr>\n",
              "    <tr>\n",
              "      <th>5452</th>\n",
              "      <td>38</td>\n",
              "      <td>13</td>\n",
              "      <td>3</td>\n",
              "      <td>978046407</td>\n",
              "    </tr>\n",
              "    <tr>\n",
              "      <th>5490</th>\n",
              "      <td>38</td>\n",
              "      <td>455</td>\n",
              "      <td>3</td>\n",
              "      <td>978046465</td>\n",
              "    </tr>\n",
              "    <tr>\n",
              "      <th>5464</th>\n",
              "      <td>38</td>\n",
              "      <td>1380</td>\n",
              "      <td>4</td>\n",
              "      <td>978046582</td>\n",
              "    </tr>\n",
              "    <tr>\n",
              "      <th>5433</th>\n",
              "      <td>38</td>\n",
              "      <td>3948</td>\n",
              "      <td>4</td>\n",
              "      <td>978046603</td>\n",
              "    </tr>\n",
              "    <tr>\n",
              "      <th>5481</th>\n",
              "      <td>38</td>\n",
              "      <td>296</td>\n",
              "      <td>3</td>\n",
              "      <td>978047091</td>\n",
              "    </tr>\n",
              "  </tbody>\n",
              "</table>\n",
              "<p>100 rows × 4 columns</p>\n",
              "</div>\n",
              "      <button class=\"colab-df-convert\" onclick=\"convertToInteractive('df-accf6a96-ee74-4195-90af-40df04b2ddc1')\"\n",
              "              title=\"Convert this dataframe to an interactive table.\"\n",
              "              style=\"display:none;\">\n",
              "        \n",
              "  <svg xmlns=\"http://www.w3.org/2000/svg\" height=\"24px\"viewBox=\"0 0 24 24\"\n",
              "       width=\"24px\">\n",
              "    <path d=\"M0 0h24v24H0V0z\" fill=\"none\"/>\n",
              "    <path d=\"M18.56 5.44l.94 2.06.94-2.06 2.06-.94-2.06-.94-.94-2.06-.94 2.06-2.06.94zm-11 1L8.5 8.5l.94-2.06 2.06-.94-2.06-.94L8.5 2.5l-.94 2.06-2.06.94zm10 10l.94 2.06.94-2.06 2.06-.94-2.06-.94-.94-2.06-.94 2.06-2.06.94z\"/><path d=\"M17.41 7.96l-1.37-1.37c-.4-.4-.92-.59-1.43-.59-.52 0-1.04.2-1.43.59L10.3 9.45l-7.72 7.72c-.78.78-.78 2.05 0 2.83L4 21.41c.39.39.9.59 1.41.59.51 0 1.02-.2 1.41-.59l7.78-7.78 2.81-2.81c.8-.78.8-2.07 0-2.86zM5.41 20L4 18.59l7.72-7.72 1.47 1.35L5.41 20z\"/>\n",
              "  </svg>\n",
              "      </button>\n",
              "      \n",
              "  <style>\n",
              "    .colab-df-container {\n",
              "      display:flex;\n",
              "      flex-wrap:wrap;\n",
              "      gap: 12px;\n",
              "    }\n",
              "\n",
              "    .colab-df-convert {\n",
              "      background-color: #E8F0FE;\n",
              "      border: none;\n",
              "      border-radius: 50%;\n",
              "      cursor: pointer;\n",
              "      display: none;\n",
              "      fill: #1967D2;\n",
              "      height: 32px;\n",
              "      padding: 0 0 0 0;\n",
              "      width: 32px;\n",
              "    }\n",
              "\n",
              "    .colab-df-convert:hover {\n",
              "      background-color: #E2EBFA;\n",
              "      box-shadow: 0px 1px 2px rgba(60, 64, 67, 0.3), 0px 1px 3px 1px rgba(60, 64, 67, 0.15);\n",
              "      fill: #174EA6;\n",
              "    }\n",
              "\n",
              "    [theme=dark] .colab-df-convert {\n",
              "      background-color: #3B4455;\n",
              "      fill: #D2E3FC;\n",
              "    }\n",
              "\n",
              "    [theme=dark] .colab-df-convert:hover {\n",
              "      background-color: #434B5C;\n",
              "      box-shadow: 0px 1px 3px 1px rgba(0, 0, 0, 0.15);\n",
              "      filter: drop-shadow(0px 1px 2px rgba(0, 0, 0, 0.3));\n",
              "      fill: #FFFFFF;\n",
              "    }\n",
              "  </style>\n",
              "\n",
              "      <script>\n",
              "        const buttonEl =\n",
              "          document.querySelector('#df-accf6a96-ee74-4195-90af-40df04b2ddc1 button.colab-df-convert');\n",
              "        buttonEl.style.display =\n",
              "          google.colab.kernel.accessAllowed ? 'block' : 'none';\n",
              "\n",
              "        async function convertToInteractive(key) {\n",
              "          const element = document.querySelector('#df-accf6a96-ee74-4195-90af-40df04b2ddc1');\n",
              "          const dataTable =\n",
              "            await google.colab.kernel.invokeFunction('convertToInteractive',\n",
              "                                                     [key], {});\n",
              "          if (!dataTable) return;\n",
              "\n",
              "          const docLinkHtml = 'Like what you see? Visit the ' +\n",
              "            '<a target=\"_blank\" href=https://colab.research.google.com/notebooks/data_table.ipynb>data table notebook</a>'\n",
              "            + ' to learn more about interactive tables.';\n",
              "          element.innerHTML = '';\n",
              "          dataTable['output_type'] = 'display_data';\n",
              "          await google.colab.output.renderOutput(dataTable, element);\n",
              "          const docLink = document.createElement('div');\n",
              "          docLink.innerHTML = docLinkHtml;\n",
              "          element.appendChild(docLink);\n",
              "        }\n",
              "      </script>\n",
              "    </div>\n",
              "  </div>\n",
              "  "
            ]
          },
          "metadata": {},
          "execution_count": 27
        }
      ],
      "metadata": {
        "colab": {
          "base_uri": "https://localhost:8080/",
          "height": 424
        },
        "id": "5R3R7Ojm5nmI",
        "outputId": "d8edcfc6-aa11-4cd0-8c53-54e549ba1c71"
      }
    },
    {
      "cell_type": "code",
      "execution_count": 28,
      "source": [
        "# 세션 길이 기준 하위 99.9%까지의 분포 누적합을 시각화한 것\n",
        "length_count = session_length.groupby(session_length).size()\n",
        "length_percent_cumsum = length_count.cumsum() / length_count.sum()\n",
        "length_percent_cumsum_999 = length_percent_cumsum[length_percent_cumsum < 0.999]\n",
        "\n",
        "length_percent_cumsum_999"
      ],
      "outputs": [
        {
          "output_type": "execute_result",
          "data": {
            "text/plain": [
              "20      0.014238\n",
              "21      0.029305\n",
              "22      0.042053\n",
              "23      0.055464\n",
              "24      0.068874\n",
              "          ...   \n",
              "1271    0.998179\n",
              "1277    0.998344\n",
              "1286    0.998510\n",
              "1302    0.998675\n",
              "1323    0.998841\n",
              "Length: 736, dtype: float64"
            ]
          },
          "metadata": {},
          "execution_count": 28
        }
      ],
      "metadata": {
        "colab": {
          "base_uri": "https://localhost:8080/"
        },
        "id": "9iq5Dd9-5nmJ",
        "outputId": "01786a96-fd98-485a-fbbb-c5fec6e858f3"
      }
    },
    {
      "cell_type": "code",
      "execution_count": 13,
      "source": [
        "plt.figure(figsize=(20, 10))\n",
        "plt.bar(x=length_percent_cumsum_999.index,\n",
        "        height=length_percent_cumsum_999, color='blue')\n",
        "plt.xticks(length_percent_cumsum_999.index, fontsize=10, rotation = 90)\n",
        "plt.yticks(np.arange(0, 1.01, 0.05))\n",
        "plt.title('Cumsum Percentage Until 0.999', size=20)\n",
        "plt.show()"
      ],
      "outputs": [
        {
          "output_type": "display_data",
          "data": {
            "text/plain": [
              "<Figure size 1440x720 with 1 Axes>"
            ],
            "image/png": "[encoded data removed]"
          },
          "metadata": {
            "needs_background": "light"
          }
        }
      ],
      "metadata": {
        "colab": {
          "base_uri": "https://localhost:8080/",
          "height": 483
        },
        "id": "UVhhimbK5nmJ",
        "outputId": "e74ced54-3eb5-43ea-c003-d61ff9b9e3bf"
      }
    },
    {
      "cell_type": "markdown",
      "source": [
        "##2.3: Session Time"
      ],
      "metadata": {
        "id": "ePf139vXS39W"
      }
    },
    {
      "cell_type": "code",
      "source": [
        "# time의 표현 방식 변경하기\n",
        "data['Time'] = data['Time'].apply(dt.datetime.fromtimestamp)"
      ],
      "metadata": {
        "id": "O6RUJIVzg0k1"
      },
      "execution_count": 29,
      "outputs": []
    },
    {
      "cell_type": "code",
      "source": [
        "# 데이터의 시간 관련 정보 파악\n",
        "oldest, latest = data['Time'].min(), data['Time'].max()\n",
        "print(oldest)\n",
        "print(latest)"
      ],
      "metadata": {
        "colab": {
          "base_uri": "https://localhost:8080/"
        },
        "id": "x1UFJevjjyGy",
        "outputId": "8faec621-7bf4-43e7-e1fa-59d53f040652"
      },
      "execution_count": 30,
      "outputs": [
        {
          "output_type": "stream",
          "name": "stdout",
          "text": [
            "2000-04-25 23:05:32\n",
            "2003-02-28 17:49:50\n"
          ]
        }
      ]
    },
    {
      "cell_type": "markdown",
      "source": [
        "## 2.4: Data Cleansing"
      ],
      "metadata": {
        "id": "mmZssZPo5nmM"
      }
    },
    {
      "cell_type": "code",
      "source": [
        "data1 = data1.sort_values('Time')"
      ],
      "metadata": {
        "id": "L5MxHS9CFQNf"
      },
      "execution_count": 34,
      "outputs": []
    },
    {
      "cell_type": "code",
      "execution_count": 35,
      "source": [
        "# data cleansing; Each user has at least 20 ratings\n",
        "data1 = cleanse_recursive(data1, shortest=4, least_click=20)\n",
        "data1"
      ],
      "outputs": [
        {
          "output_type": "execute_result",
          "data": {
            "text/plain": [
              "         UserId  ItemId  Rating                Time\n",
              "1000138    6040     858       4 2000-04-25 23:05:32\n",
              "999873     6040     593       5 2000-04-25 23:05:54\n",
              "1000153    6040    2384       4 2000-04-25 23:05:54\n",
              "1000007    6040    1961       4 2000-04-25 23:06:17\n",
              "1000192    6040    2019       5 2000-04-25 23:06:17\n",
              "...         ...     ...     ...                 ...\n",
              "825497     4958    2453       4 2003-02-28 17:44:20\n",
              "825526     4958    3489       4 2003-02-28 17:45:20\n",
              "825438     4958    1407       5 2003-02-28 17:47:23\n",
              "825724     4958    3264       4 2003-02-28 17:49:08\n",
              "825603     4958    1924       4 2003-02-28 17:49:50\n",
              "\n",
              "[569247 rows x 4 columns]"
            ],
            "text/html": [
              "\n",
              "  <div id=\"df-e3212890-aaac-4c65-98e8-115a6ec03bb5\">\n",
              "    <div class=\"colab-df-container\">\n",
              "      <div>\n",
              "<style scoped>\n",
              "    .dataframe tbody tr th:only-of-type {\n",
              "        vertical-align: middle;\n",
              "    }\n",
              "\n",
              "    .dataframe tbody tr th {\n",
              "        vertical-align: top;\n",
              "    }\n",
              "\n",
              "    .dataframe thead th {\n",
              "        text-align: right;\n",
              "    }\n",
              "</style>\n",
              "<table border=\"1\" class=\"dataframe\">\n",
              "  <thead>\n",
              "    <tr style=\"text-align: right;\">\n",
              "      <th></th>\n",
              "      <th>UserId</th>\n",
              "      <th>ItemId</th>\n",
              "      <th>Rating</th>\n",
              "      <th>Time</th>\n",
              "    </tr>\n",
              "  </thead>\n",
              "  <tbody>\n",
              "    <tr>\n",
              "      <th>1000138</th>\n",
              "      <td>6040</td>\n",
              "      <td>858</td>\n",
              "      <td>4</td>\n",
              "      <td>2000-04-25 23:05:32</td>\n",
              "    </tr>\n",
              "    <tr>\n",
              "      <th>999873</th>\n",
              "      <td>6040</td>\n",
              "      <td>593</td>\n",
              "      <td>5</td>\n",
              "      <td>2000-04-25 23:05:54</td>\n",
              "    </tr>\n",
              "    <tr>\n",
              "      <th>1000153</th>\n",
              "      <td>6040</td>\n",
              "      <td>2384</td>\n",
              "      <td>4</td>\n",
              "      <td>2000-04-25 23:05:54</td>\n",
              "    </tr>\n",
              "    <tr>\n",
              "      <th>1000007</th>\n",
              "      <td>6040</td>\n",
              "      <td>1961</td>\n",
              "      <td>4</td>\n",
              "      <td>2000-04-25 23:06:17</td>\n",
              "    </tr>\n",
              "    <tr>\n",
              "      <th>1000192</th>\n",
              "      <td>6040</td>\n",
              "      <td>2019</td>\n",
              "      <td>5</td>\n",
              "      <td>2000-04-25 23:06:17</td>\n",
              "    </tr>\n",
              "    <tr>\n",
              "      <th>...</th>\n",
              "      <td>...</td>\n",
              "      <td>...</td>\n",
              "      <td>...</td>\n",
              "      <td>...</td>\n",
              "    </tr>\n",
              "    <tr>\n",
              "      <th>825497</th>\n",
              "      <td>4958</td>\n",
              "      <td>2453</td>\n",
              "      <td>4</td>\n",
              "      <td>2003-02-28 17:44:20</td>\n",
              "    </tr>\n",
              "    <tr>\n",
              "      <th>825526</th>\n",
              "      <td>4958</td>\n",
              "      <td>3489</td>\n",
              "      <td>4</td>\n",
              "      <td>2003-02-28 17:45:20</td>\n",
              "    </tr>\n",
              "    <tr>\n",
              "      <th>825438</th>\n",
              "      <td>4958</td>\n",
              "      <td>1407</td>\n",
              "      <td>5</td>\n",
              "      <td>2003-02-28 17:47:23</td>\n",
              "    </tr>\n",
              "    <tr>\n",
              "      <th>825724</th>\n",
              "      <td>4958</td>\n",
              "      <td>3264</td>\n",
              "      <td>4</td>\n",
              "      <td>2003-02-28 17:49:08</td>\n",
              "    </tr>\n",
              "    <tr>\n",
              "      <th>825603</th>\n",
              "      <td>4958</td>\n",
              "      <td>1924</td>\n",
              "      <td>4</td>\n",
              "      <td>2003-02-28 17:49:50</td>\n",
              "    </tr>\n",
              "  </tbody>\n",
              "</table>\n",
              "<p>569247 rows × 4 columns</p>\n",
              "</div>\n",
              "      <button class=\"colab-df-convert\" onclick=\"convertToInteractive('df-e3212890-aaac-4c65-98e8-115a6ec03bb5')\"\n",
              "              title=\"Convert this dataframe to an interactive table.\"\n",
              "              style=\"display:none;\">\n",
              "        \n",
              "  <svg xmlns=\"http://www.w3.org/2000/svg\" height=\"24px\"viewBox=\"0 0 24 24\"\n",
              "       width=\"24px\">\n",
              "    <path d=\"M0 0h24v24H0V0z\" fill=\"none\"/>\n",
              "    <path d=\"M18.56 5.44l.94 2.06.94-2.06 2.06-.94-2.06-.94-.94-2.06-.94 2.06-2.06.94zm-11 1L8.5 8.5l.94-2.06 2.06-.94-2.06-.94L8.5 2.5l-.94 2.06-2.06.94zm10 10l.94 2.06.94-2.06 2.06-.94-2.06-.94-.94-2.06-.94 2.06-2.06.94z\"/><path d=\"M17.41 7.96l-1.37-1.37c-.4-.4-.92-.59-1.43-.59-.52 0-1.04.2-1.43.59L10.3 9.45l-7.72 7.72c-.78.78-.78 2.05 0 2.83L4 21.41c.39.39.9.59 1.41.59.51 0 1.02-.2 1.41-.59l7.78-7.78 2.81-2.81c.8-.78.8-2.07 0-2.86zM5.41 20L4 18.59l7.72-7.72 1.47 1.35L5.41 20z\"/>\n",
              "  </svg>\n",
              "      </button>\n",
              "      \n",
              "  <style>\n",
              "    .colab-df-container {\n",
              "      display:flex;\n",
              "      flex-wrap:wrap;\n",
              "      gap: 12px;\n",
              "    }\n",
              "\n",
              "    .colab-df-convert {\n",
              "      background-color: #E8F0FE;\n",
              "      border: none;\n",
              "      border-radius: 50%;\n",
              "      cursor: pointer;\n",
              "      display: none;\n",
              "      fill: #1967D2;\n",
              "      height: 32px;\n",
              "      padding: 0 0 0 0;\n",
              "      width: 32px;\n",
              "    }\n",
              "\n",
              "    .colab-df-convert:hover {\n",
              "      background-color: #E2EBFA;\n",
              "      box-shadow: 0px 1px 2px rgba(60, 64, 67, 0.3), 0px 1px 3px 1px rgba(60, 64, 67, 0.15);\n",
              "      fill: #174EA6;\n",
              "    }\n",
              "\n",
              "    [theme=dark] .colab-df-convert {\n",
              "      background-color: #3B4455;\n",
              "      fill: #D2E3FC;\n",
              "    }\n",
              "\n",
              "    [theme=dark] .colab-df-convert:hover {\n",
              "      background-color: #434B5C;\n",
              "      box-shadow: 0px 1px 3px 1px rgba(0, 0, 0, 0.15);\n",
              "      filter: drop-shadow(0px 1px 2px rgba(0, 0, 0, 0.3));\n",
              "      fill: #FFFFFF;\n",
              "    }\n",
              "  </style>\n",
              "\n",
              "      <script>\n",
              "        const buttonEl =\n",
              "          document.querySelector('#df-e3212890-aaac-4c65-98e8-115a6ec03bb5 button.colab-df-convert');\n",
              "        buttonEl.style.display =\n",
              "          google.colab.kernel.accessAllowed ? 'block' : 'none';\n",
              "\n",
              "        async function convertToInteractive(key) {\n",
              "          const element = document.querySelector('#df-e3212890-aaac-4c65-98e8-115a6ec03bb5');\n",
              "          const dataTable =\n",
              "            await google.colab.kernel.invokeFunction('convertToInteractive',\n",
              "                                                     [key], {});\n",
              "          if (!dataTable) return;\n",
              "\n",
              "          const docLinkHtml = 'Like what you see? Visit the ' +\n",
              "            '<a target=\"_blank\" href=https://colab.research.google.com/notebooks/data_table.ipynb>data table notebook</a>'\n",
              "            + ' to learn more about interactive tables.';\n",
              "          element.innerHTML = '';\n",
              "          dataTable['output_type'] = 'display_data';\n",
              "          await google.colab.output.renderOutput(dataTable, element);\n",
              "          const docLink = document.createElement('div');\n",
              "          docLink.innerHTML = docLinkHtml;\n",
              "          element.appendChild(docLink);\n",
              "        }\n",
              "      </script>\n",
              "    </div>\n",
              "  </div>\n",
              "  "
            ]
          },
          "metadata": {},
          "execution_count": 35
        }
      ],
      "metadata": {
        "colab": {
          "base_uri": "https://localhost:8080/",
          "height": 424
        },
        "id": "yM5PkxfN5nmN",
        "outputId": "a77eb1c3-dd00-408c-fbfe-ac04e6f94cd4"
      }
    },
    {
      "cell_type": "markdown",
      "source": [
        "## 2.5: Train / Valid / Test split"
      ],
      "metadata": {
        "id": "QSQ5SVE95nmO"
      }
    },
    {
      "cell_type": "code",
      "execution_count": 37,
      "source": [
        "# 가장 마지막 1일 기간 동안을 Test로, 2일 전부터 1일 전 까지를 valid set으로 나눔\n",
        "\n",
        "tr, test = split_by_date(data, n_days=100)\n",
        "tr, val = split_by_date(tr, n_days=200)"
      ],
      "outputs": [],
      "metadata": {
        "id": "dmNuV2Ji5nmP"
      }
    },
    {
      "cell_type": "code",
      "execution_count": 39,
      "source": [
        "# tr, val, test에 대한 정보를 살펴보기\n",
        "stats_info(tr, 'train')\n",
        "stats_info(val, 'valid')\n",
        "stats_info(test, 'test')"
      ],
      "outputs": [
        {
          "output_type": "stream",
          "name": "stdout",
          "text": [
            "* train Set Stats Info\n",
            "\t Events: 979094\n",
            "\t Sessions: 6038\n",
            "\t Items: 3700\n",
            "\t First Time : 2000-04-25 23:05:32\n",
            "\t Last Time : 2002-03-05 04:19:56\n",
            "\n",
            "* valid Set Stats Info\n",
            "\t Events: 12292\n",
            "\t Sessions: 399\n",
            "\t Items: 2627\n",
            "\t First Time : 2002-03-05 04:21:07\n",
            "\t Last Time : 2002-09-01 04:20:59\n",
            "\n",
            "* test Set Stats Info\n",
            "\t Events: 8823\n",
            "\t Sessions: 339\n",
            "\t Items: 2333\n",
            "\t First Time : 2002-09-01 19:41:39\n",
            "\t Last Time : 2003-02-28 17:49:50\n",
            "\n"
          ]
        }
      ],
      "metadata": {
        "colab": {
          "base_uri": "https://localhost:8080/"
        },
        "id": "85FKOHQc5nmQ",
        "outputId": "d1305125-07ea-4522-cec5-81f67cd937fc"
      }
    },
    {
      "cell_type": "code",
      "execution_count": 40,
      "source": [
        "# train set에 없는 아이템이 val, test기간에 생길 수 있으므로 train data를 기준으로 인덱싱\n",
        "id2idx = {item_id : index for index, item_id in enumerate(tr['ItemId'].unique())}\n",
        "\n",
        "def indexing(df, id2idx):\n",
        "    df['item_idx'] = df['ItemId'].map(lambda x: id2idx.get(x, -1))  # id2idx에 없는 아이템은 모르는 값(-1) 처리 해줌\n",
        "    return df\n",
        "\n",
        "tr = indexing(tr, id2idx)\n",
        "val = indexing(val, id2idx)\n",
        "test = indexing(test, id2idx)"
      ],
      "outputs": [],
      "metadata": {
        "id": "kfY12JNQ5nmQ"
      }
    },
    {
      "cell_type": "code",
      "execution_count": 41,
      "source": [
        "# 데이터를 저장\n",
        "save_path = data_path / 'processed'\n",
        "save_path.mkdir(parents=True, exist_ok=True)\n",
        "\n",
        "tr.to_pickle(save_path / 'train.pkl')\n",
        "val.to_pickle(save_path / 'valid.pkl')\n",
        "test.to_pickle(save_path / 'test.pkl')"
      ],
      "outputs": [],
      "metadata": {
        "id": "kedVl77C5nmQ"
      }
    },
    {
      "cell_type": "markdown",
      "source": [
        "# 3: 미니 배치의 구성"
      ],
      "metadata": {
        "id": "mq_auSKkA0bE"
      }
    },
    {
      "cell_type": "markdown",
      "source": [
        "## 3.1: SessionDataset"
      ],
      "metadata": {
        "id": "l0zltpzh5nmR"
      }
    },
    {
      "cell_type": "code",
      "execution_count": 43,
      "source": [
        "# train데이터로 SessionDataset 객체를 만들고 인스턴스 변수들을 살펴보기\n",
        "tr_dataset = SessionDataset(tr)\n",
        "tr_dataset.df.head(10)"
      ],
      "outputs": [
        {
          "output_type": "execute_result",
          "data": {
            "text/plain": [
              "    UserId  ItemId  Rating                Time  item_idx\n",
              "31       1    3186       4 2000-12-31 22:00:19         0\n",
              "22       1    1270       5 2000-12-31 22:00:55         1\n",
              "27       1    1721       4 2000-12-31 22:00:55         2\n",
              "37       1    1022       5 2000-12-31 22:00:55         3\n",
              "24       1    2340       3 2000-12-31 22:01:43         4\n",
              "36       1    1836       5 2000-12-31 22:02:52         5\n",
              "3        1    3408       4 2000-12-31 22:04:35         6\n",
              "7        1    2804       5 2000-12-31 22:11:59         7\n",
              "47       1    1207       4 2000-12-31 22:11:59         8\n",
              "0        1    1193       5 2000-12-31 22:12:40         9"
            ],
            "text/html": [
              "\n",
              "  <div id=\"df-c96f32c4-1ae1-4ecb-8073-6164117c60b8\">\n",
              "    <div class=\"colab-df-container\">\n",
              "      <div>\n",
              "<style scoped>\n",
              "    .dataframe tbody tr th:only-of-type {\n",
              "        vertical-align: middle;\n",
              "    }\n",
              "\n",
              "    .dataframe tbody tr th {\n",
              "        vertical-align: top;\n",
              "    }\n",
              "\n",
              "    .dataframe thead th {\n",
              "        text-align: right;\n",
              "    }\n",
              "</style>\n",
              "<table border=\"1\" class=\"dataframe\">\n",
              "  <thead>\n",
              "    <tr style=\"text-align: right;\">\n",
              "      <th></th>\n",
              "      <th>UserId</th>\n",
              "      <th>ItemId</th>\n",
              "      <th>Rating</th>\n",
              "      <th>Time</th>\n",
              "      <th>item_idx</th>\n",
              "    </tr>\n",
              "  </thead>\n",
              "  <tbody>\n",
              "    <tr>\n",
              "      <th>31</th>\n",
              "      <td>1</td>\n",
              "      <td>3186</td>\n",
              "      <td>4</td>\n",
              "      <td>2000-12-31 22:00:19</td>\n",
              "      <td>0</td>\n",
              "    </tr>\n",
              "    <tr>\n",
              "      <th>22</th>\n",
              "      <td>1</td>\n",
              "      <td>1270</td>\n",
              "      <td>5</td>\n",
              "      <td>2000-12-31 22:00:55</td>\n",
              "      <td>1</td>\n",
              "    </tr>\n",
              "    <tr>\n",
              "      <th>27</th>\n",
              "      <td>1</td>\n",
              "      <td>1721</td>\n",
              "      <td>4</td>\n",
              "      <td>2000-12-31 22:00:55</td>\n",
              "      <td>2</td>\n",
              "    </tr>\n",
              "    <tr>\n",
              "      <th>37</th>\n",
              "      <td>1</td>\n",
              "      <td>1022</td>\n",
              "      <td>5</td>\n",
              "      <td>2000-12-31 22:00:55</td>\n",
              "      <td>3</td>\n",
              "    </tr>\n",
              "    <tr>\n",
              "      <th>24</th>\n",
              "      <td>1</td>\n",
              "      <td>2340</td>\n",
              "      <td>3</td>\n",
              "      <td>2000-12-31 22:01:43</td>\n",
              "      <td>4</td>\n",
              "    </tr>\n",
              "    <tr>\n",
              "      <th>36</th>\n",
              "      <td>1</td>\n",
              "      <td>1836</td>\n",
              "      <td>5</td>\n",
              "      <td>2000-12-31 22:02:52</td>\n",
              "      <td>5</td>\n",
              "    </tr>\n",
              "    <tr>\n",
              "      <th>3</th>\n",
              "      <td>1</td>\n",
              "      <td>3408</td>\n",
              "      <td>4</td>\n",
              "      <td>2000-12-31 22:04:35</td>\n",
              "      <td>6</td>\n",
              "    </tr>\n",
              "    <tr>\n",
              "      <th>7</th>\n",
              "      <td>1</td>\n",
              "      <td>2804</td>\n",
              "      <td>5</td>\n",
              "      <td>2000-12-31 22:11:59</td>\n",
              "      <td>7</td>\n",
              "    </tr>\n",
              "    <tr>\n",
              "      <th>47</th>\n",
              "      <td>1</td>\n",
              "      <td>1207</td>\n",
              "      <td>4</td>\n",
              "      <td>2000-12-31 22:11:59</td>\n",
              "      <td>8</td>\n",
              "    </tr>\n",
              "    <tr>\n",
              "      <th>0</th>\n",
              "      <td>1</td>\n",
              "      <td>1193</td>\n",
              "      <td>5</td>\n",
              "      <td>2000-12-31 22:12:40</td>\n",
              "      <td>9</td>\n",
              "    </tr>\n",
              "  </tbody>\n",
              "</table>\n",
              "</div>\n",
              "      <button class=\"colab-df-convert\" onclick=\"convertToInteractive('df-c96f32c4-1ae1-4ecb-8073-6164117c60b8')\"\n",
              "              title=\"Convert this dataframe to an interactive table.\"\n",
              "              style=\"display:none;\">\n",
              "        \n",
              "  <svg xmlns=\"http://www.w3.org/2000/svg\" height=\"24px\"viewBox=\"0 0 24 24\"\n",
              "       width=\"24px\">\n",
              "    <path d=\"M0 0h24v24H0V0z\" fill=\"none\"/>\n",
              "    <path d=\"M18.56 5.44l.94 2.06.94-2.06 2.06-.94-2.06-.94-.94-2.06-.94 2.06-2.06.94zm-11 1L8.5 8.5l.94-2.06 2.06-.94-2.06-.94L8.5 2.5l-.94 2.06-2.06.94zm10 10l.94 2.06.94-2.06 2.06-.94-2.06-.94-.94-2.06-.94 2.06-2.06.94z\"/><path d=\"M17.41 7.96l-1.37-1.37c-.4-.4-.92-.59-1.43-.59-.52 0-1.04.2-1.43.59L10.3 9.45l-7.72 7.72c-.78.78-.78 2.05 0 2.83L4 21.41c.39.39.9.59 1.41.59.51 0 1.02-.2 1.41-.59l7.78-7.78 2.81-2.81c.8-.78.8-2.07 0-2.86zM5.41 20L4 18.59l7.72-7.72 1.47 1.35L5.41 20z\"/>\n",
              "  </svg>\n",
              "      </button>\n",
              "      \n",
              "  <style>\n",
              "    .colab-df-container {\n",
              "      display:flex;\n",
              "      flex-wrap:wrap;\n",
              "      gap: 12px;\n",
              "    }\n",
              "\n",
              "    .colab-df-convert {\n",
              "      background-color: #E8F0FE;\n",
              "      border: none;\n",
              "      border-radius: 50%;\n",
              "      cursor: pointer;\n",
              "      display: none;\n",
              "      fill: #1967D2;\n",
              "      height: 32px;\n",
              "      padding: 0 0 0 0;\n",
              "      width: 32px;\n",
              "    }\n",
              "\n",
              "    .colab-df-convert:hover {\n",
              "      background-color: #E2EBFA;\n",
              "      box-shadow: 0px 1px 2px rgba(60, 64, 67, 0.3), 0px 1px 3px 1px rgba(60, 64, 67, 0.15);\n",
              "      fill: #174EA6;\n",
              "    }\n",
              "\n",
              "    [theme=dark] .colab-df-convert {\n",
              "      background-color: #3B4455;\n",
              "      fill: #D2E3FC;\n",
              "    }\n",
              "\n",
              "    [theme=dark] .colab-df-convert:hover {\n",
              "      background-color: #434B5C;\n",
              "      box-shadow: 0px 1px 3px 1px rgba(0, 0, 0, 0.15);\n",
              "      filter: drop-shadow(0px 1px 2px rgba(0, 0, 0, 0.3));\n",
              "      fill: #FFFFFF;\n",
              "    }\n",
              "  </style>\n",
              "\n",
              "      <script>\n",
              "        const buttonEl =\n",
              "          document.querySelector('#df-c96f32c4-1ae1-4ecb-8073-6164117c60b8 button.colab-df-convert');\n",
              "        buttonEl.style.display =\n",
              "          google.colab.kernel.accessAllowed ? 'block' : 'none';\n",
              "\n",
              "        async function convertToInteractive(key) {\n",
              "          const element = document.querySelector('#df-c96f32c4-1ae1-4ecb-8073-6164117c60b8');\n",
              "          const dataTable =\n",
              "            await google.colab.kernel.invokeFunction('convertToInteractive',\n",
              "                                                     [key], {});\n",
              "          if (!dataTable) return;\n",
              "\n",
              "          const docLinkHtml = 'Like what you see? Visit the ' +\n",
              "            '<a target=\"_blank\" href=https://colab.research.google.com/notebooks/data_table.ipynb>data table notebook</a>'\n",
              "            + ' to learn more about interactive tables.';\n",
              "          element.innerHTML = '';\n",
              "          dataTable['output_type'] = 'display_data';\n",
              "          await google.colab.output.renderOutput(dataTable, element);\n",
              "          const docLink = document.createElement('div');\n",
              "          docLink.innerHTML = docLinkHtml;\n",
              "          element.appendChild(docLink);\n",
              "        }\n",
              "      </script>\n",
              "    </div>\n",
              "  </div>\n",
              "  "
            ]
          },
          "metadata": {},
          "execution_count": 43
        }
      ],
      "metadata": {
        "colab": {
          "base_uri": "https://localhost:8080/",
          "height": 363
        },
        "id": "u95dH6875nmS",
        "outputId": "b14014b5-357d-4a79-f6fe-064202aad04d"
      }
    },
    {
      "cell_type": "code",
      "execution_count": 44,
      "source": [
        "# tr_dataset.click_offsets\n",
        "tr_dataset.click_offsets"
      ],
      "outputs": [
        {
          "output_type": "execute_result",
          "data": {
            "text/plain": [
              "array([     0,     53,    182, ..., 978630, 978753, 979094], dtype=int32)"
            ]
          },
          "metadata": {},
          "execution_count": 44
        }
      ],
      "metadata": {
        "colab": {
          "base_uri": "https://localhost:8080/"
        },
        "id": "vR7Y61pW5nmS",
        "outputId": "46d254c2-952d-4004-fcff-0574807d6e9c"
      }
    },
    {
      "cell_type": "code",
      "execution_count": 45,
      "source": [
        "# tr_dataset.session_idx\n",
        "tr_dataset.session_idx"
      ],
      "outputs": [
        {
          "output_type": "execute_result",
          "data": {
            "text/plain": [
              "array([   0,    1,    2, ..., 6035, 6036, 6037])"
            ]
          },
          "metadata": {},
          "execution_count": 45
        }
      ],
      "metadata": {
        "colab": {
          "base_uri": "https://localhost:8080/"
        },
        "id": "-dyVlEc_5nmT",
        "outputId": "81145190-62e5-4d90-e047-b0866b931276"
      }
    },
    {
      "cell_type": "markdown",
      "source": [
        "## 3.2: SessionDataLoader"
      ],
      "metadata": {
        "id": "QIY6gQy-5nmT"
      }
    },
    {
      "cell_type": "code",
      "execution_count": 47,
      "source": [
        "# SessionDataLoader 데이터 확인\n",
        "tr_data_loader = SessionDataLoader(tr_dataset, batch_size=4)\n",
        "tr_dataset.df.head(15)"
      ],
      "outputs": [
        {
          "output_type": "execute_result",
          "data": {
            "text/plain": [
              "    UserId  ItemId  Rating                Time  item_idx\n",
              "31       1    3186       4 2000-12-31 22:00:19         0\n",
              "22       1    1270       5 2000-12-31 22:00:55         1\n",
              "27       1    1721       4 2000-12-31 22:00:55         2\n",
              "37       1    1022       5 2000-12-31 22:00:55         3\n",
              "24       1    2340       3 2000-12-31 22:01:43         4\n",
              "36       1    1836       5 2000-12-31 22:02:52         5\n",
              "3        1    3408       4 2000-12-31 22:04:35         6\n",
              "7        1    2804       5 2000-12-31 22:11:59         7\n",
              "47       1    1207       4 2000-12-31 22:11:59         8\n",
              "0        1    1193       5 2000-12-31 22:12:40         9\n",
              "21       1     720       3 2000-12-31 22:12:40        10\n",
              "44       1     260       4 2000-12-31 22:12:40        11\n",
              "9        1     919       4 2000-12-31 22:22:48        12\n",
              "51       1     608       4 2000-12-31 22:23:18        13\n",
              "43       1    2692       4 2000-12-31 22:26:10        14"
            ],
            "text/html": [
              "\n",
              "  <div id=\"df-566356f9-1c60-4714-958a-ef67e4a99c79\">\n",
              "    <div class=\"colab-df-container\">\n",
              "      <div>\n",
              "<style scoped>\n",
              "    .dataframe tbody tr th:only-of-type {\n",
              "        vertical-align: middle;\n",
              "    }\n",
              "\n",
              "    .dataframe tbody tr th {\n",
              "        vertical-align: top;\n",
              "    }\n",
              "\n",
              "    .dataframe thead th {\n",
              "        text-align: right;\n",
              "    }\n",
              "</style>\n",
              "<table border=\"1\" class=\"dataframe\">\n",
              "  <thead>\n",
              "    <tr style=\"text-align: right;\">\n",
              "      <th></th>\n",
              "      <th>UserId</th>\n",
              "      <th>ItemId</th>\n",
              "      <th>Rating</th>\n",
              "      <th>Time</th>\n",
              "      <th>item_idx</th>\n",
              "    </tr>\n",
              "  </thead>\n",
              "  <tbody>\n",
              "    <tr>\n",
              "      <th>31</th>\n",
              "      <td>1</td>\n",
              "      <td>3186</td>\n",
              "      <td>4</td>\n",
              "      <td>2000-12-31 22:00:19</td>\n",
              "      <td>0</td>\n",
              "    </tr>\n",
              "    <tr>\n",
              "      <th>22</th>\n",
              "      <td>1</td>\n",
              "      <td>1270</td>\n",
              "      <td>5</td>\n",
              "      <td>2000-12-31 22:00:55</td>\n",
              "      <td>1</td>\n",
              "    </tr>\n",
              "    <tr>\n",
              "      <th>27</th>\n",
              "      <td>1</td>\n",
              "      <td>1721</td>\n",
              "      <td>4</td>\n",
              "      <td>2000-12-31 22:00:55</td>\n",
              "      <td>2</td>\n",
              "    </tr>\n",
              "    <tr>\n",
              "      <th>37</th>\n",
              "      <td>1</td>\n",
              "      <td>1022</td>\n",
              "      <td>5</td>\n",
              "      <td>2000-12-31 22:00:55</td>\n",
              "      <td>3</td>\n",
              "    </tr>\n",
              "    <tr>\n",
              "      <th>24</th>\n",
              "      <td>1</td>\n",
              "      <td>2340</td>\n",
              "      <td>3</td>\n",
              "      <td>2000-12-31 22:01:43</td>\n",
              "      <td>4</td>\n",
              "    </tr>\n",
              "    <tr>\n",
              "      <th>36</th>\n",
              "      <td>1</td>\n",
              "      <td>1836</td>\n",
              "      <td>5</td>\n",
              "      <td>2000-12-31 22:02:52</td>\n",
              "      <td>5</td>\n",
              "    </tr>\n",
              "    <tr>\n",
              "      <th>3</th>\n",
              "      <td>1</td>\n",
              "      <td>3408</td>\n",
              "      <td>4</td>\n",
              "      <td>2000-12-31 22:04:35</td>\n",
              "      <td>6</td>\n",
              "    </tr>\n",
              "    <tr>\n",
              "      <th>7</th>\n",
              "      <td>1</td>\n",
              "      <td>2804</td>\n",
              "      <td>5</td>\n",
              "      <td>2000-12-31 22:11:59</td>\n",
              "      <td>7</td>\n",
              "    </tr>\n",
              "    <tr>\n",
              "      <th>47</th>\n",
              "      <td>1</td>\n",
              "      <td>1207</td>\n",
              "      <td>4</td>\n",
              "      <td>2000-12-31 22:11:59</td>\n",
              "      <td>8</td>\n",
              "    </tr>\n",
              "    <tr>\n",
              "      <th>0</th>\n",
              "      <td>1</td>\n",
              "      <td>1193</td>\n",
              "      <td>5</td>\n",
              "      <td>2000-12-31 22:12:40</td>\n",
              "      <td>9</td>\n",
              "    </tr>\n",
              "    <tr>\n",
              "      <th>21</th>\n",
              "      <td>1</td>\n",
              "      <td>720</td>\n",
              "      <td>3</td>\n",
              "      <td>2000-12-31 22:12:40</td>\n",
              "      <td>10</td>\n",
              "    </tr>\n",
              "    <tr>\n",
              "      <th>44</th>\n",
              "      <td>1</td>\n",
              "      <td>260</td>\n",
              "      <td>4</td>\n",
              "      <td>2000-12-31 22:12:40</td>\n",
              "      <td>11</td>\n",
              "    </tr>\n",
              "    <tr>\n",
              "      <th>9</th>\n",
              "      <td>1</td>\n",
              "      <td>919</td>\n",
              "      <td>4</td>\n",
              "      <td>2000-12-31 22:22:48</td>\n",
              "      <td>12</td>\n",
              "    </tr>\n",
              "    <tr>\n",
              "      <th>51</th>\n",
              "      <td>1</td>\n",
              "      <td>608</td>\n",
              "      <td>4</td>\n",
              "      <td>2000-12-31 22:23:18</td>\n",
              "      <td>13</td>\n",
              "    </tr>\n",
              "    <tr>\n",
              "      <th>43</th>\n",
              "      <td>1</td>\n",
              "      <td>2692</td>\n",
              "      <td>4</td>\n",
              "      <td>2000-12-31 22:26:10</td>\n",
              "      <td>14</td>\n",
              "    </tr>\n",
              "  </tbody>\n",
              "</table>\n",
              "</div>\n",
              "      <button class=\"colab-df-convert\" onclick=\"convertToInteractive('df-566356f9-1c60-4714-958a-ef67e4a99c79')\"\n",
              "              title=\"Convert this dataframe to an interactive table.\"\n",
              "              style=\"display:none;\">\n",
              "        \n",
              "  <svg xmlns=\"http://www.w3.org/2000/svg\" height=\"24px\"viewBox=\"0 0 24 24\"\n",
              "       width=\"24px\">\n",
              "    <path d=\"M0 0h24v24H0V0z\" fill=\"none\"/>\n",
              "    <path d=\"M18.56 5.44l.94 2.06.94-2.06 2.06-.94-2.06-.94-.94-2.06-.94 2.06-2.06.94zm-11 1L8.5 8.5l.94-2.06 2.06-.94-2.06-.94L8.5 2.5l-.94 2.06-2.06.94zm10 10l.94 2.06.94-2.06 2.06-.94-2.06-.94-.94-2.06-.94 2.06-2.06.94z\"/><path d=\"M17.41 7.96l-1.37-1.37c-.4-.4-.92-.59-1.43-.59-.52 0-1.04.2-1.43.59L10.3 9.45l-7.72 7.72c-.78.78-.78 2.05 0 2.83L4 21.41c.39.39.9.59 1.41.59.51 0 1.02-.2 1.41-.59l7.78-7.78 2.81-2.81c.8-.78.8-2.07 0-2.86zM5.41 20L4 18.59l7.72-7.72 1.47 1.35L5.41 20z\"/>\n",
              "  </svg>\n",
              "      </button>\n",
              "      \n",
              "  <style>\n",
              "    .colab-df-container {\n",
              "      display:flex;\n",
              "      flex-wrap:wrap;\n",
              "      gap: 12px;\n",
              "    }\n",
              "\n",
              "    .colab-df-convert {\n",
              "      background-color: #E8F0FE;\n",
              "      border: none;\n",
              "      border-radius: 50%;\n",
              "      cursor: pointer;\n",
              "      display: none;\n",
              "      fill: #1967D2;\n",
              "      height: 32px;\n",
              "      padding: 0 0 0 0;\n",
              "      width: 32px;\n",
              "    }\n",
              "\n",
              "    .colab-df-convert:hover {\n",
              "      background-color: #E2EBFA;\n",
              "      box-shadow: 0px 1px 2px rgba(60, 64, 67, 0.3), 0px 1px 3px 1px rgba(60, 64, 67, 0.15);\n",
              "      fill: #174EA6;\n",
              "    }\n",
              "\n",
              "    [theme=dark] .colab-df-convert {\n",
              "      background-color: #3B4455;\n",
              "      fill: #D2E3FC;\n",
              "    }\n",
              "\n",
              "    [theme=dark] .colab-df-convert:hover {\n",
              "      background-color: #434B5C;\n",
              "      box-shadow: 0px 1px 3px 1px rgba(0, 0, 0, 0.15);\n",
              "      filter: drop-shadow(0px 1px 2px rgba(0, 0, 0, 0.3));\n",
              "      fill: #FFFFFF;\n",
              "    }\n",
              "  </style>\n",
              "\n",
              "      <script>\n",
              "        const buttonEl =\n",
              "          document.querySelector('#df-566356f9-1c60-4714-958a-ef67e4a99c79 button.colab-df-convert');\n",
              "        buttonEl.style.display =\n",
              "          google.colab.kernel.accessAllowed ? 'block' : 'none';\n",
              "\n",
              "        async function convertToInteractive(key) {\n",
              "          const element = document.querySelector('#df-566356f9-1c60-4714-958a-ef67e4a99c79');\n",
              "          const dataTable =\n",
              "            await google.colab.kernel.invokeFunction('convertToInteractive',\n",
              "                                                     [key], {});\n",
              "          if (!dataTable) return;\n",
              "\n",
              "          const docLinkHtml = 'Like what you see? Visit the ' +\n",
              "            '<a target=\"_blank\" href=https://colab.research.google.com/notebooks/data_table.ipynb>data table notebook</a>'\n",
              "            + ' to learn more about interactive tables.';\n",
              "          element.innerHTML = '';\n",
              "          dataTable['output_type'] = 'display_data';\n",
              "          await google.colab.output.renderOutput(dataTable, element);\n",
              "          const docLink = document.createElement('div');\n",
              "          docLink.innerHTML = docLinkHtml;\n",
              "          element.appendChild(docLink);\n",
              "        }\n",
              "      </script>\n",
              "    </div>\n",
              "  </div>\n",
              "  "
            ]
          },
          "metadata": {},
          "execution_count": 47
        }
      ],
      "metadata": {
        "colab": {
          "base_uri": "https://localhost:8080/",
          "height": 520
        },
        "id": "DYLq6C385nmU",
        "outputId": "f9244a55-7be7-450c-9dcd-3004d88f0b4b"
      }
    },
    {
      "cell_type": "code",
      "execution_count": 48,
      "source": [
        "iter_ex = iter(tr_data_loader)"
      ],
      "outputs": [],
      "metadata": {
        "id": "6_BDDm0_5nmV"
      }
    },
    {
      "cell_type": "code",
      "execution_count": 49,
      "source": [
        "# input, output, mask 확인\n",
        "inputs, labels, mask =  next(iter_ex)\n",
        "print(f'Model Input Item Idx are : {inputs}')\n",
        "print(f'Label Item Idx are : {\"\":5} {labels}')\n",
        "print(f'Previous Masked Input Idx are {mask}')"
      ],
      "outputs": [
        {
          "output_type": "stream",
          "name": "stdout",
          "text": [
            "Model Input Item Idx are : [ 0 53 65 54]\n",
            "Label Item Idx are :       [ 1 54 62 24]\n",
            "Previous Masked Input Idx are []\n"
          ]
        }
      ],
      "metadata": {
        "colab": {
          "base_uri": "https://localhost:8080/"
        },
        "id": "8E7HAiPW5nmV",
        "outputId": "630c8d8e-d181-425c-cce3-0041f10a9154"
      }
    },
    {
      "cell_type": "markdown",
      "source": [
        "# 4: 모델 구성"
      ],
      "metadata": {
        "id": "IBbbe-pTA2oI"
      }
    },
    {
      "cell_type": "markdown",
      "source": [
        "## 4.1: Evaluation Metric"
      ],
      "metadata": {
        "id": "mwJfn55T5nmW"
      }
    },
    {
      "cell_type": "code",
      "execution_count": 50,
      "source": [
        "def mrr_k(pred, truth: int, k: int):\n",
        "    indexing = np.where(pred[:k] == truth)[0]\n",
        "    if len(indexing) > 0:\n",
        "        return 1 / (indexing[0] + 1)\n",
        "    else:\n",
        "        return 0\n",
        "\n",
        "def recall_k(pred, truth: int, k: int) -> int:\n",
        "    answer = truth in pred[:k]\n",
        "    return int(answer)"
      ],
      "outputs": [],
      "metadata": {
        "id": "x72FR3sa5nmX"
      }
    },
    {
      "cell_type": "markdown",
      "source": [
        "## 4.2: Model Architecture"
      ],
      "metadata": {
        "id": "wZNX5Dlz5nmX"
      }
    },
    {
      "cell_type": "code",
      "execution_count": 51,
      "source": [
        "# model 생성\n",
        "def create_model(args):\n",
        "    inputs = Input(batch_shape=(args.batch_size, 1, args.num_items))\n",
        "    gru, _ = GRU(args.hsz, stateful=True, return_state=True, name='GRU')(inputs)\n",
        "    dropout = Dropout(args.drop_rate)(gru)\n",
        "    predictions = Dense(args.num_items, activation='softmax')(dropout)\n",
        "    model = Model(inputs=inputs, outputs=[predictions])\n",
        "    model.compile(loss=categorical_crossentropy, optimizer=Adam(args.lr), metrics=['accuracy'])\n",
        "    model.summary()\n",
        "    return model"
      ],
      "outputs": [],
      "metadata": {
        "id": "89H-Xjnv5nmY"
      }
    },
    {
      "cell_type": "code",
      "execution_count": 52,
      "source": [
        "# hyper-parameter\n",
        "class Args:\n",
        "    def __init__(self, tr, val, test, batch_size, hsz, drop_rate, lr, epochs, k):\n",
        "        self.tr = tr\n",
        "        self.val = val\n",
        "        self.test = test\n",
        "        self.num_items = tr['ItemId'].nunique()\n",
        "        self.num_sessions = tr['UserId'].nunique()\n",
        "        self.batch_size = batch_size\n",
        "        self.hsz = hsz\n",
        "        self.drop_rate = drop_rate\n",
        "        self.lr = lr\n",
        "        self.epochs = epochs\n",
        "        self.k = k"
      ],
      "outputs": [],
      "metadata": {
        "id": "sniMEYdN5nmY"
      }
    },
    {
      "cell_type": "code",
      "source": [
        "args = Args(tr, val, test, batch_size=256, hsz=50, drop_rate=0.1, lr=0.001, epochs=5, k=20)"
      ],
      "metadata": {
        "id": "QYNRJSY4IahK"
      },
      "execution_count": 63,
      "outputs": []
    },
    {
      "cell_type": "code",
      "execution_count": 64,
      "source": [
        "# model 생성\n",
        "model = create_model(args)"
      ],
      "outputs": [
        {
          "output_type": "stream",
          "name": "stdout",
          "text": [
            "Model: \"model_2\"\n",
            "_________________________________________________________________\n",
            " Layer (type)                Output Shape              Param #   \n",
            "=================================================================\n",
            " input_3 (InputLayer)        [(256, 1, 3700)]          0         \n",
            "                                                                 \n",
            " GRU (GRU)                   [(256, 50),               562800    \n",
            "                              (256, 50)]                         \n",
            "                                                                 \n",
            " dropout_2 (Dropout)         (256, 50)                 0         \n",
            "                                                                 \n",
            " dense_2 (Dense)             (256, 3700)               188700    \n",
            "                                                                 \n",
            "=================================================================\n",
            "Total params: 751,500\n",
            "Trainable params: 751,500\n",
            "Non-trainable params: 0\n",
            "_________________________________________________________________\n"
          ]
        }
      ],
      "metadata": {
        "colab": {
          "base_uri": "https://localhost:8080/"
        },
        "id": "0gNSirmw5nmZ",
        "outputId": "b07a70af-de07-4b4a-b931-c015d2c07abf"
      }
    },
    {
      "cell_type": "markdown",
      "source": [
        "# 5: 모델 학습 및 테스트"
      ],
      "metadata": {
        "id": "Kp7Y6sIwA4Yv"
      }
    },
    {
      "cell_type": "markdown",
      "source": [
        "###5.1: 기본 하이퍼파라미터"
      ],
      "metadata": {
        "id": "q1bGdcVxVJWq"
      }
    },
    {
      "cell_type": "code",
      "source": [
        "args = Args(tr, val, test, batch_size=256, hsz=50, drop_rate=0.1, lr=0.001, epochs=5, k=20)"
      ],
      "metadata": {
        "id": "CklXuYPzaZci"
      },
      "execution_count": 91,
      "outputs": []
    },
    {
      "cell_type": "code",
      "execution_count": 92,
      "source": [
        "# 학습\n",
        "train_model(model, args)"
      ],
      "outputs": [
        {
          "output_type": "stream",
          "name": "stderr",
          "text": [
            "Train:  95%|█████████▌| 3621/3801 [01:24<00:04, 42.81it/s, accuracy=0.0859, train_loss=5.48]\n",
            "Evaluation:  15%|█▌        | 7/46 [00:12<01:09,  1.79s/it]\n"
          ]
        },
        {
          "output_type": "stream",
          "name": "stdout",
          "text": [
            "\t - Recall@20 epoch 1: 0.114955\n",
            "\t - MRR@20    epoch 1: 0.038284\n",
            "\n"
          ]
        },
        {
          "output_type": "stream",
          "name": "stderr",
          "text": [
            "Train:  95%|█████████▌| 3621/3801 [01:23<00:04, 43.54it/s, accuracy=0.0703, train_loss=5.51]\n",
            "Evaluation:  15%|█▌        | 7/46 [00:12<01:09,  1.78s/it]\n"
          ]
        },
        {
          "output_type": "stream",
          "name": "stdout",
          "text": [
            "\t - Recall@20 epoch 2: 0.113839\n",
            "\t - MRR@20    epoch 2: 0.037582\n",
            "\n"
          ]
        },
        {
          "output_type": "stream",
          "name": "stderr",
          "text": [
            "Train:  95%|█████████▌| 3621/3801 [01:24<00:04, 42.86it/s, accuracy=0.0703, train_loss=5.48]\n",
            "Evaluation:  15%|█▌        | 7/46 [00:12<01:09,  1.79s/it]\n"
          ]
        },
        {
          "output_type": "stream",
          "name": "stdout",
          "text": [
            "\t - Recall@20 epoch 3: 0.111049\n",
            "\t - MRR@20    epoch 3: 0.037808\n",
            "\n"
          ]
        },
        {
          "output_type": "stream",
          "name": "stderr",
          "text": [
            "Train:  95%|█████████▌| 3621/3801 [01:22<00:04, 43.71it/s, accuracy=0.0625, train_loss=5.47]\n",
            "Evaluation:  15%|█▌        | 7/46 [00:12<01:09,  1.78s/it]\n"
          ]
        },
        {
          "output_type": "stream",
          "name": "stdout",
          "text": [
            "\t - Recall@20 epoch 4: 0.113281\n",
            "\t - MRR@20    epoch 4: 0.037928\n",
            "\n"
          ]
        },
        {
          "output_type": "stream",
          "name": "stderr",
          "text": [
            "Train:  95%|█████████▌| 3621/3801 [01:23<00:04, 43.38it/s, accuracy=0.0625, train_loss=5.45]\n",
            "Evaluation:  15%|█▌        | 7/46 [00:12<01:09,  1.78s/it]\n"
          ]
        },
        {
          "output_type": "stream",
          "name": "stdout",
          "text": [
            "\t - Recall@20 epoch 5: 0.112165\n",
            "\t - MRR@20    epoch 5: 0.036980\n",
            "\n"
          ]
        },
        {
          "output_type": "display_data",
          "data": {
            "text/plain": [
              "<Figure size 1080x432 with 2 Axes>"
            ],
            "image/png": "[encoded data removed]"
          },
          "metadata": {
            "needs_background": "light"
          }
        }
      ],
      "metadata": {
        "id": "qiAzvV9J5nma",
        "colab": {
          "base_uri": "https://localhost:8080/",
          "height": 847
        },
        "outputId": "8d3ba8bb-c010-4acc-e84b-905bf5203144"
      }
    },
    {
      "cell_type": "code",
      "source": [
        "# 평가\n",
        "test_model(model, args, test)"
      ],
      "metadata": {
        "id": "4qVIQN6wtrKl",
        "colab": {
          "base_uri": "https://localhost:8080/"
        },
        "outputId": "8580f212-10be-4350-cb10-eb9a41c9d605"
      },
      "execution_count": 93,
      "outputs": [
        {
          "output_type": "stream",
          "name": "stderr",
          "text": [
            "Evaluation:   6%|▌         | 2/33 [00:03<00:56,  1.83s/it]"
          ]
        },
        {
          "output_type": "stream",
          "name": "stdout",
          "text": [
            "\t - Recall@20: 0.113281\n",
            "\t - MRR@20: 0.038930\n",
            "\n"
          ]
        },
        {
          "output_type": "stream",
          "name": "stderr",
          "text": [
            "\n"
          ]
        }
      ]
    },
    {
      "cell_type": "markdown",
      "source": [
        "##5.2: hsz 변경 (50 -> 100)"
      ],
      "metadata": {
        "id": "YOTzyh3MVOql"
      }
    },
    {
      "cell_type": "code",
      "source": [
        "args = Args(tr, val, test, batch_size=256, hsz=100, drop_rate=0.1, lr=0.001, epochs=5, k=20)"
      ],
      "metadata": {
        "id": "rWHOcW7wVeD0"
      },
      "execution_count": 94,
      "outputs": []
    },
    {
      "cell_type": "code",
      "source": [
        "# 학습\n",
        "train_model(model, args)"
      ],
      "metadata": {
        "id": "j6uI_KS0VqEG",
        "outputId": "8a8d2309-4756-4eca-d13b-532e4d446605",
        "colab": {
          "base_uri": "https://localhost:8080/",
          "height": 847
        }
      },
      "execution_count": 95,
      "outputs": [
        {
          "output_type": "stream",
          "name": "stderr",
          "text": [
            "Train:  95%|█████████▌| 3621/3801 [01:25<00:04, 42.48it/s, accuracy=0.0781, train_loss=5.47]\n",
            "Evaluation:  15%|█▌        | 7/46 [00:12<01:10,  1.81s/it]\n"
          ]
        },
        {
          "output_type": "stream",
          "name": "stdout",
          "text": [
            "\t - Recall@20 epoch 1: 0.114397\n",
            "\t - MRR@20    epoch 1: 0.036905\n",
            "\n"
          ]
        },
        {
          "output_type": "stream",
          "name": "stderr",
          "text": [
            "Train:  95%|█████████▌| 3621/3801 [01:23<00:04, 43.13it/s, accuracy=0.0664, train_loss=5.45]\n",
            "Evaluation:  15%|█▌        | 7/46 [00:12<01:08,  1.77s/it]\n"
          ]
        },
        {
          "output_type": "stream",
          "name": "stdout",
          "text": [
            "\t - Recall@20 epoch 2: 0.113839\n",
            "\t - MRR@20    epoch 2: 0.036536\n",
            "\n"
          ]
        },
        {
          "output_type": "stream",
          "name": "stderr",
          "text": [
            "Train:  95%|█████████▌| 3621/3801 [01:23<00:04, 43.20it/s, accuracy=0.0703, train_loss=5.48]\n",
            "Evaluation:  15%|█▌        | 7/46 [00:12<01:09,  1.78s/it]\n"
          ]
        },
        {
          "output_type": "stream",
          "name": "stdout",
          "text": [
            "\t - Recall@20 epoch 3: 0.116071\n",
            "\t - MRR@20    epoch 3: 0.037638\n",
            "\n"
          ]
        },
        {
          "output_type": "stream",
          "name": "stderr",
          "text": [
            "Train:  95%|█████████▌| 3621/3801 [01:25<00:04, 42.34it/s, accuracy=0.0586, train_loss=5.47]\n",
            "Evaluation:  15%|█▌        | 7/46 [00:12<01:09,  1.79s/it]\n"
          ]
        },
        {
          "output_type": "stream",
          "name": "stdout",
          "text": [
            "\t - Recall@20 epoch 4: 0.116071\n",
            "\t - MRR@20    epoch 4: 0.037159\n",
            "\n"
          ]
        },
        {
          "output_type": "stream",
          "name": "stderr",
          "text": [
            "Train:  95%|█████████▌| 3621/3801 [01:25<00:04, 42.40it/s, accuracy=0.082, train_loss=5.46]\n",
            "Evaluation:  15%|█▌        | 7/46 [00:12<01:09,  1.77s/it]\n"
          ]
        },
        {
          "output_type": "stream",
          "name": "stdout",
          "text": [
            "\t - Recall@20 epoch 5: 0.114397\n",
            "\t - MRR@20    epoch 5: 0.036208\n",
            "\n"
          ]
        },
        {
          "output_type": "display_data",
          "data": {
            "text/plain": [
              "<Figure size 1080x432 with 2 Axes>"
            ],
            "image/png": "[encoded data removed]"
          },
          "metadata": {
            "needs_background": "light"
          }
        }
      ]
    },
    {
      "cell_type": "code",
      "source": [
        "# 평가\n",
        "test_model(model, args, test)"
      ],
      "metadata": {
        "id": "GAmIhbb2Vrq1",
        "outputId": "13528f8e-30b1-45f8-f129-341c5aee3d71",
        "colab": {
          "base_uri": "https://localhost:8080/"
        }
      },
      "execution_count": 96,
      "outputs": [
        {
          "output_type": "stream",
          "name": "stderr",
          "text": [
            "Evaluation:   6%|▌         | 2/33 [00:03<00:59,  1.93s/it]"
          ]
        },
        {
          "output_type": "stream",
          "name": "stdout",
          "text": [
            "\t - Recall@20: 0.117188\n",
            "\t - MRR@20: 0.036051\n",
            "\n"
          ]
        },
        {
          "output_type": "stream",
          "name": "stderr",
          "text": [
            "\n"
          ]
        }
      ]
    },
    {
      "cell_type": "markdown",
      "source": [
        "##5.3:  drop_rate 변경 (0.1 -> 0.2)"
      ],
      "metadata": {
        "id": "4Ckbmk8uZanA"
      }
    },
    {
      "cell_type": "code",
      "source": [
        "args = Args(tr, val, test, batch_size=256, hsz=50, drop_rate=0.2, lr=0.001, epochs=5, k=20)"
      ],
      "metadata": {
        "id": "RlGhJpBuaHZz"
      },
      "execution_count": 97,
      "outputs": []
    },
    {
      "cell_type": "code",
      "source": [
        "# 학습\n",
        "train_model(model, args)"
      ],
      "metadata": {
        "id": "D2xSDcXxaPvH",
        "outputId": "bdc4c872-52e4-4348-c4be-250f51afe755",
        "colab": {
          "base_uri": "https://localhost:8080/",
          "height": 844
        }
      },
      "execution_count": 98,
      "outputs": [
        {
          "output_type": "stream",
          "name": "stderr",
          "text": [
            "Train:  95%|█████████▌| 3621/3801 [01:23<00:04, 43.40it/s, accuracy=0.0742, train_loss=5.46]\n",
            "Evaluation:  15%|█▌        | 7/46 [00:12<01:09,  1.77s/it]\n"
          ]
        },
        {
          "output_type": "stream",
          "name": "stdout",
          "text": [
            "\t - Recall@20 epoch 1: 0.114397\n",
            "\t - MRR@20    epoch 1: 0.036198\n",
            "\n"
          ]
        },
        {
          "output_type": "stream",
          "name": "stderr",
          "text": [
            "Train:  95%|█████████▌| 3621/3801 [01:24<00:04, 43.08it/s, accuracy=0.0586, train_loss=5.51]\n",
            "Evaluation:  15%|█▌        | 7/46 [00:12<01:08,  1.77s/it]\n"
          ]
        },
        {
          "output_type": "stream",
          "name": "stdout",
          "text": [
            "\t - Recall@20 epoch 2: 0.113281\n",
            "\t - MRR@20    epoch 2: 0.035832\n",
            "\n"
          ]
        },
        {
          "output_type": "stream",
          "name": "stderr",
          "text": [
            "Train:  95%|█████████▌| 3621/3801 [01:23<00:04, 43.56it/s, accuracy=0.0664, train_loss=5.51]\n",
            "Evaluation:  15%|█▌        | 7/46 [00:12<01:09,  1.78s/it]\n"
          ]
        },
        {
          "output_type": "stream",
          "name": "stdout",
          "text": [
            "\t - Recall@20 epoch 3: 0.113281\n",
            "\t - MRR@20    epoch 3: 0.035869\n",
            "\n"
          ]
        },
        {
          "output_type": "stream",
          "name": "stderr",
          "text": [
            "Train:  95%|█████████▌| 3621/3801 [01:23<00:04, 43.19it/s, accuracy=0.0742, train_loss=5.47]\n",
            "Evaluation:  15%|█▌        | 7/46 [00:12<01:09,  1.79s/it]\n"
          ]
        },
        {
          "output_type": "stream",
          "name": "stdout",
          "text": [
            "\t - Recall@20 epoch 4: 0.113839\n",
            "\t - MRR@20    epoch 4: 0.036597\n",
            "\n"
          ]
        },
        {
          "output_type": "stream",
          "name": "stderr",
          "text": [
            "Train:  95%|█████████▌| 3621/3801 [01:24<00:04, 43.10it/s, accuracy=0.0703, train_loss=5.51]\n",
            "Evaluation:  15%|█▌        | 7/46 [00:12<01:09,  1.79s/it]\n"
          ]
        },
        {
          "output_type": "stream",
          "name": "stdout",
          "text": [
            "\t - Recall@20 epoch 5: 0.112723\n",
            "\t - MRR@20    epoch 5: 0.036712\n",
            "\n"
          ]
        },
        {
          "output_type": "display_data",
          "data": {
            "text/plain": [
              "<Figure size 1080x432 with 2 Axes>"
            ],
            "image/png": "[encoded data removed]"
          },
          "metadata": {
            "needs_background": "light"
          }
        }
      ]
    },
    {
      "cell_type": "code",
      "source": [
        "# 평가\n",
        "test_model(model, args, test)"
      ],
      "metadata": {
        "id": "1RhnfpynaSSe",
        "outputId": "a143043d-5093-472b-9577-07b1a124b181",
        "colab": {
          "base_uri": "https://localhost:8080/"
        }
      },
      "execution_count": 99,
      "outputs": [
        {
          "output_type": "stream",
          "name": "stderr",
          "text": [
            "Evaluation:   6%|▌         | 2/33 [00:03<00:55,  1.81s/it]"
          ]
        },
        {
          "output_type": "stream",
          "name": "stdout",
          "text": [
            "\t - Recall@20: 0.117188\n",
            "\t - MRR@20: 0.034935\n",
            "\n"
          ]
        },
        {
          "output_type": "stream",
          "name": "stderr",
          "text": [
            "\n"
          ]
        }
      ]
    },
    {
      "cell_type": "markdown",
      "source": [
        "##5.4: lr 변경 (0.001 -> 0.01)"
      ],
      "metadata": {
        "id": "VJHHWZmuZpYF"
      }
    },
    {
      "cell_type": "code",
      "source": [
        "args = Args(tr, val, test, batch_size=256, hsz=50, drop_rate=0.1, lr=0.01, epochs=5, k=20)"
      ],
      "metadata": {
        "id": "I2E__ZyoaLKl"
      },
      "execution_count": 100,
      "outputs": []
    },
    {
      "cell_type": "code",
      "source": [
        "# 학습\n",
        "train_model(model, args)"
      ],
      "metadata": {
        "id": "Duwqj2pWaQfo",
        "outputId": "92edb7e0-7dca-455e-9dff-4357893922ed",
        "colab": {
          "base_uri": "https://localhost:8080/",
          "height": 847
        }
      },
      "execution_count": 101,
      "outputs": [
        {
          "output_type": "stream",
          "name": "stderr",
          "text": [
            "Train:  95%|█████████▌| 3621/3801 [01:24<00:04, 42.95it/s, accuracy=0.0664, train_loss=5.51]\n",
            "Evaluation:  15%|█▌        | 7/46 [00:12<01:09,  1.79s/it]\n"
          ]
        },
        {
          "output_type": "stream",
          "name": "stdout",
          "text": [
            "\t - Recall@20 epoch 1: 0.113839\n",
            "\t - MRR@20    epoch 1: 0.036442\n",
            "\n"
          ]
        },
        {
          "output_type": "stream",
          "name": "stderr",
          "text": [
            "Train:  95%|█████████▌| 3621/3801 [01:23<00:04, 43.24it/s, accuracy=0.0664, train_loss=5.48]\n",
            "Evaluation:  15%|█▌        | 7/46 [00:12<01:09,  1.79s/it]\n"
          ]
        },
        {
          "output_type": "stream",
          "name": "stdout",
          "text": [
            "\t - Recall@20 epoch 2: 0.114955\n",
            "\t - MRR@20    epoch 2: 0.037137\n",
            "\n"
          ]
        },
        {
          "output_type": "stream",
          "name": "stderr",
          "text": [
            "Train:  95%|█████████▌| 3621/3801 [01:24<00:04, 43.07it/s, accuracy=0.0781, train_loss=5.47]\n",
            "Evaluation:  15%|█▌        | 7/46 [00:12<01:09,  1.77s/it]\n"
          ]
        },
        {
          "output_type": "stream",
          "name": "stdout",
          "text": [
            "\t - Recall@20 epoch 3: 0.115513\n",
            "\t - MRR@20    epoch 3: 0.036476\n",
            "\n"
          ]
        },
        {
          "output_type": "stream",
          "name": "stderr",
          "text": [
            "Train:  95%|█████████▌| 3621/3801 [01:24<00:04, 42.94it/s, accuracy=0.0664, train_loss=5.47]\n",
            "Evaluation:  15%|█▌        | 7/46 [00:12<01:09,  1.78s/it]\n"
          ]
        },
        {
          "output_type": "stream",
          "name": "stdout",
          "text": [
            "\t - Recall@20 epoch 4: 0.113839\n",
            "\t - MRR@20    epoch 4: 0.036986\n",
            "\n"
          ]
        },
        {
          "output_type": "stream",
          "name": "stderr",
          "text": [
            "Train:  95%|█████████▌| 3621/3801 [01:23<00:04, 43.22it/s, accuracy=0.0664, train_loss=5.44]\n",
            "Evaluation:  15%|█▌        | 7/46 [00:12<01:09,  1.77s/it]\n"
          ]
        },
        {
          "output_type": "stream",
          "name": "stdout",
          "text": [
            "\t - Recall@20 epoch 5: 0.112165\n",
            "\t - MRR@20    epoch 5: 0.036795\n",
            "\n"
          ]
        },
        {
          "output_type": "display_data",
          "data": {
            "text/plain": [
              "<Figure size 1080x432 with 2 Axes>"
            ],
            "image/png": "[encoded data removed]"
          },
          "metadata": {
            "needs_background": "light"
          }
        }
      ]
    },
    {
      "cell_type": "code",
      "source": [
        "# 평가\n",
        "test_model(model, args, test)"
      ],
      "metadata": {
        "id": "xraarm83aTCH",
        "outputId": "c3aff2f6-e77a-41fd-e2b4-08729361e197",
        "colab": {
          "base_uri": "https://localhost:8080/"
        }
      },
      "execution_count": 102,
      "outputs": [
        {
          "output_type": "stream",
          "name": "stderr",
          "text": [
            "Evaluation:   6%|▌         | 2/33 [00:03<00:55,  1.79s/it]"
          ]
        },
        {
          "output_type": "stream",
          "name": "stdout",
          "text": [
            "\t - Recall@20: 0.115234\n",
            "\t - MRR@20: 0.034033\n",
            "\n"
          ]
        },
        {
          "output_type": "stream",
          "name": "stderr",
          "text": [
            "\n"
          ]
        }
      ]
    },
    {
      "cell_type": "markdown",
      "source": [
        "#6: 결과"
      ],
      "metadata": {
        "id": "9al576NqnB6f"
      }
    },
    {
      "cell_type": "markdown",
      "source": [
        ">* Recall기준으로, hsz=100, drop_rate=0.2일때 가장 높았다.\n",
        ">* MRR기준으로, 기본 하이퍼파라미터 일때 가장 높았다.\n",
        ">* 그러나 이상의 차이는 매우 작았으며, 보다 다양한 하이퍼파라미터 조정을 할 필요가 있는듯 하다."
      ],
      "metadata": {
        "id": "1lZa9kjInOCs"
      }
    },
    {
      "cell_type": "markdown",
      "source": [
        "#회고"
      ],
      "metadata": {
        "id": "23--YJvQA-h8"
      }
    },
    {
      "cell_type": "markdown",
      "source": [
        ">* Session-Based  Recommendation 모델에 대해 경험해 볼 수 있었다.\n",
        ">*Session-Parallel Mini-Batch의 개념에 대해 배울 수 있었다.\n",
        ">*다양한 하이퍼파라미터를 변경에 따른 Recall, MRR 변화를 확인해보았다.\n",
        ">*data 전처리가 부족했었는데, 학습결과가 기대만큼 좋지못한거 같다.\n",
        ">*사용자의 서비스 이용 형태에 대한 면밀한 분석에 따른 전처리가 부족했던거 같다."
      ],
      "metadata": {
        "id": "hVdydnVBV-cU"
      }
    }
  ],
  "nbformat": 4,
  "nbformat_minor": 0,
  "metadata": {
    "language_info": {
      "name": "python"
    },
    "orig_nbformat": 4,
    "colab": {
      "name": "ExplNode17.ipynb",
      "provenance": [],
      "collapsed_sections": [
        "5nJbfqp65nmR",
        "jrxRWhB35nmR",
        "Vxydt1h55nmW"
      ],
      "toc_visible": true,
      "machine_shape": "hm",
      "include_colab_link": true
    },
    "kernelspec": {
      "name": "python3",
      "display_name": "Python 3"
    },
    "gpuClass": "standard",
    "accelerator": "GPU"
  }
}
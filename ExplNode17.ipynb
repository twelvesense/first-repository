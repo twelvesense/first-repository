{
  "cells": [
    {
      "cell_type": "markdown",
      "metadata": {
        "id": "view-in-github",
        "colab_type": "text"
      },
      "source": [
        "<a href=\"https://colab.research.google.com/github/twelvesense/first-repository/blob/master/ExplNode17.ipynb\" target=\"_parent\"><img src=\"https://colab.research.google.com/assets/colab-badge.svg\" alt=\"Open In Colab\"/></a>"
      ]
    },
    {
      "cell_type": "markdown",
      "source": [
        "#**프로젝트: Movielens 영화 SBR**"
      ],
      "metadata": {
        "id": "THxQoMk44Q1W"
      }
    },
    {
      "cell_type": "markdown",
      "source": [
        "#1: 기본 환경 구축"
      ],
      "metadata": {
        "id": "jLK2XwpT5u-Z"
      }
    },
    {
      "cell_type": "markdown",
      "source": [
        "##1.1: 모듈"
      ],
      "metadata": {
        "id": "mvd56-CTIkXm"
      }
    },
    {
      "cell_type": "code",
      "source": [
        "import tensorflow as tf\n",
        "from tensorflow.keras.layers import Input, Dense, Dropout, GRU\n",
        "from tensorflow.keras.losses import categorical_crossentropy\n",
        "from tensorflow.keras.models import Model\n",
        "from tensorflow.keras.optimizers import Adam\n",
        "from tensorflow.keras.utils import to_categorical\n",
        "from tqdm import tqdm\n",
        "import numpy as np\n",
        "import pandas as pd\n",
        "import matplotlib.pyplot as plt\n",
        "import datetime as dt\n",
        "from pathlib import Path\n",
        "import os\n",
        "import warnings\n",
        "warnings.filterwarnings('ignore')"
      ],
      "metadata": {
        "id": "qRFZ1EiXIvZr"
      },
      "execution_count": 11,
      "outputs": []
    },
    {
      "cell_type": "markdown",
      "source": [
        "##1.2: 데이터"
      ],
      "metadata": {
        "id": "dW7jrHGJ5ylS"
      }
    },
    {
      "cell_type": "code",
      "source": [
        "# 디렉토리\n",
        "from google.colab import drive\n",
        "drive.mount('/content/drive')\n",
        "colab_dir = '/content/drive/MyDrive/colab/ExplNode17'"
      ],
      "metadata": {
        "colab": {
          "base_uri": "https://localhost:8080/"
        },
        "id": "ccZZe8ZV51A-",
        "outputId": "71d8e5fd-75be-4be3-ee63-8e19aa7d3fe4"
      },
      "execution_count": 12,
      "outputs": [
        {
          "output_type": "stream",
          "name": "stdout",
          "text": [
            "Drive already mounted at /content/drive; to attempt to forcibly remount, call drive.mount(\"/content/drive\", force_remount=True).\n"
          ]
        }
      ]
    },
    {
      "cell_type": "code",
      "source": [
        "data_path = Path(colab_dir + '/data/') \n",
        "train_path = data_path / 'ratings.dat'\n",
        "\n",
        "def load_data(data_path: Path, nrows=None):\n",
        "    data = pd.read_csv(data_path, sep='::', header=None, usecols=[0, 1, 2, 3], dtype={0: np.int32, 1: np.int32, 2: np.int32}, nrows=nrows)\n",
        "    data.columns = ['UserId', 'ItemId', 'Rating', 'Time']\n",
        "    return data\n",
        "\n",
        "data = load_data(train_path, None)\n",
        "data.sort_values(['UserId', 'Time'], inplace=True)  # data를 id와 시간 순서로 정렬"
      ],
      "metadata": {
        "id": "mRldZeSOJIXZ"
      },
      "execution_count": 56,
      "outputs": []
    },
    {
      "cell_type": "code",
      "source": [
        "data"
      ],
      "metadata": {
        "colab": {
          "base_uri": "https://localhost:8080/",
          "height": 424
        },
        "id": "afv2XJJkJWyj",
        "outputId": "4bccb4ca-c650-40d9-e6e0-831bc66f3955"
      },
      "execution_count": 57,
      "outputs": [
        {
          "output_type": "execute_result",
          "data": {
            "text/plain": [
              "         UserId  ItemId  Rating       Time\n",
              "31            1    3186       4  978300019\n",
              "22            1    1270       5  978300055\n",
              "27            1    1721       4  978300055\n",
              "37            1    1022       5  978300055\n",
              "24            1    2340       3  978300103\n",
              "...         ...     ...     ...        ...\n",
              "1000019    6040    2917       4  997454429\n",
              "999988     6040    1921       4  997454464\n",
              "1000172    6040    1784       3  997454464\n",
              "1000167    6040     161       3  997454486\n",
              "1000042    6040    1221       4  998315055\n",
              "\n",
              "[1000209 rows x 4 columns]"
            ],
            "text/html": [
              "\n",
              "  <div id=\"df-b8682da3-efd4-4aae-aa5c-8aee41151800\">\n",
              "    <div class=\"colab-df-container\">\n",
              "      <div>\n",
              "<style scoped>\n",
              "    .dataframe tbody tr th:only-of-type {\n",
              "        vertical-align: middle;\n",
              "    }\n",
              "\n",
              "    .dataframe tbody tr th {\n",
              "        vertical-align: top;\n",
              "    }\n",
              "\n",
              "    .dataframe thead th {\n",
              "        text-align: right;\n",
              "    }\n",
              "</style>\n",
              "<table border=\"1\" class=\"dataframe\">\n",
              "  <thead>\n",
              "    <tr style=\"text-align: right;\">\n",
              "      <th></th>\n",
              "      <th>UserId</th>\n",
              "      <th>ItemId</th>\n",
              "      <th>Rating</th>\n",
              "      <th>Time</th>\n",
              "    </tr>\n",
              "  </thead>\n",
              "  <tbody>\n",
              "    <tr>\n",
              "      <th>31</th>\n",
              "      <td>1</td>\n",
              "      <td>3186</td>\n",
              "      <td>4</td>\n",
              "      <td>978300019</td>\n",
              "    </tr>\n",
              "    <tr>\n",
              "      <th>22</th>\n",
              "      <td>1</td>\n",
              "      <td>1270</td>\n",
              "      <td>5</td>\n",
              "      <td>978300055</td>\n",
              "    </tr>\n",
              "    <tr>\n",
              "      <th>27</th>\n",
              "      <td>1</td>\n",
              "      <td>1721</td>\n",
              "      <td>4</td>\n",
              "      <td>978300055</td>\n",
              "    </tr>\n",
              "    <tr>\n",
              "      <th>37</th>\n",
              "      <td>1</td>\n",
              "      <td>1022</td>\n",
              "      <td>5</td>\n",
              "      <td>978300055</td>\n",
              "    </tr>\n",
              "    <tr>\n",
              "      <th>24</th>\n",
              "      <td>1</td>\n",
              "      <td>2340</td>\n",
              "      <td>3</td>\n",
              "      <td>978300103</td>\n",
              "    </tr>\n",
              "    <tr>\n",
              "      <th>...</th>\n",
              "      <td>...</td>\n",
              "      <td>...</td>\n",
              "      <td>...</td>\n",
              "      <td>...</td>\n",
              "    </tr>\n",
              "    <tr>\n",
              "      <th>1000019</th>\n",
              "      <td>6040</td>\n",
              "      <td>2917</td>\n",
              "      <td>4</td>\n",
              "      <td>997454429</td>\n",
              "    </tr>\n",
              "    <tr>\n",
              "      <th>999988</th>\n",
              "      <td>6040</td>\n",
              "      <td>1921</td>\n",
              "      <td>4</td>\n",
              "      <td>997454464</td>\n",
              "    </tr>\n",
              "    <tr>\n",
              "      <th>1000172</th>\n",
              "      <td>6040</td>\n",
              "      <td>1784</td>\n",
              "      <td>3</td>\n",
              "      <td>997454464</td>\n",
              "    </tr>\n",
              "    <tr>\n",
              "      <th>1000167</th>\n",
              "      <td>6040</td>\n",
              "      <td>161</td>\n",
              "      <td>3</td>\n",
              "      <td>997454486</td>\n",
              "    </tr>\n",
              "    <tr>\n",
              "      <th>1000042</th>\n",
              "      <td>6040</td>\n",
              "      <td>1221</td>\n",
              "      <td>4</td>\n",
              "      <td>998315055</td>\n",
              "    </tr>\n",
              "  </tbody>\n",
              "</table>\n",
              "<p>1000209 rows × 4 columns</p>\n",
              "</div>\n",
              "      <button class=\"colab-df-convert\" onclick=\"convertToInteractive('df-b8682da3-efd4-4aae-aa5c-8aee41151800')\"\n",
              "              title=\"Convert this dataframe to an interactive table.\"\n",
              "              style=\"display:none;\">\n",
              "        \n",
              "  <svg xmlns=\"http://www.w3.org/2000/svg\" height=\"24px\"viewBox=\"0 0 24 24\"\n",
              "       width=\"24px\">\n",
              "    <path d=\"M0 0h24v24H0V0z\" fill=\"none\"/>\n",
              "    <path d=\"M18.56 5.44l.94 2.06.94-2.06 2.06-.94-2.06-.94-.94-2.06-.94 2.06-2.06.94zm-11 1L8.5 8.5l.94-2.06 2.06-.94-2.06-.94L8.5 2.5l-.94 2.06-2.06.94zm10 10l.94 2.06.94-2.06 2.06-.94-2.06-.94-.94-2.06-.94 2.06-2.06.94z\"/><path d=\"M17.41 7.96l-1.37-1.37c-.4-.4-.92-.59-1.43-.59-.52 0-1.04.2-1.43.59L10.3 9.45l-7.72 7.72c-.78.78-.78 2.05 0 2.83L4 21.41c.39.39.9.59 1.41.59.51 0 1.02-.2 1.41-.59l7.78-7.78 2.81-2.81c.8-.78.8-2.07 0-2.86zM5.41 20L4 18.59l7.72-7.72 1.47 1.35L5.41 20z\"/>\n",
              "  </svg>\n",
              "      </button>\n",
              "      \n",
              "  <style>\n",
              "    .colab-df-container {\n",
              "      display:flex;\n",
              "      flex-wrap:wrap;\n",
              "      gap: 12px;\n",
              "    }\n",
              "\n",
              "    .colab-df-convert {\n",
              "      background-color: #E8F0FE;\n",
              "      border: none;\n",
              "      border-radius: 50%;\n",
              "      cursor: pointer;\n",
              "      display: none;\n",
              "      fill: #1967D2;\n",
              "      height: 32px;\n",
              "      padding: 0 0 0 0;\n",
              "      width: 32px;\n",
              "    }\n",
              "\n",
              "    .colab-df-convert:hover {\n",
              "      background-color: #E2EBFA;\n",
              "      box-shadow: 0px 1px 2px rgba(60, 64, 67, 0.3), 0px 1px 3px 1px rgba(60, 64, 67, 0.15);\n",
              "      fill: #174EA6;\n",
              "    }\n",
              "\n",
              "    [theme=dark] .colab-df-convert {\n",
              "      background-color: #3B4455;\n",
              "      fill: #D2E3FC;\n",
              "    }\n",
              "\n",
              "    [theme=dark] .colab-df-convert:hover {\n",
              "      background-color: #434B5C;\n",
              "      box-shadow: 0px 1px 3px 1px rgba(0, 0, 0, 0.15);\n",
              "      filter: drop-shadow(0px 1px 2px rgba(0, 0, 0, 0.3));\n",
              "      fill: #FFFFFF;\n",
              "    }\n",
              "  </style>\n",
              "\n",
              "      <script>\n",
              "        const buttonEl =\n",
              "          document.querySelector('#df-b8682da3-efd4-4aae-aa5c-8aee41151800 button.colab-df-convert');\n",
              "        buttonEl.style.display =\n",
              "          google.colab.kernel.accessAllowed ? 'block' : 'none';\n",
              "\n",
              "        async function convertToInteractive(key) {\n",
              "          const element = document.querySelector('#df-b8682da3-efd4-4aae-aa5c-8aee41151800');\n",
              "          const dataTable =\n",
              "            await google.colab.kernel.invokeFunction('convertToInteractive',\n",
              "                                                     [key], {});\n",
              "          if (!dataTable) return;\n",
              "\n",
              "          const docLinkHtml = 'Like what you see? Visit the ' +\n",
              "            '<a target=\"_blank\" href=https://colab.research.google.com/notebooks/data_table.ipynb>data table notebook</a>'\n",
              "            + ' to learn more about interactive tables.';\n",
              "          element.innerHTML = '';\n",
              "          dataTable['output_type'] = 'display_data';\n",
              "          await google.colab.output.renderOutput(dataTable, element);\n",
              "          const docLink = document.createElement('div');\n",
              "          docLink.innerHTML = docLinkHtml;\n",
              "          element.appendChild(docLink);\n",
              "        }\n",
              "      </script>\n",
              "    </div>\n",
              "  </div>\n",
              "  "
            ]
          },
          "metadata": {},
          "execution_count": 57
        }
      ]
    },
    {
      "cell_type": "markdown",
      "source": [
        "# 2: 데이터의 전처리"
      ],
      "metadata": {
        "id": "akZ6Xq0hAzlw"
      }
    },
    {
      "cell_type": "markdown",
      "source": [
        "##2.1: 유저 수(세션 수)와 아이템 수"
      ],
      "metadata": {
        "id": "Tv8q-UWzVk-Z"
      }
    },
    {
      "cell_type": "code",
      "source": [
        "# 유저 수(세션 수)와 아이템 수 확인\n",
        "data['UserId'].nunique(), data['ItemId'].nunique()"
      ],
      "metadata": {
        "colab": {
          "base_uri": "https://localhost:8080/"
        },
        "id": "r24i_EGmUto-",
        "outputId": "b03fbf33-3961-438c-a166-314d12685bf8"
      },
      "execution_count": 58,
      "outputs": [
        {
          "output_type": "execute_result",
          "data": {
            "text/plain": [
              "(6040, 3706)"
            ]
          },
          "metadata": {},
          "execution_count": 58
        }
      ]
    },
    {
      "cell_type": "markdown",
      "source": [
        "## 2.2: Session Length"
      ],
      "metadata": {
        "id": "cfvwIm7h5nmE"
      }
    },
    {
      "cell_type": "code",
      "execution_count": 59,
      "source": [
        "# UserId를 SessionId로 해석하고, 각 세션별 클릭 데이터를 분석\n",
        "session_length = data.groupby('UserId').size()\n",
        "session_length"
      ],
      "outputs": [
        {
          "output_type": "execute_result",
          "data": {
            "text/plain": [
              "UserId\n",
              "1        53\n",
              "2       129\n",
              "3        51\n",
              "4        21\n",
              "5       198\n",
              "       ... \n",
              "6036    888\n",
              "6037    202\n",
              "6038     20\n",
              "6039    123\n",
              "6040    341\n",
              "Length: 6040, dtype: int64"
            ]
          },
          "metadata": {},
          "execution_count": 59
        }
      ],
      "metadata": {
        "colab": {
          "base_uri": "https://localhost:8080/"
        },
        "id": "NGnAwElc5nmF",
        "outputId": "2f00a948-1672-4175-b093-a0a5a08d2dea"
      }
    },
    {
      "cell_type": "code",
      "execution_count": 61,
      "source": [
        "# session length의 median값 session length으ㅢ .mean값\n",
        "session_length.median(), session_length.mean()"
      ],
      "outputs": [
        {
          "output_type": "execute_result",
          "data": {
            "text/plain": [
              "(96.0, 165.5975165562914)"
            ]
          },
          "metadata": {},
          "execution_count": 61
        }
      ],
      "metadata": {
        "colab": {
          "base_uri": "https://localhost:8080/"
        },
        "id": "ju0molFM5nmG",
        "outputId": "c776def9-1359-4883-8db9-409293218a56"
      }
    },
    {
      "cell_type": "code",
      "execution_count": 62,
      "source": [
        "# session length의 min값, session length의 max값\n",
        "session_length.min(), session_length.max()"
      ],
      "outputs": [
        {
          "output_type": "execute_result",
          "data": {
            "text/plain": [
              "(20, 2314)"
            ]
          },
          "metadata": {},
          "execution_count": 62
        }
      ],
      "metadata": {
        "colab": {
          "base_uri": "https://localhost:8080/"
        },
        "id": "V35kyREV5nmH",
        "outputId": "504200b4-9afc-4759-ec2e-0b40c6132e77"
      }
    },
    {
      "cell_type": "code",
      "execution_count": 63,
      "source": [
        "# session length의 quantile(0.999): 분위수(99.9%)\n",
        "session_length.quantile(0.999)"
      ],
      "outputs": [
        {
          "output_type": "execute_result",
          "data": {
            "text/plain": [
              "1343.181000000005"
            ]
          },
          "metadata": {},
          "execution_count": 63
        }
      ],
      "metadata": {
        "colab": {
          "base_uri": "https://localhost:8080/"
        },
        "id": "ZvKyKaUd5nmH",
        "outputId": "a6ac532d-6cb6-4dfa-9f73-01cd5bbb6be2"
      }
    },
    {
      "cell_type": "code",
      "execution_count": 80,
      "source": [
        "# 길이가 100인 세션은 뭔가 이상할 수 있어, 그 중 하나를 파악\n",
        "long_session = session_length[session_length==100].index[0]\n",
        "data[data['UserId']==long_session]"
      ],
      "outputs": [
        {
          "output_type": "execute_result",
          "data": {
            "text/plain": [
              "      UserId  ItemId  Rating       Time\n",
              "5428      38     587       4  978044341\n",
              "5479      38    3072       4  978044383\n",
              "5467      38     356       4  978044437\n",
              "5516      38     490       2  978044437\n",
              "5498      38     531       3  978044473\n",
              "...      ...     ...     ...        ...\n",
              "5452      38      13       3  978046407\n",
              "5490      38     455       3  978046465\n",
              "5464      38    1380       4  978046582\n",
              "5433      38    3948       4  978046603\n",
              "5481      38     296       3  978047091\n",
              "\n",
              "[100 rows x 4 columns]"
            ],
            "text/html": [
              "\n",
              "  <div id=\"df-d0a2fe6e-b082-4a8b-b8b0-7b1cd5f83e0d\">\n",
              "    <div class=\"colab-df-container\">\n",
              "      <div>\n",
              "<style scoped>\n",
              "    .dataframe tbody tr th:only-of-type {\n",
              "        vertical-align: middle;\n",
              "    }\n",
              "\n",
              "    .dataframe tbody tr th {\n",
              "        vertical-align: top;\n",
              "    }\n",
              "\n",
              "    .dataframe thead th {\n",
              "        text-align: right;\n",
              "    }\n",
              "</style>\n",
              "<table border=\"1\" class=\"dataframe\">\n",
              "  <thead>\n",
              "    <tr style=\"text-align: right;\">\n",
              "      <th></th>\n",
              "      <th>UserId</th>\n",
              "      <th>ItemId</th>\n",
              "      <th>Rating</th>\n",
              "      <th>Time</th>\n",
              "    </tr>\n",
              "  </thead>\n",
              "  <tbody>\n",
              "    <tr>\n",
              "      <th>5428</th>\n",
              "      <td>38</td>\n",
              "      <td>587</td>\n",
              "      <td>4</td>\n",
              "      <td>978044341</td>\n",
              "    </tr>\n",
              "    <tr>\n",
              "      <th>5479</th>\n",
              "      <td>38</td>\n",
              "      <td>3072</td>\n",
              "      <td>4</td>\n",
              "      <td>978044383</td>\n",
              "    </tr>\n",
              "    <tr>\n",
              "      <th>5467</th>\n",
              "      <td>38</td>\n",
              "      <td>356</td>\n",
              "      <td>4</td>\n",
              "      <td>978044437</td>\n",
              "    </tr>\n",
              "    <tr>\n",
              "      <th>5516</th>\n",
              "      <td>38</td>\n",
              "      <td>490</td>\n",
              "      <td>2</td>\n",
              "      <td>978044437</td>\n",
              "    </tr>\n",
              "    <tr>\n",
              "      <th>5498</th>\n",
              "      <td>38</td>\n",
              "      <td>531</td>\n",
              "      <td>3</td>\n",
              "      <td>978044473</td>\n",
              "    </tr>\n",
              "    <tr>\n",
              "      <th>...</th>\n",
              "      <td>...</td>\n",
              "      <td>...</td>\n",
              "      <td>...</td>\n",
              "      <td>...</td>\n",
              "    </tr>\n",
              "    <tr>\n",
              "      <th>5452</th>\n",
              "      <td>38</td>\n",
              "      <td>13</td>\n",
              "      <td>3</td>\n",
              "      <td>978046407</td>\n",
              "    </tr>\n",
              "    <tr>\n",
              "      <th>5490</th>\n",
              "      <td>38</td>\n",
              "      <td>455</td>\n",
              "      <td>3</td>\n",
              "      <td>978046465</td>\n",
              "    </tr>\n",
              "    <tr>\n",
              "      <th>5464</th>\n",
              "      <td>38</td>\n",
              "      <td>1380</td>\n",
              "      <td>4</td>\n",
              "      <td>978046582</td>\n",
              "    </tr>\n",
              "    <tr>\n",
              "      <th>5433</th>\n",
              "      <td>38</td>\n",
              "      <td>3948</td>\n",
              "      <td>4</td>\n",
              "      <td>978046603</td>\n",
              "    </tr>\n",
              "    <tr>\n",
              "      <th>5481</th>\n",
              "      <td>38</td>\n",
              "      <td>296</td>\n",
              "      <td>3</td>\n",
              "      <td>978047091</td>\n",
              "    </tr>\n",
              "  </tbody>\n",
              "</table>\n",
              "<p>100 rows × 4 columns</p>\n",
              "</div>\n",
              "      <button class=\"colab-df-convert\" onclick=\"convertToInteractive('df-d0a2fe6e-b082-4a8b-b8b0-7b1cd5f83e0d')\"\n",
              "              title=\"Convert this dataframe to an interactive table.\"\n",
              "              style=\"display:none;\">\n",
              "        \n",
              "  <svg xmlns=\"http://www.w3.org/2000/svg\" height=\"24px\"viewBox=\"0 0 24 24\"\n",
              "       width=\"24px\">\n",
              "    <path d=\"M0 0h24v24H0V0z\" fill=\"none\"/>\n",
              "    <path d=\"M18.56 5.44l.94 2.06.94-2.06 2.06-.94-2.06-.94-.94-2.06-.94 2.06-2.06.94zm-11 1L8.5 8.5l.94-2.06 2.06-.94-2.06-.94L8.5 2.5l-.94 2.06-2.06.94zm10 10l.94 2.06.94-2.06 2.06-.94-2.06-.94-.94-2.06-.94 2.06-2.06.94z\"/><path d=\"M17.41 7.96l-1.37-1.37c-.4-.4-.92-.59-1.43-.59-.52 0-1.04.2-1.43.59L10.3 9.45l-7.72 7.72c-.78.78-.78 2.05 0 2.83L4 21.41c.39.39.9.59 1.41.59.51 0 1.02-.2 1.41-.59l7.78-7.78 2.81-2.81c.8-.78.8-2.07 0-2.86zM5.41 20L4 18.59l7.72-7.72 1.47 1.35L5.41 20z\"/>\n",
              "  </svg>\n",
              "      </button>\n",
              "      \n",
              "  <style>\n",
              "    .colab-df-container {\n",
              "      display:flex;\n",
              "      flex-wrap:wrap;\n",
              "      gap: 12px;\n",
              "    }\n",
              "\n",
              "    .colab-df-convert {\n",
              "      background-color: #E8F0FE;\n",
              "      border: none;\n",
              "      border-radius: 50%;\n",
              "      cursor: pointer;\n",
              "      display: none;\n",
              "      fill: #1967D2;\n",
              "      height: 32px;\n",
              "      padding: 0 0 0 0;\n",
              "      width: 32px;\n",
              "    }\n",
              "\n",
              "    .colab-df-convert:hover {\n",
              "      background-color: #E2EBFA;\n",
              "      box-shadow: 0px 1px 2px rgba(60, 64, 67, 0.3), 0px 1px 3px 1px rgba(60, 64, 67, 0.15);\n",
              "      fill: #174EA6;\n",
              "    }\n",
              "\n",
              "    [theme=dark] .colab-df-convert {\n",
              "      background-color: #3B4455;\n",
              "      fill: #D2E3FC;\n",
              "    }\n",
              "\n",
              "    [theme=dark] .colab-df-convert:hover {\n",
              "      background-color: #434B5C;\n",
              "      box-shadow: 0px 1px 3px 1px rgba(0, 0, 0, 0.15);\n",
              "      filter: drop-shadow(0px 1px 2px rgba(0, 0, 0, 0.3));\n",
              "      fill: #FFFFFF;\n",
              "    }\n",
              "  </style>\n",
              "\n",
              "      <script>\n",
              "        const buttonEl =\n",
              "          document.querySelector('#df-d0a2fe6e-b082-4a8b-b8b0-7b1cd5f83e0d button.colab-df-convert');\n",
              "        buttonEl.style.display =\n",
              "          google.colab.kernel.accessAllowed ? 'block' : 'none';\n",
              "\n",
              "        async function convertToInteractive(key) {\n",
              "          const element = document.querySelector('#df-d0a2fe6e-b082-4a8b-b8b0-7b1cd5f83e0d');\n",
              "          const dataTable =\n",
              "            await google.colab.kernel.invokeFunction('convertToInteractive',\n",
              "                                                     [key], {});\n",
              "          if (!dataTable) return;\n",
              "\n",
              "          const docLinkHtml = 'Like what you see? Visit the ' +\n",
              "            '<a target=\"_blank\" href=https://colab.research.google.com/notebooks/data_table.ipynb>data table notebook</a>'\n",
              "            + ' to learn more about interactive tables.';\n",
              "          element.innerHTML = '';\n",
              "          dataTable['output_type'] = 'display_data';\n",
              "          await google.colab.output.renderOutput(dataTable, element);\n",
              "          const docLink = document.createElement('div');\n",
              "          docLink.innerHTML = docLinkHtml;\n",
              "          element.appendChild(docLink);\n",
              "        }\n",
              "      </script>\n",
              "    </div>\n",
              "  </div>\n",
              "  "
            ]
          },
          "metadata": {},
          "execution_count": 80
        }
      ],
      "metadata": {
        "colab": {
          "base_uri": "https://localhost:8080/",
          "height": 424
        },
        "id": "5R3R7Ojm5nmI",
        "outputId": "9fe90adf-3a8f-4764-c554-98ba2e19f57f"
      }
    },
    {
      "cell_type": "code",
      "execution_count": 66,
      "source": [
        "# 세션 길이 기준 하위 99.9%까지의 분포 누적합을 시각화한 것\n",
        "length_count = session_length.groupby(session_length).size()\n",
        "length_percent_cumsum = length_count.cumsum() / length_count.sum()\n",
        "length_percent_cumsum_999 = length_percent_cumsum[length_percent_cumsum < 0.999]\n",
        "\n",
        "length_percent_cumsum_999"
      ],
      "outputs": [
        {
          "output_type": "execute_result",
          "data": {
            "text/plain": [
              "20      0.014238\n",
              "21      0.029305\n",
              "22      0.042053\n",
              "23      0.055464\n",
              "24      0.068874\n",
              "          ...   \n",
              "1271    0.998179\n",
              "1277    0.998344\n",
              "1286    0.998510\n",
              "1302    0.998675\n",
              "1323    0.998841\n",
              "Length: 736, dtype: float64"
            ]
          },
          "metadata": {},
          "execution_count": 66
        }
      ],
      "metadata": {
        "colab": {
          "base_uri": "https://localhost:8080/"
        },
        "id": "9iq5Dd9-5nmJ",
        "outputId": "d606b55b-d5da-41c5-9162-05b2509d8f8a"
      }
    },
    {
      "cell_type": "code",
      "execution_count": 77,
      "source": [
        "plt.figure(figsize=(20, 10))\n",
        "plt.bar(x=length_percent_cumsum_999.index,\n",
        "        height=length_percent_cumsum_999, color='blue')\n",
        "plt.xticks(length_percent_cumsum_999.index, fontsize=10, rotation = 90)\n",
        "plt.yticks(np.arange(0, 1.01, 0.05))\n",
        "plt.title('Cumsum Percentage Until 0.999', size=20)\n",
        "plt.show()"
      ],
      "outputs": [
        {
          "output_type": "display_data",
          "data": {
            "text/plain": [
              "<Figure size 1440x720 with 1 Axes>"
            ],
            "image/png": "[encoded data removed]"
          },
          "metadata": {
            "needs_background": "light"
          }
        }
      ],
      "metadata": {
        "colab": {
          "base_uri": "https://localhost:8080/",
          "height": 504
        },
        "id": "UVhhimbK5nmJ",
        "outputId": "b4d8eb90-f887-45b5-f5fd-bedb32f7b71e"
      }
    },
    {
      "cell_type": "markdown",
      "source": [
        "##2.3: Session Time"
      ],
      "metadata": {
        "id": "ePf139vXS39W"
      }
    },
    {
      "cell_type": "code",
      "source": [
        "# time의 표현 방식 변경하기\n",
        "data['Time'] = data['Time'].apply(dt.datetime.fromtimestamp)"
      ],
      "metadata": {
        "id": "O6RUJIVzg0k1"
      },
      "execution_count": 105,
      "outputs": []
    },
    {
      "cell_type": "code",
      "source": [
        "# 데이터의 시간 관련 정보 파악\n",
        "oldest, latest = data['Time'].min(), data['Time'].max()\n",
        "print(oldest)\n",
        "print(latest)"
      ],
      "metadata": {
        "colab": {
          "base_uri": "https://localhost:8080/"
        },
        "id": "x1UFJevjjyGy",
        "outputId": "78c83424-877b-48dc-c828-e75334e8a065"
      },
      "execution_count": 106,
      "outputs": [
        {
          "output_type": "stream",
          "name": "stdout",
          "text": [
            "2000-04-25 23:05:32\n",
            "2003-02-28 17:49:50\n"
          ]
        }
      ]
    },
    {
      "cell_type": "code",
      "execution_count": 113,
      "source": [
        "# 최근 1년 기준으로 제한\n",
        "year_ago = latest - dt.timedelta(365)     # 최종 날짜로부터 1년 이전 날짜 구함  \n",
        "data1 = data[data['Time'] > year_ago]      # 최근 1년 내 데이터만 모음\n",
        "data1"
      ],
      "outputs": [
        {
          "output_type": "execute_result",
          "data": {
            "text/plain": [
              "        UserId  ItemId  Rating                Time\n",
              "5170        36    1387       5 2002-03-12 03:46:59\n",
              "5267        36    1201       4 2002-03-12 03:46:59\n",
              "5122        36    1291       5 2002-03-12 03:47:16\n",
              "5123        36    2167       5 2002-03-12 03:48:25\n",
              "5290        36    2951       4 2002-03-12 03:48:25\n",
              "...        ...     ...     ...                 ...\n",
              "992358    5996    3835       3 2002-04-29 20:46:24\n",
              "992279    5996    2422       3 2002-04-29 20:47:05\n",
              "992702    5996     168       3 2002-09-03 13:12:26\n",
              "992459    5996     339       4 2002-10-07 13:24:39\n",
              "992387    5996    3882       3 2002-11-04 16:55:55\n",
              "\n",
              "[21704 rows x 4 columns]"
            ],
            "text/html": [
              "\n",
              "  <div id=\"df-c1d28ccc-062e-47e3-a762-1cd6b93d9fdb\">\n",
              "    <div class=\"colab-df-container\">\n",
              "      <div>\n",
              "<style scoped>\n",
              "    .dataframe tbody tr th:only-of-type {\n",
              "        vertical-align: middle;\n",
              "    }\n",
              "\n",
              "    .dataframe tbody tr th {\n",
              "        vertical-align: top;\n",
              "    }\n",
              "\n",
              "    .dataframe thead th {\n",
              "        text-align: right;\n",
              "    }\n",
              "</style>\n",
              "<table border=\"1\" class=\"dataframe\">\n",
              "  <thead>\n",
              "    <tr style=\"text-align: right;\">\n",
              "      <th></th>\n",
              "      <th>UserId</th>\n",
              "      <th>ItemId</th>\n",
              "      <th>Rating</th>\n",
              "      <th>Time</th>\n",
              "    </tr>\n",
              "  </thead>\n",
              "  <tbody>\n",
              "    <tr>\n",
              "      <th>5170</th>\n",
              "      <td>36</td>\n",
              "      <td>1387</td>\n",
              "      <td>5</td>\n",
              "      <td>2002-03-12 03:46:59</td>\n",
              "    </tr>\n",
              "    <tr>\n",
              "      <th>5267</th>\n",
              "      <td>36</td>\n",
              "      <td>1201</td>\n",
              "      <td>4</td>\n",
              "      <td>2002-03-12 03:46:59</td>\n",
              "    </tr>\n",
              "    <tr>\n",
              "      <th>5122</th>\n",
              "      <td>36</td>\n",
              "      <td>1291</td>\n",
              "      <td>5</td>\n",
              "      <td>2002-03-12 03:47:16</td>\n",
              "    </tr>\n",
              "    <tr>\n",
              "      <th>5123</th>\n",
              "      <td>36</td>\n",
              "      <td>2167</td>\n",
              "      <td>5</td>\n",
              "      <td>2002-03-12 03:48:25</td>\n",
              "    </tr>\n",
              "    <tr>\n",
              "      <th>5290</th>\n",
              "      <td>36</td>\n",
              "      <td>2951</td>\n",
              "      <td>4</td>\n",
              "      <td>2002-03-12 03:48:25</td>\n",
              "    </tr>\n",
              "    <tr>\n",
              "      <th>...</th>\n",
              "      <td>...</td>\n",
              "      <td>...</td>\n",
              "      <td>...</td>\n",
              "      <td>...</td>\n",
              "    </tr>\n",
              "    <tr>\n",
              "      <th>992358</th>\n",
              "      <td>5996</td>\n",
              "      <td>3835</td>\n",
              "      <td>3</td>\n",
              "      <td>2002-04-29 20:46:24</td>\n",
              "    </tr>\n",
              "    <tr>\n",
              "      <th>992279</th>\n",
              "      <td>5996</td>\n",
              "      <td>2422</td>\n",
              "      <td>3</td>\n",
              "      <td>2002-04-29 20:47:05</td>\n",
              "    </tr>\n",
              "    <tr>\n",
              "      <th>992702</th>\n",
              "      <td>5996</td>\n",
              "      <td>168</td>\n",
              "      <td>3</td>\n",
              "      <td>2002-09-03 13:12:26</td>\n",
              "    </tr>\n",
              "    <tr>\n",
              "      <th>992459</th>\n",
              "      <td>5996</td>\n",
              "      <td>339</td>\n",
              "      <td>4</td>\n",
              "      <td>2002-10-07 13:24:39</td>\n",
              "    </tr>\n",
              "    <tr>\n",
              "      <th>992387</th>\n",
              "      <td>5996</td>\n",
              "      <td>3882</td>\n",
              "      <td>3</td>\n",
              "      <td>2002-11-04 16:55:55</td>\n",
              "    </tr>\n",
              "  </tbody>\n",
              "</table>\n",
              "<p>21704 rows × 4 columns</p>\n",
              "</div>\n",
              "      <button class=\"colab-df-convert\" onclick=\"convertToInteractive('df-c1d28ccc-062e-47e3-a762-1cd6b93d9fdb')\"\n",
              "              title=\"Convert this dataframe to an interactive table.\"\n",
              "              style=\"display:none;\">\n",
              "        \n",
              "  <svg xmlns=\"http://www.w3.org/2000/svg\" height=\"24px\"viewBox=\"0 0 24 24\"\n",
              "       width=\"24px\">\n",
              "    <path d=\"M0 0h24v24H0V0z\" fill=\"none\"/>\n",
              "    <path d=\"M18.56 5.44l.94 2.06.94-2.06 2.06-.94-2.06-.94-.94-2.06-.94 2.06-2.06.94zm-11 1L8.5 8.5l.94-2.06 2.06-.94-2.06-.94L8.5 2.5l-.94 2.06-2.06.94zm10 10l.94 2.06.94-2.06 2.06-.94-2.06-.94-.94-2.06-.94 2.06-2.06.94z\"/><path d=\"M17.41 7.96l-1.37-1.37c-.4-.4-.92-.59-1.43-.59-.52 0-1.04.2-1.43.59L10.3 9.45l-7.72 7.72c-.78.78-.78 2.05 0 2.83L4 21.41c.39.39.9.59 1.41.59.51 0 1.02-.2 1.41-.59l7.78-7.78 2.81-2.81c.8-.78.8-2.07 0-2.86zM5.41 20L4 18.59l7.72-7.72 1.47 1.35L5.41 20z\"/>\n",
              "  </svg>\n",
              "      </button>\n",
              "      \n",
              "  <style>\n",
              "    .colab-df-container {\n",
              "      display:flex;\n",
              "      flex-wrap:wrap;\n",
              "      gap: 12px;\n",
              "    }\n",
              "\n",
              "    .colab-df-convert {\n",
              "      background-color: #E8F0FE;\n",
              "      border: none;\n",
              "      border-radius: 50%;\n",
              "      cursor: pointer;\n",
              "      display: none;\n",
              "      fill: #1967D2;\n",
              "      height: 32px;\n",
              "      padding: 0 0 0 0;\n",
              "      width: 32px;\n",
              "    }\n",
              "\n",
              "    .colab-df-convert:hover {\n",
              "      background-color: #E2EBFA;\n",
              "      box-shadow: 0px 1px 2px rgba(60, 64, 67, 0.3), 0px 1px 3px 1px rgba(60, 64, 67, 0.15);\n",
              "      fill: #174EA6;\n",
              "    }\n",
              "\n",
              "    [theme=dark] .colab-df-convert {\n",
              "      background-color: #3B4455;\n",
              "      fill: #D2E3FC;\n",
              "    }\n",
              "\n",
              "    [theme=dark] .colab-df-convert:hover {\n",
              "      background-color: #434B5C;\n",
              "      box-shadow: 0px 1px 3px 1px rgba(0, 0, 0, 0.15);\n",
              "      filter: drop-shadow(0px 1px 2px rgba(0, 0, 0, 0.3));\n",
              "      fill: #FFFFFF;\n",
              "    }\n",
              "  </style>\n",
              "\n",
              "      <script>\n",
              "        const buttonEl =\n",
              "          document.querySelector('#df-c1d28ccc-062e-47e3-a762-1cd6b93d9fdb button.colab-df-convert');\n",
              "        buttonEl.style.display =\n",
              "          google.colab.kernel.accessAllowed ? 'block' : 'none';\n",
              "\n",
              "        async function convertToInteractive(key) {\n",
              "          const element = document.querySelector('#df-c1d28ccc-062e-47e3-a762-1cd6b93d9fdb');\n",
              "          const dataTable =\n",
              "            await google.colab.kernel.invokeFunction('convertToInteractive',\n",
              "                                                     [key], {});\n",
              "          if (!dataTable) return;\n",
              "\n",
              "          const docLinkHtml = 'Like what you see? Visit the ' +\n",
              "            '<a target=\"_blank\" href=https://colab.research.google.com/notebooks/data_table.ipynb>data table notebook</a>'\n",
              "            + ' to learn more about interactive tables.';\n",
              "          element.innerHTML = '';\n",
              "          dataTable['output_type'] = 'display_data';\n",
              "          await google.colab.output.renderOutput(dataTable, element);\n",
              "          const docLink = document.createElement('div');\n",
              "          docLink.innerHTML = docLinkHtml;\n",
              "          element.appendChild(docLink);\n",
              "        }\n",
              "      </script>\n",
              "    </div>\n",
              "  </div>\n",
              "  "
            ]
          },
          "metadata": {},
          "execution_count": 113
        }
      ],
      "metadata": {
        "colab": {
          "base_uri": "https://localhost:8080/",
          "height": 424
        },
        "id": "o4KZsGGk5nmM",
        "outputId": "444a79e4-74d2-44a9-f7a3-8392bad1202a"
      }
    },
    {
      "cell_type": "markdown",
      "source": [
        "## 2.4: Data Cleansing"
      ],
      "metadata": {
        "id": "mmZssZPo5nmM"
      }
    },
    {
      "cell_type": "code",
      "execution_count": 108,
      "source": [
        "# short_session을 제거한 다음 unpopular item을 제거하고, \n",
        "# 다시 길이가 1인 session이 생길 수 있어, 반복문을 통해 지속적으로 제거\n",
        "\n",
        "def cleanse_recursive(data: pd.DataFrame, shortest, least_click) -> pd.DataFrame:\n",
        "    while True:\n",
        "        before_len = len(data)\n",
        "        data = cleanse_short_session(data, shortest)\n",
        "        data = cleanse_unpopular_item(data, least_click)\n",
        "        after_len = len(data)\n",
        "        if before_len == after_len:\n",
        "            break\n",
        "    return data\n",
        "\n",
        "def cleanse_short_session(data: pd.DataFrame, shortest):\n",
        "    session_len = data.groupby('UserId').size()\n",
        "    session_use = session_len[session_len >= shortest].index\n",
        "    data = data[data['UserId'].isin(session_use)]\n",
        "    return data\n",
        "\n",
        "\n",
        "def cleanse_unpopular_item(data: pd.DataFrame, least_click):\n",
        "    item_popular = data.groupby('ItemId').size()\n",
        "    item_use = item_popular[item_popular >= least_click].index\n",
        "    data = data[data['ItemId'].isin(item_use)]\n",
        "    return data"
      ],
      "outputs": [],
      "metadata": {
        "id": "4OZIUh5D5nmN"
      }
    },
    {
      "cell_type": "code",
      "execution_count": 117,
      "source": [
        "# data cleansing; Each user has at least 20 ratings\n",
        "data1 = cleanse_recursive(data1, shortest=4, least_click=20)\n",
        "data1"
      ],
      "outputs": [
        {
          "output_type": "execute_result",
          "data": {
            "text/plain": [
              "        UserId  ItemId  Rating                Time\n",
              "5170        36    1387       5 2002-03-12 03:46:59\n",
              "5122        36    1291       5 2002-03-12 03:47:16\n",
              "5359        36    2115       5 2002-03-12 03:48:25\n",
              "5280        36    3174       4 2002-12-22 08:11:25\n",
              "5222        36     296       5 2002-12-22 08:16:59\n",
              "...        ...     ...     ...                 ...\n",
              "992203    5996    3791       3 2002-04-29 19:58:39\n",
              "992571    5996    3247       4 2002-04-29 20:05:17\n",
              "992355    5996    3826       1 2002-04-29 20:10:17\n",
              "992583    5996    2616       3 2002-04-29 20:16:15\n",
              "992387    5996    3882       3 2002-11-04 16:55:55\n",
              "\n",
              "[5735 rows x 4 columns]"
            ],
            "text/html": [
              "\n",
              "  <div id=\"df-e217bad8-4758-4a61-862b-719e96e25e5f\">\n",
              "    <div class=\"colab-df-container\">\n",
              "      <div>\n",
              "<style scoped>\n",
              "    .dataframe tbody tr th:only-of-type {\n",
              "        vertical-align: middle;\n",
              "    }\n",
              "\n",
              "    .dataframe tbody tr th {\n",
              "        vertical-align: top;\n",
              "    }\n",
              "\n",
              "    .dataframe thead th {\n",
              "        text-align: right;\n",
              "    }\n",
              "</style>\n",
              "<table border=\"1\" class=\"dataframe\">\n",
              "  <thead>\n",
              "    <tr style=\"text-align: right;\">\n",
              "      <th></th>\n",
              "      <th>UserId</th>\n",
              "      <th>ItemId</th>\n",
              "      <th>Rating</th>\n",
              "      <th>Time</th>\n",
              "    </tr>\n",
              "  </thead>\n",
              "  <tbody>\n",
              "    <tr>\n",
              "      <th>5170</th>\n",
              "      <td>36</td>\n",
              "      <td>1387</td>\n",
              "      <td>5</td>\n",
              "      <td>2002-03-12 03:46:59</td>\n",
              "    </tr>\n",
              "    <tr>\n",
              "      <th>5122</th>\n",
              "      <td>36</td>\n",
              "      <td>1291</td>\n",
              "      <td>5</td>\n",
              "      <td>2002-03-12 03:47:16</td>\n",
              "    </tr>\n",
              "    <tr>\n",
              "      <th>5359</th>\n",
              "      <td>36</td>\n",
              "      <td>2115</td>\n",
              "      <td>5</td>\n",
              "      <td>2002-03-12 03:48:25</td>\n",
              "    </tr>\n",
              "    <tr>\n",
              "      <th>5280</th>\n",
              "      <td>36</td>\n",
              "      <td>3174</td>\n",
              "      <td>4</td>\n",
              "      <td>2002-12-22 08:11:25</td>\n",
              "    </tr>\n",
              "    <tr>\n",
              "      <th>5222</th>\n",
              "      <td>36</td>\n",
              "      <td>296</td>\n",
              "      <td>5</td>\n",
              "      <td>2002-12-22 08:16:59</td>\n",
              "    </tr>\n",
              "    <tr>\n",
              "      <th>...</th>\n",
              "      <td>...</td>\n",
              "      <td>...</td>\n",
              "      <td>...</td>\n",
              "      <td>...</td>\n",
              "    </tr>\n",
              "    <tr>\n",
              "      <th>992203</th>\n",
              "      <td>5996</td>\n",
              "      <td>3791</td>\n",
              "      <td>3</td>\n",
              "      <td>2002-04-29 19:58:39</td>\n",
              "    </tr>\n",
              "    <tr>\n",
              "      <th>992571</th>\n",
              "      <td>5996</td>\n",
              "      <td>3247</td>\n",
              "      <td>4</td>\n",
              "      <td>2002-04-29 20:05:17</td>\n",
              "    </tr>\n",
              "    <tr>\n",
              "      <th>992355</th>\n",
              "      <td>5996</td>\n",
              "      <td>3826</td>\n",
              "      <td>1</td>\n",
              "      <td>2002-04-29 20:10:17</td>\n",
              "    </tr>\n",
              "    <tr>\n",
              "      <th>992583</th>\n",
              "      <td>5996</td>\n",
              "      <td>2616</td>\n",
              "      <td>3</td>\n",
              "      <td>2002-04-29 20:16:15</td>\n",
              "    </tr>\n",
              "    <tr>\n",
              "      <th>992387</th>\n",
              "      <td>5996</td>\n",
              "      <td>3882</td>\n",
              "      <td>3</td>\n",
              "      <td>2002-11-04 16:55:55</td>\n",
              "    </tr>\n",
              "  </tbody>\n",
              "</table>\n",
              "<p>5735 rows × 4 columns</p>\n",
              "</div>\n",
              "      <button class=\"colab-df-convert\" onclick=\"convertToInteractive('df-e217bad8-4758-4a61-862b-719e96e25e5f')\"\n",
              "              title=\"Convert this dataframe to an interactive table.\"\n",
              "              style=\"display:none;\">\n",
              "        \n",
              "  <svg xmlns=\"http://www.w3.org/2000/svg\" height=\"24px\"viewBox=\"0 0 24 24\"\n",
              "       width=\"24px\">\n",
              "    <path d=\"M0 0h24v24H0V0z\" fill=\"none\"/>\n",
              "    <path d=\"M18.56 5.44l.94 2.06.94-2.06 2.06-.94-2.06-.94-.94-2.06-.94 2.06-2.06.94zm-11 1L8.5 8.5l.94-2.06 2.06-.94-2.06-.94L8.5 2.5l-.94 2.06-2.06.94zm10 10l.94 2.06.94-2.06 2.06-.94-2.06-.94-.94-2.06-.94 2.06-2.06.94z\"/><path d=\"M17.41 7.96l-1.37-1.37c-.4-.4-.92-.59-1.43-.59-.52 0-1.04.2-1.43.59L10.3 9.45l-7.72 7.72c-.78.78-.78 2.05 0 2.83L4 21.41c.39.39.9.59 1.41.59.51 0 1.02-.2 1.41-.59l7.78-7.78 2.81-2.81c.8-.78.8-2.07 0-2.86zM5.41 20L4 18.59l7.72-7.72 1.47 1.35L5.41 20z\"/>\n",
              "  </svg>\n",
              "      </button>\n",
              "      \n",
              "  <style>\n",
              "    .colab-df-container {\n",
              "      display:flex;\n",
              "      flex-wrap:wrap;\n",
              "      gap: 12px;\n",
              "    }\n",
              "\n",
              "    .colab-df-convert {\n",
              "      background-color: #E8F0FE;\n",
              "      border: none;\n",
              "      border-radius: 50%;\n",
              "      cursor: pointer;\n",
              "      display: none;\n",
              "      fill: #1967D2;\n",
              "      height: 32px;\n",
              "      padding: 0 0 0 0;\n",
              "      width: 32px;\n",
              "    }\n",
              "\n",
              "    .colab-df-convert:hover {\n",
              "      background-color: #E2EBFA;\n",
              "      box-shadow: 0px 1px 2px rgba(60, 64, 67, 0.3), 0px 1px 3px 1px rgba(60, 64, 67, 0.15);\n",
              "      fill: #174EA6;\n",
              "    }\n",
              "\n",
              "    [theme=dark] .colab-df-convert {\n",
              "      background-color: #3B4455;\n",
              "      fill: #D2E3FC;\n",
              "    }\n",
              "\n",
              "    [theme=dark] .colab-df-convert:hover {\n",
              "      background-color: #434B5C;\n",
              "      box-shadow: 0px 1px 3px 1px rgba(0, 0, 0, 0.15);\n",
              "      filter: drop-shadow(0px 1px 2px rgba(0, 0, 0, 0.3));\n",
              "      fill: #FFFFFF;\n",
              "    }\n",
              "  </style>\n",
              "\n",
              "      <script>\n",
              "        const buttonEl =\n",
              "          document.querySelector('#df-e217bad8-4758-4a61-862b-719e96e25e5f button.colab-df-convert');\n",
              "        buttonEl.style.display =\n",
              "          google.colab.kernel.accessAllowed ? 'block' : 'none';\n",
              "\n",
              "        async function convertToInteractive(key) {\n",
              "          const element = document.querySelector('#df-e217bad8-4758-4a61-862b-719e96e25e5f');\n",
              "          const dataTable =\n",
              "            await google.colab.kernel.invokeFunction('convertToInteractive',\n",
              "                                                     [key], {});\n",
              "          if (!dataTable) return;\n",
              "\n",
              "          const docLinkHtml = 'Like what you see? Visit the ' +\n",
              "            '<a target=\"_blank\" href=https://colab.research.google.com/notebooks/data_table.ipynb>data table notebook</a>'\n",
              "            + ' to learn more about interactive tables.';\n",
              "          element.innerHTML = '';\n",
              "          dataTable['output_type'] = 'display_data';\n",
              "          await google.colab.output.renderOutput(dataTable, element);\n",
              "          const docLink = document.createElement('div');\n",
              "          docLink.innerHTML = docLinkHtml;\n",
              "          element.appendChild(docLink);\n",
              "        }\n",
              "      </script>\n",
              "    </div>\n",
              "  </div>\n",
              "  "
            ]
          },
          "metadata": {},
          "execution_count": 117
        }
      ],
      "metadata": {
        "colab": {
          "base_uri": "https://localhost:8080/",
          "height": 424
        },
        "id": "yM5PkxfN5nmN",
        "outputId": "e594b7fc-977a-4ca5-e0fc-7fb3911106c2"
      }
    },
    {
      "cell_type": "markdown",
      "source": [
        "## 2.5: Train / Valid / Test split"
      ],
      "metadata": {
        "id": "QSQ5SVE95nmO"
      }
    },
    {
      "cell_type": "code",
      "execution_count": 118,
      "source": [
        "def split_by_date(data: pd.DataFrame, n_days: int):\n",
        "    final_time = data['Time'].max()\n",
        "    session_last_time = data.groupby('UserId')['Time'].max()\n",
        "    session_in_train = session_last_time[session_last_time < final_time - dt.timedelta(n_days)].index\n",
        "    session_in_test = session_last_time[session_last_time >= final_time - dt.timedelta(n_days)].index\n",
        "\n",
        "    before_date = data[data['UserId'].isin(session_in_train)]\n",
        "    after_date = data[data['UserId'].isin(session_in_test)]\n",
        "    after_date = after_date[after_date['ItemId'].isin(before_date['ItemId'])]\n",
        "    return before_date, after_date"
      ],
      "outputs": [],
      "metadata": {
        "id": "EOqyaLF35nmP"
      }
    },
    {
      "cell_type": "code",
      "execution_count": 119,
      "source": [
        "# 가장 마지막 1일 기간 동안을 Test로, 2일 전부터 1일 전 까지를 valid set으로 나눔\n",
        "tr, test = split_by_date(data1, n_days=1)\n",
        "tr, val = split_by_date(tr, n_days=1)"
      ],
      "outputs": [],
      "metadata": {
        "id": "dmNuV2Ji5nmP"
      }
    },
    {
      "cell_type": "code",
      "execution_count": 122,
      "source": [
        "# data에 대한 정보를 살펴보기\n",
        "def stats_info(data: pd.DataFrame, status: str):\n",
        "    print(f'* {status} Set Stats Info\\n'\n",
        "          f'\\t Events: {len(data)}\\n'\n",
        "          f'\\t Sessions: {data[\"UserId\"].nunique()}\\n'\n",
        "          f'\\t Items: {data[\"ItemId\"].nunique()}\\n'\n",
        "          f'\\t First Time : {data[\"Time\"].min()}\\n'\n",
        "          f'\\t Last Time : {data[\"Time\"].max()}\\n')"
      ],
      "outputs": [],
      "metadata": {
        "id": "Tic8YJht5nmP"
      }
    },
    {
      "cell_type": "code",
      "execution_count": 123,
      "source": [
        "# tr, val, test에 대한 정보를 살펴보기\n",
        "stats_info(tr, 'train')\n",
        "stats_info(val, 'valid')\n",
        "stats_info(test, 'test')"
      ],
      "outputs": [
        {
          "output_type": "stream",
          "name": "stdout",
          "text": [
            "* train Set Stats Info\n",
            "\t Events: 5594\n",
            "\t Sessions: 322\n",
            "\t Items: 217\n",
            "\t First Time : 2002-02-28 19:06:39\n",
            "\t Last Time : 2003-02-24 19:35:37\n",
            "\n",
            "* valid Set Stats Info\n",
            "\t Events: 81\n",
            "\t Sessions: 3\n",
            "\t Items: 72\n",
            "\t First Time : 2002-03-12 21:07:55\n",
            "\t Last Time : 2003-02-26 16:17:34\n",
            "\n",
            "* test Set Stats Info\n",
            "\t Events: 60\n",
            "\t Sessions: 4\n",
            "\t Items: 53\n",
            "\t First Time : 2002-03-27 00:54:30\n",
            "\t Last Time : 2003-02-27 23:31:15\n",
            "\n"
          ]
        }
      ],
      "metadata": {
        "colab": {
          "base_uri": "https://localhost:8080/"
        },
        "id": "85FKOHQc5nmQ",
        "outputId": "e7866788-b040-449d-bfb1-9a7b7f2cc6fa"
      }
    },
    {
      "cell_type": "code",
      "execution_count": 124,
      "source": [
        "# train set에 없는 아이템이 val, test기간에 생길 수 있으므로 train data를 기준으로 인덱싱\n",
        "id2idx = {item_id : index for index, item_id in enumerate(tr['ItemId'].unique())}\n",
        "\n",
        "def indexing(df, id2idx):\n",
        "    df['item_idx'] = df['ItemId'].map(lambda x: id2idx.get(x, -1))  # id2idx에 없는 아이템은 모르는 값(-1) 처리 해줌\n",
        "    return df\n",
        "\n",
        "tr = indexing(tr, id2idx)\n",
        "val = indexing(val, id2idx)\n",
        "test = indexing(test, id2idx)"
      ],
      "outputs": [],
      "metadata": {
        "id": "kfY12JNQ5nmQ"
      }
    },
    {
      "cell_type": "code",
      "execution_count": 125,
      "source": [
        "# 데이터를 저장\n",
        "save_path = data_path / 'processed'\n",
        "save_path.mkdir(parents=True, exist_ok=True)\n",
        "\n",
        "tr.to_pickle(save_path / 'train.pkl')\n",
        "val.to_pickle(save_path / 'valid.pkl')\n",
        "test.to_pickle(save_path / 'test.pkl')"
      ],
      "outputs": [],
      "metadata": {
        "id": "kedVl77C5nmQ"
      }
    },
    {
      "cell_type": "markdown",
      "source": [
        "# 3: 미니 배치의 구성"
      ],
      "metadata": {
        "id": "mq_auSKkA0bE"
      }
    },
    {
      "cell_type": "markdown",
      "source": [
        "## 3.1: SessionDataset"
      ],
      "metadata": {
        "id": "l0zltpzh5nmR"
      }
    },
    {
      "cell_type": "code",
      "execution_count": 128,
      "source": [
        "# SessionDataset\n",
        "class SessionDataset:\n",
        "    def __init__(self, data):\n",
        "        self.df = data\n",
        "        self.click_offsets = self.get_click_offsets()\n",
        "        self.session_idx = np.arange(self.df['UserId'].nunique())  # indexing to SessionId\n",
        "\n",
        "    def get_click_offsets(self):\n",
        "        \"\"\"\n",
        "        Return the indexes of the first click of each session IDs,\n",
        "        \"\"\"\n",
        "        offsets = np.zeros(self.df['UserId'].nunique() + 1, dtype=np.int32)\n",
        "        offsets[1:] = self.df.groupby('UserId').size().cumsum()\n",
        "        return offsets"
      ],
      "outputs": [],
      "metadata": {
        "id": "nKfXXTig5nmS"
      }
    },
    {
      "cell_type": "code",
      "execution_count": 129,
      "source": [
        "# train데이터로 SessionDataset 객체를 만들고 인스턴스 변수들을 살펴보기\n",
        "tr_dataset = SessionDataset(tr)\n",
        "tr_dataset.df.head(10)"
      ],
      "outputs": [
        {
          "output_type": "execute_result",
          "data": {
            "text/plain": [
              "      UserId  ItemId  Rating                Time  item_idx\n",
              "5170      36    1387       5 2002-03-12 03:46:59         0\n",
              "5122      36    1291       5 2002-03-12 03:47:16         1\n",
              "5359      36    2115       5 2002-03-12 03:48:25         2\n",
              "5280      36    3174       4 2002-12-22 08:11:25         3\n",
              "5222      36     296       5 2002-12-22 08:16:59         4\n",
              "5062      36    1266       5 2002-12-22 08:18:29         5\n",
              "5076      36     595       4 2002-12-22 08:18:29         6\n",
              "8704      59    2997       4 2003-01-07 18:02:48         7\n",
              "8797      59    3408       4 2003-01-07 18:04:52         8\n",
              "8808      59    2712       3 2003-01-07 18:04:52         9"
            ],
            "text/html": [
              "\n",
              "  <div id=\"df-2a4ab5b2-731e-439d-bb1b-1cb4c3e24814\">\n",
              "    <div class=\"colab-df-container\">\n",
              "      <div>\n",
              "<style scoped>\n",
              "    .dataframe tbody tr th:only-of-type {\n",
              "        vertical-align: middle;\n",
              "    }\n",
              "\n",
              "    .dataframe tbody tr th {\n",
              "        vertical-align: top;\n",
              "    }\n",
              "\n",
              "    .dataframe thead th {\n",
              "        text-align: right;\n",
              "    }\n",
              "</style>\n",
              "<table border=\"1\" class=\"dataframe\">\n",
              "  <thead>\n",
              "    <tr style=\"text-align: right;\">\n",
              "      <th></th>\n",
              "      <th>UserId</th>\n",
              "      <th>ItemId</th>\n",
              "      <th>Rating</th>\n",
              "      <th>Time</th>\n",
              "      <th>item_idx</th>\n",
              "    </tr>\n",
              "  </thead>\n",
              "  <tbody>\n",
              "    <tr>\n",
              "      <th>5170</th>\n",
              "      <td>36</td>\n",
              "      <td>1387</td>\n",
              "      <td>5</td>\n",
              "      <td>2002-03-12 03:46:59</td>\n",
              "      <td>0</td>\n",
              "    </tr>\n",
              "    <tr>\n",
              "      <th>5122</th>\n",
              "      <td>36</td>\n",
              "      <td>1291</td>\n",
              "      <td>5</td>\n",
              "      <td>2002-03-12 03:47:16</td>\n",
              "      <td>1</td>\n",
              "    </tr>\n",
              "    <tr>\n",
              "      <th>5359</th>\n",
              "      <td>36</td>\n",
              "      <td>2115</td>\n",
              "      <td>5</td>\n",
              "      <td>2002-03-12 03:48:25</td>\n",
              "      <td>2</td>\n",
              "    </tr>\n",
              "    <tr>\n",
              "      <th>5280</th>\n",
              "      <td>36</td>\n",
              "      <td>3174</td>\n",
              "      <td>4</td>\n",
              "      <td>2002-12-22 08:11:25</td>\n",
              "      <td>3</td>\n",
              "    </tr>\n",
              "    <tr>\n",
              "      <th>5222</th>\n",
              "      <td>36</td>\n",
              "      <td>296</td>\n",
              "      <td>5</td>\n",
              "      <td>2002-12-22 08:16:59</td>\n",
              "      <td>4</td>\n",
              "    </tr>\n",
              "    <tr>\n",
              "      <th>5062</th>\n",
              "      <td>36</td>\n",
              "      <td>1266</td>\n",
              "      <td>5</td>\n",
              "      <td>2002-12-22 08:18:29</td>\n",
              "      <td>5</td>\n",
              "    </tr>\n",
              "    <tr>\n",
              "      <th>5076</th>\n",
              "      <td>36</td>\n",
              "      <td>595</td>\n",
              "      <td>4</td>\n",
              "      <td>2002-12-22 08:18:29</td>\n",
              "      <td>6</td>\n",
              "    </tr>\n",
              "    <tr>\n",
              "      <th>8704</th>\n",
              "      <td>59</td>\n",
              "      <td>2997</td>\n",
              "      <td>4</td>\n",
              "      <td>2003-01-07 18:02:48</td>\n",
              "      <td>7</td>\n",
              "    </tr>\n",
              "    <tr>\n",
              "      <th>8797</th>\n",
              "      <td>59</td>\n",
              "      <td>3408</td>\n",
              "      <td>4</td>\n",
              "      <td>2003-01-07 18:04:52</td>\n",
              "      <td>8</td>\n",
              "    </tr>\n",
              "    <tr>\n",
              "      <th>8808</th>\n",
              "      <td>59</td>\n",
              "      <td>2712</td>\n",
              "      <td>3</td>\n",
              "      <td>2003-01-07 18:04:52</td>\n",
              "      <td>9</td>\n",
              "    </tr>\n",
              "  </tbody>\n",
              "</table>\n",
              "</div>\n",
              "      <button class=\"colab-df-convert\" onclick=\"convertToInteractive('df-2a4ab5b2-731e-439d-bb1b-1cb4c3e24814')\"\n",
              "              title=\"Convert this dataframe to an interactive table.\"\n",
              "              style=\"display:none;\">\n",
              "        \n",
              "  <svg xmlns=\"http://www.w3.org/2000/svg\" height=\"24px\"viewBox=\"0 0 24 24\"\n",
              "       width=\"24px\">\n",
              "    <path d=\"M0 0h24v24H0V0z\" fill=\"none\"/>\n",
              "    <path d=\"M18.56 5.44l.94 2.06.94-2.06 2.06-.94-2.06-.94-.94-2.06-.94 2.06-2.06.94zm-11 1L8.5 8.5l.94-2.06 2.06-.94-2.06-.94L8.5 2.5l-.94 2.06-2.06.94zm10 10l.94 2.06.94-2.06 2.06-.94-2.06-.94-.94-2.06-.94 2.06-2.06.94z\"/><path d=\"M17.41 7.96l-1.37-1.37c-.4-.4-.92-.59-1.43-.59-.52 0-1.04.2-1.43.59L10.3 9.45l-7.72 7.72c-.78.78-.78 2.05 0 2.83L4 21.41c.39.39.9.59 1.41.59.51 0 1.02-.2 1.41-.59l7.78-7.78 2.81-2.81c.8-.78.8-2.07 0-2.86zM5.41 20L4 18.59l7.72-7.72 1.47 1.35L5.41 20z\"/>\n",
              "  </svg>\n",
              "      </button>\n",
              "      \n",
              "  <style>\n",
              "    .colab-df-container {\n",
              "      display:flex;\n",
              "      flex-wrap:wrap;\n",
              "      gap: 12px;\n",
              "    }\n",
              "\n",
              "    .colab-df-convert {\n",
              "      background-color: #E8F0FE;\n",
              "      border: none;\n",
              "      border-radius: 50%;\n",
              "      cursor: pointer;\n",
              "      display: none;\n",
              "      fill: #1967D2;\n",
              "      height: 32px;\n",
              "      padding: 0 0 0 0;\n",
              "      width: 32px;\n",
              "    }\n",
              "\n",
              "    .colab-df-convert:hover {\n",
              "      background-color: #E2EBFA;\n",
              "      box-shadow: 0px 1px 2px rgba(60, 64, 67, 0.3), 0px 1px 3px 1px rgba(60, 64, 67, 0.15);\n",
              "      fill: #174EA6;\n",
              "    }\n",
              "\n",
              "    [theme=dark] .colab-df-convert {\n",
              "      background-color: #3B4455;\n",
              "      fill: #D2E3FC;\n",
              "    }\n",
              "\n",
              "    [theme=dark] .colab-df-convert:hover {\n",
              "      background-color: #434B5C;\n",
              "      box-shadow: 0px 1px 3px 1px rgba(0, 0, 0, 0.15);\n",
              "      filter: drop-shadow(0px 1px 2px rgba(0, 0, 0, 0.3));\n",
              "      fill: #FFFFFF;\n",
              "    }\n",
              "  </style>\n",
              "\n",
              "      <script>\n",
              "        const buttonEl =\n",
              "          document.querySelector('#df-2a4ab5b2-731e-439d-bb1b-1cb4c3e24814 button.colab-df-convert');\n",
              "        buttonEl.style.display =\n",
              "          google.colab.kernel.accessAllowed ? 'block' : 'none';\n",
              "\n",
              "        async function convertToInteractive(key) {\n",
              "          const element = document.querySelector('#df-2a4ab5b2-731e-439d-bb1b-1cb4c3e24814');\n",
              "          const dataTable =\n",
              "            await google.colab.kernel.invokeFunction('convertToInteractive',\n",
              "                                                     [key], {});\n",
              "          if (!dataTable) return;\n",
              "\n",
              "          const docLinkHtml = 'Like what you see? Visit the ' +\n",
              "            '<a target=\"_blank\" href=https://colab.research.google.com/notebooks/data_table.ipynb>data table notebook</a>'\n",
              "            + ' to learn more about interactive tables.';\n",
              "          element.innerHTML = '';\n",
              "          dataTable['output_type'] = 'display_data';\n",
              "          await google.colab.output.renderOutput(dataTable, element);\n",
              "          const docLink = document.createElement('div');\n",
              "          docLink.innerHTML = docLinkHtml;\n",
              "          element.appendChild(docLink);\n",
              "        }\n",
              "      </script>\n",
              "    </div>\n",
              "  </div>\n",
              "  "
            ]
          },
          "metadata": {},
          "execution_count": 129
        }
      ],
      "metadata": {
        "colab": {
          "base_uri": "https://localhost:8080/",
          "height": 363
        },
        "id": "u95dH6875nmS",
        "outputId": "791f39d4-bdc2-48a8-c285-73489735abe6"
      }
    },
    {
      "cell_type": "code",
      "execution_count": 130,
      "source": [
        "# tr_dataset.click_offsets\n",
        "tr_dataset.click_offsets"
      ],
      "outputs": [
        {
          "output_type": "execute_result",
          "data": {
            "text/plain": [
              "array([   0,    7,   47,   53,   89,  106,  115,  121,  125,  143,  169,\n",
              "        177,  206,  223,  259,  287,  295,  309,  313,  345,  379,  470,\n",
              "        485,  490,  529,  535,  604,  613,  654,  666,  674,  679,  687,\n",
              "        703,  727,  759,  763,  769,  817,  822,  851,  876,  880,  926,\n",
              "        930,  944,  948,  958,  973,  994, 1016, 1029, 1034, 1088, 1110,\n",
              "       1125, 1140, 1172, 1187, 1192, 1200, 1233, 1241, 1367, 1371, 1384,\n",
              "       1391, 1397, 1415, 1424, 1429, 1435, 1455, 1471, 1494, 1499, 1507,\n",
              "       1522, 1530, 1544, 1577, 1594, 1605, 1626, 1659, 1672, 1689, 1699,\n",
              "       1707, 1712, 1717, 1742, 1751, 1757, 1769, 1784, 1799, 1805, 1843,\n",
              "       1856, 1920, 1929, 1935, 1950, 1974, 1987, 2035, 2053, 2099, 2123,\n",
              "       2137, 2155, 2163, 2173, 2193, 2203, 2213, 2237, 2260, 2270, 2277,\n",
              "       2284, 2299, 2304, 2313, 2319, 2324, 2342, 2356, 2386, 2390, 2404,\n",
              "       2417, 2425, 2429, 2435, 2444, 2457, 2490, 2509, 2517, 2547, 2553,\n",
              "       2564, 2570, 2597, 2613, 2648, 2669, 2704, 2708, 2735, 2747, 2751,\n",
              "       2758, 2763, 2767, 2773, 2779, 2805, 2815, 2889, 2899, 2903, 2921,\n",
              "       2936, 2964, 2969, 3002, 3011, 3015, 3073, 3091, 3150, 3176, 3200,\n",
              "       3251, 3255, 3259, 3280, 3289, 3294, 3317, 3332, 3343, 3347, 3357,\n",
              "       3367, 3380, 3384, 3395, 3400, 3406, 3411, 3415, 3467, 3477, 3485,\n",
              "       3496, 3528, 3560, 3567, 3596, 3624, 3630, 3642, 3657, 3685, 3691,\n",
              "       3746, 3759, 3770, 3775, 3800, 3804, 3810, 3824, 3846, 3855, 3862,\n",
              "       3875, 3886, 3903, 3911, 3919, 3931, 3947, 3956, 3977, 4016, 4042,\n",
              "       4049, 4059, 4065, 4072, 4085, 4103, 4157, 4184, 4190, 4197, 4246,\n",
              "       4252, 4257, 4265, 4318, 4324, 4364, 4391, 4405, 4415, 4422, 4433,\n",
              "       4449, 4456, 4505, 4509, 4519, 4552, 4581, 4588, 4594, 4602, 4610,\n",
              "       4637, 4642, 4649, 4653, 4657, 4670, 4711, 4717, 4769, 4774, 4808,\n",
              "       4818, 4824, 4840, 4852, 4859, 4870, 4874, 4882, 4903, 5011, 5038,\n",
              "       5047, 5060, 5070, 5084, 5089, 5118, 5129, 5139, 5147, 5157, 5161,\n",
              "       5167, 5177, 5188, 5220, 5250, 5258, 5284, 5292, 5299, 5304, 5311,\n",
              "       5321, 5326, 5331, 5335, 5344, 5365, 5381, 5450, 5461, 5493, 5506,\n",
              "       5558, 5562, 5566, 5594], dtype=int32)"
            ]
          },
          "metadata": {},
          "execution_count": 130
        }
      ],
      "metadata": {
        "colab": {
          "base_uri": "https://localhost:8080/"
        },
        "id": "vR7Y61pW5nmS",
        "outputId": "64ebf123-b3e6-4b68-dba8-8310c65cb90e"
      }
    },
    {
      "cell_type": "code",
      "execution_count": 131,
      "source": [
        "# tr_dataset.session_idx\n",
        "tr_dataset.session_idx"
      ],
      "outputs": [
        {
          "output_type": "execute_result",
          "data": {
            "text/plain": [
              "array([  0,   1,   2,   3,   4,   5,   6,   7,   8,   9,  10,  11,  12,\n",
              "        13,  14,  15,  16,  17,  18,  19,  20,  21,  22,  23,  24,  25,\n",
              "        26,  27,  28,  29,  30,  31,  32,  33,  34,  35,  36,  37,  38,\n",
              "        39,  40,  41,  42,  43,  44,  45,  46,  47,  48,  49,  50,  51,\n",
              "        52,  53,  54,  55,  56,  57,  58,  59,  60,  61,  62,  63,  64,\n",
              "        65,  66,  67,  68,  69,  70,  71,  72,  73,  74,  75,  76,  77,\n",
              "        78,  79,  80,  81,  82,  83,  84,  85,  86,  87,  88,  89,  90,\n",
              "        91,  92,  93,  94,  95,  96,  97,  98,  99, 100, 101, 102, 103,\n",
              "       104, 105, 106, 107, 108, 109, 110, 111, 112, 113, 114, 115, 116,\n",
              "       117, 118, 119, 120, 121, 122, 123, 124, 125, 126, 127, 128, 129,\n",
              "       130, 131, 132, 133, 134, 135, 136, 137, 138, 139, 140, 141, 142,\n",
              "       143, 144, 145, 146, 147, 148, 149, 150, 151, 152, 153, 154, 155,\n",
              "       156, 157, 158, 159, 160, 161, 162, 163, 164, 165, 166, 167, 168,\n",
              "       169, 170, 171, 172, 173, 174, 175, 176, 177, 178, 179, 180, 181,\n",
              "       182, 183, 184, 185, 186, 187, 188, 189, 190, 191, 192, 193, 194,\n",
              "       195, 196, 197, 198, 199, 200, 201, 202, 203, 204, 205, 206, 207,\n",
              "       208, 209, 210, 211, 212, 213, 214, 215, 216, 217, 218, 219, 220,\n",
              "       221, 222, 223, 224, 225, 226, 227, 228, 229, 230, 231, 232, 233,\n",
              "       234, 235, 236, 237, 238, 239, 240, 241, 242, 243, 244, 245, 246,\n",
              "       247, 248, 249, 250, 251, 252, 253, 254, 255, 256, 257, 258, 259,\n",
              "       260, 261, 262, 263, 264, 265, 266, 267, 268, 269, 270, 271, 272,\n",
              "       273, 274, 275, 276, 277, 278, 279, 280, 281, 282, 283, 284, 285,\n",
              "       286, 287, 288, 289, 290, 291, 292, 293, 294, 295, 296, 297, 298,\n",
              "       299, 300, 301, 302, 303, 304, 305, 306, 307, 308, 309, 310, 311,\n",
              "       312, 313, 314, 315, 316, 317, 318, 319, 320, 321])"
            ]
          },
          "metadata": {},
          "execution_count": 131
        }
      ],
      "metadata": {
        "colab": {
          "base_uri": "https://localhost:8080/"
        },
        "id": "-dyVlEc_5nmT",
        "outputId": "62e55f5c-5383-4069-b90c-8c276026025b"
      }
    },
    {
      "cell_type": "markdown",
      "source": [
        "## 3.2: SessionDataLoader"
      ],
      "metadata": {
        "id": "QIY6gQy-5nmT"
      }
    },
    {
      "cell_type": "code",
      "execution_count": 132,
      "source": [
        "# SessionDataLoader\n",
        "class SessionDataLoader:\n",
        "    def __init__(self, dataset: SessionDataset, batch_size=50):\n",
        "        self.dataset = dataset\n",
        "        self.batch_size = batch_size\n",
        "\n",
        "    def __iter__(self):\n",
        "        start, end, mask, last_session, finished = self.initialize()  # initialize 메소드에서 확인\n",
        "        while not finished:\n",
        "            min_len = (end - start).min() - 1  # Shortest Length Among Sessions\n",
        "            for i in range(min_len):\n",
        "                # Build inputs & targets\n",
        "                inp = self.dataset.df['item_idx'].values[start + i]\n",
        "                target = self.dataset.df['item_idx'].values[start + i + 1]\n",
        "                yield inp, target, mask\n",
        "\n",
        "            start, end, mask, last_session, finished = self.update_status(start, end, min_len, last_session, finished)\n",
        "\n",
        "    def initialize(self):\n",
        "        first_iters = np.arange(self.batch_size)    # 첫 배치에 사용할 세션 Index를 가져옵니다.\n",
        "        last_session = self.batch_size - 1    # 마지막으로 다루고 있는 세션 Index를 저장해둡니다.\n",
        "        start = self.dataset.click_offsets[self.dataset.session_idx[first_iters]]       # data 상에서 session이 시작된 위치를 가져옵니다.\n",
        "        end = self.dataset.click_offsets[self.dataset.session_idx[first_iters] + 1]  # session이 끝난 위치 바로 다음 위치를 가져옵니다.\n",
        "        mask = np.array([])   # session의 모든 아이템을 다 돌은 경우 mask에 추가해줄 것입니다.\n",
        "        finished = False         # data를 전부 돌았는지 기록하기 위한 변수입니다.\n",
        "        return start, end, mask, last_session, finished\n",
        "\n",
        "    def update_status(self, start: np.ndarray, end: np.ndarray, min_len: int, last_session: int, finished: bool):  \n",
        "        # 다음 배치 데이터를 생성하기 위해 상태를 update합니다.\n",
        "        \n",
        "        start += min_len   # __iter__에서 min_len 만큼 for문을 돌았으므로 start를 min_len 만큼 더해줍니다.\n",
        "        mask = np.arange(self.batch_size)[(end - start) == 1]  \n",
        "        # end는 다음 세션이 시작되는 위치인데 start와 한 칸 차이난다는 것은 session이 끝났다는 뜻입니다. mask에 기록해줍니다.\n",
        "\n",
        "        for i, idx in enumerate(mask, start=1):  # mask에 추가된 세션 개수만큼 새로운 세션을 돌것입니다.\n",
        "            new_session = last_session + i  \n",
        "            if new_session > self.dataset.session_idx[-1]:  # 만약 새로운 세션이 마지막 세션 index보다 크다면 모든 학습데이터를 돈 것입니다.\n",
        "                finished = True\n",
        "                break\n",
        "            # update the next starting/ending point\n",
        "            start[idx] = self.dataset.click_offsets[self.dataset.session_idx[new_session]]     # 종료된 세션 대신 새로운 세션의 시작점을 기록합니다.\n",
        "            end[idx] = self.dataset.click_offsets[self.dataset.session_idx[new_session] + 1]\n",
        "\n",
        "        last_session += len(mask)  # 마지막 세션의 위치를 기록해둡니다.\n",
        "        return start, end, mask, last_session, finished"
      ],
      "outputs": [],
      "metadata": {
        "id": "p5SnfjNq5nmU"
      }
    },
    {
      "cell_type": "code",
      "execution_count": 133,
      "source": [
        "# SessionDataLoader 데이터 확인\n",
        "tr_data_loader = SessionDataLoader(tr_dataset, batch_size=4)\n",
        "tr_dataset.df.head(15)"
      ],
      "outputs": [
        {
          "output_type": "execute_result",
          "data": {
            "text/plain": [
              "      UserId  ItemId  Rating                Time  item_idx\n",
              "5170      36    1387       5 2002-03-12 03:46:59         0\n",
              "5122      36    1291       5 2002-03-12 03:47:16         1\n",
              "5359      36    2115       5 2002-03-12 03:48:25         2\n",
              "5280      36    3174       4 2002-12-22 08:11:25         3\n",
              "5222      36     296       5 2002-12-22 08:16:59         4\n",
              "5062      36    1266       5 2002-12-22 08:18:29         5\n",
              "5076      36     595       4 2002-12-22 08:18:29         6\n",
              "8704      59    2997       4 2003-01-07 18:02:48         7\n",
              "8797      59    3408       4 2003-01-07 18:04:52         8\n",
              "8808      59    2712       3 2003-01-07 18:04:52         9\n",
              "8809      59    2716       3 2003-01-07 18:05:31        10\n",
              "8834      59    2686       4 2003-01-07 18:06:48        11\n",
              "8798      59    2396       4 2003-01-07 18:07:15        12\n",
              "8839      59    2762       3 2003-01-07 18:07:15        13\n",
              "8906      59    1172       4 2003-01-07 18:09:03        14"
            ],
            "text/html": [
              "\n",
              "  <div id=\"df-9ae6c042-d002-4043-8028-2b1899441d34\">\n",
              "    <div class=\"colab-df-container\">\n",
              "      <div>\n",
              "<style scoped>\n",
              "    .dataframe tbody tr th:only-of-type {\n",
              "        vertical-align: middle;\n",
              "    }\n",
              "\n",
              "    .dataframe tbody tr th {\n",
              "        vertical-align: top;\n",
              "    }\n",
              "\n",
              "    .dataframe thead th {\n",
              "        text-align: right;\n",
              "    }\n",
              "</style>\n",
              "<table border=\"1\" class=\"dataframe\">\n",
              "  <thead>\n",
              "    <tr style=\"text-align: right;\">\n",
              "      <th></th>\n",
              "      <th>UserId</th>\n",
              "      <th>ItemId</th>\n",
              "      <th>Rating</th>\n",
              "      <th>Time</th>\n",
              "      <th>item_idx</th>\n",
              "    </tr>\n",
              "  </thead>\n",
              "  <tbody>\n",
              "    <tr>\n",
              "      <th>5170</th>\n",
              "      <td>36</td>\n",
              "      <td>1387</td>\n",
              "      <td>5</td>\n",
              "      <td>2002-03-12 03:46:59</td>\n",
              "      <td>0</td>\n",
              "    </tr>\n",
              "    <tr>\n",
              "      <th>5122</th>\n",
              "      <td>36</td>\n",
              "      <td>1291</td>\n",
              "      <td>5</td>\n",
              "      <td>2002-03-12 03:47:16</td>\n",
              "      <td>1</td>\n",
              "    </tr>\n",
              "    <tr>\n",
              "      <th>5359</th>\n",
              "      <td>36</td>\n",
              "      <td>2115</td>\n",
              "      <td>5</td>\n",
              "      <td>2002-03-12 03:48:25</td>\n",
              "      <td>2</td>\n",
              "    </tr>\n",
              "    <tr>\n",
              "      <th>5280</th>\n",
              "      <td>36</td>\n",
              "      <td>3174</td>\n",
              "      <td>4</td>\n",
              "      <td>2002-12-22 08:11:25</td>\n",
              "      <td>3</td>\n",
              "    </tr>\n",
              "    <tr>\n",
              "      <th>5222</th>\n",
              "      <td>36</td>\n",
              "      <td>296</td>\n",
              "      <td>5</td>\n",
              "      <td>2002-12-22 08:16:59</td>\n",
              "      <td>4</td>\n",
              "    </tr>\n",
              "    <tr>\n",
              "      <th>5062</th>\n",
              "      <td>36</td>\n",
              "      <td>1266</td>\n",
              "      <td>5</td>\n",
              "      <td>2002-12-22 08:18:29</td>\n",
              "      <td>5</td>\n",
              "    </tr>\n",
              "    <tr>\n",
              "      <th>5076</th>\n",
              "      <td>36</td>\n",
              "      <td>595</td>\n",
              "      <td>4</td>\n",
              "      <td>2002-12-22 08:18:29</td>\n",
              "      <td>6</td>\n",
              "    </tr>\n",
              "    <tr>\n",
              "      <th>8704</th>\n",
              "      <td>59</td>\n",
              "      <td>2997</td>\n",
              "      <td>4</td>\n",
              "      <td>2003-01-07 18:02:48</td>\n",
              "      <td>7</td>\n",
              "    </tr>\n",
              "    <tr>\n",
              "      <th>8797</th>\n",
              "      <td>59</td>\n",
              "      <td>3408</td>\n",
              "      <td>4</td>\n",
              "      <td>2003-01-07 18:04:52</td>\n",
              "      <td>8</td>\n",
              "    </tr>\n",
              "    <tr>\n",
              "      <th>8808</th>\n",
              "      <td>59</td>\n",
              "      <td>2712</td>\n",
              "      <td>3</td>\n",
              "      <td>2003-01-07 18:04:52</td>\n",
              "      <td>9</td>\n",
              "    </tr>\n",
              "    <tr>\n",
              "      <th>8809</th>\n",
              "      <td>59</td>\n",
              "      <td>2716</td>\n",
              "      <td>3</td>\n",
              "      <td>2003-01-07 18:05:31</td>\n",
              "      <td>10</td>\n",
              "    </tr>\n",
              "    <tr>\n",
              "      <th>8834</th>\n",
              "      <td>59</td>\n",
              "      <td>2686</td>\n",
              "      <td>4</td>\n",
              "      <td>2003-01-07 18:06:48</td>\n",
              "      <td>11</td>\n",
              "    </tr>\n",
              "    <tr>\n",
              "      <th>8798</th>\n",
              "      <td>59</td>\n",
              "      <td>2396</td>\n",
              "      <td>4</td>\n",
              "      <td>2003-01-07 18:07:15</td>\n",
              "      <td>12</td>\n",
              "    </tr>\n",
              "    <tr>\n",
              "      <th>8839</th>\n",
              "      <td>59</td>\n",
              "      <td>2762</td>\n",
              "      <td>3</td>\n",
              "      <td>2003-01-07 18:07:15</td>\n",
              "      <td>13</td>\n",
              "    </tr>\n",
              "    <tr>\n",
              "      <th>8906</th>\n",
              "      <td>59</td>\n",
              "      <td>1172</td>\n",
              "      <td>4</td>\n",
              "      <td>2003-01-07 18:09:03</td>\n",
              "      <td>14</td>\n",
              "    </tr>\n",
              "  </tbody>\n",
              "</table>\n",
              "</div>\n",
              "      <button class=\"colab-df-convert\" onclick=\"convertToInteractive('df-9ae6c042-d002-4043-8028-2b1899441d34')\"\n",
              "              title=\"Convert this dataframe to an interactive table.\"\n",
              "              style=\"display:none;\">\n",
              "        \n",
              "  <svg xmlns=\"http://www.w3.org/2000/svg\" height=\"24px\"viewBox=\"0 0 24 24\"\n",
              "       width=\"24px\">\n",
              "    <path d=\"M0 0h24v24H0V0z\" fill=\"none\"/>\n",
              "    <path d=\"M18.56 5.44l.94 2.06.94-2.06 2.06-.94-2.06-.94-.94-2.06-.94 2.06-2.06.94zm-11 1L8.5 8.5l.94-2.06 2.06-.94-2.06-.94L8.5 2.5l-.94 2.06-2.06.94zm10 10l.94 2.06.94-2.06 2.06-.94-2.06-.94-.94-2.06-.94 2.06-2.06.94z\"/><path d=\"M17.41 7.96l-1.37-1.37c-.4-.4-.92-.59-1.43-.59-.52 0-1.04.2-1.43.59L10.3 9.45l-7.72 7.72c-.78.78-.78 2.05 0 2.83L4 21.41c.39.39.9.59 1.41.59.51 0 1.02-.2 1.41-.59l7.78-7.78 2.81-2.81c.8-.78.8-2.07 0-2.86zM5.41 20L4 18.59l7.72-7.72 1.47 1.35L5.41 20z\"/>\n",
              "  </svg>\n",
              "      </button>\n",
              "      \n",
              "  <style>\n",
              "    .colab-df-container {\n",
              "      display:flex;\n",
              "      flex-wrap:wrap;\n",
              "      gap: 12px;\n",
              "    }\n",
              "\n",
              "    .colab-df-convert {\n",
              "      background-color: #E8F0FE;\n",
              "      border: none;\n",
              "      border-radius: 50%;\n",
              "      cursor: pointer;\n",
              "      display: none;\n",
              "      fill: #1967D2;\n",
              "      height: 32px;\n",
              "      padding: 0 0 0 0;\n",
              "      width: 32px;\n",
              "    }\n",
              "\n",
              "    .colab-df-convert:hover {\n",
              "      background-color: #E2EBFA;\n",
              "      box-shadow: 0px 1px 2px rgba(60, 64, 67, 0.3), 0px 1px 3px 1px rgba(60, 64, 67, 0.15);\n",
              "      fill: #174EA6;\n",
              "    }\n",
              "\n",
              "    [theme=dark] .colab-df-convert {\n",
              "      background-color: #3B4455;\n",
              "      fill: #D2E3FC;\n",
              "    }\n",
              "\n",
              "    [theme=dark] .colab-df-convert:hover {\n",
              "      background-color: #434B5C;\n",
              "      box-shadow: 0px 1px 3px 1px rgba(0, 0, 0, 0.15);\n",
              "      filter: drop-shadow(0px 1px 2px rgba(0, 0, 0, 0.3));\n",
              "      fill: #FFFFFF;\n",
              "    }\n",
              "  </style>\n",
              "\n",
              "      <script>\n",
              "        const buttonEl =\n",
              "          document.querySelector('#df-9ae6c042-d002-4043-8028-2b1899441d34 button.colab-df-convert');\n",
              "        buttonEl.style.display =\n",
              "          google.colab.kernel.accessAllowed ? 'block' : 'none';\n",
              "\n",
              "        async function convertToInteractive(key) {\n",
              "          const element = document.querySelector('#df-9ae6c042-d002-4043-8028-2b1899441d34');\n",
              "          const dataTable =\n",
              "            await google.colab.kernel.invokeFunction('convertToInteractive',\n",
              "                                                     [key], {});\n",
              "          if (!dataTable) return;\n",
              "\n",
              "          const docLinkHtml = 'Like what you see? Visit the ' +\n",
              "            '<a target=\"_blank\" href=https://colab.research.google.com/notebooks/data_table.ipynb>data table notebook</a>'\n",
              "            + ' to learn more about interactive tables.';\n",
              "          element.innerHTML = '';\n",
              "          dataTable['output_type'] = 'display_data';\n",
              "          await google.colab.output.renderOutput(dataTable, element);\n",
              "          const docLink = document.createElement('div');\n",
              "          docLink.innerHTML = docLinkHtml;\n",
              "          element.appendChild(docLink);\n",
              "        }\n",
              "      </script>\n",
              "    </div>\n",
              "  </div>\n",
              "  "
            ]
          },
          "metadata": {},
          "execution_count": 133
        }
      ],
      "metadata": {
        "colab": {
          "base_uri": "https://localhost:8080/",
          "height": 520
        },
        "id": "DYLq6C385nmU",
        "outputId": "7d84841f-5bd6-4c80-f15c-2aadde0ec3d5"
      }
    },
    {
      "cell_type": "code",
      "execution_count": 134,
      "source": [
        "iter_ex = iter(tr_data_loader)"
      ],
      "outputs": [],
      "metadata": {
        "id": "6_BDDm0_5nmV"
      }
    },
    {
      "cell_type": "code",
      "execution_count": 135,
      "source": [
        "# input, output, mask 확인\n",
        "inputs, labels, mask =  next(iter_ex)\n",
        "print(f'Model Input Item Idx are : {inputs}')\n",
        "print(f'Label Item Idx are : {\"\":5} {labels}')\n",
        "print(f'Previous Masked Input Idx are {mask}')"
      ],
      "outputs": [
        {
          "output_type": "stream",
          "name": "stdout",
          "text": [
            "Model Input Item Idx are : [ 0  7 46 51]\n",
            "Label Item Idx are :       [ 1  8 47 52]\n",
            "Previous Masked Input Idx are []\n"
          ]
        }
      ],
      "metadata": {
        "colab": {
          "base_uri": "https://localhost:8080/"
        },
        "id": "8E7HAiPW5nmV",
        "outputId": "515c3cdf-8066-410d-9a90-c73b17a54ad4"
      }
    },
    {
      "cell_type": "markdown",
      "source": [
        "# 4: 모델 구성"
      ],
      "metadata": {
        "id": "IBbbe-pTA2oI"
      }
    },
    {
      "cell_type": "markdown",
      "source": [
        "## 4.1: Evaluation Metric"
      ],
      "metadata": {
        "id": "mwJfn55T5nmW"
      }
    },
    {
      "cell_type": "code",
      "execution_count": 136,
      "source": [
        "def mrr_k(pred, truth: int, k: int):\n",
        "    indexing = np.where(pred[:k] == truth)[0]\n",
        "    if len(indexing) > 0:\n",
        "        return 1 / (indexing[0] + 1)\n",
        "    else:\n",
        "        return 0\n",
        "\n",
        "def recall_k(pred, truth: int, k: int) -> int:\n",
        "    answer = truth in pred[:k]\n",
        "    return int(answer)"
      ],
      "outputs": [],
      "metadata": {
        "id": "x72FR3sa5nmX"
      }
    },
    {
      "cell_type": "markdown",
      "source": [
        "## 4.2: Model Architecture"
      ],
      "metadata": {
        "id": "wZNX5Dlz5nmX"
      }
    },
    {
      "cell_type": "code",
      "execution_count": 137,
      "source": [
        "# model 생성\n",
        "def create_model(args):\n",
        "    inputs = Input(batch_shape=(args.batch_size, 1, args.num_items))\n",
        "    gru, _ = GRU(args.hsz, stateful=True, return_state=True, name='GRU')(inputs)\n",
        "    dropout = Dropout(args.drop_rate)(gru)\n",
        "    predictions = Dense(args.num_items, activation='softmax')(dropout)\n",
        "    model = Model(inputs=inputs, outputs=[predictions])\n",
        "    model.compile(loss=categorical_crossentropy, optimizer=Adam(args.lr), metrics=['accuracy'])\n",
        "    model.summary()\n",
        "    return model"
      ],
      "outputs": [],
      "metadata": {
        "id": "89H-Xjnv5nmY"
      }
    },
    {
      "cell_type": "code",
      "execution_count": 139,
      "source": [
        "# hyper-parameter\n",
        "class Args:\n",
        "    def __init__(self, tr, val, test, batch_size, hsz, drop_rate, lr, epochs, k):\n",
        "        self.tr = tr\n",
        "        self.val = val\n",
        "        self.test = test\n",
        "        self.num_items = tr['ItemId'].nunique()\n",
        "        self.num_sessions = tr['UserId'].nunique()\n",
        "        self.batch_size = batch_size\n",
        "        self.hsz = hsz\n",
        "        self.drop_rate = drop_rate\n",
        "        self.lr = lr\n",
        "        self.epochs = epochs\n",
        "        self.k = k\n",
        "\n",
        "args = Args(tr, val, test, batch_size=2048, hsz=50, drop_rate=0.1, lr=0.001, epochs=3, k=20)"
      ],
      "outputs": [],
      "metadata": {
        "id": "sniMEYdN5nmY"
      }
    },
    {
      "cell_type": "code",
      "execution_count": 140,
      "source": [
        "# model 생성\n",
        "model = create_model(args)"
      ],
      "outputs": [
        {
          "output_type": "stream",
          "name": "stdout",
          "text": [
            "Model: \"model_1\"\n",
            "_________________________________________________________________\n",
            " Layer (type)                Output Shape              Param #   \n",
            "=================================================================\n",
            " input_2 (InputLayer)        [(2048, 1, 217)]          0         \n",
            "                                                                 \n",
            " GRU (GRU)                   [(2048, 50),              40350     \n",
            "                              (2048, 50)]                        \n",
            "                                                                 \n",
            " dropout_1 (Dropout)         (2048, 50)                0         \n",
            "                                                                 \n",
            " dense_1 (Dense)             (2048, 217)               11067     \n",
            "                                                                 \n",
            "=================================================================\n",
            "Total params: 51,417\n",
            "Trainable params: 51,417\n",
            "Non-trainable params: 0\n",
            "_________________________________________________________________\n"
          ]
        }
      ],
      "metadata": {
        "colab": {
          "base_uri": "https://localhost:8080/"
        },
        "id": "0gNSirmw5nmZ",
        "outputId": "d9044056-75af-4969-9c42-4a4d9dc24065"
      }
    },
    {
      "cell_type": "markdown",
      "source": [
        "# 5: 모델 학습"
      ],
      "metadata": {
        "id": "Kp7Y6sIwA4Yv"
      }
    },
    {
      "cell_type": "code",
      "execution_count": 144,
      "source": [
        "# train 셋으로 학습하면서 valid 셋으로 검증\n",
        "def train_model(model, args):\n",
        "    train_dataset = SessionDataset(args.tr)\n",
        "    train_loader = SessionDataLoader(train_dataset, batch_size=args.batch_size)\n",
        "\n",
        "    for epoch in range(1, args.epochs + 1):\n",
        "        total_step = len(args.tr) - args.tr['UserId'].nunique()\n",
        "        tr_loader = tqdm(train_loader, total=total_step // args.batch_size, desc='Train', mininterval=1)\n",
        "        for feat, target, mask in tr_loader:\n",
        "            reset_hidden_states(model, mask)  # 종료된 session은 hidden_state를 초기화합니다. 아래 메서드에서 확인해주세요.\n",
        "\n",
        "            input_ohe = to_categorical(feat, num_classes=args.num_items)\n",
        "            input_ohe = np.expand_dims(input_ohe, axis=1)\n",
        "            target_ohe = to_categorical(target, num_classes=args.num_items)\n",
        "\n",
        "            result = model.train_on_batch(input_ohe, target_ohe)\n",
        "            tr_loader.set_postfix(train_loss=result[0], accuracy = result[1])\n",
        "\n",
        "        val_recall, val_mrr = get_metrics(args.val, model, args, args.k)  # valid set에 대해 검증합니다.\n",
        "\n",
        "        print(f\"\\t - Recall@{args.k} epoch {epoch}: {val_recall:3f}\")\n",
        "        print(f\"\\t - MRR@{args.k}    epoch {epoch}: {val_mrr:3f}\\n\")\n",
        "\n",
        "\n",
        "def reset_hidden_states(model, mask):\n",
        "    gru_layer = model.get_layer(name='GRU')  # model에서 gru layer를 가져옵니다.\n",
        "    hidden_states = gru_layer.states[0].numpy()  # gru_layer의 parameter를 가져옵니다.\n",
        "    for elt in mask:  # mask된 인덱스 즉, 종료된 세션의 인덱스를 돌면서\n",
        "        hidden_states[elt, :] = 0  # parameter를 초기화 합니다.\n",
        "    gru_layer.reset_states(states=hidden_states)\n",
        "\n",
        "\n",
        "def get_metrics(data, model, args, k: int):  # valid셋과 test셋을 평가하는 코드입니다. \n",
        "                                             # train과 거의 같지만 mrr, recall을 구하는 라인이 있습니다.\n",
        "    dataset = SessionDataset(data)\n",
        "    loader = SessionDataLoader(dataset, batch_size=args.batch_size)\n",
        "    recall_list, mrr_list = [], []\n",
        "\n",
        "    total_step = len(data) - data['UserId'].nunique()\n",
        "    for inputs, label, mask in tqdm(loader, total=total_step // args.batch_size, desc='Evaluation', mininterval=1):\n",
        "        reset_hidden_states(model, mask)\n",
        "        input_ohe = to_categorical(inputs, num_classes=args.num_items)\n",
        "        input_ohe = np.expand_dims(input_ohe, axis=1)\n",
        "\n",
        "        pred = model.predict(input_ohe, batch_size=args.batch_size)\n",
        "        pred_arg = tf.argsort(pred, direction='DESCENDING')  # softmax 값이 큰 순서대로 sorting 합니다.\n",
        "\n",
        "        length = len(inputs)\n",
        "        recall_list.extend([recall_k(pred_arg[i], label[i], k) for i in range(length)])\n",
        "        mrr_list.extend([mrr_k(pred_arg[i], label[i], k) for i in range(length)])\n",
        "\n",
        "    recall, mrr = np.mean(recall_list), np.mean(mrr_list)\n",
        "    return recall, mrr"
      ],
      "outputs": [],
      "metadata": {
        "id": "j1A842FX5nma"
      }
    },
    {
      "cell_type": "code",
      "execution_count": null,
      "source": [
        "# 학습\n",
        "train_model(model, args)"
      ],
      "outputs": [],
      "metadata": {
        "id": "qiAzvV9J5nma"
      }
    },
    {
      "cell_type": "markdown",
      "source": [
        "# 6: 모델 테스트"
      ],
      "metadata": {
        "id": "AHUxdy27A6mC"
      }
    },
    {
      "cell_type": "code",
      "source": [
        "def test_model(model, args, test):\n",
        "    test_recall, test_mrr = get_metrics(test, model, args, 20)\n",
        "    print(f\"\\t - Recall@{args.k}: {test_recall:3f}\")\n",
        "    print(f\"\\t - MRR@{args.k}: {test_mrr:3f}\\n\")"
      ],
      "metadata": {
        "id": "T26ODtx7_26o"
      },
      "execution_count": null,
      "outputs": []
    },
    {
      "cell_type": "code",
      "source": [
        "test_model(model, args, test)"
      ],
      "metadata": {
        "id": "4qVIQN6wtrKl"
      },
      "execution_count": null,
      "outputs": []
    },
    {
      "cell_type": "markdown",
      "source": [
        "#회고"
      ],
      "metadata": {
        "id": "23--YJvQA-h8"
      }
    },
    {
      "cell_type": "markdown",
      "source": [
        "* Session-Parallel Mini-Batch의 개념에 따라, 학습 속도의 저하가 최소화될 수 있도록 구성합니다.\n"
      ],
      "metadata": {
        "id": "ErxS8D62BApm"
      }
    }
  ],
  "nbformat": 4,
  "nbformat_minor": 0,
  "metadata": {
    "language_info": {
      "name": "python"
    },
    "orig_nbformat": 4,
    "colab": {
      "name": "ExplNode17.ipynb",
      "provenance": [],
      "collapsed_sections": [
        "5nJbfqp65nmR",
        "jrxRWhB35nmR",
        "Vxydt1h55nmW"
      ],
      "toc_visible": true,
      "machine_shape": "hm",
      "include_colab_link": true
    },
    "kernelspec": {
      "name": "python3",
      "display_name": "Python 3"
    },
    "gpuClass": "standard",
    "accelerator": "GPU"
  }
}
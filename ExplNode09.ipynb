{
  "cells": [
    {
      "cell_type": "markdown",
      "metadata": {
        "id": "view-in-github",
        "colab_type": "text"
      },
      "source": [
        "<a href=\"https://colab.research.google.com/github/twelvesense/first-repository/blob/master/ExplNode09.ipynb\" target=\"_parent\"><img src=\"https://colab.research.google.com/assets/colab-badge.svg\" alt=\"Open In Colab\"/></a>"
      ]
    },
    {
      "cell_type": "markdown",
      "source": [
        "#  **프로젝트: 네이버 영화리뷰 감성분석 도전하기**"
      ],
      "metadata": {
        "id": "1yc0ta2QcuP5"
      }
    },
    {
      "cell_type": "markdown",
      "source": [
        "# 1 사전 준비"
      ],
      "metadata": {
        "id": "LMBcwmE_IVQo"
      }
    },
    {
      "cell_type": "markdown",
      "source": [
        "## 1-1. mecab 설치"
      ],
      "metadata": {
        "id": "ph1OejcgIf6l"
      }
    },
    {
      "cell_type": "code",
      "source": [
        "# install konlpy, jdk, JPype\n",
        "import os\n",
        "!pip install konlpy\n",
        "!apt-get install openjdk-8-jdk-headless -qq > /dev/null\n",
        "!pip3 install JPype1-py3"
      ],
      "metadata": {
        "colab": {
          "base_uri": "https://localhost:8080/"
        },
        "id": "u4jy-l2y6LRd",
        "outputId": "9d5c11c8-2560-4d21-bc32-17fb69590927"
      },
      "execution_count": 3,
      "outputs": [
        {
          "output_type": "stream",
          "name": "stdout",
          "text": [
            "Looking in indexes: https://pypi.org/simple, https://us-python.pkg.dev/colab-wheels/public/simple/\n",
            "Requirement already satisfied: konlpy in /usr/local/lib/python3.7/dist-packages (0.6.0)\n",
            "Requirement already satisfied: JPype1>=0.7.0 in /usr/local/lib/python3.7/dist-packages (from konlpy) (1.4.0)\n",
            "Requirement already satisfied: numpy>=1.6 in /usr/local/lib/python3.7/dist-packages (from konlpy) (1.21.6)\n",
            "Requirement already satisfied: lxml>=4.1.0 in /usr/local/lib/python3.7/dist-packages (from konlpy) (4.2.6)\n",
            "Requirement already satisfied: typing-extensions in /usr/local/lib/python3.7/dist-packages (from JPype1>=0.7.0->konlpy) (4.2.0)\n",
            "Looking in indexes: https://pypi.org/simple, https://us-python.pkg.dev/colab-wheels/public/simple/\n",
            "Requirement already satisfied: JPype1-py3 in /usr/local/lib/python3.7/dist-packages (0.5.5.4)\n"
          ]
        }
      ]
    },
    {
      "cell_type": "code",
      "source": [
        "# install mecab-ko\n",
        "os.chdir('/tmp/')\n",
        "!curl -LO https://bitbucket.org/eunjeon/mecab-ko/downloads/mecab-0.996-ko-0.9.2.tar.gz\n",
        "!tar zxfv mecab-0.996-ko-0.9.2.tar.gz\n",
        "os.chdir('/tmp/mecab-0.996-ko-0.9.2')\n",
        "!./configure\n",
        "!make\n",
        "!make check\n",
        "!make install"
      ],
      "metadata": {
        "colab": {
          "base_uri": "https://localhost:8080/"
        },
        "id": "YbED9bDu-Whe",
        "outputId": "8af76bdc-d500-4cde-db30-8cc66ebe3c43"
      },
      "execution_count": 4,
      "outputs": [
        {
          "output_type": "stream",
          "name": "stdout",
          "text": [
            "  % Total    % Received % Xferd  Average Speed   Time    Time     Time  Current\n",
            "                                 Dload  Upload   Total   Spent    Left  Speed\n",
            "  0     0    0     0    0     0      0      0 --:--:-- --:--:-- --:--:--     0\n",
            "100 1381k  100 1381k    0     0  2276k      0 --:--:-- --:--:-- --:--:-- 2276k\n",
            "mecab-0.996-ko-0.9.2/\n",
            "mecab-0.996-ko-0.9.2/example/\n",
            "mecab-0.996-ko-0.9.2/example/example.cpp\n",
            "mecab-0.996-ko-0.9.2/example/example_lattice.cpp\n",
            "mecab-0.996-ko-0.9.2/example/example_lattice.c\n",
            "mecab-0.996-ko-0.9.2/example/example.c\n",
            "mecab-0.996-ko-0.9.2/example/thread_test.cpp\n",
            "mecab-0.996-ko-0.9.2/mecab-config.in\n",
            "mecab-0.996-ko-0.9.2/man/\n",
            "mecab-0.996-ko-0.9.2/man/Makefile.am\n",
            "mecab-0.996-ko-0.9.2/man/mecab.1\n",
            "mecab-0.996-ko-0.9.2/man/Makefile.in\n",
            "mecab-0.996-ko-0.9.2/mecab.iss.in\n",
            "mecab-0.996-ko-0.9.2/config.guess\n",
            "mecab-0.996-ko-0.9.2/README\n",
            "mecab-0.996-ko-0.9.2/COPYING\n",
            "mecab-0.996-ko-0.9.2/CHANGES.md\n",
            "mecab-0.996-ko-0.9.2/README.md\n",
            "mecab-0.996-ko-0.9.2/INSTALL\n",
            "mecab-0.996-ko-0.9.2/config.sub\n",
            "mecab-0.996-ko-0.9.2/configure.in\n",
            "mecab-0.996-ko-0.9.2/swig/\n",
            "mecab-0.996-ko-0.9.2/swig/Makefile\n",
            "mecab-0.996-ko-0.9.2/swig/version.h.in\n",
            "mecab-0.996-ko-0.9.2/swig/version.h\n",
            "mecab-0.996-ko-0.9.2/swig/MeCab.i\n",
            "mecab-0.996-ko-0.9.2/aclocal.m4\n",
            "mecab-0.996-ko-0.9.2/LGPL\n",
            "mecab-0.996-ko-0.9.2/Makefile.am\n",
            "mecab-0.996-ko-0.9.2/configure\n",
            "mecab-0.996-ko-0.9.2/tests/\n",
            "mecab-0.996-ko-0.9.2/tests/autolink/\n",
            "mecab-0.996-ko-0.9.2/tests/autolink/unk.def\n",
            "mecab-0.996-ko-0.9.2/tests/autolink/dicrc\n",
            "mecab-0.996-ko-0.9.2/tests/autolink/dic.csv\n",
            "mecab-0.996-ko-0.9.2/tests/autolink/test\n",
            "mecab-0.996-ko-0.9.2/tests/autolink/char.def\n",
            "mecab-0.996-ko-0.9.2/tests/autolink/matrix.def\n",
            "mecab-0.996-ko-0.9.2/tests/autolink/test.gld\n",
            "mecab-0.996-ko-0.9.2/tests/t9/\n",
            "mecab-0.996-ko-0.9.2/tests/t9/unk.def\n",
            "mecab-0.996-ko-0.9.2/tests/t9/ipadic.pl\n",
            "mecab-0.996-ko-0.9.2/tests/t9/dicrc\n",
            "mecab-0.996-ko-0.9.2/tests/t9/dic.csv\n",
            "mecab-0.996-ko-0.9.2/tests/t9/test\n",
            "mecab-0.996-ko-0.9.2/tests/t9/char.def\n",
            "mecab-0.996-ko-0.9.2/tests/t9/matrix.def\n",
            "mecab-0.996-ko-0.9.2/tests/t9/mkdic.pl\n",
            "mecab-0.996-ko-0.9.2/tests/t9/test.gld\n",
            "mecab-0.996-ko-0.9.2/tests/cost-train/\n",
            "mecab-0.996-ko-0.9.2/tests/cost-train/ipa.train\n",
            "mecab-0.996-ko-0.9.2/tests/cost-train/ipa.test\n",
            "mecab-0.996-ko-0.9.2/tests/cost-train/seed/\n",
            "mecab-0.996-ko-0.9.2/tests/cost-train/seed/rewrite.def\n",
            "mecab-0.996-ko-0.9.2/tests/cost-train/seed/feature.def\n",
            "mecab-0.996-ko-0.9.2/tests/cost-train/seed/unk.def\n",
            "mecab-0.996-ko-0.9.2/tests/cost-train/seed/dicrc\n",
            "mecab-0.996-ko-0.9.2/tests/cost-train/seed/dic.csv\n",
            "mecab-0.996-ko-0.9.2/tests/cost-train/seed/char.def\n",
            "mecab-0.996-ko-0.9.2/tests/cost-train/seed/matrix.def\n",
            "mecab-0.996-ko-0.9.2/tests/run-eval.sh\n",
            "mecab-0.996-ko-0.9.2/tests/run-cost-train.sh\n",
            "mecab-0.996-ko-0.9.2/tests/Makefile.am\n",
            "mecab-0.996-ko-0.9.2/tests/katakana/\n",
            "mecab-0.996-ko-0.9.2/tests/katakana/unk.def\n",
            "mecab-0.996-ko-0.9.2/tests/katakana/dicrc\n",
            "mecab-0.996-ko-0.9.2/tests/katakana/dic.csv\n",
            "mecab-0.996-ko-0.9.2/tests/katakana/test\n",
            "mecab-0.996-ko-0.9.2/tests/katakana/char.def\n",
            "mecab-0.996-ko-0.9.2/tests/katakana/matrix.def\n",
            "mecab-0.996-ko-0.9.2/tests/katakana/test.gld\n",
            "mecab-0.996-ko-0.9.2/tests/eval/\n",
            "mecab-0.996-ko-0.9.2/tests/eval/answer\n",
            "mecab-0.996-ko-0.9.2/tests/eval/system\n",
            "mecab-0.996-ko-0.9.2/tests/eval/test.gld\n",
            "mecab-0.996-ko-0.9.2/tests/shiin/\n",
            "mecab-0.996-ko-0.9.2/tests/shiin/unk.def\n",
            "mecab-0.996-ko-0.9.2/tests/shiin/dicrc\n",
            "mecab-0.996-ko-0.9.2/tests/shiin/dic.csv\n",
            "mecab-0.996-ko-0.9.2/tests/shiin/test\n",
            "mecab-0.996-ko-0.9.2/tests/shiin/char.def\n",
            "mecab-0.996-ko-0.9.2/tests/shiin/matrix.def\n",
            "mecab-0.996-ko-0.9.2/tests/shiin/mkdic.pl\n",
            "mecab-0.996-ko-0.9.2/tests/shiin/test.gld\n",
            "mecab-0.996-ko-0.9.2/tests/latin/\n",
            "mecab-0.996-ko-0.9.2/tests/latin/unk.def\n",
            "mecab-0.996-ko-0.9.2/tests/latin/dicrc\n",
            "mecab-0.996-ko-0.9.2/tests/latin/dic.csv\n",
            "mecab-0.996-ko-0.9.2/tests/latin/test\n",
            "mecab-0.996-ko-0.9.2/tests/latin/char.def\n",
            "mecab-0.996-ko-0.9.2/tests/latin/matrix.def\n",
            "mecab-0.996-ko-0.9.2/tests/latin/test.gld\n",
            "mecab-0.996-ko-0.9.2/tests/chartype/\n",
            "mecab-0.996-ko-0.9.2/tests/chartype/unk.def\n",
            "mecab-0.996-ko-0.9.2/tests/chartype/dicrc\n",
            "mecab-0.996-ko-0.9.2/tests/chartype/dic.csv\n",
            "mecab-0.996-ko-0.9.2/tests/chartype/test\n",
            "mecab-0.996-ko-0.9.2/tests/chartype/char.def\n",
            "mecab-0.996-ko-0.9.2/tests/chartype/matrix.def\n",
            "mecab-0.996-ko-0.9.2/tests/chartype/test.gld\n",
            "mecab-0.996-ko-0.9.2/tests/run-dics.sh\n",
            "mecab-0.996-ko-0.9.2/tests/ngram/\n",
            "mecab-0.996-ko-0.9.2/tests/ngram/unk.def\n",
            "mecab-0.996-ko-0.9.2/tests/ngram/dicrc\n",
            "mecab-0.996-ko-0.9.2/tests/ngram/dic.csv\n",
            "mecab-0.996-ko-0.9.2/tests/ngram/test\n",
            "mecab-0.996-ko-0.9.2/tests/ngram/char.def\n",
            "mecab-0.996-ko-0.9.2/tests/ngram/matrix.def\n",
            "mecab-0.996-ko-0.9.2/tests/ngram/test.gld\n",
            "mecab-0.996-ko-0.9.2/tests/Makefile.in\n",
            "mecab-0.996-ko-0.9.2/ltmain.sh\n",
            "mecab-0.996-ko-0.9.2/config.rpath\n",
            "mecab-0.996-ko-0.9.2/config.h.in\n",
            "mecab-0.996-ko-0.9.2/mecabrc.in\n",
            "mecab-0.996-ko-0.9.2/GPL\n",
            "mecab-0.996-ko-0.9.2/Makefile.train\n",
            "mecab-0.996-ko-0.9.2/ChangeLog\n",
            "mecab-0.996-ko-0.9.2/install-sh\n",
            "mecab-0.996-ko-0.9.2/AUTHORS\n",
            "mecab-0.996-ko-0.9.2/doc/\n",
            "mecab-0.996-ko-0.9.2/doc/bindings.html\n",
            "mecab-0.996-ko-0.9.2/doc/posid.html\n",
            "mecab-0.996-ko-0.9.2/doc/unk.html\n",
            "mecab-0.996-ko-0.9.2/doc/learn.html\n",
            "mecab-0.996-ko-0.9.2/doc/format.html\n",
            "mecab-0.996-ko-0.9.2/doc/libmecab.html\n",
            "mecab-0.996-ko-0.9.2/doc/mecab.css\n",
            "mecab-0.996-ko-0.9.2/doc/feature.html\n",
            "mecab-0.996-ko-0.9.2/doc/Makefile.am\n",
            "mecab-0.996-ko-0.9.2/doc/soft.html\n",
            "mecab-0.996-ko-0.9.2/doc/en/\n",
            "mecab-0.996-ko-0.9.2/doc/en/bindings.html\n",
            "mecab-0.996-ko-0.9.2/doc/dic-detail.html\n",
            "mecab-0.996-ko-0.9.2/doc/flow.png\n",
            "mecab-0.996-ko-0.9.2/doc/mecab.html\n",
            "mecab-0.996-ko-0.9.2/doc/index.html\n",
            "mecab-0.996-ko-0.9.2/doc/result.png\n",
            "mecab-0.996-ko-0.9.2/doc/doxygen/\n",
            "mecab-0.996-ko-0.9.2/doc/doxygen/tab_a.png\n",
            "mecab-0.996-ko-0.9.2/doc/doxygen/globals_eval.html\n",
            "mecab-0.996-ko-0.9.2/doc/doxygen/classMeCab_1_1Tagger-members.html\n",
            "mecab-0.996-ko-0.9.2/doc/doxygen/functions_vars.html\n",
            "mecab-0.996-ko-0.9.2/doc/doxygen/doxygen.css\n",
            "mecab-0.996-ko-0.9.2/doc/doxygen/tab_r.gif\n",
            "mecab-0.996-ko-0.9.2/doc/doxygen/classMeCab_1_1Lattice.html\n",
            "mecab-0.996-ko-0.9.2/doc/doxygen/functions.html\n",
            "mecab-0.996-ko-0.9.2/doc/doxygen/classMeCab_1_1Tagger.html\n",
            "mecab-0.996-ko-0.9.2/doc/doxygen/mecab_8h_source.html\n",
            "mecab-0.996-ko-0.9.2/doc/doxygen/tabs.css\n",
            "mecab-0.996-ko-0.9.2/doc/doxygen/nav_f.png\n",
            "mecab-0.996-ko-0.9.2/doc/doxygen/tab_b.png\n",
            "mecab-0.996-ko-0.9.2/doc/doxygen/globals.html\n",
            "mecab-0.996-ko-0.9.2/doc/doxygen/nav_h.png\n",
            "mecab-0.996-ko-0.9.2/doc/doxygen/tab_h.png\n",
            "mecab-0.996-ko-0.9.2/doc/doxygen/classMeCab_1_1Model.html\n",
            "mecab-0.996-ko-0.9.2/doc/doxygen/globals_func.html\n",
            "mecab-0.996-ko-0.9.2/doc/doxygen/closed.png\n",
            "mecab-0.996-ko-0.9.2/doc/doxygen/tab_l.gif\n",
            "mecab-0.996-ko-0.9.2/doc/doxygen/structmecab__path__t-members.html\n",
            "mecab-0.996-ko-0.9.2/doc/doxygen/functions_func.html\n",
            "mecab-0.996-ko-0.9.2/doc/doxygen/globals_type.html\n",
            "mecab-0.996-ko-0.9.2/doc/doxygen/classMeCab_1_1Lattice-members.html\n",
            "mecab-0.996-ko-0.9.2/doc/doxygen/structmecab__node__t.html\n",
            "mecab-0.996-ko-0.9.2/doc/doxygen/namespacemembers_func.html\n",
            "mecab-0.996-ko-0.9.2/doc/doxygen/tab_s.png\n",
            "mecab-0.996-ko-0.9.2/doc/doxygen/structmecab__dictionary__info__t-members.html\n",
            "mecab-0.996-ko-0.9.2/doc/doxygen/namespacemembers_type.html\n",
            "mecab-0.996-ko-0.9.2/doc/doxygen/classMeCab_1_1Model-members.html\n",
            "mecab-0.996-ko-0.9.2/doc/doxygen/structmecab__dictionary__info__t.html\n",
            "mecab-0.996-ko-0.9.2/doc/doxygen/namespaces.html\n",
            "mecab-0.996-ko-0.9.2/doc/doxygen/namespacemembers.html\n",
            "mecab-0.996-ko-0.9.2/doc/doxygen/namespaceMeCab.html\n",
            "mecab-0.996-ko-0.9.2/doc/doxygen/structmecab__path__t.html\n",
            "mecab-0.996-ko-0.9.2/doc/doxygen/files.html\n",
            "mecab-0.996-ko-0.9.2/doc/doxygen/structmecab__node__t-members.html\n",
            "mecab-0.996-ko-0.9.2/doc/doxygen/index.html\n",
            "mecab-0.996-ko-0.9.2/doc/doxygen/annotated.html\n",
            "mecab-0.996-ko-0.9.2/doc/doxygen/globals_defs.html\n",
            "mecab-0.996-ko-0.9.2/doc/doxygen/classes.html\n",
            "mecab-0.996-ko-0.9.2/doc/doxygen/mecab_8h-source.html\n",
            "mecab-0.996-ko-0.9.2/doc/doxygen/doxygen.png\n",
            "mecab-0.996-ko-0.9.2/doc/doxygen/tab_b.gif\n",
            "mecab-0.996-ko-0.9.2/doc/doxygen/bc_s.png\n",
            "mecab-0.996-ko-0.9.2/doc/doxygen/open.png\n",
            "mecab-0.996-ko-0.9.2/doc/doxygen/mecab_8h.html\n",
            "mecab-0.996-ko-0.9.2/doc/dic.html\n",
            "mecab-0.996-ko-0.9.2/doc/partial.html\n",
            "mecab-0.996-ko-0.9.2/doc/feature.png\n",
            "mecab-0.996-ko-0.9.2/doc/Makefile.in\n",
            "mecab-0.996-ko-0.9.2/missing\n",
            "mecab-0.996-ko-0.9.2/BSD\n",
            "mecab-0.996-ko-0.9.2/NEWS\n",
            "mecab-0.996-ko-0.9.2/mkinstalldirs\n",
            "mecab-0.996-ko-0.9.2/src/\n",
            "mecab-0.996-ko-0.9.2/src/dictionary.h\n",
            "mecab-0.996-ko-0.9.2/src/writer.h\n",
            "mecab-0.996-ko-0.9.2/src/utils.h\n",
            "mecab-0.996-ko-0.9.2/src/string_buffer.cpp\n",
            "mecab-0.996-ko-0.9.2/src/tokenizer.cpp\n",
            "mecab-0.996-ko-0.9.2/src/make.bat\n",
            "mecab-0.996-ko-0.9.2/src/mecab.h\n",
            "mecab-0.996-ko-0.9.2/src/freelist.h\n",
            "mecab-0.996-ko-0.9.2/src/string_buffer.h\n",
            "mecab-0.996-ko-0.9.2/src/learner_tagger.h\n",
            "mecab-0.996-ko-0.9.2/src/dictionary_compiler.cpp\n",
            "mecab-0.996-ko-0.9.2/src/eval.cpp\n",
            "mecab-0.996-ko-0.9.2/src/mecab-system-eval.cpp\n",
            "mecab-0.996-ko-0.9.2/src/darts.h\n",
            "mecab-0.996-ko-0.9.2/src/param.h\n",
            "mecab-0.996-ko-0.9.2/src/char_property.h\n",
            "mecab-0.996-ko-0.9.2/src/learner_node.h\n",
            "mecab-0.996-ko-0.9.2/src/mecab-dict-gen.cpp\n",
            "mecab-0.996-ko-0.9.2/src/mecab-dict-index.cpp\n",
            "mecab-0.996-ko-0.9.2/src/winmain.h\n",
            "mecab-0.996-ko-0.9.2/src/thread.h\n",
            "mecab-0.996-ko-0.9.2/src/context_id.cpp\n",
            "mecab-0.996-ko-0.9.2/src/Makefile.am\n",
            "mecab-0.996-ko-0.9.2/src/connector.h\n",
            "mecab-0.996-ko-0.9.2/src/common.h\n",
            "mecab-0.996-ko-0.9.2/src/dictionary_rewriter.cpp\n",
            "mecab-0.996-ko-0.9.2/src/Makefile.msvc.in\n",
            "mecab-0.996-ko-0.9.2/src/dictionary_rewriter.h\n",
            "mecab-0.996-ko-0.9.2/src/feature_index.h\n",
            "mecab-0.996-ko-0.9.2/src/iconv_utils.cpp\n",
            "mecab-0.996-ko-0.9.2/src/char_property.cpp\n",
            "mecab-0.996-ko-0.9.2/src/mecab-test-gen.cpp\n",
            "mecab-0.996-ko-0.9.2/src/tagger.cpp\n",
            "mecab-0.996-ko-0.9.2/src/mecab-cost-train.cpp\n",
            "mecab-0.996-ko-0.9.2/src/learner.cpp\n",
            "mecab-0.996-ko-0.9.2/src/dictionary.cpp\n",
            "mecab-0.996-ko-0.9.2/src/lbfgs.cpp\n",
            "mecab-0.996-ko-0.9.2/src/ucs.h\n",
            "mecab-0.996-ko-0.9.2/src/writer.cpp\n",
            "mecab-0.996-ko-0.9.2/src/learner_tagger.cpp\n",
            "mecab-0.996-ko-0.9.2/src/lbfgs.h\n",
            "mecab-0.996-ko-0.9.2/src/libmecab.cpp\n",
            "mecab-0.996-ko-0.9.2/src/tokenizer.h\n",
            "mecab-0.996-ko-0.9.2/src/mecab.cpp\n",
            "mecab-0.996-ko-0.9.2/src/utils.cpp\n",
            "mecab-0.996-ko-0.9.2/src/dictionary_generator.cpp\n",
            "mecab-0.996-ko-0.9.2/src/param.cpp\n",
            "mecab-0.996-ko-0.9.2/src/context_id.h\n",
            "mecab-0.996-ko-0.9.2/src/mmap.h\n",
            "mecab-0.996-ko-0.9.2/src/viterbi.h\n",
            "mecab-0.996-ko-0.9.2/src/viterbi.cpp\n",
            "mecab-0.996-ko-0.9.2/src/stream_wrapper.h\n",
            "mecab-0.996-ko-0.9.2/src/feature_index.cpp\n",
            "mecab-0.996-ko-0.9.2/src/nbest_generator.h\n",
            "mecab-0.996-ko-0.9.2/src/ucstable.h\n",
            "mecab-0.996-ko-0.9.2/src/nbest_generator.cpp\n",
            "mecab-0.996-ko-0.9.2/src/iconv_utils.h\n",
            "mecab-0.996-ko-0.9.2/src/connector.cpp\n",
            "mecab-0.996-ko-0.9.2/src/Makefile.in\n",
            "mecab-0.996-ko-0.9.2/src/scoped_ptr.h\n",
            "mecab-0.996-ko-0.9.2/Makefile.in\n",
            "checking for a BSD-compatible install... /usr/bin/install -c\n",
            "checking whether build environment is sane... yes\n",
            "checking for a thread-safe mkdir -p... /bin/mkdir -p\n",
            "checking for gawk... no\n",
            "checking for mawk... mawk\n",
            "checking whether make sets $(MAKE)... yes\n",
            "checking for gcc... gcc\n",
            "checking whether the C compiler works... yes\n",
            "checking for C compiler default output file name... a.out\n",
            "checking for suffix of executables... \n",
            "checking whether we are cross compiling... no\n",
            "checking for suffix of object files... o\n",
            "checking whether we are using the GNU C compiler... yes\n",
            "checking whether gcc accepts -g... yes\n",
            "checking for gcc option to accept ISO C89... none needed\n",
            "checking for style of include used by make... GNU\n",
            "checking dependency style of gcc... none\n",
            "checking for g++... g++\n",
            "checking whether we are using the GNU C++ compiler... yes\n",
            "checking whether g++ accepts -g... yes\n",
            "checking dependency style of g++... none\n",
            "checking how to run the C preprocessor... gcc -E\n",
            "checking for grep that handles long lines and -e... /bin/grep\n",
            "checking for egrep... /bin/grep -E\n",
            "checking whether gcc needs -traditional... no\n",
            "checking whether make sets $(MAKE)... (cached) yes\n",
            "checking build system type... x86_64-unknown-linux-gnu\n",
            "checking host system type... x86_64-unknown-linux-gnu\n",
            "checking how to print strings... printf\n",
            "checking for a sed that does not truncate output... /bin/sed\n",
            "checking for fgrep... /bin/grep -F\n",
            "checking for ld used by gcc... /usr/bin/ld\n",
            "checking if the linker (/usr/bin/ld) is GNU ld... yes\n",
            "checking for BSD- or MS-compatible name lister (nm)... /usr/bin/nm -B\n",
            "checking the name lister (/usr/bin/nm -B) interface... BSD nm\n",
            "checking whether ln -s works... yes\n",
            "checking the maximum length of command line arguments... 1572864\n",
            "checking whether the shell understands some XSI constructs... yes\n",
            "checking whether the shell understands \"+=\"... yes\n",
            "checking how to convert x86_64-unknown-linux-gnu file names to x86_64-unknown-linux-gnu format... func_convert_file_noop\n",
            "checking how to convert x86_64-unknown-linux-gnu file names to toolchain format... func_convert_file_noop\n",
            "checking for /usr/bin/ld option to reload object files... -r\n",
            "checking for objdump... objdump\n",
            "checking how to recognize dependent libraries... pass_all\n",
            "checking for dlltool... dlltool\n",
            "checking how to associate runtime and link libraries... printf %s\\n\n",
            "checking for ar... ar\n",
            "checking for archiver @FILE support... @\n",
            "checking for strip... strip\n",
            "checking for ranlib... ranlib\n",
            "checking command to parse /usr/bin/nm -B output from gcc object... ok\n",
            "checking for sysroot... no\n",
            "./configure: line 7378: /usr/bin/file: No such file or directory\n",
            "checking for mt... no\n",
            "checking if : is a manifest tool... no\n",
            "checking for ANSI C header files... yes\n",
            "checking for sys/types.h... yes\n",
            "checking for sys/stat.h... yes\n",
            "checking for stdlib.h... yes\n",
            "checking for string.h... yes\n",
            "checking for memory.h... yes\n",
            "checking for strings.h... yes\n",
            "checking for inttypes.h... yes\n",
            "checking for stdint.h... yes\n",
            "checking for unistd.h... yes\n",
            "checking for dlfcn.h... yes\n",
            "checking for objdir... .libs\n",
            "checking if gcc supports -fno-rtti -fno-exceptions... no\n",
            "checking for gcc option to produce PIC... -fPIC -DPIC\n",
            "checking if gcc PIC flag -fPIC -DPIC works... yes\n",
            "checking if gcc static flag -static works... yes\n",
            "checking if gcc supports -c -o file.o... yes\n",
            "checking if gcc supports -c -o file.o... (cached) yes\n",
            "checking whether the gcc linker (/usr/bin/ld) supports shared libraries... yes\n",
            "checking whether -lc should be explicitly linked in... no\n",
            "checking dynamic linker characteristics... GNU/Linux ld.so\n",
            "checking how to hardcode library paths into programs... immediate\n",
            "checking whether stripping libraries is possible... yes\n",
            "checking if libtool supports shared libraries... yes\n",
            "checking whether to build shared libraries... yes\n",
            "checking whether to build static libraries... yes\n",
            "checking how to run the C++ preprocessor... g++ -E\n",
            "checking for ld used by g++... /usr/bin/ld\n",
            "checking if the linker (/usr/bin/ld) is GNU ld... yes\n",
            "checking whether the g++ linker (/usr/bin/ld) supports shared libraries... yes\n",
            "checking for g++ option to produce PIC... -fPIC -DPIC\n",
            "checking if g++ PIC flag -fPIC -DPIC works... yes\n",
            "checking if g++ static flag -static works... yes\n",
            "checking if g++ supports -c -o file.o... yes\n",
            "checking if g++ supports -c -o file.o... (cached) yes\n",
            "checking whether the g++ linker (/usr/bin/ld) supports shared libraries... yes\n",
            "checking dynamic linker characteristics... (cached) GNU/Linux ld.so\n",
            "checking how to hardcode library paths into programs... immediate\n",
            "checking for library containing strerror... none required\n",
            "checking whether byte ordering is bigendian... no\n",
            "checking for ld used by GCC... /usr/bin/ld\n",
            "checking if the linker (/usr/bin/ld) is GNU ld... yes\n",
            "checking for shared library run path origin... done\n",
            "checking for iconv... yes\n",
            "checking for working iconv... yes\n",
            "checking for iconv declaration... \n",
            "         extern size_t iconv (iconv_t cd, char * *inbuf, size_t *inbytesleft, char * *outbuf, size_t *outbytesleft);\n",
            "checking for ANSI C header files... (cached) yes\n",
            "checking for an ANSI C-conforming const... yes\n",
            "checking whether byte ordering is bigendian... (cached) no\n",
            "checking for string.h... (cached) yes\n",
            "checking for stdlib.h... (cached) yes\n",
            "checking for unistd.h... (cached) yes\n",
            "checking fcntl.h usability... yes\n",
            "checking fcntl.h presence... yes\n",
            "checking for fcntl.h... yes\n",
            "checking for stdint.h... (cached) yes\n",
            "checking for sys/stat.h... (cached) yes\n",
            "checking sys/mman.h usability... yes\n",
            "checking sys/mman.h presence... yes\n",
            "checking for sys/mman.h... yes\n",
            "checking sys/times.h usability... yes\n",
            "checking sys/times.h presence... yes\n",
            "checking for sys/times.h... yes\n",
            "checking for sys/types.h... (cached) yes\n",
            "checking dirent.h usability... yes\n",
            "checking dirent.h presence... yes\n",
            "checking for dirent.h... yes\n",
            "checking ctype.h usability... yes\n",
            "checking ctype.h presence... yes\n",
            "checking for ctype.h... yes\n",
            "checking for sys/types.h... (cached) yes\n",
            "checking io.h usability... no\n",
            "checking io.h presence... no\n",
            "checking for io.h... no\n",
            "checking windows.h usability... no\n",
            "checking windows.h presence... no\n",
            "checking for windows.h... no\n",
            "checking pthread.h usability... yes\n",
            "checking pthread.h presence... yes\n",
            "checking for pthread.h... yes\n",
            "checking for off_t... yes\n",
            "checking for size_t... yes\n",
            "checking size of char... 1\n",
            "checking size of short... 2\n",
            "checking size of int... 4\n",
            "checking size of long... 8\n",
            "checking size of long long... 8\n",
            "checking size of size_t... 8\n",
            "checking for size_t... (cached) yes\n",
            "checking for unsigned long long int... yes\n",
            "checking for stdlib.h... (cached) yes\n",
            "checking for unistd.h... (cached) yes\n",
            "checking for sys/param.h... yes\n",
            "checking for getpagesize... yes\n",
            "checking for working mmap... yes\n",
            "checking for main in -lstdc++... yes\n",
            "checking for pthread_create in -lpthread... yes\n",
            "checking for pthread_join in -lpthread... yes\n",
            "checking for getenv... yes\n",
            "checking for opendir... yes\n",
            "checking whether make is GNU Make... yes\n",
            "checking if g++ supports stl <vector> (required)... yes\n",
            "checking if g++ supports stl <list> (required)... yes\n",
            "checking if g++ supports stl <map> (required)... yes\n",
            "checking if g++ supports stl <set> (required)... yes\n",
            "checking if g++ supports stl <queue> (required)... yes\n",
            "checking if g++ supports stl <functional> (required)... yes\n",
            "checking if g++ supports stl <algorithm> (required)... yes\n",
            "checking if g++ supports stl <string> (required)... yes\n",
            "checking if g++ supports stl <iostream> (required)... yes\n",
            "checking if g++ supports stl <sstream> (required)... yes\n",
            "checking if g++ supports stl <fstream> (required)... yes\n",
            "checking if g++ supports template <class T> (required)... yes\n",
            "checking if g++ supports const_cast<> (required)... yes\n",
            "checking if g++ supports static_cast<> (required)... yes\n",
            "checking if g++ supports reinterpret_cast<> (required)... yes\n",
            "checking if g++ supports namespaces (required) ... yes\n",
            "checking if g++ supports __thread (optional)... yes\n",
            "checking if g++ supports template <class T> (required)... yes\n",
            "checking if g++ supports GCC native atomic operations (optional)... yes\n",
            "checking if g++ supports OSX native atomic operations (optional)... no\n",
            "checking if g++ environment provides all required features... yes\n",
            "configure: creating ./config.status\n",
            "config.status: creating Makefile\n",
            "config.status: creating src/Makefile\n",
            "config.status: creating src/Makefile.msvc\n",
            "config.status: creating man/Makefile\n",
            "config.status: creating doc/Makefile\n",
            "config.status: creating tests/Makefile\n",
            "config.status: creating swig/version.h\n",
            "config.status: creating mecab.iss\n",
            "config.status: creating mecab-config\n",
            "config.status: creating mecabrc\n",
            "config.status: creating config.h\n",
            "config.status: executing depfiles commands\n",
            "config.status: executing libtool commands\n",
            "config.status: executing default commands\n",
            "make  all-recursive\n",
            "make[1]: Entering directory '/tmp/mecab-0.996-ko-0.9.2'\n",
            "Making all in src\n",
            "make[2]: Entering directory '/tmp/mecab-0.996-ko-0.9.2/src'\n",
            "/bin/bash ../libtool --tag=CXX   --mode=compile g++ -DHAVE_CONFIG_H -I. -I.. -DDIC_VERSION=102   -DMECAB_DEFAULT_RC=\"\\\"/usr/local/etc/mecabrc\\\"\"    -O3 -Wall  -c -o viterbi.lo viterbi.cpp\n",
            "libtool: compile:  g++ -DHAVE_CONFIG_H -I. -I.. -DDIC_VERSION=102 -DMECAB_DEFAULT_RC=\\\"/usr/local/etc/mecabrc\\\" -O3 -Wall -c viterbi.cpp  -fPIC -DPIC -o .libs/viterbi.o\n",
            "In file included from \u001b[01m\u001b[Kviterbi.cpp:14:0\u001b[m\u001b[K:\n",
            "\u001b[01m\u001b[Kparam.h:30:13:\u001b[m\u001b[K \u001b[01;35m\u001b[Kwarning: \u001b[m\u001b[K'\u001b[01m\u001b[KTarget {anonymous}::lexical_cast(Source) [with Target = std::__cxx11::basic_string<char>; Source = std::__cxx11::basic_string<char>]\u001b[m\u001b[K' defined but not used [\u001b[01;35m\u001b[K-Wunused-function\u001b[m\u001b[K]\n",
            " std::string \u001b[01;35m\u001b[Klexical_cast<std::string, std::string>\u001b[m\u001b[K(std::string arg) {\n",
            "             \u001b[01;35m\u001b[K^~~~~~~~~~~~~~~~~~~~~~~~~~~~~~~~~~~~~~\u001b[m\u001b[K\n",
            "libtool: compile:  g++ -DHAVE_CONFIG_H -I. -I.. -DDIC_VERSION=102 -DMECAB_DEFAULT_RC=\\\"/usr/local/etc/mecabrc\\\" -O3 -Wall -c viterbi.cpp -o viterbi.o >/dev/null 2>&1\n",
            "/bin/bash ../libtool --tag=CXX   --mode=compile g++ -DHAVE_CONFIG_H -I. -I.. -DDIC_VERSION=102   -DMECAB_DEFAULT_RC=\"\\\"/usr/local/etc/mecabrc\\\"\"    -O3 -Wall  -c -o tagger.lo tagger.cpp\n",
            "libtool: compile:  g++ -DHAVE_CONFIG_H -I. -I.. -DDIC_VERSION=102 -DMECAB_DEFAULT_RC=\\\"/usr/local/etc/mecabrc\\\" -O3 -Wall -c tagger.cpp  -fPIC -DPIC -o .libs/tagger.o\n",
            "libtool: compile:  g++ -DHAVE_CONFIG_H -I. -I.. -DDIC_VERSION=102 -DMECAB_DEFAULT_RC=\\\"/usr/local/etc/mecabrc\\\" -O3 -Wall -c tagger.cpp -o tagger.o >/dev/null 2>&1\n",
            "/bin/bash ../libtool --tag=CXX   --mode=compile g++ -DHAVE_CONFIG_H -I. -I.. -DDIC_VERSION=102   -DMECAB_DEFAULT_RC=\"\\\"/usr/local/etc/mecabrc\\\"\"    -O3 -Wall  -c -o utils.lo utils.cpp\n",
            "libtool: compile:  g++ -DHAVE_CONFIG_H -I. -I.. -DDIC_VERSION=102 -DMECAB_DEFAULT_RC=\\\"/usr/local/etc/mecabrc\\\" -O3 -Wall -c utils.cpp  -fPIC -DPIC -o .libs/utils.o\n",
            "libtool: compile:  g++ -DHAVE_CONFIG_H -I. -I.. -DDIC_VERSION=102 -DMECAB_DEFAULT_RC=\\\"/usr/local/etc/mecabrc\\\" -O3 -Wall -c utils.cpp -o utils.o >/dev/null 2>&1\n",
            "/bin/bash ../libtool --tag=CXX   --mode=compile g++ -DHAVE_CONFIG_H -I. -I.. -DDIC_VERSION=102   -DMECAB_DEFAULT_RC=\"\\\"/usr/local/etc/mecabrc\\\"\"    -O3 -Wall  -c -o eval.lo eval.cpp\n",
            "libtool: compile:  g++ -DHAVE_CONFIG_H -I. -I.. -DDIC_VERSION=102 -DMECAB_DEFAULT_RC=\\\"/usr/local/etc/mecabrc\\\" -O3 -Wall -c eval.cpp  -fPIC -DPIC -o .libs/eval.o\n",
            "libtool: compile:  g++ -DHAVE_CONFIG_H -I. -I.. -DDIC_VERSION=102 -DMECAB_DEFAULT_RC=\\\"/usr/local/etc/mecabrc\\\" -O3 -Wall -c eval.cpp -o eval.o >/dev/null 2>&1\n",
            "/bin/bash ../libtool --tag=CXX   --mode=compile g++ -DHAVE_CONFIG_H -I. -I.. -DDIC_VERSION=102   -DMECAB_DEFAULT_RC=\"\\\"/usr/local/etc/mecabrc\\\"\"    -O3 -Wall  -c -o iconv_utils.lo iconv_utils.cpp\n",
            "libtool: compile:  g++ -DHAVE_CONFIG_H -I. -I.. -DDIC_VERSION=102 -DMECAB_DEFAULT_RC=\\\"/usr/local/etc/mecabrc\\\" -O3 -Wall -c iconv_utils.cpp  -fPIC -DPIC -o .libs/iconv_utils.o\n",
            "libtool: compile:  g++ -DHAVE_CONFIG_H -I. -I.. -DDIC_VERSION=102 -DMECAB_DEFAULT_RC=\\\"/usr/local/etc/mecabrc\\\" -O3 -Wall -c iconv_utils.cpp -o iconv_utils.o >/dev/null 2>&1\n",
            "/bin/bash ../libtool --tag=CXX   --mode=compile g++ -DHAVE_CONFIG_H -I. -I.. -DDIC_VERSION=102   -DMECAB_DEFAULT_RC=\"\\\"/usr/local/etc/mecabrc\\\"\"    -O3 -Wall  -c -o dictionary_rewriter.lo dictionary_rewriter.cpp\n",
            "libtool: compile:  g++ -DHAVE_CONFIG_H -I. -I.. -DDIC_VERSION=102 -DMECAB_DEFAULT_RC=\\\"/usr/local/etc/mecabrc\\\" -O3 -Wall -c dictionary_rewriter.cpp  -fPIC -DPIC -o .libs/dictionary_rewriter.o\n",
            "libtool: compile:  g++ -DHAVE_CONFIG_H -I. -I.. -DDIC_VERSION=102 -DMECAB_DEFAULT_RC=\\\"/usr/local/etc/mecabrc\\\" -O3 -Wall -c dictionary_rewriter.cpp -o dictionary_rewriter.o >/dev/null 2>&1\n",
            "/bin/bash ../libtool --tag=CXX   --mode=compile g++ -DHAVE_CONFIG_H -I. -I.. -DDIC_VERSION=102   -DMECAB_DEFAULT_RC=\"\\\"/usr/local/etc/mecabrc\\\"\"    -O3 -Wall  -c -o dictionary_generator.lo dictionary_generator.cpp\n",
            "libtool: compile:  g++ -DHAVE_CONFIG_H -I. -I.. -DDIC_VERSION=102 -DMECAB_DEFAULT_RC=\\\"/usr/local/etc/mecabrc\\\" -O3 -Wall -c dictionary_generator.cpp  -fPIC -DPIC -o .libs/dictionary_generator.o\n",
            "libtool: compile:  g++ -DHAVE_CONFIG_H -I. -I.. -DDIC_VERSION=102 -DMECAB_DEFAULT_RC=\\\"/usr/local/etc/mecabrc\\\" -O3 -Wall -c dictionary_generator.cpp -o dictionary_generator.o >/dev/null 2>&1\n",
            "/bin/bash ../libtool --tag=CXX   --mode=compile g++ -DHAVE_CONFIG_H -I. -I.. -DDIC_VERSION=102   -DMECAB_DEFAULT_RC=\"\\\"/usr/local/etc/mecabrc\\\"\"    -O3 -Wall  -c -o dictionary_compiler.lo dictionary_compiler.cpp\n",
            "libtool: compile:  g++ -DHAVE_CONFIG_H -I. -I.. -DDIC_VERSION=102 -DMECAB_DEFAULT_RC=\\\"/usr/local/etc/mecabrc\\\" -O3 -Wall -c dictionary_compiler.cpp  -fPIC -DPIC -o .libs/dictionary_compiler.o\n",
            "libtool: compile:  g++ -DHAVE_CONFIG_H -I. -I.. -DDIC_VERSION=102 -DMECAB_DEFAULT_RC=\\\"/usr/local/etc/mecabrc\\\" -O3 -Wall -c dictionary_compiler.cpp -o dictionary_compiler.o >/dev/null 2>&1\n",
            "/bin/bash ../libtool --tag=CXX   --mode=compile g++ -DHAVE_CONFIG_H -I. -I.. -DDIC_VERSION=102   -DMECAB_DEFAULT_RC=\"\\\"/usr/local/etc/mecabrc\\\"\"    -O3 -Wall  -c -o context_id.lo context_id.cpp\n",
            "libtool: compile:  g++ -DHAVE_CONFIG_H -I. -I.. -DDIC_VERSION=102 -DMECAB_DEFAULT_RC=\\\"/usr/local/etc/mecabrc\\\" -O3 -Wall -c context_id.cpp  -fPIC -DPIC -o .libs/context_id.o\n",
            "libtool: compile:  g++ -DHAVE_CONFIG_H -I. -I.. -DDIC_VERSION=102 -DMECAB_DEFAULT_RC=\\\"/usr/local/etc/mecabrc\\\" -O3 -Wall -c context_id.cpp -o context_id.o >/dev/null 2>&1\n",
            "/bin/bash ../libtool --tag=CXX   --mode=compile g++ -DHAVE_CONFIG_H -I. -I.. -DDIC_VERSION=102   -DMECAB_DEFAULT_RC=\"\\\"/usr/local/etc/mecabrc\\\"\"    -O3 -Wall  -c -o connector.lo connector.cpp\n",
            "libtool: compile:  g++ -DHAVE_CONFIG_H -I. -I.. -DDIC_VERSION=102 -DMECAB_DEFAULT_RC=\\\"/usr/local/etc/mecabrc\\\" -O3 -Wall -c connector.cpp  -fPIC -DPIC -o .libs/connector.o\n",
            "libtool: compile:  g++ -DHAVE_CONFIG_H -I. -I.. -DDIC_VERSION=102 -DMECAB_DEFAULT_RC=\\\"/usr/local/etc/mecabrc\\\" -O3 -Wall -c connector.cpp -o connector.o >/dev/null 2>&1\n",
            "/bin/bash ../libtool --tag=CXX   --mode=compile g++ -DHAVE_CONFIG_H -I. -I.. -DDIC_VERSION=102   -DMECAB_DEFAULT_RC=\"\\\"/usr/local/etc/mecabrc\\\"\"    -O3 -Wall  -c -o nbest_generator.lo nbest_generator.cpp\n",
            "libtool: compile:  g++ -DHAVE_CONFIG_H -I. -I.. -DDIC_VERSION=102 -DMECAB_DEFAULT_RC=\\\"/usr/local/etc/mecabrc\\\" -O3 -Wall -c nbest_generator.cpp  -fPIC -DPIC -o .libs/nbest_generator.o\n",
            "libtool: compile:  g++ -DHAVE_CONFIG_H -I. -I.. -DDIC_VERSION=102 -DMECAB_DEFAULT_RC=\\\"/usr/local/etc/mecabrc\\\" -O3 -Wall -c nbest_generator.cpp -o nbest_generator.o >/dev/null 2>&1\n",
            "/bin/bash ../libtool --tag=CXX   --mode=compile g++ -DHAVE_CONFIG_H -I. -I.. -DDIC_VERSION=102   -DMECAB_DEFAULT_RC=\"\\\"/usr/local/etc/mecabrc\\\"\"    -O3 -Wall  -c -o writer.lo writer.cpp\n",
            "libtool: compile:  g++ -DHAVE_CONFIG_H -I. -I.. -DDIC_VERSION=102 -DMECAB_DEFAULT_RC=\\\"/usr/local/etc/mecabrc\\\" -O3 -Wall -c writer.cpp  -fPIC -DPIC -o .libs/writer.o\n",
            "libtool: compile:  g++ -DHAVE_CONFIG_H -I. -I.. -DDIC_VERSION=102 -DMECAB_DEFAULT_RC=\\\"/usr/local/etc/mecabrc\\\" -O3 -Wall -c writer.cpp -o writer.o >/dev/null 2>&1\n",
            "/bin/bash ../libtool --tag=CXX   --mode=compile g++ -DHAVE_CONFIG_H -I. -I.. -DDIC_VERSION=102   -DMECAB_DEFAULT_RC=\"\\\"/usr/local/etc/mecabrc\\\"\"    -O3 -Wall  -c -o string_buffer.lo string_buffer.cpp\n",
            "libtool: compile:  g++ -DHAVE_CONFIG_H -I. -I.. -DDIC_VERSION=102 -DMECAB_DEFAULT_RC=\\\"/usr/local/etc/mecabrc\\\" -O3 -Wall -c string_buffer.cpp  -fPIC -DPIC -o .libs/string_buffer.o\n",
            "libtool: compile:  g++ -DHAVE_CONFIG_H -I. -I.. -DDIC_VERSION=102 -DMECAB_DEFAULT_RC=\\\"/usr/local/etc/mecabrc\\\" -O3 -Wall -c string_buffer.cpp -o string_buffer.o >/dev/null 2>&1\n",
            "/bin/bash ../libtool --tag=CXX   --mode=compile g++ -DHAVE_CONFIG_H -I. -I.. -DDIC_VERSION=102   -DMECAB_DEFAULT_RC=\"\\\"/usr/local/etc/mecabrc\\\"\"    -O3 -Wall  -c -o param.lo param.cpp\n",
            "libtool: compile:  g++ -DHAVE_CONFIG_H -I. -I.. -DDIC_VERSION=102 -DMECAB_DEFAULT_RC=\\\"/usr/local/etc/mecabrc\\\" -O3 -Wall -c param.cpp  -fPIC -DPIC -o .libs/param.o\n",
            "libtool: compile:  g++ -DHAVE_CONFIG_H -I. -I.. -DDIC_VERSION=102 -DMECAB_DEFAULT_RC=\\\"/usr/local/etc/mecabrc\\\" -O3 -Wall -c param.cpp -o param.o >/dev/null 2>&1\n",
            "/bin/bash ../libtool --tag=CXX   --mode=compile g++ -DHAVE_CONFIG_H -I. -I.. -DDIC_VERSION=102   -DMECAB_DEFAULT_RC=\"\\\"/usr/local/etc/mecabrc\\\"\"    -O3 -Wall  -c -o tokenizer.lo tokenizer.cpp\n",
            "libtool: compile:  g++ -DHAVE_CONFIG_H -I. -I.. -DDIC_VERSION=102 -DMECAB_DEFAULT_RC=\\\"/usr/local/etc/mecabrc\\\" -O3 -Wall -c tokenizer.cpp  -fPIC -DPIC -o .libs/tokenizer.o\n",
            "libtool: compile:  g++ -DHAVE_CONFIG_H -I. -I.. -DDIC_VERSION=102 -DMECAB_DEFAULT_RC=\\\"/usr/local/etc/mecabrc\\\" -O3 -Wall -c tokenizer.cpp -o tokenizer.o >/dev/null 2>&1\n",
            "/bin/bash ../libtool --tag=CXX   --mode=compile g++ -DHAVE_CONFIG_H -I. -I.. -DDIC_VERSION=102   -DMECAB_DEFAULT_RC=\"\\\"/usr/local/etc/mecabrc\\\"\"    -O3 -Wall  -c -o char_property.lo char_property.cpp\n",
            "libtool: compile:  g++ -DHAVE_CONFIG_H -I. -I.. -DDIC_VERSION=102 -DMECAB_DEFAULT_RC=\\\"/usr/local/etc/mecabrc\\\" -O3 -Wall -c char_property.cpp  -fPIC -DPIC -o .libs/char_property.o\n",
            "libtool: compile:  g++ -DHAVE_CONFIG_H -I. -I.. -DDIC_VERSION=102 -DMECAB_DEFAULT_RC=\\\"/usr/local/etc/mecabrc\\\" -O3 -Wall -c char_property.cpp -o char_property.o >/dev/null 2>&1\n",
            "/bin/bash ../libtool --tag=CXX   --mode=compile g++ -DHAVE_CONFIG_H -I. -I.. -DDIC_VERSION=102   -DMECAB_DEFAULT_RC=\"\\\"/usr/local/etc/mecabrc\\\"\"    -O3 -Wall  -c -o dictionary.lo dictionary.cpp\n",
            "libtool: compile:  g++ -DHAVE_CONFIG_H -I. -I.. -DDIC_VERSION=102 -DMECAB_DEFAULT_RC=\\\"/usr/local/etc/mecabrc\\\" -O3 -Wall -c dictionary.cpp  -fPIC -DPIC -o .libs/dictionary.o\n",
            "libtool: compile:  g++ -DHAVE_CONFIG_H -I. -I.. -DDIC_VERSION=102 -DMECAB_DEFAULT_RC=\\\"/usr/local/etc/mecabrc\\\" -O3 -Wall -c dictionary.cpp -o dictionary.o >/dev/null 2>&1\n",
            "/bin/bash ../libtool --tag=CXX   --mode=compile g++ -DHAVE_CONFIG_H -I. -I.. -DDIC_VERSION=102   -DMECAB_DEFAULT_RC=\"\\\"/usr/local/etc/mecabrc\\\"\"    -O3 -Wall  -c -o feature_index.lo feature_index.cpp\n",
            "libtool: compile:  g++ -DHAVE_CONFIG_H -I. -I.. -DDIC_VERSION=102 -DMECAB_DEFAULT_RC=\\\"/usr/local/etc/mecabrc\\\" -O3 -Wall -c feature_index.cpp  -fPIC -DPIC -o .libs/feature_index.o\n",
            "libtool: compile:  g++ -DHAVE_CONFIG_H -I. -I.. -DDIC_VERSION=102 -DMECAB_DEFAULT_RC=\\\"/usr/local/etc/mecabrc\\\" -O3 -Wall -c feature_index.cpp -o feature_index.o >/dev/null 2>&1\n",
            "/bin/bash ../libtool --tag=CXX   --mode=compile g++ -DHAVE_CONFIG_H -I. -I.. -DDIC_VERSION=102   -DMECAB_DEFAULT_RC=\"\\\"/usr/local/etc/mecabrc\\\"\"    -O3 -Wall  -c -o lbfgs.lo lbfgs.cpp\n",
            "libtool: compile:  g++ -DHAVE_CONFIG_H -I. -I.. -DDIC_VERSION=102 -DMECAB_DEFAULT_RC=\\\"/usr/local/etc/mecabrc\\\" -O3 -Wall -c lbfgs.cpp  -fPIC -DPIC -o .libs/lbfgs.o\n",
            "libtool: compile:  g++ -DHAVE_CONFIG_H -I. -I.. -DDIC_VERSION=102 -DMECAB_DEFAULT_RC=\\\"/usr/local/etc/mecabrc\\\" -O3 -Wall -c lbfgs.cpp -o lbfgs.o >/dev/null 2>&1\n",
            "/bin/bash ../libtool --tag=CXX   --mode=compile g++ -DHAVE_CONFIG_H -I. -I.. -DDIC_VERSION=102   -DMECAB_DEFAULT_RC=\"\\\"/usr/local/etc/mecabrc\\\"\"    -O3 -Wall  -c -o learner_tagger.lo learner_tagger.cpp\n",
            "libtool: compile:  g++ -DHAVE_CONFIG_H -I. -I.. -DDIC_VERSION=102 -DMECAB_DEFAULT_RC=\\\"/usr/local/etc/mecabrc\\\" -O3 -Wall -c learner_tagger.cpp  -fPIC -DPIC -o .libs/learner_tagger.o\n",
            "\u001b[01m\u001b[Klearner_tagger.cpp:25:7:\u001b[m\u001b[K \u001b[01;35m\u001b[Kwarning: \u001b[m\u001b[K'\u001b[01m\u001b[Kchar* MeCab::{anonymous}::mystrdup(const string&)\u001b[m\u001b[K' defined but not used [\u001b[01;35m\u001b[K-Wunused-function\u001b[m\u001b[K]\n",
            " char *\u001b[01;35m\u001b[Kmystrdup\u001b[m\u001b[K(const std::string &str) {\n",
            "       \u001b[01;35m\u001b[K^~~~~~~~\u001b[m\u001b[K\n",
            "libtool: compile:  g++ -DHAVE_CONFIG_H -I. -I.. -DDIC_VERSION=102 -DMECAB_DEFAULT_RC=\\\"/usr/local/etc/mecabrc\\\" -O3 -Wall -c learner_tagger.cpp -o learner_tagger.o >/dev/null 2>&1\n",
            "/bin/bash ../libtool --tag=CXX   --mode=compile g++ -DHAVE_CONFIG_H -I. -I.. -DDIC_VERSION=102   -DMECAB_DEFAULT_RC=\"\\\"/usr/local/etc/mecabrc\\\"\"    -O3 -Wall  -c -o learner.lo learner.cpp\n",
            "libtool: compile:  g++ -DHAVE_CONFIG_H -I. -I.. -DDIC_VERSION=102 -DMECAB_DEFAULT_RC=\\\"/usr/local/etc/mecabrc\\\" -O3 -Wall -c learner.cpp  -fPIC -DPIC -o .libs/learner.o\n",
            "libtool: compile:  g++ -DHAVE_CONFIG_H -I. -I.. -DDIC_VERSION=102 -DMECAB_DEFAULT_RC=\\\"/usr/local/etc/mecabrc\\\" -O3 -Wall -c learner.cpp -o learner.o >/dev/null 2>&1\n",
            "/bin/bash ../libtool --tag=CXX   --mode=compile g++ -DHAVE_CONFIG_H -I. -I.. -DDIC_VERSION=102   -DMECAB_DEFAULT_RC=\"\\\"/usr/local/etc/mecabrc\\\"\"    -O3 -Wall  -c -o libmecab.lo libmecab.cpp\n",
            "libtool: compile:  g++ -DHAVE_CONFIG_H -I. -I.. -DDIC_VERSION=102 -DMECAB_DEFAULT_RC=\\\"/usr/local/etc/mecabrc\\\" -O3 -Wall -c libmecab.cpp  -fPIC -DPIC -o .libs/libmecab.o\n",
            "libtool: compile:  g++ -DHAVE_CONFIG_H -I. -I.. -DDIC_VERSION=102 -DMECAB_DEFAULT_RC=\\\"/usr/local/etc/mecabrc\\\" -O3 -Wall -c libmecab.cpp -o libmecab.o >/dev/null 2>&1\n",
            "/bin/bash ../libtool --tag=CXX   --mode=link g++  -O3 -Wall  -no-undefined -version-info 2:0:0  -o libmecab.la -rpath /usr/local/lib viterbi.lo tagger.lo utils.lo eval.lo iconv_utils.lo dictionary_rewriter.lo dictionary_generator.lo dictionary_compiler.lo context_id.lo connector.lo nbest_generator.lo writer.lo string_buffer.lo param.lo tokenizer.lo char_property.lo dictionary.lo feature_index.lo lbfgs.lo learner_tagger.lo learner.lo libmecab.lo  -lpthread -lpthread  -lstdc++ \n",
            "libtool: link: g++  -fPIC -DPIC -shared -nostdlib /usr/lib/gcc/x86_64-linux-gnu/7/../../../x86_64-linux-gnu/crti.o /usr/lib/gcc/x86_64-linux-gnu/7/crtbeginS.o  .libs/viterbi.o .libs/tagger.o .libs/utils.o .libs/eval.o .libs/iconv_utils.o .libs/dictionary_rewriter.o .libs/dictionary_generator.o .libs/dictionary_compiler.o .libs/context_id.o .libs/connector.o .libs/nbest_generator.o .libs/writer.o .libs/string_buffer.o .libs/param.o .libs/tokenizer.o .libs/char_property.o .libs/dictionary.o .libs/feature_index.o .libs/lbfgs.o .libs/learner_tagger.o .libs/learner.o .libs/libmecab.o   -lpthread -L/usr/lib/gcc/x86_64-linux-gnu/7 -L/usr/lib/gcc/x86_64-linux-gnu/7/../../../x86_64-linux-gnu -L/usr/lib/gcc/x86_64-linux-gnu/7/../../../../lib -L/lib/x86_64-linux-gnu -L/lib/../lib -L/usr/lib/x86_64-linux-gnu -L/usr/lib/../lib -L/usr/local/cuda/lib64/stubs -L/usr/lib/gcc/x86_64-linux-gnu/7/../../.. -lstdc++ -lm -lc -lgcc_s /usr/lib/gcc/x86_64-linux-gnu/7/crtendS.o /usr/lib/gcc/x86_64-linux-gnu/7/../../../x86_64-linux-gnu/crtn.o  -O3   -Wl,-soname -Wl,libmecab.so.2 -o .libs/libmecab.so.2.0.0\n",
            "libtool: link: (cd \".libs\" && rm -f \"libmecab.so.2\" && ln -s \"libmecab.so.2.0.0\" \"libmecab.so.2\")\n",
            "libtool: link: (cd \".libs\" && rm -f \"libmecab.so\" && ln -s \"libmecab.so.2.0.0\" \"libmecab.so\")\n",
            "libtool: link: ar cru .libs/libmecab.a  viterbi.o tagger.o utils.o eval.o iconv_utils.o dictionary_rewriter.o dictionary_generator.o dictionary_compiler.o context_id.o connector.o nbest_generator.o writer.o string_buffer.o param.o tokenizer.o char_property.o dictionary.o feature_index.o lbfgs.o learner_tagger.o learner.o libmecab.o\n",
            "ar: `u' modifier ignored since `D' is the default (see `U')\n",
            "libtool: link: ranlib .libs/libmecab.a\n",
            "libtool: link: ( cd \".libs\" && rm -f \"libmecab.la\" && ln -s \"../libmecab.la\" \"libmecab.la\" )\n",
            "g++ -DHAVE_CONFIG_H -I. -I.. -DDIC_VERSION=102   -DMECAB_DEFAULT_RC=\"\\\"/usr/local/etc/mecabrc\\\"\"    -O3 -Wall  -c -o mecab.o mecab.cpp\n",
            "/bin/bash ../libtool --tag=CXX   --mode=link g++  -O3 -Wall    -o mecab mecab.o libmecab.la -lpthread -lpthread  -lstdc++ \n",
            "libtool: link: g++ -O3 -Wall -o .libs/mecab mecab.o  ./.libs/libmecab.so -lpthread -lstdc++\n",
            "g++ -DHAVE_CONFIG_H -I. -I.. -DDIC_VERSION=102   -DMECAB_DEFAULT_RC=\"\\\"/usr/local/etc/mecabrc\\\"\"    -O3 -Wall  -c -o mecab-dict-index.o mecab-dict-index.cpp\n",
            "/bin/bash ../libtool --tag=CXX   --mode=link g++  -O3 -Wall    -o mecab-dict-index mecab-dict-index.o libmecab.la -lpthread -lpthread  -lstdc++ \n",
            "libtool: link: g++ -O3 -Wall -o .libs/mecab-dict-index mecab-dict-index.o  ./.libs/libmecab.so -lpthread -lstdc++\n",
            "g++ -DHAVE_CONFIG_H -I. -I.. -DDIC_VERSION=102   -DMECAB_DEFAULT_RC=\"\\\"/usr/local/etc/mecabrc\\\"\"    -O3 -Wall  -c -o mecab-dict-gen.o mecab-dict-gen.cpp\n",
            "/bin/bash ../libtool --tag=CXX   --mode=link g++  -O3 -Wall    -o mecab-dict-gen mecab-dict-gen.o libmecab.la -lpthread -lpthread  -lstdc++ \n",
            "libtool: link: g++ -O3 -Wall -o .libs/mecab-dict-gen mecab-dict-gen.o  ./.libs/libmecab.so -lpthread -lstdc++\n",
            "g++ -DHAVE_CONFIG_H -I. -I.. -DDIC_VERSION=102   -DMECAB_DEFAULT_RC=\"\\\"/usr/local/etc/mecabrc\\\"\"    -O3 -Wall  -c -o mecab-cost-train.o mecab-cost-train.cpp\n",
            "/bin/bash ../libtool --tag=CXX   --mode=link g++  -O3 -Wall    -o mecab-cost-train mecab-cost-train.o libmecab.la -lpthread -lpthread  -lstdc++ \n",
            "libtool: link: g++ -O3 -Wall -o .libs/mecab-cost-train mecab-cost-train.o  ./.libs/libmecab.so -lpthread -lstdc++\n",
            "g++ -DHAVE_CONFIG_H -I. -I.. -DDIC_VERSION=102   -DMECAB_DEFAULT_RC=\"\\\"/usr/local/etc/mecabrc\\\"\"    -O3 -Wall  -c -o mecab-system-eval.o mecab-system-eval.cpp\n",
            "/bin/bash ../libtool --tag=CXX   --mode=link g++  -O3 -Wall    -o mecab-system-eval mecab-system-eval.o libmecab.la -lpthread -lpthread  -lstdc++ \n",
            "libtool: link: g++ -O3 -Wall -o .libs/mecab-system-eval mecab-system-eval.o  ./.libs/libmecab.so -lpthread -lstdc++\n",
            "g++ -DHAVE_CONFIG_H -I. -I.. -DDIC_VERSION=102   -DMECAB_DEFAULT_RC=\"\\\"/usr/local/etc/mecabrc\\\"\"    -O3 -Wall  -c -o mecab-test-gen.o mecab-test-gen.cpp\n",
            "/bin/bash ../libtool --tag=CXX   --mode=link g++  -O3 -Wall    -o mecab-test-gen mecab-test-gen.o libmecab.la -lpthread -lpthread  -lstdc++ \n",
            "libtool: link: g++ -O3 -Wall -o .libs/mecab-test-gen mecab-test-gen.o  ./.libs/libmecab.so -lpthread -lstdc++\n",
            "make[2]: Leaving directory '/tmp/mecab-0.996-ko-0.9.2/src'\n",
            "Making all in man\n",
            "make[2]: Entering directory '/tmp/mecab-0.996-ko-0.9.2/man'\n",
            "make[2]: Nothing to be done for 'all'.\n",
            "make[2]: Leaving directory '/tmp/mecab-0.996-ko-0.9.2/man'\n",
            "Making all in doc\n",
            "make[2]: Entering directory '/tmp/mecab-0.996-ko-0.9.2/doc'\n",
            "make[2]: Nothing to be done for 'all'.\n",
            "make[2]: Leaving directory '/tmp/mecab-0.996-ko-0.9.2/doc'\n",
            "Making all in tests\n",
            "make[2]: Entering directory '/tmp/mecab-0.996-ko-0.9.2/tests'\n",
            "make[2]: Nothing to be done for 'all'.\n",
            "make[2]: Leaving directory '/tmp/mecab-0.996-ko-0.9.2/tests'\n",
            "make[2]: Entering directory '/tmp/mecab-0.996-ko-0.9.2'\n",
            "make[2]: Leaving directory '/tmp/mecab-0.996-ko-0.9.2'\n",
            "make[1]: Leaving directory '/tmp/mecab-0.996-ko-0.9.2'\n",
            "Making check in src\n",
            "make[1]: Entering directory '/tmp/mecab-0.996-ko-0.9.2/src'\n",
            "make[1]: Nothing to be done for 'check'.\n",
            "make[1]: Leaving directory '/tmp/mecab-0.996-ko-0.9.2/src'\n",
            "Making check in man\n",
            "make[1]: Entering directory '/tmp/mecab-0.996-ko-0.9.2/man'\n",
            "make[1]: Nothing to be done for 'check'.\n",
            "make[1]: Leaving directory '/tmp/mecab-0.996-ko-0.9.2/man'\n",
            "Making check in doc\n",
            "make[1]: Entering directory '/tmp/mecab-0.996-ko-0.9.2/doc'\n",
            "make[1]: Nothing to be done for 'check'.\n",
            "make[1]: Leaving directory '/tmp/mecab-0.996-ko-0.9.2/doc'\n",
            "Making check in tests\n",
            "make[1]: Entering directory '/tmp/mecab-0.996-ko-0.9.2/tests'\n",
            "make  check-TESTS\n",
            "make[2]: Entering directory '/tmp/mecab-0.996-ko-0.9.2/tests'\n",
            "./pos-id.def is not found. minimum setting is used\n",
            "reading ./unk.def ... 2\n",
            "emitting double-array: 100% |###########################################| \n",
            "./model.def is not found. skipped.\n",
            "./pos-id.def is not found. minimum setting is used\n",
            "reading ./dic.csv ... 177\n",
            "emitting double-array: 100% |###########################################| \n",
            "reading ./matrix.def ... 178x178\n",
            "emitting matrix      : 100% |###########################################| \n",
            "\n",
            "done!\n",
            "./pos-id.def is not found. minimum setting is used\n",
            "reading ./unk.def ... 2\n",
            "emitting double-array: 100% |###########################################| \n",
            "./model.def is not found. skipped.\n",
            "./pos-id.def is not found. minimum setting is used\n",
            "reading ./dic.csv ... 83\n",
            "emitting double-array: 100% |###########################################| \n",
            "reading ./matrix.def ... 84x84\n",
            "emitting matrix      : 100% |###########################################| \n",
            "\n",
            "done!\n",
            "./pos-id.def is not found. minimum setting is used\n",
            "reading ./unk.def ... 2\n",
            "emitting double-array: 100% |###########################################| \n",
            "./model.def is not found. skipped.\n",
            "./pos-id.def is not found. minimum setting is used\n",
            "reading ./dic.csv ... 450\n",
            "emitting double-array: 100% |###########################################| \n",
            "reading ./matrix.def ... 1x1\n",
            "\n",
            "done!\n",
            "./pos-id.def is not found. minimum setting is used\n",
            "reading ./unk.def ... 2\n",
            "emitting double-array: 100% |###########################################| \n",
            "./model.def is not found. skipped.\n",
            "./pos-id.def is not found. minimum setting is used\n",
            "reading ./dic.csv ... 162\n",
            "emitting double-array: 100% |###########################################| \n",
            "reading ./matrix.def ... 3x3\n",
            "emitting matrix      : 100% |###########################################| \n",
            "\n",
            "done!\n",
            "./pos-id.def is not found. minimum setting is used\n",
            "reading ./unk.def ... 2\n",
            "emitting double-array: 100% |###########################################| \n",
            "./model.def is not found. skipped.\n",
            "./pos-id.def is not found. minimum setting is used\n",
            "reading ./dic.csv ... 4\n",
            "emitting double-array: 100% |###########################################| \n",
            "reading ./matrix.def ... 1x1\n",
            "\n",
            "done!\n",
            "./pos-id.def is not found. minimum setting is used\n",
            "reading ./unk.def ... 11\n",
            "emitting double-array: 100% |###########################################| \n",
            "./model.def is not found. skipped.\n",
            "./pos-id.def is not found. minimum setting is used\n",
            "reading ./dic.csv ... 1\n",
            "reading ./matrix.def ... 1x1\n",
            "\n",
            "done!\n",
            "./pos-id.def is not found. minimum setting is used\n",
            "reading ./unk.def ... 2\n",
            "emitting double-array: 100% |###########################################| \n",
            "./model.def is not found. skipped.\n",
            "./pos-id.def is not found. minimum setting is used\n",
            "reading ./dic.csv ... 1\n",
            "reading ./matrix.def ... 1x1\n",
            "\n",
            "done!\n",
            "PASS: run-dics.sh\n",
            "PASS: run-eval.sh\n",
            "seed/pos-id.def is not found. minimum setting is used\n",
            "reading seed/unk.def ... 40\n",
            "emitting double-array: 100% |###########################################| \n",
            "seed/model.def is not found. skipped.\n",
            "seed/pos-id.def is not found. minimum setting is used\n",
            "reading seed/dic.csv ... 4335\n",
            "emitting double-array: 100% |###########################################| \n",
            "reading seed/matrix.def ... 1x1\n",
            "\n",
            "done!\n",
            "reading corpus ...\n",
            "Number of sentences: 34\n",
            "Number of features:  64108\n",
            "eta:                 0.00005\n",
            "freq:                1\n",
            "eval-size:           6\n",
            "unk-eval-size:       4\n",
            "threads:             1\n",
            "charset:             EUC-JP\n",
            "C(sigma^2):          1.00000\n",
            "\n",
            "iter=0 err=1.00000 F=0.35771 target=2406.28355 diff=1.00000\n",
            "iter=1 err=0.97059 F=0.65652 target=1484.25231 diff=0.38318\n",
            "iter=2 err=0.91176 F=0.79331 target=863.32765 diff=0.41834\n",
            "iter=3 err=0.85294 F=0.89213 target=596.72480 diff=0.30881\n",
            "iter=4 err=0.61765 F=0.95467 target=336.30744 diff=0.43641\n",
            "iter=5 err=0.50000 F=0.96702 target=246.53039 diff=0.26695\n",
            "iter=6 err=0.35294 F=0.95472 target=188.93963 diff=0.23361\n",
            "iter=7 err=0.20588 F=0.99106 target=168.62665 diff=0.10751\n",
            "iter=8 err=0.05882 F=0.99777 target=158.64865 diff=0.05917\n",
            "iter=9 err=0.08824 F=0.99665 target=154.14530 diff=0.02839\n",
            "iter=10 err=0.08824 F=0.99665 target=151.94257 diff=0.01429\n",
            "iter=11 err=0.02941 F=0.99888 target=147.20825 diff=0.03116\n",
            "iter=12 err=0.00000 F=1.00000 target=147.34956 diff=0.00096\n",
            "iter=13 err=0.02941 F=0.99888 target=146.32592 diff=0.00695\n",
            "iter=14 err=0.00000 F=1.00000 target=145.77299 diff=0.00378\n",
            "iter=15 err=0.02941 F=0.99888 target=145.24641 diff=0.00361\n",
            "iter=16 err=0.00000 F=1.00000 target=144.96490 diff=0.00194\n",
            "iter=17 err=0.02941 F=0.99888 target=144.90246 diff=0.00043\n",
            "iter=18 err=0.00000 F=1.00000 target=144.75959 diff=0.00099\n",
            "iter=19 err=0.00000 F=1.00000 target=144.71727 diff=0.00029\n",
            "iter=20 err=0.00000 F=1.00000 target=144.66337 diff=0.00037\n",
            "iter=21 err=0.00000 F=1.00000 target=144.61349 diff=0.00034\n",
            "iter=22 err=0.00000 F=1.00000 target=144.62987 diff=0.00011\n",
            "iter=23 err=0.00000 F=1.00000 target=144.60060 diff=0.00020\n",
            "iter=24 err=0.00000 F=1.00000 target=144.59125 diff=0.00006\n",
            "iter=25 err=0.00000 F=1.00000 target=144.58619 diff=0.00004\n",
            "iter=26 err=0.00000 F=1.00000 target=144.58219 diff=0.00003\n",
            "iter=27 err=0.00000 F=1.00000 target=144.58059 diff=0.00001\n",
            "\n",
            "Done! writing model file ... \n",
            "model-ipadic.c1.0.f1.model is not a binary model. reopen it as text mode...\n",
            "reading seed/unk.def ... 40\n",
            "reading seed/dic.csv ... 4335\n",
            "emitting model-ipadic.c1.0.f1.dic/left-id.def/ model-ipadic.c1.0.f1.dic/right-id.def\n",
            "emitting model-ipadic.c1.0.f1.dic/unk.def ... 40\n",
            "emitting model-ipadic.c1.0.f1.dic/dic.csv ... 4335\n",
            "emitting matrix      : 100% |###########################################| \n",
            "copying seed/char.def to model-ipadic.c1.0.f1.dic/char.def\n",
            "copying seed/rewrite.def to model-ipadic.c1.0.f1.dic/rewrite.def\n",
            "copying seed/dicrc to model-ipadic.c1.0.f1.dic/dicrc\n",
            "copying seed/feature.def to model-ipadic.c1.0.f1.dic/feature.def\n",
            "copying model-ipadic.c1.0.f1.model to model-ipadic.c1.0.f1.dic/model.def\n",
            "\n",
            "done!\n",
            "model-ipadic.c1.0.f1.dic/pos-id.def is not found. minimum setting is used\n",
            "reading model-ipadic.c1.0.f1.dic/unk.def ... 40\n",
            "emitting double-array: 100% |###########################################| \n",
            "model-ipadic.c1.0.f1.dic/pos-id.def is not found. minimum setting is used\n",
            "reading model-ipadic.c1.0.f1.dic/dic.csv ... 4335\n",
            "emitting double-array: 100% |###########################################| \n",
            "reading model-ipadic.c1.0.f1.dic/matrix.def ... 346x346\n",
            "emitting matrix      : 100% |###########################################| \n",
            "\n",
            "done!\n",
            "              precision          recall         F\n",
            "LEVEL 0:    12.8959(57/442) 11.8998(57/479) 12.3779\n",
            "LEVEL 1:    12.2172(54/442) 11.2735(54/479) 11.7264\n",
            "LEVEL 2:    11.7647(52/442) 10.8559(52/479) 11.2921\n",
            "LEVEL 4:    11.7647(52/442) 10.8559(52/479) 11.2921\n",
            "PASS: run-cost-train.sh\n",
            "==================\n",
            "All 3 tests passed\n",
            "==================\n",
            "make[2]: Leaving directory '/tmp/mecab-0.996-ko-0.9.2/tests'\n",
            "make[1]: Leaving directory '/tmp/mecab-0.996-ko-0.9.2/tests'\n",
            "make[1]: Entering directory '/tmp/mecab-0.996-ko-0.9.2'\n",
            "make[1]: Leaving directory '/tmp/mecab-0.996-ko-0.9.2'\n",
            "Making install in src\n",
            "make[1]: Entering directory '/tmp/mecab-0.996-ko-0.9.2/src'\n",
            "make[2]: Entering directory '/tmp/mecab-0.996-ko-0.9.2/src'\n",
            "test -z \"/usr/local/lib\" || /bin/mkdir -p \"/usr/local/lib\"\n",
            " /bin/bash ../libtool   --mode=install /usr/bin/install -c   libmecab.la '/usr/local/lib'\n",
            "libtool: install: /usr/bin/install -c .libs/libmecab.so.2.0.0 /usr/local/lib/libmecab.so.2.0.0\n",
            "libtool: install: (cd /usr/local/lib && { ln -s -f libmecab.so.2.0.0 libmecab.so.2 || { rm -f libmecab.so.2 && ln -s libmecab.so.2.0.0 libmecab.so.2; }; })\n",
            "libtool: install: (cd /usr/local/lib && { ln -s -f libmecab.so.2.0.0 libmecab.so || { rm -f libmecab.so && ln -s libmecab.so.2.0.0 libmecab.so; }; })\n",
            "libtool: install: /usr/bin/install -c .libs/libmecab.lai /usr/local/lib/libmecab.la\n",
            "libtool: install: /usr/bin/install -c .libs/libmecab.a /usr/local/lib/libmecab.a\n",
            "libtool: install: chmod 644 /usr/local/lib/libmecab.a\n",
            "libtool: install: ranlib /usr/local/lib/libmecab.a\n",
            "libtool: finish: PATH=\"/opt/bin:/usr/local/nvidia/bin:/usr/local/cuda/bin:/usr/local/sbin:/usr/local/bin:/usr/sbin:/usr/bin:/sbin:/bin:/tools/node/bin:/tools/google-cloud-sdk/bin:/sbin\" ldconfig -n /usr/local/lib\n",
            "----------------------------------------------------------------------\n",
            "Libraries have been installed in:\n",
            "   /usr/local/lib\n",
            "\n",
            "If you ever happen to want to link against installed libraries\n",
            "in a given directory, LIBDIR, you must either use libtool, and\n",
            "specify the full pathname of the library, or use the `-LLIBDIR'\n",
            "flag during linking and do at least one of the following:\n",
            "   - add LIBDIR to the `LD_LIBRARY_PATH' environment variable\n",
            "     during execution\n",
            "   - add LIBDIR to the `LD_RUN_PATH' environment variable\n",
            "     during linking\n",
            "   - use the `-Wl,-rpath -Wl,LIBDIR' linker flag\n",
            "   - have your system administrator add LIBDIR to `/etc/ld.so.conf'\n",
            "\n",
            "See any operating system documentation about shared libraries for\n",
            "more information, such as the ld(1) and ld.so(8) manual pages.\n",
            "----------------------------------------------------------------------\n",
            "test -z \"/usr/local/bin\" || /bin/mkdir -p \"/usr/local/bin\"\n",
            "  /bin/bash ../libtool   --mode=install /usr/bin/install -c mecab '/usr/local/bin'\n",
            "libtool: install: /usr/bin/install -c .libs/mecab /usr/local/bin/mecab\n",
            "test -z \"/usr/local/libexec/mecab\" || /bin/mkdir -p \"/usr/local/libexec/mecab\"\n",
            "  /bin/bash ../libtool   --mode=install /usr/bin/install -c mecab-dict-index mecab-dict-gen mecab-cost-train mecab-system-eval mecab-test-gen '/usr/local/libexec/mecab'\n",
            "libtool: install: /usr/bin/install -c .libs/mecab-dict-index /usr/local/libexec/mecab/mecab-dict-index\n",
            "libtool: install: /usr/bin/install -c .libs/mecab-dict-gen /usr/local/libexec/mecab/mecab-dict-gen\n",
            "libtool: install: /usr/bin/install -c .libs/mecab-cost-train /usr/local/libexec/mecab/mecab-cost-train\n",
            "libtool: install: /usr/bin/install -c .libs/mecab-system-eval /usr/local/libexec/mecab/mecab-system-eval\n",
            "libtool: install: /usr/bin/install -c .libs/mecab-test-gen /usr/local/libexec/mecab/mecab-test-gen\n",
            "test -z \"/usr/local/include\" || /bin/mkdir -p \"/usr/local/include\"\n",
            " /usr/bin/install -c -m 644 mecab.h '/usr/local/include'\n",
            "make[2]: Leaving directory '/tmp/mecab-0.996-ko-0.9.2/src'\n",
            "make[1]: Leaving directory '/tmp/mecab-0.996-ko-0.9.2/src'\n",
            "Making install in man\n",
            "make[1]: Entering directory '/tmp/mecab-0.996-ko-0.9.2/man'\n",
            "make[2]: Entering directory '/tmp/mecab-0.996-ko-0.9.2/man'\n",
            "make[2]: Nothing to be done for 'install-exec-am'.\n",
            "test -z \"/usr/local/share/man/man1\" || /bin/mkdir -p \"/usr/local/share/man/man1\"\n",
            " /usr/bin/install -c -m 644 mecab.1 '/usr/local/share/man/man1'\n",
            "make[2]: Leaving directory '/tmp/mecab-0.996-ko-0.9.2/man'\n",
            "make[1]: Leaving directory '/tmp/mecab-0.996-ko-0.9.2/man'\n",
            "Making install in doc\n",
            "make[1]: Entering directory '/tmp/mecab-0.996-ko-0.9.2/doc'\n",
            "make[2]: Entering directory '/tmp/mecab-0.996-ko-0.9.2/doc'\n",
            "make[2]: Nothing to be done for 'install-exec-am'.\n",
            "make[2]: Nothing to be done for 'install-data-am'.\n",
            "make[2]: Leaving directory '/tmp/mecab-0.996-ko-0.9.2/doc'\n",
            "make[1]: Leaving directory '/tmp/mecab-0.996-ko-0.9.2/doc'\n",
            "Making install in tests\n",
            "make[1]: Entering directory '/tmp/mecab-0.996-ko-0.9.2/tests'\n",
            "make[2]: Entering directory '/tmp/mecab-0.996-ko-0.9.2/tests'\n",
            "make[2]: Nothing to be done for 'install-exec-am'.\n",
            "make[2]: Nothing to be done for 'install-data-am'.\n",
            "make[2]: Leaving directory '/tmp/mecab-0.996-ko-0.9.2/tests'\n",
            "make[1]: Leaving directory '/tmp/mecab-0.996-ko-0.9.2/tests'\n",
            "make[1]: Entering directory '/tmp/mecab-0.996-ko-0.9.2'\n",
            "make[2]: Entering directory '/tmp/mecab-0.996-ko-0.9.2'\n",
            "test -z \"/usr/local/bin\" || /bin/mkdir -p \"/usr/local/bin\"\n",
            " /usr/bin/install -c mecab-config '/usr/local/bin'\n",
            "test -z \"/usr/local/etc\" || /bin/mkdir -p \"/usr/local/etc\"\n",
            " /usr/bin/install -c -m 644 mecabrc '/usr/local/etc'\n",
            "make[2]: Leaving directory '/tmp/mecab-0.996-ko-0.9.2'\n",
            "make[1]: Leaving directory '/tmp/mecab-0.996-ko-0.9.2'\n"
          ]
        }
      ]
    },
    {
      "cell_type": "code",
      "source": [
        "# install mecab-ko-dic\n",
        "!apt-get install automake\n",
        "os.chdir('/tmp')\n",
        "!curl -LO https://bitbucket.org/eunjeon/mecab-ko-dic/downloads/mecab-ko-dic-2.1.1-20180720.tar.gz\n",
        "!tar -zxvf mecab-ko-dic-2.1.1-20180720.tar.gz\n",
        "os.chdir('/tmp/mecab-ko-dic-2.1.1-20180720')\n",
        "!./autogen.sh\n",
        "!./configure\n",
        "!make\n",
        "!make install"
      ],
      "metadata": {
        "colab": {
          "base_uri": "https://localhost:8080/"
        },
        "id": "pzAncZ1g-v5N",
        "outputId": "05064f2a-803a-4d7e-d794-9df1988a154b"
      },
      "execution_count": 5,
      "outputs": [
        {
          "output_type": "stream",
          "name": "stdout",
          "text": [
            "Reading package lists... Done\n",
            "Building dependency tree       \n",
            "Reading state information... Done\n",
            "The following package was automatically installed and is no longer required:\n",
            "  libnvidia-common-460\n",
            "Use 'apt autoremove' to remove it.\n",
            "The following additional packages will be installed:\n",
            "  autoconf autotools-dev libsigsegv2 m4\n",
            "Suggested packages:\n",
            "  autoconf-archive gnu-standards autoconf-doc libtool gettext m4-doc\n",
            "The following NEW packages will be installed:\n",
            "  autoconf automake autotools-dev libsigsegv2 m4\n",
            "0 upgraded, 5 newly installed, 0 to remove and 45 not upgraded.\n",
            "Need to get 1,082 kB of archives.\n",
            "After this operation, 3,994 kB of additional disk space will be used.\n",
            "Get:1 http://archive.ubuntu.com/ubuntu bionic/main amd64 libsigsegv2 amd64 2.12-1 [14.7 kB]\n",
            "Get:2 http://archive.ubuntu.com/ubuntu bionic/main amd64 m4 amd64 1.4.18-1 [197 kB]\n",
            "Get:3 http://archive.ubuntu.com/ubuntu bionic/main amd64 autoconf all 2.69-11 [322 kB]\n",
            "Get:4 http://archive.ubuntu.com/ubuntu bionic/main amd64 autotools-dev all 20180224.1 [39.6 kB]\n",
            "Get:5 http://archive.ubuntu.com/ubuntu bionic/main amd64 automake all 1:1.15.1-3ubuntu2 [509 kB]\n",
            "Fetched 1,082 kB in 0s (2,182 kB/s)\n",
            "Selecting previously unselected package libsigsegv2:amd64.\n",
            "(Reading database ... 155975 files and directories currently installed.)\n",
            "Preparing to unpack .../libsigsegv2_2.12-1_amd64.deb ...\n",
            "Unpacking libsigsegv2:amd64 (2.12-1) ...\n",
            "Selecting previously unselected package m4.\n",
            "Preparing to unpack .../archives/m4_1.4.18-1_amd64.deb ...\n",
            "Unpacking m4 (1.4.18-1) ...\n",
            "Selecting previously unselected package autoconf.\n",
            "Preparing to unpack .../autoconf_2.69-11_all.deb ...\n",
            "Unpacking autoconf (2.69-11) ...\n",
            "Selecting previously unselected package autotools-dev.\n",
            "Preparing to unpack .../autotools-dev_20180224.1_all.deb ...\n",
            "Unpacking autotools-dev (20180224.1) ...\n",
            "Selecting previously unselected package automake.\n",
            "Preparing to unpack .../automake_1%3a1.15.1-3ubuntu2_all.deb ...\n",
            "Unpacking automake (1:1.15.1-3ubuntu2) ...\n",
            "Setting up libsigsegv2:amd64 (2.12-1) ...\n",
            "Setting up m4 (1.4.18-1) ...\n",
            "Setting up autotools-dev (20180224.1) ...\n",
            "Setting up autoconf (2.69-11) ...\n",
            "Setting up automake (1:1.15.1-3ubuntu2) ...\n",
            "update-alternatives: using /usr/bin/automake-1.15 to provide /usr/bin/automake (automake) in auto mode\n",
            "Processing triggers for libc-bin (2.27-3ubuntu1.3) ...\n",
            "/sbin/ldconfig.real: /usr/local/lib/python3.7/dist-packages/ideep4py/lib/libmkldnn.so.0 is not a symbolic link\n",
            "\n",
            "Processing triggers for man-db (2.8.3-2ubuntu0.1) ...\n",
            "  % Total    % Received % Xferd  Average Speed   Time    Time     Time  Current\n",
            "                                 Dload  Upload   Total   Spent    Left  Speed\n",
            "  0     0    0     0    0     0      0      0 --:--:-- --:--:-- --:--:--     0\n",
            "100 47.4M  100 47.4M    0     0  39.9M      0  0:00:01  0:00:01 --:--:-- 56.0M\n",
            "mecab-ko-dic-2.1.1-20180720/\n",
            "mecab-ko-dic-2.1.1-20180720/configure\n",
            "mecab-ko-dic-2.1.1-20180720/COPYING\n",
            "mecab-ko-dic-2.1.1-20180720/autogen.sh\n",
            "mecab-ko-dic-2.1.1-20180720/Place-station.csv\n",
            "mecab-ko-dic-2.1.1-20180720/NNG.csv\n",
            "mecab-ko-dic-2.1.1-20180720/README\n",
            "mecab-ko-dic-2.1.1-20180720/EF.csv\n",
            "mecab-ko-dic-2.1.1-20180720/MAG.csv\n",
            "mecab-ko-dic-2.1.1-20180720/Preanalysis.csv\n",
            "mecab-ko-dic-2.1.1-20180720/NNB.csv\n",
            "mecab-ko-dic-2.1.1-20180720/Person-actor.csv\n",
            "mecab-ko-dic-2.1.1-20180720/VV.csv\n",
            "mecab-ko-dic-2.1.1-20180720/Makefile.in\n",
            "mecab-ko-dic-2.1.1-20180720/matrix.def\n",
            "mecab-ko-dic-2.1.1-20180720/EC.csv\n",
            "mecab-ko-dic-2.1.1-20180720/NNBC.csv\n",
            "mecab-ko-dic-2.1.1-20180720/clean\n",
            "mecab-ko-dic-2.1.1-20180720/ChangeLog\n",
            "mecab-ko-dic-2.1.1-20180720/J.csv\n",
            "mecab-ko-dic-2.1.1-20180720/.keep\n",
            "mecab-ko-dic-2.1.1-20180720/feature.def\n",
            "mecab-ko-dic-2.1.1-20180720/Foreign.csv\n",
            "mecab-ko-dic-2.1.1-20180720/XPN.csv\n",
            "mecab-ko-dic-2.1.1-20180720/EP.csv\n",
            "mecab-ko-dic-2.1.1-20180720/NR.csv\n",
            "mecab-ko-dic-2.1.1-20180720/left-id.def\n",
            "mecab-ko-dic-2.1.1-20180720/Place.csv\n",
            "mecab-ko-dic-2.1.1-20180720/Symbol.csv\n",
            "mecab-ko-dic-2.1.1-20180720/dicrc\n",
            "mecab-ko-dic-2.1.1-20180720/NP.csv\n",
            "mecab-ko-dic-2.1.1-20180720/ETM.csv\n",
            "mecab-ko-dic-2.1.1-20180720/IC.csv\n",
            "mecab-ko-dic-2.1.1-20180720/Place-address.csv\n",
            "mecab-ko-dic-2.1.1-20180720/Group.csv\n",
            "mecab-ko-dic-2.1.1-20180720/model.def\n",
            "mecab-ko-dic-2.1.1-20180720/XSN.csv\n",
            "mecab-ko-dic-2.1.1-20180720/INSTALL\n",
            "mecab-ko-dic-2.1.1-20180720/rewrite.def\n",
            "mecab-ko-dic-2.1.1-20180720/Inflect.csv\n",
            "mecab-ko-dic-2.1.1-20180720/configure.ac\n",
            "mecab-ko-dic-2.1.1-20180720/NNP.csv\n",
            "mecab-ko-dic-2.1.1-20180720/CoinedWord.csv\n",
            "mecab-ko-dic-2.1.1-20180720/XSV.csv\n",
            "mecab-ko-dic-2.1.1-20180720/pos-id.def\n",
            "mecab-ko-dic-2.1.1-20180720/Makefile.am\n",
            "mecab-ko-dic-2.1.1-20180720/unk.def\n",
            "mecab-ko-dic-2.1.1-20180720/missing\n",
            "mecab-ko-dic-2.1.1-20180720/VCP.csv\n",
            "mecab-ko-dic-2.1.1-20180720/install-sh\n",
            "mecab-ko-dic-2.1.1-20180720/Hanja.csv\n",
            "mecab-ko-dic-2.1.1-20180720/MAJ.csv\n",
            "mecab-ko-dic-2.1.1-20180720/XSA.csv\n",
            "mecab-ko-dic-2.1.1-20180720/Wikipedia.csv\n",
            "mecab-ko-dic-2.1.1-20180720/tools/\n",
            "mecab-ko-dic-2.1.1-20180720/tools/add-userdic.sh\n",
            "mecab-ko-dic-2.1.1-20180720/tools/mecab-bestn.sh\n",
            "mecab-ko-dic-2.1.1-20180720/tools/convert_for_using_store.sh\n",
            "mecab-ko-dic-2.1.1-20180720/user-dic/\n",
            "mecab-ko-dic-2.1.1-20180720/user-dic/nnp.csv\n",
            "mecab-ko-dic-2.1.1-20180720/user-dic/place.csv\n",
            "mecab-ko-dic-2.1.1-20180720/user-dic/person.csv\n",
            "mecab-ko-dic-2.1.1-20180720/user-dic/README.md\n",
            "mecab-ko-dic-2.1.1-20180720/NorthKorea.csv\n",
            "mecab-ko-dic-2.1.1-20180720/VX.csv\n",
            "mecab-ko-dic-2.1.1-20180720/right-id.def\n",
            "mecab-ko-dic-2.1.1-20180720/VA.csv\n",
            "mecab-ko-dic-2.1.1-20180720/char.def\n",
            "mecab-ko-dic-2.1.1-20180720/NEWS\n",
            "mecab-ko-dic-2.1.1-20180720/MM.csv\n",
            "mecab-ko-dic-2.1.1-20180720/ETN.csv\n",
            "mecab-ko-dic-2.1.1-20180720/AUTHORS\n",
            "mecab-ko-dic-2.1.1-20180720/Person.csv\n",
            "mecab-ko-dic-2.1.1-20180720/XR.csv\n",
            "mecab-ko-dic-2.1.1-20180720/VCN.csv\n",
            "Looking in current directory for macros.\n",
            "configure.ac:2: warning: AM_INIT_AUTOMAKE: two- and three-arguments forms are deprecated.  For more info, see:\n",
            "configure.ac:2: http://www.gnu.org/software/automake/manual/automake.html#Modernize-AM_005fINIT_005fAUTOMAKE-invocation\n",
            "checking for a BSD-compatible install... /usr/bin/install -c\n",
            "checking whether build environment is sane... yes\n",
            "/tmp/mecab-ko-dic-2.1.1-20180720/missing: Unknown `--is-lightweight' option\n",
            "Try `/tmp/mecab-ko-dic-2.1.1-20180720/missing --help' for more information\n",
            "configure: WARNING: 'missing' script is too old or missing\n",
            "checking for a thread-safe mkdir -p... /bin/mkdir -p\n",
            "checking for gawk... no\n",
            "checking for mawk... mawk\n",
            "checking whether make sets $(MAKE)... yes\n",
            "checking whether make supports nested variables... yes\n",
            "checking for mecab-config... /usr/local/bin/mecab-config\n",
            "checking that generated files are newer than configure... done\n",
            "configure: creating ./config.status\n",
            "config.status: creating Makefile\n",
            "/usr/local/libexec/mecab/mecab-dict-index -d . -o . -f UTF-8 -t UTF-8\n",
            "reading ./unk.def ... 13\n",
            "emitting double-array: 100% |###########################################| \n",
            "reading ./Group.csv ... 3176\n",
            "reading ./XPN.csv ... 83\n",
            "reading ./CoinedWord.csv ... 148\n",
            "reading ./VX.csv ... 125\n",
            "reading ./NNP.csv ... 2371\n",
            "reading ./Place.csv ... 30303\n",
            "reading ./NP.csv ... 342\n",
            "reading ./XR.csv ... 3637\n",
            "reading ./VCN.csv ... 7\n",
            "reading ./EP.csv ... 51\n",
            "reading ./IC.csv ... 1305\n",
            "reading ./NNB.csv ... 140\n",
            "reading ./Person-actor.csv ... 99230\n",
            "reading ./MAJ.csv ... 240\n",
            "reading ./MM.csv ... 453\n",
            "reading ./XSA.csv ... 19\n",
            "reading ./VA.csv ... 2360\n",
            "reading ./Symbol.csv ... 16\n",
            "reading ./VCP.csv ... 9\n",
            "reading ./NR.csv ... 482\n",
            "reading ./NorthKorea.csv ... 3\n",
            "reading ./ETM.csv ... 133\n",
            "reading ./J.csv ... 416\n",
            "reading ./EF.csv ... 1820\n",
            "reading ./Inflect.csv ... 44820\n",
            "reading ./Person.csv ... 196459\n",
            "reading ./Place-address.csv ... 19301\n",
            "reading ./Foreign.csv ... 11690\n",
            "reading ./NNG.csv ... 208524\n",
            "reading ./EC.csv ... 2547\n",
            "reading ./XSN.csv ... 124\n",
            "reading ./Preanalysis.csv ... 5\n",
            "reading ./XSV.csv ... 23\n",
            "reading ./Place-station.csv ... 1145\n",
            "reading ./Wikipedia.csv ... 36762\n",
            "reading ./NNBC.csv ... 677\n",
            "reading ./VV.csv ... 7331\n",
            "reading ./ETN.csv ... 14\n",
            "reading ./Hanja.csv ... 125750\n",
            "reading ./MAG.csv ... 14242\n",
            "emitting double-array: 100% |###########################################| \n",
            "reading ./matrix.def ... 3822x2693\n",
            "emitting matrix      : 100% |###########################################| \n",
            "\n",
            "done!\n",
            "echo To enable dictionary, rewrite /usr/local/etc/mecabrc as \\\"dicdir = /usr/local/lib/mecab/dic/mecab-ko-dic\\\"\n",
            "To enable dictionary, rewrite /usr/local/etc/mecabrc as \"dicdir = /usr/local/lib/mecab/dic/mecab-ko-dic\"\n",
            "make[1]: Entering directory '/tmp/mecab-ko-dic-2.1.1-20180720'\n",
            "make[1]: Nothing to be done for 'install-exec-am'.\n",
            " /bin/mkdir -p '/usr/local/lib/mecab/dic/mecab-ko-dic'\n",
            " /usr/bin/install -c -m 644 model.bin matrix.bin char.bin sys.dic unk.dic left-id.def right-id.def rewrite.def pos-id.def dicrc '/usr/local/lib/mecab/dic/mecab-ko-dic'\n",
            "make[1]: Leaving directory '/tmp/mecab-ko-dic-2.1.1-20180720'\n"
          ]
        }
      ]
    },
    {
      "cell_type": "code",
      "source": [
        "# install mecab-python\n",
        "os.chdir('/content')\n",
        "!git clone https://bitbucket.org/eunjeon/mecab-python-0.996.git\n",
        "os.chdir('/content/mecab-python-0.996')\n",
        "!python3 setup.py build\n",
        "!python3 setup.py install"
      ],
      "metadata": {
        "colab": {
          "base_uri": "https://localhost:8080/"
        },
        "id": "4p_YWo_K-XVB",
        "outputId": "62e24347-050b-4e93-ebed-c16206eec82d"
      },
      "execution_count": 6,
      "outputs": [
        {
          "output_type": "stream",
          "name": "stdout",
          "text": [
            "Cloning into 'mecab-python-0.996'...\n",
            "Unpacking objects: 100% (17/17), done.\n",
            "running build\n",
            "running build_py\n",
            "creating build\n",
            "creating build/lib.linux-x86_64-3.7\n",
            "copying MeCab.py -> build/lib.linux-x86_64-3.7\n",
            "running build_ext\n",
            "building '_MeCab' extension\n",
            "creating build/temp.linux-x86_64-3.7\n",
            "x86_64-linux-gnu-gcc -pthread -Wno-unused-result -Wsign-compare -DNDEBUG -g -fwrapv -O2 -Wall -g -fstack-protector-strong -Wformat -Werror=format-security -g -fwrapv -O2 -g -fstack-protector-strong -Wformat -Werror=format-security -Wdate-time -D_FORTIFY_SOURCE=2 -fPIC -I/usr/local/include -I/usr/include/python3.7m -c MeCab_wrap.cxx -o build/temp.linux-x86_64-3.7/MeCab_wrap.o\n",
            "x86_64-linux-gnu-g++ -pthread -shared -Wl,-O1 -Wl,-Bsymbolic-functions -Wl,-Bsymbolic-functions -g -fwrapv -O2 -Wl,-Bsymbolic-functions -g -fwrapv -O2 -g -fstack-protector-strong -Wformat -Werror=format-security -Wdate-time -D_FORTIFY_SOURCE=2 build/temp.linux-x86_64-3.7/MeCab_wrap.o -L/usr/local/lib -lmecab -lstdc++ -o build/lib.linux-x86_64-3.7/_MeCab.cpython-37m-x86_64-linux-gnu.so\n",
            "running install\n",
            "running build\n",
            "running build_py\n",
            "running build_ext\n",
            "running install_lib\n",
            "copying build/lib.linux-x86_64-3.7/MeCab.py -> /usr/local/lib/python3.7/dist-packages\n",
            "copying build/lib.linux-x86_64-3.7/_MeCab.cpython-37m-x86_64-linux-gnu.so -> /usr/local/lib/python3.7/dist-packages\n",
            "byte-compiling /usr/local/lib/python3.7/dist-packages/MeCab.py to MeCab.cpython-37.pyc\n",
            "running install_egg_info\n",
            "Writing /usr/local/lib/python3.7/dist-packages/mecab_python-0.996_ko_0.9.2.egg-info\n"
          ]
        }
      ]
    },
    {
      "cell_type": "markdown",
      "source": [
        "## 1-2. 기본 module 및 Naver sentiment movie corpus 업로드하기"
      ],
      "metadata": {
        "id": "ZwZ7XEr_I0ql"
      }
    },
    {
      "cell_type": "code",
      "source": [
        "import pandas as pd\n",
        "import matplotlib.pyplot as plt\n",
        "import tensorflow as tf\n",
        "from konlpy.tag import Mecab\n",
        "import numpy as np\n",
        "from collections import Counter\n",
        "import konlpy\n",
        "import gensim"
      ],
      "metadata": {
        "id": "02ifuRMA5_1U"
      },
      "execution_count": 41,
      "outputs": []
    },
    {
      "cell_type": "code",
      "source": [
        " !rm -r /content/data\n",
        " !mkdir -p /content/data\n",
        " !wget -O /content/data/ratings_test.txt https://raw.githubusercontent.com/twelvesense/first-repository/master/ExplNode09/ratings_test.txt\n",
        " !wget -O /content/data/ratings_train.txt https://raw.githubusercontent.com/twelvesense/first-repository/master/ExplNode09/ratings_train.txt"
      ],
      "metadata": {
        "colab": {
          "base_uri": "https://localhost:8080/"
        },
        "id": "SW6XulyA7Q3s",
        "outputId": "5495ef75-4b73-4268-9bc3-df5ea4c894bd"
      },
      "execution_count": 10,
      "outputs": [
        {
          "output_type": "stream",
          "name": "stdout",
          "text": [
            "--2022-06-07 21:09:07--  https://raw.githubusercontent.com/twelvesense/first-repository/master/ExplNode09/ratings_test.txt\n",
            "Resolving raw.githubusercontent.com (raw.githubusercontent.com)... 185.199.108.133, 185.199.109.133, 185.199.110.133, ...\n",
            "Connecting to raw.githubusercontent.com (raw.githubusercontent.com)|185.199.108.133|:443... connected.\n",
            "HTTP request sent, awaiting response... 200 OK\n",
            "Length: 4893335 (4.7M) [text/plain]\n",
            "Saving to: ‘/content/data/ratings_test.txt’\n",
            "\n",
            "\r          /content/   0%[                    ]       0  --.-KB/s               \r/content/data/ratin 100%[===================>]   4.67M  --.-KB/s    in 0.07s   \n",
            "\n",
            "2022-06-07 21:09:07 (65.5 MB/s) - ‘/content/data/ratings_test.txt’ saved [4893335/4893335]\n",
            "\n",
            "--2022-06-07 21:09:07--  https://raw.githubusercontent.com/twelvesense/first-repository/master/ExplNode09/ratings_train.txt\n",
            "Resolving raw.githubusercontent.com (raw.githubusercontent.com)... 185.199.108.133, 185.199.109.133, 185.199.110.133, ...\n",
            "Connecting to raw.githubusercontent.com (raw.githubusercontent.com)|185.199.108.133|:443... connected.\n",
            "HTTP request sent, awaiting response... 200 OK\n",
            "Length: 14628807 (14M) [text/plain]\n",
            "Saving to: ‘/content/data/ratings_train.txt’\n",
            "\n",
            "/content/data/ratin 100%[===================>]  13.95M  --.-KB/s    in 0.1s    \n",
            "\n",
            "2022-06-07 21:09:07 (136 MB/s) - ‘/content/data/ratings_train.txt’ saved [14628807/14628807]\n",
            "\n"
          ]
        }
      ]
    },
    {
      "cell_type": "code",
      "source": [
        "# 데이터를 읽어오기\n",
        "train_data = pd.read_table('/content/data/ratings_train.txt')\n",
        "test_data = pd.read_table('/content/data/ratings_test.txt')\n",
        "\n",
        "train_data.head()"
      ],
      "metadata": {
        "colab": {
          "base_uri": "https://localhost:8080/",
          "height": 206
        },
        "id": "Dts-NKpn6FPH",
        "outputId": "8b415179-1a01-4efd-8bd3-28a02bc7788a"
      },
      "execution_count": 23,
      "outputs": [
        {
          "output_type": "execute_result",
          "data": {
            "text/plain": [
              "         id                                           document  label\n",
              "0   9976970                                아 더빙.. 진짜 짜증나네요 목소리      0\n",
              "1   3819312                  흠...포스터보고 초딩영화줄....오버연기조차 가볍지 않구나      1\n",
              "2  10265843                                  너무재밓었다그래서보는것을추천한다      0\n",
              "3   9045019                      교도소 이야기구먼 ..솔직히 재미는 없다..평점 조정      0\n",
              "4   6483659  사이몬페그의 익살스런 연기가 돋보였던 영화!스파이더맨에서 늙어보이기만 했던 커스틴 ...      1"
            ],
            "text/html": [
              "\n",
              "  <div id=\"df-4a849b51-c79f-4549-8c1f-37654ffd3787\">\n",
              "    <div class=\"colab-df-container\">\n",
              "      <div>\n",
              "<style scoped>\n",
              "    .dataframe tbody tr th:only-of-type {\n",
              "        vertical-align: middle;\n",
              "    }\n",
              "\n",
              "    .dataframe tbody tr th {\n",
              "        vertical-align: top;\n",
              "    }\n",
              "\n",
              "    .dataframe thead th {\n",
              "        text-align: right;\n",
              "    }\n",
              "</style>\n",
              "<table border=\"1\" class=\"dataframe\">\n",
              "  <thead>\n",
              "    <tr style=\"text-align: right;\">\n",
              "      <th></th>\n",
              "      <th>id</th>\n",
              "      <th>document</th>\n",
              "      <th>label</th>\n",
              "    </tr>\n",
              "  </thead>\n",
              "  <tbody>\n",
              "    <tr>\n",
              "      <th>0</th>\n",
              "      <td>9976970</td>\n",
              "      <td>아 더빙.. 진짜 짜증나네요 목소리</td>\n",
              "      <td>0</td>\n",
              "    </tr>\n",
              "    <tr>\n",
              "      <th>1</th>\n",
              "      <td>3819312</td>\n",
              "      <td>흠...포스터보고 초딩영화줄....오버연기조차 가볍지 않구나</td>\n",
              "      <td>1</td>\n",
              "    </tr>\n",
              "    <tr>\n",
              "      <th>2</th>\n",
              "      <td>10265843</td>\n",
              "      <td>너무재밓었다그래서보는것을추천한다</td>\n",
              "      <td>0</td>\n",
              "    </tr>\n",
              "    <tr>\n",
              "      <th>3</th>\n",
              "      <td>9045019</td>\n",
              "      <td>교도소 이야기구먼 ..솔직히 재미는 없다..평점 조정</td>\n",
              "      <td>0</td>\n",
              "    </tr>\n",
              "    <tr>\n",
              "      <th>4</th>\n",
              "      <td>6483659</td>\n",
              "      <td>사이몬페그의 익살스런 연기가 돋보였던 영화!스파이더맨에서 늙어보이기만 했던 커스틴 ...</td>\n",
              "      <td>1</td>\n",
              "    </tr>\n",
              "  </tbody>\n",
              "</table>\n",
              "</div>\n",
              "      <button class=\"colab-df-convert\" onclick=\"convertToInteractive('df-4a849b51-c79f-4549-8c1f-37654ffd3787')\"\n",
              "              title=\"Convert this dataframe to an interactive table.\"\n",
              "              style=\"display:none;\">\n",
              "        \n",
              "  <svg xmlns=\"http://www.w3.org/2000/svg\" height=\"24px\"viewBox=\"0 0 24 24\"\n",
              "       width=\"24px\">\n",
              "    <path d=\"M0 0h24v24H0V0z\" fill=\"none\"/>\n",
              "    <path d=\"M18.56 5.44l.94 2.06.94-2.06 2.06-.94-2.06-.94-.94-2.06-.94 2.06-2.06.94zm-11 1L8.5 8.5l.94-2.06 2.06-.94-2.06-.94L8.5 2.5l-.94 2.06-2.06.94zm10 10l.94 2.06.94-2.06 2.06-.94-2.06-.94-.94-2.06-.94 2.06-2.06.94z\"/><path d=\"M17.41 7.96l-1.37-1.37c-.4-.4-.92-.59-1.43-.59-.52 0-1.04.2-1.43.59L10.3 9.45l-7.72 7.72c-.78.78-.78 2.05 0 2.83L4 21.41c.39.39.9.59 1.41.59.51 0 1.02-.2 1.41-.59l7.78-7.78 2.81-2.81c.8-.78.8-2.07 0-2.86zM5.41 20L4 18.59l7.72-7.72 1.47 1.35L5.41 20z\"/>\n",
              "  </svg>\n",
              "      </button>\n",
              "      \n",
              "  <style>\n",
              "    .colab-df-container {\n",
              "      display:flex;\n",
              "      flex-wrap:wrap;\n",
              "      gap: 12px;\n",
              "    }\n",
              "\n",
              "    .colab-df-convert {\n",
              "      background-color: #E8F0FE;\n",
              "      border: none;\n",
              "      border-radius: 50%;\n",
              "      cursor: pointer;\n",
              "      display: none;\n",
              "      fill: #1967D2;\n",
              "      height: 32px;\n",
              "      padding: 0 0 0 0;\n",
              "      width: 32px;\n",
              "    }\n",
              "\n",
              "    .colab-df-convert:hover {\n",
              "      background-color: #E2EBFA;\n",
              "      box-shadow: 0px 1px 2px rgba(60, 64, 67, 0.3), 0px 1px 3px 1px rgba(60, 64, 67, 0.15);\n",
              "      fill: #174EA6;\n",
              "    }\n",
              "\n",
              "    [theme=dark] .colab-df-convert {\n",
              "      background-color: #3B4455;\n",
              "      fill: #D2E3FC;\n",
              "    }\n",
              "\n",
              "    [theme=dark] .colab-df-convert:hover {\n",
              "      background-color: #434B5C;\n",
              "      box-shadow: 0px 1px 3px 1px rgba(0, 0, 0, 0.15);\n",
              "      filter: drop-shadow(0px 1px 2px rgba(0, 0, 0, 0.3));\n",
              "      fill: #FFFFFF;\n",
              "    }\n",
              "  </style>\n",
              "\n",
              "      <script>\n",
              "        const buttonEl =\n",
              "          document.querySelector('#df-4a849b51-c79f-4549-8c1f-37654ffd3787 button.colab-df-convert');\n",
              "        buttonEl.style.display =\n",
              "          google.colab.kernel.accessAllowed ? 'block' : 'none';\n",
              "\n",
              "        async function convertToInteractive(key) {\n",
              "          const element = document.querySelector('#df-4a849b51-c79f-4549-8c1f-37654ffd3787');\n",
              "          const dataTable =\n",
              "            await google.colab.kernel.invokeFunction('convertToInteractive',\n",
              "                                                     [key], {});\n",
              "          if (!dataTable) return;\n",
              "\n",
              "          const docLinkHtml = 'Like what you see? Visit the ' +\n",
              "            '<a target=\"_blank\" href=https://colab.research.google.com/notebooks/data_table.ipynb>data table notebook</a>'\n",
              "            + ' to learn more about interactive tables.';\n",
              "          element.innerHTML = '';\n",
              "          dataTable['output_type'] = 'display_data';\n",
              "          await google.colab.output.renderOutput(dataTable, element);\n",
              "          const docLink = document.createElement('div');\n",
              "          docLink.innerHTML = docLinkHtml;\n",
              "          element.appendChild(docLink);\n",
              "        }\n",
              "      </script>\n",
              "    </div>\n",
              "  </div>\n",
              "  "
            ]
          },
          "metadata": {},
          "execution_count": 23
        }
      ]
    },
    {
      "cell_type": "markdown",
      "source": [
        "## 1-3. 데이터 로더, 기본 method 및 dataset 준비하기"
      ],
      "metadata": {
        "id": "FneVgkcDJlnF"
      }
    },
    {
      "cell_type": "code",
      "source": [
        "tokenizer = Mecab()\n",
        "stopwords = ['의','가','이','은','들','는','좀','잘','걍','과','도','를','으로','자','에','와','한','하다']\n",
        "\n",
        "#데이터 로더\n",
        "def load_data(train_data, test_data, num_words=10000):\n",
        "    train_data.drop_duplicates(subset=['document'], inplace=True)\n",
        "    train_data = train_data.dropna(how = 'any') \n",
        "    test_data.drop_duplicates(subset=['document'], inplace=True)\n",
        "    test_data = test_data.dropna(how = 'any') \n",
        "    \n",
        "    X_train = []\n",
        "    for sentence in train_data['document']:\n",
        "        temp_X = tokenizer.morphs(sentence) # 토큰화\n",
        "        temp_X = [word for word in temp_X if not word in stopwords] # 불용어 제거\n",
        "        X_train.append(temp_X)\n",
        "\n",
        "    X_test = []\n",
        "    for sentence in test_data['document']:\n",
        "        temp_X = tokenizer.morphs(sentence) # 토큰화\n",
        "        temp_X = [word for word in temp_X if not word in stopwords] # 불용어 제거\n",
        "        X_test.append(temp_X)\n",
        "    \n",
        "    words = np.concatenate(X_train).tolist()\n",
        "    counter = Counter(words)\n",
        "    counter = counter.most_common(10000-4)\n",
        "    vocab = ['', '', '', ''] + [key for key, _ in counter]\n",
        "    word_to_index = {word:index for index, word in enumerate(vocab)}\n",
        "        \n",
        "    def wordlist_to_indexlist(wordlist):\n",
        "        return [word_to_index[word] if word in word_to_index else word_to_index[''] for word in wordlist]\n",
        "        \n",
        "    X_train = list(map(wordlist_to_indexlist, X_train))\n",
        "    X_test = list(map(wordlist_to_indexlist, X_test))\n",
        "        \n",
        "    return X_train, np.array(list(train_data['label'])), X_test, np.array(list(test_data['label'])), word_to_index\n",
        "\n",
        "# data set, word to index dict.\n",
        "X_train, y_train, X_test, y_test, word_to_index = load_data(train_data, test_data)\n",
        "\n",
        "# index to word dict.\n",
        "index_to_word = {index:word for word, index in word_to_index.items()}"
      ],
      "metadata": {
        "id": "k5rupXw39dJx"
      },
      "execution_count": 24,
      "outputs": []
    },
    {
      "cell_type": "code",
      "source": [
        "word_to_index.keys()"
      ],
      "metadata": {
        "colab": {
          "base_uri": "https://localhost:8080/"
        },
        "id": "qCv-2xc6XRyG",
        "outputId": "bc5c1f17-669e-4807-e75d-95406c296c83"
      },
      "execution_count": 60,
      "outputs": [
        {
          "output_type": "execute_result",
          "data": {
            "text/plain": [
              "dict_keys(['', '.', '영화', '다', '고', '하', '을', '보', '..', '게', ',', '!', '지', '있', '없', '?', '좋', '나', '었', '만', '는데', '너무', '봤', '적', '안', '정말', '로', '음', '것', '아', '네요', '재밌', '어', '같', '점', '지만', '진짜', '했', '에서', '기', '네', '않', '거', '았', '수', '되', '면', 'ㅋㅋ', '말', '연기', '인', '주', '내', '최고', '~', '평점', '이런', '던', '어요', '할', '왜', '겠', '1', '스토리', '해', '습니다', 'ㅋㅋㅋ', '...', '드라마', '생각', '아니', '더', '그', '싶', '사람', '듯', '때', '감동', '함', '배우', '본', '까지', '뭐', '알', '만들', '내용', '볼', '감독', '보다', '라', '그냥', '재미', '시간', '지루', '중', '재미있', '년', '10', '였', '잼', '사랑', '못', '냐', '재미없', '쓰레기', '서', '2', '라고', '야', '니', '면서', '번', '다시', '나오', '작품', '이거', '하나', '줄', '해서', '개', '남', '정도', '마지막', '끝', '이건', '액션', '임', 'ㅋ', '3', '기대', '입니다', '건', '라는', '분', '완전', '다는', '참', '많', '처음', '장면', '대', '아깝', '다가', '으면', '지금', '모르', '이렇게', \"'\", '편', '일', '돈', '이게', '성', '느낌', '시', '이야기', '최악', '된', '봐도', '님', '어서', '애', '전', '넘', 'ㅠㅠ', '인데', '다고', '이해', '별로', '그리고', '명작', '여자', '^^', '역시', '난', '이상', '또', '걸', '한국', '는지', '많이', '에게', '부터', '만든', '주인공', '받', '합니다', '우리', '두', '살', '!!', '길', '엔', '괜찮', '기억', '연출', '한다', '때문', '이나', 'ㅎㅎ', '요', '저', '재', '꼭', '랑', '며', '현실', '긴', 'ㅡㅡ', '무슨', '내내', '결말', '죽', '남자', '세요', '전개', '마음', '소재', '속', '공포', '아서', '다른', '씨', '인생', '~~', '짜증', '짱', '뿐', '은데', '별', '아요', '유치', '가장', '필요', '음악', ')', '일본', '낮', '아이', ';;', '오', '반전', '수준', '다니', '웃', '매력', '맞', '인지', '가슴', '없이', '원작', 'ㄷ', '인간', '데', '굿', 'ㅠ', '높', '밋', '(', '만드', '급', '눈물', '보여', '준', '찍', '인가', '노', '을까', '용', '코미디', '마', '화', '신', '모든', '쓰', '여', '5', '아직', '추천', '처럼', '눈', '아닌', '자체', '울', '몰입', '4', '대박', '몇', '스럽', '실망', '는다', '대한', '죠', '란', '그런', '솔직히', '캐릭터', 'ㅎ', '모두', '아주', '-', '가족', '여운', '건지', '전혀', '연기력', '나라', '후', '될', '다면', '뭔가', '그래도', ';', '시리즈', '근데', '작', '표현', '모습', '공감', '계속', '먹', '\"\"', '제목', '7', '이랑', '극장', '치', '비', '이걸', '진', '바', '대사', '부분', '그렇', '개봉', '0', 'OO', '대단', '어디', '작가', '된다', '아쉽', '기분', '제', '진심', '타임', '/', '웃기', '보이', '놓', '해도', '이제', '물', '봐야', '막장', '삶', '친구', '잔잔', '조금', '씬', '딱', '영상', '억지', '찾', '요즘', '같이', '중간', '\"', '구', '라도', '스릴러', '가지', '8', '믿', '싫', '....', '나왔', '아까운', '긴장감', '점수', '개인', '제대로', '부족', '이유', '노래', '만큼', '라면', '시작', '구나', '잇', '특히', '한테', '날', '려고', '제일', '아름다운', '시대', 'ㅜㅜ', '어떻게', '엔딩', '당시', '하지만', '나름', '봐', '무섭', '나온', '명', '사', '니까', '오랜만', '이것', '해요', '9', '팬', '차라리', '절대', '세상', '세', '못하', '의미', '던데', '봄', '욕', '훌륭', '너무나', '강추', '감', '됨', 'ㅡ', '따뜻', '빼', '느끼', '해야', '드', '도대체', '어야', '답답', '마다', '준다', '글', '전쟁', '놈', '설정', '무엇', '수작', '만화', '흥미', '그저', '감정', '미국', '신선', '행복', '뻔', '형', '앞', '허접', '어도', '군', '시절', '관객', '배경', '6', '초반', '사실', '웃음', '답', '엄청', '더라', '라니', '질', '자신', '추억', '캐스팅', '첨', '멋있', '류', '어색', '시나리오', '머', '밖에', 'OOO', '슬프', '정신', '분위기', '소름', '멋진', '힘들', '오늘', '어이없', '봐서', '잡', '구성', '엄마', '함께', '문제', '위해', '졸작', '잊', '이딴', '등', '집', '유쾌', '뻔한', '킬링', '스러운', '결국', '낫', '한데', '나요', '뭘', '소리', '간', '20', '역사', '뭔', '제발', '포스터', '아무리', '코믹', '어떤', '완벽', '~~~', '맘', '얼마나', '애니메이션', '!!!', '러', '주연', '원', '난다', '버리', '어릴', '♥', '후회', '진부', '나올', '됐', '보단', '책', '장난', '더니', '영화관', '큰', '개연', '둘', '출연', '보고', '극', 'ㅅ', '밖', '충격', '여기', '엇', '잔인', '아름답', '얘기', '줬', '평가', '꺼', '예술', '갈수록', '매우', '든', '자기', '위한', '이리', '봐라', '이후', '읽', '반', '얼굴', '꽤', '티비', '이쁘', '으나', '별점', '깊', '옛날', '불쌍', '못한', '겟', '불', '시청', '순수', '라서', '낭비', '언제', '건가', '비디오', '애니', '머리', '장르', '생각나', '텐데', '+', '미', '배', '그래서', ':', '다운', '주제', '다큐', '다음', '궁금', '아님', '시키', '누구', '예전', '그렇게', '크', '동안', '뒤', '그만', '인상', '상황', '??', '이름', '미친', '스릴', '감사', '시즌', '아무', '너', '오래', 'B', '집중', '힘', '어느', '본다', '그러', '로맨스', '약간', '나와서', '진정', '식', '방송', '그나마', '까', '짜리', '마세요', '소설', '여주인공', '몰', '걸작', '존나', '그대로', '죽이', '인물', '났', '그것', '회', '떨어지', '평', '케', '왔', '에요', '실화', '꿈', '대체', '해라', '훨씬', '짓', '무', '사회', '만점', '발연기', '구만', '~!', '전체', 'ㅜ', '비슷', '누가', '막', '30', '햇', '끝나', 'CG', '엉성', '귀엽', '여주', '단', '영상미', '중국', '비교', '초딩', '감성', '네이버', '세계', '여배우', '는가', 'ㅎㅎㅎ', '순간', '망', '느껴', '려는', '나이', ';;;', '대해', '상', '첫', '어렸', '쯤', '판', '입', '꿀', '갔', '어설픈', '돋', '셨', '학교', '더럽', '타', '생', '100', '혼자', '아들', '느낄', '성룡', '아야', '가능', '졸', '어린', '교훈', '멋지', '바로', '나가', '잘못', '맛', '.....', '한마디', '존', '딸', '당신', '화려', '길래', '끌', '티', '판타지', '삼류', '잠', '땜', '든다', '달', '빨리', '맨', '목소리', '똥', '아까움', '영', '당', '거의', '듣', '봤었', '나온다', '전부', '차', '독특', '건데', '다르', '초', 'ㅉㅉ', '어른', '가치', '위', '률', '상당히', '씩', '90', '다만', '질질', '아버지', '넣', '평론가', '줄거리', '한번', '이번', '갑자기', '스타일', '이러', '그러나', '여러', '군요', 'ㅂ', '의도', '저런', '존재', '허무', '밑', '%', '부', '대로', '에선', '째', '각본', '예상', '성우', '으면서', '그녀', '버린', '화면', '너무너무', 'ㄱ', '떠나', '예쁘', '비해', '자연', '담', '그런지', '뻔하', '평범', '굉장히', '만나', '슬픈', '돼', '못했', '지루함', '복수', '관람', '스', '단순', '댓글', '중요', '낸', '새로운', '피', '앗', '극장판', '줌', '갖', '굳', '제작', '버렸', '일단', '만족', '쉽', '선택', '아빠', '쓴', 'TV', '요소', '한편', '불편', '항상', '거기', '연출력', '그때', '롭', '에로', '산', '탄탄', '잃', '한다는', '발', '나옴', '예요', '한심', '흥행', '물론', '려', '지나', '따라', '진행', '점점', '관계', '전형', '역대', '편집', '조', '거나', '아까워', '법', '던가', '총', '짧', '이하', '충분히', '따', '안타깝', '에겐', '아닌가', '식상', '몰랐', '자꾸', '훈훈', '80', '미안', '김', '화이팅', '도록', '게임', '-_-', '멜', '원래', '곳', '그게', '자극', '몸', '삼', '손', '장', '구요', '~!!', '어쩔', '팔', '똑같', '간다', '나쁜', '뭔지', '사건', '풀', '설명', '어울리', '짜', '귀신', '잖아', '과거', '빙', '노력', '짐', '그래픽', '도저히', '황당', '조차', '닿', '됬', '아프', '중반', '개그', '듬', '프랑스', '코메디', '홍콩', '취향', '빠져', '죽음', '했었', '미치', '역', '속편', '무조건', '소중', '프로', '빠', '무비', '참신', '이란', '쳐', '나쁘', '멋', '좋아하', '아쉬운', '더욱', '넘치', '병맛', '괜히', '진지', '빠지', '척', '특유', '또한', '상상', '숨', '상영', '결혼', '리', '짱짱', '유명', 'ost', '심리', '전설', '무서운', '헐', '엄청난', '오히려', '인듯', '비추', '예고편', '후반부', '틀', '더빙', '아저씨', '으니', '고자', '심하', '바보', '왕', '연기자', '촬영', '그리', '소녀', '느꼈', '끝내', '로맨틱', '조연', '천재', '아도', '쩔', '희망', '최근', '간만에', '는구나', 'ㄴ', '억지로', '가볍', '하고', '그닥', '마무리', 'SF', '표정', '어라', '새끼', '현재', '전편', '그랬', '아무것', '힘든', '로서', '저질', '던지', '부모', '동화', '온', '순', '대작', '아쉬움', '흠', '진실', '노출', '즐겁', '대한민국', '서로', '우연히', '이미', '빨', '>', '메세지', '그림', '묘사', '여성', '오빠', '땐', '네여', '경찰', '그런데', '엉망', '우', '프로그램', '졌', '쩌', '청춘', '허술', '어설프', '유머', 'tv', '남기', '이래', '암', '지난', '나와', '왠만', '나중', '십', '갈', '일까', '으', '등장', '셈', '돌', '졸라', '살인', '역할', '전작', '멍청', '신기', '전달', '열', '먼저', 'ㅠㅠㅠ', '계', '왠지', '사이', 'ㅈ', '끄', '놔', '별루', '외', '흥미진진', '써', '감상', '알바', '해피', '15', '환상', '범죄', '마치', '적당', '거리', '낚', '능력', '예', '문화', '이젠', '다행', '철학', '리메이크', '스런', '행동', '효과', '잊혀', '곤', '할까', 'D', '슴', '디', '미래', '어렵', '그래', '분명', '호러', '로운', '......', '걸까', '아닌데', '먹먹', '어떻', '봣는데', '랄까', '실제', '바람', '엿', '더군요', '새', '되게', '병', '백', '인정', '대충', '마시', '위대', '\"\"\"', '군대', '관심', '후반', '마저', '깊이', '그런가', '으며', '핵', '성공', '카메라', '탄', '선생', '올', '꼴', 'OST', '악', '범인', '과정', '차이', '생애', '제작비', '아닐까', '손발', '빵', '키', '보여준', '사극', '시도', '젊', '천', '드립니다', '가득', '언니', '겁나', '귀여운', '께', '성인', '박수', '=', '웃긴', '봅니다', '은지', '심', '매', '늘', '늙', '미소', '평생', '가끔', '억', '^', '그럼', '스케일', '바라', '됩니다', '어쩌', '케이블', '우울', '동생', '낚였', '결론', '광고', '젤', '다소', '확실히', '얻', 'cg', '여서', '벗', '심심', '남주', '한계', '괴물', '영웅', '모', '메시지', '일상', '12', '자유', '리얼', '귀', '채널', '러브', '소', '당하', '거지', '산만', '<', 'ㅇ', '충분', '폭력', '가진', '잤', '고민', '슬픔', '커플', '아침', '제작진', '볼수록', '의리', '질리', '조폭', '자막', '독립영화', '율', '정', '걸로', '올리', '연애', '져', '리뷰', '기본', '훨', '싸우', '아까웠', '성장', '.?', '끼', '흐름', '표절', '밤', '쩐', '아라', '퀄리티', '뮤지컬', '정말로', '자는', '소장', '여행', '상상력', '시선', '스타', '개판', '짝', '코드', '살짝', '여전히', '박', '한다고', '시청자', '♡', '악역', '어린이', '굳이', '열심히', '덕분', '줘야', '유일', '포장', '웃겨', '몸매', '통해', '완성도', '포기', '우정', '감탄', '동물', '막판', '불륜', '알려', '듯이', '최', '생겼', '반성', '인기', '분노', '테', '정서', '40', '과연', '베', '느', '덜', '어찌', '깔끔', '실패', '고전', '드럽', '입도', '쫌', '자식', '상처', '~~~~', '&', '용서', '정치', '이연걸', '몰라도', '딴', '딩', '불가', '종교', '약', '선', '빡', '섹시', '방', '싸이코', '귀여워', '압권', '난해', '니깐', '달리', '의심', '섹스', '고생', '으론', '저예산', '예쁜', '까진', '업', '터지', '빛', '코', '북한', '언제나', '70', '블랙', '홍보', '끼리', '힐링', '더만', '공부', '특별', '비하', 'ㅇㅇ', 'b', '~^^', '긴장', '춤', '시켜', '루', '살아가', '국민', '등장인물', '본방', 'ㅁ', '에휴', '트', '느와르', '통쾌', '권', '웃겼', '죄', '보인다', '어제', '휴', '니다', '쉬', '돌아가', '불쾌', '펑펑', '남편', '재난', '나머지', '눈빛', '하나하나', '지겹', '더라구요', '먼', '보내', '더라도', '놀랍', '다큐멘터리', '열정', '아까', '그립', '봐요', '이기', '쪽', '뜨', '늦', '신경', '누나', '의외', '찡', '아오', '올해', '_', '연결', '볼거리', '줘서', '밥', '남녀', '암튼', '조잡', '씁쓸', '깨', '그럭저럭', '파', '표', '입장', '우주', 'ㄹ', '쓰래', '디즈니', '비극', '비판', '시원', '연예인', '못할', '지구', '오락', '으로서', '아쉬웠', '살리', '비주얼', '반개', '와서', '아픔', '11', '아련', '출연진', '그다지', '줘', '스러움', '무시', '반복', '무협', '그걸', '생기', '게다가', '이제야', '히어로', '심각', '자리', '려면', '바뀌', '불구', '실력', '게이', '50', '딱히', '돌려', '닮', '을지', '악당', '썼', '결과', '헐리우드', '과장', '한지', '강렬', '아줌마', '설마', '러닝', '실', '지요', '뜻', '때리', '로써', '의문', '들어가', '방금', '하루', '쓸', '션', '부르', '냐고', '한다면', '그거', '썩', '영환', '시사회', '단지', '싸구려', '맞추', '한국인', '아픈', '깨닫', '발견', '소소', '맨날', '태어나', '이때', '덕', '존경', '라지만', '희생', '시각', '오글거리', '낳', '어머니', '뛰어난', '벌', '놀랐', '이영화', '대화', '방식', '생활', '싸', '섬세', '돌리', '청소년', '흔한', '확', '풋풋', '방법', '새벽', '본인', '입감', '무서웠', '로봇', '무언가', '초등', '조절', '갑니다', '진리', '고통', '발전', '버', '밋밋', '아역', '그린', '외모', '따위', '쇼', '찝찝', '벌써', '베스트', '흐르', '심장', '전문가', '야한', '인도', '아이돌', '외국', '이따위', '필름', '세기', '누군가', '견자단', '이미지', '짝퉁', '아류', '어려운', '느낀', '푹', '묻', '헐리', '19', '글쎄', '기에', '로그인', '사수', '야하', '시킨', '완', '유', '시트콤', '장애', '갈등', '창', '스스로', '상업', '김기덕', '테러', '영어', '진다', '기다리', '고요', '이쁜', '미스', '죄다', '했으나', '그려', '연속', '스러웠', '???', '본다면', '애기', '한가', '국내', '[', '느라', '월', '끼치', '뭉클', '쩝', '미드', '교육', '특이', '국가', '기술', '시걸', '자살', '와우', '명품', '인해', '깜짝', '대중', '..?', '오브', '쏘', '사기', '앤', '오버', '학생', '망했', '세월', '영원', '주말', '특수', '어여', '극치', '미모', '쥐', '주변', '겨울', '지나치', ']', '라인', '점주', '착한', '조합', '레전드', '형편없', '18', '봐야지', '갠', '그지', '경험', '래', '에피소드', '해석', '해야지', '탑', '13', '녀', '아름다움', '갑', '한참', '편견', '무지', '신고', '슬펐', '는군', '채', '새롭', '치밀', '참고', '명화', '솔직', '챙겨', '고양이', '륜', '꼬', '어휴', '터', '양', '검색', '학년', '포', '단연', '영국', '투자', '캐', '이용', '시시', '엉', '스크린', '뽑', '할지', '우와', '멀', '양심', '007', '뇌', '포인트', '찌질', '등등', '무척', '다양', '영혼', '사진', '민망', '대부분', '저렇게', '허세', '확실', '자면', '.......', '꼽', '싸움', '기독교', '돋보이', '대표', '21', '으로써', '형사', '찾아보', '즐거운', '놀', '그럴', '완성', '인가요', 'C', '맡', '복잡', '갓', '위해서', '달달', '초등학생', '레알', '실제로', '호', '놀라', '외계인', '빈', '마이너스', '용기', '겁니다', '생생', '일어나', '패러디', '링', '옆', '줍니다', '망한', '꽝', '기자', 'good', '명성', '보였', '카리스마', '조작', '셔서', '즐기', '더러운', '변화', '응원', '기억나', '유발', '아내', '력', '된다는', '죽여', '코난', '못해', '포르노', '도전', '대해서', '개념', '미쳤', '땅', '적절', '관점', '드림', '풍경', '센스', '완전히', '망치', '더라면', '인상깊', '개막', '개뿔', '얘', '직접', '이야', '더불', '레', '개성', '화끈', '버림', '내요', '틈', '크리스마스', '따로', '할머니', '허', '전반', '아냐', 'x', '잠깐', '의식', '스트레스', '역겹', '느껴진다', '꽃', '일품', '대본', '피해자', '변태', '전기세', '수고', '형제', '아름다웠', '악마', '탓', '빌려', 'ㅠㅠㅠㅠ', 'M', '당연', '가수', '기준', '공짜', '무술', '@', '디테일', '흘리', '모를', '데리', '욕망', '기법', '야동', '젠장', '몇몇', '관한', '자고', '아까울', '빵점', '정상', '★', ';;;;', '는데요', '내면', '울리', '전투', '칼', '기회', '그건', '전문', '씀', '어용', '선물', '다룬', '빈약', '열받', '패', '뜬금없', '성격', '아마', '이렇', '잔', '주성치', '2014', '감흥', '방영', '정의', '움', '오바', '상태', '감히', 'DVD', '뛰어넘', '보통', '공', '비밀', '참으로', '졸리', '따구', '얼마', '안습', '해결', '칠', '효', '현대', '바꾸', 'ㅣ', '팀', '감명깊', '옷', '사상', '레딧', '골', '배역', 'the', '흑인', '미화', '근래', '이래서', '어야지', '픈', '기발', '이럴', '거짓말', '단어', '쵝오', '정체', '무리', '단편', '만남', '흘러가', '조아', '앉', '감각', '웬만', '제로', '남겨', '캬', '말아먹', '젼', '볼려고', '지났', '으니까', '색감', '아래', '라기', '껏', '아동', '내생', '아예', '최초', '떨어진다', '아기', '.;;', '여름', '부부', '빛나', '끝난', '영원히', '투', '안타까운', '어쩜', '잔뜩', '심오', '보임', '뛰', '설레', '공포물', '세련', '보여준다', '시기', '작위', '껐', '!!!!', '생각없이', '부실', '바랍니다', '차별', '약하', '동시', '겨우', '살린', '여러분', '탄생', '구하', '영환데', '조화', '키스', '이끌', '이쁨', '확인', '정보', '다루', '깎', '강력', '진정한', '꼬마', '그만큼', '빠져들', '예능', '빠진', '모험', '관련', '왜곡', '슈퍼', '승리', '왠', '치곤', '삭제', '자주', '최강', '이루', '넹', '........', '풍자', 'A', '씹', '살려', '아닙니다', '색다른', '해진다', '겪', '폐지', '여태', '운', '는대', '포스', '결코', '흉내', '강하', '사고', '촌스럽', '토', '운명', '느껴졌', 'X', 'sf', '매일', '목', '본지', '려다', '연극', '히', '연인', '겨', '매니아', '제외', '낚시', '망쳐', '목적', '호구', '꾼', '드리', '혹은', '아이디어', '앞뒤', '드라', '무서움', '이어지', '감안', '심지어', '오랫만', '한숨', '컷', '떼', '요리', '적당히', '절', '먼가', '하늘', '빵빵', '내리', '을까요', '혹시', '블록버스터', '끔찍', '신비', '올려', '냄새', '아무런', '짠', '꾸', '60', '플', '♥♥', '따라가', '넌', '걸리', '찌', '즈', '열연', '모양', '멜로', '건가요', '일반', '공주', '할아버지', '시점', '후속작', 'ㅠㅜ', '무료', '내일', '바라보', '대놓고', '못함', '담배', '대신', 'ㅉㅉㅉ', '곡', '버전', '천국', '닥', '즐거웠', '빠르', '바다', '가요', '혀', '브', '이제서야', '파괴', '살렸', '구리', '라곤', '당황', '주기', '수많', '플롯', '그야말로', '이전', '우분', '조카', '호감', '화나', '건만', '장국영', '돌아보', '금', '안감', '중독', '버릴', '중심', '신파', '부탁', '심형래', '.^^', '과학', '예산', '다섯', '추리', '소년', '사투리', '집착', '잠시', '술', '마디', '논리', '가정', '울컥', '마냥', '교과서', '마리', '예수', '임팩트', '야구', '따름', '대통령', '이뻐서', '욕심', '신나', '강한', '못한다', '종영', '워', '잭', '여친', '~!!!', '터짐', '의사', '야지', '체', '옛', '망하', '동네', '막히', '별반', '카', '엠', '끊', '다를', '쓸데없이', '수입', '거부', '색', '사라지', '힘내', '따분', '정작', '어처구니', '강', '볼까', '일부러', '뭘까', '고맙', '조선', '마이클', '상영관', '손가락', '명배우', '놀라운', '당연히', '영화제', '위험', '깍', '고등학교', '뛰어나', '멋졌', '처', '탈출', '환경', '명장면', '설득력', '네유', '터미네이터', '르', '컨셉', '는군요', '문', '하품', '실수', '공간', '난리', '잔혹', '쿡', '일깨워', '미녀', '클레멘타인', '만약', '무서워', '고서', '끼워', '중학교', '당할', '가벼운', '로코', '뱀파이어', '바탕', '때우', 'dvd', '최대', '콩', '혹시나', '껄', '따지', '결정', '짜임새', '주윤발', '자랑', '지경', '반드시', '론', '해리포터', '음식', '동심', '사운드', '해진', '14', '저급', '인형', '든지', '착각', '루즈', '구역', '잖', '베드', '고어', '망친', '재능', '스러워', '마약', '멍', '따듯', 'd', '조니뎁', '숨겨진', '반대', '빠른', '그대', '나간', '우뢰매', '밝', '값', '자동차', '거장', '박진감', '2000', '발상', '심한', '친', '희대', '선동', '놨', '단순히', '뭥미', '--', '다신', '사용', '홍상수', '동성애', '하지원', '침', 'I', '부럽', '애매', '려다가', '옴', '책임', '편안', '생긴', '이소룡', '인내심', '틱', '다크', '떠오르', '국판', '살인마', '폭발', '여인', '극단', '선정', '평균', '만화책', '걱정', '실험', '기적', '분장', '절정', '의상', '잠들', '군인', '나이트', '☆', '빌', '디워', '하정우', '익숙', '버려', '간만', '엄청나', '피해', '저렇', '엇다', '귀여움', '리즈', '정신병자', '뽕', '으시', '누군지', '떨어짐', '및', '참나', '해졌', '난잡', '아무튼', '우려먹', '부작', '전하', 'of', '이토록', '섞', '동영상', '의지', '블', '나레이션', '쓸데없', '분량', '세대', '붙', '만난', '적어도', '할리우드', '끈', '목숨', '메', '느니', '상대', '돼지', '민폐', '도움', '준비', '주일', '검', '떄', '연상', '인터넷', '도무지', '당한', '흑', '빠져서', 'a', '인종', '탈', '남성', '영향', '마이', '반지', '22', '여신', '요새', '패스', '믿기', '우연', '응', '킹', '솔', '낚이', '짐캐리', '거품', '중간중간', '줘도', '샘', '재개봉', '명대사', '다리', '평화', '원조', '출신', '뗄', '하하', '흑백', '배트맨', '소화', '아놀드', '진수', '처절', '장난치', '서울', '저리', '네티즌', '퍼', '광', '국', '죄송', '기존', '송강호', '유럽', '김치', '격', '평소', '흥', '어쩌면', '에다', '겉멋', '하아', '부끄럽', '발음', '하도', '건강', '비중', '배급사', '25', '옹', '축구', '조용', '소개', '굉장', '위로', '놓치', '뭣', '이라도', '계기', '수록', '놀이', '스포츠', '유지', '생각난다', '충실', '극복', '빠졌', '거림', '벗어나', '판단', '쌍', '도시', '선수', '애절', '깡패', '으려고', '양아치', '봣', '라스트', '왤케', '쭉', '인류', '오프닝', '언젠가', '각', '리얼리티', '러시아', '거북', '능', '꿈꾸', '즐겨', '정우성', '구조', '려나', '망할', '제이슨', '반영', '.........', '설', '그동안', '곧', '글자', '제임스', '무대', '눈물나', '담백', '일본인', '`', '떨', '무한', '최고봉', '아까워서', '끔', '변하', '에다가', '게스트', '왕국', '톰', '무겁', '으리', '재미나', '찾아볼', '차원', '로드', '달콤', '반담', '가까운', '어둡', '으신', '말투', '류승범', '만났', '은근히', '납니다', '탁월', '넘어가', '빨갱이', '로버트', '품', '잉', '제왕', '찬', '단체', '파리', '도데체', '온다', '최소한', '압도', '역량', '최소', '독일', '파격', '느리', '연', '개콘', '호기심', '과하', '정당', '부정', '컴퓨터', '는다는', '진한', '단점', '둘째치', '멘', '각색', '몽환', '드디어', '접', '상어', '유아', '각자', '자마자', '날리', '깨알', '전화', '세여', '범죄자', '선사', '깨달', '바꿔', '도와', '치유', '중년', '2012', '헛웃음', '우리나라', '즐길', '아닐', '부리', '아쉬워', '편하', '옥', '브루스', '글고', '죤', '쏟', '올라가', '명불허전', '부인', '킬러', '좌', '정리', '튼', 'ㅉ', '뎅', '엄', '당했', '배꼽', '하나님', '신하균', '폭풍', '비행기', '세포', '이병헌', '로웠', '움직이', '해선', '뮤직', '죽인', '아팠', '나왓', '밀', '녀석', '화장실', '그라', '어두운', '부활', '촌', '오글오글', '임창정', '대결', '향수', '말씀', '불안', '지나가', '본능', '닥치', '짠하', '신인', '역겨운', '졸업', '림', '하이틴', '무게', '나타나', '된다고', '징', '만세', '웰메이드', '억울', '흐', '교회', '고뇌', '현', '슬', '폰', '락', '민족', 'you', '짜릿', '매번', '매미', '대상', 'EBS', '캐릭', '미스터리', '엽기', '노인', '명복', '백인', '덩어리', '스티븐', '일부', '베리', '지르', '등록', '애초', '드문', '진진', '바닥', '액션물', '튀', '실감', '처리', '이만', '가히', '무거운', '짬뽕', '껀', '타란티노', '순위', '몬', '대전', '44', '..........', '쓸쓸', '뜬금없이', '닼', '똑같이', '좋아할', '제니퍼', '명연기', '습니까', '착하', '시장', '해준다', '연습', '무간도', '불과', '직업', '높이', '상징', '녹', '구분', '유덕화', '아만다', '기사', '털', '예측', '공유', '발랄', '절망', '재방', '슈', '오로지', '맞춘', '은근', '개그맨', '전이', '회사', '창피', '여전', '소통', '담긴', '♥♥♥', '천만', '지키', '총체', '박보영', '미국식', '박중훈', '맛있', '강간', '지식', '필', '얼', 'T', '미스테리', '채우', '준거', '내게', '스파이더맨', '절제', '올레', '담겨', '떠', '초월', '짜집기', '생명', '특집', '흡입력', '정부', '.!', '신화', '우린', '스타뎀', '거대', '킬', '관', '공룡', '흘렸', '모른다', '경우', '연관', '향연', '간지', '무식', '개꿀', '마누라', '부산', '듭니다', '대부', '장점', '알파치노', '변신', '레옹', '칭찬', '깔', '재앙', '김수현', '.........................', '다시금', '왓', '강동원', '아쉬울', '존스', '도둑', '풍', '영화사', '비록', 'movie', '배신', '의한', '사과', '오그라드', '미션', '혐오', '웬', '본질', '한방', '동양', '암울', '최후', '묘한', '늘어지', '뒷', '원숭이', '뒤죽박죽', '커서', '포함', '도중', '혁명', '던데요', '들어간', '서부', '돋보였', '무난', '클래식', '지옥', '땡', '합시다', '왕조현', '땀', '라이언', '망쳤', '스타워즈', '케미', '전기', '고독', '레이', '마녀', '천사', '병원', '고딩', '디카프리오', '방향', '보일', '담담', '보소', '절로', '인권', '..^^', '엮', '킥', '픽사', '고문', '여러모로', '기괴', '했어요', '권력', '나무', '딩크', '넘기', '작화', '심사', '매끄럽', '철', '영구', '건질', '쌩', '뚱', '독립', '페이크', '쿨', '잖아요', '낭만', '섹', '16', '댄스', '런닝', '오그라들', '혼란', '시험', '상당', '워낙', '전해', '쥬얼', '예고', '고인', '당장', '상실', '대학', '귀여웠', '국어', '운동', '나을', '인식', '가짜', '진짜로', '광구', '…', '렷', '고증', '스텝', '시종일관', '낼', '은가', '스릴러물', '제작자', '줘야지', '추격', '화질', '절대로', '사이코', '정신없', '미학', '맥', '늑대', '의해', '뻔뻔', '찬양', '우기', '~~^^', '섬', 'ㅜㅠ', '남친', '너희', '어수선', '수면제', '상관없', '우선', '엄정화', '욕먹', '어떠', '젖', 'Good', '전성기', '셋', '유치찬란', '위트', '반응', '곱', '상식', '공연', '환자', 's', '기다려', '호불호', '주인', '월드', '한석규', '김혜수', '언', '허나', '무기', '별거', '능가', '머릿속', '나와야', '아닌가요', '가까이', '매주', '하하하', '짱구', '렉', '터졌', '감명', '이별', '덤', '빕', '세트', '멋져', '환장', '떡밥', '걷', '~~!!', '옳', '차승원', '센', '중학생', '웃겨서', '드립', '놀란', '아마추어', '였을', '회상', '17', '폼', '모자라', '빠질', '아우', '거짓', '쳤', '추가', '께서', '바란다', '마찬가지', '모아', '기획', '구려', '릭터', '아이유', '부자연', '치고', '호흡', '쥬', '누님', '공중', '실사', '낮추', '슈퍼맨', '^-^', '외국인', '어린애', '보물', '활용', '애잔', '오해', '안타까움', '주관', '컸', '흥분', '훈', '온갖', '구경', '허허', '음향', '형식', '니매', '오르', '애틋', '멋져요', '어정쩡', '셧', '택시', '쳐도', '99', '컨', '답니다', '문득', '어차피', '세계관', '집니다', '방해', '뜬', '긴박', '김희선', '랄', '걸린', '널', '개똥', '테이큰', '방황', '서양', 'bb', '납득', '재탕', '아니면', '파워', '즐거움', '낀', '권상우', '픽션', '에라이', '나루토', '거려서', '종', '본격', '괴', '스릴감', '봣다', '태국', '나열', '향기', '안녕', '살아남', '구할', '승부', '으러', '캐리', '겉', '칸', '->', '어쨌든', '메이', '상큼', '보석', '애정', '폴', '수사', '장진', '위주', '언어', '속도', '섬뜩', '이뻐', '역작', '의견', 'is', '나았', '복선', '먹칠', '틀리', '할려고', '전지현', '한동안', '타인', '어째', '곰', '쉬운', '닥터', '인연', '오랫동안', '헉', '뒤늦', '해외', '스파이', '케빈', '생겨서', '고향', '봐줄', '장소', '냥', '검사', '느낀다', '독', '지대', '비참', '슬퍼요', '광기', '모호', '두고두고', '귀찮', '나갔', '반갑', '외면', '든가', '자세', '느껴질', '내놓', '냈', '기영', '로빈', '저것', '어울림', '!!!!!', '난무', '막상', '떡', '성형', '대역', '수다', '재수없', '신부', '..!', '보여서', '약한', '나온다고', '어린아이', '에이', '유익', '극본', '치료', '집단', '풀어낸', '민', '지내', '고작', '시체', '추', '목사', '애인', '기타', '류영화', 'MBC', '나서', '영웅본색', '나머진', '어딘가', '깜놀', '주온', '원하', '참여', '흠잡', '-_-;;', '간직', '홀로', '뻥', '블루', '질문', '아야지', '어울린다', '영화판', '가리', '찾아가', '감정선', '더라고요', '일반인', '엉뚱', '..(', '피아노', '원피스', '시켰', '정확', '나올까', '톤', '시킬', '커버', '짙', '무서울', '박찬욱', '벨', '버스', '친절', '이럼', '이것저것', '고등학생', '오로라', '유행', '괴수', '커', '셔야', '더군', '국산', '런', '금지', '조기', '묻어나', '묵직', '남긴다', '비해서', '설경구', 'c', '왕자', '찬사', '부담', '다가오', '가시', '아바타', '이뻤', '줘요', '죽일', '흔하', '여유', '도라에몽', '정사', '빅', '오직', '몰라', '던져', '^^*', '클라스', '.!!', '저러', '개발', '귀여워서', 'vs', '쟈', '될까', '최민수', '집안', '사나이', '떠올리', '시민', '2015', '유령', '드니로', '대하', '유혹', '터져', '일찍', '겻', '강요', '미쳐', '지우', '시골', '흔적', '이정재', '환', '볼일', '아아', '지도', '한국어', '쏘우', '200', '가관', '투성이', '맞춰', '따스', '힙합', '갖춘', '닷', '난국', '앙', '프', '기다렸', '하이', '는다고', '구혜선', '렸', '드려요', '개소리', '로망', '오랜', '차분', '뿌', '인디', '마블', '꺼버렸', '욤', '데뷔작', '납치', '엉망진창', '맥스', '나갈', '성적', '군더더기', '분명히', '실상', '커피', '날려', '될지', '반감', '차리', '김명민', '팍팍', '심정', '예뻐서', '미달', '번역', '저희', '쯧쯧', '송승헌', '제시카', '롱', '밧', '스페인', '둔', '팝콘', '연주', '새삼', '열라', '소품', '멘탈', '레기', '。', '좆', '충', '농담', '손색', '소지섭', '학원', '외로움', '게끔', '좋아해서', '람보', '시끄럽', '수위', '쓴다', '웃긴다', '뉴스', '짱나', '강아지', '볼꺼', '동감', '나온다는', '나마', '모욕', '정점', '최민식', '추구', '듦', '믿음', '뮤', '리스트', '없애', '드만', '그냥저냥', '버린다', '셔', '불러', '색깔', '지저분', '알리', '맑', '다이하드', '신데렐라', '컬트', '28', '적나라', '아리', '왕가위', '았었', '뿌리', '도저', '멈추', '산다', '스필버그', '우롱', '먹먹해', '느냐', '평론', '성경', '끝판', '숲', '할배', '안타까웠', '오페라', '통해서', '젊은이', '이은주', '모독', '모방', '들어오', '끝난다', '어중간', '향한', '만든다', '쳐서', '열자', '피곤', '폭', '청년', '떨어졌', '놀랬', '예뻤', '공허', '손예진', '클라라', '학창', '모순', '보낸다', '김태희', '~~~~~', '마마', '..;;', '주위', '증말', '관람객', '푸', '층', '사장', '각각', '경악', '본성', '눈치', '고수', '쟁이', '여왕', '기업', '붕', '장동건', '태양', '드래곤볼', '자격', '새록새록', '엑스맨', '애국심', '탐', '슬퍼', '조심', '괴담', '스킵', '드물', '-_-;', '고르', '아이언맨', '클', '썸', '열광', '짜내', '머지', '조정', '학살', '재방송', '람', '몰락', '감기', '울림', '함부로', '타이틀', '김민종', '전라도', '피디', '성유리', '부여', '마법', '임신', '유리', '울음', '상관', '부끄러운', '풀어내', '어지럽', '한정', '김구라', '후기', '첩보', '위하', '신세경', '남매', '할게요', '피식', '추악', '절묘', '고급', '2013', '저주', '지역', '겁', '가난', '구라', '감옥', '자본', '남긴', '끊기', '재료', '으세요', '커녕', '관리', '출발', '이입', '혐', '냉정', '거려', '국제', '니콜', 'O', '지극히', '그렇지만', '지켜', '간간히', '돌아오', '려는지', '이외', '이탈리아', '키우', '영활', '나와라', '과도', '정화', '색채', '아닌지', '미장센', '안성기', '이어', '2005', '누', '장난감', '앞서', '더더욱', '통', '입니까', '우승', '북', '신세계', '때로', '묘하', '적극', '일어날', '재현', '서정', '차태현', '범', '동', '카피', '베일', '법정', '조악', '정석', '졸려', '영광', '흐지부지', '전도연', '춤추', '먼지', '황정민', '들리', '객관', '존재감', '덮', '예쁨', '만날', '공원', '아카데미', '벽', '더욱더', '흔들', '슨', '사전', '이민기', '지독', '들어도', '말리', '거슬리', 'ㅄ', '일지', '예술가', '성찰', 'ㅜㅜㅜ', '소피마르소', '미국인', '엽문', '경의', '했어도', '꽉', '뭔가요', '부각', 'OOOO', '노예', '또는', '파라', '요약', '꺼내', '양반', '해냈', '할수록', '행위', '감수', '마을', '쓰레', '싼', '이연희', '다운로드', '그지없', '외치', '려니', '부디', '규', '다름', '빌리', '한텐', '헤', '라구', '박평식', '기도', '엉터리', '공감대', '임청하', '걸릴', '이웃', '기록', '자아', '토할', '대비', '틀림없', '최선', '으려', '단역', '정통', '에드워드', '트랜스포머', '원했', '직', '와중', '지브리', '초기', '댓', '출현', '실패작', '아끼', '호텔', '뿜', '뭔데', '색다르', '합', '티나', '놀래키', '어떡', '는디', '배속', '거든', '스러울', '해짐', '띄', '배려', '수십', '톰크루즈', '크루즈', '과대평가', 'o', '교수', '유지태', '데이', '파이팅', '섭외', '마스터', '배울', '계시', '깨끗', '식스', '차마', '정확히', '뚝뚝', '공식', '조명', '평이', '멤버', '조승우', '구원', '뜨거운', '저게', '신념', '봐왔', '혹평', '에러', '져서', '신민아', '드러나', '허구', '빙판', '어딜', '써요', '300', '윌리스', '대학생', '포켓몬', '사냥', '통수', '데스', '주먹', '남발', '멀리', 'CGV', '미묘', '빠져드', '역활', '키아누', '밴드', '붙이', '우아', '2003', '서극', '생략', '송혜교', '풍부', '빨간', '원표', '오인혜', '가을', '퇴보', '순진', '격투', '다지만', '기간', '토끼', '주원', '백배', '호강', '데드', '절반', 'The', '^^;', '아프리카', '라며', '정신병', '고질라', '심했', '고마운', '효주', '저거', '마니', '극찬', '생김', '가깝', '작전', '뉴욕', '꼬맹이', '위기', '부를', '작인', '특징', '증명', '그럼에도', '몽', '송', '강조', '힘드', '취급', '뽀', '때려', '노튼', '메인', '노골', '지겨워', '젊음', '인터뷰', '장혁', '경제', '2004', '흐뭇', '사무라이', '마구', '여기저기', '거듭', '데이빗', '초점', '미이라', '만하다', '할꺼', '전락', '행', '스피드', '대단히', '활동', '뒤집', '니콜라스', '서프라이즈', '겄', '그나저나', '구멍', '접근', '타령', '획', '모성애', '일관', '흑역사', '하드', '생존', '퀴어', '스텝업', '24', '부자', '뻔히', '로마', '붉', '쿠', '재주', '떨어진', '닫', '롤', '무너지', '송지효', '강지환', '제정신', '구도', '배드', '경계', '쥬라기', '들어왔', '갈리', '모델', '벌어지', '비롯', '반했', '난감', '이뻐요', '그래요', '패턴', '줘라', '장근석', '이스트우드', '오만', '아나', '똑바로', '시사', '논', '지원', '앞부분', 'http', '와이프', '찜찜', '깨달음', '예의', '었었', '무서워서', 'ㅏ', '헤어지', '불행', '씨발', '장나라', '맹', '순이', '쌈', '마케팅', '종류', '떠들', '봉', '퍼즐', '임수정', '오유', '주의', '강시', '내보내', '지배', '한글', '크리스찬', '수애', '작렬', '중후', '어쩌다', '등급', 'PD', '는다면', '곁', '풀리', '뺏', '관대', '예뻐', '짜여진', '홧팅', '조용히', '장군', '척하', '우왕', '꼬라지', '제작사', '찢', '나참', '비싼', '돼서', '땜시', '우익', '런닝맨', '더러', '두려움', '저번', '받아들이', '구먼', '이범수', '패션', '바랬', '나타내', '복', '불후', '죽임', '웅장', '안타까울', '아기자기', '미남', '끌리', '플레이', '어울려', '삐', '걸렸', '일요일', '임권택', '의학', '수정', '고발', 'com', '맞음', '빅뱅', '인한', '질주', '느슨', '작년', '역쉬', '낙', '이나영', '투표', '장치', '미인', '그분', '초능력', '원주율', '향해', '빼놓', '합니까', '부른', '원인', '보여줌', '써서', '성숙', '깁니다', '극한', '큐', '무색', '연령', '잭슨', '메리', '죽였', '침묵', '과잉', '자본주의', '홍금보', '1000', '반부', '엉엉', '마요', '체험', '어설퍼', '채워', '파악', '즘', '뻔해서', '케릭', '이순신', '딱딱', '난생', 'ebs', '드림웍스', '간단', '가식', '돋보인다', '뭡니까', 'it', '넘어선', '지나친', '주상욱', '피터', '랫', '일탈', '물건', '서기', '가상', '서스펜스', '딸리', '펭귄', 't', '짐승', '밝혀', '즐', '습니당', '기쁨', '로움', '된다면', '자위', '두말', '남아돌', '태도', '접하', '클린트', '분석', '지적', '타지', 'to', '안다', '토니', '마음속', '외화', '철없', '증거', '파워레인저', '가해자', '알려준', '스텔라', '몫', '계획', '녹화', '이혼', '기억난다', '느린', '팀버튼', '용감', '희', '모티브', '저녁', '코스프레', '지인', '해질', '드러내', '더러워', '..\"', '담아내', '잃어버린', '글구', '죽인다', '사라졌', '당당', '학대', '작정', '써라', '고스란히', '별다른', '엉덩이', '묘미', '...........', '휴먼', '하차', '쉴', '서방', '자세히', '제미', '단언', '불면증', '봐야겠다', '박신양', '양동근', '다는데', '조지', '선율', '카메론', '존중', '온몸', '여정', '긍정', '98', '간첩', '준다는', '생각났', '글쎄요', '엑소시스트', '사망', '박사', '도통', '물씬', '무리수', '무어', '다구', '일세', '이여', '날렸', '때메', 'best', '기차', '양조위', '어우', '진작', '애쓰', '추락', '아이고', '멘붕', '강제', '겁니까', '명확', '유치뽕', '위안', '손색없', '숀', '웃겨요', '심히', '니당', '랩', '사연', '.;', 'mbc', '레이첼', '한때', '차지', '띵', '볼땐', '헐크', '앓', '피트', '허무맹랑', '총질', '어우러진', '따윈', '대만', '로선', '봣어요', '파이', '적절히', '올라갈', '고정', '익', '보스', '예뻐요', '강호동', '오타쿠', '히트', '또라이', '잠수함', '곱씹', '조직', '경', '속지', '살인자', '용가리', '못생긴', '이승기', '맛깔', '2010', '어마어마', '인척', '소리지르', '곳곳', '싸울', '최저', '강혜정', '저렴', '주목', '이성재', '장편', '으라고', '필수', '한수', '당최', '매혹', '수지', '오류', '언론', '웹툰', '띠', '뉴', '나누', '가졌', '재치', '논하', '흡사', '바꾼', '실소', '고로', '삼가', '후한', '껴', '인터', '지리', '은퇴', '노동자', '마라', '욕구', '나옵니다', '이름값', '뜸', '마틴', '떨어져', '달까', '자라', '500', '거창', '투신', '닌자', '봣음', '미스터', '내겐', '명곡', '한효주', '슬래셔', '슬퍼서', '홈', '가질', '동기', '흑흑', '태어난', '김강우', '뱀', '금요일', 'ocn', '클리셰', '은데요', '*', '종일', '져요', '고는', '쩜', '자제', '미술', '엘', '스탈', '도망가', 'KBS', '조조', '베트남', '고리', '지금껏', '이동욱', '제시', '써도', '더니만', '몬스터', '지네', '위원', '오우삼', '소박', '열린', '본다고', '오우', '탕웨이', '했을까', '귀요미', '미흡', '우습', '쏴', '수치', '끝남', '마인드', '대형', '윤아', '들여', '팔아먹', '나발', '근', '에일리언', '공존', '떄문에', '임파서블', '용두사미', '해본다', '합리', '습작', '그룹', '동호', '환불', '흔히', '이준기', '서부극', '언급', '자료', '든데', '졌으면', '이념', '멸망', '디자인', '쳐먹', '주행', '저절로', '건진', '재발견', '경기', '23', '기대감', '느껴짐', '공개', '장쯔이', '린', '모여', '황비홍', '헛', '오리지널', '서우', '남김', '주체', '진하', '실컷', '이겨', '에게서', '팩', '꺼져', '발생', '놀라울', '였으면', '랴', '연장', '아오이', '차기', '츄', '발레', '철저', '바리', '법칙', '덜덜', '노무', '콘서트', '.\"', '걸까요', '민주', '읍', '고찰', '다니엘', '!!!!!!', '인디아나', '어이', '집어넣', '태', '거든요', '어거지', '은은', '120', '수백', '현대인', '휴가', '문학', '큐브', '.,', '박스', '지존', '똑똑', '찐', '경쾌', '정재영', '추잡', '나약', '허탈', '도덕', '솜씨', '이랬', '어의', '엑', '두근두근', '라길래', '으려는', '바치', '허전', '안정', '가르쳐', '비명', '저기', '어처구니없', '‥', '달러', '샤론스톤', '회장', '여동생', '일대기', '총알', '그곳', '넋', '관가', '달라', '소나', '동료', '~~!', '악평', '감당', '비난', '브래드피트', '아용', '대책', '김하늘', '설레임', '갑갑', '예매', '거울', '첩', '동일', '욱', '사라진', '고백', '스무', '2001', '구지', '홍', '진보', '짜임', '카드', '대가리', '팅', '여고', '스콧', '흘렀', '어찌나', '제국', '쓰레기통', '러셀', '지겨운', '아무래도', '동아리', '매회', '보냅니다', '매트릭스', '졸려서', '활약', '침몰', '믿겨', '비유', '염', '진화', '뇌리', '담아낸', '하구', '클럽', '쿵', '마초', '혹성탈출', '리암니슨', '일생', '형성', '직원', '넓', '졸음', '짓거리', '박해일', '럼', '화신', '투박', '기엔', '상쾌', '쏙', '사다코', '신현준', '즉', '2009', '긔', '잡히', '흘러도', '밟', '에릭', '한예슬', '미군', '록키', '스러워서', '측면', '궁', '그러니까', '뻣', '몰라서', '살아나', '상투', '자매', '썰', '멀쩡', '병사', '꾹', '관념', '푸른', '보장', '싹', '붙여', '내려', '으셨', '타락', '가운데', '잘생긴', '불법', '콧물', '제리', '했으면', '주지훈', '미리', '그놈', '배운', '모자', '뻔했', '레이싱', '내려가', '투자자', 'kbs', '여야', '본다는', '맙시다', '대표작', '벤', '어렷', '켜', '전환', '끈다', '어떨까', '지워', '가치관', '어지간', '설렘', '무얼', '진솔', '에너지', '밀라', '종합', '개독', '시스템', '슈렉', '수술', '채플린', '습', '한없이', '선배', '므로', '미개', '지성', '어느새', '수준급', '찡하', '조선족', '퉤', '붕괴', '미야자키', '쫓', 'in', '콤비', '쏠쏠', '부재', '한두', '어땠', '중국인', '..;;;', '바이러스', '망함', '영상물', '요구', '><', '함정', '갖추', '평정', '유혼', '포드', '창조', '누르', '믄', '고래', '옛다', '뻔해', '그리운', '이중', '나와요', '갱', '人', '재회', '놨다', '하나같이', '어딨', '치열', '직장', '휴머니즘', '대략', '비오', '효민', '앵글', '따라서', '배웠', '가사', '현장', '멍청이', '안목', '교감', '정적', '아담', '.??', '소문', '매년', '씨네', '욕할', '어려서', '쎄', '록', '을려고', '근거', '홍진호', '파티', '긋', '와이어', '표본', '97', '로보캅', '짜집', '회복', '샤', '대구', '파일', '암살', '에서부터', '이놈', '어설픔', '놓친', '광주', '훼손', '어려움', '↓', '조인성', '집중력', 'F', '머신', '는구만', '조재현', 'K', '기보단', '줄리아', '뜬금', '김남길', '화해', '그릇', '위원회', '요원', '웩', '동급', '직전', '연기파', '다듬', '가문', '아메리칸', '토마스', '이민정', '박자', '윤계상', '들어갔', '망상', '고소영', '프레디', '사소', '개떡', '처먹', '스캔들', '얼른', '어째서', '어려울', '맺', '전국', '뎁', '출연료', '깜찍', '루이스', '백만', '유사', '어깨', '안겨', '새로', '에바', '질투', '릴', '텐', '씁니다', '인데요', '쾌감', '에이리언', '황제', '성의', '나왔었', '지진희', '운운', '묻혀', '버티', '그려냈', '줄리엣', '안타까워', '원빈', '호평', '보호', '기묘', '이만큼', '^_^', '황홀', '프레데터', '드신', '증', '엑스트라', '안티', '친다', '정권', '구석', '조각', '따라한', '오토바이', '............', '~~~~~~', 'and', '오싹', '무능', 'very', '신파극', '겠다', '실존', '평하', '작업', '미루', '진구', '미칠', '현빈', '웨슬리', '각성', '가게', '확신', '..!!', '몰래', '잠든', '제법', '촌스러운', '좌파', '인셉션', '봉작', '고기', '쒸', '신들린', '는겨', '진주', '충무로', '문근영', '댐', '알맹이', '도박', '고려', '데려다', '듣보잡', '쌍욕', '완소', '결합', '장인', '모른', '핸드폰', '김선아', '초심', '발휘', '슈스케', '잘난', '변호사', '중세', '눈뜨', '적응', '음모', '자칫', '변명', '였으나', '발톱', '핀', '대변', '기술력', '소피', '잎', '이슈', '턴', '선가', '일본식', '악몽', '줄려고', '스탤론', '써야', '유작', '우디', '어울렸', '고현정', '승화', '기부', '까먹', '어둠', '케이지', '그래두', '내공', '피스', '2008', '지지', '실종', '모자란', '건물', '쥐어짜', '리암', '의외로', '후지', '!!!!!!!', '영감', '압박', '팍', '아마도', '아시아', '들인', '토요', '여진구', '급하', '액', '둘째', '낯', '유치원생', '밀려오', '큼', '니콜키드먼', '연쇄', '사춘기', '마땅', '흔들리', '멜깁슨', '똥폼', '평타', '백미', '현상', '금방', '룡', '이성', '나타난', '늘리', '종말', '옹호', '보영', '각인', '메오', '스틸', '무적', '닭', '차가운', '닦', '개미', '맴', '족', '팝', '사라져', '떠오른다', '여지', '시리', '논란', '사로잡', '완벽히', '훈련', '정유미', '공효진', '못생겼', '이론', '작중', '이선균', '풍기', '조커', '쪼', '싱', '마련', '옴니버스', '지하철', '희한', '저버리', '윤', '린치', '정답', '원맨쇼', '낯선', '공기', '허준', '축', '하얀', '서서히', '감독판', '어메이징', '프로젝트', '시킴', '요란', '이종석', '피하', '나미', '싱겁', '벗기', 'my', '고마워요', '써먹', '매기', '져야', '인증', '스탭', '화난다', 'MC', '선전', '후유증', '소방관', '농구', '헌터', '나비', '소수', '공리', '창의', '기계', '참혹', '나와도', '그치만', 'naver', '실망감', 'OCN', '김수로', '끝날', '유역비', '졸립', 'no', '그리워', '여도', '란다', '그딴', '본드', '일으키', '시티', '-.-', '잉여', '첨보', '성괴', '찬란', '예정', '알아보', '아웃', '독백', '독도', '십니다', '밝히', '어벤져스', '타입', '독창', '찰리', '사형', '제도', '채민서', '망가지', '접한', '폐', '비급', '빠짐', '지민', '악인', '가미', '말기', '본받', '하긴', '--;', '약속', '사막', '망신', '크리스토퍼', '다녀온', '달려', '스펙타클', '원망', '시킨다', '도입부', '공격', '가만히', '경이', '일방', '샷', '후하', '어유', '일제', '딘', '서민', '거시기', '...?', '결과물', '지상파', '똘', '돌렸', '타짜', '로부터', '오디션', '주장', '로렌스', '히치콕', '허비', '조건', '오래오래', '관계자', '다수', '하우스', '넘겨', '상자', '정돈', '서인국', '터진다', '퀸', '황금', '복제', '무의미', '케로로', '지켜보', '사라', '헬', '생뚱맞', '으려나', '주옥같', '아날로그', '셜록', '눈요기', '로다', '낌', '우울증', '라스', '김래원', '일기', '다기', '어리석', '작작', '여실히', '봤으니', '신분', '키드', '끊임없이', '노무현', '원초', '수업', '낭', '연계', 'm', '성지', '하네', '신앙', '시켜서', '라이', '동원', '브루스윌리스', '주제곡', '행운', '계단', '골든', 'cgv', '제공', '봅시다', '농락', '못지않', '2002', '2007', '에니', '교차', '최대한', '얄팍', '짐작', '유승준', '양산', '구해', '각지', '암시', '그렸', '피라냐', '구매', '버튼', '페이지', '인내', '하필', '동경', '지속', '잡아먹', '서세원', '엄태웅', '외로운', '이분', '호소', '장녀', '이면', '.............', '막스', '둥', '폴워커', '관심없', '드래곤', '토르', '볼라고', '비씨', '쉬워요', '향', '거슬린다', '..-_-', '형태', '취미', '맙', '성향', '절절', '내놔', '압축', '화제', '고고', '구림', '탔', '천녀', '리그', '카타르시스', '으리으리', '삼총사', '균형', '최하', '퍼펙트', '궁금증', '근육', '신동엽', '어려웠', '한다니', '불꽃', '버려서', '할까요', '애썼', '디스', '희극', '아휴', '매치', '톰행크스', '걸레', 'me', '대리', '장만옥', '왕따', '우수', '끼친다', '유도', '부턴', '박힌', '어울릴', '통일', '시바', '전통', '경지', '졸린', '~♥', '뒤통수', '시망', '우드', '탁', '사례', '편히', '테스트', '지웠', '이완', '벌레', '바램', '명량', '자존심', '도다', '어쨋든', '형편', '친일파', '찌르', '샀', '손꼽히', '맥라이언', '재연', '망해', '육체', '아파', '한몫', '결제', '로멘', '톱', '유행어', '탐욕', '토이', '펙', '충동', '약해', '선입견', '때론', '발암', '장사', '명예', '마루', '하루하루', '혼', '누워', '아름다워', '2011', '나빠', '내린', '비용', '무도', '브래드', '모드', '레오', '아담샌들러', '유우', '신은경', '됌', '봉태규', '치명', '로버츠', '강인', '개웃', '~!!!!', '개지', '한니발', '인피니트', '윌스미스', '핵심', '초콜릿', '끝났으면', '마피아', '바비', '걸려', '깜', '여군', '질린다', '못지', '모를까', '폭탄', 'i', '베낀', '도가니', '자녀', '♡♡', '다길래', '도로', '444', '부류', '헬기', '콜린', '아이리스', '덴젤', '놔서', '보상', '일어났', '그럴싸하', '공포감', '대학교', '아트', '꺼라', '웃길', '췌', '사신', '제한', '무장', '맘대로', '의존', 'but', '대가', '흘러', '뽀로로', '차인표', '쥔', '일까요', '소속', '특성', '뚫', '테이크', '허니', '마크', '근본', '무려', '블레이드', '감정이입', '공상', '민주주의', '설치', '따라했', '무표정', '강박', '지닌', '천박', '가만', '랏', '브라이언', '맥어보이', '야수', '편지', '초라', '최진실', '버금가', '2006', 'S', '지치', 'No', '유산', '넘친다', '징그럽', '기승', '머피', '밍', '이길', '그걸로', 'love', '처참', '소스', 'AV', '’', '드라마틱', '물고기', '화장', '데미무어', '다케시', '부담없이', '정글', '외롭', '단계', '물질', '숭고', '공익', '한국식', '리라', '안경', '브금', '끼쳤', '목표', '밖엔', '기반', '핑', '문제점', '불멸', '최지우', '해운대', '릭', '문구', '이상실', '귀한', '도망', '실체', '동참', '해학', '잔잔히', '위치', '바뀐', '남동생', '이터', '타이밍', '윤리', 'L', '샹', '빈디젤', '자전거', '기리', '릿', '욕하', '갔었', '부성애', '당대', '펼치', '쌤', '무튼', '다가온다', '데뷔', '호화', '-_', '박신혜', '삼국지', '원작자', '소유', '빠진다', '되돌아보', '놀래', '가져다', '떠올랐', '해놨', '부대', '바래', '방학', '엑소', '하여튼', '담주', '캡틴', '하군', '케이스', '쿵푸', '미만', '불만', '동의', '최강희', '터질', '슬로우', '모션', '이정현', '권리', '퓨', '마동석', '판치', '썰렁', '저건', '챙기', '강도', '1990', '반면', '만만', '먹이', '좋아한다면', '잘라', '한결', '어필', '자비', '치킨', '며칠', '움직임', '모니터', 'ㅐ', '4000', '29', '봣습니다', '헛소리', '언더', '아함', '좌절', '아일랜드', '무성', '이나마', '^^;;', '변한', 'sbs', '맙소사', '스페셜', '27', '기념', '추석', '.,,', '콜린퍼스', '묶', '넘쳐나', '약자', '취', '별개', '장담', '김승우', '상승', '종이', '오늘날', '힌', '문명', '진국', '트와일라잇', '읍니다', '과제', '개봉관', '으라면', 'so', '좁', '인칭', '무모', '그림자', 'av', '소외', '욕설', '청', '브로디', '장미', '재미난', '오지', '부드럽', '스님', '충만', '꽁', '성장기', '생명체', '포근', '크리스틴', '부수', '기승전결', '엠마', '잠자', '밉', '팬티', '개월', '아키라', '냄', '하야오', '마니아', '심해', '저지르', '88', '놓칠', '수상', '웬지', '적합', '거린다', '저딴', '여전사', '웨', '켠', '진출', '역부족', '테러리스트', '빤', '중구난방', '파멸', '전후', '케이', '한쪽', '델', '들으면', '건달', '쫄깃', '철저히', '수단', '배슬기', '해리', '떠난', '륵', '으아', '잣', '95', '나대', '탕', '섞인', '돋보인', '통하', '흘러나오', '배두나', '돼요', '테이프', '이걸로', '조성', '망침', '픽', '결투', '조롱', '꼽히', '럽', '고스트', '산업', '·', '빠다', '머니', '라면서', '윌', '어줍잖', '느껴져서', '돌아온', '볼란다', '떨어져서', '헌신', '자질', '원스', '와나', '케이트', '열차', '단막극', '라이트', '기대치', '금발', '국적', '오줌', '경쟁', 'E', '비됴', '출연자', '서사시', '윤시윤', '연민', '워킹', '웨이', '뻘', '웅', '박정희', '공각', '기동대', '통한', '이슬람', '초호', '전범', '두뇌', '손오공', '타이타닉', '해져', '뚜렷', '엿볼', '지니어스', '뒷부분', '짤', '뜯', '충족', '폭소', '모처럼', '서양인', '승', '미친다', '하여금', '데이트', '탈락', '꺼리', '쿠바', '맴도', '단다', '니미', '생각날', '계신', '초한지', '스티브', '에로틱', '늘어놓', '앵', '이제껏', '떨리', '돌림', '살아갈', '스칼렛', '고마워', '순간순간', 'ㅊ', '지라', '하여간', '위안부', '어울려요', '윽', '울려', '쯧', '이야말로', '재일', '우월주의', '송중기', '맞먹', '드릅', '10000', '근대', '라라', '버무려', '풋', '태권', '살림', '라더니', '아가', '기운', '민영화', '날림', '바꿀', '급급', '금치', '의아', '낯설', '숭', '부조리', '이스라엘', '뜨겁', '치중', '으니깐', '느껴야', '밉상', '대립', '다던데', '래도', '끝냈', '세력', 'ㅠㅠㅠㅠㅠ', '귀여', '새로울', '마져', '돕', '다가왔', '이수근', '원제', '발차기', '군데', '축하', '생겨', '치닫', '루지', '클래스', '텅', '폭파', '뛰어났', '동정', '괴롭히', '아이러니', '시위', '지연', '화내', '히틀러', '그런대로', '할텐데', '거친', '사골', '이틀', '바른', '건담', '정치인', '^.^', '워터', '속이', '심은하', '이득', '평작', '스키', '뚝', '고릴라', '~~~~~~~', '크리스', '주민', '헤어', '침대', '****', '미니', '곽지민', '전투기', '후진', '서른', '쇼생크', '올라오', '올린', '못해서', '불러일으키', '음모론', '고개', '운지', '장진영', '서비스', '상평', '자르', '분신', '26', '무방', '에반', '..!!!', '아무렇', '물결', '앞서간', '획기', '접했', '으려다', 'ㅗ', '와라', '걸음', '도구', '기원', '구입', '정성', '노다메', '니슨', '이대로', '살인범', '아자', '박스오피스', '버려라', '봣네요', '견디', '일어난', '류승룡', '권하', '조여정', '어떨지', '슴다', '멋대로', '해소', '눈감', '..............', '입가', '월드컵', '고루', '죄책감', '대영', '오죽', '댈', '명언', '허각', '별론데', '랍니다', '캐서린', '샤말란', '시어머니', '김규리', 'lt', '어쩐지', '보수', '지껄이', '변', '새드', '소련', '고선', '간절', '‘', '유치원', '퍼지', '붙잡', '양키', '박유천', '레터', '나기', '????', '그로테스크', '여우', '패기', '셔요', '억압', '고집', '여사', '스톤', '바꿔라', '모자이크', '넘쳤', '으다', '할래', '유승호', '쉣', '변해', '종북', '연락', '눈물샘', 'ㅓ', '되돌', '조국', '이상우', '금포', '구린', '알차', '강예원', '갈릴', '마이크', '그려진', '이리저리', '유준상', '전파', '헷갈리', '무작정', '신다면', '닝', '불우', '올시다', '!!!!!!!!', '레드', '종종', '다면서', '공장', '제인', '쓰리', '쫄', '호랑이', '방울', '여고생', '변질', '낸다', '똥칠', '지혜', '클라', '미키', '야쿠자', '동화책', '빛났', '튀기', '동방', '산타', '유루', '원한', '과대', '숀펜', '덴', '인격', '소원', '완존', '훅', '모아서', '휘', 'this', '후속', '르네', '기절', 'ㅜㅜㅜㅜ', '린다', '광해', '일병', '비트', '솔로', '저래', '93', '오오', '장선우', '떨어뜨리', '크리', '씨리', '결', '장동민', '나인', '노리', '정준호', '상하', '이자벨', '정신없이', '성동일', '밴', '늘려', '맥주', '모름', '리티', '파트너', '게리온', '결혼식', '이브', '객관적으로', '두렵', '신뢰', '쓰러지', '데스노트', '쉐', '호프만', '놀랄', '소서', '영화배우', '사정', '아녀', '다임', '라이브', '모야', '괴리', '지능', '1980', '넷', '올드보이', '아유', '십시오', '강했', '스크림', '부시', '진자', '시원시원', '어리', '펼쳐지', '저능아', '원한다면', '유덕', '주요', '울린다', '놀람', '라이프', '짝사랑', '된장', '미숙', '간다는', '반해', '모범', '기이', '여명', '막힌', '동성애자', '섞여', '♥♥♥♥', '봉준호', '창작', '홀', '했으니', 'It', '환영', 'gt', '서사', '김민준', '제레미', '할께요', '정책', '휴잭맨', '쿠엔틴', '독재', '중고', '나른', '주문', '권선징악', '과감', '붐', '역겨웠', '교사', '시계', '흠뻑', '인디언', '“', '스포일러', '나아가', '헌', '높여', '뎀', '비행', '창문', '따르', '늬', '장백지', '후배', '달랐', '썅', '서바이벌', '보편', '오묘', '이문식', '네임', '서태지', '사자', '메이저', '탱고', '슬슬', '남겼', '색기', '이민호', '유머러스', '활', '힛', '거슬렸', '중도', '오덕', '장기', '롯데', '인위', '랍시고', '총격전', '무명', '돌려줘', '가라', '소비', '완결', '설레이', '지상', '싱크로', 'XX', '훗', '김정은', '푼', '깔려', '추격전', '진상', '순례', '밍밍', '재벌', '비포', '윌리엄스', '사이코패스', '당해', '떳', '니까요', '살릴', '전사', '극대', '됀', '하이라이트', '타워', '그땐', '삽입', '굿바이', '일거', '드러난', '녹음', '뻑', '컴', '후련', '핑계', '알맞', '을걸', '성기', '스토리텔링', '라이더', '다닐', '삽질', '주로', '페미니즘', '영화인', '천천히', '영화광', '미성년자', '설리', '맷데이먼', '중견', '훌쩍', '서부터', '습니', '콤', '특선', '최수종', '당함', '이질감', '넘쳐', '해줘서', '붙인', '주진모', '아이디', '시퀀스', '서커스', '온통', '배제', '시간대', '기다', '남음', '보너스', '리부트', '세끼', '웨스턴', '마모루', '긴박감', '삼성', '돌아왔', '로즈', '비둘기', '김현주', '쑈', '다간', '톱스타', '주제가', '기어', '전반부', '인과', '흘릴', '지만은', '싸이', '웃긴데', '경각심', '주려', '개운', '햐', '들어갈', '!!!!!!!!!!!!!!!!!!!!!!!!!', '감점', 'bgm', '후레쉬', '파치노', '인정받', '싱어', '현란', '보고서', '유이', '파도', '싫어하', '큐라', '자빠졌', 'f', '디비', '업그레이드', '관우', '수습', '후후', '달린', '컨데', '반가웠', '새기', '김민희', 'ㅡㅜ', '봤으나', '취지', '김보성', '말장난', '달라서', '협박', '점대', '유해진', '쌍둥이', '만행', '멘스', '무서워요', '타잔', '이준', '존나게', '과언', '어쩌구', '콩가루', '역겨움', '취하', '액티비티', '억지웃음', '범작', '애환', '유튜브', '멀미', '빌려서', '죄악', '폴리스', '발리', '이따', '맡기', 'CF', '유진', '장수', '무지하', '볼려', '이정진', '우려', '여느', '재해석', '총격', '일본어', '멈출', '마주', '몸부림', '둠', '끼칠', '쟝', '오리지날', '골랐', '김창완', '투쟁', '추적', '보리', 'G', '악어', 'z', '나치', '안드로메다', '모여서', '발악', '막무가내', '오름', '피노키오', 'ㅡㅡㅋ', '낡', '스물', '올랐', '테론', '키드먼', '자아내', '힐', '이루어지', '디아즈', '펴', '아가씨', '한구석', '영하', '이미연', '베끼', '김주혁', '우상', '지쳐', '므', '해설', '쌓', '재생', '주년', '무고', '안개', '츠', '맞서', '박물관', '간신히', '비약', '드릴', '답습', '본데', '쏠', '~.', '꾸준히', '운적', '쳐다보', '조쉬', '불교', '어게인', '새로움', '장애인', '데요', '사도', '해리슨', '인성', '지켜라', '혹', '딥', '펜', '초보', '장비', '울렸', '야말로', '공정', '잡스', '강우석', '존쿠삭', '기다린', '외계', '김옥빈', '작살', '겜', '유선', '보삼', '마이너', '출생', '벅찬', '건조', '감싸', '놀라움', '참으', '김준호', '후보', '기여', '고난', '퀼', '룰', '노라', '루시', '합쳐', '눈살', '아름다워요', '울버린', '박용우', 'ㅇㅅㅇ', '이어서', '걸맞', '환희', '흐른다', '다가가', '투모로우', '작성', '얕', '끝내준다', '겠다는', '끓', '떤', '92', '나눠', '특정', '요기', '다세포', '경력', '인사', '젬', '140', '김소연', '심함', '같잖', '단조', '쿵푸팬더', '입체', '킹콩', '퍼센트', '박진영', '에스', '123', '뵈', '씻', '그럴듯한', '리얼리즘', '루비', '울부짖', '크크', '윤재', '보낸', '출시', '윤발', '시덥잖', '대다수', '인내력', '해봐도', '쇼킹', '저지른', '쫙', '삭', '플러스', '파탄', '혼났', '여태껏', '심금', '기타노', '반점', '달려가', '비열', '도배', '지울', '지못미', '칙칙', '울린', '엥', '배워라', '개병', '아메리카', '명절', 'k', '연출자', '다물', '주저', '-;', '성질', '넘어서', '무릎', '색히', '맛보', '흔해빠진', '신발', '나무랄', '..;', '고만', '박현지', '무미건조', '준다고', '그래야', '돌아다니', '빠짐없이', '눈앞', '번방', '잘생김', '와인', '줄께', '~?', '망쳐놨', '딸아이', '극도', '애비', '소린지', '사귀', '세심', '알려진', '간접', '먹히', '증오', '머리카락', '으휴', '뺀', '실천', '떠날', '길거리', '대처', '편향', '슬플', '불리', '조한선', '앨리스', '~~~~~~~~', '릴리', '포커스', '치부', '따른', '겁나게', '맞춰서', '모지', '꼴리', '~~!!!', '수영', '33', '바꿔서', '연설', '화이트', '프리퀄', '손잡', '시대상', '헤헤', '위협', '맷', '콜', '.-_-', '뜰', '빌린', '인시디어스', '강소라', '키워', '35', '디지', '대답', '진다는', '갈망', '혈압', '이익', '성시경', '남상미', '김윤석', '불패', '관찰', '마른', '지친', '달인', '버려야', '부패', '甲', '뻔할', '왠만해서', '복귀', '찬다', '눈부신', '핫', '교양', '그리움', '뵙', '절실', '희생자', '사업', '안쓰럽', '특별히', '민간인', '그토록', '통제', '지향', '설득', '으루', '구식', '상품', '94', '화보', '짜장면', '편성', '축복', '결승전', '묵', '조니', '사악', '수학', '제시카알바', 'up', '모음', '천하', '개척', 'be', '알렉스', '입력', '혼합', '보냈', '명감독', '봣던', '종결', '당당히', '명장', '났었', '무죄', '떠서', '괴기', '혜', '시네마', '기영화', '댜', '뼈', '을라나', '마법사', '거참', '스나입스', '해져서', '매드', '헝', '깡', '자국', \".'\", '눈알', '성폭행', '잔상', '아랫', '히스레저', '떡칠', '연구', '비우', '누드', '하찮', '나래', '샌들러', '으악', '아하', '밸런스', '거늘', '아따', '모니카', '아아아', '조지클루니', '오래간만', '황', '워크', '마스크', '남녀노소', '댄', '으므로', '캠프', '반하', '스머프', 'SBS', '호주', '할려는', 'ㅇㅇㅇ', '레고', '오션스', '세금', '리들리', '비평', '망가진', '乃', '이룬', '그리스', '꾸역꾸역', '수식어', '이서진', '조장', '떨어질', '박한별', '송윤아', '비슷비슷', '발가락', '직설', '봉전', '콘', '해줌', '제자', '식당', '무시무시', '유아인', '어떨', '현지', '참내', '골라', '오점', '분열', '보라', '매튜', '표지', '스팅', '학예회', '짖', '아포칼립토', '숫자', '킹왕짱', '어염', '지상주의', '곤란', '히스', '허망', '피부', '박하', '베를린', '합격', '달라지', '송새벽', '은유', '총기', '운영', '건전', '날아가', '미지근', '................', '절친', '스토커', '베토벤', '터진', '즈음', '윤은혜', '!^^', '요가', '흘려', '깐', '다지', '청순', '클로즈업', '소심', '올바른', '85', '”', '이빨', '다며', '산다는', '에리카', '우디앨런', '꽃미남', '하모니', '짜맞추', '지날수록', '영역', '반쪽', '블러드', '하하하하', '찐한', '쌍벽', '가르침', '다짐', '춘', '눈높이', '중점', '맛없', '라는데', '특색', '굴', '다녀왔', '..)', '괴상', '오정세', '긴급조치', '현우', '주식', 'boring', '쪼금', '고대', '풀어냈', '싸인', '비리', '표출', '가위', '.;;;', '밀려', '진가', '스페이스', '장황', '판타스틱', '대견', '신랑', '분류', '현명', '부천', '가르치', '여지껏', '토하', '재판', '패밀리', '은행', '닭살', '샤를리즈', '침략', '!!!!!!!!!!!', '레즈', '포스트', '훌', '더구만', '사이트', '로썬', '꼬집', '후편', '영애', '련', 'SM', '그날', '노아', '댔', '말코비치', '찜', '이미숙', '붕가', '왤캐', '투더', '유부녀', '기막힌', '틀린', '핡', '틴', '준수', '구로사와', '발정', '고추', '명백', '박시환', '문자', '모건', '어땠을까', '코너', '쌀', '1997', '여부', '우베볼', '시켜라', '두근거리', '압', '몸짓', '쇠', '...;;', '이라고', '샤워', '저격', '비긴', '쯔', '리쉬', '유오', '누워서', '얼음', '폰부스', '지겨움', '이집트', '류덕환', '기만', '미사일', '봇', '예감', '늘어진다', '날라', '감우성', '게리올드만', '냉소', '들려', '누리', '주네', '떴', '킴', '강철', '무한도전', '재수', '이쁜데', '한반도', '을수록', '레벨', '김아중', '맥락', '이지아', '면은', '기초', '냉혹', '직장인', '에바그린', '끌어내', '내릴', '김우빈', '아름다우', '생길', '복싱', '애요', '홈즈', '권장', '두세', '퍼포먼스', '에라', '워쇼스키', '뱉', '막막', '럭', '인하', '가물가물', '정복', '도서관', '야겠다', '트리', '쟤', '파이널', '다더니', '애서', '목숨걸', '갚', '똑', '소유진', '세우', '워스트', '1998', '김수미', '동양인', '모시', '빚', '제라드', '디젤', '뇬', '산드라', '토요일', '꾀', '석', '강남', '초중', '장엄', '잡탕', '세용', '해적', '웡', '을껄', '45', '데려다가', '통찰', '89', '징징대', '추상', '엎', '민호', '거침없이', '애쓴', '악한', '뜻깊', '아파서', '시한부', '걔', '대왕', '벨라', '짝짝', '꼬이', '토크', '기능', '으으', '캡', '이안', '치매', '안젤리나', '광대', '견줄', '함축', '묘', '연대기', '클레이', '눌러', '소수자', '세이', '밀라요보비치', '데기', '정이건', '개구리', '허락', '저럴', '멎', '유희', '계급', '*^^*', '화살', '허리', '몽골', '오래가', '마돈나', '브라질', '삼촌', '상관없이', '투입', '반항', '쟁쟁', '문소리', '오컬트', '테일러', '세븐', '댄싱', '공군', '땡기', '박진희', '종편', '납', '뿌려', '바래요', '파이트', '노란', '올려야', '명분', '윌리엄', '84', '쿼터', '빽', '레이스', '변함없', '워싱턴', '장예모', '^^~', '자니', '월화', '비웃', '돌아갈', '오가', '경치', '안함', '달래', '퇴폐', '보람', '자연스레', '휴지', '격투기', '아파트', '싱크', '쪄', '탱크', '파고드', '이동진', '바르', '내주', '받쳐', '닉', '여럿', '갤', '과분', '돌프', '고아라', 'ever', '총싸움', '배틀', '아름다워서', '하트', '어우러져', '에잇', '해집니다', '바이블', '비비', '라네', '00', '권투', '뛴다', '음산', '교통사고', '배트', '소위', '고른', '써본다', '이보영', '김대희', '허허허', '흔치', '이런지', '오열', '꺼버린', '톰하디', '버디', '뚜', '당위', '누굴', '일리', '강원도', '다이', '산뜻', '!♥', '내인생의', '싱거운', '차갑', '나나', '단면', '믹스', '면상', '순정', '강수연', '월요일', '줄게', '류승완', '남북', '앤드류', '사촌', '페이스', '다라', '줄이', '돌아간', '장교', '민국', '카메오', '괴로웠', '마술', '싸대', '뷰', '낮춰야', '처벌', '배틀로얄', '국회의원', '드러운', '나위', '루크', '싯', '김윤진', '싸웠', '들어와', '에여', '중독자', '펑', '감격', '조안', '건너', '라운드', '토미', '박시후', '사물', '김지수', '신다', '아나운서', '감출', '무덤', '바라본', '이이', '사바', '댄서', '취해', '인줄', '뭍', '정식', '영호', '바쁜', '놔두', '방송국', '토비', '을래', '이해력', '들여서', '이요원', '강용석', '약함', '대요', '#', '!!!!!!!!!', '비노쉬', '개고생', '탐정', '나락', '감회', '대세', '서영희', '닌', '전무후무', '선한', '당께', '자칭', '배신감', '퍼시픽', '전두환', '화재', '견딜', '바디', '패틴슨', '사토시', '탄압', '버스터', '일치', '스마트폰', '좃', '여학생', '포레스트', '서유기', '총각', '호모', '으실', '바꼈', '유전자', '올라', '미생', '보태', '챙피', '세세', '박력', '식구', '할라고', '드팔마', '이모', '초대', '그럴싸', '고조', '시켜야', '진전', '레즈비언', '이곳', '입술', '생생히', '역동', '따라잡', '개똥철학', '영점', '쌔', '그루', '이루어진', '수천', '매료', '더러움', '크로우', '판사', '심판', '고파', '이경영', '꼬꼬마', '쨩', '영리', '문채원', '스틱', '이기심', '소시', '정무문', '남길', '낚일', 'what', '필립', '지니', '생전', '체인지', '넘버', '리플', '막말', '할리', '고마', '묻히', '안소니', '금성무', '노고', '부처', '요거', '이태임', '쪽팔리', '뛰어다니', '크기', '무심코', '주구장창', '옮겨', '루카스', '프리', '정준영', '무관', '입맛', '귀여우', '김지운', '필모그래피', '뽀뽀', '만지', '고소', '주의자', '미련', '불신', '의의', '볼걸', '보듬', '썬', '곽부성', '좀비', '주변인', '흥겹', '들어감', '수도', '탐험', '믹', '부드러운', '아오이유우', '천상', '징징', '악행', '각외', '오드리', '따라올', '벌이', '연발', '제국주의', '승자', '아이덴티티', '차려', 'am', '큰일', '♡♡♡', '노린', 'Best', '한층', '괴롭', '해당', '한대', '거칠', '방대', '..................', '저냥', '쇼크', '꼬박꼬박', '말론', 'sm', '챔피언', '가득찬', '깨지', '평온', '수퍼', '스티', '러블리', '한낱', '손꼽', '올인', '연평해전', '게리', '합작', '위선', '파이터', '김대중', '공평', '우스꽝', '강의', 'GOOD', '경고', '제격', '만드신', '개재', '가필드', '발성', '신지', '나비효과', '이내', '는데도', '달린다', '될까요', '탱', '해내', '읎', ',..', 'top', '기다림', 'ㅠㅠㅠㅠㅠㅠ', '흘린', '1970', '타격', '쭈욱', '유코', '.!!!', '안중근', '반가운', '퓨전', '출동', '방어', '껍데기', '역경', '힘든데', '싸가지', '쵸', '거미', '욜', '생일', '죵', '뺨', '쏟아지', '뒷맛', '정극', '둔갑', '두려워', '할매', '소금', '담당', '짱깨', '넘침', '자신감', '라이토', '스펙터클', '추모', '주리', 'p', '|', '달라진', '꺼지', '들어맞', '고은', '만든다고', '가져야', '무당', '벗어난', '펀치', '연속극', '줄리아로버츠', '베테랑', '한창', '검술', '흘러간다', '최신', '리브스', 'for', '끌려', '밀려온다', '코끼리', '느껴집니다', '홍경인', '스승', '효과음', '국민학교', '나오코', '낚시질', '쨋', '충돌', '소림사', '돠', '꾸미', '선교', '무력', '이겼', '착오', '바둑', '최곤데', '연예', '널리', '도리', '브레이크', 'not', 'that', '야마카시', '내세운', '식겁', '다던', '오버액션', '키아누리브스', '클릭', '유죄', '출', '미지', '.(', '도발', '먹방', '긴데', '느껴진', '볼래', '→', '비운', '발하', '다람쥐', '티켓', '세밀', '기념비', '약했', '랭', '힝', '현대판', '어따', '렸다', '더락', '경향', '올드', '수녀', '수년', '알포인트', '지켜야', '해맑', '티라노', 'Z', '미미', '나잇', '어우러지', '옮기', '지나쳤', '절실히', '눈꼽', '시궁창', '충실하', '안전', '아닐까요', '명탐정', '로우', '블럭', '워라', '가두', '라디오', '전원', '빙의', '거꾸로', '유동근', '건드리', '회자', '운다', '팬텀', '링컨', '언젠간', '스티븐시걸', '대회', '코스트너', '기세', '할로윈', '벌리', '테마', '숨기', '울궈먹', '트라우마', '허점', '주걸륜', '코폴라', '긴말', '재희', '요한슨', '김동완', '구속', '기름', '램', '바꿔야', '미니언', '그은', '삽입곡', '크로넨버그', '극우', '성냥팔이', '재림', '무서워하', '데려가', '절벽', '참패', '홍련', '리오', '수긍', '밑바닥', '부러웠', '수행', '동포', '보여요', '생긴다', '원본', '리더', '샤론', '회수', '한들', '결여', '바랄', '어리버리', '진영', '뤽', '내심', 'v', '불문', '끊이', '깬다', '잼따', '틸', '배끼', '느라고', '초저', '>_<', '리언', '띄우', '순서', '설계', '애교', '눈시울', '느려', '졸이', '바이올린', '황정음', '정경호', '자이언트', '끝장', '해바라기', '정주', '정직', 'But', '일진', '덴젤워싱턴', '툭', '바쁘', '서영', '화성', '요세', '호연', '대륙', '소망', '비스', 'pd', '역겨워', '음란', '노릇', 'BGM', '개오', '비틀즈', '태극기', '자란', '돌고래', '32', '하녀', '네이션', '감추', '날개', '모던', '코끝', 'are', '과한', '투명', '삘', '911', '걸림', '귓가', '오후', '악령', '써니', '하루카', '극히', '질려', '괘', '끈끈', '해병대', '본래', '이제훈', '브란도', '김고은', '정수', '헨리', '처지', '몰르', '방지', '우마서먼', '꺄', '재즈', '폐인', '제타', '파란만장', '저걸', '고리타분', '간결', '마더', 'ㄲ', '애써', '지망', '오감', '내부', '쫄딱', '씽', '보네', '친근', '여백', \"..'\", '에밀리', '프랭크', '컬러', '남아도', '아닙니까', '올리비아', '래디', '한류', '매체', '못난이', '04', '여성부', '천지', '덧', '운전', '입양', '뒷모습', '애청자', '쳐라', '심플', '보낼', '닳', '시끄러워서', '큽니다', '고군분투', '빈틈', '매길', '염정아', '홍석천', '모였', '니모', '당첨', '흙', '태권브이', '스트립', '으로부터', '메가', '케이온', '유방', '라디오스타', '튀어나오', '공략', '권총', '바스코', '키이라', '머금', ',.', '은희', '팜', '!!!!!!!!!!!!!', '뚱뚱', '참가자', '우물', '빼앗', '가발', '제대', '버킷', '개그콘서트', '살해', '정은지', '빔', '태어났', '재기', '온전히', '아이언', '점차', '친척', '살아온', '갈팡질팡', '숨막히', '빙빙', '생동감', '사치', '아이템', '능청', '인대', '솜', '공자', '+_+', '부러', '문란', '파트', '아씨', '유투', '밤새', 'P', '룸', '시내', 'H', '로드리게즈', '넘사벽', '체제', '드릴게요', '하느님', '수능', '성욕', '미덕', '균', '넘버원', 'or', '홍어', '슈퍼스타', '템포', '귀여니', '오픈', '뉘', '놓쳤', '뺐', '지지부진', '컬', '외설', '물중', '쓸모없', '맹목', '훔치', '시초', '편협', '찰리채플린', '카페', '떨어뜨린다', '요청', '휴대폰', '말년', '더구나', '돌릴', '카이', '임요환', '모른다는', '썩어빠진', '교묘', '신랄', '별생각', '쪙', '꼬리', '천안', '여긴', '뒷이야기', '번지르르', '임금', '멜로디', '클로이', '데이즈', '발킬머', '소중히', '존트라볼타', '나타낸', '순식간', '아까우', '맬', '암것도', '!!!!!!!!!!', '차려라', '범벅', '죽여도', '존슨', '댄다', '소릴', '멍하니', '몰라요', '프렌즈', '정보석', '몹시', '우산', '스콜세지', '평등', '트루', '난장판', '숨죽이', 'V', '양념', '바뀔', '남여', '겠어요', '치우', '런지', '일부분', '패닝', '애뜻', '도망치', '통속', 'bbbb', '샤이니', '오락물', '최종', '베꼈', '불렀', '코미', '48', 'blog', '동성', '경상도', '승질', '소지', 'on', '일류', '82', '카펜터', '모조리', '갸', '크리스찬베일', '하울', '밥맛', '남겨진', '최상', '이명박', '과자', '히로', '특공대', '허영', '느림', '빙자', '전우치', '은밀', '웰', '얽히', '이소연', '르노', '비춰', '따라간다', '엘리베이터', '비장', '이시영', '장학우', '조마조마', '투니', '니라', '우마', '했어야', '토토', '미친놈', '장화', '제이콥', '삼각', '놈놈놈', '벗어날', '희열', '사탄', '클리프', '다이빙', '사뭇', '스미스', ';;;;;', '얼간이', '요괴', '증언', '어스', '무협물', '이지나', '판빙빙', '...............', '마미', '피어스', '아담스', '96', '컨대', '이하늬', '속터지', '다네요', '오염', '최시원', '중국어', '모자르', '백제', '폭동', '옆집', '할려면', '79', '정녕', '줄까', '불타', '놀라웠', '짠해', '갇힌', '대장', '습격', '바란', '대인', '닮음', '풍광', '이불', '150', '.-_-;;', '십니까', '주부', '흐믓', '더이다', '깎아내리', '생산', '복장', '가져', 'REC', '턱', '디지털', '김병만', '\\\\', '시네', '알아듣', '87', '내지', '굵', '돌이켜', '펼쳐', '정교', '소송', '넘길', '렌', '오마이갓', '핑크', '때묻', '회차', '려구요', '알콩달콩', '훔쳐', '예쁘다', '유재석', '마력', '사납', '독수리', '올립니다', '사기극', '김정화', '벌려', '브레드', '어려워', '자다', '그리도', '대머리', '푸하하', '시대극', '육', '한잔', '유오성', '떨어집니다', '심보', '만드셨', '종족', '레인져', '바람둥이', '한판', '기생', '찾아왔', '조크', '나탈리', '던질', '구해서', '했으며', '어려', '카지노', '표방', '훗날', '고창석', '스텔론', '욕했', '역겨울', '메이드', '박혀', '나선', '칼싸움', '될수록', '퍽', '먹여', '알아주', '어렴풋이', '바위', '반미', '외노', '네버', '레미제라블', '겹치', '비호', '밀도', '장식', '뺨치', '근친', '페넬로페', '잣대', '유사라', '찰스', '소란', '숙제', '올까', '꼈', '멕시코', '..??', '남한', '각종', '갱스터', '보트', '오광록', '해리슨포드', '주어진', '발칙', '결핍', '심야', '이래야', '차례', '왔다갔다', '터져서', '붓', 'we', '편승', '추운', '기쁘', '줄줄', '엑스파일', '외전', '핀처', '-_-;;;', '임무', '마다가스카', '조이', '톡톡', '응징', '안달', '놀아나', '서리', '윤제문', '툭하면', '들어간다', '민중', '불법체류', '미아', '금물', '햇살', '모녀', '조디포스터', '뜻밖', '센세이션', '일으킨', '개답', '걸쳐', '감수성', '유괴', '툭툭', '지아', '박장대소', '느껴져', '대우', '최루성', '자시', '어르신', '잔치', '~~!!!!', '통틀', '마이클베이', '모텔', '퀴즈', '한채영', '니콜라스케이지', '나오미', '복습', '개신교', '돌려서', '포켓몬스터', 'Ost', '뷁', '잡다', '죽도', '000', '강해서', '비스트', '약점', '해용', '>.<', '고도', '까요', '볼륨', '한지민', '번개', '사족', '긁', '엘리트', '지현우', '엘리자베스', '배워야', '뻣뻣', '욧', '어떤지', '듬뿍', '쩍', '추기경', '타리', '、', '가면', '료코', '들이', '교체', '김정훈', '얍', '가방', '할께', '끝맺', '지하', '라이즈', '반데라스', '심취', '품달', '뿌린', '횡설수설', '성장통', '까말까', '구상', '스웨덴', '면모', '장르노', '비로소', '78', '좋아', '봣으면', '참다참다', '장판', '흉내내', '타고난', '야호', '공공', '러셀크로우', '화났', '책임감', '궁극', '자부', '결심', '덤덤', '서구', '갈증', '수박', '더운', '유학', '결정판', '눈깔', '배급', '버무린', '오달수', '1995', '고평', '때릴', '검프', '녹아들', '해서인지', '썸머', '1999', '노트북', '사고방식', '.~', '김민정', '넘겼', '달성', '도시락', '전직', '슬랩스틱', '생명력', 'bbb', 'www', '사리', '일색', '조진웅', '레디', '갔다왔', '첩혈쌍웅', '시갈', '점줄', '통틀어', '껴서', '은혜', '난도질', '오즈', '규모', '의구심', '팔레스타인', '로지', '뒀', 'ㅇㅋ', '재이', '슬립', '상기', '밋기', '라푼젤', '탄식', '광수', '김유정', 'mc', '벤쳐', '?????', '김청기', '저학년', '공백', '우디알렌', '음성', '간절히', '돌아간다', '요정', '내게는', '건축', '사운드트랙', '안구', '뒤돌아보', '풉', '잔다', '왕정', '모자랄', '변했', '출품', '날까', '독보', '음미', '분단', '발달', '루피', '이수정', '김원효', '기독교인', '분야', '방화', '풀어놓', '기관', '차예련', '능력자', '베이비', '유년', '사태', '윈', '짬', '아려', '예체능', '인제', '브로스넌', '예외', '헤매', '이빠이', '귀여운데', '68', '작자', '달렸', '갈피', '터널', '쫓기', '아멘', '한단', '구지성', '졸림', '류급', '바가지', '올리버', '진중', '됐었', '꽥꽥', '하비에르', '홍콩식', '내려놓', '마당', '생소', '마비', '망설이', '박재정', '강풀', '아싸', '스카이', '건졌', '희진', '파고들', '이스트', '지겨워서', '꺼져라', '83', '코리아', '포맷', '러쉬', '수수', 'OUT', '기교', '대체로', '고치', '따질', '모래', '멕', '어쩌다가', '전적', '담임', '심은경', '이뭐병', '비서', '검색어', '우주선', '주름', '시원찮', '발매', '노민우', '흡혈귀', '턱없이', '아름다울', '다행히', '샵', '시크릿', '워커', '케빈코스트너', '순정만화', '김지영', '묻힌', '것다', '서툰', '드류', '불친절', '맞췄', '글로리아', '서동요', '어드벤처', '표면', '섭', '갑시다', '앙상블', '스턴트맨', '치도', '올릴', '최선정', '이룰', '바람직', '박철수', '사이프리드', '컴백', '메마른', '선장', '옵니다', '관능', '였음을', '곽경택', '떨어트리', '생물', '절규', '레지던트', '낭패', '베이', '포로', '참된', '샤크', '인공', '박하선', '피터팬', '출근', '비틀', '서늘', '박상민', '경주', '요번', '지만서도', '안다고', '제멋대로', '문제작', '쭉쭉', '이색', '뒤떨어지', '연애시대', '견뎌', '어느덧', '아껴', '아픕니다', '위상', '내기', '신자', '표한다', '고갈', '김두한', '이르', '힙', '늠', '교', '키는', '상위', '취재', '생방', '정해', '과감히', '망설임', '걸친', '아플', '백진희', '핫세', '정려원', '갑툭튀', '구마', '김인권', '로울', '코넬리', '인천', '도착', '행오버', '다분', '퉷', '갑작스런', '정우', '천포', '！', '돈다', '디자이너', '조미료', '모세', '갇혀', '무민', '아이큐', '업적', '웁', '오마', '성준', '고은아', '영회', '깨어나', '이끄', '카모', '발광', '골라서', '영웅주의', '김영철', '히히', '쉐프', '윤진서', '포즈', '한가요', '현주소', '개도', '망칠', '페인', '공무원', '찌꺼기', '시스', '사세요', '켄', ';;;;;;', '아닐지', '먼데', 'J', '시놉시스', '관서', '겸', '기미', '다치', '우왕좌왕', 'You', '못생김', '개밥', '연개', '다른가', '공영', '초짜', '보성', '털리', 'km', '쑤', '시린', '다이애나', '메르스', '머저리', '찰', '교도소', '보도', '위력', 'ㅜㅡ', '리스', '빨리빨리', '가슴속', '조미', '스러', '김혜선', '미로', '1996', '~~♥', '아이스', '다투', '애니스톤', '헤드', '끌어가', '사색', '원주민', '대강', '상술', '찰지', '작품상', '만한', '부진', '마구잡이', '거라', '베트', '브리짓', '아부', '지미', '노이', '정조', '중복', '단독', '통화', '웃길려고', '연예계', '다스', '알콜', '.................', '빌딩', '편도', '요런', '미키루크', '공산당', '뿌듯', 'NO', '파커', '파헤치', '패트', '트릭', '용어', '만든지', '다죠', '두사부일체', '시인', '허슬', '』', '올렸', '55', '후딱', '소신', '얹', '버러지', '들어서', '화가', '김효진', '가격', '직시', '쏟아져', '돌아올', '궈', '거절', '담겨져', '산드라블록', '감탄사', '느그', '전용', '퇴화', '돌아볼', '정윤희', '돌파', '씁시다', '별것', '떠드', '개선', '찌푸려', '...................', '엄지원', '드럼', '폭행', '거린', '제주도', '어이없이', '덩달', '마감', '레슬링', '도쿄', '본연', '뇨', '아선', '강정', '기립', '스며드', '꼇다', '방가', '징기스칸', '그리울', '왜냐하면', '욘', '슬레이터', '맹탕', '엑스', '지점', '랄프', '나간다', '정준하', '주류', '영향력', '음울', '겉도', '돌아와', '매너', '슬픕니다', '관광', '취업', '빠이', '질색', '~♡', '역설', '꼽힐', '흐미', '토렌트', '조타', '홀딱', '은정', '여균동', '무분별', '겸손', '안겨준', '태민', '홍길동', '알렌', '볼께', '욕한', 'CSI', '눈길', '67', '개무', '막혀', '히트맨', '돌려주', '감자', '잭블랙', '태극', '풀어낼', '소림축구', '찾아봐도', '사라질', '험', '벅차', '자화상', '황진미', '웨폰', '몰두', 'r', '얼렁뚱땅', '군사', '소동', '거북이', '웹', '도신', '욥', '유료', '양자경', '횽', '세뇌', '아찔', '게이트', '그러면', '한꺼번에', '킨', '질러', '고든', '브이', '궁굼', '은지원', '비율', '매장', '이현우', '발끝', '주몽', '과욕', '메릴스트립', '지킬', '토리', '천정명', '불사신', '딕', '토대', '스러우', '볼게요', '허영심', '접속', '슥', '군국주의', '엘리', '감미', '와요', '자동', '자평', '전병', '저따위', '히든', '살아간다', '여장', '로라', '나니아', '남배우', '씌', '콱', '알모도바르', '더러워서', '구토', '냉철', '성실', '애국', '김사랑', '망정', '테니스', '망각', '목욕', '수호', '그만두', '급작', '장난아', '전라', '에로티시즘', '쌓인', '들어온다', '들어와서', '시답잖', '>.', '경이롭', '려던', '양쪽', '죽여야', '제압', '도현', '폄하', '찌질이', '3500', '한걸', '꺅', '만족감', '폐해', 'Very', '위해선', '애미', '세기말', '원수', '맞춤', '때린다', '오경', '인크레더블', '예상외', '토시오', '에어', '청각', '제길', '구현', '08', '긴지', '봐두', '아야세', '코치', '으니라고', '요샌', '흰', '얽힌', '서유리', '이주승', '괸', '로군', '즐거워', '이라니', '대안', '모모', '맴돌', '날아다니', '이요', '세나', '초창기', '이럴까', '원판', '우월', '득', '아티스트', '쯧쯧쯧', '여섯', '덕화', '늑대인간', '특촬물', '노홍철', '잰', '라다', '미셸', '어지간히', '~~~!!', '에디', '신작', '무사', '한껏', '~~~^^', '줬었', '소주', '박시연', '견', '더러워지', '찡해', '피우', '끈기', '휘날리', '회의', '각오', '질러대', '비겁', '애새끼', '제주', '매염방', '로미오', '니콜슨', '이순재', '괜한', '화딱지', '춤출', '떠났', '간혹', '대서', '하난', '마징가', '선라이즈', '스트리트', '조사', '피라미드', '한회', '시달리', '추하', '터무니없', '공사', '클루니', '보복', '힘겹', '저랬', '철철', 'time', '바꿨', '엽', '반말', '무서', '도달', '친일', '슈트', '난다고', '올슨', '캠코더', '쬐금', '비꼬', '로워', '던진', 'VOD', '햄버거', '구름', '굴욕', '홉킨스', '빼먹', '-)', '오징어', '열매', '옵', '닐', '십쇼', '상속자', '볼라', '조셉', '논할', '항', '깼', '질림', '애슐리', '가스', '호수', '사무엘', '베티', '리딕', '환생', '무진장', '추격자', '망한다는', '원장', '반짝', '시급', '청법', '모자람', '각본가', '불량', '일지라도', '시공간', '다름없', '트렁크', '줄여', '미침', '더냐', '컨텐츠', '맥아담스', '이국', '거니', '생각납니다', '메기', '올림', '31', '입담', '부들부들', '레니', '창고', '늑대소년', '앍', '과소평가', '리틀', '성별', '수목', '들이대', '깨우치', '편파', '바야', '악녀', '찌푸리', '부유', '동거', '감춰진', '체자', '성과', '레인', '의자', '--;;', '김재원', '동떨어진', '유기', '헤어진', '격정', '날씨', '연말', '라던지', '막힐', '참담', '신음', '은주', '사투', '블록', '제트', 'This', '쿵후', '메릴', '준다면', '마르', '보입니다', '하하하하하', '봐선', '더블', '내포', '헛점', '향하', '해답', '낄낄', '예기', '활극', '질린', '남다른', '기다려집니다', '울트라', '손해', '숫', '젝', '익살', '감금', 'g', '안나', '저그', '빨라서', '때려잡', '프리먼', '웟음', '꼭두각시', '가져가', '푸하하하', '그럴싸한', '비정', '대적', '살아오', '왼쪽', '유태인', '만끽', '불협화음', '수니', '계몽', '심혜진', '본전', '강자', '정상인', '해군', '호호', '지나갔', '들어온', '설교', '허황', '잘라서', '세자', '탁재훈', '괴짜', '값진', '현기증', '밀리', '베이더', '뮬란', '신사', '순결', '실물', '근디', '랜턴', '^^♥', '넉', '어다', '랙', '앨런', '찔끔', '용의자', '애국가', '댕기', '실질', '최상급', '아이폰', '종료', '마는', '~~~!!!', '주유소', '탐구', '중계', '수치심', '채웠', '지식인', '『', '스피릿', '어긋나', '나온다면', '정겨운', '이유리', '단조로운', '으리라', '현저히', '이편', '조쉬하트넷', '군상', '구닥다리', '리들리스콧', '아부지', '숨바꼭질', '81', '미확인', '고쳐', '새로웠', '때려치', '냐구', '민세연', '제자리', '트렌드', '이종혁', '김범', '동시대', '당근', '모차르트', '남이', '..♥', '멕라이언', '드려야', '상담', '반대편', '다라마', '조상', '바뀜', '중단', '저스틴', '리차드', '76', '밨는데', '그럴듯', '수없이', '캠', '사마', '이수경', '편의점', '빈다', '조디', '넘나드', '후퇴', '얌', '터트리', '됩니까', '예스', '단연코', '캔', '린즈링', '덩', '어눌', '당기', '미워할', '박은혜', '벅스', '유효', '줍시다', '실현', '어후', '장난질', '치가', '왕가', '전무', '유감', '그리워지', '딜레마', '최다니엘', '판도', '자의식', '버틀러', '포토', '맥그리거', '아우라', '지어다', '퉁', '오케이', '프랑스인', '시련', '끗', '이영애', '앨범', '셔도', '후진국', '나부랭이', '뷰티', '캐리비안', '수잔', '망한다', '펀', '더한', '하곤', '결정체', '알린', '만능', '버프', '에어컨', '심도', '의혹', '전도', '지효', '힐러리', '뺏기', '무렵', '해져요', '홍성진', '미디어', '음침', '넘어갈', '아쉬워서', '여하튼', '채시라', '논스톱', '박지성', '감도', '다이아몬드', '온주완', '에이미', '피로', '폭스', '예지원', '달라졌', '인간미', '겁내', '잡힌', '캐미', '개방', '반열', '해골', '소라', '하치', '백야', '백설', '도자기', '전역', '무덤덤', '적시', '대조', '피아니스트', '암만', '순박', '느낍니다', '도끼', '소모', '커다란', '렛', '뎌', '끝없이', '주도', '볼려면', '순전히', '끊임없', '친숙', '갓파더', '떨림', '마린', '메디컬', '브라보', '이청아', '노노', '기황후', '엿같', '테드', '재대로', '찾아본', '동반', '스킬', '욕정', '첫째', '확률', '송일국', '짚', '열혈', '남겨요', '건네', '교제', '반장', '땔', '1500', '잴', '투캅스', '불사조', '바르뎀', '집시', '찬성', '쉰', '이프로', '머물', '위장', '신물', '인주', '승승장구', '58', '할땐', '예쁜데', '만드세요', '신성', '올린다', '겐', '하희라', '특급', '이긴', '스쳐', '거저', '판타', '나눈', '배달', '최우식', '기네스', '명목', '바이', '친한', '횟수', '드러워', '천장지구', '김신', '추종', '자네', '낙원', '엇갈리', '돼야', '한지훈', '사지', '퍼레이드', '정규', '아마존', '오케스트라', '충이', '선조', '셜', '양익준', '분발', '제약', '다짜고짜', '빨려', '팝송', '안다면', '리처드', '홍수', '소식', '도입', '귀환', '이라크', '미끼', '아무거', 'xx', '사후', '.???', '김동욱', '김상경', '뽕짝', '66', '걸려서', '금고', '석양', '사탕', '경비', '상대방', '無', '랍', '민아', '미사', '허공', '주룩주룩', '정기', '셀', '남주의', '기질', '러니', '점프', '축제', '잡지', '노랑머리', '망가', '엣', '아앙', '대성', '띄워', '되새기', '무공', '래쉬', '연제욱', '다코타패닝', '눈썹', '퇴', '파란', '신중', '다잉', '부당', '드셨', '댕', '함량', '눈동자', '리플리', '며느리', '마나', '빚어낸', '번호', '황당무계', '김새론', 'one', '맥빠지', '모으', '나타났', '평면', '비해선', '지나갈', '굴곡', '.-', '김일성', '식사', '따라오', '화법', '세라', '신체', '가려', '오리엔탈리즘', ',,', '행성', '리턴즈', '당혹', '오스카', '변함', '망친다', '적도', '고대로', '세주', '박한', '세염', '민비', '카메론디아즈', '코스모스', '무상', '온데', '간데', '입증', '연출가', '개취', '힘찬', '간다고', '놀리', '혼신', '말다', '감방', '대명사', '발단', '이사', '쌓이', '곽', '방치', '유부남', '갑옷', '돌이', '탈북자', '피눈물', '냔', '가벼움', '터무니없이', '그레', '뼈저리', '계약', '더글라스', '없음', '잠재', '베송', '노년', '끝났어야', '인육', '이루어질', '기획사', '핏줄', '맞출', '청소년기', '지방', '라마', '토로', '트리오', '롤러코스터', '임상수', '행세', '신성일', '무법자', '겁난다', '부려', '다냐', '크레이지', '메가폰', '크림슨', '불평', '동전', '주의보', '줄리안', '청불', '즐겼', '연정훈', '독자', '이재은', '기르', '하악', '또래', '팬더', '쯔쯔', '문성근', '1992', '동남아', '키운', '이어질', '립니', '가출', '보인', '그간', '닉쿤', '토마토', '못된', '노래방', '램버트', '이벤트', '후손', '다이스', '내전', '아아아아', '티아라', '얄밉', '정자', '환호', '로빈윌리엄스', '헝거', '돌연변이', '중경삼림', '다가온', '기뻤', '박지윤', '쾌락', '조형기', '치즈', '코피', '으뜸', '오버랩', '너머', '색즉시공', '헷', '재산', '이어졌', '떳떳', '흠흠', '떠올라서', '티격태격', '찍히', '아랑', '배용준', '중립', '쬐끔', '마르소', '겅', '중사', '게시판', '신문', '죄인', '근친상간', '무자비', '맘마', '후세', '화남', '뿅', '동서양', '반공', '매니저', '려구', '패자', '서글픈', '퇴색', '명치', '예민', '유대인', '관해', '정정', '얼간', '나감', '콜린파렐', '퍼스', '상류층', '챔프', '할려', '휴일', '영화채널', '증인', '성취', '차안', '나와야지', '달기', '돌려도', '에이즈', '싸워', '못한다면', '지겨웠', '민감', '맘껏', '합쳐서', '망해라', '그레이', '해봄', '풍선', '움직인다', '미술관', '복고', '엄연히', '손자', '별명', '애국자', '멋진데', '온라인', '졌어요', '제니', '아낌없', '아자니', '전쟁터', '제프', '사만다', '근처', '통할', '그릴', 'KTX', '컴플렉스', '불태우', '똥파리', '화난', '유전', '자나', '좋아함', '읭', '샘레이미', '해명', '구사', '잠기', '의료', 'cctv', 'life', '故', '이영활', '외우', '과유불급', '배신자', 'do', '명확히', '희생양', '따먹', '물어내', '레슬리', '개입', '死', '자무시', '몰상식', '빨랑', 'great', '.♥', '스토', '아슬아슬', '한테서', '사형수', '스마트', '벤에플렉', '와일드', '은희수', '할거', '강함', '박준형', '나뉘', '급박', '도그', '급조', '하락세', '대원', '시시껄렁', '다움', '워낭', '스타크래프트', '****)', '이준익', '설렜', '멘토', '이장우', '이끈', '모리꼬네', '우울해', '문장', '로얄', '계절', '짜깁', '소이다', '구두', '노르웨이', '동해', '현혹', '센터', '티브이', '가량', '아비', '여잔데', '넴', '팔마', '할라', '숨소리', '스탠리', '그따위', '원생', '떠나보내', '요보비치', '트루먼', '드라큘라', '변할', '베스트셀러', '이래도', '시끄러워', '스턴트', '커트', '주군', '실태', 'bad', '어설펐', '련지', '사생활', '관통', '나문희', '왕창', '알아들', 'with', '블리', '본느', '터리', '떵', '을려나', '로또', '처녀', '휴우', '우연찮', 'BEST', '솔까말', '물든', '몰아가', '예언', '한눈', '으려면', '이즈', '노동', '줄라고', '틀렸', '처분', '어긋난', '위태', '일침', '소이현', '겉돌', '짤린', '메이퀸', '주입', '철수', '사살', '택', '나사', '박차', '선언', '투영', '관상', '하드코어', '규칙', '잊혀질', '들어야', '빛난다', '마음껏', '밥상', '조율', '제기', '라기에', '저하', '수염', 'So', '끝냈으면', '홀리', '삭막', '례', '배출', '다중', '그해', '에유', '인용', '껌', '룬드그렌', '나쁨', '남궁민', '게라도', '레이놀즈', '동굴', '드레스', '식민지', '오지랖', '지수', '수출', '그려지', '그물', '광신도', '콜라', '꾸며', '몰랐었', '안보', '인게', '무스', '수식', '선하', '으랴', '색채감', '갈구', '까대', '풍성', '횡포', '무거울', '콘택트', '왕년', '이창동', '시미', '막힌다', '가이', '임다', '이치', '디질', '랜드', '분열증', '볼지', '매즈', '마리오', '박선영', '비범', '로리타', '소고기', '헤어짐', 'ok', '희미', '태풍', '련다', '들마', '버틸', '갯', '혁', '경직', 'imdb', '퇴물', '부조', '사라짐', '바지', '끌려서', '곤충', '낙태', '아이콘', '론가', '냉장고', '숙면', '가져다준', '..-', '``', '거렸', '비견', '이광수', '눌', '불릴', '개차반', '전율', '휴잇', '앤더슨', '허접쓰레기', '이뤄', '더군다나', '맥클레인', '젓', '...!', '벼', '사실감', '거침없', '고사', '그레이스', '성당', '바티칸', '동작', 'ㅠㅠ진짜', '혼돈', '에단호크', '봐온', '...;;;', '진지희', '가정부', '이태리', '미치광이', '지로', '갔다온', '심리전', '발표', '상호', '다아', '츠마부키', '부질없', '매진', '안면', '흥하', '!~~', '래서', '혁신', '할껄', '트럭', '나눠서', '치장', '이덕화', '다웠', '주르륵', '강해', '대런', '사단', '피터잭슨', '막혀서', '공드리', '서편제', '91', '콜린스', '한다면서', 'know', '맴돈', '취소', '편한', '디게', '따라다니', '피자', '톡', '을라고', '약해서', '56', '스타쉽', '립', '비치', '바람난', '왔음', '>_', '처한', '렵니다', '세워', '괜춘', '신디', '들으면서', '점령', '연작', '경음', '이세상', '보드', '박철민', '자장가', '공권력', ';;;;;;;', '였으며', '시저', '올드만', '속물', '웨스', '통통', '똘똘', '술집', '꿀리', '농장', '팽', '은대', '갑작스럽', 'ㅑ', '이해도', 'world', '태권도', '신났', '57', '까이', '물리치', '초특급', '조로리', '외침', '정해진', '열중', '적용', '좌충우돌', '어짜피', '훤히', '데미', '당한다', '장이', '웟다', '트립', '쿄코', '소울', '글씨', '데로', '정체불명', '미어지', '용인', '만일', '어선', '지체', '커리어', 'TOP', 'IMDB', '플래툰', '발버둥', '흐릿', '넘어갔', '냉전', '고흐', '속상하', '첫날', '퇴마', '여요', '체가', '정색', '막연', '41', '날로', '여타', '흐흐', '마츠코', '짜린', '부감', '오래도록', '야이', '끔직', '프레임', '창의력', '설원', '칭하', '가려진', '꿀꿀', '학도', '국정원', '스틸러', '180', '콩콩', '내고', '소나기', '드러낸', 'cm', '이래저래', '인질극', '평행', '줄라', '라구요', '아파하', '헌데', '단절', '질까', '주다', '실버', '런던', '설레였', '된다니', '^^^', '차량', '미혼모', '비긴즈', '휴식', '야망', '께요', '육성', '모임', '라고요', '가혹', '실베스타', '마우스', '리치', '일수록', '오호', '이다해', '구타', '블레어', '110', '미라', '미쳐서', '수레', '덥', '랭보', '토나', '메카', '베이커', '부제', '할린', '누적', '사위', '♡♡♡♡', '준영', '조음', '86', '모이', '복수초', '물음표', '판정', 'out', '따라갈', '뻥튀기', '이영환', '골고루', '피닉스', '패배', '첨가', '꼬인', '정겹', '_-', '못난', '...^^', '쭈쭈', '드러난다', '블로그', '냉무', '내년', '합친', '적벽', '여잔', '수퍼맨', '위인', '까놓', '다뤘', '줄리', '해체', '밀어주', '늘어나', '축축', '근원', '각시탈', '징그러운', '장가휘', '실로'])"
            ]
          },
          "metadata": {},
          "execution_count": 60
        }
      ]
    },
    {
      "cell_type": "code",
      "source": [
        "word_to_index['<PAD>'] = 0\n",
        "word_to_index['<BOS>'] = 1\n",
        "word_to_index['<UNK>'] = 2"
      ],
      "metadata": {
        "id": "dcSGzXYAXcm1"
      },
      "execution_count": 63,
      "outputs": []
    },
    {
      "cell_type": "code",
      "source": [
        "index_to_word.keys()"
      ],
      "metadata": {
        "colab": {
          "base_uri": "https://localhost:8080/"
        },
        "id": "V9xRxGalWMg-",
        "outputId": "f9d08914-f2ed-4eb2-a987-3bd0f922d8fa"
      },
      "execution_count": 55,
      "outputs": [
        {
          "output_type": "execute_result",
          "data": {
            "text/plain": [
              "dict_keys([3, 4, 5, 6, 7, 8, 9, 10, 11, 12, 13, 14, 15, 16, 17, 18, 19, 20, 21, 22, 23, 24, 25, 26, 27, 28, 29, 30, 31, 32, 33, 34, 35, 36, 37, 38, 39, 40, 41, 42, 43, 44, 45, 46, 47, 48, 49, 50, 51, 52, 53, 54, 55, 56, 57, 58, 59, 60, 61, 62, 63, 64, 65, 66, 67, 68, 69, 70, 71, 72, 73, 74, 75, 76, 77, 78, 79, 80, 81, 82, 83, 84, 85, 86, 87, 88, 89, 90, 91, 92, 93, 94, 95, 96, 97, 98, 99, 100, 101, 102, 103, 104, 105, 106, 107, 108, 109, 110, 111, 112, 113, 114, 115, 116, 117, 118, 119, 120, 121, 122, 123, 124, 125, 126, 127, 128, 129, 130, 131, 132, 133, 134, 135, 136, 137, 138, 139, 140, 141, 142, 143, 144, 145, 146, 147, 148, 149, 150, 151, 152, 153, 154, 155, 156, 157, 158, 159, 160, 161, 162, 163, 164, 165, 166, 167, 168, 169, 170, 171, 172, 173, 174, 175, 176, 177, 178, 179, 180, 181, 182, 183, 184, 185, 186, 187, 188, 189, 190, 191, 192, 193, 194, 195, 196, 197, 198, 199, 200, 201, 202, 203, 204, 205, 206, 207, 208, 209, 210, 211, 212, 213, 214, 215, 216, 217, 218, 219, 220, 221, 222, 223, 224, 225, 226, 227, 228, 229, 230, 231, 232, 233, 234, 235, 236, 237, 238, 239, 240, 241, 242, 243, 244, 245, 246, 247, 248, 249, 250, 251, 252, 253, 254, 255, 256, 257, 258, 259, 260, 261, 262, 263, 264, 265, 266, 267, 268, 269, 270, 271, 272, 273, 274, 275, 276, 277, 278, 279, 280, 281, 282, 283, 284, 285, 286, 287, 288, 289, 290, 291, 292, 293, 294, 295, 296, 297, 298, 299, 300, 301, 302, 303, 304, 305, 306, 307, 308, 309, 310, 311, 312, 313, 314, 315, 316, 317, 318, 319, 320, 321, 322, 323, 324, 325, 326, 327, 328, 329, 330, 331, 332, 333, 334, 335, 336, 337, 338, 339, 340, 341, 342, 343, 344, 345, 346, 347, 348, 349, 350, 351, 352, 353, 354, 355, 356, 357, 358, 359, 360, 361, 362, 363, 364, 365, 366, 367, 368, 369, 370, 371, 372, 373, 374, 375, 376, 377, 378, 379, 380, 381, 382, 383, 384, 385, 386, 387, 388, 389, 390, 391, 392, 393, 394, 395, 396, 397, 398, 399, 400, 401, 402, 403, 404, 405, 406, 407, 408, 409, 410, 411, 412, 413, 414, 415, 416, 417, 418, 419, 420, 421, 422, 423, 424, 425, 426, 427, 428, 429, 430, 431, 432, 433, 434, 435, 436, 437, 438, 439, 440, 441, 442, 443, 444, 445, 446, 447, 448, 449, 450, 451, 452, 453, 454, 455, 456, 457, 458, 459, 460, 461, 462, 463, 464, 465, 466, 467, 468, 469, 470, 471, 472, 473, 474, 475, 476, 477, 478, 479, 480, 481, 482, 483, 484, 485, 486, 487, 488, 489, 490, 491, 492, 493, 494, 495, 496, 497, 498, 499, 500, 501, 502, 503, 504, 505, 506, 507, 508, 509, 510, 511, 512, 513, 514, 515, 516, 517, 518, 519, 520, 521, 522, 523, 524, 525, 526, 527, 528, 529, 530, 531, 532, 533, 534, 535, 536, 537, 538, 539, 540, 541, 542, 543, 544, 545, 546, 547, 548, 549, 550, 551, 552, 553, 554, 555, 556, 557, 558, 559, 560, 561, 562, 563, 564, 565, 566, 567, 568, 569, 570, 571, 572, 573, 574, 575, 576, 577, 578, 579, 580, 581, 582, 583, 584, 585, 586, 587, 588, 589, 590, 591, 592, 593, 594, 595, 596, 597, 598, 599, 600, 601, 602, 603, 604, 605, 606, 607, 608, 609, 610, 611, 612, 613, 614, 615, 616, 617, 618, 619, 620, 621, 622, 623, 624, 625, 626, 627, 628, 629, 630, 631, 632, 633, 634, 635, 636, 637, 638, 639, 640, 641, 642, 643, 644, 645, 646, 647, 648, 649, 650, 651, 652, 653, 654, 655, 656, 657, 658, 659, 660, 661, 662, 663, 664, 665, 666, 667, 668, 669, 670, 671, 672, 673, 674, 675, 676, 677, 678, 679, 680, 681, 682, 683, 684, 685, 686, 687, 688, 689, 690, 691, 692, 693, 694, 695, 696, 697, 698, 699, 700, 701, 702, 703, 704, 705, 706, 707, 708, 709, 710, 711, 712, 713, 714, 715, 716, 717, 718, 719, 720, 721, 722, 723, 724, 725, 726, 727, 728, 729, 730, 731, 732, 733, 734, 735, 736, 737, 738, 739, 740, 741, 742, 743, 744, 745, 746, 747, 748, 749, 750, 751, 752, 753, 754, 755, 756, 757, 758, 759, 760, 761, 762, 763, 764, 765, 766, 767, 768, 769, 770, 771, 772, 773, 774, 775, 776, 777, 778, 779, 780, 781, 782, 783, 784, 785, 786, 787, 788, 789, 790, 791, 792, 793, 794, 795, 796, 797, 798, 799, 800, 801, 802, 803, 804, 805, 806, 807, 808, 809, 810, 811, 812, 813, 814, 815, 816, 817, 818, 819, 820, 821, 822, 823, 824, 825, 826, 827, 828, 829, 830, 831, 832, 833, 834, 835, 836, 837, 838, 839, 840, 841, 842, 843, 844, 845, 846, 847, 848, 849, 850, 851, 852, 853, 854, 855, 856, 857, 858, 859, 860, 861, 862, 863, 864, 865, 866, 867, 868, 869, 870, 871, 872, 873, 874, 875, 876, 877, 878, 879, 880, 881, 882, 883, 884, 885, 886, 887, 888, 889, 890, 891, 892, 893, 894, 895, 896, 897, 898, 899, 900, 901, 902, 903, 904, 905, 906, 907, 908, 909, 910, 911, 912, 913, 914, 915, 916, 917, 918, 919, 920, 921, 922, 923, 924, 925, 926, 927, 928, 929, 930, 931, 932, 933, 934, 935, 936, 937, 938, 939, 940, 941, 942, 943, 944, 945, 946, 947, 948, 949, 950, 951, 952, 953, 954, 955, 956, 957, 958, 959, 960, 961, 962, 963, 964, 965, 966, 967, 968, 969, 970, 971, 972, 973, 974, 975, 976, 977, 978, 979, 980, 981, 982, 983, 984, 985, 986, 987, 988, 989, 990, 991, 992, 993, 994, 995, 996, 997, 998, 999, 1000, 1001, 1002, 1003, 1004, 1005, 1006, 1007, 1008, 1009, 1010, 1011, 1012, 1013, 1014, 1015, 1016, 1017, 1018, 1019, 1020, 1021, 1022, 1023, 1024, 1025, 1026, 1027, 1028, 1029, 1030, 1031, 1032, 1033, 1034, 1035, 1036, 1037, 1038, 1039, 1040, 1041, 1042, 1043, 1044, 1045, 1046, 1047, 1048, 1049, 1050, 1051, 1052, 1053, 1054, 1055, 1056, 1057, 1058, 1059, 1060, 1061, 1062, 1063, 1064, 1065, 1066, 1067, 1068, 1069, 1070, 1071, 1072, 1073, 1074, 1075, 1076, 1077, 1078, 1079, 1080, 1081, 1082, 1083, 1084, 1085, 1086, 1087, 1088, 1089, 1090, 1091, 1092, 1093, 1094, 1095, 1096, 1097, 1098, 1099, 1100, 1101, 1102, 1103, 1104, 1105, 1106, 1107, 1108, 1109, 1110, 1111, 1112, 1113, 1114, 1115, 1116, 1117, 1118, 1119, 1120, 1121, 1122, 1123, 1124, 1125, 1126, 1127, 1128, 1129, 1130, 1131, 1132, 1133, 1134, 1135, 1136, 1137, 1138, 1139, 1140, 1141, 1142, 1143, 1144, 1145, 1146, 1147, 1148, 1149, 1150, 1151, 1152, 1153, 1154, 1155, 1156, 1157, 1158, 1159, 1160, 1161, 1162, 1163, 1164, 1165, 1166, 1167, 1168, 1169, 1170, 1171, 1172, 1173, 1174, 1175, 1176, 1177, 1178, 1179, 1180, 1181, 1182, 1183, 1184, 1185, 1186, 1187, 1188, 1189, 1190, 1191, 1192, 1193, 1194, 1195, 1196, 1197, 1198, 1199, 1200, 1201, 1202, 1203, 1204, 1205, 1206, 1207, 1208, 1209, 1210, 1211, 1212, 1213, 1214, 1215, 1216, 1217, 1218, 1219, 1220, 1221, 1222, 1223, 1224, 1225, 1226, 1227, 1228, 1229, 1230, 1231, 1232, 1233, 1234, 1235, 1236, 1237, 1238, 1239, 1240, 1241, 1242, 1243, 1244, 1245, 1246, 1247, 1248, 1249, 1250, 1251, 1252, 1253, 1254, 1255, 1256, 1257, 1258, 1259, 1260, 1261, 1262, 1263, 1264, 1265, 1266, 1267, 1268, 1269, 1270, 1271, 1272, 1273, 1274, 1275, 1276, 1277, 1278, 1279, 1280, 1281, 1282, 1283, 1284, 1285, 1286, 1287, 1288, 1289, 1290, 1291, 1292, 1293, 1294, 1295, 1296, 1297, 1298, 1299, 1300, 1301, 1302, 1303, 1304, 1305, 1306, 1307, 1308, 1309, 1310, 1311, 1312, 1313, 1314, 1315, 1316, 1317, 1318, 1319, 1320, 1321, 1322, 1323, 1324, 1325, 1326, 1327, 1328, 1329, 1330, 1331, 1332, 1333, 1334, 1335, 1336, 1337, 1338, 1339, 1340, 1341, 1342, 1343, 1344, 1345, 1346, 1347, 1348, 1349, 1350, 1351, 1352, 1353, 1354, 1355, 1356, 1357, 1358, 1359, 1360, 1361, 1362, 1363, 1364, 1365, 1366, 1367, 1368, 1369, 1370, 1371, 1372, 1373, 1374, 1375, 1376, 1377, 1378, 1379, 1380, 1381, 1382, 1383, 1384, 1385, 1386, 1387, 1388, 1389, 1390, 1391, 1392, 1393, 1394, 1395, 1396, 1397, 1398, 1399, 1400, 1401, 1402, 1403, 1404, 1405, 1406, 1407, 1408, 1409, 1410, 1411, 1412, 1413, 1414, 1415, 1416, 1417, 1418, 1419, 1420, 1421, 1422, 1423, 1424, 1425, 1426, 1427, 1428, 1429, 1430, 1431, 1432, 1433, 1434, 1435, 1436, 1437, 1438, 1439, 1440, 1441, 1442, 1443, 1444, 1445, 1446, 1447, 1448, 1449, 1450, 1451, 1452, 1453, 1454, 1455, 1456, 1457, 1458, 1459, 1460, 1461, 1462, 1463, 1464, 1465, 1466, 1467, 1468, 1469, 1470, 1471, 1472, 1473, 1474, 1475, 1476, 1477, 1478, 1479, 1480, 1481, 1482, 1483, 1484, 1485, 1486, 1487, 1488, 1489, 1490, 1491, 1492, 1493, 1494, 1495, 1496, 1497, 1498, 1499, 1500, 1501, 1502, 1503, 1504, 1505, 1506, 1507, 1508, 1509, 1510, 1511, 1512, 1513, 1514, 1515, 1516, 1517, 1518, 1519, 1520, 1521, 1522, 1523, 1524, 1525, 1526, 1527, 1528, 1529, 1530, 1531, 1532, 1533, 1534, 1535, 1536, 1537, 1538, 1539, 1540, 1541, 1542, 1543, 1544, 1545, 1546, 1547, 1548, 1549, 1550, 1551, 1552, 1553, 1554, 1555, 1556, 1557, 1558, 1559, 1560, 1561, 1562, 1563, 1564, 1565, 1566, 1567, 1568, 1569, 1570, 1571, 1572, 1573, 1574, 1575, 1576, 1577, 1578, 1579, 1580, 1581, 1582, 1583, 1584, 1585, 1586, 1587, 1588, 1589, 1590, 1591, 1592, 1593, 1594, 1595, 1596, 1597, 1598, 1599, 1600, 1601, 1602, 1603, 1604, 1605, 1606, 1607, 1608, 1609, 1610, 1611, 1612, 1613, 1614, 1615, 1616, 1617, 1618, 1619, 1620, 1621, 1622, 1623, 1624, 1625, 1626, 1627, 1628, 1629, 1630, 1631, 1632, 1633, 1634, 1635, 1636, 1637, 1638, 1639, 1640, 1641, 1642, 1643, 1644, 1645, 1646, 1647, 1648, 1649, 1650, 1651, 1652, 1653, 1654, 1655, 1656, 1657, 1658, 1659, 1660, 1661, 1662, 1663, 1664, 1665, 1666, 1667, 1668, 1669, 1670, 1671, 1672, 1673, 1674, 1675, 1676, 1677, 1678, 1679, 1680, 1681, 1682, 1683, 1684, 1685, 1686, 1687, 1688, 1689, 1690, 1691, 1692, 1693, 1694, 1695, 1696, 1697, 1698, 1699, 1700, 1701, 1702, 1703, 1704, 1705, 1706, 1707, 1708, 1709, 1710, 1711, 1712, 1713, 1714, 1715, 1716, 1717, 1718, 1719, 1720, 1721, 1722, 1723, 1724, 1725, 1726, 1727, 1728, 1729, 1730, 1731, 1732, 1733, 1734, 1735, 1736, 1737, 1738, 1739, 1740, 1741, 1742, 1743, 1744, 1745, 1746, 1747, 1748, 1749, 1750, 1751, 1752, 1753, 1754, 1755, 1756, 1757, 1758, 1759, 1760, 1761, 1762, 1763, 1764, 1765, 1766, 1767, 1768, 1769, 1770, 1771, 1772, 1773, 1774, 1775, 1776, 1777, 1778, 1779, 1780, 1781, 1782, 1783, 1784, 1785, 1786, 1787, 1788, 1789, 1790, 1791, 1792, 1793, 1794, 1795, 1796, 1797, 1798, 1799, 1800, 1801, 1802, 1803, 1804, 1805, 1806, 1807, 1808, 1809, 1810, 1811, 1812, 1813, 1814, 1815, 1816, 1817, 1818, 1819, 1820, 1821, 1822, 1823, 1824, 1825, 1826, 1827, 1828, 1829, 1830, 1831, 1832, 1833, 1834, 1835, 1836, 1837, 1838, 1839, 1840, 1841, 1842, 1843, 1844, 1845, 1846, 1847, 1848, 1849, 1850, 1851, 1852, 1853, 1854, 1855, 1856, 1857, 1858, 1859, 1860, 1861, 1862, 1863, 1864, 1865, 1866, 1867, 1868, 1869, 1870, 1871, 1872, 1873, 1874, 1875, 1876, 1877, 1878, 1879, 1880, 1881, 1882, 1883, 1884, 1885, 1886, 1887, 1888, 1889, 1890, 1891, 1892, 1893, 1894, 1895, 1896, 1897, 1898, 1899, 1900, 1901, 1902, 1903, 1904, 1905, 1906, 1907, 1908, 1909, 1910, 1911, 1912, 1913, 1914, 1915, 1916, 1917, 1918, 1919, 1920, 1921, 1922, 1923, 1924, 1925, 1926, 1927, 1928, 1929, 1930, 1931, 1932, 1933, 1934, 1935, 1936, 1937, 1938, 1939, 1940, 1941, 1942, 1943, 1944, 1945, 1946, 1947, 1948, 1949, 1950, 1951, 1952, 1953, 1954, 1955, 1956, 1957, 1958, 1959, 1960, 1961, 1962, 1963, 1964, 1965, 1966, 1967, 1968, 1969, 1970, 1971, 1972, 1973, 1974, 1975, 1976, 1977, 1978, 1979, 1980, 1981, 1982, 1983, 1984, 1985, 1986, 1987, 1988, 1989, 1990, 1991, 1992, 1993, 1994, 1995, 1996, 1997, 1998, 1999, 2000, 2001, 2002, 2003, 2004, 2005, 2006, 2007, 2008, 2009, 2010, 2011, 2012, 2013, 2014, 2015, 2016, 2017, 2018, 2019, 2020, 2021, 2022, 2023, 2024, 2025, 2026, 2027, 2028, 2029, 2030, 2031, 2032, 2033, 2034, 2035, 2036, 2037, 2038, 2039, 2040, 2041, 2042, 2043, 2044, 2045, 2046, 2047, 2048, 2049, 2050, 2051, 2052, 2053, 2054, 2055, 2056, 2057, 2058, 2059, 2060, 2061, 2062, 2063, 2064, 2065, 2066, 2067, 2068, 2069, 2070, 2071, 2072, 2073, 2074, 2075, 2076, 2077, 2078, 2079, 2080, 2081, 2082, 2083, 2084, 2085, 2086, 2087, 2088, 2089, 2090, 2091, 2092, 2093, 2094, 2095, 2096, 2097, 2098, 2099, 2100, 2101, 2102, 2103, 2104, 2105, 2106, 2107, 2108, 2109, 2110, 2111, 2112, 2113, 2114, 2115, 2116, 2117, 2118, 2119, 2120, 2121, 2122, 2123, 2124, 2125, 2126, 2127, 2128, 2129, 2130, 2131, 2132, 2133, 2134, 2135, 2136, 2137, 2138, 2139, 2140, 2141, 2142, 2143, 2144, 2145, 2146, 2147, 2148, 2149, 2150, 2151, 2152, 2153, 2154, 2155, 2156, 2157, 2158, 2159, 2160, 2161, 2162, 2163, 2164, 2165, 2166, 2167, 2168, 2169, 2170, 2171, 2172, 2173, 2174, 2175, 2176, 2177, 2178, 2179, 2180, 2181, 2182, 2183, 2184, 2185, 2186, 2187, 2188, 2189, 2190, 2191, 2192, 2193, 2194, 2195, 2196, 2197, 2198, 2199, 2200, 2201, 2202, 2203, 2204, 2205, 2206, 2207, 2208, 2209, 2210, 2211, 2212, 2213, 2214, 2215, 2216, 2217, 2218, 2219, 2220, 2221, 2222, 2223, 2224, 2225, 2226, 2227, 2228, 2229, 2230, 2231, 2232, 2233, 2234, 2235, 2236, 2237, 2238, 2239, 2240, 2241, 2242, 2243, 2244, 2245, 2246, 2247, 2248, 2249, 2250, 2251, 2252, 2253, 2254, 2255, 2256, 2257, 2258, 2259, 2260, 2261, 2262, 2263, 2264, 2265, 2266, 2267, 2268, 2269, 2270, 2271, 2272, 2273, 2274, 2275, 2276, 2277, 2278, 2279, 2280, 2281, 2282, 2283, 2284, 2285, 2286, 2287, 2288, 2289, 2290, 2291, 2292, 2293, 2294, 2295, 2296, 2297, 2298, 2299, 2300, 2301, 2302, 2303, 2304, 2305, 2306, 2307, 2308, 2309, 2310, 2311, 2312, 2313, 2314, 2315, 2316, 2317, 2318, 2319, 2320, 2321, 2322, 2323, 2324, 2325, 2326, 2327, 2328, 2329, 2330, 2331, 2332, 2333, 2334, 2335, 2336, 2337, 2338, 2339, 2340, 2341, 2342, 2343, 2344, 2345, 2346, 2347, 2348, 2349, 2350, 2351, 2352, 2353, 2354, 2355, 2356, 2357, 2358, 2359, 2360, 2361, 2362, 2363, 2364, 2365, 2366, 2367, 2368, 2369, 2370, 2371, 2372, 2373, 2374, 2375, 2376, 2377, 2378, 2379, 2380, 2381, 2382, 2383, 2384, 2385, 2386, 2387, 2388, 2389, 2390, 2391, 2392, 2393, 2394, 2395, 2396, 2397, 2398, 2399, 2400, 2401, 2402, 2403, 2404, 2405, 2406, 2407, 2408, 2409, 2410, 2411, 2412, 2413, 2414, 2415, 2416, 2417, 2418, 2419, 2420, 2421, 2422, 2423, 2424, 2425, 2426, 2427, 2428, 2429, 2430, 2431, 2432, 2433, 2434, 2435, 2436, 2437, 2438, 2439, 2440, 2441, 2442, 2443, 2444, 2445, 2446, 2447, 2448, 2449, 2450, 2451, 2452, 2453, 2454, 2455, 2456, 2457, 2458, 2459, 2460, 2461, 2462, 2463, 2464, 2465, 2466, 2467, 2468, 2469, 2470, 2471, 2472, 2473, 2474, 2475, 2476, 2477, 2478, 2479, 2480, 2481, 2482, 2483, 2484, 2485, 2486, 2487, 2488, 2489, 2490, 2491, 2492, 2493, 2494, 2495, 2496, 2497, 2498, 2499, 2500, 2501, 2502, 2503, 2504, 2505, 2506, 2507, 2508, 2509, 2510, 2511, 2512, 2513, 2514, 2515, 2516, 2517, 2518, 2519, 2520, 2521, 2522, 2523, 2524, 2525, 2526, 2527, 2528, 2529, 2530, 2531, 2532, 2533, 2534, 2535, 2536, 2537, 2538, 2539, 2540, 2541, 2542, 2543, 2544, 2545, 2546, 2547, 2548, 2549, 2550, 2551, 2552, 2553, 2554, 2555, 2556, 2557, 2558, 2559, 2560, 2561, 2562, 2563, 2564, 2565, 2566, 2567, 2568, 2569, 2570, 2571, 2572, 2573, 2574, 2575, 2576, 2577, 2578, 2579, 2580, 2581, 2582, 2583, 2584, 2585, 2586, 2587, 2588, 2589, 2590, 2591, 2592, 2593, 2594, 2595, 2596, 2597, 2598, 2599, 2600, 2601, 2602, 2603, 2604, 2605, 2606, 2607, 2608, 2609, 2610, 2611, 2612, 2613, 2614, 2615, 2616, 2617, 2618, 2619, 2620, 2621, 2622, 2623, 2624, 2625, 2626, 2627, 2628, 2629, 2630, 2631, 2632, 2633, 2634, 2635, 2636, 2637, 2638, 2639, 2640, 2641, 2642, 2643, 2644, 2645, 2646, 2647, 2648, 2649, 2650, 2651, 2652, 2653, 2654, 2655, 2656, 2657, 2658, 2659, 2660, 2661, 2662, 2663, 2664, 2665, 2666, 2667, 2668, 2669, 2670, 2671, 2672, 2673, 2674, 2675, 2676, 2677, 2678, 2679, 2680, 2681, 2682, 2683, 2684, 2685, 2686, 2687, 2688, 2689, 2690, 2691, 2692, 2693, 2694, 2695, 2696, 2697, 2698, 2699, 2700, 2701, 2702, 2703, 2704, 2705, 2706, 2707, 2708, 2709, 2710, 2711, 2712, 2713, 2714, 2715, 2716, 2717, 2718, 2719, 2720, 2721, 2722, 2723, 2724, 2725, 2726, 2727, 2728, 2729, 2730, 2731, 2732, 2733, 2734, 2735, 2736, 2737, 2738, 2739, 2740, 2741, 2742, 2743, 2744, 2745, 2746, 2747, 2748, 2749, 2750, 2751, 2752, 2753, 2754, 2755, 2756, 2757, 2758, 2759, 2760, 2761, 2762, 2763, 2764, 2765, 2766, 2767, 2768, 2769, 2770, 2771, 2772, 2773, 2774, 2775, 2776, 2777, 2778, 2779, 2780, 2781, 2782, 2783, 2784, 2785, 2786, 2787, 2788, 2789, 2790, 2791, 2792, 2793, 2794, 2795, 2796, 2797, 2798, 2799, 2800, 2801, 2802, 2803, 2804, 2805, 2806, 2807, 2808, 2809, 2810, 2811, 2812, 2813, 2814, 2815, 2816, 2817, 2818, 2819, 2820, 2821, 2822, 2823, 2824, 2825, 2826, 2827, 2828, 2829, 2830, 2831, 2832, 2833, 2834, 2835, 2836, 2837, 2838, 2839, 2840, 2841, 2842, 2843, 2844, 2845, 2846, 2847, 2848, 2849, 2850, 2851, 2852, 2853, 2854, 2855, 2856, 2857, 2858, 2859, 2860, 2861, 2862, 2863, 2864, 2865, 2866, 2867, 2868, 2869, 2870, 2871, 2872, 2873, 2874, 2875, 2876, 2877, 2878, 2879, 2880, 2881, 2882, 2883, 2884, 2885, 2886, 2887, 2888, 2889, 2890, 2891, 2892, 2893, 2894, 2895, 2896, 2897, 2898, 2899, 2900, 2901, 2902, 2903, 2904, 2905, 2906, 2907, 2908, 2909, 2910, 2911, 2912, 2913, 2914, 2915, 2916, 2917, 2918, 2919, 2920, 2921, 2922, 2923, 2924, 2925, 2926, 2927, 2928, 2929, 2930, 2931, 2932, 2933, 2934, 2935, 2936, 2937, 2938, 2939, 2940, 2941, 2942, 2943, 2944, 2945, 2946, 2947, 2948, 2949, 2950, 2951, 2952, 2953, 2954, 2955, 2956, 2957, 2958, 2959, 2960, 2961, 2962, 2963, 2964, 2965, 2966, 2967, 2968, 2969, 2970, 2971, 2972, 2973, 2974, 2975, 2976, 2977, 2978, 2979, 2980, 2981, 2982, 2983, 2984, 2985, 2986, 2987, 2988, 2989, 2990, 2991, 2992, 2993, 2994, 2995, 2996, 2997, 2998, 2999, 3000, 3001, 3002, 3003, 3004, 3005, 3006, 3007, 3008, 3009, 3010, 3011, 3012, 3013, 3014, 3015, 3016, 3017, 3018, 3019, 3020, 3021, 3022, 3023, 3024, 3025, 3026, 3027, 3028, 3029, 3030, 3031, 3032, 3033, 3034, 3035, 3036, 3037, 3038, 3039, 3040, 3041, 3042, 3043, 3044, 3045, 3046, 3047, 3048, 3049, 3050, 3051, 3052, 3053, 3054, 3055, 3056, 3057, 3058, 3059, 3060, 3061, 3062, 3063, 3064, 3065, 3066, 3067, 3068, 3069, 3070, 3071, 3072, 3073, 3074, 3075, 3076, 3077, 3078, 3079, 3080, 3081, 3082, 3083, 3084, 3085, 3086, 3087, 3088, 3089, 3090, 3091, 3092, 3093, 3094, 3095, 3096, 3097, 3098, 3099, 3100, 3101, 3102, 3103, 3104, 3105, 3106, 3107, 3108, 3109, 3110, 3111, 3112, 3113, 3114, 3115, 3116, 3117, 3118, 3119, 3120, 3121, 3122, 3123, 3124, 3125, 3126, 3127, 3128, 3129, 3130, 3131, 3132, 3133, 3134, 3135, 3136, 3137, 3138, 3139, 3140, 3141, 3142, 3143, 3144, 3145, 3146, 3147, 3148, 3149, 3150, 3151, 3152, 3153, 3154, 3155, 3156, 3157, 3158, 3159, 3160, 3161, 3162, 3163, 3164, 3165, 3166, 3167, 3168, 3169, 3170, 3171, 3172, 3173, 3174, 3175, 3176, 3177, 3178, 3179, 3180, 3181, 3182, 3183, 3184, 3185, 3186, 3187, 3188, 3189, 3190, 3191, 3192, 3193, 3194, 3195, 3196, 3197, 3198, 3199, 3200, 3201, 3202, 3203, 3204, 3205, 3206, 3207, 3208, 3209, 3210, 3211, 3212, 3213, 3214, 3215, 3216, 3217, 3218, 3219, 3220, 3221, 3222, 3223, 3224, 3225, 3226, 3227, 3228, 3229, 3230, 3231, 3232, 3233, 3234, 3235, 3236, 3237, 3238, 3239, 3240, 3241, 3242, 3243, 3244, 3245, 3246, 3247, 3248, 3249, 3250, 3251, 3252, 3253, 3254, 3255, 3256, 3257, 3258, 3259, 3260, 3261, 3262, 3263, 3264, 3265, 3266, 3267, 3268, 3269, 3270, 3271, 3272, 3273, 3274, 3275, 3276, 3277, 3278, 3279, 3280, 3281, 3282, 3283, 3284, 3285, 3286, 3287, 3288, 3289, 3290, 3291, 3292, 3293, 3294, 3295, 3296, 3297, 3298, 3299, 3300, 3301, 3302, 3303, 3304, 3305, 3306, 3307, 3308, 3309, 3310, 3311, 3312, 3313, 3314, 3315, 3316, 3317, 3318, 3319, 3320, 3321, 3322, 3323, 3324, 3325, 3326, 3327, 3328, 3329, 3330, 3331, 3332, 3333, 3334, 3335, 3336, 3337, 3338, 3339, 3340, 3341, 3342, 3343, 3344, 3345, 3346, 3347, 3348, 3349, 3350, 3351, 3352, 3353, 3354, 3355, 3356, 3357, 3358, 3359, 3360, 3361, 3362, 3363, 3364, 3365, 3366, 3367, 3368, 3369, 3370, 3371, 3372, 3373, 3374, 3375, 3376, 3377, 3378, 3379, 3380, 3381, 3382, 3383, 3384, 3385, 3386, 3387, 3388, 3389, 3390, 3391, 3392, 3393, 3394, 3395, 3396, 3397, 3398, 3399, 3400, 3401, 3402, 3403, 3404, 3405, 3406, 3407, 3408, 3409, 3410, 3411, 3412, 3413, 3414, 3415, 3416, 3417, 3418, 3419, 3420, 3421, 3422, 3423, 3424, 3425, 3426, 3427, 3428, 3429, 3430, 3431, 3432, 3433, 3434, 3435, 3436, 3437, 3438, 3439, 3440, 3441, 3442, 3443, 3444, 3445, 3446, 3447, 3448, 3449, 3450, 3451, 3452, 3453, 3454, 3455, 3456, 3457, 3458, 3459, 3460, 3461, 3462, 3463, 3464, 3465, 3466, 3467, 3468, 3469, 3470, 3471, 3472, 3473, 3474, 3475, 3476, 3477, 3478, 3479, 3480, 3481, 3482, 3483, 3484, 3485, 3486, 3487, 3488, 3489, 3490, 3491, 3492, 3493, 3494, 3495, 3496, 3497, 3498, 3499, 3500, 3501, 3502, 3503, 3504, 3505, 3506, 3507, 3508, 3509, 3510, 3511, 3512, 3513, 3514, 3515, 3516, 3517, 3518, 3519, 3520, 3521, 3522, 3523, 3524, 3525, 3526, 3527, 3528, 3529, 3530, 3531, 3532, 3533, 3534, 3535, 3536, 3537, 3538, 3539, 3540, 3541, 3542, 3543, 3544, 3545, 3546, 3547, 3548, 3549, 3550, 3551, 3552, 3553, 3554, 3555, 3556, 3557, 3558, 3559, 3560, 3561, 3562, 3563, 3564, 3565, 3566, 3567, 3568, 3569, 3570, 3571, 3572, 3573, 3574, 3575, 3576, 3577, 3578, 3579, 3580, 3581, 3582, 3583, 3584, 3585, 3586, 3587, 3588, 3589, 3590, 3591, 3592, 3593, 3594, 3595, 3596, 3597, 3598, 3599, 3600, 3601, 3602, 3603, 3604, 3605, 3606, 3607, 3608, 3609, 3610, 3611, 3612, 3613, 3614, 3615, 3616, 3617, 3618, 3619, 3620, 3621, 3622, 3623, 3624, 3625, 3626, 3627, 3628, 3629, 3630, 3631, 3632, 3633, 3634, 3635, 3636, 3637, 3638, 3639, 3640, 3641, 3642, 3643, 3644, 3645, 3646, 3647, 3648, 3649, 3650, 3651, 3652, 3653, 3654, 3655, 3656, 3657, 3658, 3659, 3660, 3661, 3662, 3663, 3664, 3665, 3666, 3667, 3668, 3669, 3670, 3671, 3672, 3673, 3674, 3675, 3676, 3677, 3678, 3679, 3680, 3681, 3682, 3683, 3684, 3685, 3686, 3687, 3688, 3689, 3690, 3691, 3692, 3693, 3694, 3695, 3696, 3697, 3698, 3699, 3700, 3701, 3702, 3703, 3704, 3705, 3706, 3707, 3708, 3709, 3710, 3711, 3712, 3713, 3714, 3715, 3716, 3717, 3718, 3719, 3720, 3721, 3722, 3723, 3724, 3725, 3726, 3727, 3728, 3729, 3730, 3731, 3732, 3733, 3734, 3735, 3736, 3737, 3738, 3739, 3740, 3741, 3742, 3743, 3744, 3745, 3746, 3747, 3748, 3749, 3750, 3751, 3752, 3753, 3754, 3755, 3756, 3757, 3758, 3759, 3760, 3761, 3762, 3763, 3764, 3765, 3766, 3767, 3768, 3769, 3770, 3771, 3772, 3773, 3774, 3775, 3776, 3777, 3778, 3779, 3780, 3781, 3782, 3783, 3784, 3785, 3786, 3787, 3788, 3789, 3790, 3791, 3792, 3793, 3794, 3795, 3796, 3797, 3798, 3799, 3800, 3801, 3802, 3803, 3804, 3805, 3806, 3807, 3808, 3809, 3810, 3811, 3812, 3813, 3814, 3815, 3816, 3817, 3818, 3819, 3820, 3821, 3822, 3823, 3824, 3825, 3826, 3827, 3828, 3829, 3830, 3831, 3832, 3833, 3834, 3835, 3836, 3837, 3838, 3839, 3840, 3841, 3842, 3843, 3844, 3845, 3846, 3847, 3848, 3849, 3850, 3851, 3852, 3853, 3854, 3855, 3856, 3857, 3858, 3859, 3860, 3861, 3862, 3863, 3864, 3865, 3866, 3867, 3868, 3869, 3870, 3871, 3872, 3873, 3874, 3875, 3876, 3877, 3878, 3879, 3880, 3881, 3882, 3883, 3884, 3885, 3886, 3887, 3888, 3889, 3890, 3891, 3892, 3893, 3894, 3895, 3896, 3897, 3898, 3899, 3900, 3901, 3902, 3903, 3904, 3905, 3906, 3907, 3908, 3909, 3910, 3911, 3912, 3913, 3914, 3915, 3916, 3917, 3918, 3919, 3920, 3921, 3922, 3923, 3924, 3925, 3926, 3927, 3928, 3929, 3930, 3931, 3932, 3933, 3934, 3935, 3936, 3937, 3938, 3939, 3940, 3941, 3942, 3943, 3944, 3945, 3946, 3947, 3948, 3949, 3950, 3951, 3952, 3953, 3954, 3955, 3956, 3957, 3958, 3959, 3960, 3961, 3962, 3963, 3964, 3965, 3966, 3967, 3968, 3969, 3970, 3971, 3972, 3973, 3974, 3975, 3976, 3977, 3978, 3979, 3980, 3981, 3982, 3983, 3984, 3985, 3986, 3987, 3988, 3989, 3990, 3991, 3992, 3993, 3994, 3995, 3996, 3997, 3998, 3999, 4000, 4001, 4002, 4003, 4004, 4005, 4006, 4007, 4008, 4009, 4010, 4011, 4012, 4013, 4014, 4015, 4016, 4017, 4018, 4019, 4020, 4021, 4022, 4023, 4024, 4025, 4026, 4027, 4028, 4029, 4030, 4031, 4032, 4033, 4034, 4035, 4036, 4037, 4038, 4039, 4040, 4041, 4042, 4043, 4044, 4045, 4046, 4047, 4048, 4049, 4050, 4051, 4052, 4053, 4054, 4055, 4056, 4057, 4058, 4059, 4060, 4061, 4062, 4063, 4064, 4065, 4066, 4067, 4068, 4069, 4070, 4071, 4072, 4073, 4074, 4075, 4076, 4077, 4078, 4079, 4080, 4081, 4082, 4083, 4084, 4085, 4086, 4087, 4088, 4089, 4090, 4091, 4092, 4093, 4094, 4095, 4096, 4097, 4098, 4099, 4100, 4101, 4102, 4103, 4104, 4105, 4106, 4107, 4108, 4109, 4110, 4111, 4112, 4113, 4114, 4115, 4116, 4117, 4118, 4119, 4120, 4121, 4122, 4123, 4124, 4125, 4126, 4127, 4128, 4129, 4130, 4131, 4132, 4133, 4134, 4135, 4136, 4137, 4138, 4139, 4140, 4141, 4142, 4143, 4144, 4145, 4146, 4147, 4148, 4149, 4150, 4151, 4152, 4153, 4154, 4155, 4156, 4157, 4158, 4159, 4160, 4161, 4162, 4163, 4164, 4165, 4166, 4167, 4168, 4169, 4170, 4171, 4172, 4173, 4174, 4175, 4176, 4177, 4178, 4179, 4180, 4181, 4182, 4183, 4184, 4185, 4186, 4187, 4188, 4189, 4190, 4191, 4192, 4193, 4194, 4195, 4196, 4197, 4198, 4199, 4200, 4201, 4202, 4203, 4204, 4205, 4206, 4207, 4208, 4209, 4210, 4211, 4212, 4213, 4214, 4215, 4216, 4217, 4218, 4219, 4220, 4221, 4222, 4223, 4224, 4225, 4226, 4227, 4228, 4229, 4230, 4231, 4232, 4233, 4234, 4235, 4236, 4237, 4238, 4239, 4240, 4241, 4242, 4243, 4244, 4245, 4246, 4247, 4248, 4249, 4250, 4251, 4252, 4253, 4254, 4255, 4256, 4257, 4258, 4259, 4260, 4261, 4262, 4263, 4264, 4265, 4266, 4267, 4268, 4269, 4270, 4271, 4272, 4273, 4274, 4275, 4276, 4277, 4278, 4279, 4280, 4281, 4282, 4283, 4284, 4285, 4286, 4287, 4288, 4289, 4290, 4291, 4292, 4293, 4294, 4295, 4296, 4297, 4298, 4299, 4300, 4301, 4302, 4303, 4304, 4305, 4306, 4307, 4308, 4309, 4310, 4311, 4312, 4313, 4314, 4315, 4316, 4317, 4318, 4319, 4320, 4321, 4322, 4323, 4324, 4325, 4326, 4327, 4328, 4329, 4330, 4331, 4332, 4333, 4334, 4335, 4336, 4337, 4338, 4339, 4340, 4341, 4342, 4343, 4344, 4345, 4346, 4347, 4348, 4349, 4350, 4351, 4352, 4353, 4354, 4355, 4356, 4357, 4358, 4359, 4360, 4361, 4362, 4363, 4364, 4365, 4366, 4367, 4368, 4369, 4370, 4371, 4372, 4373, 4374, 4375, 4376, 4377, 4378, 4379, 4380, 4381, 4382, 4383, 4384, 4385, 4386, 4387, 4388, 4389, 4390, 4391, 4392, 4393, 4394, 4395, 4396, 4397, 4398, 4399, 4400, 4401, 4402, 4403, 4404, 4405, 4406, 4407, 4408, 4409, 4410, 4411, 4412, 4413, 4414, 4415, 4416, 4417, 4418, 4419, 4420, 4421, 4422, 4423, 4424, 4425, 4426, 4427, 4428, 4429, 4430, 4431, 4432, 4433, 4434, 4435, 4436, 4437, 4438, 4439, 4440, 4441, 4442, 4443, 4444, 4445, 4446, 4447, 4448, 4449, 4450, 4451, 4452, 4453, 4454, 4455, 4456, 4457, 4458, 4459, 4460, 4461, 4462, 4463, 4464, 4465, 4466, 4467, 4468, 4469, 4470, 4471, 4472, 4473, 4474, 4475, 4476, 4477, 4478, 4479, 4480, 4481, 4482, 4483, 4484, 4485, 4486, 4487, 4488, 4489, 4490, 4491, 4492, 4493, 4494, 4495, 4496, 4497, 4498, 4499, 4500, 4501, 4502, 4503, 4504, 4505, 4506, 4507, 4508, 4509, 4510, 4511, 4512, 4513, 4514, 4515, 4516, 4517, 4518, 4519, 4520, 4521, 4522, 4523, 4524, 4525, 4526, 4527, 4528, 4529, 4530, 4531, 4532, 4533, 4534, 4535, 4536, 4537, 4538, 4539, 4540, 4541, 4542, 4543, 4544, 4545, 4546, 4547, 4548, 4549, 4550, 4551, 4552, 4553, 4554, 4555, 4556, 4557, 4558, 4559, 4560, 4561, 4562, 4563, 4564, 4565, 4566, 4567, 4568, 4569, 4570, 4571, 4572, 4573, 4574, 4575, 4576, 4577, 4578, 4579, 4580, 4581, 4582, 4583, 4584, 4585, 4586, 4587, 4588, 4589, 4590, 4591, 4592, 4593, 4594, 4595, 4596, 4597, 4598, 4599, 4600, 4601, 4602, 4603, 4604, 4605, 4606, 4607, 4608, 4609, 4610, 4611, 4612, 4613, 4614, 4615, 4616, 4617, 4618, 4619, 4620, 4621, 4622, 4623, 4624, 4625, 4626, 4627, 4628, 4629, 4630, 4631, 4632, 4633, 4634, 4635, 4636, 4637, 4638, 4639, 4640, 4641, 4642, 4643, 4644, 4645, 4646, 4647, 4648, 4649, 4650, 4651, 4652, 4653, 4654, 4655, 4656, 4657, 4658, 4659, 4660, 4661, 4662, 4663, 4664, 4665, 4666, 4667, 4668, 4669, 4670, 4671, 4672, 4673, 4674, 4675, 4676, 4677, 4678, 4679, 4680, 4681, 4682, 4683, 4684, 4685, 4686, 4687, 4688, 4689, 4690, 4691, 4692, 4693, 4694, 4695, 4696, 4697, 4698, 4699, 4700, 4701, 4702, 4703, 4704, 4705, 4706, 4707, 4708, 4709, 4710, 4711, 4712, 4713, 4714, 4715, 4716, 4717, 4718, 4719, 4720, 4721, 4722, 4723, 4724, 4725, 4726, 4727, 4728, 4729, 4730, 4731, 4732, 4733, 4734, 4735, 4736, 4737, 4738, 4739, 4740, 4741, 4742, 4743, 4744, 4745, 4746, 4747, 4748, 4749, 4750, 4751, 4752, 4753, 4754, 4755, 4756, 4757, 4758, 4759, 4760, 4761, 4762, 4763, 4764, 4765, 4766, 4767, 4768, 4769, 4770, 4771, 4772, 4773, 4774, 4775, 4776, 4777, 4778, 4779, 4780, 4781, 4782, 4783, 4784, 4785, 4786, 4787, 4788, 4789, 4790, 4791, 4792, 4793, 4794, 4795, 4796, 4797, 4798, 4799, 4800, 4801, 4802, 4803, 4804, 4805, 4806, 4807, 4808, 4809, 4810, 4811, 4812, 4813, 4814, 4815, 4816, 4817, 4818, 4819, 4820, 4821, 4822, 4823, 4824, 4825, 4826, 4827, 4828, 4829, 4830, 4831, 4832, 4833, 4834, 4835, 4836, 4837, 4838, 4839, 4840, 4841, 4842, 4843, 4844, 4845, 4846, 4847, 4848, 4849, 4850, 4851, 4852, 4853, 4854, 4855, 4856, 4857, 4858, 4859, 4860, 4861, 4862, 4863, 4864, 4865, 4866, 4867, 4868, 4869, 4870, 4871, 4872, 4873, 4874, 4875, 4876, 4877, 4878, 4879, 4880, 4881, 4882, 4883, 4884, 4885, 4886, 4887, 4888, 4889, 4890, 4891, 4892, 4893, 4894, 4895, 4896, 4897, 4898, 4899, 4900, 4901, 4902, 4903, 4904, 4905, 4906, 4907, 4908, 4909, 4910, 4911, 4912, 4913, 4914, 4915, 4916, 4917, 4918, 4919, 4920, 4921, 4922, 4923, 4924, 4925, 4926, 4927, 4928, 4929, 4930, 4931, 4932, 4933, 4934, 4935, 4936, 4937, 4938, 4939, 4940, 4941, 4942, 4943, 4944, 4945, 4946, 4947, 4948, 4949, 4950, 4951, 4952, 4953, 4954, 4955, 4956, 4957, 4958, 4959, 4960, 4961, 4962, 4963, 4964, 4965, 4966, 4967, 4968, 4969, 4970, 4971, 4972, 4973, 4974, 4975, 4976, 4977, 4978, 4979, 4980, 4981, 4982, 4983, 4984, 4985, 4986, 4987, 4988, 4989, 4990, 4991, 4992, 4993, 4994, 4995, 4996, 4997, 4998, 4999, 5000, 5001, 5002, 5003, 5004, 5005, 5006, 5007, 5008, 5009, 5010, 5011, 5012, 5013, 5014, 5015, 5016, 5017, 5018, 5019, 5020, 5021, 5022, 5023, 5024, 5025, 5026, 5027, 5028, 5029, 5030, 5031, 5032, 5033, 5034, 5035, 5036, 5037, 5038, 5039, 5040, 5041, 5042, 5043, 5044, 5045, 5046, 5047, 5048, 5049, 5050, 5051, 5052, 5053, 5054, 5055, 5056, 5057, 5058, 5059, 5060, 5061, 5062, 5063, 5064, 5065, 5066, 5067, 5068, 5069, 5070, 5071, 5072, 5073, 5074, 5075, 5076, 5077, 5078, 5079, 5080, 5081, 5082, 5083, 5084, 5085, 5086, 5087, 5088, 5089, 5090, 5091, 5092, 5093, 5094, 5095, 5096, 5097, 5098, 5099, 5100, 5101, 5102, 5103, 5104, 5105, 5106, 5107, 5108, 5109, 5110, 5111, 5112, 5113, 5114, 5115, 5116, 5117, 5118, 5119, 5120, 5121, 5122, 5123, 5124, 5125, 5126, 5127, 5128, 5129, 5130, 5131, 5132, 5133, 5134, 5135, 5136, 5137, 5138, 5139, 5140, 5141, 5142, 5143, 5144, 5145, 5146, 5147, 5148, 5149, 5150, 5151, 5152, 5153, 5154, 5155, 5156, 5157, 5158, 5159, 5160, 5161, 5162, 5163, 5164, 5165, 5166, 5167, 5168, 5169, 5170, 5171, 5172, 5173, 5174, 5175, 5176, 5177, 5178, 5179, 5180, 5181, 5182, 5183, 5184, 5185, 5186, 5187, 5188, 5189, 5190, 5191, 5192, 5193, 5194, 5195, 5196, 5197, 5198, 5199, 5200, 5201, 5202, 5203, 5204, 5205, 5206, 5207, 5208, 5209, 5210, 5211, 5212, 5213, 5214, 5215, 5216, 5217, 5218, 5219, 5220, 5221, 5222, 5223, 5224, 5225, 5226, 5227, 5228, 5229, 5230, 5231, 5232, 5233, 5234, 5235, 5236, 5237, 5238, 5239, 5240, 5241, 5242, 5243, 5244, 5245, 5246, 5247, 5248, 5249, 5250, 5251, 5252, 5253, 5254, 5255, 5256, 5257, 5258, 5259, 5260, 5261, 5262, 5263, 5264, 5265, 5266, 5267, 5268, 5269, 5270, 5271, 5272, 5273, 5274, 5275, 5276, 5277, 5278, 5279, 5280, 5281, 5282, 5283, 5284, 5285, 5286, 5287, 5288, 5289, 5290, 5291, 5292, 5293, 5294, 5295, 5296, 5297, 5298, 5299, 5300, 5301, 5302, 5303, 5304, 5305, 5306, 5307, 5308, 5309, 5310, 5311, 5312, 5313, 5314, 5315, 5316, 5317, 5318, 5319, 5320, 5321, 5322, 5323, 5324, 5325, 5326, 5327, 5328, 5329, 5330, 5331, 5332, 5333, 5334, 5335, 5336, 5337, 5338, 5339, 5340, 5341, 5342, 5343, 5344, 5345, 5346, 5347, 5348, 5349, 5350, 5351, 5352, 5353, 5354, 5355, 5356, 5357, 5358, 5359, 5360, 5361, 5362, 5363, 5364, 5365, 5366, 5367, 5368, 5369, 5370, 5371, 5372, 5373, 5374, 5375, 5376, 5377, 5378, 5379, 5380, 5381, 5382, 5383, 5384, 5385, 5386, 5387, 5388, 5389, 5390, 5391, 5392, 5393, 5394, 5395, 5396, 5397, 5398, 5399, 5400, 5401, 5402, 5403, 5404, 5405, 5406, 5407, 5408, 5409, 5410, 5411, 5412, 5413, 5414, 5415, 5416, 5417, 5418, 5419, 5420, 5421, 5422, 5423, 5424, 5425, 5426, 5427, 5428, 5429, 5430, 5431, 5432, 5433, 5434, 5435, 5436, 5437, 5438, 5439, 5440, 5441, 5442, 5443, 5444, 5445, 5446, 5447, 5448, 5449, 5450, 5451, 5452, 5453, 5454, 5455, 5456, 5457, 5458, 5459, 5460, 5461, 5462, 5463, 5464, 5465, 5466, 5467, 5468, 5469, 5470, 5471, 5472, 5473, 5474, 5475, 5476, 5477, 5478, 5479, 5480, 5481, 5482, 5483, 5484, 5485, 5486, 5487, 5488, 5489, 5490, 5491, 5492, 5493, 5494, 5495, 5496, 5497, 5498, 5499, 5500, 5501, 5502, 5503, 5504, 5505, 5506, 5507, 5508, 5509, 5510, 5511, 5512, 5513, 5514, 5515, 5516, 5517, 5518, 5519, 5520, 5521, 5522, 5523, 5524, 5525, 5526, 5527, 5528, 5529, 5530, 5531, 5532, 5533, 5534, 5535, 5536, 5537, 5538, 5539, 5540, 5541, 5542, 5543, 5544, 5545, 5546, 5547, 5548, 5549, 5550, 5551, 5552, 5553, 5554, 5555, 5556, 5557, 5558, 5559, 5560, 5561, 5562, 5563, 5564, 5565, 5566, 5567, 5568, 5569, 5570, 5571, 5572, 5573, 5574, 5575, 5576, 5577, 5578, 5579, 5580, 5581, 5582, 5583, 5584, 5585, 5586, 5587, 5588, 5589, 5590, 5591, 5592, 5593, 5594, 5595, 5596, 5597, 5598, 5599, 5600, 5601, 5602, 5603, 5604, 5605, 5606, 5607, 5608, 5609, 5610, 5611, 5612, 5613, 5614, 5615, 5616, 5617, 5618, 5619, 5620, 5621, 5622, 5623, 5624, 5625, 5626, 5627, 5628, 5629, 5630, 5631, 5632, 5633, 5634, 5635, 5636, 5637, 5638, 5639, 5640, 5641, 5642, 5643, 5644, 5645, 5646, 5647, 5648, 5649, 5650, 5651, 5652, 5653, 5654, 5655, 5656, 5657, 5658, 5659, 5660, 5661, 5662, 5663, 5664, 5665, 5666, 5667, 5668, 5669, 5670, 5671, 5672, 5673, 5674, 5675, 5676, 5677, 5678, 5679, 5680, 5681, 5682, 5683, 5684, 5685, 5686, 5687, 5688, 5689, 5690, 5691, 5692, 5693, 5694, 5695, 5696, 5697, 5698, 5699, 5700, 5701, 5702, 5703, 5704, 5705, 5706, 5707, 5708, 5709, 5710, 5711, 5712, 5713, 5714, 5715, 5716, 5717, 5718, 5719, 5720, 5721, 5722, 5723, 5724, 5725, 5726, 5727, 5728, 5729, 5730, 5731, 5732, 5733, 5734, 5735, 5736, 5737, 5738, 5739, 5740, 5741, 5742, 5743, 5744, 5745, 5746, 5747, 5748, 5749, 5750, 5751, 5752, 5753, 5754, 5755, 5756, 5757, 5758, 5759, 5760, 5761, 5762, 5763, 5764, 5765, 5766, 5767, 5768, 5769, 5770, 5771, 5772, 5773, 5774, 5775, 5776, 5777, 5778, 5779, 5780, 5781, 5782, 5783, 5784, 5785, 5786, 5787, 5788, 5789, 5790, 5791, 5792, 5793, 5794, 5795, 5796, 5797, 5798, 5799, 5800, 5801, 5802, 5803, 5804, 5805, 5806, 5807, 5808, 5809, 5810, 5811, 5812, 5813, 5814, 5815, 5816, 5817, 5818, 5819, 5820, 5821, 5822, 5823, 5824, 5825, 5826, 5827, 5828, 5829, 5830, 5831, 5832, 5833, 5834, 5835, 5836, 5837, 5838, 5839, 5840, 5841, 5842, 5843, 5844, 5845, 5846, 5847, 5848, 5849, 5850, 5851, 5852, 5853, 5854, 5855, 5856, 5857, 5858, 5859, 5860, 5861, 5862, 5863, 5864, 5865, 5866, 5867, 5868, 5869, 5870, 5871, 5872, 5873, 5874, 5875, 5876, 5877, 5878, 5879, 5880, 5881, 5882, 5883, 5884, 5885, 5886, 5887, 5888, 5889, 5890, 5891, 5892, 5893, 5894, 5895, 5896, 5897, 5898, 5899, 5900, 5901, 5902, 5903, 5904, 5905, 5906, 5907, 5908, 5909, 5910, 5911, 5912, 5913, 5914, 5915, 5916, 5917, 5918, 5919, 5920, 5921, 5922, 5923, 5924, 5925, 5926, 5927, 5928, 5929, 5930, 5931, 5932, 5933, 5934, 5935, 5936, 5937, 5938, 5939, 5940, 5941, 5942, 5943, 5944, 5945, 5946, 5947, 5948, 5949, 5950, 5951, 5952, 5953, 5954, 5955, 5956, 5957, 5958, 5959, 5960, 5961, 5962, 5963, 5964, 5965, 5966, 5967, 5968, 5969, 5970, 5971, 5972, 5973, 5974, 5975, 5976, 5977, 5978, 5979, 5980, 5981, 5982, 5983, 5984, 5985, 5986, 5987, 5988, 5989, 5990, 5991, 5992, 5993, 5994, 5995, 5996, 5997, 5998, 5999, 6000, 6001, 6002, 6003, 6004, 6005, 6006, 6007, 6008, 6009, 6010, 6011, 6012, 6013, 6014, 6015, 6016, 6017, 6018, 6019, 6020, 6021, 6022, 6023, 6024, 6025, 6026, 6027, 6028, 6029, 6030, 6031, 6032, 6033, 6034, 6035, 6036, 6037, 6038, 6039, 6040, 6041, 6042, 6043, 6044, 6045, 6046, 6047, 6048, 6049, 6050, 6051, 6052, 6053, 6054, 6055, 6056, 6057, 6058, 6059, 6060, 6061, 6062, 6063, 6064, 6065, 6066, 6067, 6068, 6069, 6070, 6071, 6072, 6073, 6074, 6075, 6076, 6077, 6078, 6079, 6080, 6081, 6082, 6083, 6084, 6085, 6086, 6087, 6088, 6089, 6090, 6091, 6092, 6093, 6094, 6095, 6096, 6097, 6098, 6099, 6100, 6101, 6102, 6103, 6104, 6105, 6106, 6107, 6108, 6109, 6110, 6111, 6112, 6113, 6114, 6115, 6116, 6117, 6118, 6119, 6120, 6121, 6122, 6123, 6124, 6125, 6126, 6127, 6128, 6129, 6130, 6131, 6132, 6133, 6134, 6135, 6136, 6137, 6138, 6139, 6140, 6141, 6142, 6143, 6144, 6145, 6146, 6147, 6148, 6149, 6150, 6151, 6152, 6153, 6154, 6155, 6156, 6157, 6158, 6159, 6160, 6161, 6162, 6163, 6164, 6165, 6166, 6167, 6168, 6169, 6170, 6171, 6172, 6173, 6174, 6175, 6176, 6177, 6178, 6179, 6180, 6181, 6182, 6183, 6184, 6185, 6186, 6187, 6188, 6189, 6190, 6191, 6192, 6193, 6194, 6195, 6196, 6197, 6198, 6199, 6200, 6201, 6202, 6203, 6204, 6205, 6206, 6207, 6208, 6209, 6210, 6211, 6212, 6213, 6214, 6215, 6216, 6217, 6218, 6219, 6220, 6221, 6222, 6223, 6224, 6225, 6226, 6227, 6228, 6229, 6230, 6231, 6232, 6233, 6234, 6235, 6236, 6237, 6238, 6239, 6240, 6241, 6242, 6243, 6244, 6245, 6246, 6247, 6248, 6249, 6250, 6251, 6252, 6253, 6254, 6255, 6256, 6257, 6258, 6259, 6260, 6261, 6262, 6263, 6264, 6265, 6266, 6267, 6268, 6269, 6270, 6271, 6272, 6273, 6274, 6275, 6276, 6277, 6278, 6279, 6280, 6281, 6282, 6283, 6284, 6285, 6286, 6287, 6288, 6289, 6290, 6291, 6292, 6293, 6294, 6295, 6296, 6297, 6298, 6299, 6300, 6301, 6302, 6303, 6304, 6305, 6306, 6307, 6308, 6309, 6310, 6311, 6312, 6313, 6314, 6315, 6316, 6317, 6318, 6319, 6320, 6321, 6322, 6323, 6324, 6325, 6326, 6327, 6328, 6329, 6330, 6331, 6332, 6333, 6334, 6335, 6336, 6337, 6338, 6339, 6340, 6341, 6342, 6343, 6344, 6345, 6346, 6347, 6348, 6349, 6350, 6351, 6352, 6353, 6354, 6355, 6356, 6357, 6358, 6359, 6360, 6361, 6362, 6363, 6364, 6365, 6366, 6367, 6368, 6369, 6370, 6371, 6372, 6373, 6374, 6375, 6376, 6377, 6378, 6379, 6380, 6381, 6382, 6383, 6384, 6385, 6386, 6387, 6388, 6389, 6390, 6391, 6392, 6393, 6394, 6395, 6396, 6397, 6398, 6399, 6400, 6401, 6402, 6403, 6404, 6405, 6406, 6407, 6408, 6409, 6410, 6411, 6412, 6413, 6414, 6415, 6416, 6417, 6418, 6419, 6420, 6421, 6422, 6423, 6424, 6425, 6426, 6427, 6428, 6429, 6430, 6431, 6432, 6433, 6434, 6435, 6436, 6437, 6438, 6439, 6440, 6441, 6442, 6443, 6444, 6445, 6446, 6447, 6448, 6449, 6450, 6451, 6452, 6453, 6454, 6455, 6456, 6457, 6458, 6459, 6460, 6461, 6462, 6463, 6464, 6465, 6466, 6467, 6468, 6469, 6470, 6471, 6472, 6473, 6474, 6475, 6476, 6477, 6478, 6479, 6480, 6481, 6482, 6483, 6484, 6485, 6486, 6487, 6488, 6489, 6490, 6491, 6492, 6493, 6494, 6495, 6496, 6497, 6498, 6499, 6500, 6501, 6502, 6503, 6504, 6505, 6506, 6507, 6508, 6509, 6510, 6511, 6512, 6513, 6514, 6515, 6516, 6517, 6518, 6519, 6520, 6521, 6522, 6523, 6524, 6525, 6526, 6527, 6528, 6529, 6530, 6531, 6532, 6533, 6534, 6535, 6536, 6537, 6538, 6539, 6540, 6541, 6542, 6543, 6544, 6545, 6546, 6547, 6548, 6549, 6550, 6551, 6552, 6553, 6554, 6555, 6556, 6557, 6558, 6559, 6560, 6561, 6562, 6563, 6564, 6565, 6566, 6567, 6568, 6569, 6570, 6571, 6572, 6573, 6574, 6575, 6576, 6577, 6578, 6579, 6580, 6581, 6582, 6583, 6584, 6585, 6586, 6587, 6588, 6589, 6590, 6591, 6592, 6593, 6594, 6595, 6596, 6597, 6598, 6599, 6600, 6601, 6602, 6603, 6604, 6605, 6606, 6607, 6608, 6609, 6610, 6611, 6612, 6613, 6614, 6615, 6616, 6617, 6618, 6619, 6620, 6621, 6622, 6623, 6624, 6625, 6626, 6627, 6628, 6629, 6630, 6631, 6632, 6633, 6634, 6635, 6636, 6637, 6638, 6639, 6640, 6641, 6642, 6643, 6644, 6645, 6646, 6647, 6648, 6649, 6650, 6651, 6652, 6653, 6654, 6655, 6656, 6657, 6658, 6659, 6660, 6661, 6662, 6663, 6664, 6665, 6666, 6667, 6668, 6669, 6670, 6671, 6672, 6673, 6674, 6675, 6676, 6677, 6678, 6679, 6680, 6681, 6682, 6683, 6684, 6685, 6686, 6687, 6688, 6689, 6690, 6691, 6692, 6693, 6694, 6695, 6696, 6697, 6698, 6699, 6700, 6701, 6702, 6703, 6704, 6705, 6706, 6707, 6708, 6709, 6710, 6711, 6712, 6713, 6714, 6715, 6716, 6717, 6718, 6719, 6720, 6721, 6722, 6723, 6724, 6725, 6726, 6727, 6728, 6729, 6730, 6731, 6732, 6733, 6734, 6735, 6736, 6737, 6738, 6739, 6740, 6741, 6742, 6743, 6744, 6745, 6746, 6747, 6748, 6749, 6750, 6751, 6752, 6753, 6754, 6755, 6756, 6757, 6758, 6759, 6760, 6761, 6762, 6763, 6764, 6765, 6766, 6767, 6768, 6769, 6770, 6771, 6772, 6773, 6774, 6775, 6776, 6777, 6778, 6779, 6780, 6781, 6782, 6783, 6784, 6785, 6786, 6787, 6788, 6789, 6790, 6791, 6792, 6793, 6794, 6795, 6796, 6797, 6798, 6799, 6800, 6801, 6802, 6803, 6804, 6805, 6806, 6807, 6808, 6809, 6810, 6811, 6812, 6813, 6814, 6815, 6816, 6817, 6818, 6819, 6820, 6821, 6822, 6823, 6824, 6825, 6826, 6827, 6828, 6829, 6830, 6831, 6832, 6833, 6834, 6835, 6836, 6837, 6838, 6839, 6840, 6841, 6842, 6843, 6844, 6845, 6846, 6847, 6848, 6849, 6850, 6851, 6852, 6853, 6854, 6855, 6856, 6857, 6858, 6859, 6860, 6861, 6862, 6863, 6864, 6865, 6866, 6867, 6868, 6869, 6870, 6871, 6872, 6873, 6874, 6875, 6876, 6877, 6878, 6879, 6880, 6881, 6882, 6883, 6884, 6885, 6886, 6887, 6888, 6889, 6890, 6891, 6892, 6893, 6894, 6895, 6896, 6897, 6898, 6899, 6900, 6901, 6902, 6903, 6904, 6905, 6906, 6907, 6908, 6909, 6910, 6911, 6912, 6913, 6914, 6915, 6916, 6917, 6918, 6919, 6920, 6921, 6922, 6923, 6924, 6925, 6926, 6927, 6928, 6929, 6930, 6931, 6932, 6933, 6934, 6935, 6936, 6937, 6938, 6939, 6940, 6941, 6942, 6943, 6944, 6945, 6946, 6947, 6948, 6949, 6950, 6951, 6952, 6953, 6954, 6955, 6956, 6957, 6958, 6959, 6960, 6961, 6962, 6963, 6964, 6965, 6966, 6967, 6968, 6969, 6970, 6971, 6972, 6973, 6974, 6975, 6976, 6977, 6978, 6979, 6980, 6981, 6982, 6983, 6984, 6985, 6986, 6987, 6988, 6989, 6990, 6991, 6992, 6993, 6994, 6995, 6996, 6997, 6998, 6999, 7000, 7001, 7002, 7003, 7004, 7005, 7006, 7007, 7008, 7009, 7010, 7011, 7012, 7013, 7014, 7015, 7016, 7017, 7018, 7019, 7020, 7021, 7022, 7023, 7024, 7025, 7026, 7027, 7028, 7029, 7030, 7031, 7032, 7033, 7034, 7035, 7036, 7037, 7038, 7039, 7040, 7041, 7042, 7043, 7044, 7045, 7046, 7047, 7048, 7049, 7050, 7051, 7052, 7053, 7054, 7055, 7056, 7057, 7058, 7059, 7060, 7061, 7062, 7063, 7064, 7065, 7066, 7067, 7068, 7069, 7070, 7071, 7072, 7073, 7074, 7075, 7076, 7077, 7078, 7079, 7080, 7081, 7082, 7083, 7084, 7085, 7086, 7087, 7088, 7089, 7090, 7091, 7092, 7093, 7094, 7095, 7096, 7097, 7098, 7099, 7100, 7101, 7102, 7103, 7104, 7105, 7106, 7107, 7108, 7109, 7110, 7111, 7112, 7113, 7114, 7115, 7116, 7117, 7118, 7119, 7120, 7121, 7122, 7123, 7124, 7125, 7126, 7127, 7128, 7129, 7130, 7131, 7132, 7133, 7134, 7135, 7136, 7137, 7138, 7139, 7140, 7141, 7142, 7143, 7144, 7145, 7146, 7147, 7148, 7149, 7150, 7151, 7152, 7153, 7154, 7155, 7156, 7157, 7158, 7159, 7160, 7161, 7162, 7163, 7164, 7165, 7166, 7167, 7168, 7169, 7170, 7171, 7172, 7173, 7174, 7175, 7176, 7177, 7178, 7179, 7180, 7181, 7182, 7183, 7184, 7185, 7186, 7187, 7188, 7189, 7190, 7191, 7192, 7193, 7194, 7195, 7196, 7197, 7198, 7199, 7200, 7201, 7202, 7203, 7204, 7205, 7206, 7207, 7208, 7209, 7210, 7211, 7212, 7213, 7214, 7215, 7216, 7217, 7218, 7219, 7220, 7221, 7222, 7223, 7224, 7225, 7226, 7227, 7228, 7229, 7230, 7231, 7232, 7233, 7234, 7235, 7236, 7237, 7238, 7239, 7240, 7241, 7242, 7243, 7244, 7245, 7246, 7247, 7248, 7249, 7250, 7251, 7252, 7253, 7254, 7255, 7256, 7257, 7258, 7259, 7260, 7261, 7262, 7263, 7264, 7265, 7266, 7267, 7268, 7269, 7270, 7271, 7272, 7273, 7274, 7275, 7276, 7277, 7278, 7279, 7280, 7281, 7282, 7283, 7284, 7285, 7286, 7287, 7288, 7289, 7290, 7291, 7292, 7293, 7294, 7295, 7296, 7297, 7298, 7299, 7300, 7301, 7302, 7303, 7304, 7305, 7306, 7307, 7308, 7309, 7310, 7311, 7312, 7313, 7314, 7315, 7316, 7317, 7318, 7319, 7320, 7321, 7322, 7323, 7324, 7325, 7326, 7327, 7328, 7329, 7330, 7331, 7332, 7333, 7334, 7335, 7336, 7337, 7338, 7339, 7340, 7341, 7342, 7343, 7344, 7345, 7346, 7347, 7348, 7349, 7350, 7351, 7352, 7353, 7354, 7355, 7356, 7357, 7358, 7359, 7360, 7361, 7362, 7363, 7364, 7365, 7366, 7367, 7368, 7369, 7370, 7371, 7372, 7373, 7374, 7375, 7376, 7377, 7378, 7379, 7380, 7381, 7382, 7383, 7384, 7385, 7386, 7387, 7388, 7389, 7390, 7391, 7392, 7393, 7394, 7395, 7396, 7397, 7398, 7399, 7400, 7401, 7402, 7403, 7404, 7405, 7406, 7407, 7408, 7409, 7410, 7411, 7412, 7413, 7414, 7415, 7416, 7417, 7418, 7419, 7420, 7421, 7422, 7423, 7424, 7425, 7426, 7427, 7428, 7429, 7430, 7431, 7432, 7433, 7434, 7435, 7436, 7437, 7438, 7439, 7440, 7441, 7442, 7443, 7444, 7445, 7446, 7447, 7448, 7449, 7450, 7451, 7452, 7453, 7454, 7455, 7456, 7457, 7458, 7459, 7460, 7461, 7462, 7463, 7464, 7465, 7466, 7467, 7468, 7469, 7470, 7471, 7472, 7473, 7474, 7475, 7476, 7477, 7478, 7479, 7480, 7481, 7482, 7483, 7484, 7485, 7486, 7487, 7488, 7489, 7490, 7491, 7492, 7493, 7494, 7495, 7496, 7497, 7498, 7499, 7500, 7501, 7502, 7503, 7504, 7505, 7506, 7507, 7508, 7509, 7510, 7511, 7512, 7513, 7514, 7515, 7516, 7517, 7518, 7519, 7520, 7521, 7522, 7523, 7524, 7525, 7526, 7527, 7528, 7529, 7530, 7531, 7532, 7533, 7534, 7535, 7536, 7537, 7538, 7539, 7540, 7541, 7542, 7543, 7544, 7545, 7546, 7547, 7548, 7549, 7550, 7551, 7552, 7553, 7554, 7555, 7556, 7557, 7558, 7559, 7560, 7561, 7562, 7563, 7564, 7565, 7566, 7567, 7568, 7569, 7570, 7571, 7572, 7573, 7574, 7575, 7576, 7577, 7578, 7579, 7580, 7581, 7582, 7583, 7584, 7585, 7586, 7587, 7588, 7589, 7590, 7591, 7592, 7593, 7594, 7595, 7596, 7597, 7598, 7599, 7600, 7601, 7602, 7603, 7604, 7605, 7606, 7607, 7608, 7609, 7610, 7611, 7612, 7613, 7614, 7615, 7616, 7617, 7618, 7619, 7620, 7621, 7622, 7623, 7624, 7625, 7626, 7627, 7628, 7629, 7630, 7631, 7632, 7633, 7634, 7635, 7636, 7637, 7638, 7639, 7640, 7641, 7642, 7643, 7644, 7645, 7646, 7647, 7648, 7649, 7650, 7651, 7652, 7653, 7654, 7655, 7656, 7657, 7658, 7659, 7660, 7661, 7662, 7663, 7664, 7665, 7666, 7667, 7668, 7669, 7670, 7671, 7672, 7673, 7674, 7675, 7676, 7677, 7678, 7679, 7680, 7681, 7682, 7683, 7684, 7685, 7686, 7687, 7688, 7689, 7690, 7691, 7692, 7693, 7694, 7695, 7696, 7697, 7698, 7699, 7700, 7701, 7702, 7703, 7704, 7705, 7706, 7707, 7708, 7709, 7710, 7711, 7712, 7713, 7714, 7715, 7716, 7717, 7718, 7719, 7720, 7721, 7722, 7723, 7724, 7725, 7726, 7727, 7728, 7729, 7730, 7731, 7732, 7733, 7734, 7735, 7736, 7737, 7738, 7739, 7740, 7741, 7742, 7743, 7744, 7745, 7746, 7747, 7748, 7749, 7750, 7751, 7752, 7753, 7754, 7755, 7756, 7757, 7758, 7759, 7760, 7761, 7762, 7763, 7764, 7765, 7766, 7767, 7768, 7769, 7770, 7771, 7772, 7773, 7774, 7775, 7776, 7777, 7778, 7779, 7780, 7781, 7782, 7783, 7784, 7785, 7786, 7787, 7788, 7789, 7790, 7791, 7792, 7793, 7794, 7795, 7796, 7797, 7798, 7799, 7800, 7801, 7802, 7803, 7804, 7805, 7806, 7807, 7808, 7809, 7810, 7811, 7812, 7813, 7814, 7815, 7816, 7817, 7818, 7819, 7820, 7821, 7822, 7823, 7824, 7825, 7826, 7827, 7828, 7829, 7830, 7831, 7832, 7833, 7834, 7835, 7836, 7837, 7838, 7839, 7840, 7841, 7842, 7843, 7844, 7845, 7846, 7847, 7848, 7849, 7850, 7851, 7852, 7853, 7854, 7855, 7856, 7857, 7858, 7859, 7860, 7861, 7862, 7863, 7864, 7865, 7866, 7867, 7868, 7869, 7870, 7871, 7872, 7873, 7874, 7875, 7876, 7877, 7878, 7879, 7880, 7881, 7882, 7883, 7884, 7885, 7886, 7887, 7888, 7889, 7890, 7891, 7892, 7893, 7894, 7895, 7896, 7897, 7898, 7899, 7900, 7901, 7902, 7903, 7904, 7905, 7906, 7907, 7908, 7909, 7910, 7911, 7912, 7913, 7914, 7915, 7916, 7917, 7918, 7919, 7920, 7921, 7922, 7923, 7924, 7925, 7926, 7927, 7928, 7929, 7930, 7931, 7932, 7933, 7934, 7935, 7936, 7937, 7938, 7939, 7940, 7941, 7942, 7943, 7944, 7945, 7946, 7947, 7948, 7949, 7950, 7951, 7952, 7953, 7954, 7955, 7956, 7957, 7958, 7959, 7960, 7961, 7962, 7963, 7964, 7965, 7966, 7967, 7968, 7969, 7970, 7971, 7972, 7973, 7974, 7975, 7976, 7977, 7978, 7979, 7980, 7981, 7982, 7983, 7984, 7985, 7986, 7987, 7988, 7989, 7990, 7991, 7992, 7993, 7994, 7995, 7996, 7997, 7998, 7999, 8000, 8001, 8002, 8003, 8004, 8005, 8006, 8007, 8008, 8009, 8010, 8011, 8012, 8013, 8014, 8015, 8016, 8017, 8018, 8019, 8020, 8021, 8022, 8023, 8024, 8025, 8026, 8027, 8028, 8029, 8030, 8031, 8032, 8033, 8034, 8035, 8036, 8037, 8038, 8039, 8040, 8041, 8042, 8043, 8044, 8045, 8046, 8047, 8048, 8049, 8050, 8051, 8052, 8053, 8054, 8055, 8056, 8057, 8058, 8059, 8060, 8061, 8062, 8063, 8064, 8065, 8066, 8067, 8068, 8069, 8070, 8071, 8072, 8073, 8074, 8075, 8076, 8077, 8078, 8079, 8080, 8081, 8082, 8083, 8084, 8085, 8086, 8087, 8088, 8089, 8090, 8091, 8092, 8093, 8094, 8095, 8096, 8097, 8098, 8099, 8100, 8101, 8102, 8103, 8104, 8105, 8106, 8107, 8108, 8109, 8110, 8111, 8112, 8113, 8114, 8115, 8116, 8117, 8118, 8119, 8120, 8121, 8122, 8123, 8124, 8125, 8126, 8127, 8128, 8129, 8130, 8131, 8132, 8133, 8134, 8135, 8136, 8137, 8138, 8139, 8140, 8141, 8142, 8143, 8144, 8145, 8146, 8147, 8148, 8149, 8150, 8151, 8152, 8153, 8154, 8155, 8156, 8157, 8158, 8159, 8160, 8161, 8162, 8163, 8164, 8165, 8166, 8167, 8168, 8169, 8170, 8171, 8172, 8173, 8174, 8175, 8176, 8177, 8178, 8179, 8180, 8181, 8182, 8183, 8184, 8185, 8186, 8187, 8188, 8189, 8190, 8191, 8192, 8193, 8194, 8195, 8196, 8197, 8198, 8199, 8200, 8201, 8202, 8203, 8204, 8205, 8206, 8207, 8208, 8209, 8210, 8211, 8212, 8213, 8214, 8215, 8216, 8217, 8218, 8219, 8220, 8221, 8222, 8223, 8224, 8225, 8226, 8227, 8228, 8229, 8230, 8231, 8232, 8233, 8234, 8235, 8236, 8237, 8238, 8239, 8240, 8241, 8242, 8243, 8244, 8245, 8246, 8247, 8248, 8249, 8250, 8251, 8252, 8253, 8254, 8255, 8256, 8257, 8258, 8259, 8260, 8261, 8262, 8263, 8264, 8265, 8266, 8267, 8268, 8269, 8270, 8271, 8272, 8273, 8274, 8275, 8276, 8277, 8278, 8279, 8280, 8281, 8282, 8283, 8284, 8285, 8286, 8287, 8288, 8289, 8290, 8291, 8292, 8293, 8294, 8295, 8296, 8297, 8298, 8299, 8300, 8301, 8302, 8303, 8304, 8305, 8306, 8307, 8308, 8309, 8310, 8311, 8312, 8313, 8314, 8315, 8316, 8317, 8318, 8319, 8320, 8321, 8322, 8323, 8324, 8325, 8326, 8327, 8328, 8329, 8330, 8331, 8332, 8333, 8334, 8335, 8336, 8337, 8338, 8339, 8340, 8341, 8342, 8343, 8344, 8345, 8346, 8347, 8348, 8349, 8350, 8351, 8352, 8353, 8354, 8355, 8356, 8357, 8358, 8359, 8360, 8361, 8362, 8363, 8364, 8365, 8366, 8367, 8368, 8369, 8370, 8371, 8372, 8373, 8374, 8375, 8376, 8377, 8378, 8379, 8380, 8381, 8382, 8383, 8384, 8385, 8386, 8387, 8388, 8389, 8390, 8391, 8392, 8393, 8394, 8395, 8396, 8397, 8398, 8399, 8400, 8401, 8402, 8403, 8404, 8405, 8406, 8407, 8408, 8409, 8410, 8411, 8412, 8413, 8414, 8415, 8416, 8417, 8418, 8419, 8420, 8421, 8422, 8423, 8424, 8425, 8426, 8427, 8428, 8429, 8430, 8431, 8432, 8433, 8434, 8435, 8436, 8437, 8438, 8439, 8440, 8441, 8442, 8443, 8444, 8445, 8446, 8447, 8448, 8449, 8450, 8451, 8452, 8453, 8454, 8455, 8456, 8457, 8458, 8459, 8460, 8461, 8462, 8463, 8464, 8465, 8466, 8467, 8468, 8469, 8470, 8471, 8472, 8473, 8474, 8475, 8476, 8477, 8478, 8479, 8480, 8481, 8482, 8483, 8484, 8485, 8486, 8487, 8488, 8489, 8490, 8491, 8492, 8493, 8494, 8495, 8496, 8497, 8498, 8499, 8500, 8501, 8502, 8503, 8504, 8505, 8506, 8507, 8508, 8509, 8510, 8511, 8512, 8513, 8514, 8515, 8516, 8517, 8518, 8519, 8520, 8521, 8522, 8523, 8524, 8525, 8526, 8527, 8528, 8529, 8530, 8531, 8532, 8533, 8534, 8535, 8536, 8537, 8538, 8539, 8540, 8541, 8542, 8543, 8544, 8545, 8546, 8547, 8548, 8549, 8550, 8551, 8552, 8553, 8554, 8555, 8556, 8557, 8558, 8559, 8560, 8561, 8562, 8563, 8564, 8565, 8566, 8567, 8568, 8569, 8570, 8571, 8572, 8573, 8574, 8575, 8576, 8577, 8578, 8579, 8580, 8581, 8582, 8583, 8584, 8585, 8586, 8587, 8588, 8589, 8590, 8591, 8592, 8593, 8594, 8595, 8596, 8597, 8598, 8599, 8600, 8601, 8602, 8603, 8604, 8605, 8606, 8607, 8608, 8609, 8610, 8611, 8612, 8613, 8614, 8615, 8616, 8617, 8618, 8619, 8620, 8621, 8622, 8623, 8624, 8625, 8626, 8627, 8628, 8629, 8630, 8631, 8632, 8633, 8634, 8635, 8636, 8637, 8638, 8639, 8640, 8641, 8642, 8643, 8644, 8645, 8646, 8647, 8648, 8649, 8650, 8651, 8652, 8653, 8654, 8655, 8656, 8657, 8658, 8659, 8660, 8661, 8662, 8663, 8664, 8665, 8666, 8667, 8668, 8669, 8670, 8671, 8672, 8673, 8674, 8675, 8676, 8677, 8678, 8679, 8680, 8681, 8682, 8683, 8684, 8685, 8686, 8687, 8688, 8689, 8690, 8691, 8692, 8693, 8694, 8695, 8696, 8697, 8698, 8699, 8700, 8701, 8702, 8703, 8704, 8705, 8706, 8707, 8708, 8709, 8710, 8711, 8712, 8713, 8714, 8715, 8716, 8717, 8718, 8719, 8720, 8721, 8722, 8723, 8724, 8725, 8726, 8727, 8728, 8729, 8730, 8731, 8732, 8733, 8734, 8735, 8736, 8737, 8738, 8739, 8740, 8741, 8742, 8743, 8744, 8745, 8746, 8747, 8748, 8749, 8750, 8751, 8752, 8753, 8754, 8755, 8756, 8757, 8758, 8759, 8760, 8761, 8762, 8763, 8764, 8765, 8766, 8767, 8768, 8769, 8770, 8771, 8772, 8773, 8774, 8775, 8776, 8777, 8778, 8779, 8780, 8781, 8782, 8783, 8784, 8785, 8786, 8787, 8788, 8789, 8790, 8791, 8792, 8793, 8794, 8795, 8796, 8797, 8798, 8799, 8800, 8801, 8802, 8803, 8804, 8805, 8806, 8807, 8808, 8809, 8810, 8811, 8812, 8813, 8814, 8815, 8816, 8817, 8818, 8819, 8820, 8821, 8822, 8823, 8824, 8825, 8826, 8827, 8828, 8829, 8830, 8831, 8832, 8833, 8834, 8835, 8836, 8837, 8838, 8839, 8840, 8841, 8842, 8843, 8844, 8845, 8846, 8847, 8848, 8849, 8850, 8851, 8852, 8853, 8854, 8855, 8856, 8857, 8858, 8859, 8860, 8861, 8862, 8863, 8864, 8865, 8866, 8867, 8868, 8869, 8870, 8871, 8872, 8873, 8874, 8875, 8876, 8877, 8878, 8879, 8880, 8881, 8882, 8883, 8884, 8885, 8886, 8887, 8888, 8889, 8890, 8891, 8892, 8893, 8894, 8895, 8896, 8897, 8898, 8899, 8900, 8901, 8902, 8903, 8904, 8905, 8906, 8907, 8908, 8909, 8910, 8911, 8912, 8913, 8914, 8915, 8916, 8917, 8918, 8919, 8920, 8921, 8922, 8923, 8924, 8925, 8926, 8927, 8928, 8929, 8930, 8931, 8932, 8933, 8934, 8935, 8936, 8937, 8938, 8939, 8940, 8941, 8942, 8943, 8944, 8945, 8946, 8947, 8948, 8949, 8950, 8951, 8952, 8953, 8954, 8955, 8956, 8957, 8958, 8959, 8960, 8961, 8962, 8963, 8964, 8965, 8966, 8967, 8968, 8969, 8970, 8971, 8972, 8973, 8974, 8975, 8976, 8977, 8978, 8979, 8980, 8981, 8982, 8983, 8984, 8985, 8986, 8987, 8988, 8989, 8990, 8991, 8992, 8993, 8994, 8995, 8996, 8997, 8998, 8999, 9000, 9001, 9002, 9003, 9004, 9005, 9006, 9007, 9008, 9009, 9010, 9011, 9012, 9013, 9014, 9015, 9016, 9017, 9018, 9019, 9020, 9021, 9022, 9023, 9024, 9025, 9026, 9027, 9028, 9029, 9030, 9031, 9032, 9033, 9034, 9035, 9036, 9037, 9038, 9039, 9040, 9041, 9042, 9043, 9044, 9045, 9046, 9047, 9048, 9049, 9050, 9051, 9052, 9053, 9054, 9055, 9056, 9057, 9058, 9059, 9060, 9061, 9062, 9063, 9064, 9065, 9066, 9067, 9068, 9069, 9070, 9071, 9072, 9073, 9074, 9075, 9076, 9077, 9078, 9079, 9080, 9081, 9082, 9083, 9084, 9085, 9086, 9087, 9088, 9089, 9090, 9091, 9092, 9093, 9094, 9095, 9096, 9097, 9098, 9099, 9100, 9101, 9102, 9103, 9104, 9105, 9106, 9107, 9108, 9109, 9110, 9111, 9112, 9113, 9114, 9115, 9116, 9117, 9118, 9119, 9120, 9121, 9122, 9123, 9124, 9125, 9126, 9127, 9128, 9129, 9130, 9131, 9132, 9133, 9134, 9135, 9136, 9137, 9138, 9139, 9140, 9141, 9142, 9143, 9144, 9145, 9146, 9147, 9148, 9149, 9150, 9151, 9152, 9153, 9154, 9155, 9156, 9157, 9158, 9159, 9160, 9161, 9162, 9163, 9164, 9165, 9166, 9167, 9168, 9169, 9170, 9171, 9172, 9173, 9174, 9175, 9176, 9177, 9178, 9179, 9180, 9181, 9182, 9183, 9184, 9185, 9186, 9187, 9188, 9189, 9190, 9191, 9192, 9193, 9194, 9195, 9196, 9197, 9198, 9199, 9200, 9201, 9202, 9203, 9204, 9205, 9206, 9207, 9208, 9209, 9210, 9211, 9212, 9213, 9214, 9215, 9216, 9217, 9218, 9219, 9220, 9221, 9222, 9223, 9224, 9225, 9226, 9227, 9228, 9229, 9230, 9231, 9232, 9233, 9234, 9235, 9236, 9237, 9238, 9239, 9240, 9241, 9242, 9243, 9244, 9245, 9246, 9247, 9248, 9249, 9250, 9251, 9252, 9253, 9254, 9255, 9256, 9257, 9258, 9259, 9260, 9261, 9262, 9263, 9264, 9265, 9266, 9267, 9268, 9269, 9270, 9271, 9272, 9273, 9274, 9275, 9276, 9277, 9278, 9279, 9280, 9281, 9282, 9283, 9284, 9285, 9286, 9287, 9288, 9289, 9290, 9291, 9292, 9293, 9294, 9295, 9296, 9297, 9298, 9299, 9300, 9301, 9302, 9303, 9304, 9305, 9306, 9307, 9308, 9309, 9310, 9311, 9312, 9313, 9314, 9315, 9316, 9317, 9318, 9319, 9320, 9321, 9322, 9323, 9324, 9325, 9326, 9327, 9328, 9329, 9330, 9331, 9332, 9333, 9334, 9335, 9336, 9337, 9338, 9339, 9340, 9341, 9342, 9343, 9344, 9345, 9346, 9347, 9348, 9349, 9350, 9351, 9352, 9353, 9354, 9355, 9356, 9357, 9358, 9359, 9360, 9361, 9362, 9363, 9364, 9365, 9366, 9367, 9368, 9369, 9370, 9371, 9372, 9373, 9374, 9375, 9376, 9377, 9378, 9379, 9380, 9381, 9382, 9383, 9384, 9385, 9386, 9387, 9388, 9389, 9390, 9391, 9392, 9393, 9394, 9395, 9396, 9397, 9398, 9399, 9400, 9401, 9402, 9403, 9404, 9405, 9406, 9407, 9408, 9409, 9410, 9411, 9412, 9413, 9414, 9415, 9416, 9417, 9418, 9419, 9420, 9421, 9422, 9423, 9424, 9425, 9426, 9427, 9428, 9429, 9430, 9431, 9432, 9433, 9434, 9435, 9436, 9437, 9438, 9439, 9440, 9441, 9442, 9443, 9444, 9445, 9446, 9447, 9448, 9449, 9450, 9451, 9452, 9453, 9454, 9455, 9456, 9457, 9458, 9459, 9460, 9461, 9462, 9463, 9464, 9465, 9466, 9467, 9468, 9469, 9470, 9471, 9472, 9473, 9474, 9475, 9476, 9477, 9478, 9479, 9480, 9481, 9482, 9483, 9484, 9485, 9486, 9487, 9488, 9489, 9490, 9491, 9492, 9493, 9494, 9495, 9496, 9497, 9498, 9499, 9500, 9501, 9502, 9503, 9504, 9505, 9506, 9507, 9508, 9509, 9510, 9511, 9512, 9513, 9514, 9515, 9516, 9517, 9518, 9519, 9520, 9521, 9522, 9523, 9524, 9525, 9526, 9527, 9528, 9529, 9530, 9531, 9532, 9533, 9534, 9535, 9536, 9537, 9538, 9539, 9540, 9541, 9542, 9543, 9544, 9545, 9546, 9547, 9548, 9549, 9550, 9551, 9552, 9553, 9554, 9555, 9556, 9557, 9558, 9559, 9560, 9561, 9562, 9563, 9564, 9565, 9566, 9567, 9568, 9569, 9570, 9571, 9572, 9573, 9574, 9575, 9576, 9577, 9578, 9579, 9580, 9581, 9582, 9583, 9584, 9585, 9586, 9587, 9588, 9589, 9590, 9591, 9592, 9593, 9594, 9595, 9596, 9597, 9598, 9599, 9600, 9601, 9602, 9603, 9604, 9605, 9606, 9607, 9608, 9609, 9610, 9611, 9612, 9613, 9614, 9615, 9616, 9617, 9618, 9619, 9620, 9621, 9622, 9623, 9624, 9625, 9626, 9627, 9628, 9629, 9630, 9631, 9632, 9633, 9634, 9635, 9636, 9637, 9638, 9639, 9640, 9641, 9642, 9643, 9644, 9645, 9646, 9647, 9648, 9649, 9650, 9651, 9652, 9653, 9654, 9655, 9656, 9657, 9658, 9659, 9660, 9661, 9662, 9663, 9664, 9665, 9666, 9667, 9668, 9669, 9670, 9671, 9672, 9673, 9674, 9675, 9676, 9677, 9678, 9679, 9680, 9681, 9682, 9683, 9684, 9685, 9686, 9687, 9688, 9689, 9690, 9691, 9692, 9693, 9694, 9695, 9696, 9697, 9698, 9699, 9700, 9701, 9702, 9703, 9704, 9705, 9706, 9707, 9708, 9709, 9710, 9711, 9712, 9713, 9714, 9715, 9716, 9717, 9718, 9719, 9720, 9721, 9722, 9723, 9724, 9725, 9726, 9727, 9728, 9729, 9730, 9731, 9732, 9733, 9734, 9735, 9736, 9737, 9738, 9739, 9740, 9741, 9742, 9743, 9744, 9745, 9746, 9747, 9748, 9749, 9750, 9751, 9752, 9753, 9754, 9755, 9756, 9757, 9758, 9759, 9760, 9761, 9762, 9763, 9764, 9765, 9766, 9767, 9768, 9769, 9770, 9771, 9772, 9773, 9774, 9775, 9776, 9777, 9778, 9779, 9780, 9781, 9782, 9783, 9784, 9785, 9786, 9787, 9788, 9789, 9790, 9791, 9792, 9793, 9794, 9795, 9796, 9797, 9798, 9799, 9800, 9801, 9802, 9803, 9804, 9805, 9806, 9807, 9808, 9809, 9810, 9811, 9812, 9813, 9814, 9815, 9816, 9817, 9818, 9819, 9820, 9821, 9822, 9823, 9824, 9825, 9826, 9827, 9828, 9829, 9830, 9831, 9832, 9833, 9834, 9835, 9836, 9837, 9838, 9839, 9840, 9841, 9842, 9843, 9844, 9845, 9846, 9847, 9848, 9849, 9850, 9851, 9852, 9853, 9854, 9855, 9856, 9857, 9858, 9859, 9860, 9861, 9862, 9863, 9864, 9865, 9866, 9867, 9868, 9869, 9870, 9871, 9872, 9873, 9874, 9875, 9876, 9877, 9878, 9879, 9880, 9881, 9882, 9883, 9884, 9885, 9886, 9887, 9888, 9889, 9890, 9891, 9892, 9893, 9894, 9895, 9896, 9897, 9898, 9899, 9900, 9901, 9902, 9903, 9904, 9905, 9906, 9907, 9908, 9909, 9910, 9911, 9912, 9913, 9914, 9915, 9916, 9917, 9918, 9919, 9920, 9921, 9922, 9923, 9924, 9925, 9926, 9927, 9928, 9929, 9930, 9931, 9932, 9933, 9934, 9935, 9936, 9937, 9938, 9939, 9940, 9941, 9942, 9943, 9944, 9945, 9946, 9947, 9948, 9949, 9950, 9951, 9952, 9953, 9954, 9955, 9956, 9957, 9958, 9959, 9960, 9961, 9962, 9963, 9964, 9965, 9966, 9967, 9968, 9969, 9970, 9971, 9972, 9973, 9974, 9975, 9976, 9977, 9978, 9979, 9980, 9981, 9982, 9983, 9984, 9985, 9986, 9987, 9988, 9989, 9990, 9991, 9992, 9993, 9994, 9995, 9996, 9997, 9998, 9999])"
            ]
          },
          "metadata": {},
          "execution_count": 55
        }
      ]
    },
    {
      "cell_type": "code",
      "source": [
        "index_to_word[0]='<PAD>' \n",
        "index_to_word[1]='<BOS>'\n",
        "index_to_word[2]='<UNK>' "
      ],
      "metadata": {
        "id": "GxS1kn3eW3qC"
      },
      "execution_count": 58,
      "outputs": []
    },
    {
      "cell_type": "code",
      "source": [
        "# 문장 1개를 활용할 딕셔너리와 함께 주면, 단어 인덱스 리스트 벡터로 변환해 주는 함수입니다. \n",
        "# 단, 모든 문장은 <BOS>로 시작하는 것으로 합니다. \n",
        "def get_encoded_sentence(sentence, word_to_index):\n",
        "    return [word_to_index['<BOS>']]+[word_to_index[word] if word in word_to_index else word_to_index['<UNK>'] for word in sentence.split()]\n",
        "\n",
        "# 여러 개의 문장 리스트를 한꺼번에 단어 인덱스 리스트 벡터로 encode해 주는 함수입니다. \n",
        "def get_encoded_sentences(sentences, word_to_index):\n",
        "    return [get_encoded_sentence(sentence, word_to_index) for sentence in sentences]\n",
        "\n",
        "# 숫자 벡터로 encode된 문장을 원래대로 decode하는 함수입니다. \n",
        "def get_decoded_sentence(encoded_sentence, index_to_word):\n",
        "    return ' '.join(index_to_word[index] if index in index_to_word else '<UNK>' for index in encoded_sentence[1:])  #[1:]를 통해 <BOS>를 제외\n",
        "\n",
        "# 여러 개의 숫자 벡터로 encode된 문장을 한꺼번에 원래대로 decode하는 함수입니다. \n",
        "def get_decoded_sentences(encoded_sentences, index_to_word):\n",
        "    return [get_decoded_sentence(encoded_sentence, index_to_word) for encoded_sentence in encoded_sentences]"
      ],
      "metadata": {
        "id": "iMTExkzIA_RC"
      },
      "execution_count": 16,
      "outputs": []
    },
    {
      "cell_type": "markdown",
      "source": [
        "# 2 모델 구성을 위한 데이터 분석 및 가공"
      ],
      "metadata": {
        "id": "_uk1vwdxKyfJ"
      }
    },
    {
      "cell_type": "markdown",
      "source": [
        "## 2-1. 데이터셋 내 문장 길이 분포 및 적절한 최대 문장 길이 지정하기"
      ],
      "metadata": {
        "id": "rxSQf_t5K-dw"
      }
    },
    {
      "cell_type": "code",
      "source": [
        "lengths = np.array([len(x) for x in X_train])\n",
        "np.mean(lengths), np.median(lengths)"
      ],
      "metadata": {
        "colab": {
          "base_uri": "https://localhost:8080/"
        },
        "id": "EFKSeRA0OqZL",
        "outputId": "b9a2bff8-fb6e-48b6-c77e-34162bed1c3e"
      },
      "execution_count": 36,
      "outputs": [
        {
          "output_type": "execute_result",
          "data": {
            "text/plain": [
              "(15.981694052619337, 12.0)"
            ]
          },
          "metadata": {},
          "execution_count": 36
        }
      ]
    },
    {
      "cell_type": "code",
      "source": [
        "plt.hist(lengths)"
      ],
      "metadata": {
        "colab": {
          "base_uri": "https://localhost:8080/",
          "height": 354
        },
        "id": "A5M-BAIwRmJq",
        "outputId": "bad31b35-d8ed-46f9-ed47-32b4414092fc"
      },
      "execution_count": 38,
      "outputs": [
        {
          "output_type": "execute_result",
          "data": {
            "text/plain": [
              "(array([6.8494e+04, 5.2464e+04, 1.1529e+04, 6.2810e+03, 4.6530e+03,\n",
              "        2.5560e+03, 1.9400e+02, 7.0000e+00, 1.0000e+00, 3.0000e+00]),\n",
              " array([  0. ,  11.6,  23.2,  34.8,  46.4,  58. ,  69.6,  81.2,  92.8,\n",
              "        104.4, 116. ]),\n",
              " <a list of 10 Patch objects>)"
            ]
          },
          "metadata": {},
          "execution_count": 38
        },
        {
          "output_type": "display_data",
          "data": {
            "text/plain": [
              "<Figure size 432x288 with 1 Axes>"
            ],
            "image/png": "[encoded data removed]"
          },
          "metadata": {
            "needs_background": "light"
          }
        }
      ]
    },
    {
      "cell_type": "markdown",
      "source": [
        "* X_train 데이터의 평균 길이가 약 16, 중간값이 12라서, 길이를 10이하로 제한하기로 결정한다."
      ],
      "metadata": {
        "id": "W9zqB8McSj5C"
      }
    },
    {
      "cell_type": "markdown",
      "source": [
        "## 2-2. keras.preprocessing.sequence.pad_sequences 을 활용한 패딩 추가"
      ],
      "metadata": {
        "id": "MYbQsRhvMH03"
      }
    },
    {
      "cell_type": "code",
      "source": [
        "X_train_maxlen = tf.keras.preprocessing.sequence.pad_sequences(X_train,\n",
        "                                                       value=word_to_index['<PAD>'],\n",
        "                                                       padding='post',\n",
        "                                                       maxlen=10)\n",
        "print(X_train_maxlen)"
      ],
      "metadata": {
        "colab": {
          "base_uri": "https://localhost:8080/"
        },
        "id": "bA2KfrhBMRFW",
        "outputId": "65646b83-9aea-4677-9c27-7eea75efd7e6"
      },
      "execution_count": 64,
      "outputs": [
        {
          "output_type": "stream",
          "name": "stdout",
          "text": [
            "[[  32   74  919 ...   20   33  748]\n",
            " [ 120    4   70 ...   15   44  391]\n",
            " [  24  205    3 ...    0    0    0]\n",
            " ...\n",
            " [   3   18 1510 ... 2710    6   18]\n",
            " [1052    5 2516 ...   60  395 8572]\n",
            " [ 181    5 1945 ... 2740    5    0]]\n"
          ]
        }
      ]
    },
    {
      "cell_type": "code",
      "source": [
        "X_test_maxlen = tf.keras.preprocessing.sequence.pad_sequences(X_test,\n",
        "                                                       value=word_to_index['<PAD>'],\n",
        "                                                       padding='post',\n",
        "                                                       maxlen=10)\n",
        "print(X_test_maxlen)"
      ],
      "metadata": {
        "colab": {
          "base_uri": "https://localhost:8080/"
        },
        "id": "LVWpEi1rX-yg",
        "outputId": "440bb9c3-e089-4c6f-9540-8d2c30539f8d"
      },
      "execution_count": 65,
      "outputs": [
        {
          "output_type": "stream",
          "name": "stdout",
          "text": [
            "[[ 832  130    0 ...    0    0    0]\n",
            " [   3    0    0 ...    0    0    0]\n",
            " [ 950  332   44 ... 3557   73  917]\n",
            " ...\n",
            " [  46   38    4 ...    8   12 3424]\n",
            " [   7    4    4 ...   67  323   43]\n",
            " [1009  179   63 ...    0    0    0]]\n"
          ]
        }
      ]
    },
    {
      "cell_type": "code",
      "source": [
        "X_test_maxlen2 = X_test_maxlen.copy()\n",
        "X_train_maxlen2 = X_train_maxlen.copy()\n",
        "X_test_maxlen3 = X_test_maxlen.copy()\n",
        "X_train_maxlen3 = X_train_maxlen.copy()"
      ],
      "metadata": {
        "id": "7tvWKZ5Ae5m7"
      },
      "execution_count": 89,
      "outputs": []
    },
    {
      "cell_type": "code",
      "source": [
        "print(get_decoded_sentence(X_train_maxlen2[23], index_to_word))\n",
        "print('라벨: ', y_train[23])  # 1번째 리뷰데이터의 라벨"
      ],
      "metadata": {
        "colab": {
          "base_uri": "https://localhost:8080/"
        },
        "id": "Edb45fR5fb-6",
        "outputId": "a6030542-f301-435b-da4d-e6626fdb7933"
      },
      "execution_count": 81,
      "outputs": [
        {
          "output_type": "stream",
          "name": "stdout",
          "text": [
            "평범 영화 아닌 수작 라는 걸 말씀 드립니다 .\n",
            "라벨:  1\n"
          ]
        }
      ]
    },
    {
      "cell_type": "markdown",
      "source": [
        "# 3 모델 구성 및 validation set 구성"
      ],
      "metadata": {
        "id": "_m_gIs3uU5-S"
      }
    },
    {
      "cell_type": "markdown",
      "source": [
        "## 3-1. 모델1: RNN"
      ],
      "metadata": {
        "id": "arG_rKa3VB4L"
      }
    },
    {
      "cell_type": "code",
      "source": [
        "vocab_size = len(word_to_index)                    # 146182\n",
        "word_vector_dim = 5\n",
        "embedding = tf.keras.layers.Embedding(input_dim=vocab_size, output_dim=word_vector_dim, mask_zero=True)\n",
        "output = embedding(X_train_maxlen)\n",
        "print(output)"
      ],
      "metadata": {
        "colab": {
          "base_uri": "https://localhost:8080/"
        },
        "id": "cwWsjoOaY2xa",
        "outputId": "d2d8f31d-f3ab-476b-d1e6-fb0732baf8a1"
      },
      "execution_count": 112,
      "outputs": [
        {
          "output_type": "stream",
          "name": "stdout",
          "text": [
            "tf.Tensor(\n",
            "[[[ 0.04279009  0.01240234  0.03155344 -0.00266653 -0.02368178]\n",
            "  [ 0.04903412 -0.02892839  0.04066627  0.01413441  0.00037515]\n",
            "  [-0.01964617  0.00279442  0.00513436 -0.02458843  0.04008082]\n",
            "  ...\n",
            "  [-0.03870058  0.02614558  0.0100317   0.03791943 -0.04732453]\n",
            "  [-0.00519123 -0.02869982 -0.0082729  -0.04532267  0.03260145]\n",
            "  [-0.00365335  0.03387127 -0.017542    0.0155993  -0.01096164]]\n",
            "\n",
            " [[ 0.04876952 -0.03578449 -0.00218296 -0.04424952 -0.03868853]\n",
            "  [ 0.00529083 -0.04824431  0.02531028 -0.03076986 -0.01139148]\n",
            "  [ 0.03587115 -0.04269201  0.005086    0.01221617  0.00522469]\n",
            "  ...\n",
            "  [-0.01052538 -0.02935906 -0.03410485  0.04115525  0.02276529]\n",
            "  [-0.02001871 -0.01424915 -0.03986497 -0.01779839  0.02389144]\n",
            "  [ 0.01153535  0.03938336  0.01042944  0.03478399  0.0113198 ]]\n",
            "\n",
            " [[ 0.02910357  0.01468777 -0.02366518 -0.02880385 -0.00924083]\n",
            "  [-0.02538202  0.01965377  0.00399599  0.01691801 -0.01829256]\n",
            "  [ 0.02926642  0.00514688  0.01428788  0.0443799   0.02367641]\n",
            "  ...\n",
            "  [ 0.01936221 -0.02423865 -0.02237712 -0.03301569 -0.01134596]\n",
            "  [ 0.01936221 -0.02423865 -0.02237712 -0.03301569 -0.01134596]\n",
            "  [ 0.01936221 -0.02423865 -0.02237712 -0.03301569 -0.01134596]]\n",
            "\n",
            " ...\n",
            "\n",
            " [[ 0.02926642  0.00514688  0.01428788  0.0443799   0.02367641]\n",
            "  [-0.03582156  0.02739752  0.00081021 -0.03184638 -0.00911077]\n",
            "  [-0.03023771 -0.04676739  0.00775784  0.00512461 -0.01502538]\n",
            "  ...\n",
            "  [-0.04040514  0.02979635  0.02790968 -0.03262772 -0.03539594]\n",
            "  [ 0.02028954  0.00204997  0.0024858   0.04207944  0.01441569]\n",
            "  [-0.03582156  0.02739752  0.00081021 -0.03184638 -0.00911077]]\n",
            "\n",
            " [[-0.02195189 -0.04744805  0.00357615  0.03433147 -0.02551556]\n",
            "  [-0.02251544  0.04996181 -0.03060548 -0.00978567 -0.03216958]\n",
            "  [-0.02485181 -0.00895921 -0.03393905 -0.00325718 -0.038106  ]\n",
            "  ...\n",
            "  [ 0.04136373  0.01322808 -0.02557744 -0.04361833  0.02355175]\n",
            "  [ 0.01214298 -0.02769302 -0.04410904  0.04815103 -0.0035741 ]\n",
            "  [ 0.00240319 -0.04897285  0.01101649  0.03057392  0.01128632]]\n",
            "\n",
            " [[ 0.00767751 -0.01216141 -0.04844932  0.00419763  0.01789436]\n",
            "  [-0.02251544  0.04996181 -0.03060548 -0.00978567 -0.03216958]\n",
            "  [-0.02926381  0.01243259 -0.03498741  0.02606349 -0.03703748]\n",
            "  ...\n",
            "  [-0.04218389  0.02923206  0.0409628  -0.02539744 -0.0334515 ]\n",
            "  [-0.02251544  0.04996181 -0.03060548 -0.00978567 -0.03216958]\n",
            "  [ 0.01936221 -0.02423865 -0.02237712 -0.03301569 -0.01134596]]], shape=(146182, 10, 5), dtype=float32)\n"
          ]
        }
      ]
    },
    {
      "cell_type": "code",
      "source": [
        "output.shape"
      ],
      "metadata": {
        "colab": {
          "base_uri": "https://localhost:8080/"
        },
        "id": "6tWNXLuVa1Ek",
        "outputId": "b0c3977f-fd30-4e18-f2cb-ba1dc9f4b137"
      },
      "execution_count": 70,
      "outputs": [
        {
          "output_type": "execute_result",
          "data": {
            "text/plain": [
              "TensorShape([146182, 10, 5])"
            ]
          },
          "metadata": {},
          "execution_count": 70
        }
      ]
    },
    {
      "cell_type": "code",
      "source": [
        "model = tf.keras.Sequential()\n",
        "model.add(tf.keras.layers.Embedding(vocab_size, word_vector_dim, input_shape=(None,)))\n",
        "model.add(tf.keras.layers.LSTM(8)) \n",
        "model.add(tf.keras.layers.Dense(8, activation='relu'))\n",
        "model.add(tf.keras.layers.Dense(1, activation='sigmoid'))\n",
        "\n",
        "model.summary()\n"
      ],
      "metadata": {
        "colab": {
          "base_uri": "https://localhost:8080/"
        },
        "id": "j4AIT3UgbDo4",
        "outputId": "db4ff2be-18ec-439d-d206-008d6e065fda"
      },
      "execution_count": 115,
      "outputs": [
        {
          "output_type": "stream",
          "name": "stdout",
          "text": [
            "Model: \"sequential_2\"\n",
            "_________________________________________________________________\n",
            " Layer (type)                Output Shape              Param #   \n",
            "=================================================================\n",
            " embedding_5 (Embedding)     (None, None, 5)           50000     \n",
            "                                                                 \n",
            " lstm_1 (LSTM)               (None, 8)                 448       \n",
            "                                                                 \n",
            " dense_4 (Dense)             (None, 8)                 72        \n",
            "                                                                 \n",
            " dense_5 (Dense)             (None, 1)                 9         \n",
            "                                                                 \n",
            "=================================================================\n",
            "Total params: 50,529\n",
            "Trainable params: 50,529\n",
            "Non-trainable params: 0\n",
            "_________________________________________________________________\n"
          ]
        }
      ]
    },
    {
      "cell_type": "code",
      "source": [
        "print(get_decoded_sentence(X_train_maxlen2[23], index_to_word))\n",
        "print('라벨: ', y_train[23])  # 1번째 리뷰데이터의 라벨"
      ],
      "metadata": {
        "colab": {
          "base_uri": "https://localhost:8080/"
        },
        "id": "XFXkuCkIefZe",
        "outputId": "fd913401-a5dc-461d-a64c-a03f4de2bc4f"
      },
      "execution_count": 116,
      "outputs": [
        {
          "output_type": "stream",
          "name": "stdout",
          "text": [
            "평범 영화 아닌 수작 라는 걸 말씀 드립니다 .\n",
            "라벨:  1\n"
          ]
        }
      ]
    },
    {
      "cell_type": "code",
      "source": [
        "print(X_train_maxlen.shape)\n",
        "y_train.shape"
      ],
      "metadata": {
        "colab": {
          "base_uri": "https://localhost:8080/"
        },
        "id": "slY9hDI9gJZD",
        "outputId": "a195b2d7-6857-4b51-8f64-c8f1ae583520"
      },
      "execution_count": 117,
      "outputs": [
        {
          "output_type": "stream",
          "name": "stdout",
          "text": [
            "(146182, 10)\n"
          ]
        },
        {
          "output_type": "execute_result",
          "data": {
            "text/plain": [
              "(146182,)"
            ]
          },
          "metadata": {},
          "execution_count": 117
        }
      ]
    },
    {
      "cell_type": "code",
      "source": [
        "# validation set 50000건 분리\n",
        "X_val = X_train_maxlen[:50000]   \n",
        "y_val = y_train[:50000]\n",
        "\n",
        "# validation set을 제외한 나머지\n",
        "partial_X_train_manxlen = X_train_maxlen[50000:]  \n",
        "partial_y_train = y_train[50000:]\n",
        "\n",
        "print(partial_X_train_manxlen.shape)\n",
        "print(partial_y_train.shape)"
      ],
      "metadata": {
        "colab": {
          "base_uri": "https://localhost:8080/"
        },
        "id": "BQj3TyEmgz3B",
        "outputId": "3e2ad699-ac1f-4485-ccb4-c0ec017d547d"
      },
      "execution_count": 118,
      "outputs": [
        {
          "output_type": "stream",
          "name": "stdout",
          "text": [
            "(96182, 10)\n",
            "(96182,)\n"
          ]
        }
      ]
    },
    {
      "cell_type": "code",
      "source": [
        "model.compile(optimizer='adam', \n",
        "              loss='binary_crossentropy',\n",
        "              metrics=['accuracy'])\n",
        "              \n",
        "epochs=20\n",
        "\n",
        "history = model.fit(partial_X_train_manxlen,\n",
        "                    partial_y_train,\n",
        "                    epochs=epochs,\n",
        "                    batch_size=512,\n",
        "                    validation_data=(X_val, y_val),\n",
        "                    verbose=1)"
      ],
      "metadata": {
        "colab": {
          "base_uri": "https://localhost:8080/"
        },
        "id": "Zbbjt1fvlTEn",
        "outputId": "13400f47-04c9-47a3-8a4d-e01f0098ee43"
      },
      "execution_count": 119,
      "outputs": [
        {
          "output_type": "stream",
          "name": "stdout",
          "text": [
            "Epoch 1/20\n",
            "188/188 [==============================] - 4s 13ms/step - loss: 0.5774 - accuracy: 0.7150 - val_loss: 0.4477 - val_accuracy: 0.7972\n",
            "Epoch 2/20\n",
            "188/188 [==============================] - 2s 10ms/step - loss: 0.4092 - accuracy: 0.8180 - val_loss: 0.4052 - val_accuracy: 0.8174\n",
            "Epoch 3/20\n",
            "188/188 [==============================] - 2s 10ms/step - loss: 0.3757 - accuracy: 0.8368 - val_loss: 0.4002 - val_accuracy: 0.8182\n",
            "Epoch 4/20\n",
            "188/188 [==============================] - 2s 11ms/step - loss: 0.3610 - accuracy: 0.8446 - val_loss: 0.4003 - val_accuracy: 0.8182\n",
            "Epoch 5/20\n",
            "188/188 [==============================] - 2s 11ms/step - loss: 0.3524 - accuracy: 0.8484 - val_loss: 0.4041 - val_accuracy: 0.8178\n",
            "Epoch 6/20\n",
            "188/188 [==============================] - 2s 11ms/step - loss: 0.3455 - accuracy: 0.8515 - val_loss: 0.4076 - val_accuracy: 0.8171\n",
            "Epoch 7/20\n",
            "188/188 [==============================] - 2s 11ms/step - loss: 0.3406 - accuracy: 0.8531 - val_loss: 0.4076 - val_accuracy: 0.8169\n",
            "Epoch 8/20\n",
            "188/188 [==============================] - 2s 11ms/step - loss: 0.3362 - accuracy: 0.8559 - val_loss: 0.4114 - val_accuracy: 0.8161\n",
            "Epoch 9/20\n",
            "188/188 [==============================] - 2s 11ms/step - loss: 0.3317 - accuracy: 0.8585 - val_loss: 0.4184 - val_accuracy: 0.8150\n",
            "Epoch 10/20\n",
            "188/188 [==============================] - 2s 11ms/step - loss: 0.3268 - accuracy: 0.8595 - val_loss: 0.4211 - val_accuracy: 0.8145\n",
            "Epoch 11/20\n",
            "188/188 [==============================] - 2s 11ms/step - loss: 0.3224 - accuracy: 0.8617 - val_loss: 0.4236 - val_accuracy: 0.8140\n",
            "Epoch 12/20\n",
            "188/188 [==============================] - 2s 11ms/step - loss: 0.3166 - accuracy: 0.8632 - val_loss: 0.4336 - val_accuracy: 0.8132\n",
            "Epoch 13/20\n",
            "188/188 [==============================] - 2s 12ms/step - loss: 0.3112 - accuracy: 0.8656 - val_loss: 0.4369 - val_accuracy: 0.8128\n",
            "Epoch 14/20\n",
            "188/188 [==============================] - 2s 12ms/step - loss: 0.3049 - accuracy: 0.8677 - val_loss: 0.4587 - val_accuracy: 0.8119\n",
            "Epoch 15/20\n",
            "188/188 [==============================] - 2s 12ms/step - loss: 0.2988 - accuracy: 0.8702 - val_loss: 0.4682 - val_accuracy: 0.8117\n",
            "Epoch 16/20\n",
            "188/188 [==============================] - 2s 11ms/step - loss: 0.2932 - accuracy: 0.8720 - val_loss: 0.4880 - val_accuracy: 0.8096\n",
            "Epoch 17/20\n",
            "188/188 [==============================] - 2s 12ms/step - loss: 0.2873 - accuracy: 0.8730 - val_loss: 0.4960 - val_accuracy: 0.8095\n",
            "Epoch 18/20\n",
            "188/188 [==============================] - 2s 12ms/step - loss: 0.2821 - accuracy: 0.8750 - val_loss: 0.5197 - val_accuracy: 0.8094\n",
            "Epoch 19/20\n",
            "188/188 [==============================] - 2s 12ms/step - loss: 0.2767 - accuracy: 0.8768 - val_loss: 0.5416 - val_accuracy: 0.8086\n",
            "Epoch 20/20\n",
            "188/188 [==============================] - 2s 12ms/step - loss: 0.2724 - accuracy: 0.8784 - val_loss: 0.5528 - val_accuracy: 0.8081\n"
          ]
        }
      ]
    },
    {
      "cell_type": "code",
      "source": [
        "results = model.evaluate(X_test_maxlen,  y_test, verbose=2)\n",
        "\n",
        "print(results)"
      ],
      "metadata": {
        "colab": {
          "base_uri": "https://localhost:8080/"
        },
        "id": "EDf80YiUlv4d",
        "outputId": "8e28799b-cfaa-42f9-ba4a-750c38d5c155"
      },
      "execution_count": 93,
      "outputs": [
        {
          "output_type": "stream",
          "name": "stdout",
          "text": [
            "1537/1537 - 2s - loss: 0.5231 - accuracy: 0.8050 - 2s/epoch - 2ms/step\n",
            "[0.5230775475502014, 0.8050328493118286]\n"
          ]
        }
      ]
    },
    {
      "cell_type": "code",
      "source": [
        "history_dict = history.history\n",
        "acc = history_dict['accuracy']\n",
        "val_acc = history_dict['val_accuracy']\n",
        "loss = history_dict['loss']\n",
        "val_loss = history_dict['val_loss']\n",
        "\n",
        "epochs = range(1, len(acc) + 1)\n",
        "\n",
        "# \"bo\"는 \"파란색 점\"\n",
        "plt.plot(epochs, loss, 'bo', label='Training loss')\n",
        "# b는 \"파란 실선\"\n",
        "plt.plot(epochs, val_loss, 'b', label='Validation loss')\n",
        "plt.title('Training and validation loss')\n",
        "plt.xlabel('Epochs')\n",
        "plt.ylabel('Loss')\n",
        "plt.legend()\n",
        "\n",
        "plt.show()"
      ],
      "metadata": {
        "colab": {
          "base_uri": "https://localhost:8080/",
          "height": 295
        },
        "id": "dXXWUvZ7l7sc",
        "outputId": "3dc9c827-9add-4874-80cd-f141c3e7e185"
      },
      "execution_count": 94,
      "outputs": [
        {
          "output_type": "display_data",
          "data": {
            "text/plain": [
              "<Figure size 432x288 with 1 Axes>"
            ],
            "image/png": "[encoded data removed]"
          },
          "metadata": {
            "needs_background": "light"
          }
        }
      ]
    },
    {
      "cell_type": "code",
      "source": [
        "plt.plot(epochs, acc, 'bo', label='Training acc')\n",
        "plt.plot(epochs, val_acc, 'b', label='Validation acc')\n",
        "plt.title('Training and validation accuracy')\n",
        "plt.xlabel('Epochs')\n",
        "plt.ylabel('Accuracy')\n",
        "plt.legend()\n",
        "\n",
        "plt.show()"
      ],
      "metadata": {
        "colab": {
          "base_uri": "https://localhost:8080/",
          "height": 295
        },
        "id": "mUgrjEK3mXx0",
        "outputId": "9f3e12d6-dda6-4b52-fc90-f03aaf2884cc"
      },
      "execution_count": 96,
      "outputs": [
        {
          "output_type": "display_data",
          "data": {
            "text/plain": [
              "<Figure size 432x288 with 1 Axes>"
            ],
            "image/png": "[encoded data removed]"
          },
          "metadata": {
            "needs_background": "light"
          }
        }
      ]
    },
    {
      "cell_type": "markdown",
      "source": [
        "## 3-2. 모델2: 1D CNN"
      ],
      "metadata": {
        "id": "iG3-00kymo3J"
      }
    },
    {
      "cell_type": "code",
      "source": [
        "vocab_size = len(word_to_index)                    # 146182\n",
        "word_vector_dim = 5\n",
        "embedding = tf.keras.layers.Embedding(input_dim=vocab_size, output_dim=word_vector_dim, mask_zero=True)\n",
        "output = embedding(X_train_maxlen2)\n",
        "print(output)"
      ],
      "metadata": {
        "colab": {
          "base_uri": "https://localhost:8080/"
        },
        "id": "eSe4WF_toliv",
        "outputId": "a190fea9-31f6-44ed-c4e9-ff4c44b4ff0c"
      },
      "execution_count": 128,
      "outputs": [
        {
          "output_type": "stream",
          "name": "stdout",
          "text": [
            "tf.Tensor(\n",
            "[[[-0.02843056 -0.02306886 -0.00905099  0.02021557  0.00703312]\n",
            "  [ 0.0171644  -0.0265623   0.03133192  0.0051002  -0.03262692]\n",
            "  [-0.04004651 -0.00351962  0.03693858 -0.03432641  0.01300821]\n",
            "  ...\n",
            "  [-0.00670679  0.00672629  0.00582657  0.0482039  -0.0396956 ]\n",
            "  [ 0.0115096  -0.03275775 -0.00279178  0.01684531  0.03349341]\n",
            "  [ 0.03725531 -0.04921522 -0.00980549  0.00950057 -0.02462708]]\n",
            "\n",
            " [[-0.01383461  0.02843369  0.03461068  0.02348281 -0.02147754]\n",
            "  [ 0.0357285   0.00575719  0.03799548 -0.04815437 -0.00899801]\n",
            "  [ 0.02577109 -0.02599503  0.00999359 -0.00186248 -0.02237164]\n",
            "  ...\n",
            "  [-0.00162077 -0.02613149 -0.03239982  0.03586782  0.01875223]\n",
            "  [-0.03391405 -0.03167806 -0.0425062   0.04880956  0.03077537]\n",
            "  [ 0.03288228 -0.03372717  0.00899984  0.02465374  0.02026245]]\n",
            "\n",
            " [[-0.03900076 -0.00638354 -0.04436178 -0.01105797 -0.03781945]\n",
            "  [-0.03521593  0.04422033  0.03063402  0.01520393  0.00330386]\n",
            "  [-0.0442921   0.04175711 -0.03376774  0.01246141 -0.00056456]\n",
            "  ...\n",
            "  [ 0.03691522 -0.02702026  0.03058815 -0.03868446  0.01515244]\n",
            "  [ 0.03691522 -0.02702026  0.03058815 -0.03868446  0.01515244]\n",
            "  [ 0.03691522 -0.02702026  0.03058815 -0.03868446  0.01515244]]\n",
            "\n",
            " ...\n",
            "\n",
            " [[-0.0442921   0.04175711 -0.03376774  0.01246141 -0.00056456]\n",
            "  [-0.00128965  0.0324805  -0.00199134 -0.01540319  0.02141992]\n",
            "  [-0.02812363  0.02850857 -0.04222189  0.04198668 -0.00541115]\n",
            "  ...\n",
            "  [ 0.02256694  0.02688999  0.02011304 -0.00484638  0.01666311]\n",
            "  [ 0.03367792 -0.01748346 -0.03146627  0.00290586 -0.00377737]\n",
            "  [-0.00128965  0.0324805  -0.00199134 -0.01540319  0.02141992]]\n",
            "\n",
            " [[ 0.01077973 -0.03577846  0.01606252  0.022773   -0.02724282]\n",
            "  [-0.04126687  0.00536287  0.03195126 -0.03477488 -0.03011477]\n",
            "  [-0.00990979 -0.01167708  0.04396931 -0.032371   -0.01118726]\n",
            "  ...\n",
            "  [ 0.03011495 -0.02629502  0.01313129 -0.0493404   0.04501189]\n",
            "  [ 0.01067393 -0.00622381  0.03157885 -0.04496671 -0.00015155]\n",
            "  [ 0.04760494  0.03386122 -0.03993138  0.04971311  0.00303434]]\n",
            "\n",
            " [[-0.04028795  0.04336821 -0.0269946   0.00274179 -0.02058285]\n",
            "  [-0.04126687  0.00536287  0.03195126 -0.03477488 -0.03011477]\n",
            "  [-0.03140088 -0.00797278 -0.01428489 -0.0164837  -0.04460998]\n",
            "  ...\n",
            "  [-0.00395327  0.01764777 -0.03681098  0.01581855  0.01941006]\n",
            "  [-0.04126687  0.00536287  0.03195126 -0.03477488 -0.03011477]\n",
            "  [ 0.03691522 -0.02702026  0.03058815 -0.03868446  0.01515244]]], shape=(146182, 10, 5), dtype=float32)\n"
          ]
        }
      ]
    },
    {
      "cell_type": "code",
      "source": [
        "output.shape"
      ],
      "metadata": {
        "colab": {
          "base_uri": "https://localhost:8080/"
        },
        "id": "AbD29X6Doq7t",
        "outputId": "8902bc29-1674-47cd-ac95-625074ab97e2"
      },
      "execution_count": 127,
      "outputs": [
        {
          "output_type": "execute_result",
          "data": {
            "text/plain": [
              "TensorShape([146182, 10, 5])"
            ]
          },
          "metadata": {},
          "execution_count": 127
        }
      ]
    },
    {
      "cell_type": "code",
      "source": [
        "model = tf.keras.Sequential()\n",
        "model.add(tf.keras.layers.Embedding(vocab_size, word_vector_dim, input_shape=(None,)))\n",
        "model.add(tf.keras.layers.Conv1D(8, 3, activation='relu'))\n",
        "model.add(tf.keras.layers.MaxPooling1D(2))\n",
        "model.add(tf.keras.layers.Conv1D(8, 3, activation='relu'))\n",
        "model.add(tf.keras.layers.GlobalMaxPooling1D())\n",
        "model.add(tf.keras.layers.Dense(4, activation='relu'))\n",
        "model.add(tf.keras.layers.Dense(1, activation='sigmoid')) \n",
        "\n",
        "model.summary()"
      ],
      "metadata": {
        "colab": {
          "base_uri": "https://localhost:8080/"
        },
        "id": "vMIcVBVcmtud",
        "outputId": "93776f9b-af57-4910-fff6-d7046cca2db6"
      },
      "execution_count": 149,
      "outputs": [
        {
          "output_type": "stream",
          "name": "stdout",
          "text": [
            "Model: \"sequential_8\"\n",
            "_________________________________________________________________\n",
            " Layer (type)                Output Shape              Param #   \n",
            "=================================================================\n",
            " embedding_14 (Embedding)    (None, None, 5)           50000     \n",
            "                                                                 \n",
            " conv1d_12 (Conv1D)          (None, None, 8)           128       \n",
            "                                                                 \n",
            " max_pooling1d_6 (MaxPooling  (None, None, 8)          0         \n",
            " 1D)                                                             \n",
            "                                                                 \n",
            " conv1d_13 (Conv1D)          (None, None, 8)           200       \n",
            "                                                                 \n",
            " global_max_pooling1d_6 (Glo  (None, 8)                0         \n",
            " balMaxPooling1D)                                                \n",
            "                                                                 \n",
            " dense_16 (Dense)            (None, 4)                 36        \n",
            "                                                                 \n",
            " dense_17 (Dense)            (None, 1)                 5         \n",
            "                                                                 \n",
            "=================================================================\n",
            "Total params: 50,369\n",
            "Trainable params: 50,369\n",
            "Non-trainable params: 0\n",
            "_________________________________________________________________\n"
          ]
        }
      ]
    },
    {
      "cell_type": "code",
      "source": [
        "print(X_train_maxlen2.shape)\n",
        "y_train.shape"
      ],
      "metadata": {
        "colab": {
          "base_uri": "https://localhost:8080/"
        },
        "id": "dcnRc9fdoHfx",
        "outputId": "3cf25bf5-5999-4078-f949-e7aa89ba9e76"
      },
      "execution_count": 141,
      "outputs": [
        {
          "output_type": "stream",
          "name": "stdout",
          "text": [
            "(146182, 10)\n"
          ]
        },
        {
          "output_type": "execute_result",
          "data": {
            "text/plain": [
              "(146182,)"
            ]
          },
          "metadata": {},
          "execution_count": 141
        }
      ]
    },
    {
      "cell_type": "code",
      "source": [
        "# validation set 50000건 분리\n",
        "X_val2 = X_train_maxlen2[:50000]   \n",
        "y_val2 = y_train[:50000]\n",
        "\n",
        "# validation set을 제외한 나머지\n",
        "partial_X_train_manxlen2 = X_train_maxlen2[50000:]  \n",
        "partial_y_train2 = y_train[50000:]\n",
        "\n",
        "print(partial_X_train_manxlen2.shape)\n",
        "print(partial_y_train.shape)"
      ],
      "metadata": {
        "colab": {
          "base_uri": "https://localhost:8080/"
        },
        "id": "WKBhmfKNne-Y",
        "outputId": "f4ca4bca-ff50-402e-fb31-9b9be57771db"
      },
      "execution_count": 145,
      "outputs": [
        {
          "output_type": "stream",
          "name": "stdout",
          "text": [
            "(96182, 10)\n",
            "(96182,)\n"
          ]
        }
      ]
    },
    {
      "cell_type": "code",
      "source": [
        "model.compile(optimizer='adam', \n",
        "              loss='binary_crossentropy',\n",
        "              metrics=['accuracy'])\n",
        "              \n",
        "epochs=20\n",
        "\n",
        "history = model.fit(partial_X_train_manxlen2,\n",
        "                    partial_y_train2,\n",
        "                    epochs=epochs,\n",
        "                    batch_size=512,\n",
        "                    validation_data=(X_val2, y_val2),\n",
        "                    verbose=1)"
      ],
      "metadata": {
        "colab": {
          "base_uri": "https://localhost:8080/"
        },
        "id": "neb4fjz3m3ba",
        "outputId": "fbb8a930-145f-4e90-9278-c2160df5f338"
      },
      "execution_count": 150,
      "outputs": [
        {
          "output_type": "stream",
          "name": "stdout",
          "text": [
            "Epoch 1/20\n",
            "188/188 [==============================] - 2s 7ms/step - loss: 0.6544 - accuracy: 0.6233 - val_loss: 0.5630 - val_accuracy: 0.7680\n",
            "Epoch 2/20\n",
            "188/188 [==============================] - 1s 6ms/step - loss: 0.5164 - accuracy: 0.7986 - val_loss: 0.4983 - val_accuracy: 0.8001\n",
            "Epoch 3/20\n",
            "188/188 [==============================] - 1s 6ms/step - loss: 0.4608 - accuracy: 0.8287 - val_loss: 0.4741 - val_accuracy: 0.8082\n",
            "Epoch 4/20\n",
            "188/188 [==============================] - 1s 6ms/step - loss: 0.4261 - accuracy: 0.8441 - val_loss: 0.4681 - val_accuracy: 0.8077\n",
            "Epoch 5/20\n",
            "188/188 [==============================] - 1s 6ms/step - loss: 0.4012 - accuracy: 0.8534 - val_loss: 0.4561 - val_accuracy: 0.8110\n",
            "Epoch 6/20\n",
            "188/188 [==============================] - 1s 6ms/step - loss: 0.3813 - accuracy: 0.8606 - val_loss: 0.4540 - val_accuracy: 0.8106\n",
            "Epoch 7/20\n",
            "188/188 [==============================] - 1s 6ms/step - loss: 0.3643 - accuracy: 0.8670 - val_loss: 0.4550 - val_accuracy: 0.8093\n",
            "Epoch 8/20\n",
            "188/188 [==============================] - 1s 6ms/step - loss: 0.3498 - accuracy: 0.8735 - val_loss: 0.4574 - val_accuracy: 0.8085\n",
            "Epoch 9/20\n",
            "188/188 [==============================] - 1s 6ms/step - loss: 0.3373 - accuracy: 0.8787 - val_loss: 0.4620 - val_accuracy: 0.8075\n",
            "Epoch 10/20\n",
            "188/188 [==============================] - 1s 6ms/step - loss: 0.3252 - accuracy: 0.8835 - val_loss: 0.4742 - val_accuracy: 0.8073\n",
            "Epoch 11/20\n",
            "188/188 [==============================] - 1s 6ms/step - loss: 0.3151 - accuracy: 0.8873 - val_loss: 0.4783 - val_accuracy: 0.8063\n",
            "Epoch 12/20\n",
            "188/188 [==============================] - 1s 6ms/step - loss: 0.3060 - accuracy: 0.8913 - val_loss: 0.4839 - val_accuracy: 0.8052\n",
            "Epoch 13/20\n",
            "188/188 [==============================] - 1s 6ms/step - loss: 0.2973 - accuracy: 0.8947 - val_loss: 0.4918 - val_accuracy: 0.8040\n",
            "Epoch 14/20\n",
            "188/188 [==============================] - 1s 6ms/step - loss: 0.2895 - accuracy: 0.8978 - val_loss: 0.5045 - val_accuracy: 0.8017\n",
            "Epoch 15/20\n",
            "188/188 [==============================] - 1s 6ms/step - loss: 0.2825 - accuracy: 0.9009 - val_loss: 0.5172 - val_accuracy: 0.8016\n",
            "Epoch 16/20\n",
            "188/188 [==============================] - 1s 6ms/step - loss: 0.2761 - accuracy: 0.9037 - val_loss: 0.5268 - val_accuracy: 0.8022\n",
            "Epoch 17/20\n",
            "188/188 [==============================] - 1s 6ms/step - loss: 0.2704 - accuracy: 0.9067 - val_loss: 0.5310 - val_accuracy: 0.7977\n",
            "Epoch 18/20\n",
            "188/188 [==============================] - 1s 6ms/step - loss: 0.2650 - accuracy: 0.9089 - val_loss: 0.5471 - val_accuracy: 0.7996\n",
            "Epoch 19/20\n",
            "188/188 [==============================] - 1s 6ms/step - loss: 0.2604 - accuracy: 0.9108 - val_loss: 0.5640 - val_accuracy: 0.7992\n",
            "Epoch 20/20\n",
            "188/188 [==============================] - 1s 6ms/step - loss: 0.2557 - accuracy: 0.9134 - val_loss: 0.5761 - val_accuracy: 0.7989\n"
          ]
        }
      ]
    },
    {
      "cell_type": "code",
      "source": [
        "results = model.evaluate(X_test_maxlen,  y_test, verbose=2)\n",
        "print(results)"
      ],
      "metadata": {
        "colab": {
          "base_uri": "https://localhost:8080/"
        },
        "id": "gqJsZzILrCGD",
        "outputId": "eb7278cb-6bc1-4d35-b277-0177b47c5ffe"
      },
      "execution_count": 151,
      "outputs": [
        {
          "output_type": "stream",
          "name": "stdout",
          "text": [
            "1537/1537 - 1s - loss: 0.5800 - accuracy: 0.7967 - 1s/epoch - 874us/step\n",
            "[0.5799591541290283, 0.7966922521591187]\n"
          ]
        }
      ]
    },
    {
      "cell_type": "code",
      "source": [
        "history_dict = history.history\n",
        "acc = history_dict['accuracy']\n",
        "val_acc = history_dict['val_accuracy']\n",
        "loss = history_dict['loss']\n",
        "val_loss = history_dict['val_loss']\n",
        "epochs = range(1, len(acc) + 1)\n",
        "# \"bo\"는 \"파란색 점\"\n",
        "plt.plot(epochs, loss, 'bo', label='Training loss')\n",
        "# b는 \"파란 실선\"\n",
        "plt.plot(epochs, val_loss, 'b', label='Validation loss')\n",
        "plt.title('Training and validation loss')\n",
        "plt.xlabel('Epochs')\n",
        "plt.ylabel('Loss')\n",
        "plt.legend()\n",
        "plt.show()"
      ],
      "metadata": {
        "colab": {
          "base_uri": "https://localhost:8080/",
          "height": 295
        },
        "id": "jkavRXwXrJaB",
        "outputId": "85d776e5-c2ba-45e7-ba81-1452ad5378a6"
      },
      "execution_count": 152,
      "outputs": [
        {
          "output_type": "display_data",
          "data": {
            "text/plain": [
              "<Figure size 432x288 with 1 Axes>"
            ],
            "image/png": "[encoded data removed]"
          },
          "metadata": {
            "needs_background": "light"
          }
        }
      ]
    },
    {
      "cell_type": "code",
      "source": [
        "plt.plot(epochs, acc, 'bo', label='Training acc')\n",
        "plt.plot(epochs, val_acc, 'b', label='Validation acc')\n",
        "plt.title('Training and validation accuracy')\n",
        "plt.xlabel('Epochs')\n",
        "plt.ylabel('Accuracy')\n",
        "plt.legend()\n",
        "plt.show()"
      ],
      "metadata": {
        "colab": {
          "base_uri": "https://localhost:8080/",
          "height": 295
        },
        "id": "GgYc0JXVrKl5",
        "outputId": "0d6a9013-4b5c-4f8d-a694-686d11c6a873"
      },
      "execution_count": 153,
      "outputs": [
        {
          "output_type": "display_data",
          "data": {
            "text/plain": [
              "<Figure size 432x288 with 1 Axes>"
            ],
            "image/png": "[encoded data removed]"
          },
          "metadata": {
            "needs_background": "light"
          }
        }
      ]
    },
    {
      "cell_type": "markdown",
      "source": [
        "## 3-3. 모델3: GlobalMaxPooling1D"
      ],
      "metadata": {
        "id": "KSgeqyvvrOe3"
      }
    },
    {
      "cell_type": "code",
      "source": [
        "vocab_size = len(word_to_index)                    # 146182\n",
        "word_vector_dim = 5\n",
        "embedding = tf.keras.layers.Embedding(input_dim=vocab_size, output_dim=word_vector_dim, mask_zero=True)\n",
        "output = embedding(X_train_maxlen2)\n",
        "print(output)"
      ],
      "metadata": {
        "colab": {
          "base_uri": "https://localhost:8080/"
        },
        "id": "lbY5fb5JrXWD",
        "outputId": "48bd2fed-eddb-4fe5-f08e-5843b606503a"
      },
      "execution_count": 154,
      "outputs": [
        {
          "output_type": "stream",
          "name": "stdout",
          "text": [
            "tf.Tensor(\n",
            "[[[ 0.02351452  0.01181041 -0.0223457  -0.03262763  0.02467524]\n",
            "  [ 0.02274228  0.03396581  0.03043461  0.02369888 -0.04639563]\n",
            "  [ 0.02553386  0.0475243  -0.00575069  0.01772735 -0.01268941]\n",
            "  ...\n",
            "  [ 0.03090439  0.0265109  -0.01466193 -0.03283966  0.01560792]\n",
            "  [-0.04977464  0.01053714 -0.01886611 -0.02131858  0.00173368]\n",
            "  [ 0.00449036  0.01889614 -0.04655236  0.02074386 -0.02025087]]\n",
            "\n",
            " [[-0.0014631   0.00789821  0.02202619 -0.03124745  0.03601005]\n",
            "  [ 0.02576286 -0.00356697  0.02950486 -0.03276767 -0.00119019]\n",
            "  [-0.02541669 -0.01623105  0.00482553  0.04667506  0.01265969]\n",
            "  ...\n",
            "  [-0.04190223 -0.0494486   0.0198017  -0.00044524  0.04443849]\n",
            "  [ 0.00740026  0.03126912 -0.00874796  0.01894811 -0.01701957]\n",
            "  [-0.03228035  0.02263052  0.00750409 -0.03494736 -0.0432862 ]]\n",
            "\n",
            " [[-0.00154823  0.04589542 -0.00139439 -0.00759603 -0.02058682]\n",
            "  [ 0.02091957  0.04392303  0.00240088  0.03931731  0.04394276]\n",
            "  [-0.0377299  -0.03902338 -0.01707947  0.00743265  0.02645748]\n",
            "  ...\n",
            "  [-0.00095741 -0.0002439  -0.02266985  0.03442415 -0.01093312]\n",
            "  [-0.00095741 -0.0002439  -0.02266985  0.03442415 -0.01093312]\n",
            "  [-0.00095741 -0.0002439  -0.02266985  0.03442415 -0.01093312]]\n",
            "\n",
            " ...\n",
            "\n",
            " [[-0.0377299  -0.03902338 -0.01707947  0.00743265  0.02645748]\n",
            "  [ 0.04038051 -0.04814634 -0.03053902  0.0234076  -0.03580133]\n",
            "  [-0.04548228  0.03381684  0.01373675 -0.04276714  0.03138519]\n",
            "  ...\n",
            "  [-0.03181322  0.02134699 -0.03921964  0.0133987  -0.0425239 ]\n",
            "  [-0.00416001 -0.00341885 -0.0334262  -0.00888534 -0.01159335]\n",
            "  [ 0.04038051 -0.04814634 -0.03053902  0.0234076  -0.03580133]]\n",
            "\n",
            " [[-0.04696654 -0.0409805  -0.00444511  0.00446774 -0.00770431]\n",
            "  [ 0.03077907  0.04933998  0.0352756  -0.03433894 -0.0459174 ]\n",
            "  [-0.04375393  0.03989742 -0.02760304 -0.04620976 -0.04750177]\n",
            "  ...\n",
            "  [ 0.02209497 -0.0249207   0.0236685  -0.01291112  0.00066557]\n",
            "  [ 0.03148386 -0.03596997  0.02690331 -0.02664351 -0.03346758]\n",
            "  [ 0.04954651  0.04813245  0.04173261 -0.03526875 -0.00331414]]\n",
            "\n",
            " [[-0.00944794  0.02740976 -0.01167432 -0.0148368   0.01870019]\n",
            "  [ 0.03077907  0.04933998  0.0352756  -0.03433894 -0.0459174 ]\n",
            "  [-0.02026095 -0.03285954  0.0321896  -0.02482548 -0.03606535]\n",
            "  ...\n",
            "  [-0.02069123 -0.03777708 -0.03465624 -0.02577428  0.02570058]\n",
            "  [ 0.03077907  0.04933998  0.0352756  -0.03433894 -0.0459174 ]\n",
            "  [-0.00095741 -0.0002439  -0.02266985  0.03442415 -0.01093312]]], shape=(146182, 10, 5), dtype=float32)\n"
          ]
        }
      ]
    },
    {
      "cell_type": "code",
      "source": [
        "model = tf.keras.Sequential()\n",
        "model.add(tf.keras.layers.Embedding(vocab_size, word_vector_dim, input_shape=(None,)))\n",
        "model.add(tf.keras.layers.GlobalMaxPooling1D())\n",
        "model.add(tf.keras.layers.Dense(8, activation='relu'))\n",
        "model.add(tf.keras.layers.Dense(1, activation='sigmoid')) \n",
        "model.summary()"
      ],
      "metadata": {
        "colab": {
          "base_uri": "https://localhost:8080/"
        },
        "id": "Yjxk7m6creP5",
        "outputId": "678bf09b-72d0-44b8-a1be-fd8b61000ba7"
      },
      "execution_count": 155,
      "outputs": [
        {
          "output_type": "stream",
          "name": "stdout",
          "text": [
            "Model: \"sequential_9\"\n",
            "_________________________________________________________________\n",
            " Layer (type)                Output Shape              Param #   \n",
            "=================================================================\n",
            " embedding_16 (Embedding)    (None, None, 5)           50000     \n",
            "                                                                 \n",
            " global_max_pooling1d_7 (Glo  (None, 5)                0         \n",
            " balMaxPooling1D)                                                \n",
            "                                                                 \n",
            " dense_18 (Dense)            (None, 8)                 48        \n",
            "                                                                 \n",
            " dense_19 (Dense)            (None, 1)                 9         \n",
            "                                                                 \n",
            "=================================================================\n",
            "Total params: 50,057\n",
            "Trainable params: 50,057\n",
            "Non-trainable params: 0\n",
            "_________________________________________________________________\n"
          ]
        }
      ]
    },
    {
      "cell_type": "code",
      "source": [
        "model.compile(optimizer='adam', \n",
        "              loss='binary_crossentropy',\n",
        "              metrics=['accuracy'])\n",
        "              \n",
        "epochs=20\n",
        "\n",
        "history = model.fit(partial_X_train_manxlen,\n",
        "                    partial_y_train,\n",
        "                    epochs=epochs,\n",
        "                    batch_size=512,\n",
        "                    validation_data=(X_val, y_val),\n",
        "                    verbose=1)"
      ],
      "metadata": {
        "colab": {
          "base_uri": "https://localhost:8080/"
        },
        "id": "MeIUECrSrmlj",
        "outputId": "262c9a9b-4c6f-4dfb-9bed-0c242a800694"
      },
      "execution_count": 156,
      "outputs": [
        {
          "output_type": "stream",
          "name": "stdout",
          "text": [
            "Epoch 1/20\n",
            "188/188 [==============================] - 1s 4ms/step - loss: 0.6648 - accuracy: 0.7012 - val_loss: 0.5964 - val_accuracy: 0.7550\n",
            "Epoch 2/20\n",
            "188/188 [==============================] - 1s 3ms/step - loss: 0.5144 - accuracy: 0.7803 - val_loss: 0.4611 - val_accuracy: 0.7903\n",
            "Epoch 3/20\n",
            "188/188 [==============================] - 1s 3ms/step - loss: 0.4203 - accuracy: 0.8160 - val_loss: 0.4235 - val_accuracy: 0.8068\n",
            "Epoch 4/20\n",
            "188/188 [==============================] - 1s 3ms/step - loss: 0.3844 - accuracy: 0.8329 - val_loss: 0.4130 - val_accuracy: 0.8124\n",
            "Epoch 5/20\n",
            "188/188 [==============================] - 1s 3ms/step - loss: 0.3632 - accuracy: 0.8432 - val_loss: 0.4104 - val_accuracy: 0.8137\n",
            "Epoch 6/20\n",
            "188/188 [==============================] - 1s 3ms/step - loss: 0.3477 - accuracy: 0.8505 - val_loss: 0.4115 - val_accuracy: 0.8150\n",
            "Epoch 7/20\n",
            "188/188 [==============================] - 1s 3ms/step - loss: 0.3356 - accuracy: 0.8568 - val_loss: 0.4146 - val_accuracy: 0.8150\n",
            "Epoch 8/20\n",
            "188/188 [==============================] - 1s 3ms/step - loss: 0.3259 - accuracy: 0.8608 - val_loss: 0.4195 - val_accuracy: 0.8142\n",
            "Epoch 9/20\n",
            "188/188 [==============================] - 1s 3ms/step - loss: 0.3179 - accuracy: 0.8646 - val_loss: 0.4243 - val_accuracy: 0.8136\n",
            "Epoch 10/20\n",
            "188/188 [==============================] - 1s 3ms/step - loss: 0.3111 - accuracy: 0.8678 - val_loss: 0.4295 - val_accuracy: 0.8125\n",
            "Epoch 11/20\n",
            "188/188 [==============================] - 1s 3ms/step - loss: 0.3055 - accuracy: 0.8710 - val_loss: 0.4351 - val_accuracy: 0.8120\n",
            "Epoch 12/20\n",
            "188/188 [==============================] - 1s 3ms/step - loss: 0.3005 - accuracy: 0.8733 - val_loss: 0.4410 - val_accuracy: 0.8110\n",
            "Epoch 13/20\n",
            "188/188 [==============================] - 1s 3ms/step - loss: 0.2962 - accuracy: 0.8749 - val_loss: 0.4470 - val_accuracy: 0.8096\n",
            "Epoch 14/20\n",
            "188/188 [==============================] - 1s 3ms/step - loss: 0.2926 - accuracy: 0.8768 - val_loss: 0.4528 - val_accuracy: 0.8091\n",
            "Epoch 15/20\n",
            "188/188 [==============================] - 1s 3ms/step - loss: 0.2894 - accuracy: 0.8778 - val_loss: 0.4587 - val_accuracy: 0.8081\n",
            "Epoch 16/20\n",
            "188/188 [==============================] - 1s 3ms/step - loss: 0.2865 - accuracy: 0.8797 - val_loss: 0.4636 - val_accuracy: 0.8068\n",
            "Epoch 17/20\n",
            "188/188 [==============================] - 1s 3ms/step - loss: 0.2839 - accuracy: 0.8811 - val_loss: 0.4692 - val_accuracy: 0.8064\n",
            "Epoch 18/20\n",
            "188/188 [==============================] - 1s 3ms/step - loss: 0.2816 - accuracy: 0.8813 - val_loss: 0.4738 - val_accuracy: 0.8057\n",
            "Epoch 19/20\n",
            "188/188 [==============================] - 1s 3ms/step - loss: 0.2795 - accuracy: 0.8822 - val_loss: 0.4795 - val_accuracy: 0.8048\n",
            "Epoch 20/20\n",
            "188/188 [==============================] - 1s 3ms/step - loss: 0.2776 - accuracy: 0.8834 - val_loss: 0.4832 - val_accuracy: 0.8042\n"
          ]
        }
      ]
    },
    {
      "cell_type": "code",
      "source": [
        "results = model.evaluate(X_test_maxlen,  y_test, verbose=2)\n",
        "print(results)"
      ],
      "metadata": {
        "colab": {
          "base_uri": "https://localhost:8080/"
        },
        "id": "bkdBak9LrtuA",
        "outputId": "4395cf8d-00d9-4485-ea4e-f9e2cdc7b0b8"
      },
      "execution_count": 157,
      "outputs": [
        {
          "output_type": "stream",
          "name": "stdout",
          "text": [
            "1537/1537 - 1s - loss: 0.4828 - accuracy: 0.8046 - 1s/epoch - 746us/step\n",
            "[0.4828299582004547, 0.804585337638855]\n"
          ]
        }
      ]
    },
    {
      "cell_type": "code",
      "source": [
        "history_dict = history.history\n",
        "acc = history_dict['accuracy']\n",
        "val_acc = history_dict['val_accuracy']\n",
        "loss = history_dict['loss']\n",
        "val_loss = history_dict['val_loss']\n",
        "epochs = range(1, len(acc) + 1)\n",
        "# \"bo\"는 \"파란색 점\"\n",
        "plt.plot(epochs, loss, 'bo', label='Training loss')\n",
        "# b는 \"파란 실선\"\n",
        "plt.plot(epochs, val_loss, 'b', label='Validation loss')\n",
        "plt.title('Training and validation loss')\n",
        "plt.xlabel('Epochs')\n",
        "plt.ylabel('Loss')\n",
        "plt.legend()\n",
        "plt.show()"
      ],
      "metadata": {
        "colab": {
          "base_uri": "https://localhost:8080/",
          "height": 295
        },
        "id": "q0_2JJq1rzIL",
        "outputId": "f3722731-bfa9-4984-c545-00d6fab409fe"
      },
      "execution_count": 158,
      "outputs": [
        {
          "output_type": "display_data",
          "data": {
            "text/plain": [
              "<Figure size 432x288 with 1 Axes>"
            ],
            "image/png": "[encoded data removed]"
          },
          "metadata": {
            "needs_background": "light"
          }
        }
      ]
    },
    {
      "cell_type": "code",
      "source": [
        "plt.plot(epochs, acc, 'bo', label='Training acc')\n",
        "plt.plot(epochs, val_acc, 'b', label='Validation acc')\n",
        "plt.title('Training and validation accuracy')\n",
        "plt.xlabel('Epochs')\n",
        "plt.ylabel('Accuracy')\n",
        "plt.legend()\n",
        "plt.show()"
      ],
      "metadata": {
        "colab": {
          "base_uri": "https://localhost:8080/",
          "height": 295
        },
        "id": "EgKXlM35r0n1",
        "outputId": "de9bd9aa-ee5e-4e72-be2a-4a6502f518c0"
      },
      "execution_count": 159,
      "outputs": [
        {
          "output_type": "display_data",
          "data": {
            "text/plain": [
              "<Figure size 432x288 with 1 Axes>"
            ],
            "image/png": "[encoded data removed]"
          },
          "metadata": {
            "needs_background": "light"
          }
        }
      ]
    },
    {
      "cell_type": "markdown",
      "source": [
        "#4 gensim을 이용한 임베딩 레이어 비교"
      ],
      "metadata": {
        "id": "UAFr_Ehur_8c"
      }
    },
    {
      "cell_type": "code",
      "source": [
        "\n",
        "embedding_layer = model.layers[0]\n",
        "weights = embedding_layer.get_weights()[0]\n",
        "print(weights.shape)    # shape: (vocab_size, embedding_dim교"
      ],
      "metadata": {
        "colab": {
          "base_uri": "https://localhost:8080/"
        },
        "id": "qAz2Hoymr_W6",
        "outputId": "72ff6b89-0c20-4f51-f66e-272a09cd226f"
      },
      "execution_count": 199,
      "outputs": [
        {
          "output_type": "stream",
          "name": "stdout",
          "text": [
            "(10000, 5)\n"
          ]
        }
      ]
    },
    {
      "cell_type": "code",
      "source": [
        "# 학습한 Embedding 파라미터를 파일에 써서 저장\n",
        "word2vec_file_path = '/content/data/word2vec.txt'\n",
        "f = open(word2vec_file_path, 'w', encoding='utf8')\n",
        "f.write('{} {}\\n'.format(vocab_size-4, word_vector_dim))"
      ],
      "metadata": {
        "colab": {
          "base_uri": "https://localhost:8080/"
        },
        "id": "O3v8TF97tT9y",
        "outputId": "59eb7f21-ec3c-4b98-e5a5-80c37a32577b"
      },
      "execution_count": 200,
      "outputs": [
        {
          "output_type": "execute_result",
          "data": {
            "text/plain": [
              "7"
            ]
          },
          "metadata": {},
          "execution_count": 200
        }
      ]
    },
    {
      "cell_type": "code",
      "source": [
        "# 단어 개수(에서 특수문자 4개는 제외하고)만큼의 워드 벡터를 파일에 기록\n",
        "vectors = model.get_weights()[0]\n",
        "for i in range(4,vocab_size):\n",
        "    f.write('{} {}\\n'.format(index_to_word[i], ' '.join(map(str, list(vectors[i, :])))))\n",
        "f.close()"
      ],
      "metadata": {
        "id": "jA83YwRytpus"
      },
      "execution_count": 201,
      "outputs": []
    },
    {
      "cell_type": "code",
      "source": [
        "from gensim.models.keyedvectors import Word2VecKeyedVectors\n",
        "\n",
        "word_vectors = Word2VecKeyedVectors.load_word2vec_format(word2vec_file_path, binary=False)\n",
        "vector = word_vectors['컴퓨터']\n",
        "vector"
      ],
      "metadata": {
        "colab": {
          "base_uri": "https://localhost:8080/"
        },
        "id": "kX8SjnVGt2qU",
        "outputId": "291fc4a0-cea8-4ceb-d839-16291628f288"
      },
      "execution_count": 202,
      "outputs": [
        {
          "output_type": "execute_result",
          "data": {
            "text/plain": [
              "array([ 0.15653437, -0.21908972, -0.08284663, -0.20972656,  0.01725782],\n",
              "      dtype=float32)"
            ]
          },
          "metadata": {},
          "execution_count": 202
        }
      ]
    },
    {
      "cell_type": "code",
      "source": [
        "# gensim 평가: 유사도 확인\n",
        "word_vectors.similar_by_word(\"재미\")"
      ],
      "metadata": {
        "colab": {
          "base_uri": "https://localhost:8080/"
        },
        "id": "tP3b3CvYuF3J",
        "outputId": "a1853aae-374a-4902-c4cc-c5690bf010dc"
      },
      "execution_count": 203,
      "outputs": [
        {
          "output_type": "execute_result",
          "data": {
            "text/plain": [
              "[('의미', 0.9941054582595825),\n",
              " ('발랄', 0.9925529360771179),\n",
              " ('찌꺼기', 0.9898647665977478),\n",
              " ('돌아왔', 0.9894179105758667),\n",
              " ('이게', 0.9893652200698853),\n",
              " ('풀', 0.9864339828491211),\n",
              " ('밀려온다', 0.9863560795783997),\n",
              " ('.....', 0.984539270401001),\n",
              " ('왕조현', 0.9822125434875488),\n",
              " ('노아', 0.9819349646568298)]"
            ]
          },
          "metadata": {},
          "execution_count": 203
        }
      ]
    },
    {
      "cell_type": "code",
      "source": [
        "from gensim.models import KeyedVectors\n",
        "\n",
        "word2vec_path = '/content/data/kor.bin'\n",
        "# word2vec = KeyedVectors.load_word2vec_format(word2vec_path, binary=True, limit=1000000)\n",
        "w2v_model = gensim.models.Word2Vec.load(word2vec_path)\n",
        "kv_model  = w2v_model.wv\n",
        "# vector = word2vec['컴퓨터']\n",
        "vector = kv_model['컴퓨터']\n",
        "vector"
      ],
      "metadata": {
        "colab": {
          "base_uri": "https://localhost:8080/"
        },
        "id": "OVaEJuXOuQaX",
        "outputId": "416f0477-f1bf-4e9c-80c6-d1709f147df2"
      },
      "execution_count": 210,
      "outputs": [
        {
          "output_type": "execute_result",
          "data": {
            "text/plain": [
              "array([-1.517628  , -0.8935504 , -1.4352998 ,  1.5069847 , -1.5178334 ,\n",
              "        1.1542678 , -2.94064   ,  1.1850045 ,  0.19959009, -1.5288961 ,\n",
              "       -1.7067502 , -2.1892095 , -0.20728938, -2.2606812 , -2.2283888 ,\n",
              "        0.32318738, -0.2845471 , -0.07731772, -0.86269003, -1.1722927 ,\n",
              "       -0.91062415,  0.8440715 ,  0.903278  , -0.84685427,  0.7023384 ,\n",
              "       -2.1920419 , -0.47571626, -0.60159504, -0.68860835,  0.18944737,\n",
              "        0.5319404 ,  0.73058116, -0.9658133 , -1.0123725 , -0.36183038,\n",
              "        2.5851305 ,  0.66589296, -1.7231252 ,  1.7576753 ,  0.88845277,\n",
              "        1.5791365 , -4.430691  ,  0.36731872,  0.69481534, -0.46041563,\n",
              "        1.742655  , -1.5077016 ,  0.72209424, -0.04532204, -0.6557301 ,\n",
              "       -0.71276623,  0.26522732, -0.17656395, -2.4720876 , -0.845565  ,\n",
              "        0.23591152,  1.3414925 ,  0.77577615, -2.289371  , -0.8078124 ,\n",
              "        1.4359473 ,  0.22882733, -1.08867   ,  1.2607764 , -1.7469797 ,\n",
              "        0.06542054,  0.39896825, -0.3160832 , -1.7257563 ,  0.54638785,\n",
              "       -0.31753907, -0.48656994, -0.8225613 , -0.573065  ,  0.13175343,\n",
              "       -0.3924169 ,  0.55588305, -1.0773534 ,  0.55159163,  0.1352609 ,\n",
              "        0.88245326, -1.0127378 ,  0.14704451, -0.5254349 , -3.401769  ,\n",
              "       -0.42525592,  2.0031376 ,  0.36679608, -1.0043006 ,  1.3084906 ,\n",
              "        0.66252464, -0.48564675,  1.1390634 , -0.61399025, -0.50669813,\n",
              "        2.984564  ,  1.126494  ,  0.68590933, -0.2439008 , -1.317931  ,\n",
              "        0.826134  , -0.3985872 ,  0.509279  , -2.7423162 ,  2.1723568 ,\n",
              "        0.02191449, -0.16062206, -0.14502135, -0.32332814, -1.7890338 ,\n",
              "        1.8245052 , -1.3794106 ,  0.4879299 , -1.4982558 , -1.2389678 ,\n",
              "        1.1795257 , -1.54579   ,  0.07694028,  0.44653377,  0.27894926,\n",
              "       -1.9621123 ,  0.6149733 , -0.41162157, -1.0487087 , -1.7935017 ,\n",
              "        0.31845954,  0.14684801, -0.49587062,  1.6319822 ,  0.39944446,\n",
              "        0.434382  , -1.1794649 , -2.5206347 ,  0.6408292 , -0.62896025,\n",
              "        1.9872422 ,  1.2521076 , -0.21406372,  1.6773093 , -1.6608806 ,\n",
              "       -0.33801398, -0.88510543,  0.1943094 , -1.7670768 , -0.39440864,\n",
              "        1.5270631 , -1.1952105 , -0.60033166,  1.0510954 , -1.4626403 ,\n",
              "       -1.517039  ,  0.59476143,  0.36977595, -1.4121546 , -0.21997249,\n",
              "       -1.0658429 , -0.17150132,  0.8064618 ,  0.5093993 , -0.74832773,\n",
              "        1.2333933 , -1.9864655 , -0.8474578 , -1.1405545 , -3.6550071 ,\n",
              "       -1.556984  ,  1.8270527 ,  1.3725282 , -1.2329742 , -0.09723412,\n",
              "        0.34405386,  0.11565362, -0.9567215 ,  1.4773479 ,  2.169166  ,\n",
              "       -0.26613593, -1.4810696 ,  3.1457973 , -0.4415616 , -1.1940637 ,\n",
              "       -0.09637992, -0.05768079,  0.6716703 , -0.21914895,  0.56199044,\n",
              "       -1.129858  , -0.7972026 ,  0.73576796,  0.22356483,  0.9140782 ,\n",
              "       -1.4168789 ,  0.15810002, -0.79947495, -1.0691265 ,  1.4587201 ,\n",
              "       -0.5216996 ,  1.1812991 ,  0.37763026,  1.3513768 , -0.4241938 ],\n",
              "      dtype=float32)"
            ]
          },
          "metadata": {},
          "execution_count": 210
        }
      ]
    },
    {
      "cell_type": "code",
      "source": [
        "# 유사도\n",
        "# word2vec.similar_by_word(\"재미\")\n",
        "kv_model.similar_by_word(\"재미\")"
      ],
      "metadata": {
        "colab": {
          "base_uri": "https://localhost:8080/"
        },
        "id": "Sd7ANHRewDST",
        "outputId": "d7f6c614-7d17-488d-be09-175de50bdd53"
      },
      "execution_count": 226,
      "outputs": [
        {
          "output_type": "execute_result",
          "data": {
            "text/plain": [
              "[('취미', 0.5857348442077637),\n",
              " ('유머', 0.5140613913536072),\n",
              " ('매력', 0.5105490684509277),\n",
              " ('흥미', 0.4988338351249695),\n",
              " ('공짜', 0.4960595667362213),\n",
              " ('일자리', 0.49294644594192505),\n",
              " ('즐거움', 0.48700767755508423),\n",
              " ('비애', 0.4836210310459137),\n",
              " ('관객', 0.48286449909210205),\n",
              " ('향수', 0.4823310971260071)]"
            ]
          },
          "metadata": {},
          "execution_count": 226
        }
      ]
    },
    {
      "cell_type": "markdown",
      "source": [
        "* 사전학습된 임베딩레이어에서의 유사도가 보다 좋아 보인다.\n",
        "\n",
        "* 자체학습 임베딩레이어에서 '재미'의 유사도 <br>\n",
        "[('의미', 0.9941054582595825),\n",
        " ('발랄', 0.9925529360771179),\n",
        " ('찌꺼기', 0.9898647665977478),\n",
        " ('돌아왔', 0.9894179105758667),\n",
        " ('이게', 0.9893652200698853),\n",
        " ('풀', 0.9864339828491211),\n",
        " ('밀려온다', 0.9863560795783997),\n",
        " ('.....', 0.984539270401001),\n",
        " ('왕조현', 0.9822125434875488),\n",
        " ('노아', 0.9819349646568298)]\n",
        "\n",
        "* 사전학습된 임베딩레이어에서 '재미'의 유사도 <br>\n",
        " [('취미', 0.5857348442077637),\n",
        " ('유머', 0.5140613913536072),\n",
        " ('매력', 0.5105490684509277),\n",
        " ('흥미', 0.4988338351249695),\n",
        " ('공짜', 0.4960595667362213),\n",
        " ('일자리', 0.49294644594192505),\n",
        " ('즐거움', 0.48700767755508423),\n",
        " ('비애', 0.4836210310459137),\n",
        " ('관객', 0.48286449909210205),\n",
        " ('향수', 0.4823310971260071)]\n",
        "\n"
      ],
      "metadata": {
        "id": "34ZVX05M__FH"
      }
    },
    {
      "cell_type": "markdown",
      "source": [
        "#5 한국어 Word2vec 적용"
      ],
      "metadata": {
        "id": "kxbmBo4dtYwV"
      }
    },
    {
      "cell_type": "code",
      "source": [
        "vocab_size = 10000\n",
        "word_vector_dim = 200\n",
        "embedding_matrix = np.random.rand(vocab_size, word_vector_dim)\n",
        "\n",
        "# embedding_matrix에 Word2Vec 워드 벡터를 단어 하나씩마다 차례차례 카피한다.\n",
        "for i in range(4,vocab_size):\n",
        "    if index_to_word[i] in kv_model:\n",
        "        embedding_matrix[i] = kv_model[index_to_word[i]]"
      ],
      "metadata": {
        "id": "yKd32b7ZAo99"
      },
      "execution_count": 231,
      "outputs": []
    },
    {
      "cell_type": "code",
      "source": [
        "from tensorflow.keras.initializers import Constant\n",
        "\n",
        "vocab_size = 10000 \n",
        "word_vector_dim = 200\n",
        "\n",
        "model = tf.keras.Sequential()\n",
        "model.add(tf.keras.layers.Embedding(vocab_size, word_vector_dim, input_shape=(None,)))\n",
        "model.add(tf.keras.layers.Conv1D(8, 3, activation='relu'))\n",
        "model.add(tf.keras.layers.MaxPooling1D(2))\n",
        "model.add(tf.keras.layers.Conv1D(8, 3, activation='relu'))\n",
        "model.add(tf.keras.layers.GlobalMaxPooling1D())\n",
        "model.add(tf.keras.layers.Dense(4, activation='relu'))\n",
        "model.add(tf.keras.layers.Dense(1, activation='sigmoid')) \n",
        "\n",
        "model.summary()"
      ],
      "metadata": {
        "colab": {
          "base_uri": "https://localhost:8080/"
        },
        "id": "iaCZ1F_WD3g3",
        "outputId": "0e26a602-019a-4fc5-f996-4af2dcf2a204"
      },
      "execution_count": 233,
      "outputs": [
        {
          "output_type": "stream",
          "name": "stdout",
          "text": [
            "Model: \"sequential_11\"\n",
            "_________________________________________________________________\n",
            " Layer (type)                Output Shape              Param #   \n",
            "=================================================================\n",
            " embedding_17 (Embedding)    (None, None, 200)         2000000   \n",
            "                                                                 \n",
            " conv1d_14 (Conv1D)          (None, None, 8)           4808      \n",
            "                                                                 \n",
            " max_pooling1d_7 (MaxPooling  (None, None, 8)          0         \n",
            " 1D)                                                             \n",
            "                                                                 \n",
            " conv1d_15 (Conv1D)          (None, None, 8)           200       \n",
            "                                                                 \n",
            " global_max_pooling1d_8 (Glo  (None, 8)                0         \n",
            " balMaxPooling1D)                                                \n",
            "                                                                 \n",
            " dense_20 (Dense)            (None, 4)                 36        \n",
            "                                                                 \n",
            " dense_21 (Dense)            (None, 1)                 5         \n",
            "                                                                 \n",
            "=================================================================\n",
            "Total params: 2,005,049\n",
            "Trainable params: 2,005,049\n",
            "Non-trainable params: 0\n",
            "_________________________________________________________________\n"
          ]
        }
      ]
    },
    {
      "cell_type": "code",
      "source": [
        "model.compile(optimizer='adam', \n",
        "              loss='binary_crossentropy',\n",
        "              metrics=['accuracy'])\n",
        "              \n",
        "epochs=20\n",
        "\n",
        "history = model.fit(partial_X_train_manxlen,\n",
        "                    partial_y_train,\n",
        "                    epochs=epochs,\n",
        "                    batch_size=512,\n",
        "                    validation_data=(X_val, y_val),\n",
        "                    verbose=1)"
      ],
      "metadata": {
        "colab": {
          "base_uri": "https://localhost:8080/"
        },
        "id": "jGsdvglSEN3a",
        "outputId": "f314f0e8-3b71-44f2-a186-38c03c9b8d89"
      },
      "execution_count": 235,
      "outputs": [
        {
          "output_type": "stream",
          "name": "stdout",
          "text": [
            "Epoch 1/20\n",
            "188/188 [==============================] - 8s 42ms/step - loss: 0.5472 - accuracy: 0.7190 - val_loss: 0.4268 - val_accuracy: 0.8084\n",
            "Epoch 2/20\n",
            "188/188 [==============================] - 8s 42ms/step - loss: 0.3853 - accuracy: 0.8320 - val_loss: 0.3975 - val_accuracy: 0.8200\n",
            "Epoch 3/20\n",
            "188/188 [==============================] - 8s 43ms/step - loss: 0.3366 - accuracy: 0.8579 - val_loss: 0.3971 - val_accuracy: 0.8222\n",
            "Epoch 4/20\n",
            "188/188 [==============================] - 8s 43ms/step - loss: 0.2951 - accuracy: 0.8790 - val_loss: 0.4112 - val_accuracy: 0.8206\n",
            "Epoch 5/20\n",
            "188/188 [==============================] - 8s 43ms/step - loss: 0.2534 - accuracy: 0.8989 - val_loss: 0.4373 - val_accuracy: 0.8156\n",
            "Epoch 6/20\n",
            "188/188 [==============================] - 8s 43ms/step - loss: 0.2154 - accuracy: 0.9150 - val_loss: 0.4736 - val_accuracy: 0.8135\n",
            "Epoch 7/20\n",
            "188/188 [==============================] - 8s 43ms/step - loss: 0.1837 - accuracy: 0.9270 - val_loss: 0.5198 - val_accuracy: 0.8100\n",
            "Epoch 8/20\n",
            "188/188 [==============================] - 8s 43ms/step - loss: 0.1554 - accuracy: 0.9412 - val_loss: 0.5770 - val_accuracy: 0.8069\n",
            "Epoch 9/20\n",
            "188/188 [==============================] - 8s 43ms/step - loss: 0.1327 - accuracy: 0.9507 - val_loss: 0.6401 - val_accuracy: 0.8034\n",
            "Epoch 10/20\n",
            "188/188 [==============================] - 8s 43ms/step - loss: 0.1164 - accuracy: 0.9572 - val_loss: 0.6938 - val_accuracy: 0.7984\n",
            "Epoch 11/20\n",
            "188/188 [==============================] - 8s 43ms/step - loss: 0.1022 - accuracy: 0.9638 - val_loss: 0.7542 - val_accuracy: 0.7981\n",
            "Epoch 12/20\n",
            "188/188 [==============================] - 8s 43ms/step - loss: 0.0901 - accuracy: 0.9679 - val_loss: 0.7944 - val_accuracy: 0.7940\n",
            "Epoch 13/20\n",
            "188/188 [==============================] - 8s 44ms/step - loss: 0.0809 - accuracy: 0.9718 - val_loss: 0.8727 - val_accuracy: 0.7916\n",
            "Epoch 14/20\n",
            "188/188 [==============================] - 8s 43ms/step - loss: 0.0723 - accuracy: 0.9746 - val_loss: 0.9263 - val_accuracy: 0.7895\n",
            "Epoch 15/20\n",
            "188/188 [==============================] - 8s 42ms/step - loss: 0.0668 - accuracy: 0.9762 - val_loss: 0.9866 - val_accuracy: 0.7910\n",
            "Epoch 16/20\n",
            "188/188 [==============================] - 8s 42ms/step - loss: 0.0614 - accuracy: 0.9788 - val_loss: 1.0329 - val_accuracy: 0.7882\n",
            "Epoch 17/20\n",
            "188/188 [==============================] - 8s 43ms/step - loss: 0.0555 - accuracy: 0.9814 - val_loss: 1.0901 - val_accuracy: 0.7878\n",
            "Epoch 18/20\n",
            "188/188 [==============================] - 8s 42ms/step - loss: 0.0511 - accuracy: 0.9827 - val_loss: 1.1457 - val_accuracy: 0.7867\n",
            "Epoch 19/20\n",
            "188/188 [==============================] - 8s 44ms/step - loss: 0.0473 - accuracy: 0.9837 - val_loss: 1.2199 - val_accuracy: 0.7851\n",
            "Epoch 20/20\n",
            "188/188 [==============================] - 8s 42ms/step - loss: 0.0443 - accuracy: 0.9844 - val_loss: 1.2676 - val_accuracy: 0.7826\n"
          ]
        }
      ]
    },
    {
      "cell_type": "code",
      "source": [
        "results = model.evaluate(X_test_maxlen,  y_test, verbose=2)\n",
        "print(results)"
      ],
      "metadata": {
        "colab": {
          "base_uri": "https://localhost:8080/"
        },
        "id": "Kwmvn-UxE5kZ",
        "outputId": "92ed5ffe-7f97-42f6-fe32-c0226d96ad3f"
      },
      "execution_count": 236,
      "outputs": [
        {
          "output_type": "stream",
          "name": "stdout",
          "text": [
            "1537/1537 - 2s - loss: 1.2742 - accuracy: 0.7840 - 2s/epoch - 1ms/step\n",
            "[1.2741719484329224, 0.7839778661727905]\n"
          ]
        }
      ]
    },
    {
      "cell_type": "code",
      "source": [
        "history_dict = history.history\n",
        "acc = history_dict['accuracy']\n",
        "val_acc = history_dict['val_accuracy']\n",
        "loss = history_dict['loss']\n",
        "val_loss = history_dict['val_loss']\n",
        "epochs = range(1, len(acc) + 1)\n",
        "# \"bo\"는 \"파란색 점\"\n",
        "plt.plot(epochs, loss, 'bo', label='Training loss')\n",
        "# b는 \"파란 실선\"\n",
        "plt.plot(epochs, val_loss, 'b', label='Validation loss')\n",
        "plt.title('Training and validation loss')\n",
        "plt.xlabel('Epochs')\n",
        "plt.ylabel('Loss')\n",
        "plt.legend()\n",
        "plt.show()"
      ],
      "metadata": {
        "colab": {
          "base_uri": "https://localhost:8080/",
          "height": 295
        },
        "id": "AqXr_473FMMN",
        "outputId": "dbc764f6-e89b-4d1d-eae3-f87f76b3b31b"
      },
      "execution_count": 237,
      "outputs": [
        {
          "output_type": "display_data",
          "data": {
            "text/plain": [
              "<Figure size 432x288 with 1 Axes>"
            ],
            "image/png": "[encoded data removed]"
          },
          "metadata": {
            "needs_background": "light"
          }
        }
      ]
    },
    {
      "cell_type": "code",
      "source": [
        "plt.plot(epochs, acc, 'bo', label='Training acc')\n",
        "plt.plot(epochs, val_acc, 'b', label='Validation acc')\n",
        "plt.title('Training and validation accuracy')\n",
        "plt.xlabel('Epochs')\n",
        "plt.ylabel('Accuracy')\n",
        "plt.legend()\n",
        "plt.show()"
      ],
      "metadata": {
        "colab": {
          "base_uri": "https://localhost:8080/",
          "height": 295
        },
        "id": "FPJbQAgcFPWr",
        "outputId": "22c473f7-eb1d-409b-d1bd-07c9d4684e53"
      },
      "execution_count": 238,
      "outputs": [
        {
          "output_type": "display_data",
          "data": {
            "text/plain": [
              "<Figure size 432x288 with 1 Axes>"
            ],
            "image/png": "[encoded data removed]"
          },
          "metadata": {
            "needs_background": "light"
          }
        }
      ]
    },
    {
      "cell_type": "markdown",
      "source": [
        "#6 회고"
      ],
      "metadata": {
        "id": "5Rhe7IIpsHcL"
      }
    },
    {
      "cell_type": "markdown",
      "source": [
        "* 모델 RNN, 1D CNN, GlobalMaxPooling1D의 경우, accuracy기준으로 GlobalMaxPooling1D가 조금 낮았지만, 예상보다 좋은 결과가 나와서 놀랐다.\n",
        "* 당연한 것이지만, 하이퍼파라미터에 따라 모델의 성능이 좌우되므로, 충분한 추가 시험을 못한것이 아쉬웠었다.\n",
        "* gensim을 활용하여, 사전학습된 임베딩레이어랑 비교시, 사전학습된 것이 더 좋은 결과를 보였다. 확실히, word에 대한 vector표현이 풍부한 걸 느낄 수 있었다.\n",
        "* word2vec을 적용한 결과, 꼭 성능이 좋지 않았는데, 이는 word2vec를 적용하는 과정에서 vocab size와 word vecor dim.을 통일하는 과정에서, 적절치 않은 하이퍼파라미터가 적용되었기 때문인 듯하다."
      ],
      "metadata": {
        "id": "__5zPRbfsKt6"
      }
    }
  ],
  "nbformat": 4,
  "nbformat_minor": 0,
  "metadata": {
    "language_info": {
      "name": "python"
    },
    "orig_nbformat": 4,
    "colab": {
      "name": "ExplNode09.ipynb",
      "provenance": [],
      "collapsed_sections": [],
      "toc_visible": true,
      "machine_shape": "hm",
      "include_colab_link": true
    },
    "kernelspec": {
      "name": "python3",
      "display_name": "Python 3"
    },
    "accelerator": "TPU"
  }
}
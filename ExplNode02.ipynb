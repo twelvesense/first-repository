{
  "nbformat": 4,
  "nbformat_minor": 0,
  "metadata": {
    "colab": {
      "name": "ExplNode02.ipynb",
      "provenance": [],
      "collapsed_sections": [],
      "authorship_tag": "ABX9TyNJkB7Nw/jYa4BTzT/uStlW",
      "include_colab_link": true
    },
    "kernelspec": {
      "name": "python3",
      "display_name": "Python 3"
    },
    "language_info": {
      "name": "python"
    }
  },
  "cells": [
    {
      "cell_type": "markdown",
      "metadata": {
        "id": "view-in-github",
        "colab_type": "text"
      },
      "source": [
        "<a href=\"https://colab.research.google.com/github/twelvesense/first-repository/blob/master/ExplNode02.ipynb\" target=\"_parent\"><img src=\"https://colab.research.google.com/assets/colab-badge.svg\" alt=\"Open In Colab\"/></a>"
      ]
    },
    {
      "cell_type": "markdown",
      "source": [
        "# 프로젝트 (1) 손수 설계하는 선형회귀, 당뇨병 수치를 맞춰보자!"
      ],
      "metadata": {
        "id": "RpOXqxwOy7Ng"
      }
    },
    {
      "cell_type": "code",
      "source": [
        "import os\n",
        "from turtle import shape\n",
        "import numpy as np\n",
        "import pandas as pd\n",
        "from sklearn.datasets import load_diabetes\n",
        "from sklearn.model_selection import train_test_split\n",
        "from sklearn.linear_model import LinearRegression\n",
        "from sklearn.metrics import mean_squared_error\n",
        "import matplotlib.pyplot as plt\n",
        "import seaborn as sns\n",
        "import warnings\n",
        "warnings.filterwarnings(\"ignore\")"
      ],
      "metadata": {
        "id": "8qKs0OAEy9Mg"
      },
      "execution_count": 50,
      "outputs": []
    },
    {
      "cell_type": "markdown",
      "source": [
        "## (1) 데이터 가져오기"
      ],
      "metadata": {
        "id": "2PORLxtay_eg"
      }
    },
    {
      "cell_type": "code",
      "source": [
        "diabetes=load_diabetes()\n",
        "print(diabetes['DESCR'])"
      ],
      "metadata": {
        "colab": {
          "base_uri": "https://localhost:8080/"
        },
        "id": "D5S1W3svzH7x",
        "outputId": "67b6b6e4-dc6e-4396-a42a-63e64bf5b9b9"
      },
      "execution_count": 51,
      "outputs": [
        {
          "output_type": "stream",
          "name": "stdout",
          "text": [
            ".. _diabetes_dataset:\n",
            "\n",
            "Diabetes dataset\n",
            "----------------\n",
            "\n",
            "Ten baseline variables, age, sex, body mass index, average blood\n",
            "pressure, and six blood serum measurements were obtained for each of n =\n",
            "442 diabetes patients, as well as the response of interest, a\n",
            "quantitative measure of disease progression one year after baseline.\n",
            "\n",
            "**Data Set Characteristics:**\n",
            "\n",
            "  :Number of Instances: 442\n",
            "\n",
            "  :Number of Attributes: First 10 columns are numeric predictive values\n",
            "\n",
            "  :Target: Column 11 is a quantitative measure of disease progression one year after baseline\n",
            "\n",
            "  :Attribute Information:\n",
            "      - age     age in years\n",
            "      - sex\n",
            "      - bmi     body mass index\n",
            "      - bp      average blood pressure\n",
            "      - s1      tc, total serum cholesterol\n",
            "      - s2      ldl, low-density lipoproteins\n",
            "      - s3      hdl, high-density lipoproteins\n",
            "      - s4      tch, total cholesterol / HDL\n",
            "      - s5      ltg, possibly log of serum triglycerides level\n",
            "      - s6      glu, blood sugar level\n",
            "\n",
            "Note: Each of these 10 feature variables have been mean centered and scaled by the standard deviation times `n_samples` (i.e. the sum of squares of each column totals 1).\n",
            "\n",
            "Source URL:\n",
            "https://www4.stat.ncsu.edu/~boos/var.select/diabetes.html\n",
            "\n",
            "For more information see:\n",
            "Bradley Efron, Trevor Hastie, Iain Johnstone and Robert Tibshirani (2004) \"Least Angle Regression,\" Annals of Statistics (with discussion), 407-499.\n",
            "(https://web.stanford.edu/~hastie/Papers/LARS/LeastAngle_2002.pdf)\n"
          ]
        }
      ]
    },
    {
      "cell_type": "code",
      "source": [
        "diabetes['data'].shape"
      ],
      "metadata": {
        "colab": {
          "base_uri": "https://localhost:8080/"
        },
        "id": "bJ9A8S_HzUVx",
        "outputId": "3b7cf24c-1699-4176-e483-9eab4018cebf"
      },
      "execution_count": 4,
      "outputs": [
        {
          "output_type": "execute_result",
          "data": {
            "text/plain": [
              "(442, 10)"
            ]
          },
          "metadata": {},
          "execution_count": 4
        }
      ]
    },
    {
      "cell_type": "code",
      "source": [
        "diabetes.keys()"
      ],
      "metadata": {
        "colab": {
          "base_uri": "https://localhost:8080/"
        },
        "id": "7SQeXrDUzZaZ",
        "outputId": "f0e8748d-fff6-41b4-9140-8990db63c39c"
      },
      "execution_count": 6,
      "outputs": [
        {
          "output_type": "execute_result",
          "data": {
            "text/plain": [
              "dict_keys(['data', 'target', 'frame', 'DESCR', 'feature_names', 'data_filename', 'target_filename', 'data_module'])"
            ]
          },
          "metadata": {},
          "execution_count": 6
        }
      ]
    },
    {
      "cell_type": "code",
      "source": [
        "diabetes['feature_names']"
      ],
      "metadata": {
        "colab": {
          "base_uri": "https://localhost:8080/"
        },
        "id": "Uo45_vyvzzow",
        "outputId": "c2edac51-6ec1-4bb4-edd3-42e507cb8477"
      },
      "execution_count": 7,
      "outputs": [
        {
          "output_type": "execute_result",
          "data": {
            "text/plain": [
              "['age', 'sex', 'bmi', 'bp', 's1', 's2', 's3', 's4', 's5', 's6']"
            ]
          },
          "metadata": {},
          "execution_count": 7
        }
      ]
    },
    {
      "cell_type": "code",
      "source": [
        "diabetes['data']"
      ],
      "metadata": {
        "colab": {
          "base_uri": "https://localhost:8080/"
        },
        "id": "WYknwg1Dz2Bx",
        "outputId": "b4b2db7f-a4ad-4228-999d-6a5f84abcae3"
      },
      "execution_count": 9,
      "outputs": [
        {
          "output_type": "execute_result",
          "data": {
            "text/plain": [
              "array([[ 0.03807591,  0.05068012,  0.06169621, ..., -0.00259226,\n",
              "         0.01990842, -0.01764613],\n",
              "       [-0.00188202, -0.04464164, -0.05147406, ..., -0.03949338,\n",
              "        -0.06832974, -0.09220405],\n",
              "       [ 0.08529891,  0.05068012,  0.04445121, ..., -0.00259226,\n",
              "         0.00286377, -0.02593034],\n",
              "       ...,\n",
              "       [ 0.04170844,  0.05068012, -0.01590626, ..., -0.01107952,\n",
              "        -0.04687948,  0.01549073],\n",
              "       [-0.04547248, -0.04464164,  0.03906215, ...,  0.02655962,\n",
              "         0.04452837, -0.02593034],\n",
              "       [-0.04547248, -0.04464164, -0.0730303 , ..., -0.03949338,\n",
              "        -0.00421986,  0.00306441]])"
            ]
          },
          "metadata": {},
          "execution_count": 9
        }
      ]
    },
    {
      "cell_type": "code",
      "source": [
        "df_X = pd.DataFrame(diabetes['data'], columns=diabetes['feature_names'])\n",
        "df_y = pd.Series(diabetes['target'])"
      ],
      "metadata": {
        "id": "zm60UvQLz30q"
      },
      "execution_count": 10,
      "outputs": []
    },
    {
      "cell_type": "code",
      "source": [
        "NUM_FEATURES = 10"
      ],
      "metadata": {
        "id": "HUnTfaDv0BQ5"
      },
      "execution_count": 11,
      "outputs": []
    },
    {
      "cell_type": "code",
      "source": [
        "## finding NaN\n",
        "board_NaN = ''\n",
        "if sum(np.isnan(df_X['age'])) != 0: board_NaN.append('age')\n",
        "if sum(np.isnan(df_X['sex'])) != 0: board_NaN.append('-sex')\n",
        "if sum(np.isnan(df_X['bmi'])) != 0: board_NaN.append('-bmi')\n",
        "if sum(np.isnan(df_X['bp']))  != 0: board_NaN.append('-bp')\n",
        "if sum(np.isnan(df_X['s1']))  != 0: board_NaN.append('-s1')\n",
        "if sum(np.isnan(df_X['s2']))  != 0: board_NaN.append('-s2')\n",
        "if sum(np.isnan(df_X['s3']))  != 0: board_NaN.append('-s3')\n",
        "if sum(np.isnan(df_X['s4']))  != 0: board_NaN.append('-s4')\n",
        "if sum(np.isnan(df_X['s5']))  != 0: board_NaN.append('-s5')\n",
        "if sum(np.isnan(df_X['s6']))  != 0: board_NaN.append('-s6')\n",
        "if sum(np.isnan(df_y))        != 0: board_NaN.append('-y')\n",
        "if board_NaN == '': \n",
        "  print(\"Nothing\")\n",
        "else:\n",
        "  print(board_NaN)"
      ],
      "metadata": {
        "colab": {
          "base_uri": "https://localhost:8080/"
        },
        "id": "Y0w4-9rW0NUx",
        "outputId": "95d2d0e8-c5b2-46ee-a07b-162dfeaaa9f7"
      },
      "execution_count": 14,
      "outputs": [
        {
          "output_type": "stream",
          "name": "stdout",
          "text": [
            "Nothing\n"
          ]
        }
      ]
    },
    {
      "cell_type": "code",
      "source": [
        "## finding outlier\n",
        "fig, axes= plt.subplots(3,4)\n",
        "plt.rcParams[\"figure.figsize\"] = (20, 10)\n",
        "sns.histplot(df_X['age'], ax=axes[0, 0])\n",
        "sns.histplot(df_X['sex'], ax=axes[0, 1])\n",
        "sns.histplot(df_X['bmi'], ax=axes[0, 2])\n",
        "sns.histplot(df_X['bp'], ax=axes[0, 3])\n",
        "sns.histplot(df_X['s1'], ax=axes[1, 0])\n",
        "sns.histplot(df_X['s2'], ax=axes[1, 1])\n",
        "sns.histplot(df_X['s3'], ax=axes[1, 2])\n",
        "sns.histplot(df_X['s4'], ax=axes[1, 3])\n",
        "sns.histplot(df_X['s5'], ax=axes[2, 0])\n",
        "sns.histplot(df_X['s6'], ax=axes[2, 1])\n",
        "sns.histplot(df_y, ax=axes[2, 3])\n",
        "fig.show()\n"
      ],
      "metadata": {
        "colab": {
          "base_uri": "https://localhost:8080/",
          "height": 380
        },
        "id": "VWNycCRn0kd5",
        "outputId": "c14a9f67-c6f8-44de-af03-0017f0ea8a52"
      },
      "execution_count": 22,
      "outputs": [
        {
          "output_type": "display_data",
          "data": {
            "text/plain": [
              "<Figure size 1440x720 with 12 Axes>"
            ],
            "image/png": "[encoded data removed]"
          },
          "metadata": {
            "needs_background": "light"
          }
        }
      ]
    },
    {
      "cell_type": "markdown",
      "source": [
        "## (2) 모델에 입력할 데이터 X 준비하기"
      ],
      "metadata": {
        "id": "D9_ha0hO5NfY"
      }
    },
    {
      "cell_type": "code",
      "source": [
        "X = np.array(df_X)          # X = df_X.to_numpy()\n",
        "X.shape"
      ],
      "metadata": {
        "colab": {
          "base_uri": "https://localhost:8080/"
        },
        "id": "1cqQid123cpC",
        "outputId": "e60f7b2f-ae2e-4fd8-e3f5-69319c58caa4"
      },
      "execution_count": 23,
      "outputs": [
        {
          "output_type": "execute_result",
          "data": {
            "text/plain": [
              "(442, 10)"
            ]
          },
          "metadata": {},
          "execution_count": 23
        }
      ]
    },
    {
      "cell_type": "markdown",
      "source": [
        "## (3) 모델에 입력할 데이터 y 준비하기"
      ],
      "metadata": {
        "id": "kAaQuTAK5SOD"
      }
    },
    {
      "cell_type": "code",
      "source": [
        "y = np.array(df_y)         # y = df_y.to_numpy()\n",
        "y.shape"
      ],
      "metadata": {
        "colab": {
          "base_uri": "https://localhost:8080/"
        },
        "id": "8R8d8CDp5Dc5",
        "outputId": "3efd630d-ac25-4721-eb9d-70eb61b86158"
      },
      "execution_count": 24,
      "outputs": [
        {
          "output_type": "execute_result",
          "data": {
            "text/plain": [
              "(442,)"
            ]
          },
          "metadata": {},
          "execution_count": 24
        }
      ]
    },
    {
      "cell_type": "markdown",
      "source": [
        "## (4) train 데이터와 test 데이터로 분리하기"
      ],
      "metadata": {
        "id": "VxLYux3J5e-Q"
      }
    },
    {
      "cell_type": "code",
      "source": [
        "X_train, X_test, y_train, y_test = train_test_split(X, y, test_size=0.2, random_state=12)\n",
        "X_train.shape, X_test.shape, y_train.shape, y_test.shape"
      ],
      "metadata": {
        "colab": {
          "base_uri": "https://localhost:8080/"
        },
        "id": "Fkks_PYP5LPb",
        "outputId": "29c45059-5333-412c-8ecd-fff909f326bb"
      },
      "execution_count": 27,
      "outputs": [
        {
          "output_type": "execute_result",
          "data": {
            "text/plain": [
              "((353, 10), (89, 10), (353,), (89,))"
            ]
          },
          "metadata": {},
          "execution_count": 27
        }
      ]
    },
    {
      "cell_type": "markdown",
      "source": [
        "## (5) 모델 준비하기"
      ],
      "metadata": {
        "id": "KhedRhb156-C"
      }
    },
    {
      "cell_type": "code",
      "source": [
        "def model(X, W, b):\n",
        "    predictions = 0\n",
        "    for i in range(NUM_FEATURES):\n",
        "        predictions += X[:, i] * W[i]\n",
        "    predictions += b\n",
        "    return predictions"
      ],
      "metadata": {
        "id": "6BL6B2JM5o9Z"
      },
      "execution_count": 30,
      "outputs": []
    },
    {
      "cell_type": "markdown",
      "source": [
        "## (6) 손실함수 및 loss 정의하기"
      ],
      "metadata": {
        "id": "9GBaR_065--4"
      }
    },
    {
      "cell_type": "code",
      "source": [
        "def MSE(a, b):\n",
        "    mse = ((a - b) ** 2).mean()\n",
        "    return mse"
      ],
      "metadata": {
        "id": "MfTvSM0l6A6Y"
      },
      "execution_count": 35,
      "outputs": []
    },
    {
      "cell_type": "code",
      "source": [
        "def loss(X, W, b, y):\n",
        "    predictions = model(X, W, b)\n",
        "    L = MSE(predictions, y)\n",
        "    return L"
      ],
      "metadata": {
        "id": "xB9UzXGV7E2g"
      },
      "execution_count": 36,
      "outputs": []
    },
    {
      "cell_type": "markdown",
      "source": [
        "## (7) 기울기를 구하는 gradient 함수 구현하기"
      ],
      "metadata": {
        "id": "DmjwVIsJ6EIP"
      }
    },
    {
      "cell_type": "code",
      "source": [
        "def gradient(X, W, b, y):\n",
        "    N = len(W)\n",
        "    y_pred = model(X, W, b)\n",
        "    dW = 1/N * 2 * X.T.dot(y_pred - y)\n",
        "    db = 2 * (y_pred - y).mean()\n",
        "    return dW, db"
      ],
      "metadata": {
        "id": "O6Gltz616MsY"
      },
      "execution_count": 32,
      "outputs": []
    },
    {
      "cell_type": "markdown",
      "source": [
        "## (8) 하이퍼 파라미터인 학습률 설정하기"
      ],
      "metadata": {
        "id": "m_wYRjeI6OyR"
      }
    },
    {
      "cell_type": "code",
      "source": [
        "LEARNING_RATE = 0.45             # the result of try and error"
      ],
      "metadata": {
        "id": "I3NGTPON6RNh"
      },
      "execution_count": 33,
      "outputs": []
    },
    {
      "cell_type": "markdown",
      "source": [
        "## (9) 모델 학습하기"
      ],
      "metadata": {
        "id": "644RdTuz6Uen"
      }
    },
    {
      "cell_type": "code",
      "source": [
        "## comparing features with the target\n",
        "\n",
        "# print(np.corrcoef(X.T[0], y))                   # 0.18788875,  age\n",
        "# print(np.corrcoef(X.T[1], y))                   # 0.043062,    sex\n",
        "# print(np.corrcoef(X.T[2], y))                   # 0.58645013,  bmi\n",
        "# print(np.corrcoef(X.T[3], y))                   # 0.44148385,  bp\n",
        "# print(np.corrcoef(X.T[4], y))                   # 0.21202248,  s1\n",
        "# print(np.corrcoef(X.T[5], y))                   # 0.17405359,  s2\n",
        "# print(np.corrcoef(X.T[6], y))                   # -0.39478925, s3\n",
        "# print(np.corrcoef(X.T[7], y))                   # 0.43045288,  s4\n",
        "# print(np.corrcoef(X.T[8], y))                   # 0.56588343,  s5\n",
        "# print(np.corrcoef(X.T[9], y))                   # 0.38248348,  s6\n",
        "\n",
        "X_train_del = np.delete(X_train, 6, 1)          # s3\n",
        "X_test_del = np.delete(X_test, 6, 1)            # s3\n",
        "NUM_FEATURES = 9"
      ],
      "metadata": {
        "id": "-1VBV5wx6blx"
      },
      "execution_count": 38,
      "outputs": []
    },
    {
      "cell_type": "code",
      "source": [
        "losses = []\n",
        "num_iterations = 10000\n",
        "\n",
        "W = np.random.rand(NUM_FEATURES)\n",
        "b = np.random.rand()\n",
        "\n",
        "for i in range(1, (num_iterations + 1)):\n",
        "    dW, db = gradient(X_train_del, W, b, y_train)\n",
        "    W -= LEARNING_RATE * dW\n",
        "    b -= LEARNING_RATE * db\n",
        "    L = loss(X_train_del, W, b, y_train)\n",
        "    losses.append(L)"
      ],
      "metadata": {
        "id": "SDv2-2q97WG4"
      },
      "execution_count": 39,
      "outputs": []
    },
    {
      "cell_type": "code",
      "source": [
        "plt.plot(losses)\n",
        "plt.show()    "
      ],
      "metadata": {
        "colab": {
          "base_uri": "https://localhost:8080/",
          "height": 372
        },
        "id": "HlLpLRQl6tmw",
        "outputId": "a70e341d-a87e-496d-c7d1-ee59b88e1c7b"
      },
      "execution_count": 41,
      "outputs": [
        {
          "output_type": "display_data",
          "data": {
            "text/plain": [
              "<Figure size 1440x720 with 1 Axes>"
            ],
            "image/png": "[encoded data removed]"
          },
          "metadata": {
            "needs_background": "light"
          }
        }
      ]
    },
    {
      "cell_type": "markdown",
      "source": [
        "## (10) test 데이터에 대한 성능 확인하기"
      ],
      "metadata": {
        "id": "YRVN9lnk7ihH"
      }
    },
    {
      "cell_type": "code",
      "source": [
        "prediction = model(X_test_del, W, b)\n",
        "mse = loss(X_test_del, W, b, y_test)\n",
        "print(mse)"
      ],
      "metadata": {
        "colab": {
          "base_uri": "https://localhost:8080/"
        },
        "id": "4t6CVJSu7mjs",
        "outputId": "6f4a0a5f-21c1-46fa-b860-584c9892001d"
      },
      "execution_count": 42,
      "outputs": [
        {
          "output_type": "stream",
          "name": "stdout",
          "text": [
            "3110.6662495496653\n"
          ]
        }
      ]
    },
    {
      "cell_type": "markdown",
      "source": [
        "## (11) 정답 데이터와 예측한 데이터 시각화하기"
      ],
      "metadata": {
        "id": "zl0wRzOA7p-a"
      }
    },
    {
      "cell_type": "code",
      "source": [
        "plt.scatter(X_test_del[:, 0], y_test, label=\"true\")\n",
        "plt.scatter(X_test_del[:, 0], prediction, label=\"pred\")\n",
        "plt.legend()\n",
        "plt.show()"
      ],
      "metadata": {
        "colab": {
          "base_uri": "https://localhost:8080/",
          "height": 612
        },
        "id": "n1cwZc7Q7r24",
        "outputId": "96360ba9-1dff-4f93-c8ff-e9b5be49ed58"
      },
      "execution_count": 43,
      "outputs": [
        {
          "output_type": "display_data",
          "data": {
            "text/plain": [
              "<Figure size 1440x720 with 1 Axes>"
            ],
            "image/png": "[encoded data removed]"
          },
          "metadata": {
            "needs_background": "light"
          }
        }
      ]
    },
    {
      "cell_type": "markdown",
      "source": [
        ">    "
      ],
      "metadata": {
        "id": "45Fh4bBX7257"
      }
    },
    {
      "cell_type": "markdown",
      "source": [
        ">    "
      ],
      "metadata": {
        "id": "1BlU8wOL8HQ5"
      }
    },
    {
      "cell_type": "markdown",
      "source": [
        ">    "
      ],
      "metadata": {
        "id": "VXkTNHKC8Hnf"
      }
    },
    {
      "cell_type": "markdown",
      "source": [
        ">    "
      ],
      "metadata": {
        "id": "YZI_edxu8Hzp"
      }
    },
    {
      "cell_type": "markdown",
      "source": [
        "\n",
        "\n",
        "\n",
        "\n",
        "\n",
        "\n",
        "\n",
        "\n",
        "\n",
        "\n",
        "\n",
        "# 프로젝트 2 : 날씨 좋은 월요일 오후 세 시, 자전거 타는 사람은 몇 명?"
      ],
      "metadata": {
        "id": "O9eU2_WV7t7w"
      }
    },
    {
      "cell_type": "markdown",
      "source": [
        "## (1) 데이터 가져오기"
      ],
      "metadata": {
        "id": "flCzPiOO8R-5"
      }
    },
    {
      "cell_type": "code",
      "source": [
        "# path_file = 'https://github.com/twelvesense/first-repository/blob/master/data/train.csv'\n",
        "# train = pd.read_csv(path_file)\n",
        "# train = pd.read_csv(\"https://github.com/twelvesense/first-repository/blob/master/data/train.csv\")\n",
        "# train = pd.read_csv('http://github.com/twelvesense/first-repository/blob/master/data/test.csv')\n",
        "# train = pd.read_csv('https://drive.google.com/drive/folders/1zpjPKWIyA65aZMbd9IUykFhosk-HCp5i/test.csv')\n",
        "\n",
        "#드라이브에 접근할 수 있도록 아래 코드 입력\n",
        "from google.colab import drive\n",
        "drive.mount('/content/drive')\n",
        "fiel = '/content/drive/MyDrive/Colab Notebooks/test.csv'\n",
        "train = pd.read_csv(fiel)\n",
        "type(train)"
      ],
      "metadata": {
        "colab": {
          "base_uri": "https://localhost:8080/"
        },
        "id": "f9-aRi1F8TDR",
        "outputId": "1356cbb4-7827-46c8-8726-fa1cee505abd"
      },
      "execution_count": 76,
      "outputs": [
        {
          "output_type": "stream",
          "name": "stdout",
          "text": [
            "Drive already mounted at /content/drive; to attempt to forcibly remount, call drive.mount(\"/content/drive\", force_remount=True).\n"
          ]
        },
        {
          "output_type": "execute_result",
          "data": {
            "text/plain": [
              "pandas.core.frame.DataFrame"
            ]
          },
          "metadata": {},
          "execution_count": 76
        }
      ]
    },
    {
      "cell_type": "code",
      "source": [
        "!ls"
      ],
      "metadata": {
        "colab": {
          "base_uri": "https://localhost:8080/"
        },
        "id": "in5ki-Il7z-R",
        "outputId": "8fbe3f5d-2d0f-4b4c-b45a-ef653d611f35"
      },
      "execution_count": 57,
      "outputs": [
        {
          "output_type": "stream",
          "name": "stdout",
          "text": [
            "sample_data\n"
          ]
        }
      ]
    }
  ]
}